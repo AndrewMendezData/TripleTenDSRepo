{
 "cells": [
  {
   "cell_type": "markdown",
   "metadata": {},
   "source": [
    "<div style=\"border: 5px solid purple; padding: 10px; margin: 5px\">\n",
    "  <b>Overall Summary of the Project – Final Approval</b><br><br>\n",
    "\n",
    "  Hi Andrew, I’m <b>Victor Camargo</b>!<br><br>\n",
    "\n",
    "  Thank you for carefully addressing all the comments from Svetlana in the previous iteration — excellent job implementing the requested fixes 👏.<br><br>\n",
    "\n",
    "  Your project now meets all the requirements, so I’m happy to let you know that it’s <b>approved ✅</b>.<br><br>\n",
    "\n",
    "  Congratulations on completing this step, and keep up the great work moving forward! 🎉\n",
    "</div>\n"
   ]
  },
  {
   "cell_type": "markdown",
   "metadata": {},
   "source": [
    "<div style=\"border: 5px solid purple; padding: 10px; margin: 5px\">\n",
    "<b>   Svetlana's comment  </b>\n",
    "      \n",
    "Hi Andrew, my name is Svetlana (https://hub.tripleten.com/u/6dee602c). Congratulations on submitting another project! 🎉 I will be using the standard the color marking:\n",
    "    \n",
    "   \n",
    "    \n",
    "<div style=\"border: 5px solid green; padding: 10px; margin: 5px\">\n",
    "\n",
    "Great solutions and ideas that can and should be used in the future are in green comments. Some of them are: \n",
    "    \n",
    "    \n",
    "- You have successfully prepared the subsets. It is important to split the data correctly in order to ensure there's no intersection;    \n",
    "\n",
    "    \n",
    "- Encoded cetegorical columns;    \n",
    "\n",
    "    \n",
    "- Trained and compared several models, great!\n",
    "\n",
    "    \n",
    "\n",
    "- Tuned hyperparameters. We tune them to identify the hyperparameters that will yield the desired metric value;\n",
    "\n",
    "\n",
    "- Analyzed metrics. It is not enough to just fit the model and print the result. Instead, we have to analyze the results as it helps us identify what can be improved;\n",
    "\n",
    "\n",
    "</div>\n",
    "    \n",
    "<div style=\"border: 5px solid gold; padding: 10px; margin: 5px\">\n",
    "<b> Reviewer's comment </b>\n",
    "\n",
    "Yellow color indicates what should be optimized. This is not necessary, but it will be great if you make changes to this project. I've left several recommendations throughout the project. Please take a look.\n",
    " \n",
    "</div>\n",
    "<div style=\"border: 5px solid red; padding: 10px; margin: 5px\">\n",
    "<b> Reviewer's comment </b>\n",
    "\n",
    "Issues that must be corrected to achieve accurate results are indicated in red comments. Please note that the project cannot be accepted until these issues are resolved. For instance,\n",
    "\n",
    "\n",
    "    \n",
    "- There are several columns that can also be dropped. Please consider removing them to reduce computational cost;\n",
    "    \n",
    "\n",
    "    \n",
    "- Check the data for the duplicates after you drop columns. If a dropped column contained unique values (ID or timestamp), removing it may make multiple rows appear the same;\n",
    "\n",
    "\n",
    "\n",
    "- Please explore distributions. Are there any outliers?\n",
    "\n",
    "    \n",
    "    \n",
    "- According to the task, we are supposed to measure models' training and prediction speed. Would you please measure them separately for each model?\n",
    "\n",
    "\n",
    "    \n",
    "      \n",
    "- Please don't use validation subset until the final test for the reason I stated in one of my comments;\n",
    "\n",
    "    \n",
    "    \n",
    "- In the very end of the project, choose the best model (the one that yielded the best RMSE and good prediction speed or 2 if they have the same metric values) and run the final test;\n",
    "\n",
    "  \n",
    "    \n",
    "- Add the final conclusion please. A well-written conclusion shows how the project met its objectives and provides a concise and understandable summary for those who may not have been involved in the details of the project. \n",
    "\n",
    "\n",
    "There may be other issues that need your attention. I described everything in my comments.  \n",
    "</div>        \n",
    "<hr>\n",
    "    \n",
    "<font color='dodgerblue'>**To sum up:**</font> great job here! You demonstrated strong analytical and modeling skills by preparing the data, experimenting with multiple advanced models, and evaluating them with appropriate metrics. The conclusion clearly communicates which model offers the best trade-off between speed and RMSE. There are several issues that need your attention. Please take a look at my comments and do not hesitate to ask questions if some of them seem unclear. I will wait the project for the second review 😊 \n",
    "    \n",
    "\n",
    "<hr>\n",
    "    \n",
    "Please use some color other than those listed to highlight answers to my comments.\n",
    "I would also ask you **not to change, move or delete my comments** to make it easier for me to navigate during the next review.\n",
    "    \n",
    "<hr> \n",
    "    \n",
    "✍️ Some notes:\n",
    "\n",
    "\n",
    "- Here's a link to [Supervised Learning documenation sections](https://scikit-learn.org/stable/supervised_learning.html) that you may find useful.\n",
    "\n",
    "\n",
    "\n",
    "- There are advanced tools such as [ColumnTransformer](https://scikit-learn.org/stable/modules/generated/sklearn.compose.ColumnTransformer.html) and [Pipeline](https://scikit-learn.org/stable/modules/generated/sklearn.pipeline.Pipeline.html). `ColumnTransformer` and `Pipeline` are essential tools that help us create robust, maintainable, and efficient machine learning workflows. They work with data much more effectively. You can handle different data types and it is much easier to avoid data leakage. The code organization is very clean, but it may seem a bit difficult at the beginning. Take a look at this page to learn how to [organize a pipeline with ColumnTransformer](https://scikit-learn.org/stable/auto_examples/compose/plot_column_transformer_mixed_types.html).  \n",
    "<hr>\n",
    "    \n",
    "    \n",
    "📌 Please feel free to schedule a 1:1 sessions with our tutors or TAs Feel free to book 1-1 session [here](https://calendly.com/tripleten-ds-experts-team), join daily coworking sessions, or ask questions on TripleTen Hub if you need assistance 😉 \n",
    "</div>"
   ]
  },
  {
   "cell_type": "markdown",
   "metadata": {},
   "source": [
    "# Rusty Bargain Car App"
   ]
  },
  {
   "cell_type": "markdown",
   "metadata": {},
   "source": [
    "<div style=\"border: 2px solid black; padding: 15px; margin: 5px\">\n",
    "\n",
    "Rusty Bargain used car sales service is developing an app to attract new customers. In that app, you can quickly find out the market value of your car. You have access to historical data: technical specifications, trim versions, and prices. You need to build the model to determine the value. \n",
    "\n",
    "Rusty Bargain is interested in:\n",
    "\n",
    "- the quality of the prediction;\n",
    "- the speed of the prediction;\n",
    "- the time required for training\n",
    "\n",
    "</div>"
   ]
  },
  {
   "cell_type": "markdown",
   "metadata": {},
   "source": [
    " "
   ]
  },
  {
   "cell_type": "markdown",
   "metadata": {},
   "source": [
    "## Libraries & Packages"
   ]
  },
  {
   "cell_type": "code",
   "execution_count": 1,
   "metadata": {},
   "outputs": [],
   "source": [
    "import pandas as pd\n",
    "import numpy as np\n",
    "import lightgbm as lgb\n",
    "import time\n",
    "import warnings\n",
    "import matplotlib.pyplot as plt\n",
    "import seaborn as sns\n",
    "\n",
    "from sklearn.linear_model import LinearRegression\n",
    "from sklearn.model_selection import train_test_split\n",
    "from sklearn.metrics import mean_squared_error\n",
    "from sklearn.preprocessing import OneHotEncoder\n",
    "from sklearn.compose import ColumnTransformer\n",
    "from sklearn.pipeline import make_pipeline, Pipeline\n",
    "from sklearn.ensemble import RandomForestRegressor\n",
    "from sklearn.model_selection import RandomizedSearchCV\n",
    "\n",
    "from IPython.core.magic import register_cell_magic\n",
    "\n",
    "from lightgbm import LGBMRegressor, early_stopping, log_evaluation"
   ]
  },
  {
   "cell_type": "markdown",
   "metadata": {},
   "source": [
    " "
   ]
  },
  {
   "cell_type": "markdown",
   "metadata": {},
   "source": [
    "## Custom Time Magic"
   ]
  },
  {
   "cell_type": "code",
   "execution_count": 2,
   "metadata": {},
   "outputs": [],
   "source": [
    "# Initiating dictionary to store processing times\n",
    "\n",
    "timing_score = {}\n",
    "\n",
    "@register_cell_magic\n",
    "def savetiming(line, cell):\n",
    "    \"\"\"\n",
    "    Usage:\n",
    "    %%savetiming Step Name\n",
    "    <code to run>\n",
    "    \"\"\"\n",
    "    label = line.strip() or f\"Step_{len(timing_score)+1}\"\n",
    "\n",
    "    start = time.time()\n",
    "    get_ipython().run_cell(cell)\n",
    "    elapsed = time.time() - start\n",
    "\n",
    "    timing_score[label] = elapsed\n",
    "    print(f\"[{label}] took {elapsed:.2f} seconds\")"
   ]
  },
  {
   "cell_type": "markdown",
   "metadata": {},
   "source": [
    " "
   ]
  },
  {
   "cell_type": "markdown",
   "metadata": {},
   "source": [
    " "
   ]
  },
  {
   "cell_type": "markdown",
   "metadata": {},
   "source": [
    "## Data Preparation"
   ]
  },
  {
   "cell_type": "code",
   "execution_count": 3,
   "metadata": {},
   "outputs": [],
   "source": [
    "# Importing dataset\n",
    "\n",
    "data = pd.read_csv(\"/datasets/car_data.csv\")"
   ]
  },
  {
   "cell_type": "markdown",
   "metadata": {},
   "source": [
    " "
   ]
  },
  {
   "cell_type": "code",
   "execution_count": 4,
   "metadata": {
    "scrolled": true
   },
   "outputs": [
    {
     "name": "stdout",
     "output_type": "stream",
     "text": [
      "<class 'pandas.core.frame.DataFrame'>\n",
      "RangeIndex: 354369 entries, 0 to 354368\n",
      "Data columns (total 16 columns):\n",
      " #   Column             Non-Null Count   Dtype \n",
      "---  ------             --------------   ----- \n",
      " 0   DateCrawled        354369 non-null  object\n",
      " 1   Price              354369 non-null  int64 \n",
      " 2   VehicleType        316879 non-null  object\n",
      " 3   RegistrationYear   354369 non-null  int64 \n",
      " 4   Gearbox            334536 non-null  object\n",
      " 5   Power              354369 non-null  int64 \n",
      " 6   Model              334664 non-null  object\n",
      " 7   Mileage            354369 non-null  int64 \n",
      " 8   RegistrationMonth  354369 non-null  int64 \n",
      " 9   FuelType           321474 non-null  object\n",
      " 10  Brand              354369 non-null  object\n",
      " 11  NotRepaired        283215 non-null  object\n",
      " 12  DateCreated        354369 non-null  object\n",
      " 13  NumberOfPictures   354369 non-null  int64 \n",
      " 14  PostalCode         354369 non-null  int64 \n",
      " 15  LastSeen           354369 non-null  object\n",
      "dtypes: int64(7), object(9)\n",
      "memory usage: 43.3+ MB\n"
     ]
    }
   ],
   "source": [
    "# Viewing dataset info\n",
    "\n",
    "data.info()"
   ]
  },
  {
   "cell_type": "markdown",
   "metadata": {},
   "source": [
    " "
   ]
  },
  {
   "cell_type": "code",
   "execution_count": 5,
   "metadata": {},
   "outputs": [
    {
     "data": {
      "text/html": [
       "<div>\n",
       "<style scoped>\n",
       "    .dataframe tbody tr th:only-of-type {\n",
       "        vertical-align: middle;\n",
       "    }\n",
       "\n",
       "    .dataframe tbody tr th {\n",
       "        vertical-align: top;\n",
       "    }\n",
       "\n",
       "    .dataframe thead th {\n",
       "        text-align: right;\n",
       "    }\n",
       "</style>\n",
       "<table border=\"1\" class=\"dataframe\">\n",
       "  <thead>\n",
       "    <tr style=\"text-align: right;\">\n",
       "      <th></th>\n",
       "      <th>DateCrawled</th>\n",
       "      <th>Price</th>\n",
       "      <th>VehicleType</th>\n",
       "      <th>RegistrationYear</th>\n",
       "      <th>Gearbox</th>\n",
       "      <th>Power</th>\n",
       "      <th>Model</th>\n",
       "      <th>Mileage</th>\n",
       "      <th>RegistrationMonth</th>\n",
       "      <th>FuelType</th>\n",
       "      <th>Brand</th>\n",
       "      <th>NotRepaired</th>\n",
       "      <th>DateCreated</th>\n",
       "      <th>NumberOfPictures</th>\n",
       "      <th>PostalCode</th>\n",
       "      <th>LastSeen</th>\n",
       "    </tr>\n",
       "  </thead>\n",
       "  <tbody>\n",
       "    <tr>\n",
       "      <th>0</th>\n",
       "      <td>24/03/2016 11:52</td>\n",
       "      <td>480</td>\n",
       "      <td>NaN</td>\n",
       "      <td>1993</td>\n",
       "      <td>manual</td>\n",
       "      <td>0</td>\n",
       "      <td>golf</td>\n",
       "      <td>150000</td>\n",
       "      <td>0</td>\n",
       "      <td>petrol</td>\n",
       "      <td>volkswagen</td>\n",
       "      <td>NaN</td>\n",
       "      <td>24/03/2016 00:00</td>\n",
       "      <td>0</td>\n",
       "      <td>70435</td>\n",
       "      <td>07/04/2016 03:16</td>\n",
       "    </tr>\n",
       "    <tr>\n",
       "      <th>1</th>\n",
       "      <td>24/03/2016 10:58</td>\n",
       "      <td>18300</td>\n",
       "      <td>coupe</td>\n",
       "      <td>2011</td>\n",
       "      <td>manual</td>\n",
       "      <td>190</td>\n",
       "      <td>NaN</td>\n",
       "      <td>125000</td>\n",
       "      <td>5</td>\n",
       "      <td>gasoline</td>\n",
       "      <td>audi</td>\n",
       "      <td>yes</td>\n",
       "      <td>24/03/2016 00:00</td>\n",
       "      <td>0</td>\n",
       "      <td>66954</td>\n",
       "      <td>07/04/2016 01:46</td>\n",
       "    </tr>\n",
       "    <tr>\n",
       "      <th>2</th>\n",
       "      <td>14/03/2016 12:52</td>\n",
       "      <td>9800</td>\n",
       "      <td>suv</td>\n",
       "      <td>2004</td>\n",
       "      <td>auto</td>\n",
       "      <td>163</td>\n",
       "      <td>grand</td>\n",
       "      <td>125000</td>\n",
       "      <td>8</td>\n",
       "      <td>gasoline</td>\n",
       "      <td>jeep</td>\n",
       "      <td>NaN</td>\n",
       "      <td>14/03/2016 00:00</td>\n",
       "      <td>0</td>\n",
       "      <td>90480</td>\n",
       "      <td>05/04/2016 12:47</td>\n",
       "    </tr>\n",
       "    <tr>\n",
       "      <th>3</th>\n",
       "      <td>17/03/2016 16:54</td>\n",
       "      <td>1500</td>\n",
       "      <td>small</td>\n",
       "      <td>2001</td>\n",
       "      <td>manual</td>\n",
       "      <td>75</td>\n",
       "      <td>golf</td>\n",
       "      <td>150000</td>\n",
       "      <td>6</td>\n",
       "      <td>petrol</td>\n",
       "      <td>volkswagen</td>\n",
       "      <td>no</td>\n",
       "      <td>17/03/2016 00:00</td>\n",
       "      <td>0</td>\n",
       "      <td>91074</td>\n",
       "      <td>17/03/2016 17:40</td>\n",
       "    </tr>\n",
       "    <tr>\n",
       "      <th>4</th>\n",
       "      <td>31/03/2016 17:25</td>\n",
       "      <td>3600</td>\n",
       "      <td>small</td>\n",
       "      <td>2008</td>\n",
       "      <td>manual</td>\n",
       "      <td>69</td>\n",
       "      <td>fabia</td>\n",
       "      <td>90000</td>\n",
       "      <td>7</td>\n",
       "      <td>gasoline</td>\n",
       "      <td>skoda</td>\n",
       "      <td>no</td>\n",
       "      <td>31/03/2016 00:00</td>\n",
       "      <td>0</td>\n",
       "      <td>60437</td>\n",
       "      <td>06/04/2016 10:17</td>\n",
       "    </tr>\n",
       "    <tr>\n",
       "      <th>...</th>\n",
       "      <td>...</td>\n",
       "      <td>...</td>\n",
       "      <td>...</td>\n",
       "      <td>...</td>\n",
       "      <td>...</td>\n",
       "      <td>...</td>\n",
       "      <td>...</td>\n",
       "      <td>...</td>\n",
       "      <td>...</td>\n",
       "      <td>...</td>\n",
       "      <td>...</td>\n",
       "      <td>...</td>\n",
       "      <td>...</td>\n",
       "      <td>...</td>\n",
       "      <td>...</td>\n",
       "      <td>...</td>\n",
       "    </tr>\n",
       "    <tr>\n",
       "      <th>354364</th>\n",
       "      <td>21/03/2016 09:50</td>\n",
       "      <td>0</td>\n",
       "      <td>NaN</td>\n",
       "      <td>2005</td>\n",
       "      <td>manual</td>\n",
       "      <td>0</td>\n",
       "      <td>colt</td>\n",
       "      <td>150000</td>\n",
       "      <td>7</td>\n",
       "      <td>petrol</td>\n",
       "      <td>mitsubishi</td>\n",
       "      <td>yes</td>\n",
       "      <td>21/03/2016 00:00</td>\n",
       "      <td>0</td>\n",
       "      <td>2694</td>\n",
       "      <td>21/03/2016 10:42</td>\n",
       "    </tr>\n",
       "    <tr>\n",
       "      <th>354365</th>\n",
       "      <td>14/03/2016 17:48</td>\n",
       "      <td>2200</td>\n",
       "      <td>NaN</td>\n",
       "      <td>2005</td>\n",
       "      <td>NaN</td>\n",
       "      <td>0</td>\n",
       "      <td>NaN</td>\n",
       "      <td>20000</td>\n",
       "      <td>1</td>\n",
       "      <td>NaN</td>\n",
       "      <td>sonstige_autos</td>\n",
       "      <td>NaN</td>\n",
       "      <td>14/03/2016 00:00</td>\n",
       "      <td>0</td>\n",
       "      <td>39576</td>\n",
       "      <td>06/04/2016 00:46</td>\n",
       "    </tr>\n",
       "    <tr>\n",
       "      <th>354366</th>\n",
       "      <td>05/03/2016 19:56</td>\n",
       "      <td>1199</td>\n",
       "      <td>convertible</td>\n",
       "      <td>2000</td>\n",
       "      <td>auto</td>\n",
       "      <td>101</td>\n",
       "      <td>fortwo</td>\n",
       "      <td>125000</td>\n",
       "      <td>3</td>\n",
       "      <td>petrol</td>\n",
       "      <td>smart</td>\n",
       "      <td>no</td>\n",
       "      <td>05/03/2016 00:00</td>\n",
       "      <td>0</td>\n",
       "      <td>26135</td>\n",
       "      <td>11/03/2016 18:17</td>\n",
       "    </tr>\n",
       "    <tr>\n",
       "      <th>354367</th>\n",
       "      <td>19/03/2016 18:57</td>\n",
       "      <td>9200</td>\n",
       "      <td>bus</td>\n",
       "      <td>1996</td>\n",
       "      <td>manual</td>\n",
       "      <td>102</td>\n",
       "      <td>transporter</td>\n",
       "      <td>150000</td>\n",
       "      <td>3</td>\n",
       "      <td>gasoline</td>\n",
       "      <td>volkswagen</td>\n",
       "      <td>no</td>\n",
       "      <td>19/03/2016 00:00</td>\n",
       "      <td>0</td>\n",
       "      <td>87439</td>\n",
       "      <td>07/04/2016 07:15</td>\n",
       "    </tr>\n",
       "    <tr>\n",
       "      <th>354368</th>\n",
       "      <td>20/03/2016 19:41</td>\n",
       "      <td>3400</td>\n",
       "      <td>wagon</td>\n",
       "      <td>2002</td>\n",
       "      <td>manual</td>\n",
       "      <td>100</td>\n",
       "      <td>golf</td>\n",
       "      <td>150000</td>\n",
       "      <td>6</td>\n",
       "      <td>gasoline</td>\n",
       "      <td>volkswagen</td>\n",
       "      <td>NaN</td>\n",
       "      <td>20/03/2016 00:00</td>\n",
       "      <td>0</td>\n",
       "      <td>40764</td>\n",
       "      <td>24/03/2016 12:45</td>\n",
       "    </tr>\n",
       "  </tbody>\n",
       "</table>\n",
       "<p>354369 rows × 16 columns</p>\n",
       "</div>"
      ],
      "text/plain": [
       "             DateCrawled  Price  VehicleType  RegistrationYear Gearbox  Power  \\\n",
       "0       24/03/2016 11:52    480          NaN              1993  manual      0   \n",
       "1       24/03/2016 10:58  18300        coupe              2011  manual    190   \n",
       "2       14/03/2016 12:52   9800          suv              2004    auto    163   \n",
       "3       17/03/2016 16:54   1500        small              2001  manual     75   \n",
       "4       31/03/2016 17:25   3600        small              2008  manual     69   \n",
       "...                  ...    ...          ...               ...     ...    ...   \n",
       "354364  21/03/2016 09:50      0          NaN              2005  manual      0   \n",
       "354365  14/03/2016 17:48   2200          NaN              2005     NaN      0   \n",
       "354366  05/03/2016 19:56   1199  convertible              2000    auto    101   \n",
       "354367  19/03/2016 18:57   9200          bus              1996  manual    102   \n",
       "354368  20/03/2016 19:41   3400        wagon              2002  manual    100   \n",
       "\n",
       "              Model  Mileage  RegistrationMonth  FuelType           Brand  \\\n",
       "0              golf   150000                  0    petrol      volkswagen   \n",
       "1               NaN   125000                  5  gasoline            audi   \n",
       "2             grand   125000                  8  gasoline            jeep   \n",
       "3              golf   150000                  6    petrol      volkswagen   \n",
       "4             fabia    90000                  7  gasoline           skoda   \n",
       "...             ...      ...                ...       ...             ...   \n",
       "354364         colt   150000                  7    petrol      mitsubishi   \n",
       "354365          NaN    20000                  1       NaN  sonstige_autos   \n",
       "354366       fortwo   125000                  3    petrol           smart   \n",
       "354367  transporter   150000                  3  gasoline      volkswagen   \n",
       "354368         golf   150000                  6  gasoline      volkswagen   \n",
       "\n",
       "       NotRepaired       DateCreated  NumberOfPictures  PostalCode  \\\n",
       "0              NaN  24/03/2016 00:00                 0       70435   \n",
       "1              yes  24/03/2016 00:00                 0       66954   \n",
       "2              NaN  14/03/2016 00:00                 0       90480   \n",
       "3               no  17/03/2016 00:00                 0       91074   \n",
       "4               no  31/03/2016 00:00                 0       60437   \n",
       "...            ...               ...               ...         ...   \n",
       "354364         yes  21/03/2016 00:00                 0        2694   \n",
       "354365         NaN  14/03/2016 00:00                 0       39576   \n",
       "354366          no  05/03/2016 00:00                 0       26135   \n",
       "354367          no  19/03/2016 00:00                 0       87439   \n",
       "354368         NaN  20/03/2016 00:00                 0       40764   \n",
       "\n",
       "                LastSeen  \n",
       "0       07/04/2016 03:16  \n",
       "1       07/04/2016 01:46  \n",
       "2       05/04/2016 12:47  \n",
       "3       17/03/2016 17:40  \n",
       "4       06/04/2016 10:17  \n",
       "...                  ...  \n",
       "354364  21/03/2016 10:42  \n",
       "354365  06/04/2016 00:46  \n",
       "354366  11/03/2016 18:17  \n",
       "354367  07/04/2016 07:15  \n",
       "354368  24/03/2016 12:45  \n",
       "\n",
       "[354369 rows x 16 columns]"
      ]
     },
     "execution_count": 5,
     "metadata": {},
     "output_type": "execute_result"
    }
   ],
   "source": [
    "# Viewing dataset\n",
    "\n",
    "data"
   ]
  },
  {
   "cell_type": "markdown",
   "metadata": {},
   "source": [
    " "
   ]
  },
  {
   "cell_type": "code",
   "execution_count": 6,
   "metadata": {},
   "outputs": [
    {
     "data": {
      "text/plain": [
       "Index(['DateCrawled', 'Price', 'VehicleType', 'RegistrationYear', 'Gearbox',\n",
       "       'Power', 'Model', 'Mileage', 'RegistrationMonth', 'FuelType', 'Brand',\n",
       "       'NotRepaired', 'DateCreated', 'NumberOfPictures', 'PostalCode',\n",
       "       'LastSeen'],\n",
       "      dtype='object')"
      ]
     },
     "execution_count": 6,
     "metadata": {},
     "output_type": "execute_result"
    }
   ],
   "source": [
    "# Viewing columns\n",
    "\n",
    "data.columns"
   ]
  },
  {
   "cell_type": "markdown",
   "metadata": {},
   "source": [
    "<div style=\"border: 2px solid black; padding: 15px; margin: 5px\">\n",
    "\n",
    "After initial viewing of the dataset, we find \"NaN\" values, see that there are dates present and the columns needs a little formatting.\n",
    "\n",
    "</div>"
   ]
  },
  {
   "cell_type": "markdown",
   "metadata": {},
   "source": [
    " "
   ]
  },
  {
   "cell_type": "markdown",
   "metadata": {},
   "source": [
    "<div style=\"border: 5px solid green; padding: 10px; margin: 5px\">\n",
    "<b>   Reviewer's comment </b>\n",
    "    \n",
    "Nice start! \n",
    "\n",
    "</div>"
   ]
  },
  {
   "cell_type": "markdown",
   "metadata": {},
   "source": [
    " "
   ]
  },
  {
   "cell_type": "markdown",
   "metadata": {},
   "source": [
    " "
   ]
  },
  {
   "cell_type": "markdown",
   "metadata": {},
   "source": [
    "### Columns"
   ]
  },
  {
   "cell_type": "code",
   "execution_count": 7,
   "metadata": {},
   "outputs": [],
   "source": [
    "# Renaming some of the columns\n",
    "\n",
    "\n",
    "data.rename(\n",
    "    columns={\n",
    "               \"DateCrawled\": \"date_crawled\",\n",
    "               \"VehicleType\": \"vehicle_type\",\n",
    "               \"RegistrationYear\": \"registration_year\",\n",
    "               \"RegistrationMonth\": \"registration_month\",\n",
    "               \"FuelType\": \"fuel_type\",\n",
    "               \"NotRepaired\": \"not_repaired\",\n",
    "               \"DateCreated\": \"date_created\",\n",
    "               \"NumberOfPictures\": \"number_of_pictures\",\n",
    "               \"PostalCode\": \"postal_code\",\n",
    "               \"LastSeen\": \"last_seen\",\n",
    "    }, \n",
    "    inplace=True\n",
    ")\n",
    "\n",
    "# Columns formatting\n",
    "\n",
    "data.columns = data.columns.str.strip()\n",
    "data.columns = data.columns.str.lower()\n"
   ]
  },
  {
   "cell_type": "markdown",
   "metadata": {},
   "source": [
    "<div style=\"border: 5px solid green; padding: 10px; margin: 5px\">\n",
    "<b>   Reviewer's comment </b>\n",
    "    \n",
    "You can also convert columns to snake case using the following piece of code: \n",
    "    \n",
    "```python\n",
    "    \n",
    "df.columns = df.columns.str.replace(r'(?<!^)(?=[A-Z])', '_', regex=True).str.lower()\n",
    "\n",
    "```\n",
    "    \n",
    "</div>\n",
    "<div style=\"border: 5px solid gold; padding: 10px; margin: 5px\">\n",
    "<b>   Reviewer's comment </b>\n",
    "    \n",
    "String methods can be applied one after another. \n",
    "</div>"
   ]
  },
  {
   "cell_type": "markdown",
   "metadata": {},
   "source": [
    " "
   ]
  },
  {
   "cell_type": "code",
   "execution_count": 8,
   "metadata": {},
   "outputs": [
    {
     "data": {
      "text/plain": [
       "Index(['date_crawled', 'price', 'vehicle_type', 'registration_year', 'gearbox',\n",
       "       'power', 'model', 'mileage', 'registration_month', 'fuel_type', 'brand',\n",
       "       'not_repaired', 'date_created', 'number_of_pictures', 'postal_code',\n",
       "       'last_seen'],\n",
       "      dtype='object')"
      ]
     },
     "execution_count": 8,
     "metadata": {},
     "output_type": "execute_result"
    }
   ],
   "source": [
    "# Column formatting validation\n",
    "\n",
    "data.columns"
   ]
  },
  {
   "cell_type": "markdown",
   "metadata": {},
   "source": [
    "<div style=\"border: 2px solid black; padding: 15px; margin: 5px\">\n",
    "\n",
    "Columns are formatted in the appropriate manner. Moving on to duplicates, missing values, and data type validation.\n",
    "\n",
    "</div>"
   ]
  },
  {
   "cell_type": "markdown",
   "metadata": {},
   "source": [
    " "
   ]
  },
  {
   "cell_type": "markdown",
   "metadata": {},
   "source": [
    " "
   ]
  },
  {
   "cell_type": "markdown",
   "metadata": {},
   "source": [
    "### Duplicates"
   ]
  },
  {
   "cell_type": "code",
   "execution_count": 9,
   "metadata": {},
   "outputs": [
    {
     "data": {
      "text/html": [
       "<div>\n",
       "<style scoped>\n",
       "    .dataframe tbody tr th:only-of-type {\n",
       "        vertical-align: middle;\n",
       "    }\n",
       "\n",
       "    .dataframe tbody tr th {\n",
       "        vertical-align: top;\n",
       "    }\n",
       "\n",
       "    .dataframe thead th {\n",
       "        text-align: right;\n",
       "    }\n",
       "</style>\n",
       "<table border=\"1\" class=\"dataframe\">\n",
       "  <thead>\n",
       "    <tr style=\"text-align: right;\">\n",
       "      <th></th>\n",
       "      <th>duplicates_count</th>\n",
       "      <th>duplicates_percent</th>\n",
       "      <th>unique_values</th>\n",
       "      <th>total_rows</th>\n",
       "    </tr>\n",
       "  </thead>\n",
       "  <tbody>\n",
       "    <tr>\n",
       "      <th>date_crawled</th>\n",
       "      <td>338899</td>\n",
       "      <td>95.634494</td>\n",
       "      <td>15470</td>\n",
       "      <td>354369</td>\n",
       "    </tr>\n",
       "    <tr>\n",
       "      <th>price</th>\n",
       "      <td>350638</td>\n",
       "      <td>98.947143</td>\n",
       "      <td>3731</td>\n",
       "      <td>354369</td>\n",
       "    </tr>\n",
       "    <tr>\n",
       "      <th>vehicle_type</th>\n",
       "      <td>354360</td>\n",
       "      <td>99.997460</td>\n",
       "      <td>8</td>\n",
       "      <td>354369</td>\n",
       "    </tr>\n",
       "    <tr>\n",
       "      <th>registration_year</th>\n",
       "      <td>354218</td>\n",
       "      <td>99.957389</td>\n",
       "      <td>151</td>\n",
       "      <td>354369</td>\n",
       "    </tr>\n",
       "    <tr>\n",
       "      <th>gearbox</th>\n",
       "      <td>354366</td>\n",
       "      <td>99.999153</td>\n",
       "      <td>2</td>\n",
       "      <td>354369</td>\n",
       "    </tr>\n",
       "    <tr>\n",
       "      <th>power</th>\n",
       "      <td>353657</td>\n",
       "      <td>99.799079</td>\n",
       "      <td>712</td>\n",
       "      <td>354369</td>\n",
       "    </tr>\n",
       "    <tr>\n",
       "      <th>model</th>\n",
       "      <td>354118</td>\n",
       "      <td>99.929170</td>\n",
       "      <td>250</td>\n",
       "      <td>354369</td>\n",
       "    </tr>\n",
       "    <tr>\n",
       "      <th>mileage</th>\n",
       "      <td>354356</td>\n",
       "      <td>99.996332</td>\n",
       "      <td>13</td>\n",
       "      <td>354369</td>\n",
       "    </tr>\n",
       "    <tr>\n",
       "      <th>registration_month</th>\n",
       "      <td>354356</td>\n",
       "      <td>99.996332</td>\n",
       "      <td>13</td>\n",
       "      <td>354369</td>\n",
       "    </tr>\n",
       "    <tr>\n",
       "      <th>fuel_type</th>\n",
       "      <td>354361</td>\n",
       "      <td>99.997742</td>\n",
       "      <td>7</td>\n",
       "      <td>354369</td>\n",
       "    </tr>\n",
       "    <tr>\n",
       "      <th>brand</th>\n",
       "      <td>354329</td>\n",
       "      <td>99.988712</td>\n",
       "      <td>40</td>\n",
       "      <td>354369</td>\n",
       "    </tr>\n",
       "    <tr>\n",
       "      <th>not_repaired</th>\n",
       "      <td>354366</td>\n",
       "      <td>99.999153</td>\n",
       "      <td>2</td>\n",
       "      <td>354369</td>\n",
       "    </tr>\n",
       "    <tr>\n",
       "      <th>date_created</th>\n",
       "      <td>354260</td>\n",
       "      <td>99.969241</td>\n",
       "      <td>109</td>\n",
       "      <td>354369</td>\n",
       "    </tr>\n",
       "    <tr>\n",
       "      <th>number_of_pictures</th>\n",
       "      <td>354368</td>\n",
       "      <td>99.999718</td>\n",
       "      <td>1</td>\n",
       "      <td>354369</td>\n",
       "    </tr>\n",
       "    <tr>\n",
       "      <th>postal_code</th>\n",
       "      <td>346226</td>\n",
       "      <td>97.702113</td>\n",
       "      <td>8143</td>\n",
       "      <td>354369</td>\n",
       "    </tr>\n",
       "    <tr>\n",
       "      <th>last_seen</th>\n",
       "      <td>335777</td>\n",
       "      <td>94.753491</td>\n",
       "      <td>18592</td>\n",
       "      <td>354369</td>\n",
       "    </tr>\n",
       "  </tbody>\n",
       "</table>\n",
       "</div>"
      ],
      "text/plain": [
       "                    duplicates_count  duplicates_percent  unique_values  \\\n",
       "date_crawled                  338899           95.634494          15470   \n",
       "price                         350638           98.947143           3731   \n",
       "vehicle_type                  354360           99.997460              8   \n",
       "registration_year             354218           99.957389            151   \n",
       "gearbox                       354366           99.999153              2   \n",
       "power                         353657           99.799079            712   \n",
       "model                         354118           99.929170            250   \n",
       "mileage                       354356           99.996332             13   \n",
       "registration_month            354356           99.996332             13   \n",
       "fuel_type                     354361           99.997742              7   \n",
       "brand                         354329           99.988712             40   \n",
       "not_repaired                  354366           99.999153              2   \n",
       "date_created                  354260           99.969241            109   \n",
       "number_of_pictures            354368           99.999718              1   \n",
       "postal_code                   346226           97.702113           8143   \n",
       "last_seen                     335777           94.753491          18592   \n",
       "\n",
       "                    total_rows  \n",
       "date_crawled            354369  \n",
       "price                   354369  \n",
       "vehicle_type            354369  \n",
       "registration_year       354369  \n",
       "gearbox                 354369  \n",
       "power                   354369  \n",
       "model                   354369  \n",
       "mileage                 354369  \n",
       "registration_month      354369  \n",
       "fuel_type               354369  \n",
       "brand                   354369  \n",
       "not_repaired            354369  \n",
       "date_created            354369  \n",
       "number_of_pictures      354369  \n",
       "postal_code             354369  \n",
       "last_seen               354369  "
      ]
     },
     "execution_count": 9,
     "metadata": {},
     "output_type": "execute_result"
    }
   ],
   "source": [
    "# Checking for duplicates\n",
    "\n",
    "duplicate_summary = pd.DataFrame({\n",
    "    \"duplicates_count\": [data[col].duplicated().sum() for col in data.columns],\n",
    "    \"duplicates_percent\": [data[col].duplicated().mean() * 100 for col in data.columns],\n",
    "    \"unique_values\": [data[col].nunique() for col in data.columns],\n",
    "    \"total_rows\": len(data)\n",
    "}, index=data.columns)\n",
    "\n",
    "duplicate_summary"
   ]
  },
  {
   "cell_type": "markdown",
   "metadata": {},
   "source": [
    "<div style=\"border: 2px solid black; padding: 15px; margin: 5px\">\n",
    "\n",
    "There are many duplicates in each of the columns which makes sense considering the columns value inputs can be only a few choices for some of them. We will keep the duplicated values throughout and move onto missing values.\n",
    "\n",
    "</div>"
   ]
  },
  {
   "cell_type": "markdown",
   "metadata": {},
   "source": [
    " "
   ]
  },
  {
   "cell_type": "markdown",
   "metadata": {},
   "source": [
    " "
   ]
  },
  {
   "cell_type": "markdown",
   "metadata": {},
   "source": [
    "### Missing Values"
   ]
  },
  {
   "cell_type": "code",
   "execution_count": 10,
   "metadata": {},
   "outputs": [
    {
     "data": {
      "text/html": [
       "<div>\n",
       "<style scoped>\n",
       "    .dataframe tbody tr th:only-of-type {\n",
       "        vertical-align: middle;\n",
       "    }\n",
       "\n",
       "    .dataframe tbody tr th {\n",
       "        vertical-align: top;\n",
       "    }\n",
       "\n",
       "    .dataframe thead th {\n",
       "        text-align: right;\n",
       "    }\n",
       "</style>\n",
       "<table border=\"1\" class=\"dataframe\">\n",
       "  <thead>\n",
       "    <tr style=\"text-align: right;\">\n",
       "      <th></th>\n",
       "      <th>missing_count</th>\n",
       "      <th>missing_percent</th>\n",
       "      <th>unique_values</th>\n",
       "      <th>total_rows</th>\n",
       "    </tr>\n",
       "  </thead>\n",
       "  <tbody>\n",
       "    <tr>\n",
       "      <th>not_repaired</th>\n",
       "      <td>71154</td>\n",
       "      <td>20.08</td>\n",
       "      <td>2</td>\n",
       "      <td>354369</td>\n",
       "    </tr>\n",
       "    <tr>\n",
       "      <th>vehicle_type</th>\n",
       "      <td>37490</td>\n",
       "      <td>10.58</td>\n",
       "      <td>8</td>\n",
       "      <td>354369</td>\n",
       "    </tr>\n",
       "    <tr>\n",
       "      <th>fuel_type</th>\n",
       "      <td>32895</td>\n",
       "      <td>9.28</td>\n",
       "      <td>7</td>\n",
       "      <td>354369</td>\n",
       "    </tr>\n",
       "    <tr>\n",
       "      <th>gearbox</th>\n",
       "      <td>19833</td>\n",
       "      <td>5.60</td>\n",
       "      <td>2</td>\n",
       "      <td>354369</td>\n",
       "    </tr>\n",
       "    <tr>\n",
       "      <th>model</th>\n",
       "      <td>19705</td>\n",
       "      <td>5.56</td>\n",
       "      <td>250</td>\n",
       "      <td>354369</td>\n",
       "    </tr>\n",
       "    <tr>\n",
       "      <th>date_crawled</th>\n",
       "      <td>0</td>\n",
       "      <td>0.00</td>\n",
       "      <td>15470</td>\n",
       "      <td>354369</td>\n",
       "    </tr>\n",
       "    <tr>\n",
       "      <th>price</th>\n",
       "      <td>0</td>\n",
       "      <td>0.00</td>\n",
       "      <td>3731</td>\n",
       "      <td>354369</td>\n",
       "    </tr>\n",
       "    <tr>\n",
       "      <th>registration_year</th>\n",
       "      <td>0</td>\n",
       "      <td>0.00</td>\n",
       "      <td>151</td>\n",
       "      <td>354369</td>\n",
       "    </tr>\n",
       "    <tr>\n",
       "      <th>power</th>\n",
       "      <td>0</td>\n",
       "      <td>0.00</td>\n",
       "      <td>712</td>\n",
       "      <td>354369</td>\n",
       "    </tr>\n",
       "    <tr>\n",
       "      <th>mileage</th>\n",
       "      <td>0</td>\n",
       "      <td>0.00</td>\n",
       "      <td>13</td>\n",
       "      <td>354369</td>\n",
       "    </tr>\n",
       "    <tr>\n",
       "      <th>registration_month</th>\n",
       "      <td>0</td>\n",
       "      <td>0.00</td>\n",
       "      <td>13</td>\n",
       "      <td>354369</td>\n",
       "    </tr>\n",
       "    <tr>\n",
       "      <th>brand</th>\n",
       "      <td>0</td>\n",
       "      <td>0.00</td>\n",
       "      <td>40</td>\n",
       "      <td>354369</td>\n",
       "    </tr>\n",
       "    <tr>\n",
       "      <th>date_created</th>\n",
       "      <td>0</td>\n",
       "      <td>0.00</td>\n",
       "      <td>109</td>\n",
       "      <td>354369</td>\n",
       "    </tr>\n",
       "    <tr>\n",
       "      <th>number_of_pictures</th>\n",
       "      <td>0</td>\n",
       "      <td>0.00</td>\n",
       "      <td>1</td>\n",
       "      <td>354369</td>\n",
       "    </tr>\n",
       "    <tr>\n",
       "      <th>postal_code</th>\n",
       "      <td>0</td>\n",
       "      <td>0.00</td>\n",
       "      <td>8143</td>\n",
       "      <td>354369</td>\n",
       "    </tr>\n",
       "    <tr>\n",
       "      <th>last_seen</th>\n",
       "      <td>0</td>\n",
       "      <td>0.00</td>\n",
       "      <td>18592</td>\n",
       "      <td>354369</td>\n",
       "    </tr>\n",
       "  </tbody>\n",
       "</table>\n",
       "</div>"
      ],
      "text/plain": [
       "                    missing_count  missing_percent  unique_values  total_rows\n",
       "not_repaired                71154            20.08              2      354369\n",
       "vehicle_type                37490            10.58              8      354369\n",
       "fuel_type                   32895             9.28              7      354369\n",
       "gearbox                     19833             5.60              2      354369\n",
       "model                       19705             5.56            250      354369\n",
       "date_crawled                    0             0.00          15470      354369\n",
       "price                           0             0.00           3731      354369\n",
       "registration_year               0             0.00            151      354369\n",
       "power                           0             0.00            712      354369\n",
       "mileage                         0             0.00             13      354369\n",
       "registration_month              0             0.00             13      354369\n",
       "brand                           0             0.00             40      354369\n",
       "date_created                    0             0.00            109      354369\n",
       "number_of_pictures              0             0.00              1      354369\n",
       "postal_code                     0             0.00           8143      354369\n",
       "last_seen                       0             0.00          18592      354369"
      ]
     },
     "execution_count": 10,
     "metadata": {},
     "output_type": "execute_result"
    }
   ],
   "source": [
    "# Viewing missing data summary\n",
    "\n",
    "missing_summary = pd.DataFrame({\n",
    "    \"missing_count\": data.isna().sum(),\n",
    "    \"missing_percent\": (data.isna().mean() * 100).round(2),\n",
    "    \"unique_values\": data.nunique(),\n",
    "    \"total_rows\": len(data)\n",
    "})\n",
    "\n",
    "# Sorting values by missing count\n",
    "\n",
    "missing_summary = missing_summary.sort_values(by=\"missing_count\", ascending=False)\n",
    "\n",
    "missing_summary\n"
   ]
  },
  {
   "cell_type": "markdown",
   "metadata": {},
   "source": [
    "<div style=\"border: 2px solid black; padding: 15px; margin: 5px\">\n",
    "\n",
    "We're seeing a large amount of missing values, we need to see what's missing and decide why they could be missing and how to handle them.\n",
    "\n",
    "</div>"
   ]
  },
  {
   "cell_type": "markdown",
   "metadata": {},
   "source": [
    " "
   ]
  },
  {
   "cell_type": "code",
   "execution_count": 11,
   "metadata": {},
   "outputs": [
    {
     "name": "stdout",
     "output_type": "stream",
     "text": [
      "Not Repaired\n",
      "no     247161\n",
      "NaN     71154\n",
      "yes     36054\n",
      "Name: not_repaired, dtype: int64\n",
      "\n",
      "Vehicle Type\n",
      "sedan          91457\n",
      "small          79831\n",
      "wagon          65166\n",
      "NaN            37490\n",
      "bus            28775\n",
      "convertible    20203\n",
      "coupe          16163\n",
      "suv            11996\n",
      "other           3288\n",
      "Name: vehicle_type, dtype: int64\n",
      "\n",
      "Fuel Type\n",
      "petrol      216352\n",
      "gasoline     98720\n",
      "NaN          32895\n",
      "lpg           5310\n",
      "cng            565\n",
      "hybrid         233\n",
      "other          204\n",
      "electric        90\n",
      "Name: fuel_type, dtype: int64\n",
      "\n",
      "Gearbox\n",
      "manual    268251\n",
      "auto       66285\n",
      "NaN        19833\n",
      "Name: gearbox, dtype: int64\n",
      "\n",
      "Model\n",
      "golf                  29232\n",
      "other                 24421\n",
      "3er                   19761\n",
      "NaN                   19705\n",
      "polo                  13066\n",
      "                      ...  \n",
      "i3                        8\n",
      "rangerover                4\n",
      "serie_3                   4\n",
      "serie_1                   2\n",
      "range_rover_evoque        2\n",
      "Name: model, Length: 251, dtype: int64\n",
      "\n"
     ]
    }
   ],
   "source": [
    "# Viewing the values of each affected column\n",
    "\n",
    "print(\"Not Repaired\")\n",
    "print(data[\"not_repaired\"].value_counts(dropna=False))\n",
    "print()\n",
    "\n",
    "print(\"Vehicle Type\")\n",
    "print(data[\"vehicle_type\"].value_counts(dropna=False))\n",
    "print()\n",
    "\n",
    "print(\"Fuel Type\")\n",
    "print(data[\"fuel_type\"].value_counts(dropna=False))\n",
    "print()\n",
    "\n",
    "print(\"Gearbox\")\n",
    "print(data[\"gearbox\"].value_counts(dropna=False))\n",
    "print()\n",
    "\n",
    "print(\"Model\")\n",
    "print(data[\"model\"].value_counts(dropna=False))\n",
    "print()\n"
   ]
  },
  {
   "cell_type": "markdown",
   "metadata": {},
   "source": [
    "<div style=\"border: 2px solid black; padding: 15px; margin: 5px\">\n",
    "\n",
    "Here's our strategy for each of the columns:\n",
    "- **\"Not Repaired\"** - We'll fill \"unknown\" for missing values\n",
    "- **\"Vehicle Type\"** - We'll fill \"other\" for missing values\n",
    "- **\"Fuel Type\"** - We'll fill \"other\" for missing values\n",
    "- **\"Gearbox\"** - We'll fill \"unknown\" for missing values\n",
    "- **\"Model\"** - We'll fill \"unknown\" for missing values\n",
    "\n",
    "</div>"
   ]
  },
  {
   "cell_type": "markdown",
   "metadata": {},
   "source": [
    " "
   ]
  },
  {
   "cell_type": "code",
   "execution_count": 12,
   "metadata": {},
   "outputs": [],
   "source": [
    "# Filling the not_repaired, gearbox and model columns with \"unknown\"\n",
    "\n",
    "data[\"not_repaired\"].fillna(\"unknown\", inplace=True)\n",
    "data[\"gearbox\"].fillna(\"unknown\", inplace=True)\n",
    "data[\"model\"].fillna(\"unknown\", inplace=True)\n",
    "\n",
    "# Filling the vehicle_type and fuel_type columns with \"other\"\n",
    "\n",
    "data[\"vehicle_type\"].fillna(\"other\", inplace=True)\n",
    "data[\"fuel_type\"].fillna(\"other\", inplace=True)"
   ]
  },
  {
   "cell_type": "markdown",
   "metadata": {},
   "source": [
    "<div style=\"border: 5px solid green; padding: 10px; margin: 5px\">\n",
    "<b>   Reviewer's comment </b>\n",
    "    \n",
    "It's a good decision to fill in the gaps with some unique value, it's better than deleting them. Moreover, it is normal that sometimes sellers do not specify some information. The model should \"know\" about such cases. We even should not use median or mode. Even though the median does not skew the distribution, we have to many missing values to fill in because there is a risk of biasing the data.   \n",
    "    \n",
    "</div>"
   ]
  },
  {
   "cell_type": "markdown",
   "metadata": {},
   "source": [
    " "
   ]
  },
  {
   "cell_type": "code",
   "execution_count": 13,
   "metadata": {},
   "outputs": [
    {
     "data": {
      "text/html": [
       "<div>\n",
       "<style scoped>\n",
       "    .dataframe tbody tr th:only-of-type {\n",
       "        vertical-align: middle;\n",
       "    }\n",
       "\n",
       "    .dataframe tbody tr th {\n",
       "        vertical-align: top;\n",
       "    }\n",
       "\n",
       "    .dataframe thead th {\n",
       "        text-align: right;\n",
       "    }\n",
       "</style>\n",
       "<table border=\"1\" class=\"dataframe\">\n",
       "  <thead>\n",
       "    <tr style=\"text-align: right;\">\n",
       "      <th></th>\n",
       "      <th>missing_count</th>\n",
       "      <th>missing_percent</th>\n",
       "      <th>unique_values</th>\n",
       "      <th>total_rows</th>\n",
       "    </tr>\n",
       "  </thead>\n",
       "  <tbody>\n",
       "    <tr>\n",
       "      <th>date_crawled</th>\n",
       "      <td>0</td>\n",
       "      <td>0.0</td>\n",
       "      <td>15470</td>\n",
       "      <td>354369</td>\n",
       "    </tr>\n",
       "    <tr>\n",
       "      <th>price</th>\n",
       "      <td>0</td>\n",
       "      <td>0.0</td>\n",
       "      <td>3731</td>\n",
       "      <td>354369</td>\n",
       "    </tr>\n",
       "    <tr>\n",
       "      <th>vehicle_type</th>\n",
       "      <td>0</td>\n",
       "      <td>0.0</td>\n",
       "      <td>8</td>\n",
       "      <td>354369</td>\n",
       "    </tr>\n",
       "    <tr>\n",
       "      <th>registration_year</th>\n",
       "      <td>0</td>\n",
       "      <td>0.0</td>\n",
       "      <td>151</td>\n",
       "      <td>354369</td>\n",
       "    </tr>\n",
       "    <tr>\n",
       "      <th>gearbox</th>\n",
       "      <td>0</td>\n",
       "      <td>0.0</td>\n",
       "      <td>3</td>\n",
       "      <td>354369</td>\n",
       "    </tr>\n",
       "    <tr>\n",
       "      <th>power</th>\n",
       "      <td>0</td>\n",
       "      <td>0.0</td>\n",
       "      <td>712</td>\n",
       "      <td>354369</td>\n",
       "    </tr>\n",
       "    <tr>\n",
       "      <th>model</th>\n",
       "      <td>0</td>\n",
       "      <td>0.0</td>\n",
       "      <td>251</td>\n",
       "      <td>354369</td>\n",
       "    </tr>\n",
       "    <tr>\n",
       "      <th>mileage</th>\n",
       "      <td>0</td>\n",
       "      <td>0.0</td>\n",
       "      <td>13</td>\n",
       "      <td>354369</td>\n",
       "    </tr>\n",
       "    <tr>\n",
       "      <th>registration_month</th>\n",
       "      <td>0</td>\n",
       "      <td>0.0</td>\n",
       "      <td>13</td>\n",
       "      <td>354369</td>\n",
       "    </tr>\n",
       "    <tr>\n",
       "      <th>fuel_type</th>\n",
       "      <td>0</td>\n",
       "      <td>0.0</td>\n",
       "      <td>7</td>\n",
       "      <td>354369</td>\n",
       "    </tr>\n",
       "    <tr>\n",
       "      <th>brand</th>\n",
       "      <td>0</td>\n",
       "      <td>0.0</td>\n",
       "      <td>40</td>\n",
       "      <td>354369</td>\n",
       "    </tr>\n",
       "    <tr>\n",
       "      <th>not_repaired</th>\n",
       "      <td>0</td>\n",
       "      <td>0.0</td>\n",
       "      <td>3</td>\n",
       "      <td>354369</td>\n",
       "    </tr>\n",
       "    <tr>\n",
       "      <th>date_created</th>\n",
       "      <td>0</td>\n",
       "      <td>0.0</td>\n",
       "      <td>109</td>\n",
       "      <td>354369</td>\n",
       "    </tr>\n",
       "    <tr>\n",
       "      <th>number_of_pictures</th>\n",
       "      <td>0</td>\n",
       "      <td>0.0</td>\n",
       "      <td>1</td>\n",
       "      <td>354369</td>\n",
       "    </tr>\n",
       "    <tr>\n",
       "      <th>postal_code</th>\n",
       "      <td>0</td>\n",
       "      <td>0.0</td>\n",
       "      <td>8143</td>\n",
       "      <td>354369</td>\n",
       "    </tr>\n",
       "    <tr>\n",
       "      <th>last_seen</th>\n",
       "      <td>0</td>\n",
       "      <td>0.0</td>\n",
       "      <td>18592</td>\n",
       "      <td>354369</td>\n",
       "    </tr>\n",
       "  </tbody>\n",
       "</table>\n",
       "</div>"
      ],
      "text/plain": [
       "                    missing_count  missing_percent  unique_values  total_rows\n",
       "date_crawled                    0              0.0          15470      354369\n",
       "price                           0              0.0           3731      354369\n",
       "vehicle_type                    0              0.0              8      354369\n",
       "registration_year               0              0.0            151      354369\n",
       "gearbox                         0              0.0              3      354369\n",
       "power                           0              0.0            712      354369\n",
       "model                           0              0.0            251      354369\n",
       "mileage                         0              0.0             13      354369\n",
       "registration_month              0              0.0             13      354369\n",
       "fuel_type                       0              0.0              7      354369\n",
       "brand                           0              0.0             40      354369\n",
       "not_repaired                    0              0.0              3      354369\n",
       "date_created                    0              0.0            109      354369\n",
       "number_of_pictures              0              0.0              1      354369\n",
       "postal_code                     0              0.0           8143      354369\n",
       "last_seen                       0              0.0          18592      354369"
      ]
     },
     "execution_count": 13,
     "metadata": {},
     "output_type": "execute_result"
    }
   ],
   "source": [
    "# Validating no more missing data\n",
    "\n",
    "missing_summary2 = pd.DataFrame({\n",
    "    \"missing_count\": data.isna().sum(),\n",
    "    \"missing_percent\": (data.isna().mean() * 100).round(2),\n",
    "    \"unique_values\": data.nunique(),\n",
    "    \"total_rows\": len(data)\n",
    "})\n",
    "\n",
    "# Sorting values by missing count\n",
    "\n",
    "missing_summary2 = missing_summary2.sort_values(by=\"missing_count\", ascending=False)\n",
    "\n",
    "missing_summary2\n"
   ]
  },
  {
   "cell_type": "markdown",
   "metadata": {},
   "source": [
    "<div style=\"border: 2px solid black; padding: 15px; margin: 5px\">\n",
    "\n",
    "No more missing values present. Now, moving on to validating data types in the data.\n",
    "\n",
    "</div>"
   ]
  },
  {
   "cell_type": "markdown",
   "metadata": {},
   "source": [
    " "
   ]
  },
  {
   "cell_type": "markdown",
   "metadata": {},
   "source": [
    " "
   ]
  },
  {
   "cell_type": "markdown",
   "metadata": {},
   "source": [
    "### Data Types"
   ]
  },
  {
   "cell_type": "code",
   "execution_count": 14,
   "metadata": {},
   "outputs": [
    {
     "name": "stdout",
     "output_type": "stream",
     "text": [
      "<class 'pandas.core.frame.DataFrame'>\n",
      "RangeIndex: 354369 entries, 0 to 354368\n",
      "Data columns (total 16 columns):\n",
      " #   Column              Non-Null Count   Dtype \n",
      "---  ------              --------------   ----- \n",
      " 0   date_crawled        354369 non-null  object\n",
      " 1   price               354369 non-null  int64 \n",
      " 2   vehicle_type        354369 non-null  object\n",
      " 3   registration_year   354369 non-null  int64 \n",
      " 4   gearbox             354369 non-null  object\n",
      " 5   power               354369 non-null  int64 \n",
      " 6   model               354369 non-null  object\n",
      " 7   mileage             354369 non-null  int64 \n",
      " 8   registration_month  354369 non-null  int64 \n",
      " 9   fuel_type           354369 non-null  object\n",
      " 10  brand               354369 non-null  object\n",
      " 11  not_repaired        354369 non-null  object\n",
      " 12  date_created        354369 non-null  object\n",
      " 13  number_of_pictures  354369 non-null  int64 \n",
      " 14  postal_code         354369 non-null  int64 \n",
      " 15  last_seen           354369 non-null  object\n",
      "dtypes: int64(7), object(9)\n",
      "memory usage: 43.3+ MB\n"
     ]
    }
   ],
   "source": [
    "# Viewing data types\n",
    "\n",
    "data.info()"
   ]
  },
  {
   "cell_type": "markdown",
   "metadata": {},
   "source": [
    "<div style=\"border: 2px solid black; padding: 15px; margin: 5px\">\n",
    "\n",
    "The **\"registration_month\"** and **\"registration_year\"** columns can be kept as int64 type.<br>\n",
    "\n",
    "The **\"date_crawled\"**, **\"date_created\"**, **\"last_seen\"**, **\"registration_month\"**, **postal_code**, and **number_of_pictures** columns will be removed as they do not add value in predicting car price.<br>\n",
    "\n",
    "No other data type needs to be adjusted in this set.\n",
    "\n",
    "</div>"
   ]
  },
  {
   "cell_type": "markdown",
   "metadata": {},
   "source": [
    "<div style=\"border: 5px solid blue; padding: 15px; margin: 5px\">\n",
    "<b>Andrew's Comments</b>\n",
    "\n",
    "Above, I removed the place where I was changing columns to **datetime** type. There was no importance of doing that in this project with this dataset.\n",
    "\n",
    "</div>"
   ]
  },
  {
   "cell_type": "markdown",
   "metadata": {},
   "source": [
    "<div style=\"border: 5px solid red; padding: 15px; margin: 5px\">\n",
    "<b>   Reviewer's comment </b>\n",
    "    \n",
    "   \n",
    "- There are columns that should be deleted to reduce computational cost. These are:  `LastSeen`, `DateCreated`, `RegistrationMonth`, `PostalCode` and `NumberOfPictures`. They do not influence price, so I recommend deleting them.\n",
    "\n",
    "\n",
    "- After removing unnecessary columns, it makes sense to check the data for duplicates again, as the dataset will later be splitted into training and test sets. Removing specific columns can cause previously distinct rows to become identical. If a dropped column contained unique values (ID or timestamp), removing it may make multiple rows appear the same.   \n",
    "\n",
    "\n",
    "- Are there any outliers in the data?  Please call the `describe` method and display charts. Drop abnormal values if they exist. Hint: `year`, `price`, and `power` columns definitely have outliers. Look at the lower and upper boundaries. \n",
    "</div>"
   ]
  },
  {
   "cell_type": "markdown",
   "metadata": {},
   "source": [
    "<div style=\"border: 5px solid blue; padding: 15px; margin: 5px\">\n",
    "<b>Andrew's Comments</b>\n",
    "\n",
    "- Below, I dropped those unnecessary columns and then validated by displaying `info()`\n",
    "\n",
    "- After, I checked for duplicates once again. Many of the columns have duplicate values because there are only a few options that each parameter can be. Do I need to address these duplicates?\n",
    "\n",
    "- For <b>Outliers</b>, I went through each column, displayed boxplots for them, dealt with the outliers and then displayed boxplots again for comparison.\n",
    "\n",
    "\n",
    "</div>"
   ]
  },
  {
   "cell_type": "markdown",
   "metadata": {},
   "source": [
    " "
   ]
  },
  {
   "cell_type": "markdown",
   "metadata": {},
   "source": [
    "### Dropping Data"
   ]
  },
  {
   "cell_type": "code",
   "execution_count": 15,
   "metadata": {},
   "outputs": [
    {
     "name": "stdout",
     "output_type": "stream",
     "text": [
      "<class 'pandas.core.frame.DataFrame'>\n",
      "RangeIndex: 354369 entries, 0 to 354368\n",
      "Data columns (total 10 columns):\n",
      " #   Column             Non-Null Count   Dtype \n",
      "---  ------             --------------   ----- \n",
      " 0   price              354369 non-null  int64 \n",
      " 1   vehicle_type       354369 non-null  object\n",
      " 2   registration_year  354369 non-null  int64 \n",
      " 3   gearbox            354369 non-null  object\n",
      " 4   power              354369 non-null  int64 \n",
      " 5   model              354369 non-null  object\n",
      " 6   mileage            354369 non-null  int64 \n",
      " 7   fuel_type          354369 non-null  object\n",
      " 8   brand              354369 non-null  object\n",
      " 9   not_repaired       354369 non-null  object\n",
      "dtypes: int64(4), object(6)\n",
      "memory usage: 27.0+ MB\n"
     ]
    }
   ],
   "source": [
    "# We need to remove the following columns as they do not provide relevant information to predict car price\n",
    "\n",
    "data = data.drop([\"last_seen\", \"date_created\", \"registration_month\", \"postal_code\", \"number_of_pictures\", \"date_crawled\"], axis=1)\n",
    "\n",
    "# Validating removal of columns\n",
    "data.info()"
   ]
  },
  {
   "cell_type": "markdown",
   "metadata": {},
   "source": [
    " "
   ]
  },
  {
   "cell_type": "markdown",
   "metadata": {},
   "source": [
    "### Checking for Duplicates"
   ]
  },
  {
   "cell_type": "code",
   "execution_count": 16,
   "metadata": {},
   "outputs": [
    {
     "data": {
      "text/html": [
       "<div>\n",
       "<style scoped>\n",
       "    .dataframe tbody tr th:only-of-type {\n",
       "        vertical-align: middle;\n",
       "    }\n",
       "\n",
       "    .dataframe tbody tr th {\n",
       "        vertical-align: top;\n",
       "    }\n",
       "\n",
       "    .dataframe thead th {\n",
       "        text-align: right;\n",
       "    }\n",
       "</style>\n",
       "<table border=\"1\" class=\"dataframe\">\n",
       "  <thead>\n",
       "    <tr style=\"text-align: right;\">\n",
       "      <th></th>\n",
       "      <th>duplicates_count</th>\n",
       "      <th>duplicates_percent</th>\n",
       "      <th>unique_values</th>\n",
       "      <th>total_rows</th>\n",
       "    </tr>\n",
       "  </thead>\n",
       "  <tbody>\n",
       "    <tr>\n",
       "      <th>price</th>\n",
       "      <td>350638</td>\n",
       "      <td>98.947143</td>\n",
       "      <td>3731</td>\n",
       "      <td>354369</td>\n",
       "    </tr>\n",
       "    <tr>\n",
       "      <th>vehicle_type</th>\n",
       "      <td>354361</td>\n",
       "      <td>99.997742</td>\n",
       "      <td>8</td>\n",
       "      <td>354369</td>\n",
       "    </tr>\n",
       "    <tr>\n",
       "      <th>registration_year</th>\n",
       "      <td>354218</td>\n",
       "      <td>99.957389</td>\n",
       "      <td>151</td>\n",
       "      <td>354369</td>\n",
       "    </tr>\n",
       "    <tr>\n",
       "      <th>gearbox</th>\n",
       "      <td>354366</td>\n",
       "      <td>99.999153</td>\n",
       "      <td>3</td>\n",
       "      <td>354369</td>\n",
       "    </tr>\n",
       "    <tr>\n",
       "      <th>power</th>\n",
       "      <td>353657</td>\n",
       "      <td>99.799079</td>\n",
       "      <td>712</td>\n",
       "      <td>354369</td>\n",
       "    </tr>\n",
       "    <tr>\n",
       "      <th>model</th>\n",
       "      <td>354118</td>\n",
       "      <td>99.929170</td>\n",
       "      <td>251</td>\n",
       "      <td>354369</td>\n",
       "    </tr>\n",
       "    <tr>\n",
       "      <th>mileage</th>\n",
       "      <td>354356</td>\n",
       "      <td>99.996332</td>\n",
       "      <td>13</td>\n",
       "      <td>354369</td>\n",
       "    </tr>\n",
       "    <tr>\n",
       "      <th>fuel_type</th>\n",
       "      <td>354362</td>\n",
       "      <td>99.998025</td>\n",
       "      <td>7</td>\n",
       "      <td>354369</td>\n",
       "    </tr>\n",
       "    <tr>\n",
       "      <th>brand</th>\n",
       "      <td>354329</td>\n",
       "      <td>99.988712</td>\n",
       "      <td>40</td>\n",
       "      <td>354369</td>\n",
       "    </tr>\n",
       "    <tr>\n",
       "      <th>not_repaired</th>\n",
       "      <td>354366</td>\n",
       "      <td>99.999153</td>\n",
       "      <td>3</td>\n",
       "      <td>354369</td>\n",
       "    </tr>\n",
       "  </tbody>\n",
       "</table>\n",
       "</div>"
      ],
      "text/plain": [
       "                   duplicates_count  duplicates_percent  unique_values  \\\n",
       "price                        350638           98.947143           3731   \n",
       "vehicle_type                 354361           99.997742              8   \n",
       "registration_year            354218           99.957389            151   \n",
       "gearbox                      354366           99.999153              3   \n",
       "power                        353657           99.799079            712   \n",
       "model                        354118           99.929170            251   \n",
       "mileage                      354356           99.996332             13   \n",
       "fuel_type                    354362           99.998025              7   \n",
       "brand                        354329           99.988712             40   \n",
       "not_repaired                 354366           99.999153              3   \n",
       "\n",
       "                   total_rows  \n",
       "price                  354369  \n",
       "vehicle_type           354369  \n",
       "registration_year      354369  \n",
       "gearbox                354369  \n",
       "power                  354369  \n",
       "model                  354369  \n",
       "mileage                354369  \n",
       "fuel_type              354369  \n",
       "brand                  354369  \n",
       "not_repaired           354369  "
      ]
     },
     "execution_count": 16,
     "metadata": {},
     "output_type": "execute_result"
    }
   ],
   "source": [
    "# Checking for duplicates after dropping columns\n",
    "\n",
    "duplicate_summary_3 = pd.DataFrame({\n",
    "    \"duplicates_count\": [data[col].duplicated().sum() for col in data.columns],\n",
    "    \"duplicates_percent\": [data[col].duplicated().mean() * 100 for col in data.columns],\n",
    "    \"unique_values\": [data[col].nunique() for col in data.columns],\n",
    "    \"total_rows\": len(data)\n",
    "}, index=data.columns)\n",
    "\n",
    "duplicate_summary_3"
   ]
  },
  {
   "cell_type": "markdown",
   "metadata": {},
   "source": [
    " "
   ]
  },
  {
   "cell_type": "markdown",
   "metadata": {},
   "source": [
    "### Outliers"
   ]
  },
  {
   "cell_type": "code",
   "execution_count": 17,
   "metadata": {},
   "outputs": [
    {
     "data": {
      "text/html": [
       "<div>\n",
       "<style scoped>\n",
       "    .dataframe tbody tr th:only-of-type {\n",
       "        vertical-align: middle;\n",
       "    }\n",
       "\n",
       "    .dataframe tbody tr th {\n",
       "        vertical-align: top;\n",
       "    }\n",
       "\n",
       "    .dataframe thead th {\n",
       "        text-align: right;\n",
       "    }\n",
       "</style>\n",
       "<table border=\"1\" class=\"dataframe\">\n",
       "  <thead>\n",
       "    <tr style=\"text-align: right;\">\n",
       "      <th></th>\n",
       "      <th>price</th>\n",
       "      <th>registration_year</th>\n",
       "      <th>power</th>\n",
       "      <th>mileage</th>\n",
       "    </tr>\n",
       "  </thead>\n",
       "  <tbody>\n",
       "    <tr>\n",
       "      <th>count</th>\n",
       "      <td>354369.0</td>\n",
       "      <td>354369.0</td>\n",
       "      <td>354369.0</td>\n",
       "      <td>354369.0</td>\n",
       "    </tr>\n",
       "    <tr>\n",
       "      <th>mean</th>\n",
       "      <td>4417.0</td>\n",
       "      <td>2004.0</td>\n",
       "      <td>110.0</td>\n",
       "      <td>128211.0</td>\n",
       "    </tr>\n",
       "    <tr>\n",
       "      <th>std</th>\n",
       "      <td>4514.0</td>\n",
       "      <td>90.0</td>\n",
       "      <td>190.0</td>\n",
       "      <td>37905.0</td>\n",
       "    </tr>\n",
       "    <tr>\n",
       "      <th>min</th>\n",
       "      <td>0.0</td>\n",
       "      <td>1000.0</td>\n",
       "      <td>0.0</td>\n",
       "      <td>5000.0</td>\n",
       "    </tr>\n",
       "    <tr>\n",
       "      <th>25%</th>\n",
       "      <td>1050.0</td>\n",
       "      <td>1999.0</td>\n",
       "      <td>69.0</td>\n",
       "      <td>125000.0</td>\n",
       "    </tr>\n",
       "    <tr>\n",
       "      <th>50%</th>\n",
       "      <td>2700.0</td>\n",
       "      <td>2003.0</td>\n",
       "      <td>105.0</td>\n",
       "      <td>150000.0</td>\n",
       "    </tr>\n",
       "    <tr>\n",
       "      <th>75%</th>\n",
       "      <td>6400.0</td>\n",
       "      <td>2008.0</td>\n",
       "      <td>143.0</td>\n",
       "      <td>150000.0</td>\n",
       "    </tr>\n",
       "    <tr>\n",
       "      <th>max</th>\n",
       "      <td>20000.0</td>\n",
       "      <td>9999.0</td>\n",
       "      <td>20000.0</td>\n",
       "      <td>150000.0</td>\n",
       "    </tr>\n",
       "  </tbody>\n",
       "</table>\n",
       "</div>"
      ],
      "text/plain": [
       "          price  registration_year     power   mileage\n",
       "count  354369.0           354369.0  354369.0  354369.0\n",
       "mean     4417.0             2004.0     110.0  128211.0\n",
       "std      4514.0               90.0     190.0   37905.0\n",
       "min         0.0             1000.0       0.0    5000.0\n",
       "25%      1050.0             1999.0      69.0  125000.0\n",
       "50%      2700.0             2003.0     105.0  150000.0\n",
       "75%      6400.0             2008.0     143.0  150000.0\n",
       "max     20000.0             9999.0   20000.0  150000.0"
      ]
     },
     "execution_count": 17,
     "metadata": {},
     "output_type": "execute_result"
    }
   ],
   "source": [
    "# Using describe() to search for ourliers\n",
    "\n",
    "data.describe().round()"
   ]
  },
  {
   "cell_type": "markdown",
   "metadata": {},
   "source": [
    "<div style=\"border: 2px solid black; padding: 15px; margin: 5px\">\n",
    "\n",
    "After reviewing the means and medians in the data above, we can see that there are outliers that are skewing the mean. We need to find these outliers and remove them to help with accuracy in our training. <br><br>\n",
    "\n",
    "Here's what we're seeing for each column:<br>\n",
    "\n",
    "<b>price</b>\n",
    "* Although the MAX value is a plausible one, we're seeing the minimum value as 0, which would mean no cost. <u>We will remove the rows with data of \"0\" in the `price` column.\n",
    "<br>\n",
    "\n",
    "<b>registration_year</b>\n",
    "* The MAX value for this column is 9999 which isn't a valid year value. We will remove rows with this value in this column since we cannot determine the accurate year.\n",
    "<br>\n",
    "\n",
    "<b>power</b>\n",
    "* This value is in \"hp\" (horsepower). We will choose \"600\" as the upper limit for this value. The MAX value here, 20,000, isn't a valid value for the unit it's describing.\n",
    "<br>\n",
    "\n",
    "<b>mileage</b>\n",
    "* In the mileage column, there are a large majority of rows containing the mileage as \"150,000\" miles. We will remove these rows as they are skewing the data too widely.\n",
    "\n",
    "\n",
    "</div>"
   ]
  },
  {
   "cell_type": "markdown",
   "metadata": {},
   "source": [
    " "
   ]
  },
  {
   "cell_type": "code",
   "execution_count": 18,
   "metadata": {},
   "outputs": [
    {
     "data": {
      "image/png": "[encoded data removed]",
      "text/plain": [
       "<Figure size 2400x3000 with 4 Axes>"
      ]
     },
     "metadata": {},
     "output_type": "display_data"
    }
   ],
   "source": [
    "# Displaying the columns above with boxplots\n",
    "\n",
    "cols = [\"price\", \"registration_year\", \"power\", \"mileage\"]\n",
    "\n",
    "plt.figure(figsize=(24, 30))\n",
    "\n",
    "for i, col in enumerate(cols, 1):\n",
    "    plt.subplot(4, 1, i)\n",
    "    sns.boxplot(x=data[col])\n",
    "    plt.title(f\"Boxplot of {col}\")\n",
    "\n",
    "plt.show()"
   ]
  },
  {
   "cell_type": "markdown",
   "metadata": {},
   "source": [
    " "
   ]
  },
  {
   "cell_type": "markdown",
   "metadata": {},
   "source": [
    "#### `price` Column"
   ]
  },
  {
   "cell_type": "code",
   "execution_count": 19,
   "metadata": {},
   "outputs": [
    {
     "data": {
      "text/plain": [
       "0        10772\n",
       "500       5670\n",
       "1500      5394\n",
       "1000      4649\n",
       "1200      4594\n",
       "         ...  \n",
       "13180        1\n",
       "10879        1\n",
       "2683         1\n",
       "634          1\n",
       "8188         1\n",
       "Name: price, Length: 3731, dtype: int64"
      ]
     },
     "execution_count": 19,
     "metadata": {},
     "output_type": "execute_result"
    }
   ],
   "source": [
    "# Displaying value_counts for `price` column\n",
    "\n",
    "data['price'].value_counts()"
   ]
  },
  {
   "cell_type": "markdown",
   "metadata": {},
   "source": [
    " "
   ]
  },
  {
   "cell_type": "code",
   "execution_count": 20,
   "metadata": {},
   "outputs": [
    {
     "data": {
      "text/plain": [
       "500      5670\n",
       "1500     5394\n",
       "1000     4649\n",
       "1200     4594\n",
       "2500     4438\n",
       "         ... \n",
       "5240        1\n",
       "13180       1\n",
       "10879       1\n",
       "2683        1\n",
       "8188        1\n",
       "Name: price, Length: 3730, dtype: int64"
      ]
     },
     "execution_count": 20,
     "metadata": {},
     "output_type": "execute_result"
    }
   ],
   "source": [
    "# Removing rows with value 0, validating results\n",
    "\n",
    "data = data[data['price'] != 0].reset_index(drop=True)\n",
    "\n",
    "data['price'].value_counts()"
   ]
  },
  {
   "cell_type": "markdown",
   "metadata": {},
   "source": [
    " "
   ]
  },
  {
   "cell_type": "markdown",
   "metadata": {},
   "source": [
    " "
   ]
  },
  {
   "cell_type": "markdown",
   "metadata": {},
   "source": [
    "#### `registration_year` Column"
   ]
  },
  {
   "cell_type": "code",
   "execution_count": 21,
   "metadata": {},
   "outputs": [
    {
     "name": "stdout",
     "output_type": "stream",
     "text": [
      "1000 9999\n"
     ]
    }
   ],
   "source": [
    "# Displaying values in this column\n",
    "\n",
    "print(data['registration_year'].min(), data['registration_year'].max())"
   ]
  },
  {
   "cell_type": "markdown",
   "metadata": {},
   "source": [
    " "
   ]
  },
  {
   "cell_type": "code",
   "execution_count": 22,
   "metadata": {},
   "outputs": [
    {
     "name": "stdout",
     "output_type": "stream",
     "text": [
      "1950 2019\n"
     ]
    }
   ],
   "source": [
    "# Removing values that are greater than \"2025\", the current year.\n",
    "\n",
    "data = data[(data[\"registration_year\"] >= 1950) & (data[\"registration_year\"] <= 2025)]\n",
    "\n",
    "# Validating adjustments were made\n",
    "\n",
    "print(data['registration_year'].min(), data['registration_year'].max())"
   ]
  },
  {
   "cell_type": "markdown",
   "metadata": {},
   "source": [
    " "
   ]
  },
  {
   "cell_type": "markdown",
   "metadata": {},
   "source": [
    " "
   ]
  },
  {
   "cell_type": "markdown",
   "metadata": {},
   "source": [
    "#### `power` Column"
   ]
  },
  {
   "cell_type": "code",
   "execution_count": 23,
   "metadata": {},
   "outputs": [
    {
     "name": "stdout",
     "output_type": "stream",
     "text": [
      "0 20000\n"
     ]
    }
   ],
   "source": [
    "# Displaying min and max values in this column\n",
    "\n",
    "print(data['power'].min(), data['power'].max())"
   ]
  },
  {
   "cell_type": "markdown",
   "metadata": {},
   "source": [
    " "
   ]
  },
  {
   "cell_type": "code",
   "execution_count": 24,
   "metadata": {},
   "outputs": [
    {
     "name": "stdout",
     "output_type": "stream",
     "text": [
      "75 600\n"
     ]
    }
   ],
   "source": [
    "# Removing values that are not within the lower and upper typical limits (75 - 600)\n",
    "\n",
    "data = data[(data['power'] >= 75) & (data['power'] <= 600)]\n",
    "\n",
    "# Validating that changes were made\n",
    "\n",
    "print(data['power'].min(), data['power'].max())"
   ]
  },
  {
   "cell_type": "markdown",
   "metadata": {},
   "source": [
    "  "
   ]
  },
  {
   "cell_type": "markdown",
   "metadata": {},
   "source": [
    " "
   ]
  },
  {
   "cell_type": "markdown",
   "metadata": {},
   "source": [
    "#### `mileage` Column"
   ]
  },
  {
   "cell_type": "code",
   "execution_count": 25,
   "metadata": {},
   "outputs": [
    {
     "data": {
      "text/plain": [
       "150000    173993\n",
       "125000     25145\n",
       "100000     10182\n",
       "90000       8072\n",
       "80000       7099\n",
       "70000       6102\n",
       "60000       5337\n",
       "50000       4355\n",
       "40000       3472\n",
       "30000       3036\n",
       "20000       2519\n",
       "5000        2265\n",
       "10000        676\n",
       "Name: mileage, dtype: int64"
      ]
     },
     "execution_count": 25,
     "metadata": {},
     "output_type": "execute_result"
    }
   ],
   "source": [
    "# Displaying value counts in this column\n",
    "\n",
    "data['mileage'].value_counts()"
   ]
  },
  {
   "cell_type": "markdown",
   "metadata": {},
   "source": [
    " "
   ]
  },
  {
   "cell_type": "code",
   "execution_count": 26,
   "metadata": {},
   "outputs": [
    {
     "data": {
      "text/plain": [
       "125000    25145\n",
       "100000    10182\n",
       "90000      8072\n",
       "80000      7099\n",
       "70000      6102\n",
       "60000      5337\n",
       "50000      4355\n",
       "40000      3472\n",
       "30000      3036\n",
       "20000      2519\n",
       "5000       2265\n",
       "10000       676\n",
       "Name: mileage, dtype: int64"
      ]
     },
     "execution_count": 26,
     "metadata": {},
     "output_type": "execute_result"
    }
   ],
   "source": [
    "# Removing the 173,993 rows that are skewing that data\n",
    "\n",
    "data = data[data['mileage'] != 150000].reset_index(drop=True)\n",
    "\n",
    "# Validating that changes were made\n",
    "\n",
    "data['mileage'].value_counts()"
   ]
  },
  {
   "cell_type": "markdown",
   "metadata": {},
   "source": [
    "  "
   ]
  },
  {
   "cell_type": "markdown",
   "metadata": {},
   "source": [
    " "
   ]
  },
  {
   "cell_type": "markdown",
   "metadata": {},
   "source": [
    "#### New Distributions"
   ]
  },
  {
   "cell_type": "code",
   "execution_count": 27,
   "metadata": {},
   "outputs": [
    {
     "data": {
      "image/png": "[encoded data removed]",
      "text/plain": [
       "<Figure size 2400x3000 with 4 Axes>"
      ]
     },
     "metadata": {},
     "output_type": "display_data"
    }
   ],
   "source": [
    "# Distributions after removing outliers\n",
    "\n",
    "cols = [\"price\", \"registration_year\", \"power\", \"mileage\"]\n",
    "\n",
    "plt.figure(figsize=(24, 30))\n",
    "\n",
    "for i, col in enumerate(cols, 1):\n",
    "    plt.subplot(4, 1, i)\n",
    "    sns.boxplot(x=data[col])\n",
    "    plt.title(f\"Boxplot of {col}\")\n",
    "\n",
    "plt.show()"
   ]
  },
  {
   "cell_type": "markdown",
   "metadata": {},
   "source": [
    "<div style=\"border: 2px solid black; padding: 15px; margin: 5px\">\n",
    "\n",
    "Although there is still outliers present in the columns, there is a much better distribution of data across all four data points.\n",
    "\n",
    "</div>"
   ]
  },
  {
   "cell_type": "markdown",
   "metadata": {},
   "source": [
    "  "
   ]
  },
  {
   "cell_type": "markdown",
   "metadata": {},
   "source": [
    " "
   ]
  },
  {
   "cell_type": "markdown",
   "metadata": {},
   "source": [
    "## Model Training"
   ]
  },
  {
   "cell_type": "markdown",
   "metadata": {},
   "source": [
    "### Linear Regression"
   ]
  },
  {
   "cell_type": "markdown",
   "metadata": {},
   "source": [
    "<div style=\"border: 5px solid gold; padding: 15px; margin: 5px\">\n",
    "<b>   Reviewer's comment </b>\n",
    "    \n",
    "Will these new features be helpful in predicting the price? Does it matter when the listing was downloaded? \n",
    "</div>"
   ]
  },
  {
   "cell_type": "markdown",
   "metadata": {},
   "source": [
    "<div style=\"border: 5px solid blue; padding: 15px; margin: 5px\">\n",
    "<b>Andrew's Response</b>\n",
    "    \n",
    "You're right, those features didn't really add any value in predicting the price for cars. I removed this cell entirely.\n",
    "\n",
    "</div>"
   ]
  },
  {
   "cell_type": "code",
   "execution_count": 28,
   "metadata": {},
   "outputs": [
    {
     "name": "stdout",
     "output_type": "stream",
     "text": [
      "RMSE on Validation: 3,100.33\n",
      "\n",
      "LR Model Fit Time: 2.03 seconds\n",
      "LR Model Predict Time: 0.21 seconds\n",
      "[Linear Regression Model] took 2.27 seconds\n"
     ]
    }
   ],
   "source": [
    "%%savetiming Linear Regression Model\n",
    "\n",
    "# Making a copy of the data set\n",
    "data_lr = data.copy()\n",
    "\n",
    "# Creating features and target\n",
    "features_lr = data_lr.drop(['price'], axis=1)\n",
    "target_lr = data_lr['price']\n",
    "\n",
    "# Identifying categorical columns\n",
    "cat_cols_lr = features_lr.select_dtypes(include=[\"object\"]).columns\n",
    "\n",
    "# OneHot Encoding for Categorical columns\n",
    "preprocessor = ColumnTransformer(\n",
    "    transformers=[\n",
    "        (\"cat\", OneHotEncoder(handle_unknown=\"ignore\", sparse=False), cat_cols_lr),\n",
    "    ],\n",
    "    remainder=\"passthrough\"\n",
    ")\n",
    "\n",
    "# Splitting validation and training sets\n",
    "features_train_lr, features_valid_lr, target_train_lr, target_valid_lr = train_test_split(\n",
    "    features_lr, target_lr, test_size=0.3, random_state=12345\n",
    ")\n",
    "\n",
    "# Creating Pipeline = preprocessing + model\n",
    "model_lr = make_pipeline(preprocessor, LinearRegression())\n",
    "\n",
    "# Fitting & Predicting\n",
    "start_time_lr_fit = time.time()\n",
    "model_lr.fit(features_train_lr, target_train_lr)\n",
    "end_time_lr_fit = time.time()\n",
    "\n",
    "start_time_lr_predict = time.time()\n",
    "predictions_valid_lr = model_lr.predict(features_train_lr)\n",
    "end_time_lr_predict = time.time()\n",
    "\n",
    "# Calculating run times\n",
    "time_lr_fit = end_time_lr_fit - start_time_lr_fit\n",
    "time_lr_predict = end_time_lr_predict - start_time_lr_predict\n",
    "\n",
    "# Calculating RMSE on validation set\n",
    "rmse_lr = np.sqrt(mean_squared_error(target_train_lr, predictions_valid_lr))\n",
    "print(f\"RMSE on Validation: {rmse_lr:,.2f}\")\n",
    "print()\n",
    "print(f\"LR Model Fit Time: {time_lr_fit:.2f} seconds\")\n",
    "print(f\"LR Model Predict Time: {time_lr_predict:.2f} seconds\")"
   ]
  },
  {
   "cell_type": "markdown",
   "metadata": {},
   "source": [
    "<div style=\"border: 5px solid green; padding: 15px; margin: 5px\">\n",
    "<b>   Reviewer's comment </b>\n",
    "    \n",
    "It's great that you use `ColumnTransformer`. This is an advanced tool that makes your code cleaner and easier to maintain.\n",
    "</div>\n",
    "<div style=\"border: 5px solid red; padding: 15px; margin: 5px\">\n",
    "<b> Reviewer's comment</b>\n",
    "    \n",
    "\n",
    "- Please use training subset to calculate RMSE. One of the subsets (validation in this case) must be saved for the final test. \n",
    "\n",
    "\n",
    "- One of the main goals here is to compare models' training and prediction speed. Would you please estimate them separately for each of the models? \n",
    "\n",
    "You can do it as follows: \n",
    "\n",
    "\n",
    "```python\n",
    "start_time = time.time()\n",
    "model.fit(X_train, y_train)\n",
    "end_time1 = time.time()  \n",
    "\n",
    "\n",
    "start_time = time.time()\n",
    "model.predict(X_valid, y_valid)\n",
    "end_time2 = time.time()  \n",
    "\n",
    "```\n",
    "\n",
    "</div>"
   ]
  },
  {
   "cell_type": "markdown",
   "metadata": {},
   "source": [
    "<div style=\"border: 5px solid blue; padding: 15px; margin: 5px\">\n",
    "<b>Andrew's Response</b>\n",
    "    \n",
    "* I changed the features set from \"validation\" set to \"training\" set in the `predict()` call.\n",
    "\n",
    "* Also changed the target variable in the `mean_squared_error` code to training set as well.\n",
    "\n",
    "* Also setup the run times for the model in the way you requested.\n",
    "\n",
    "</div>"
   ]
  },
  {
   "cell_type": "markdown",
   "metadata": {},
   "source": [
    " "
   ]
  },
  {
   "cell_type": "code",
   "execution_count": 29,
   "metadata": {},
   "outputs": [
    {
     "name": "stdout",
     "output_type": "stream",
     "text": [
      "Target Std: 5,269.73\n",
      "LR Model RMSE: 3,100.33\n",
      "% of Target Std: 58.83%\n"
     ]
    }
   ],
   "source": [
    "# Comparing RMSE to the standard deviation of the target variable\n",
    "\n",
    "# Creating variable for std of target\n",
    "target_std_lr = np.std(target_lr, ddof=0)\n",
    "\n",
    "print(f\"Target Std: {target_std_lr:,.2f}\")\n",
    "print(f\"LR Model RMSE: {rmse_lr:,.2f}\")\n",
    "print(f\"% of Target Std: {rmse_lr / target_std_lr * 100:.2f}%\")"
   ]
  },
  {
   "cell_type": "markdown",
   "metadata": {},
   "source": [
    "<div style=\"border: 2px solid black; padding: 15px; margin: 5px\">\n",
    "\n",
    "When comparing the LR Model's RMSE to the Target Std, we're seeing that the model has reduced prediction error by about <b>41%</b> compared to simply predicting the average price for all listings. This means the model is capturing meaningful patterns, but there's still room to improve the model.\n",
    "\n",
    "</div>"
   ]
  },
  {
   "cell_type": "markdown",
   "metadata": {},
   "source": [
    " "
   ]
  },
  {
   "cell_type": "code",
   "execution_count": 30,
   "metadata": {},
   "outputs": [
    {
     "name": "stdout",
     "output_type": "stream",
     "text": [
      "Baseline RMSE: 5,281.93\n",
      "Improvement Over Baseline: 41.30%\n"
     ]
    }
   ],
   "source": [
    "# Comparing RMSE of model to the baseline RMSE\n",
    "\n",
    "# Calculating the mean of the target variable\n",
    "baseline_pred_lr = np.full_like(target_valid_lr, fill_value=target_train_lr.mean(), dtype=np.float64)\n",
    "\n",
    "# Displaying baseline RMSE\n",
    "baseline_rmse_lr = np.sqrt(mean_squared_error(target_valid_lr, baseline_pred_lr))\n",
    "\n",
    "# Comparing baseline to model RMSE\n",
    "improvement_lr = (baseline_rmse_lr - rmse_lr) / baseline_rmse_lr * 100\n",
    "\n",
    "print(f\"Baseline RMSE: {baseline_rmse_lr:,.2f}\")\n",
    "print(f\"Improvement Over Baseline: {improvement_lr:.2f}%\")"
   ]
  },
  {
   "cell_type": "markdown",
   "metadata": {},
   "source": [
    "<div style=\"border: 2px solid black; padding: 15px; margin: 5px\">\n",
    "\n",
    "Comparing to baseline, we're seeing that the LR model has improved it's prediction by a little bit more than 1/3rd compared to the baseline mean prediction. Improving the model through better feature engineering, additional data, or using a different model type will help to improve these numbers to close the gap even further.\n",
    "\n",
    "</div>"
   ]
  },
  {
   "cell_type": "markdown",
   "metadata": {},
   "source": [
    "<div style=\"border: 5px solid green; padding: 15px; margin: 5px\">\n",
    "<b>   Reviewer's comment </b>\n",
    "    \n",
    "Good idea! \n",
    "</div>"
   ]
  },
  {
   "cell_type": "markdown",
   "metadata": {},
   "source": [
    " "
   ]
  },
  {
   "cell_type": "markdown",
   "metadata": {},
   "source": [
    " "
   ]
  },
  {
   "cell_type": "markdown",
   "metadata": {},
   "source": [
    "### Random Forest"
   ]
  },
  {
   "cell_type": "code",
   "execution_count": 31,
   "metadata": {},
   "outputs": [
    {
     "name": "stdout",
     "output_type": "stream",
     "text": [
      "Fitting 2 folds for each of 3 candidates, totalling 6 fits\n",
      "Best Params Found: {'rf__n_estimators': 50, 'rf__min_samples_split': 5, 'rf__min_samples_leaf': 5, 'rf__max_samples': 0.6, 'rf__max_features': 0.5, 'rf__max_depth': 12}\n",
      "\n",
      "Best CV RMSE: 2260.513490376324\n"
     ]
    }
   ],
   "source": [
    "# Using RandomizedSearchCV to find best parameters for RF\n",
    "\n",
    "# Initiating Pipeline\n",
    "pipe = Pipeline([\n",
    "    (\"preprocessor\", preprocessor),\n",
    "    (\"rf\", RandomForestRegressor(random_state=12345, n_jobs=-1))\n",
    "])\n",
    "\n",
    "# Parameters to test\n",
    "param_dist = {\n",
    "    \"rf__n_estimators\": [50, 75, 100],\n",
    "    \"rf__max_depth\": [8, 10, 12],\n",
    "    \"rf__max_features\": [\"sqrt\", 0.5],\n",
    "    \"rf__min_samples_split\": [1, 2, 5],\n",
    "    \"rf__min_samples_leaf\": [2, 5, 10],\n",
    "    \"rf__max_samples\": [0.6, 0.8]\n",
    "}\n",
    "\n",
    "# Randomized search\n",
    "random_search = RandomizedSearchCV(\n",
    "    pipe,\n",
    "    param_distributions=param_dist,\n",
    "    n_iter=3,\n",
    "    scoring=\"neg_root_mean_squared_error\",\n",
    "    cv=2,\n",
    "    random_state=12345,\n",
    "    verbose=1,\n",
    "    n_jobs=-1\n",
    ")\n",
    "\n",
    "# Fitting with the training data\n",
    "random_search.fit(features_train_lr, target_train_lr)\n",
    "\n",
    "print(\"Best Params Found:\", random_search.best_params_)\n",
    "print()\n",
    "print(\"Best CV RMSE:\", -random_search.best_score_)"
   ]
  },
  {
   "cell_type": "markdown",
   "metadata": {},
   "source": [
    "<div style=\"border: 5px solid green; padding: 15px; margin: 5px\">\n",
    "<b>   Reviewer's comment </b>\n",
    "    \n",
    "    \n",
    "You have successfully implemented hyperparameters tuning, well done!     \n",
    "</div>"
   ]
  },
  {
   "cell_type": "markdown",
   "metadata": {},
   "source": [
    " "
   ]
  },
  {
   "cell_type": "code",
   "execution_count": 32,
   "metadata": {},
   "outputs": [
    {
     "name": "stdout",
     "output_type": "stream",
     "text": [
      "RandomForest RMSE: 1,922.40\n",
      "\n",
      "LR Model Fit Time: 8.13 seconds\n",
      "LR Model Predict Time: 0.38 seconds\n",
      "[Random Forest Model] took 8.51 seconds\n"
     ]
    }
   ],
   "source": [
    "%%savetiming Random Forest Model\n",
    "\n",
    "# Using same variables from LR Model after OHE preprocessing\n",
    "\n",
    "# Creating RF model\n",
    "model_rf = Pipeline([\n",
    "    (\"preprocessor\", preprocessor),\n",
    "    (\"model\", RandomForestRegressor(\n",
    "        n_estimators=50,\n",
    "        max_depth=12,\n",
    "        random_state=12345,\n",
    "        n_jobs=-1\n",
    "    ))\n",
    "])\n",
    "\n",
    "# Fitting & Predicting\n",
    "st_rf_fit = time.time()\n",
    "model_rf.fit(features_train_lr, target_train_lr)\n",
    "et_rf_fit = time.time()\n",
    "\n",
    "st_rf_predict = time.time()\n",
    "predictions_rf = model_rf.predict(features_train_lr)\n",
    "et_rf_predict = time.time()\n",
    "\n",
    "# Calculating run times\n",
    "time_rf_fit = et_rf_fit - st_rf_fit\n",
    "time_rf_predict = et_rf_predict - st_rf_predict\n",
    "\n",
    "# Calculating RMSE for RandomForest\n",
    "rmse_rf = np.sqrt(mean_squared_error(target_train_lr, predictions_rf))\n",
    "\n",
    "print(f\"RandomForest RMSE: {rmse_rf:,.2f}\")\n",
    "print()\n",
    "print(f\"LR Model Fit Time: {time_rf_fit:.2f} seconds\")\n",
    "print(f\"LR Model Predict Time: {time_rf_predict:.2f} seconds\")"
   ]
  },
  {
   "cell_type": "markdown",
   "metadata": {},
   "source": [
    "<div style=\"border: 5px solid red; padding: 15px; margin: 5px\">\n",
    "<b>   Reviewer's comment </b>\n",
    "    \n",
    "    \n",
    "Please save validation subset for the final test. Here you need to calculate cross-validation RMSE or use training subset. \n",
    "\n",
    "There are two common strategies for splitting data when training machine learning models:\n",
    "\n",
    "1. Three-way split (train/validation/test):\n",
    "\n",
    "The dataset is divided into three parts:\n",
    "\n",
    "\n",
    "- Training set that is used to fit the model.\n",
    "\n",
    "- Validation set that is used to tune hyperparameters and select the best model.\n",
    "\n",
    "- Test set that is kept completely separate and used only at the very end, to evaluate the final chosen model.\n",
    "\n",
    "\n",
    "\n",
    "This approach works well when you have enough data to afford splitting into three subsets.\n",
    "\n",
    "2. Two-way split with cross-validation:\n",
    "\n",
    "\n",
    "- The dataset is divided into only train and test.\n",
    "\n",
    "- The training set is used for both model training and hyperparameter tuning by applying cross-validation (GridSearch or RandomizedSearch).\n",
    "\n",
    "- The test set is saved until the very end and used once for the final evaluation of the best model.\n",
    "\n",
    "This approach is especially useful when the dataset is not very large, since cross-validation makes efficient use of available training data.\n",
    "\n",
    "\n",
    "Since you use `RandomizedSearchCV`, you indeed need to split the data into 2 subsets, which you have successfully done. However, only one subset is to be used here, not 2. The second subset must be saved for the final test and must not be touched until we choose one model among all models in the project. \n",
    "\n",
    "</div>"
   ]
  },
  {
   "cell_type": "markdown",
   "metadata": {},
   "source": [
    "<div style=\"border: 5px solid blue; padding: 15px; margin: 5px\">\n",
    "<b>Andrew's Response</b>\n",
    "    \n",
    "* I changed the features set from \"validation\" set to \"training\" set in the `predict()` call and when calculating the rMSE. (I see where I was using the validation set where I should have been using just the training set to save the validation set for final test later.)\n",
    "\n",
    "</div>"
   ]
  },
  {
   "cell_type": "markdown",
   "metadata": {},
   "source": [
    " "
   ]
  },
  {
   "cell_type": "code",
   "execution_count": 33,
   "metadata": {},
   "outputs": [
    {
     "name": "stdout",
     "output_type": "stream",
     "text": [
      "Target Std: 5,269.73\n",
      "LR Model RMSE: 1,922.40\n",
      "% of Target Std: 36.48%\n"
     ]
    }
   ],
   "source": [
    "# Comparing RMSE of RF to the STD of the target variable\n",
    "\n",
    "# Creating variable for std of target\n",
    "target_std_lr = np.std(target_lr, ddof=0)\n",
    "\n",
    "print(f\"Target Std: {target_std_lr:,.2f}\")\n",
    "print(f\"LR Model RMSE: {rmse_rf:,.2f}\")\n",
    "print(f\"% of Target Std: {rmse_rf / target_std_lr * 100:.2f}%\")"
   ]
  },
  {
   "cell_type": "markdown",
   "metadata": {},
   "source": [
    "<div style=\"border: 2px solid black; padding: 15px; margin: 5px\">\n",
    "\n",
    "When comparing the RF Model's RMSE to the Target Std, we're seeing that the model has reduced prediction error by over <b>63%</b> compared to simply predicting the average price for all listings. This means the model is performing well with still some room for parameter modifications.\n",
    "\n",
    "</div>"
   ]
  },
  {
   "cell_type": "markdown",
   "metadata": {},
   "source": [
    " "
   ]
  },
  {
   "cell_type": "code",
   "execution_count": 34,
   "metadata": {},
   "outputs": [
    {
     "name": "stdout",
     "output_type": "stream",
     "text": [
      "Baseline RMSE: 5,281.93\n",
      "Improvement Over Baseline: 63.60%\n"
     ]
    }
   ],
   "source": [
    "# Comparing RMSE of RF model to the baseline RMSE\n",
    "\n",
    "# Calculating the mean of the target variable\n",
    "baseline_pred_rf = np.full_like(target_valid_lr, fill_value=target_train_lr.mean(), dtype=np.float64)\n",
    "\n",
    "# Displaying baseline RMSE\n",
    "baseline_rmse_rf = np.sqrt(mean_squared_error(target_valid_lr, baseline_pred_rf))\n",
    "\n",
    "# Comparing baseline to model RMSE\n",
    "improvement_rf = (baseline_rmse_rf - rmse_rf) / baseline_rmse_rf * 100\n",
    "\n",
    "print(f\"Baseline RMSE: {baseline_rmse_rf:,.2f}\")\n",
    "print(f\"Improvement Over Baseline: {improvement_rf:.2f}%\")"
   ]
  },
  {
   "cell_type": "markdown",
   "metadata": {},
   "source": [
    "<div style=\"border: 2px solid black; padding: 15px; margin: 5px\">\n",
    "\n",
    "Comparing to baseline, we're seeing that the RF model has improved it's prediction by more than half compared to the baseline mean prediction. The RF model definitely performed better than the previous LR model.\n",
    "\n",
    "</div>"
   ]
  },
  {
   "cell_type": "markdown",
   "metadata": {},
   "source": [
    " "
   ]
  },
  {
   "cell_type": "code",
   "execution_count": 35,
   "metadata": {},
   "outputs": [
    {
     "name": "stdout",
     "output_type": "stream",
     "text": [
      "Improvement Over LR Model: 37.99%\n"
     ]
    }
   ],
   "source": [
    "# Comparing RMSE scores between LR and RF models\n",
    "\n",
    "improvement_lr_rf = (rmse_lr - rmse_rf) / rmse_lr * 100\n",
    "\n",
    "print(f\"Improvement Over LR Model: {improvement_lr_rf:.2f}%\")"
   ]
  },
  {
   "cell_type": "markdown",
   "metadata": {},
   "source": [
    "<div style=\"border: 2px solid black; padding: 15px; margin: 5px\">\n",
    "\n",
    "The RF model produced almost 38% improvement in predictions to the target than the LR model. A very good sign and step up from LR.\n",
    "\n",
    "</div>"
   ]
  },
  {
   "cell_type": "markdown",
   "metadata": {},
   "source": [
    " "
   ]
  },
  {
   "cell_type": "markdown",
   "metadata": {},
   "source": [
    " "
   ]
  },
  {
   "cell_type": "markdown",
   "metadata": {},
   "source": [
    "### LightGBM"
   ]
  },
  {
   "cell_type": "code",
   "execution_count": 36,
   "metadata": {},
   "outputs": [
    {
     "name": "stdout",
     "output_type": "stream",
     "text": [
      "Training until validation scores don't improve for 50 rounds\n",
      "[50]\tvalid_0's rmse: 2705.7\tvalid_0's l2: 7.32082e+06\n",
      "[100]\tvalid_0's rmse: 2230.71\tvalid_0's l2: 4.97607e+06\n",
      "[150]\tvalid_0's rmse: 2111.98\tvalid_0's l2: 4.46047e+06\n",
      "[200]\tvalid_0's rmse: 2062.74\tvalid_0's l2: 4.25491e+06\n",
      "[250]\tvalid_0's rmse: 2041.05\tvalid_0's l2: 4.16587e+06\n",
      "[300]\tvalid_0's rmse: 2025.62\tvalid_0's l2: 4.10314e+06\n",
      "[350]\tvalid_0's rmse: 2014.56\tvalid_0's l2: 4.05844e+06\n",
      "[400]\tvalid_0's rmse: 2004.75\tvalid_0's l2: 4.01902e+06\n",
      "[450]\tvalid_0's rmse: 1995.87\tvalid_0's l2: 3.98348e+06\n",
      "[500]\tvalid_0's rmse: 1988.38\tvalid_0's l2: 3.95365e+06\n",
      "[550]\tvalid_0's rmse: 1982.79\tvalid_0's l2: 3.93145e+06\n",
      "[600]\tvalid_0's rmse: 1978.19\tvalid_0's l2: 3.91325e+06\n",
      "[650]\tvalid_0's rmse: 1973.34\tvalid_0's l2: 3.89407e+06\n",
      "[700]\tvalid_0's rmse: 1969.31\tvalid_0's l2: 3.87816e+06\n",
      "[750]\tvalid_0's rmse: 1965.48\tvalid_0's l2: 3.86311e+06\n",
      "[800]\tvalid_0's rmse: 1962.49\tvalid_0's l2: 3.85135e+06\n",
      "[850]\tvalid_0's rmse: 1958.73\tvalid_0's l2: 3.83661e+06\n",
      "[900]\tvalid_0's rmse: 1955.65\tvalid_0's l2: 3.82458e+06\n",
      "[950]\tvalid_0's rmse: 1953.75\tvalid_0's l2: 3.81713e+06\n",
      "[1000]\tvalid_0's rmse: 1951.2\tvalid_0's l2: 3.80719e+06\n",
      "[1050]\tvalid_0's rmse: 1948.61\tvalid_0's l2: 3.79709e+06\n",
      "[1100]\tvalid_0's rmse: 1946.69\tvalid_0's l2: 3.78958e+06\n",
      "[1150]\tvalid_0's rmse: 1945.66\tvalid_0's l2: 3.7856e+06\n",
      "[1200]\tvalid_0's rmse: 1944.65\tvalid_0's l2: 3.78168e+06\n",
      "[1250]\tvalid_0's rmse: 1943.09\tvalid_0's l2: 3.77558e+06\n",
      "[1300]\tvalid_0's rmse: 1940.99\tvalid_0's l2: 3.76743e+06\n",
      "[1350]\tvalid_0's rmse: 1938.71\tvalid_0's l2: 3.7586e+06\n",
      "[1400]\tvalid_0's rmse: 1936.78\tvalid_0's l2: 3.75112e+06\n",
      "[1450]\tvalid_0's rmse: 1934.82\tvalid_0's l2: 3.74353e+06\n",
      "[1500]\tvalid_0's rmse: 1933.2\tvalid_0's l2: 3.73726e+06\n",
      "[1550]\tvalid_0's rmse: 1932.24\tvalid_0's l2: 3.73357e+06\n",
      "[1600]\tvalid_0's rmse: 1931.39\tvalid_0's l2: 3.73027e+06\n",
      "[1650]\tvalid_0's rmse: 1930.11\tvalid_0's l2: 3.72533e+06\n",
      "[1700]\tvalid_0's rmse: 1929.5\tvalid_0's l2: 3.72298e+06\n",
      "[1750]\tvalid_0's rmse: 1928.66\tvalid_0's l2: 3.71971e+06\n",
      "[1800]\tvalid_0's rmse: 1927.05\tvalid_0's l2: 3.71352e+06\n",
      "[1850]\tvalid_0's rmse: 1926.36\tvalid_0's l2: 3.71086e+06\n",
      "[1900]\tvalid_0's rmse: 1925.39\tvalid_0's l2: 3.70713e+06\n",
      "[1950]\tvalid_0's rmse: 1924.22\tvalid_0's l2: 3.70262e+06\n",
      "[2000]\tvalid_0's rmse: 1923\tvalid_0's l2: 3.69792e+06\n",
      "Did not meet early stopping. Best iteration is:\n",
      "[2000]\tvalid_0's rmse: 1923\tvalid_0's l2: 3.69792e+06\n",
      "\n",
      "Best Iteration: 2000\n",
      "LightGBM RMSE: 1,528.99\n",
      "\n",
      "LR Model Fit Time: 15.08 seconds\n",
      "LR Model Predict Time: 5.98 seconds\n",
      "[LightGBM Model] took 21.11 seconds\n"
     ]
    }
   ],
   "source": [
    "%%savetiming LightGBM Model\n",
    "\n",
    "warnings.filterwarnings(\"ignore\", category=UserWarning, module=\"lightgbm\")\n",
    "\n",
    "# Preparing data and model\n",
    "\n",
    "# Making copy of dataframe\n",
    "data_lgb = data_lr.copy()\n",
    "\n",
    "# Converting \"object\" type data to \"category\" type for the model\n",
    "cat_cols = [\"vehicle_type\", \"gearbox\", \"model\", \"fuel_type\", \"brand\", \"not_repaired\"]\n",
    "\n",
    "for col in cat_cols:\n",
    "    data_lgb[col] = data_lgb[col].astype(\"category\")\n",
    "\n",
    "# Features & Target\n",
    "features_lgb = data_lgb.drop(columns=[\"price\"], axis=1)\n",
    "target_lgb = data_lgb[\"price\"]\n",
    "\n",
    "# Splitting data\n",
    "features_train_lgb, features_valid_lgb, target_train_lgb, target_valid_lgb = train_test_split(\n",
    "    features_lgb, target_lgb, test_size=0.3, random_state=12345\n",
    ")\n",
    "\n",
    "# Initiating Model\n",
    "lgbm = LGBMRegressor(\n",
    "    objective=\"regression\",\n",
    "    n_estimators=2000,\n",
    "    learning_rate=0.03,\n",
    "    num_leaves=31,\n",
    "    subsample=0.8,\n",
    "    colsample_bytree=0.8,\n",
    "    n_jobs=-1,\n",
    "    random_state=12345\n",
    ")\n",
    "\n",
    "# Fitting the model\n",
    "st_lgb_fit = time.time()\n",
    "lgbm.fit(\n",
    "    features_train_lgb,\n",
    "    target_train_lgb,\n",
    "    eval_set=[(features_valid_lgb, target_valid_lgb)],\n",
    "    eval_metric=\"rmse\",\n",
    "    categorical_feature=cat_cols,\n",
    "    callbacks=[early_stopping(stopping_rounds=50),\n",
    "              log_evaluation(period=50)]\n",
    ")\n",
    "et_lgb_fit = time.time()\n",
    "\n",
    "# Predicting with the newly trained model\n",
    "st_lgb_predict = time.time()\n",
    "y_pred = lgbm.predict(features_train_lgb, num_iteration=lgbm.best_iteration_)\n",
    "et_lgb_predict = time.time()\n",
    "\n",
    "# Calculating RMSE\n",
    "rmse_lgb = np.sqrt(mean_squared_error(target_train_lgb, y_pred))\n",
    "\n",
    "# Calculating run times\n",
    "time_lgb_fit = et_lgb_fit - st_lgb_fit\n",
    "time_lgb_predict = et_lgb_predict - st_lgb_predict\n",
    "\n",
    "print()\n",
    "print(f\"Best Iteration: {lgbm.best_iteration_}\")\n",
    "print(f\"LightGBM RMSE: {rmse_lgb:,.2f}\")\n",
    "print()\n",
    "print(f\"LR Model Fit Time: {time_lgb_fit:.2f} seconds\")\n",
    "print(f\"LR Model Predict Time: {time_lgb_predict:.2f} seconds\")"
   ]
  },
  {
   "cell_type": "markdown",
   "metadata": {},
   "source": [
    "<div style=\"border: 5px solid red; padding: 15px; margin: 5px\">\n",
    "<b>   Reviewer's comment </b>\n",
    "    \n",
    "    \n",
    "Same issues.\n",
    "</div>"
   ]
  },
  {
   "cell_type": "markdown",
   "metadata": {},
   "source": [
    "<div style=\"border: 5px solid blue; padding: 15px; margin: 5px\">\n",
    "<b>Andrew's Response</b>\n",
    "    \n",
    "* I changed the features set from \"validation\" set to \"training\" set in the `predict()` call and when calculating the rMSE as well again here.\n",
    "\n",
    "* Also added the timing code to get the run time for fitting and predicting with the model.\n",
    "\n",
    "</div>"
   ]
  },
  {
   "cell_type": "markdown",
   "metadata": {},
   "source": [
    " "
   ]
  },
  {
   "cell_type": "code",
   "execution_count": 37,
   "metadata": {},
   "outputs": [
    {
     "name": "stdout",
     "output_type": "stream",
     "text": [
      "Target Std: 5,269.73\n",
      "LR Model RMSE: 1,528.99\n",
      "% of Target Std: 29.01%\n"
     ]
    }
   ],
   "source": [
    "# Comparing RMSE of LightGBM to the STD of the target variable\n",
    "\n",
    "print(f\"Target Std: {target_std_lr:,.2f}\")\n",
    "print(f\"LR Model RMSE: {rmse_lgb:,.2f}\")\n",
    "print(f\"% of Target Std: {rmse_lgb / target_std_lr * 100:.2f}%\")"
   ]
  },
  {
   "cell_type": "markdown",
   "metadata": {},
   "source": [
    "<div style=\"border: 2px solid black; padding: 15px; margin: 5px\">\n",
    "\n",
    "When comparing the LightGBM Model's RMSE to the Target Std, we're seeing that the model has reduced prediction error by about <b>71%</b> compared to simply predicting the average price for all listings. This means the model is performing well with still some room for parameter modifications. Definitely the best score yet compared to the first two models.\n",
    "\n",
    "</div>"
   ]
  },
  {
   "cell_type": "markdown",
   "metadata": {},
   "source": [
    " "
   ]
  },
  {
   "cell_type": "code",
   "execution_count": 38,
   "metadata": {},
   "outputs": [
    {
     "name": "stdout",
     "output_type": "stream",
     "text": [
      "Baseline RMSE: 5,281.93\n",
      "Improvement Over Baseline: 71.05%\n"
     ]
    }
   ],
   "source": [
    "# Comparing RMSE of LightGBM model to the baseline RMSE\n",
    "\n",
    "# Comparing baseline to model RMSE\n",
    "improvement_lgb = (baseline_rmse_rf - rmse_lgb) / baseline_rmse_rf * 100\n",
    "\n",
    "print(f\"Baseline RMSE: {baseline_rmse_rf:,.2f}\")\n",
    "print(f\"Improvement Over Baseline: {improvement_lgb:.2f}%\")"
   ]
  },
  {
   "cell_type": "markdown",
   "metadata": {},
   "source": [
    "<div style=\"border: 2px solid black; padding: 15px; margin: 5px\">\n",
    "\n",
    "Comparing to baseline, we're seeing that the LightGBM model has improved even more than the RF model making it the most accurate in predicting the car prices thus far.\n",
    "\n",
    "</div>"
   ]
  },
  {
   "cell_type": "markdown",
   "metadata": {},
   "source": [
    " "
   ]
  },
  {
   "cell_type": "code",
   "execution_count": 39,
   "metadata": {},
   "outputs": [
    {
     "name": "stdout",
     "output_type": "stream",
     "text": [
      "Improvement Over RF Model: 20.46%\n"
     ]
    }
   ],
   "source": [
    "# Comparing RMSE scores between LR and RF models\n",
    "\n",
    "improvement_rf_lgb = (rmse_rf - rmse_lgb) / rmse_rf * 100\n",
    "\n",
    "print(f\"Improvement Over RF Model: {improvement_rf_lgb:.2f}%\")"
   ]
  },
  {
   "cell_type": "markdown",
   "metadata": {},
   "source": [
    "<div style=\"border: 2px solid black; padding: 15px; margin: 5px\">\n",
    "\n",
    "Our LightGBM Model performed **20.46%** better at predicting car prices than our RF model.\n",
    "\n",
    "</div>"
   ]
  },
  {
   "cell_type": "markdown",
   "metadata": {},
   "source": [
    " "
   ]
  },
  {
   "cell_type": "markdown",
   "metadata": {},
   "source": [
    " "
   ]
  },
  {
   "cell_type": "markdown",
   "metadata": {},
   "source": [
    "## Model Analysis"
   ]
  },
  {
   "cell_type": "markdown",
   "metadata": {},
   "source": [
    "<div style=\"border: 2px solid black; padding: 15px; margin: 5px\">\n",
    "\n",
    "After training all three models: LinearRegression, RandomForest and LightGBM, we can see that the clear winner is LightGBM. It has the lowest RMSE, meaning it predcits car prices much closer to the actual values than the other models. Further validation for this result is the result from the LinearRegression model, the lowest, which suggests that the relationship between the features and target in this instance are nonlinear and better suited for ensemble methods. All the models performed better than the Baseline RMSE, meaning they all outperformed just guessing the mean price.\n",
    "\n",
    "In terms of processing times, the LinearRegression model won the race! The RandomForest Model and the LightGBM Model had similar processing times, though, LightGBM performed slightly quicker and was more accurate in the end. \n",
    "\n",
    "If speed was a priority, the LinearRegression model would be the first pick. But my recommendation for the Rusty Bargain Car App would be to use the LightGBM Model which was not the fastest, but definitely the most accurate. \n",
    "\n",
    "</div>"
   ]
  },
  {
   "cell_type": "markdown",
   "metadata": {},
   "source": [
    " "
   ]
  },
  {
   "cell_type": "markdown",
   "metadata": {},
   "source": [
    "### Results"
   ]
  },
  {
   "cell_type": "code",
   "execution_count": 40,
   "metadata": {},
   "outputs": [
    {
     "data": {
      "text/html": [
       "<div>\n",
       "<style scoped>\n",
       "    .dataframe tbody tr th:only-of-type {\n",
       "        vertical-align: middle;\n",
       "    }\n",
       "\n",
       "    .dataframe tbody tr th {\n",
       "        vertical-align: top;\n",
       "    }\n",
       "\n",
       "    .dataframe thead th {\n",
       "        text-align: right;\n",
       "    }\n",
       "</style>\n",
       "<table border=\"1\" class=\"dataframe\">\n",
       "  <thead>\n",
       "    <tr style=\"text-align: right;\">\n",
       "      <th></th>\n",
       "      <th>Model</th>\n",
       "      <th>RMSE</th>\n",
       "    </tr>\n",
       "  </thead>\n",
       "  <tbody>\n",
       "    <tr>\n",
       "      <th>0</th>\n",
       "      <td>Baseline (Mean)</td>\n",
       "      <td>5281.934437</td>\n",
       "    </tr>\n",
       "    <tr>\n",
       "      <th>1</th>\n",
       "      <td>Linear Regression</td>\n",
       "      <td>3100.334905</td>\n",
       "    </tr>\n",
       "    <tr>\n",
       "      <th>2</th>\n",
       "      <td>Random Forest</td>\n",
       "      <td>1922.395969</td>\n",
       "    </tr>\n",
       "    <tr>\n",
       "      <th>3</th>\n",
       "      <td>LightGBM</td>\n",
       "      <td>1528.985889</td>\n",
       "    </tr>\n",
       "  </tbody>\n",
       "</table>\n",
       "</div>"
      ],
      "text/plain": [
       "               Model         RMSE\n",
       "0    Baseline (Mean)  5281.934437\n",
       "1  Linear Regression  3100.334905\n",
       "2      Random Forest  1922.395969\n",
       "3           LightGBM  1528.985889"
      ]
     },
     "execution_count": 40,
     "metadata": {},
     "output_type": "execute_result"
    }
   ],
   "source": [
    "# Results Dataframe\n",
    "\n",
    "data_results = {\n",
    "    \"Model\": [\"Baseline (Mean)\", \"Linear Regression\", \"Random Forest\", \"LightGBM\"],\n",
    "    \"RMSE\": [baseline_rmse_lr, rmse_lr, rmse_rf, rmse_lgb]\n",
    "}\n",
    "\n",
    "results_df = pd.DataFrame(data_results)\n",
    "\n",
    "results_df"
   ]
  },
  {
   "cell_type": "markdown",
   "metadata": {},
   "source": [
    " "
   ]
  },
  {
   "cell_type": "markdown",
   "metadata": {},
   "source": [
    "### Timing Data"
   ]
  },
  {
   "cell_type": "code",
   "execution_count": 41,
   "metadata": {},
   "outputs": [
    {
     "data": {
      "text/html": [
       "<div>\n",
       "<style scoped>\n",
       "    .dataframe tbody tr th:only-of-type {\n",
       "        vertical-align: middle;\n",
       "    }\n",
       "\n",
       "    .dataframe tbody tr th {\n",
       "        vertical-align: top;\n",
       "    }\n",
       "\n",
       "    .dataframe thead th {\n",
       "        text-align: right;\n",
       "    }\n",
       "</style>\n",
       "<table border=\"1\" class=\"dataframe\">\n",
       "  <thead>\n",
       "    <tr style=\"text-align: right;\">\n",
       "      <th></th>\n",
       "      <th>Step</th>\n",
       "      <th>Seconds</th>\n",
       "    </tr>\n",
       "  </thead>\n",
       "  <tbody>\n",
       "    <tr>\n",
       "      <th>0</th>\n",
       "      <td>Linear Regression Model</td>\n",
       "      <td>2.27</td>\n",
       "    </tr>\n",
       "    <tr>\n",
       "      <th>1</th>\n",
       "      <td>Random Forest Model</td>\n",
       "      <td>8.51</td>\n",
       "    </tr>\n",
       "    <tr>\n",
       "      <th>2</th>\n",
       "      <td>LightGBM Model</td>\n",
       "      <td>21.11</td>\n",
       "    </tr>\n",
       "  </tbody>\n",
       "</table>\n",
       "</div>"
      ],
      "text/plain": [
       "                      Step  Seconds\n",
       "0  Linear Regression Model     2.27\n",
       "1      Random Forest Model     8.51\n",
       "2           LightGBM Model    21.11"
      ]
     },
     "execution_count": 41,
     "metadata": {},
     "output_type": "execute_result"
    }
   ],
   "source": [
    "# Displaying the processing times\n",
    "\n",
    "def show_timings():\n",
    "    df = pd.DataFrame(list(timing_score.items()), columns=[\"Step\", \"Seconds\"])\n",
    "    df[\"Seconds\"] = df[\"Seconds\"].round(2)\n",
    "    return df.sort_values(\"Seconds\")\n",
    "\n",
    "show_timings()"
   ]
  },
  {
   "cell_type": "markdown",
   "metadata": {},
   "source": [
    "<div style=\"border: 5px solid red; padding: 15px; margin: 5px\">\n",
    "<b>   Reviewer's comment </b>\n",
    "\n",
    "\n",
    "    \n",
    "- After we train all models, we have to choose the best **one** and check its performance on the test subset. Here we only need to make predictions and calculate RMSE. For the final testing, where we use the test subset to check the model's generalization ability, we should use the best model (one model or two models if they have almost the same metric values). We don't use all models here because even just checking their performance influences our choices. This leads to test set leakage when we unconsciously start picking models that perform well on the test set, making it part of the training loop. In real-world scenarios, the test set is meant to reflect how the final model performs in the wild. In practice, you only deploy one model, not several models, so testing just that final one mirrors reality. Moreover, evaluating every tuned model on the test set (especially with big models or datasets) is expensive and time-consuming. \n",
    "\n",
    "\n",
    "\n",
    "\n",
    "- When choosing the best model, we have to consider prediction time as well. The best model isn't always the one with the lowest error. Sometimes the errors are only slightly different, but the prediction time varies significantly. In such cases, it's worth considering a faster model. Think of a slow search engine that finds 10 useful links versus a fast one that finds 9. This is especially important if the model needs to operate in real time and produce results repeatedly. If a program runs just once, its speed might not even matter. But if it’s used continuously, optimization becomes crucial. So, in practice, apart from the other requirements, there are also runtime constraints for the model.\n",
    "\n",
    "\n",
    "\n",
    "- Let's add the overall conclusion to your project: what has been done and what can be inferred from the results. What models did you test? What are their RMSE scores? What are their speed values? Why did you choose a specific model and how did it perform on the final test? \n",
    "</div>"
   ]
  },
  {
   "cell_type": "markdown",
   "metadata": {},
   "source": [
    "<div style=\"border: 5px solid blue; padding: 15px; margin: 5px\">\n",
    "<b>Andrew's Response</b>\n",
    "    \n",
    "* Thank you for the reminder about the validation set and final model, I completely forgot about this in the first iteration. I used the LightGBM model. It did perform with less accuracy than on the training data. Do I need to continue tuning hyperparameters for the scope of this project? Or would that be something that we would want in a \"real-world\" scenario?\n",
    "\n",
    "* Did I use the timing code correctly throughout the project? I did use the `%%savetiming` code throughout because I thought it would be useful towards the end. What is best in this case?\n",
    "\n",
    "* Also, could you give me your overall impression of this project? Would this be someone who's on the right path to being able to be hired into a DS position in the future? I'm just trying to get a sense of where I'm at developmentally within the DS world. It seems overwhelming and your perspective would be very helpful. Thank you!\n",
    "\n",
    "</div>"
   ]
  },
  {
   "cell_type": "markdown",
   "metadata": {},
   "source": [
    " "
   ]
  },
  {
   "cell_type": "markdown",
   "metadata": {},
   "source": [
    " "
   ]
  },
  {
   "cell_type": "markdown",
   "metadata": {},
   "source": [
    "## Final Test on Best Model"
   ]
  },
  {
   "cell_type": "code",
   "execution_count": 42,
   "metadata": {},
   "outputs": [
    {
     "name": "stdout",
     "output_type": "stream",
     "text": [
      "LightGBM RMSE on Validation Set: 1,923.00\n",
      "\n",
      "LightGBM Model Predict Time on Validation Set: 2.59 seconds\n",
      "[LightGBM Model on Validation] took 2.59 seconds\n"
     ]
    }
   ],
   "source": [
    "%%savetiming LightGBM Model on Validation\n",
    "\n",
    "# Using the LightGBM Model to predict on the validation set\n",
    "\n",
    "# Predicting with the trained model\n",
    "st_lgb_predict_final = time.time()\n",
    "y_pred_final = lgbm.predict(features_valid_lgb, num_iteration=lgbm.best_iteration_)\n",
    "et_lgb_predict_final = time.time()\n",
    "\n",
    "# Calculating RMSE\n",
    "rmse_lgb_final = np.sqrt(mean_squared_error(target_valid_lgb, y_pred_final))\n",
    "\n",
    "# Calculating run time\n",
    "time_lgb_final = et_lgb_predict_final - st_lgb_predict_final\n",
    "\n",
    "print(f\"LightGBM RMSE on Validation Set: {rmse_lgb_final:,.2f}\")\n",
    "print()\n",
    "print(f\"LightGBM Model Predict Time on Validation Set: {time_lgb_final:.2f} seconds\")"
   ]
  },
  {
   "cell_type": "markdown",
   "metadata": {},
   "source": [
    " "
   ]
  },
  {
   "cell_type": "code",
   "execution_count": 43,
   "metadata": {},
   "outputs": [
    {
     "name": "stdout",
     "output_type": "stream",
     "text": [
      "Target Std: 5,269.73\n",
      "LightGBM Model RMSE: 1,923.00\n",
      "% of Target Std: 36.49%\n"
     ]
    }
   ],
   "source": [
    "# Comparing RMSE of LightGBM on Validation Set to the STD of the target variable\n",
    "\n",
    "print(f\"Target Std: {target_std_lr:,.2f}\")\n",
    "print(f\"LightGBM Model RMSE: {rmse_lgb_final:,.2f}\")\n",
    "print(f\"% of Target Std: {rmse_lgb_final / target_std_lr * 100:.2f}%\")"
   ]
  },
  {
   "cell_type": "markdown",
   "metadata": {},
   "source": [
    "<div style=\"border: 2px solid black; padding: 15px; margin: 5px\">\n",
    "\n",
    "When comparing the LightGBM Model's RMSE on the **Validation Set** to the Target Std, we're seeing that the model has reduced prediction error by about <b>63%</b> compared to simply predicting the average price for all listings. \n",
    "<br>\n",
    "\n",
    "Surprisingly, this is similar performance scoring compared to the LinearRegression model we did earlier in this study.\n",
    "</div>"
   ]
  },
  {
   "cell_type": "markdown",
   "metadata": {},
   "source": [
    " "
   ]
  },
  {
   "cell_type": "code",
   "execution_count": 44,
   "metadata": {},
   "outputs": [
    {
     "name": "stdout",
     "output_type": "stream",
     "text": [
      "Baseline RMSE: 5,281.93\n",
      "Improvement Over Baseline: 63.59%\n"
     ]
    }
   ],
   "source": [
    "# Comparing RMSE of LightGBM model on Validation set to the baseline RMSE\n",
    "\n",
    "# Comparing baseline to model RMSE\n",
    "improvement_lgb_final = (baseline_rmse_rf - rmse_lgb_final) / baseline_rmse_rf * 100\n",
    "\n",
    "print(f\"Baseline RMSE: {baseline_rmse_rf:,.2f}\")\n",
    "print(f\"Improvement Over Baseline: {improvement_lgb_final:.2f}%\")"
   ]
  },
  {
   "cell_type": "markdown",
   "metadata": {},
   "source": [
    "<div style=\"border: 2px solid black; padding: 15px; margin: 5px\">\n",
    "\n",
    "Comparing to baseline, we're seeing that the LightGBM model has an RMSE scoring predicting over **63%** accuracy over the baseline RMSE. \n",
    "<br>\n",
    "\n",
    "This result is similar to the comparison we made with the RandomForest earlier in this project. \n",
    "\n",
    "</div>"
   ]
  },
  {
   "cell_type": "markdown",
   "metadata": {},
   "source": [
    " "
   ]
  },
  {
   "cell_type": "markdown",
   "metadata": {},
   "source": [
    " "
   ]
  },
  {
   "cell_type": "markdown",
   "metadata": {},
   "source": [
    "## Overall Conclusion"
   ]
  },
  {
   "cell_type": "markdown",
   "metadata": {},
   "source": [
    "<div style=\"border: 2px solid black; padding: 15px; margin: 5px\">\n",
    "\n",
    "<b><u>Data Preprocessing</u></b><br>\n",
    "&nbsp;&nbsp; In the scope of this project, we performed data preprocessing which included validating column format, searching for duplicates and handling them appropriately based on type of data and value added to model training, searched for missing values, checked data types, dropped unnecessary columns not suitable for model training and finally checked for duplicates once more after dropping columns.\n",
    "<br>\n",
    "\n",
    "<b><u>Outliers</u></b><br>\n",
    "&nbsp;&nbsp; After preprocessing, we searched for outliers and found that the spread of data was too large for certain columns. We removed outliers and validated that the range of data was within reasonable limits taking into account their representation of the cars involved to ensure accuracy in final predictions of the model. We also displayed distributions with boxplots before, and after, dealing with outliers in the data to visually represent the difference in the spread of the data.\n",
    "<br>\n",
    "\n",
    "<b><u>Model Training</u></b><br>\n",
    "&nbsp;&nbsp; Next, we trained three models: LinearRegression model, RandomForest model and LightGBM model to utilize gradient boosting within the exploration. For each model, we tuned hyperparameters to the best performing considering the scope of the data involved. After training each model, we found that **LightGBM** had the best rMSE score against the STD of the Target Data and Baseline rMSE. \n",
    "\n",
    "<u>Here are the score of those models</u>:\n",
    "* LinearRegression | Best RMSE: **3100.33** | Run Time: **1.97 seconds**\n",
    "* RandomForest | Best RMSE: **1922.39** | Run Time: **8.67 seconds**\n",
    "* LightGBM | Best RMSE: **1528.98** | Run Time: **20.04 seconds**\n",
    "\n",
    "&nbsp;&nbsp; As you can see from the scoring above, as the accuracy improved, processing time increased. Consideration must be made as to the whether importance lays greater with the processing speed, or accuracy of the model. \n",
    "<br>\n",
    "\n",
    "<b><u>Final Conclusions & Recommendations</u></b><br>\n",
    "&nbsp;&nbsp; In the final model predictions using the **LightGBM** model on the validation set, we found the **final RMSE of 1,923** which was extremely close to the score of the RandomForest model on the training set. This model was chosen because of it's highest RMSE score laying importance on the accuracy of the model being able to predict the car prices. It did not perform as well as we saw on the training data, but still gives a **63%** improvement compared to Baseline rMSE as well as Target Standard Deviation. This model would be my recommendation as the one to use to develop an accurate car pricing model app.\n",
    "\n",
    "</div>"
   ]
  },
  {
   "cell_type": "markdown",
   "metadata": {},
   "source": [
    "# Checklist"
   ]
  },
  {
   "cell_type": "markdown",
   "metadata": {},
   "source": [
    "Type 'x' to check. Then press Shift+Enter."
   ]
  },
  {
   "cell_type": "markdown",
   "metadata": {},
   "source": [
    "- [x]  Jupyter Notebook is open\n",
    "- [x]  Code is error free\n",
    "- [x]  The cells with the code have been arranged in order of execution\n",
    "- [x]  The data has been downloaded and prepared\n",
    "- [x]  The models have been trained\n",
    "- [x]  The analysis of speed and quality of the models has been performed"
   ]
  }
 ],
 "metadata": {
  "kernelspec": {
   "display_name": "Python 3 (ipykernel)",
   "language": "python",
   "name": "python3"
  },
  "language_info": {
   "codemirror_mode": {
    "name": "ipython",
    "version": 3
   },
   "file_extension": ".py",
   "mimetype": "text/x-python",
   "name": "python",
   "nbconvert_exporter": "python",
   "pygments_lexer": "ipython3",
   "version": "3.9.23"
  }
 },
 "nbformat": 4,
 "nbformat_minor": 4
}
