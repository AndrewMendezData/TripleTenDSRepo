{
 "cells": [
  {
   "cell_type": "markdown",
   "metadata": {},
   "source": [
    "# Retaining Interconnect Clients"
   ]
  },
  {
   "cell_type": "markdown",
   "metadata": {},
   "source": [
    "<div style=\"border: 2px solid black; padding: 10px; margin: 10px\">\n",
    "\n",
    "The company \"Interconnect\" would like to be able to accurately forecast their churn of clients and hopefully reduce their churn rate. Their plan of action is to offer specialized promotions and plan options to those customers who are identified as possibly terminating their contracts. \n",
    "<br>\n",
    "\n",
    "The goal for this project is to train a model to accurately identify customers who might be deciding to leave the company so that Interconnect's marketing team can attempt to convince them to hold onto their contract and reduce churn rate.\n",
    "\n",
    "</div>"
   ]
  },
  {
   "cell_type": "markdown",
   "metadata": {},
   "source": [
    " "
   ]
  },
  {
   "cell_type": "markdown",
   "metadata": {},
   "source": [
    " "
   ]
  },
  {
   "cell_type": "markdown",
   "metadata": {},
   "source": [
    "## Initialization"
   ]
  },
  {
   "cell_type": "code",
   "execution_count": 6,
   "metadata": {},
   "outputs": [],
   "source": [
    "# Libraries & Packages\n",
    "\n",
    "import pandas as pd\n",
    "import numpy as np\n",
    "import seaborn as sns\n",
    "import matplotlib.pyplot as plt\n",
    "\n",
    "from sklearn.model_selection import train_test_split, GridSearchCV\n",
    "from sklearn.preprocessing import OneHotEncoder, StandardScaler\n",
    "from sklearn.compose import ColumnTransformer\n",
    "from sklearn.pipeline import Pipeline\n",
    "from sklearn.linear_model import LogisticRegression\n",
    "from sklearn.ensemble import RandomForestClassifier\n",
    "from sklearn.metrics import accuracy_score, roc_auc_score, roc_curve, classification_report"
   ]
  },
  {
   "cell_type": "code",
   "execution_count": 7,
   "metadata": {},
   "outputs": [],
   "source": [
    "# Constants\n",
    "\n",
    "plt.rcParams.update({\n",
    "    'axes.titlesize': 18,\n",
    "    'axes.titleweight': 'bold',\n",
    "    'axes.labelsize': 14,\n",
    "    'xtick.labelsize': 12,\n",
    "    'ytick.labelsize': 12,\n",
    "})"
   ]
  },
  {
   "cell_type": "markdown",
   "metadata": {},
   "source": [
    " "
   ]
  },
  {
   "cell_type": "markdown",
   "metadata": {},
   "source": [
    " "
   ]
  },
  {
   "cell_type": "markdown",
   "metadata": {},
   "source": [
    "## Preprocessing"
   ]
  },
  {
   "cell_type": "markdown",
   "metadata": {},
   "source": [
    "### Columns Formatting"
   ]
  },
  {
   "cell_type": "code",
   "execution_count": 12,
   "metadata": {},
   "outputs": [],
   "source": [
    "# Importing Data\n",
    "\n",
    "con_data = pd.read_csv('contract.csv')\n",
    "per_data = pd.read_csv('personal.csv')\n",
    "int_data = pd.read_csv('internet.csv')\n",
    "pho_data = pd.read_csv('phone.csv')"
   ]
  },
  {
   "cell_type": "code",
   "execution_count": 13,
   "metadata": {},
   "outputs": [],
   "source": [
    "# Formatting Columns\n",
    "\n",
    "con_data.columns = con_data.columns.str.replace(r'(?<=[a-z0-9])(?=[A-Z])|(?<=[A-Z])(?=[A-Z][a-z])', '_', regex=True).str.lower()\n",
    "per_data.columns = per_data.columns.str.replace(r'(?<=[a-z0-9])(?=[A-Z])|(?<=[A-Z])(?=[A-Z][a-z])', '_', regex=True).str.lower()\n",
    "int_data.columns = int_data.columns.str.replace(r'(?<=[a-z0-9])(?=[A-Z])|(?<=[A-Z])(?=[A-Z][a-z])', '_', regex=True).str.lower()\n",
    "pho_data.columns = pho_data.columns.str.replace(r'(?<=[a-z0-9])(?=[A-Z])|(?<=[A-Z])(?=[A-Z][a-z])', '_', regex=True).str.lower()"
   ]
  },
  {
   "cell_type": "code",
   "execution_count": 14,
   "metadata": {},
   "outputs": [
    {
     "name": "stdout",
     "output_type": "stream",
     "text": [
      "Contract Data\n",
      "Index(['customer_id', 'begin_date', 'end_date', 'type', 'paperless_billing',\n",
      "       'payment_method', 'monthly_charges', 'total_charges'],\n",
      "      dtype='object')\n",
      "\n",
      "Personal Data\n",
      "Index(['customer_id', 'gender', 'senior_citizen', 'partner', 'dependents'], dtype='object')\n",
      "\n",
      "Internet Data\n",
      "Index(['customer_id', 'internet_service', 'online_security', 'online_backup',\n",
      "       'device_protection', 'tech_support', 'streaming_tv',\n",
      "       'streaming_movies'],\n",
      "      dtype='object')\n",
      "\n",
      "Phone Data\n",
      "Index(['customer_id', 'multiple_lines'], dtype='object')\n"
     ]
    }
   ],
   "source": [
    "# Validating changes to column names\n",
    "\n",
    "print(\"Contract Data\")\n",
    "print(con_data.columns)\n",
    "print()\n",
    "\n",
    "print(\"Personal Data\")\n",
    "print(per_data.columns)\n",
    "print()\n",
    "\n",
    "print(\"Internet Data\")\n",
    "print(int_data.columns)\n",
    "print()\n",
    "\n",
    "print(\"Phone Data\")\n",
    "print(pho_data.columns)"
   ]
  },
  {
   "cell_type": "markdown",
   "metadata": {},
   "source": [
    "<div style=\"border: 2px solid black; padding: 10px; margin: 10px\">\n",
    "\n",
    "I started with formatting the columns in each data set to avoid any unnecessary complications that could arise later due to formatting issues. Adjusted the Regex Code above to make sure the \"ID\" and \"TV\" were separated as one word and not formatted with any extra underscores.\n",
    "<br>\n",
    "\n",
    "Columns look great! Moving on to finding duplicates.\n",
    "\n",
    "</div>"
   ]
  },
  {
   "cell_type": "markdown",
   "metadata": {},
   "source": [
    " "
   ]
  },
  {
   "cell_type": "markdown",
   "metadata": {},
   "source": [
    " "
   ]
  },
  {
   "cell_type": "markdown",
   "metadata": {},
   "source": [
    "### Duplicates"
   ]
  },
  {
   "cell_type": "markdown",
   "metadata": {},
   "source": [
    "#### Contract Data"
   ]
  },
  {
   "cell_type": "code",
   "execution_count": 20,
   "metadata": {},
   "outputs": [
    {
     "name": "stdout",
     "output_type": "stream",
     "text": [
      "Contract Data\n",
      "=========================================================================\n"
     ]
    },
    {
     "data": {
      "text/html": [
       "<div>\n",
       "<style scoped>\n",
       "    .dataframe tbody tr th:only-of-type {\n",
       "        vertical-align: middle;\n",
       "    }\n",
       "\n",
       "    .dataframe tbody tr th {\n",
       "        vertical-align: top;\n",
       "    }\n",
       "\n",
       "    .dataframe thead th {\n",
       "        text-align: right;\n",
       "    }\n",
       "</style>\n",
       "<table border=\"1\" class=\"dataframe\">\n",
       "  <thead>\n",
       "    <tr style=\"text-align: right;\">\n",
       "      <th></th>\n",
       "      <th>duplicates_count</th>\n",
       "      <th>duplicates_percent</th>\n",
       "      <th>unique_values</th>\n",
       "      <th>total_rows</th>\n",
       "    </tr>\n",
       "  </thead>\n",
       "  <tbody>\n",
       "    <tr>\n",
       "      <th>customer_id</th>\n",
       "      <td>0</td>\n",
       "      <td>0.000000</td>\n",
       "      <td>7043</td>\n",
       "      <td>7043</td>\n",
       "    </tr>\n",
       "    <tr>\n",
       "      <th>begin_date</th>\n",
       "      <td>6966</td>\n",
       "      <td>98.906716</td>\n",
       "      <td>77</td>\n",
       "      <td>7043</td>\n",
       "    </tr>\n",
       "    <tr>\n",
       "      <th>end_date</th>\n",
       "      <td>7038</td>\n",
       "      <td>99.929008</td>\n",
       "      <td>5</td>\n",
       "      <td>7043</td>\n",
       "    </tr>\n",
       "    <tr>\n",
       "      <th>type</th>\n",
       "      <td>7040</td>\n",
       "      <td>99.957405</td>\n",
       "      <td>3</td>\n",
       "      <td>7043</td>\n",
       "    </tr>\n",
       "    <tr>\n",
       "      <th>paperless_billing</th>\n",
       "      <td>7041</td>\n",
       "      <td>99.971603</td>\n",
       "      <td>2</td>\n",
       "      <td>7043</td>\n",
       "    </tr>\n",
       "    <tr>\n",
       "      <th>payment_method</th>\n",
       "      <td>7039</td>\n",
       "      <td>99.943206</td>\n",
       "      <td>4</td>\n",
       "      <td>7043</td>\n",
       "    </tr>\n",
       "    <tr>\n",
       "      <th>monthly_charges</th>\n",
       "      <td>5458</td>\n",
       "      <td>77.495385</td>\n",
       "      <td>1585</td>\n",
       "      <td>7043</td>\n",
       "    </tr>\n",
       "    <tr>\n",
       "      <th>total_charges</th>\n",
       "      <td>512</td>\n",
       "      <td>7.269629</td>\n",
       "      <td>6531</td>\n",
       "      <td>7043</td>\n",
       "    </tr>\n",
       "  </tbody>\n",
       "</table>\n",
       "</div>"
      ],
      "text/plain": [
       "                   duplicates_count  duplicates_percent  unique_values  \\\n",
       "customer_id                       0            0.000000           7043   \n",
       "begin_date                     6966           98.906716             77   \n",
       "end_date                       7038           99.929008              5   \n",
       "type                           7040           99.957405              3   \n",
       "paperless_billing              7041           99.971603              2   \n",
       "payment_method                 7039           99.943206              4   \n",
       "monthly_charges                5458           77.495385           1585   \n",
       "total_charges                   512            7.269629           6531   \n",
       "\n",
       "                   total_rows  \n",
       "customer_id              7043  \n",
       "begin_date               7043  \n",
       "end_date                 7043  \n",
       "type                     7043  \n",
       "paperless_billing        7043  \n",
       "payment_method           7043  \n",
       "monthly_charges          7043  \n",
       "total_charges            7043  "
      ]
     },
     "execution_count": 20,
     "metadata": {},
     "output_type": "execute_result"
    }
   ],
   "source": [
    "# Contract Data\n",
    "\n",
    "print(\"Contract Data\")\n",
    "print(\"=========================================================================\")\n",
    "\n",
    "duplicate_summary_con = pd.DataFrame({\n",
    "    \"duplicates_count\": [con_data[col].duplicated().sum() for col in con_data.columns],\n",
    "    \"duplicates_percent\": [con_data[col].duplicated().mean() * 100 for col in con_data.columns],\n",
    "    \"unique_values\": [con_data[col].nunique() for col in con_data.columns],\n",
    "    \"total_rows\": len(con_data)\n",
    "}, index=con_data.columns)\n",
    "\n",
    "duplicate_summary_con"
   ]
  },
  {
   "cell_type": "markdown",
   "metadata": {},
   "source": [
    "<div style=\"border: 2px solid black; padding: 10px; margin: 10px\">\n",
    "\n",
    "While looking at our duplicate data for the **Contract Data** set, we see there are a high rate of duplicates for `begin_date`, `end_date`, `type`, `paperless_billing`, and `payment_method`. Each of these, though, also only have a few unique values (except for `begin_date`). The others with 2-5 unique values have duplicates because of the nature of the amount of possibilities that exist for that column. In terms of `begin_date`, there could have been a promotion going on that was able to capture more customers at one time, so seeing a high percentage in this column is also expected.\n",
    "<br>\n",
    "\n",
    "We're also confirming that there are 7,043 unique customer ID's.\n",
    "<br>\n",
    "\n",
    "For this dataset, we will leave all the duplicates present as they are important pieces of information that we'll use to train our model.\n",
    "\n",
    "</div>"
   ]
  },
  {
   "cell_type": "markdown",
   "metadata": {},
   "source": [
    " "
   ]
  },
  {
   "cell_type": "markdown",
   "metadata": {},
   "source": [
    " "
   ]
  },
  {
   "cell_type": "markdown",
   "metadata": {},
   "source": [
    "#### Personal Data"
   ]
  },
  {
   "cell_type": "code",
   "execution_count": 25,
   "metadata": {},
   "outputs": [
    {
     "name": "stdout",
     "output_type": "stream",
     "text": [
      "Personal Data\n",
      "=========================================================================\n"
     ]
    },
    {
     "data": {
      "text/html": [
       "<div>\n",
       "<style scoped>\n",
       "    .dataframe tbody tr th:only-of-type {\n",
       "        vertical-align: middle;\n",
       "    }\n",
       "\n",
       "    .dataframe tbody tr th {\n",
       "        vertical-align: top;\n",
       "    }\n",
       "\n",
       "    .dataframe thead th {\n",
       "        text-align: right;\n",
       "    }\n",
       "</style>\n",
       "<table border=\"1\" class=\"dataframe\">\n",
       "  <thead>\n",
       "    <tr style=\"text-align: right;\">\n",
       "      <th></th>\n",
       "      <th>duplicates_count</th>\n",
       "      <th>duplicates_percent</th>\n",
       "      <th>unique_values</th>\n",
       "      <th>total_rows</th>\n",
       "    </tr>\n",
       "  </thead>\n",
       "  <tbody>\n",
       "    <tr>\n",
       "      <th>customer_id</th>\n",
       "      <td>0</td>\n",
       "      <td>0.000000</td>\n",
       "      <td>7043</td>\n",
       "      <td>7043</td>\n",
       "    </tr>\n",
       "    <tr>\n",
       "      <th>gender</th>\n",
       "      <td>7041</td>\n",
       "      <td>99.971603</td>\n",
       "      <td>2</td>\n",
       "      <td>7043</td>\n",
       "    </tr>\n",
       "    <tr>\n",
       "      <th>senior_citizen</th>\n",
       "      <td>7041</td>\n",
       "      <td>99.971603</td>\n",
       "      <td>2</td>\n",
       "      <td>7043</td>\n",
       "    </tr>\n",
       "    <tr>\n",
       "      <th>partner</th>\n",
       "      <td>7041</td>\n",
       "      <td>99.971603</td>\n",
       "      <td>2</td>\n",
       "      <td>7043</td>\n",
       "    </tr>\n",
       "    <tr>\n",
       "      <th>dependents</th>\n",
       "      <td>7041</td>\n",
       "      <td>99.971603</td>\n",
       "      <td>2</td>\n",
       "      <td>7043</td>\n",
       "    </tr>\n",
       "  </tbody>\n",
       "</table>\n",
       "</div>"
      ],
      "text/plain": [
       "                duplicates_count  duplicates_percent  unique_values  \\\n",
       "customer_id                    0            0.000000           7043   \n",
       "gender                      7041           99.971603              2   \n",
       "senior_citizen              7041           99.971603              2   \n",
       "partner                     7041           99.971603              2   \n",
       "dependents                  7041           99.971603              2   \n",
       "\n",
       "                total_rows  \n",
       "customer_id           7043  \n",
       "gender                7043  \n",
       "senior_citizen        7043  \n",
       "partner               7043  \n",
       "dependents            7043  "
      ]
     },
     "execution_count": 25,
     "metadata": {},
     "output_type": "execute_result"
    }
   ],
   "source": [
    "# Personal Data\n",
    "\n",
    "print(\"Personal Data\")\n",
    "print(\"=========================================================================\")\n",
    "\n",
    "duplicate_summary_per = pd.DataFrame({\n",
    "    \"duplicates_count\": [per_data[col].duplicated().sum() for col in per_data.columns],\n",
    "    \"duplicates_percent\": [per_data[col].duplicated().mean() * 100 for col in per_data.columns],\n",
    "    \"unique_values\": [per_data[col].nunique() for col in per_data.columns],\n",
    "    \"total_rows\": len(per_data)\n",
    "}, index=per_data.columns)\n",
    "\n",
    "duplicate_summary_per"
   ]
  },
  {
   "cell_type": "markdown",
   "metadata": {},
   "source": [
    "<div style=\"border: 2px solid black; padding: 10px; margin: 10px\">\n",
    "\n",
    "In our **Personal Data** set, we're again seeing unique `customer_id`'s, and based on the number of unique values, and the information they represent, we can leave these duplicates for this dataset as well since they hold important information that can help inform our model later on.\n",
    "\n",
    "</div>"
   ]
  },
  {
   "cell_type": "markdown",
   "metadata": {},
   "source": [
    " "
   ]
  },
  {
   "cell_type": "markdown",
   "metadata": {},
   "source": [
    " "
   ]
  },
  {
   "cell_type": "markdown",
   "metadata": {},
   "source": [
    "#### Internet Data"
   ]
  },
  {
   "cell_type": "code",
   "execution_count": 30,
   "metadata": {},
   "outputs": [
    {
     "name": "stdout",
     "output_type": "stream",
     "text": [
      "Internet Data\n",
      "=========================================================================\n"
     ]
    },
    {
     "data": {
      "text/html": [
       "<div>\n",
       "<style scoped>\n",
       "    .dataframe tbody tr th:only-of-type {\n",
       "        vertical-align: middle;\n",
       "    }\n",
       "\n",
       "    .dataframe tbody tr th {\n",
       "        vertical-align: top;\n",
       "    }\n",
       "\n",
       "    .dataframe thead th {\n",
       "        text-align: right;\n",
       "    }\n",
       "</style>\n",
       "<table border=\"1\" class=\"dataframe\">\n",
       "  <thead>\n",
       "    <tr style=\"text-align: right;\">\n",
       "      <th></th>\n",
       "      <th>duplicates_count</th>\n",
       "      <th>duplicates_percent</th>\n",
       "      <th>unique_values</th>\n",
       "      <th>total_rows</th>\n",
       "    </tr>\n",
       "  </thead>\n",
       "  <tbody>\n",
       "    <tr>\n",
       "      <th>customer_id</th>\n",
       "      <td>0</td>\n",
       "      <td>0.000000</td>\n",
       "      <td>5517</td>\n",
       "      <td>5517</td>\n",
       "    </tr>\n",
       "    <tr>\n",
       "      <th>internet_service</th>\n",
       "      <td>5515</td>\n",
       "      <td>99.963748</td>\n",
       "      <td>2</td>\n",
       "      <td>5517</td>\n",
       "    </tr>\n",
       "    <tr>\n",
       "      <th>online_security</th>\n",
       "      <td>5515</td>\n",
       "      <td>99.963748</td>\n",
       "      <td>2</td>\n",
       "      <td>5517</td>\n",
       "    </tr>\n",
       "    <tr>\n",
       "      <th>online_backup</th>\n",
       "      <td>5515</td>\n",
       "      <td>99.963748</td>\n",
       "      <td>2</td>\n",
       "      <td>5517</td>\n",
       "    </tr>\n",
       "    <tr>\n",
       "      <th>device_protection</th>\n",
       "      <td>5515</td>\n",
       "      <td>99.963748</td>\n",
       "      <td>2</td>\n",
       "      <td>5517</td>\n",
       "    </tr>\n",
       "    <tr>\n",
       "      <th>tech_support</th>\n",
       "      <td>5515</td>\n",
       "      <td>99.963748</td>\n",
       "      <td>2</td>\n",
       "      <td>5517</td>\n",
       "    </tr>\n",
       "    <tr>\n",
       "      <th>streaming_tv</th>\n",
       "      <td>5515</td>\n",
       "      <td>99.963748</td>\n",
       "      <td>2</td>\n",
       "      <td>5517</td>\n",
       "    </tr>\n",
       "    <tr>\n",
       "      <th>streaming_movies</th>\n",
       "      <td>5515</td>\n",
       "      <td>99.963748</td>\n",
       "      <td>2</td>\n",
       "      <td>5517</td>\n",
       "    </tr>\n",
       "  </tbody>\n",
       "</table>\n",
       "</div>"
      ],
      "text/plain": [
       "                   duplicates_count  duplicates_percent  unique_values  \\\n",
       "customer_id                       0            0.000000           5517   \n",
       "internet_service               5515           99.963748              2   \n",
       "online_security                5515           99.963748              2   \n",
       "online_backup                  5515           99.963748              2   \n",
       "device_protection              5515           99.963748              2   \n",
       "tech_support                   5515           99.963748              2   \n",
       "streaming_tv                   5515           99.963748              2   \n",
       "streaming_movies               5515           99.963748              2   \n",
       "\n",
       "                   total_rows  \n",
       "customer_id              5517  \n",
       "internet_service         5517  \n",
       "online_security          5517  \n",
       "online_backup            5517  \n",
       "device_protection        5517  \n",
       "tech_support             5517  \n",
       "streaming_tv             5517  \n",
       "streaming_movies         5517  "
      ]
     },
     "execution_count": 30,
     "metadata": {},
     "output_type": "execute_result"
    }
   ],
   "source": [
    "# Internet Data\n",
    "\n",
    "print(\"Internet Data\")\n",
    "print(\"=========================================================================\")\n",
    "\n",
    "duplicate_summary_int = pd.DataFrame({\n",
    "    \"duplicates_count\": [int_data[col].duplicated().sum() for col in int_data.columns],\n",
    "    \"duplicates_percent\": [int_data[col].duplicated().mean() * 100 for col in int_data.columns],\n",
    "    \"unique_values\": [int_data[col].nunique() for col in int_data.columns],\n",
    "    \"total_rows\": len(int_data)\n",
    "}, index=int_data.columns)\n",
    "\n",
    "duplicate_summary_int"
   ]
  },
  {
   "cell_type": "markdown",
   "metadata": {},
   "source": [
    "<div style=\"border: 2px solid black; padding: 10px; margin: 10px\">\n",
    "\n",
    "We're seeing a similar scenario here in our **Internet Data** set; the duplicates are intentional and we will keep them for training.\n",
    "\n",
    "</div>"
   ]
  },
  {
   "cell_type": "markdown",
   "metadata": {},
   "source": [
    " "
   ]
  },
  {
   "cell_type": "markdown",
   "metadata": {},
   "source": [
    " "
   ]
  },
  {
   "cell_type": "markdown",
   "metadata": {},
   "source": [
    "#### Phone Data"
   ]
  },
  {
   "cell_type": "code",
   "execution_count": 35,
   "metadata": {},
   "outputs": [
    {
     "name": "stdout",
     "output_type": "stream",
     "text": [
      "Phone Data\n",
      "=========================================================================\n"
     ]
    },
    {
     "data": {
      "text/html": [
       "<div>\n",
       "<style scoped>\n",
       "    .dataframe tbody tr th:only-of-type {\n",
       "        vertical-align: middle;\n",
       "    }\n",
       "\n",
       "    .dataframe tbody tr th {\n",
       "        vertical-align: top;\n",
       "    }\n",
       "\n",
       "    .dataframe thead th {\n",
       "        text-align: right;\n",
       "    }\n",
       "</style>\n",
       "<table border=\"1\" class=\"dataframe\">\n",
       "  <thead>\n",
       "    <tr style=\"text-align: right;\">\n",
       "      <th></th>\n",
       "      <th>duplicates_count</th>\n",
       "      <th>duplicates_percent</th>\n",
       "      <th>unique_values</th>\n",
       "      <th>total_rows</th>\n",
       "    </tr>\n",
       "  </thead>\n",
       "  <tbody>\n",
       "    <tr>\n",
       "      <th>customer_id</th>\n",
       "      <td>0</td>\n",
       "      <td>0.000000</td>\n",
       "      <td>6361</td>\n",
       "      <td>6361</td>\n",
       "    </tr>\n",
       "    <tr>\n",
       "      <th>multiple_lines</th>\n",
       "      <td>6359</td>\n",
       "      <td>99.968558</td>\n",
       "      <td>2</td>\n",
       "      <td>6361</td>\n",
       "    </tr>\n",
       "  </tbody>\n",
       "</table>\n",
       "</div>"
      ],
      "text/plain": [
       "                duplicates_count  duplicates_percent  unique_values  \\\n",
       "customer_id                    0            0.000000           6361   \n",
       "multiple_lines              6359           99.968558              2   \n",
       "\n",
       "                total_rows  \n",
       "customer_id           6361  \n",
       "multiple_lines        6361  "
      ]
     },
     "execution_count": 35,
     "metadata": {},
     "output_type": "execute_result"
    }
   ],
   "source": [
    "# Phone Data\n",
    "\n",
    "print(\"Phone Data\")\n",
    "print(\"=========================================================================\")\n",
    "\n",
    "duplicate_summary_pho = pd.DataFrame({\n",
    "    \"duplicates_count\": [pho_data[col].duplicated().sum() for col in pho_data.columns],\n",
    "    \"duplicates_percent\": [pho_data[col].duplicated().mean() * 100 for col in pho_data.columns],\n",
    "    \"unique_values\": [pho_data[col].nunique() for col in pho_data.columns],\n",
    "    \"total_rows\": len(pho_data)\n",
    "}, index=pho_data.columns)\n",
    "\n",
    "duplicate_summary_pho"
   ]
  },
  {
   "cell_type": "markdown",
   "metadata": {},
   "source": [
    "<div style=\"border: 2px solid black; padding: 10px; margin: 10px\">\n",
    "\n",
    "The duplicates in our **Phone Data** set are also intentional and will be left for training.\n",
    "<br>\n",
    "\n",
    "Next, we will uncover any missing values in our data.\n",
    "\n",
    "</div>"
   ]
  },
  {
   "cell_type": "markdown",
   "metadata": {},
   "source": [
    " "
   ]
  },
  {
   "cell_type": "markdown",
   "metadata": {},
   "source": [
    " "
   ]
  },
  {
   "cell_type": "markdown",
   "metadata": {},
   "source": [
    "### Missing Values"
   ]
  },
  {
   "cell_type": "markdown",
   "metadata": {},
   "source": [
    "#### Contract Data"
   ]
  },
  {
   "cell_type": "code",
   "execution_count": 41,
   "metadata": {},
   "outputs": [
    {
     "name": "stdout",
     "output_type": "stream",
     "text": [
      "Contract Data\n",
      "=========================================================================\n"
     ]
    },
    {
     "data": {
      "text/html": [
       "<div>\n",
       "<style scoped>\n",
       "    .dataframe tbody tr th:only-of-type {\n",
       "        vertical-align: middle;\n",
       "    }\n",
       "\n",
       "    .dataframe tbody tr th {\n",
       "        vertical-align: top;\n",
       "    }\n",
       "\n",
       "    .dataframe thead th {\n",
       "        text-align: right;\n",
       "    }\n",
       "</style>\n",
       "<table border=\"1\" class=\"dataframe\">\n",
       "  <thead>\n",
       "    <tr style=\"text-align: right;\">\n",
       "      <th></th>\n",
       "      <th>missing_count</th>\n",
       "      <th>missing_percent</th>\n",
       "      <th>unique_values</th>\n",
       "      <th>total_rows</th>\n",
       "    </tr>\n",
       "  </thead>\n",
       "  <tbody>\n",
       "    <tr>\n",
       "      <th>customer_id</th>\n",
       "      <td>0</td>\n",
       "      <td>0.0</td>\n",
       "      <td>7043</td>\n",
       "      <td>7043</td>\n",
       "    </tr>\n",
       "    <tr>\n",
       "      <th>begin_date</th>\n",
       "      <td>0</td>\n",
       "      <td>0.0</td>\n",
       "      <td>77</td>\n",
       "      <td>7043</td>\n",
       "    </tr>\n",
       "    <tr>\n",
       "      <th>end_date</th>\n",
       "      <td>0</td>\n",
       "      <td>0.0</td>\n",
       "      <td>5</td>\n",
       "      <td>7043</td>\n",
       "    </tr>\n",
       "    <tr>\n",
       "      <th>type</th>\n",
       "      <td>0</td>\n",
       "      <td>0.0</td>\n",
       "      <td>3</td>\n",
       "      <td>7043</td>\n",
       "    </tr>\n",
       "    <tr>\n",
       "      <th>paperless_billing</th>\n",
       "      <td>0</td>\n",
       "      <td>0.0</td>\n",
       "      <td>2</td>\n",
       "      <td>7043</td>\n",
       "    </tr>\n",
       "    <tr>\n",
       "      <th>payment_method</th>\n",
       "      <td>0</td>\n",
       "      <td>0.0</td>\n",
       "      <td>4</td>\n",
       "      <td>7043</td>\n",
       "    </tr>\n",
       "    <tr>\n",
       "      <th>monthly_charges</th>\n",
       "      <td>0</td>\n",
       "      <td>0.0</td>\n",
       "      <td>1585</td>\n",
       "      <td>7043</td>\n",
       "    </tr>\n",
       "    <tr>\n",
       "      <th>total_charges</th>\n",
       "      <td>0</td>\n",
       "      <td>0.0</td>\n",
       "      <td>6531</td>\n",
       "      <td>7043</td>\n",
       "    </tr>\n",
       "  </tbody>\n",
       "</table>\n",
       "</div>"
      ],
      "text/plain": [
       "                   missing_count  missing_percent  unique_values  total_rows\n",
       "customer_id                    0              0.0           7043        7043\n",
       "begin_date                     0              0.0             77        7043\n",
       "end_date                       0              0.0              5        7043\n",
       "type                           0              0.0              3        7043\n",
       "paperless_billing              0              0.0              2        7043\n",
       "payment_method                 0              0.0              4        7043\n",
       "monthly_charges                0              0.0           1585        7043\n",
       "total_charges                  0              0.0           6531        7043"
      ]
     },
     "execution_count": 41,
     "metadata": {},
     "output_type": "execute_result"
    }
   ],
   "source": [
    "# Contract Data\n",
    "\n",
    "print(\"Contract Data\")\n",
    "print(\"=========================================================================\")\n",
    "\n",
    "na_sum_con = pd.DataFrame({\n",
    "    \"missing_count\": con_data.isna().sum(),\n",
    "    \"missing_percent\": (con_data.isna().mean() * 100).round(2),\n",
    "    \"unique_values\": con_data.nunique(),\n",
    "    \"total_rows\": len(con_data)\n",
    "})\n",
    "\n",
    "# Sorting values by missing value count\n",
    "na_sum_con = na_sum_con.sort_values(by=\"missing_count\", ascending=False)\n",
    "\n",
    "na_sum_con"
   ]
  },
  {
   "cell_type": "markdown",
   "metadata": {},
   "source": [
    "<div style=\"border: 2px solid black; padding: 10px; margin: 10px\">\n",
    "\n",
    "No missing values.\n",
    "\n",
    "</div>"
   ]
  },
  {
   "cell_type": "markdown",
   "metadata": {},
   "source": [
    " "
   ]
  },
  {
   "cell_type": "markdown",
   "metadata": {},
   "source": [
    " "
   ]
  },
  {
   "cell_type": "markdown",
   "metadata": {},
   "source": [
    "#### Personal Data"
   ]
  },
  {
   "cell_type": "code",
   "execution_count": 46,
   "metadata": {},
   "outputs": [
    {
     "name": "stdout",
     "output_type": "stream",
     "text": [
      "Personal Data\n",
      "=========================================================================\n"
     ]
    },
    {
     "data": {
      "text/html": [
       "<div>\n",
       "<style scoped>\n",
       "    .dataframe tbody tr th:only-of-type {\n",
       "        vertical-align: middle;\n",
       "    }\n",
       "\n",
       "    .dataframe tbody tr th {\n",
       "        vertical-align: top;\n",
       "    }\n",
       "\n",
       "    .dataframe thead th {\n",
       "        text-align: right;\n",
       "    }\n",
       "</style>\n",
       "<table border=\"1\" class=\"dataframe\">\n",
       "  <thead>\n",
       "    <tr style=\"text-align: right;\">\n",
       "      <th></th>\n",
       "      <th>missing_count</th>\n",
       "      <th>missing_percent</th>\n",
       "      <th>unique_values</th>\n",
       "      <th>total_rows</th>\n",
       "    </tr>\n",
       "  </thead>\n",
       "  <tbody>\n",
       "    <tr>\n",
       "      <th>customer_id</th>\n",
       "      <td>0</td>\n",
       "      <td>0.0</td>\n",
       "      <td>7043</td>\n",
       "      <td>7043</td>\n",
       "    </tr>\n",
       "    <tr>\n",
       "      <th>gender</th>\n",
       "      <td>0</td>\n",
       "      <td>0.0</td>\n",
       "      <td>2</td>\n",
       "      <td>7043</td>\n",
       "    </tr>\n",
       "    <tr>\n",
       "      <th>senior_citizen</th>\n",
       "      <td>0</td>\n",
       "      <td>0.0</td>\n",
       "      <td>2</td>\n",
       "      <td>7043</td>\n",
       "    </tr>\n",
       "    <tr>\n",
       "      <th>partner</th>\n",
       "      <td>0</td>\n",
       "      <td>0.0</td>\n",
       "      <td>2</td>\n",
       "      <td>7043</td>\n",
       "    </tr>\n",
       "    <tr>\n",
       "      <th>dependents</th>\n",
       "      <td>0</td>\n",
       "      <td>0.0</td>\n",
       "      <td>2</td>\n",
       "      <td>7043</td>\n",
       "    </tr>\n",
       "  </tbody>\n",
       "</table>\n",
       "</div>"
      ],
      "text/plain": [
       "                missing_count  missing_percent  unique_values  total_rows\n",
       "customer_id                 0              0.0           7043        7043\n",
       "gender                      0              0.0              2        7043\n",
       "senior_citizen              0              0.0              2        7043\n",
       "partner                     0              0.0              2        7043\n",
       "dependents                  0              0.0              2        7043"
      ]
     },
     "execution_count": 46,
     "metadata": {},
     "output_type": "execute_result"
    }
   ],
   "source": [
    "# Personal Data\n",
    "\n",
    "print(\"Personal Data\")\n",
    "print(\"=========================================================================\")\n",
    "\n",
    "na_sum_per = pd.DataFrame({\n",
    "    \"missing_count\": per_data.isna().sum(),\n",
    "    \"missing_percent\": (per_data.isna().mean() * 100).round(2),\n",
    "    \"unique_values\": per_data.nunique(),\n",
    "    \"total_rows\": len(per_data)\n",
    "})\n",
    "\n",
    "# Sorting values by missing value count\n",
    "na_sum_per = na_sum_per.sort_values(by=\"missing_count\", ascending=False)\n",
    "\n",
    "na_sum_per"
   ]
  },
  {
   "cell_type": "markdown",
   "metadata": {},
   "source": [
    "<div style=\"border: 2px solid black; padding: 10px; margin: 10px\">\n",
    "\n",
    "No missing values.\n",
    "\n",
    "</div>"
   ]
  },
  {
   "cell_type": "markdown",
   "metadata": {},
   "source": [
    " "
   ]
  },
  {
   "cell_type": "markdown",
   "metadata": {},
   "source": [
    " "
   ]
  },
  {
   "cell_type": "markdown",
   "metadata": {},
   "source": [
    "#### Internet Data"
   ]
  },
  {
   "cell_type": "code",
   "execution_count": 51,
   "metadata": {},
   "outputs": [
    {
     "name": "stdout",
     "output_type": "stream",
     "text": [
      "Internet Data\n",
      "=========================================================================\n"
     ]
    },
    {
     "data": {
      "text/html": [
       "<div>\n",
       "<style scoped>\n",
       "    .dataframe tbody tr th:only-of-type {\n",
       "        vertical-align: middle;\n",
       "    }\n",
       "\n",
       "    .dataframe tbody tr th {\n",
       "        vertical-align: top;\n",
       "    }\n",
       "\n",
       "    .dataframe thead th {\n",
       "        text-align: right;\n",
       "    }\n",
       "</style>\n",
       "<table border=\"1\" class=\"dataframe\">\n",
       "  <thead>\n",
       "    <tr style=\"text-align: right;\">\n",
       "      <th></th>\n",
       "      <th>missing_count</th>\n",
       "      <th>missing_percent</th>\n",
       "      <th>unique_values</th>\n",
       "      <th>total_rows</th>\n",
       "    </tr>\n",
       "  </thead>\n",
       "  <tbody>\n",
       "    <tr>\n",
       "      <th>customer_id</th>\n",
       "      <td>0</td>\n",
       "      <td>0.0</td>\n",
       "      <td>5517</td>\n",
       "      <td>5517</td>\n",
       "    </tr>\n",
       "    <tr>\n",
       "      <th>internet_service</th>\n",
       "      <td>0</td>\n",
       "      <td>0.0</td>\n",
       "      <td>2</td>\n",
       "      <td>5517</td>\n",
       "    </tr>\n",
       "    <tr>\n",
       "      <th>online_security</th>\n",
       "      <td>0</td>\n",
       "      <td>0.0</td>\n",
       "      <td>2</td>\n",
       "      <td>5517</td>\n",
       "    </tr>\n",
       "    <tr>\n",
       "      <th>online_backup</th>\n",
       "      <td>0</td>\n",
       "      <td>0.0</td>\n",
       "      <td>2</td>\n",
       "      <td>5517</td>\n",
       "    </tr>\n",
       "    <tr>\n",
       "      <th>device_protection</th>\n",
       "      <td>0</td>\n",
       "      <td>0.0</td>\n",
       "      <td>2</td>\n",
       "      <td>5517</td>\n",
       "    </tr>\n",
       "    <tr>\n",
       "      <th>tech_support</th>\n",
       "      <td>0</td>\n",
       "      <td>0.0</td>\n",
       "      <td>2</td>\n",
       "      <td>5517</td>\n",
       "    </tr>\n",
       "    <tr>\n",
       "      <th>streaming_tv</th>\n",
       "      <td>0</td>\n",
       "      <td>0.0</td>\n",
       "      <td>2</td>\n",
       "      <td>5517</td>\n",
       "    </tr>\n",
       "    <tr>\n",
       "      <th>streaming_movies</th>\n",
       "      <td>0</td>\n",
       "      <td>0.0</td>\n",
       "      <td>2</td>\n",
       "      <td>5517</td>\n",
       "    </tr>\n",
       "  </tbody>\n",
       "</table>\n",
       "</div>"
      ],
      "text/plain": [
       "                   missing_count  missing_percent  unique_values  total_rows\n",
       "customer_id                    0              0.0           5517        5517\n",
       "internet_service               0              0.0              2        5517\n",
       "online_security                0              0.0              2        5517\n",
       "online_backup                  0              0.0              2        5517\n",
       "device_protection              0              0.0              2        5517\n",
       "tech_support                   0              0.0              2        5517\n",
       "streaming_tv                   0              0.0              2        5517\n",
       "streaming_movies               0              0.0              2        5517"
      ]
     },
     "execution_count": 51,
     "metadata": {},
     "output_type": "execute_result"
    }
   ],
   "source": [
    "# Internet Data\n",
    "\n",
    "print(\"Internet Data\")\n",
    "print(\"=========================================================================\")\n",
    "\n",
    "na_sum_int = pd.DataFrame({\n",
    "    \"missing_count\": int_data.isna().sum(),\n",
    "    \"missing_percent\": (int_data.isna().mean() * 100).round(2),\n",
    "    \"unique_values\": int_data.nunique(),\n",
    "    \"total_rows\": len(int_data)\n",
    "})\n",
    "\n",
    "# Sorting values by missing value count\n",
    "na_sum_int = na_sum_int.sort_values(by=\"missing_count\", ascending=False)\n",
    "\n",
    "na_sum_int"
   ]
  },
  {
   "cell_type": "markdown",
   "metadata": {},
   "source": [
    "<div style=\"border: 2px solid black; padding: 10px; margin: 10px\">\n",
    "\n",
    "No missing values.\n",
    "\n",
    "</div>"
   ]
  },
  {
   "cell_type": "markdown",
   "metadata": {},
   "source": [
    " "
   ]
  },
  {
   "cell_type": "markdown",
   "metadata": {},
   "source": [
    " "
   ]
  },
  {
   "cell_type": "markdown",
   "metadata": {},
   "source": [
    "#### Phone Data"
   ]
  },
  {
   "cell_type": "code",
   "execution_count": 56,
   "metadata": {},
   "outputs": [
    {
     "name": "stdout",
     "output_type": "stream",
     "text": [
      "Phone Data\n",
      "=========================================================================\n"
     ]
    },
    {
     "data": {
      "text/html": [
       "<div>\n",
       "<style scoped>\n",
       "    .dataframe tbody tr th:only-of-type {\n",
       "        vertical-align: middle;\n",
       "    }\n",
       "\n",
       "    .dataframe tbody tr th {\n",
       "        vertical-align: top;\n",
       "    }\n",
       "\n",
       "    .dataframe thead th {\n",
       "        text-align: right;\n",
       "    }\n",
       "</style>\n",
       "<table border=\"1\" class=\"dataframe\">\n",
       "  <thead>\n",
       "    <tr style=\"text-align: right;\">\n",
       "      <th></th>\n",
       "      <th>missing_count</th>\n",
       "      <th>missing_percent</th>\n",
       "      <th>unique_values</th>\n",
       "      <th>total_rows</th>\n",
       "    </tr>\n",
       "  </thead>\n",
       "  <tbody>\n",
       "    <tr>\n",
       "      <th>customer_id</th>\n",
       "      <td>0</td>\n",
       "      <td>0.0</td>\n",
       "      <td>6361</td>\n",
       "      <td>6361</td>\n",
       "    </tr>\n",
       "    <tr>\n",
       "      <th>multiple_lines</th>\n",
       "      <td>0</td>\n",
       "      <td>0.0</td>\n",
       "      <td>2</td>\n",
       "      <td>6361</td>\n",
       "    </tr>\n",
       "  </tbody>\n",
       "</table>\n",
       "</div>"
      ],
      "text/plain": [
       "                missing_count  missing_percent  unique_values  total_rows\n",
       "customer_id                 0              0.0           6361        6361\n",
       "multiple_lines              0              0.0              2        6361"
      ]
     },
     "execution_count": 56,
     "metadata": {},
     "output_type": "execute_result"
    }
   ],
   "source": [
    "# Phone Data\n",
    "\n",
    "print(\"Phone Data\")\n",
    "print(\"=========================================================================\")\n",
    "\n",
    "na_sum_pho = pd.DataFrame({\n",
    "    \"missing_count\": pho_data.isna().sum(),\n",
    "    \"missing_percent\": (pho_data.isna().mean() * 100).round(2),\n",
    "    \"unique_values\": pho_data.nunique(),\n",
    "    \"total_rows\": len(pho_data)\n",
    "})\n",
    "\n",
    "# Sorting values by missing value count\n",
    "na_sum_pho = na_sum_pho.sort_values(by=\"missing_count\", ascending=False)\n",
    "\n",
    "na_sum_pho"
   ]
  },
  {
   "cell_type": "markdown",
   "metadata": {},
   "source": [
    "<div style=\"border: 2px solid black; padding: 10px; margin: 10px\">\n",
    "\n",
    "We have no missing values in all of our datasets.\n",
    "<br>\n",
    "\n",
    "We'll now move on to combining all 4 dataframes into one and then continue to data type validation, date parsing, etc.\n",
    "\n",
    "</div>"
   ]
  },
  {
   "cell_type": "markdown",
   "metadata": {},
   "source": [
    " "
   ]
  },
  {
   "cell_type": "markdown",
   "metadata": {},
   "source": [
    " "
   ]
  },
  {
   "cell_type": "markdown",
   "metadata": {},
   "source": [
    "### Combining Dataframes"
   ]
  },
  {
   "cell_type": "code",
   "execution_count": 61,
   "metadata": {},
   "outputs": [
    {
     "name": "stdout",
     "output_type": "stream",
     "text": [
      "Contract Data\n",
      "object\n",
      "\n",
      "Personal Data\n",
      "object\n",
      "\n",
      "Internet Data\n",
      "object\n",
      "\n",
      "Phone Data\n",
      "object\n",
      "\n"
     ]
    }
   ],
   "source": [
    "# Before combining, ensuring that 'customer_id' is the same datatype across all dataframes\n",
    "\n",
    "print(\"Contract Data\")\n",
    "print(con_data['customer_id'].dtype)\n",
    "print()\n",
    "\n",
    "print(\"Personal Data\")\n",
    "print(per_data['customer_id'].dtype)\n",
    "print()\n",
    "\n",
    "print(\"Internet Data\")\n",
    "print(int_data['customer_id'].dtype)\n",
    "print()\n",
    "\n",
    "print(\"Phone Data\")\n",
    "print(pho_data['customer_id'].dtype)\n",
    "print()"
   ]
  },
  {
   "cell_type": "code",
   "execution_count": 62,
   "metadata": {},
   "outputs": [],
   "source": [
    "# Now, combining all four dataframes on 'customer_id' on an 'outer' join\n",
    "# Intention is to include as much data as possible and we'll decide what to do with\n",
    "# the missing values afterwards after identifying them.\n",
    "\n",
    "df_merged = (\n",
    "    con_data\n",
    "    .merge(per_data, on=\"customer_id\", how=\"outer\")\n",
    "    .merge(int_data, on=\"customer_id\", how=\"outer\")\n",
    "    .merge(pho_data, on=\"customer_id\", how=\"outer\")\n",
    ")"
   ]
  },
  {
   "cell_type": "code",
   "execution_count": 63,
   "metadata": {},
   "outputs": [
    {
     "data": {
      "text/plain": [
       "0"
      ]
     },
     "execution_count": 63,
     "metadata": {},
     "output_type": "execute_result"
    }
   ],
   "source": [
    "# Checking on duplicates for merged DF\n",
    "\n",
    "df_merged.duplicated().sum()"
   ]
  },
  {
   "cell_type": "code",
   "execution_count": 64,
   "metadata": {},
   "outputs": [
    {
     "name": "stdout",
     "output_type": "stream",
     "text": [
      "Merged DF\n",
      "=========================================================================\n"
     ]
    },
    {
     "data": {
      "text/html": [
       "<div>\n",
       "<style scoped>\n",
       "    .dataframe tbody tr th:only-of-type {\n",
       "        vertical-align: middle;\n",
       "    }\n",
       "\n",
       "    .dataframe tbody tr th {\n",
       "        vertical-align: top;\n",
       "    }\n",
       "\n",
       "    .dataframe thead th {\n",
       "        text-align: right;\n",
       "    }\n",
       "</style>\n",
       "<table border=\"1\" class=\"dataframe\">\n",
       "  <thead>\n",
       "    <tr style=\"text-align: right;\">\n",
       "      <th></th>\n",
       "      <th>missing_count</th>\n",
       "      <th>missing_percent</th>\n",
       "      <th>unique_values</th>\n",
       "      <th>total_rows</th>\n",
       "    </tr>\n",
       "  </thead>\n",
       "  <tbody>\n",
       "    <tr>\n",
       "      <th>streaming_movies</th>\n",
       "      <td>1526</td>\n",
       "      <td>21.67</td>\n",
       "      <td>2</td>\n",
       "      <td>7043</td>\n",
       "    </tr>\n",
       "    <tr>\n",
       "      <th>streaming_tv</th>\n",
       "      <td>1526</td>\n",
       "      <td>21.67</td>\n",
       "      <td>2</td>\n",
       "      <td>7043</td>\n",
       "    </tr>\n",
       "    <tr>\n",
       "      <th>tech_support</th>\n",
       "      <td>1526</td>\n",
       "      <td>21.67</td>\n",
       "      <td>2</td>\n",
       "      <td>7043</td>\n",
       "    </tr>\n",
       "    <tr>\n",
       "      <th>device_protection</th>\n",
       "      <td>1526</td>\n",
       "      <td>21.67</td>\n",
       "      <td>2</td>\n",
       "      <td>7043</td>\n",
       "    </tr>\n",
       "    <tr>\n",
       "      <th>online_backup</th>\n",
       "      <td>1526</td>\n",
       "      <td>21.67</td>\n",
       "      <td>2</td>\n",
       "      <td>7043</td>\n",
       "    </tr>\n",
       "    <tr>\n",
       "      <th>online_security</th>\n",
       "      <td>1526</td>\n",
       "      <td>21.67</td>\n",
       "      <td>2</td>\n",
       "      <td>7043</td>\n",
       "    </tr>\n",
       "    <tr>\n",
       "      <th>internet_service</th>\n",
       "      <td>1526</td>\n",
       "      <td>21.67</td>\n",
       "      <td>2</td>\n",
       "      <td>7043</td>\n",
       "    </tr>\n",
       "    <tr>\n",
       "      <th>multiple_lines</th>\n",
       "      <td>682</td>\n",
       "      <td>9.68</td>\n",
       "      <td>2</td>\n",
       "      <td>7043</td>\n",
       "    </tr>\n",
       "    <tr>\n",
       "      <th>begin_date</th>\n",
       "      <td>0</td>\n",
       "      <td>0.00</td>\n",
       "      <td>77</td>\n",
       "      <td>7043</td>\n",
       "    </tr>\n",
       "    <tr>\n",
       "      <th>dependents</th>\n",
       "      <td>0</td>\n",
       "      <td>0.00</td>\n",
       "      <td>2</td>\n",
       "      <td>7043</td>\n",
       "    </tr>\n",
       "    <tr>\n",
       "      <th>customer_id</th>\n",
       "      <td>0</td>\n",
       "      <td>0.00</td>\n",
       "      <td>7043</td>\n",
       "      <td>7043</td>\n",
       "    </tr>\n",
       "    <tr>\n",
       "      <th>senior_citizen</th>\n",
       "      <td>0</td>\n",
       "      <td>0.00</td>\n",
       "      <td>2</td>\n",
       "      <td>7043</td>\n",
       "    </tr>\n",
       "    <tr>\n",
       "      <th>gender</th>\n",
       "      <td>0</td>\n",
       "      <td>0.00</td>\n",
       "      <td>2</td>\n",
       "      <td>7043</td>\n",
       "    </tr>\n",
       "    <tr>\n",
       "      <th>total_charges</th>\n",
       "      <td>0</td>\n",
       "      <td>0.00</td>\n",
       "      <td>6531</td>\n",
       "      <td>7043</td>\n",
       "    </tr>\n",
       "    <tr>\n",
       "      <th>monthly_charges</th>\n",
       "      <td>0</td>\n",
       "      <td>0.00</td>\n",
       "      <td>1585</td>\n",
       "      <td>7043</td>\n",
       "    </tr>\n",
       "    <tr>\n",
       "      <th>payment_method</th>\n",
       "      <td>0</td>\n",
       "      <td>0.00</td>\n",
       "      <td>4</td>\n",
       "      <td>7043</td>\n",
       "    </tr>\n",
       "    <tr>\n",
       "      <th>paperless_billing</th>\n",
       "      <td>0</td>\n",
       "      <td>0.00</td>\n",
       "      <td>2</td>\n",
       "      <td>7043</td>\n",
       "    </tr>\n",
       "    <tr>\n",
       "      <th>type</th>\n",
       "      <td>0</td>\n",
       "      <td>0.00</td>\n",
       "      <td>3</td>\n",
       "      <td>7043</td>\n",
       "    </tr>\n",
       "    <tr>\n",
       "      <th>end_date</th>\n",
       "      <td>0</td>\n",
       "      <td>0.00</td>\n",
       "      <td>5</td>\n",
       "      <td>7043</td>\n",
       "    </tr>\n",
       "    <tr>\n",
       "      <th>partner</th>\n",
       "      <td>0</td>\n",
       "      <td>0.00</td>\n",
       "      <td>2</td>\n",
       "      <td>7043</td>\n",
       "    </tr>\n",
       "  </tbody>\n",
       "</table>\n",
       "</div>"
      ],
      "text/plain": [
       "                   missing_count  missing_percent  unique_values  total_rows\n",
       "streaming_movies            1526            21.67              2        7043\n",
       "streaming_tv                1526            21.67              2        7043\n",
       "tech_support                1526            21.67              2        7043\n",
       "device_protection           1526            21.67              2        7043\n",
       "online_backup               1526            21.67              2        7043\n",
       "online_security             1526            21.67              2        7043\n",
       "internet_service            1526            21.67              2        7043\n",
       "multiple_lines               682             9.68              2        7043\n",
       "begin_date                     0             0.00             77        7043\n",
       "dependents                     0             0.00              2        7043\n",
       "customer_id                    0             0.00           7043        7043\n",
       "senior_citizen                 0             0.00              2        7043\n",
       "gender                         0             0.00              2        7043\n",
       "total_charges                  0             0.00           6531        7043\n",
       "monthly_charges                0             0.00           1585        7043\n",
       "payment_method                 0             0.00              4        7043\n",
       "paperless_billing              0             0.00              2        7043\n",
       "type                           0             0.00              3        7043\n",
       "end_date                       0             0.00              5        7043\n",
       "partner                        0             0.00              2        7043"
      ]
     },
     "execution_count": 64,
     "metadata": {},
     "output_type": "execute_result"
    }
   ],
   "source": [
    "# Reviewing missing values after merge\n",
    "\n",
    "print(\"Merged DF\")\n",
    "print(\"=========================================================================\")\n",
    "\n",
    "na_sum_merged = pd.DataFrame({\n",
    "    \"missing_count\": df_merged.isna().sum(),\n",
    "    \"missing_percent\": (df_merged.isna().mean() * 100).round(2),\n",
    "    \"unique_values\": df_merged.nunique(),\n",
    "    \"total_rows\": len(df_merged)\n",
    "})\n",
    "\n",
    "# Sorting values by missing value count\n",
    "na_sum_merged = na_sum_merged.sort_values(by=\"missing_count\", ascending=False)\n",
    "\n",
    "na_sum_merged"
   ]
  },
  {
   "cell_type": "markdown",
   "metadata": {},
   "source": [
    "<div style=\"border: 2px solid black; padding: 10px; margin: 10px\">\n",
    "\n",
    "All the missing values in our merged DF have only two possibilities. Since the ID's for these customers were not present in those dataframes we'll fill all the missing values with the equivalent for \"No\", that the customer does not have the feature of that column.\n",
    "\n",
    "</div>"
   ]
  },
  {
   "cell_type": "code",
   "execution_count": 66,
   "metadata": {},
   "outputs": [
    {
     "data": {
      "text/plain": [
       "customer_id          0\n",
       "begin_date           0\n",
       "end_date             0\n",
       "type                 0\n",
       "paperless_billing    0\n",
       "payment_method       0\n",
       "monthly_charges      0\n",
       "total_charges        0\n",
       "gender               0\n",
       "senior_citizen       0\n",
       "partner              0\n",
       "dependents           0\n",
       "internet_service     0\n",
       "online_security      0\n",
       "online_backup        0\n",
       "device_protection    0\n",
       "tech_support         0\n",
       "streaming_tv         0\n",
       "streaming_movies     0\n",
       "multiple_lines       0\n",
       "dtype: int64"
      ]
     },
     "execution_count": 66,
     "metadata": {},
     "output_type": "execute_result"
    }
   ],
   "source": [
    "# Filling all missing values in the df with \"No\"\n",
    "\n",
    "df_merged = df_merged.fillna(\"No\")\n",
    "\n",
    "# Validating no more missing values\n",
    "\n",
    "df_merged.isna().sum()"
   ]
  },
  {
   "cell_type": "markdown",
   "metadata": {},
   "source": [
    " "
   ]
  },
  {
   "cell_type": "markdown",
   "metadata": {},
   "source": [
    " "
   ]
  },
  {
   "cell_type": "markdown",
   "metadata": {},
   "source": [
    "### Data Type Validation"
   ]
  },
  {
   "cell_type": "code",
   "execution_count": 70,
   "metadata": {},
   "outputs": [
    {
     "name": "stdout",
     "output_type": "stream",
     "text": [
      "Merged Data\n",
      "=========================================================================\n",
      "<class 'pandas.core.frame.DataFrame'>\n",
      "RangeIndex: 7043 entries, 0 to 7042\n",
      "Data columns (total 20 columns):\n",
      " #   Column             Non-Null Count  Dtype  \n",
      "---  ------             --------------  -----  \n",
      " 0   customer_id        7043 non-null   object \n",
      " 1   begin_date         7043 non-null   object \n",
      " 2   end_date           7043 non-null   object \n",
      " 3   type               7043 non-null   object \n",
      " 4   paperless_billing  7043 non-null   object \n",
      " 5   payment_method     7043 non-null   object \n",
      " 6   monthly_charges    7043 non-null   float64\n",
      " 7   total_charges      7043 non-null   object \n",
      " 8   gender             7043 non-null   object \n",
      " 9   senior_citizen     7043 non-null   int64  \n",
      " 10  partner            7043 non-null   object \n",
      " 11  dependents         7043 non-null   object \n",
      " 12  internet_service   7043 non-null   object \n",
      " 13  online_security    7043 non-null   object \n",
      " 14  online_backup      7043 non-null   object \n",
      " 15  device_protection  7043 non-null   object \n",
      " 16  tech_support       7043 non-null   object \n",
      " 17  streaming_tv       7043 non-null   object \n",
      " 18  streaming_movies   7043 non-null   object \n",
      " 19  multiple_lines     7043 non-null   object \n",
      "dtypes: float64(1), int64(1), object(18)\n",
      "memory usage: 1.1+ MB\n",
      "\n"
     ]
    },
    {
     "data": {
      "text/html": [
       "<div>\n",
       "<style scoped>\n",
       "    .dataframe tbody tr th:only-of-type {\n",
       "        vertical-align: middle;\n",
       "    }\n",
       "\n",
       "    .dataframe tbody tr th {\n",
       "        vertical-align: top;\n",
       "    }\n",
       "\n",
       "    .dataframe thead th {\n",
       "        text-align: right;\n",
       "    }\n",
       "</style>\n",
       "<table border=\"1\" class=\"dataframe\">\n",
       "  <thead>\n",
       "    <tr style=\"text-align: right;\">\n",
       "      <th></th>\n",
       "      <th>customer_id</th>\n",
       "      <th>begin_date</th>\n",
       "      <th>end_date</th>\n",
       "      <th>type</th>\n",
       "      <th>paperless_billing</th>\n",
       "      <th>payment_method</th>\n",
       "      <th>monthly_charges</th>\n",
       "      <th>total_charges</th>\n",
       "      <th>gender</th>\n",
       "      <th>senior_citizen</th>\n",
       "      <th>partner</th>\n",
       "      <th>dependents</th>\n",
       "      <th>internet_service</th>\n",
       "      <th>online_security</th>\n",
       "      <th>online_backup</th>\n",
       "      <th>device_protection</th>\n",
       "      <th>tech_support</th>\n",
       "      <th>streaming_tv</th>\n",
       "      <th>streaming_movies</th>\n",
       "      <th>multiple_lines</th>\n",
       "    </tr>\n",
       "  </thead>\n",
       "  <tbody>\n",
       "    <tr>\n",
       "      <th>0</th>\n",
       "      <td>0002-ORFBO</td>\n",
       "      <td>2019-05-01</td>\n",
       "      <td>No</td>\n",
       "      <td>One year</td>\n",
       "      <td>Yes</td>\n",
       "      <td>Mailed check</td>\n",
       "      <td>65.60</td>\n",
       "      <td>593.3</td>\n",
       "      <td>Female</td>\n",
       "      <td>0</td>\n",
       "      <td>Yes</td>\n",
       "      <td>Yes</td>\n",
       "      <td>DSL</td>\n",
       "      <td>No</td>\n",
       "      <td>Yes</td>\n",
       "      <td>No</td>\n",
       "      <td>Yes</td>\n",
       "      <td>Yes</td>\n",
       "      <td>No</td>\n",
       "      <td>No</td>\n",
       "    </tr>\n",
       "    <tr>\n",
       "      <th>1</th>\n",
       "      <td>0003-MKNFE</td>\n",
       "      <td>2019-05-01</td>\n",
       "      <td>No</td>\n",
       "      <td>Month-to-month</td>\n",
       "      <td>No</td>\n",
       "      <td>Mailed check</td>\n",
       "      <td>59.90</td>\n",
       "      <td>542.4</td>\n",
       "      <td>Male</td>\n",
       "      <td>0</td>\n",
       "      <td>No</td>\n",
       "      <td>No</td>\n",
       "      <td>DSL</td>\n",
       "      <td>No</td>\n",
       "      <td>No</td>\n",
       "      <td>No</td>\n",
       "      <td>No</td>\n",
       "      <td>No</td>\n",
       "      <td>Yes</td>\n",
       "      <td>Yes</td>\n",
       "    </tr>\n",
       "    <tr>\n",
       "      <th>2</th>\n",
       "      <td>0004-TLHLJ</td>\n",
       "      <td>2019-09-01</td>\n",
       "      <td>2020-01-01 00:00:00</td>\n",
       "      <td>Month-to-month</td>\n",
       "      <td>Yes</td>\n",
       "      <td>Electronic check</td>\n",
       "      <td>73.90</td>\n",
       "      <td>280.85</td>\n",
       "      <td>Male</td>\n",
       "      <td>0</td>\n",
       "      <td>No</td>\n",
       "      <td>No</td>\n",
       "      <td>Fiber optic</td>\n",
       "      <td>No</td>\n",
       "      <td>No</td>\n",
       "      <td>Yes</td>\n",
       "      <td>No</td>\n",
       "      <td>No</td>\n",
       "      <td>No</td>\n",
       "      <td>No</td>\n",
       "    </tr>\n",
       "    <tr>\n",
       "      <th>3</th>\n",
       "      <td>0011-IGKFF</td>\n",
       "      <td>2018-12-01</td>\n",
       "      <td>2020-01-01 00:00:00</td>\n",
       "      <td>Month-to-month</td>\n",
       "      <td>Yes</td>\n",
       "      <td>Electronic check</td>\n",
       "      <td>98.00</td>\n",
       "      <td>1237.85</td>\n",
       "      <td>Male</td>\n",
       "      <td>1</td>\n",
       "      <td>Yes</td>\n",
       "      <td>No</td>\n",
       "      <td>Fiber optic</td>\n",
       "      <td>No</td>\n",
       "      <td>Yes</td>\n",
       "      <td>Yes</td>\n",
       "      <td>No</td>\n",
       "      <td>Yes</td>\n",
       "      <td>Yes</td>\n",
       "      <td>No</td>\n",
       "    </tr>\n",
       "    <tr>\n",
       "      <th>4</th>\n",
       "      <td>0013-EXCHZ</td>\n",
       "      <td>2019-09-01</td>\n",
       "      <td>2019-12-01 00:00:00</td>\n",
       "      <td>Month-to-month</td>\n",
       "      <td>Yes</td>\n",
       "      <td>Mailed check</td>\n",
       "      <td>83.90</td>\n",
       "      <td>267.4</td>\n",
       "      <td>Female</td>\n",
       "      <td>1</td>\n",
       "      <td>Yes</td>\n",
       "      <td>No</td>\n",
       "      <td>Fiber optic</td>\n",
       "      <td>No</td>\n",
       "      <td>No</td>\n",
       "      <td>No</td>\n",
       "      <td>Yes</td>\n",
       "      <td>Yes</td>\n",
       "      <td>No</td>\n",
       "      <td>No</td>\n",
       "    </tr>\n",
       "    <tr>\n",
       "      <th>...</th>\n",
       "      <td>...</td>\n",
       "      <td>...</td>\n",
       "      <td>...</td>\n",
       "      <td>...</td>\n",
       "      <td>...</td>\n",
       "      <td>...</td>\n",
       "      <td>...</td>\n",
       "      <td>...</td>\n",
       "      <td>...</td>\n",
       "      <td>...</td>\n",
       "      <td>...</td>\n",
       "      <td>...</td>\n",
       "      <td>...</td>\n",
       "      <td>...</td>\n",
       "      <td>...</td>\n",
       "      <td>...</td>\n",
       "      <td>...</td>\n",
       "      <td>...</td>\n",
       "      <td>...</td>\n",
       "      <td>...</td>\n",
       "    </tr>\n",
       "    <tr>\n",
       "      <th>7038</th>\n",
       "      <td>9987-LUTYD</td>\n",
       "      <td>2019-01-01</td>\n",
       "      <td>No</td>\n",
       "      <td>One year</td>\n",
       "      <td>No</td>\n",
       "      <td>Mailed check</td>\n",
       "      <td>55.15</td>\n",
       "      <td>742.9</td>\n",
       "      <td>Female</td>\n",
       "      <td>0</td>\n",
       "      <td>No</td>\n",
       "      <td>No</td>\n",
       "      <td>DSL</td>\n",
       "      <td>Yes</td>\n",
       "      <td>No</td>\n",
       "      <td>No</td>\n",
       "      <td>Yes</td>\n",
       "      <td>No</td>\n",
       "      <td>No</td>\n",
       "      <td>No</td>\n",
       "    </tr>\n",
       "    <tr>\n",
       "      <th>7039</th>\n",
       "      <td>9992-RRAMN</td>\n",
       "      <td>2018-02-01</td>\n",
       "      <td>2019-12-01 00:00:00</td>\n",
       "      <td>Month-to-month</td>\n",
       "      <td>Yes</td>\n",
       "      <td>Electronic check</td>\n",
       "      <td>85.10</td>\n",
       "      <td>1873.7</td>\n",
       "      <td>Male</td>\n",
       "      <td>0</td>\n",
       "      <td>Yes</td>\n",
       "      <td>No</td>\n",
       "      <td>Fiber optic</td>\n",
       "      <td>No</td>\n",
       "      <td>No</td>\n",
       "      <td>No</td>\n",
       "      <td>No</td>\n",
       "      <td>No</td>\n",
       "      <td>Yes</td>\n",
       "      <td>Yes</td>\n",
       "    </tr>\n",
       "    <tr>\n",
       "      <th>7040</th>\n",
       "      <td>9992-UJOEL</td>\n",
       "      <td>2019-12-01</td>\n",
       "      <td>No</td>\n",
       "      <td>Month-to-month</td>\n",
       "      <td>Yes</td>\n",
       "      <td>Mailed check</td>\n",
       "      <td>50.30</td>\n",
       "      <td>92.75</td>\n",
       "      <td>Male</td>\n",
       "      <td>0</td>\n",
       "      <td>No</td>\n",
       "      <td>No</td>\n",
       "      <td>DSL</td>\n",
       "      <td>No</td>\n",
       "      <td>Yes</td>\n",
       "      <td>No</td>\n",
       "      <td>No</td>\n",
       "      <td>No</td>\n",
       "      <td>No</td>\n",
       "      <td>No</td>\n",
       "    </tr>\n",
       "    <tr>\n",
       "      <th>7041</th>\n",
       "      <td>9993-LHIEB</td>\n",
       "      <td>2014-07-01</td>\n",
       "      <td>No</td>\n",
       "      <td>Two year</td>\n",
       "      <td>No</td>\n",
       "      <td>Mailed check</td>\n",
       "      <td>67.85</td>\n",
       "      <td>4627.65</td>\n",
       "      <td>Male</td>\n",
       "      <td>0</td>\n",
       "      <td>Yes</td>\n",
       "      <td>Yes</td>\n",
       "      <td>DSL</td>\n",
       "      <td>Yes</td>\n",
       "      <td>No</td>\n",
       "      <td>Yes</td>\n",
       "      <td>Yes</td>\n",
       "      <td>No</td>\n",
       "      <td>Yes</td>\n",
       "      <td>No</td>\n",
       "    </tr>\n",
       "    <tr>\n",
       "      <th>7042</th>\n",
       "      <td>9995-HOTOH</td>\n",
       "      <td>2014-11-01</td>\n",
       "      <td>No</td>\n",
       "      <td>Two year</td>\n",
       "      <td>No</td>\n",
       "      <td>Electronic check</td>\n",
       "      <td>59.00</td>\n",
       "      <td>3707.6</td>\n",
       "      <td>Male</td>\n",
       "      <td>0</td>\n",
       "      <td>Yes</td>\n",
       "      <td>Yes</td>\n",
       "      <td>DSL</td>\n",
       "      <td>Yes</td>\n",
       "      <td>Yes</td>\n",
       "      <td>Yes</td>\n",
       "      <td>No</td>\n",
       "      <td>Yes</td>\n",
       "      <td>Yes</td>\n",
       "      <td>No</td>\n",
       "    </tr>\n",
       "  </tbody>\n",
       "</table>\n",
       "<p>7043 rows × 20 columns</p>\n",
       "</div>"
      ],
      "text/plain": [
       "     customer_id  begin_date             end_date            type  \\\n",
       "0     0002-ORFBO  2019-05-01                   No        One year   \n",
       "1     0003-MKNFE  2019-05-01                   No  Month-to-month   \n",
       "2     0004-TLHLJ  2019-09-01  2020-01-01 00:00:00  Month-to-month   \n",
       "3     0011-IGKFF  2018-12-01  2020-01-01 00:00:00  Month-to-month   \n",
       "4     0013-EXCHZ  2019-09-01  2019-12-01 00:00:00  Month-to-month   \n",
       "...          ...         ...                  ...             ...   \n",
       "7038  9987-LUTYD  2019-01-01                   No        One year   \n",
       "7039  9992-RRAMN  2018-02-01  2019-12-01 00:00:00  Month-to-month   \n",
       "7040  9992-UJOEL  2019-12-01                   No  Month-to-month   \n",
       "7041  9993-LHIEB  2014-07-01                   No        Two year   \n",
       "7042  9995-HOTOH  2014-11-01                   No        Two year   \n",
       "\n",
       "     paperless_billing    payment_method  monthly_charges total_charges  \\\n",
       "0                  Yes      Mailed check            65.60         593.3   \n",
       "1                   No      Mailed check            59.90         542.4   \n",
       "2                  Yes  Electronic check            73.90        280.85   \n",
       "3                  Yes  Electronic check            98.00       1237.85   \n",
       "4                  Yes      Mailed check            83.90         267.4   \n",
       "...                ...               ...              ...           ...   \n",
       "7038                No      Mailed check            55.15         742.9   \n",
       "7039               Yes  Electronic check            85.10        1873.7   \n",
       "7040               Yes      Mailed check            50.30         92.75   \n",
       "7041                No      Mailed check            67.85       4627.65   \n",
       "7042                No  Electronic check            59.00        3707.6   \n",
       "\n",
       "      gender  senior_citizen partner dependents internet_service  \\\n",
       "0     Female               0     Yes        Yes              DSL   \n",
       "1       Male               0      No         No              DSL   \n",
       "2       Male               0      No         No      Fiber optic   \n",
       "3       Male               1     Yes         No      Fiber optic   \n",
       "4     Female               1     Yes         No      Fiber optic   \n",
       "...      ...             ...     ...        ...              ...   \n",
       "7038  Female               0      No         No              DSL   \n",
       "7039    Male               0     Yes         No      Fiber optic   \n",
       "7040    Male               0      No         No              DSL   \n",
       "7041    Male               0     Yes        Yes              DSL   \n",
       "7042    Male               0     Yes        Yes              DSL   \n",
       "\n",
       "     online_security online_backup device_protection tech_support  \\\n",
       "0                 No           Yes                No          Yes   \n",
       "1                 No            No                No           No   \n",
       "2                 No            No               Yes           No   \n",
       "3                 No           Yes               Yes           No   \n",
       "4                 No            No                No          Yes   \n",
       "...              ...           ...               ...          ...   \n",
       "7038             Yes            No                No          Yes   \n",
       "7039              No            No                No           No   \n",
       "7040              No           Yes                No           No   \n",
       "7041             Yes            No               Yes          Yes   \n",
       "7042             Yes           Yes               Yes           No   \n",
       "\n",
       "     streaming_tv streaming_movies multiple_lines  \n",
       "0             Yes               No             No  \n",
       "1              No              Yes            Yes  \n",
       "2              No               No             No  \n",
       "3             Yes              Yes             No  \n",
       "4             Yes               No             No  \n",
       "...           ...              ...            ...  \n",
       "7038           No               No             No  \n",
       "7039           No              Yes            Yes  \n",
       "7040           No               No             No  \n",
       "7041           No              Yes             No  \n",
       "7042          Yes              Yes             No  \n",
       "\n",
       "[7043 rows x 20 columns]"
      ]
     },
     "execution_count": 70,
     "metadata": {},
     "output_type": "execute_result"
    }
   ],
   "source": [
    "# Merged Data\n",
    "\n",
    "print(\"Merged Data\")\n",
    "print(\"=========================================================================\")\n",
    "\n",
    "df_merged.info()\n",
    "print()\n",
    "\n",
    "df_merged"
   ]
  },
  {
   "cell_type": "markdown",
   "metadata": {},
   "source": [
    "<div style=\"border: 2px solid black; padding: 10px; margin: 10px\">\n",
    "\n",
    "Merged Data `info()` and data displayed to validate content and datatype match. After review, we're seeing multiple changes to be made to our data before we can train our model:\n",
    "<br><br>\n",
    "\n",
    "**Datetime Data**\n",
    "<ol>\n",
    "    <li>First, we need to convert the 'begin_date' and 'end_date' columns to datetime</li>\n",
    "    <li>We'll then create a new column where we will calculate total contract duration</li>\n",
    "    <li>Next, we'll parse out the month, day and year from each 'begin_date' to help with informing seasonality</li>\n",
    "    <li>Lastly, we'll create a column with <b>days since</b> the contract was ended</li>\n",
    "</ol>\n",
    "\n",
    "**Churn Data**\n",
    "<ul>\n",
    "    <li>We'll create this column with numerical variables for better training</li>\n",
    "</ul>\n",
    "\n",
    "**Total Charges**\n",
    "<ul>\n",
    "    <li>Data type for this column is in \"object\" type, we will convert this to 'float64'</li>\n",
    "</ul>\n",
    "\n",
    "**Encoding**\n",
    "<ul>\n",
    "    <li>We'll then have to encode all the numerical and categorical features before training<br>\n",
    "    (This will be done after EDA section below.)</li>\n",
    "</ul>\n",
    "\n",
    "</div>"
   ]
  },
  {
   "cell_type": "markdown",
   "metadata": {},
   "source": [
    "  "
   ]
  },
  {
   "cell_type": "markdown",
   "metadata": {},
   "source": [
    "#### Making Adjustments"
   ]
  },
  {
   "cell_type": "code",
   "execution_count": 74,
   "metadata": {},
   "outputs": [
    {
     "name": "stderr",
     "output_type": "stream",
     "text": [
      "/var/folders/cp/t29hkt5j2055mnz846g13b000000gn/T/ipykernel_86318/2403937667.py:4: UserWarning: Could not infer format, so each element will be parsed individually, falling back to `dateutil`. To ensure parsing is consistent and as-expected, please specify a format.\n",
      "  df_merged['end_date'] = pd.to_datetime(df_merged['end_date'], errors='coerce')\n"
     ]
    }
   ],
   "source": [
    "## Datetime Changes ##\n",
    "# Converting 'begin_date' and 'end_date' to datetime\n",
    "df_merged['begin_date'] = pd.to_datetime(df_merged['begin_date'])\n",
    "df_merged['end_date'] = pd.to_datetime(df_merged['end_date'], errors='coerce')\n",
    "\n",
    "# Creating contract duration column\n",
    "today = pd.to_datetime(\"today\")\n",
    "df_merged['contract_duration_days'] = np.where(\n",
    "    df_merged['end_date'].notna(),\n",
    "    (df_merged['end_date'] - df_merged['begin_date']).dt.days,\n",
    "    (today - df_merged['begin_date']).dt.days\n",
    ")\n",
    "\n",
    "# Parsing 'begin' dates\n",
    "df_merged['begin_year'] = df_merged['begin_date'].dt.year\n",
    "df_merged['begin_month'] = df_merged['begin_date'].dt.month\n",
    "df_merged['begin_dow'] = df_merged['begin_date'].dt.dayofweek\n",
    "\n",
    "# Creating 'days since' data\n",
    "df_merged['time_since_end'] = (today - df_merged['end_date']).dt.days\n",
    "\n",
    "# Assigning '0' if still active\n",
    "df_merged['time_since_end'] = df_merged['time_since_end'].fillna(0)\n",
    "\n",
    "\n",
    "## Churn Column ##\n",
    "# Creating churn column with numerical values\n",
    "df_merged['churn'] = df_merged['end_date'].notna().astype(int)\n",
    "\n",
    "\n",
    "## 'total_charges' Column ##\n",
    "# Changing data type for 'total_charges' column\n",
    "df_merged['total_charges'] = pd.to_numeric(df_merged['total_charges'], errors='coerce')"
   ]
  },
  {
   "cell_type": "code",
   "execution_count": 75,
   "metadata": {},
   "outputs": [
    {
     "name": "stdout",
     "output_type": "stream",
     "text": [
      "<class 'pandas.core.frame.DataFrame'>\n",
      "RangeIndex: 7043 entries, 0 to 7042\n",
      "Data columns (total 26 columns):\n",
      " #   Column                  Non-Null Count  Dtype         \n",
      "---  ------                  --------------  -----         \n",
      " 0   customer_id             7043 non-null   object        \n",
      " 1   begin_date              7043 non-null   datetime64[ns]\n",
      " 2   end_date                1869 non-null   datetime64[ns]\n",
      " 3   type                    7043 non-null   object        \n",
      " 4   paperless_billing       7043 non-null   object        \n",
      " 5   payment_method          7043 non-null   object        \n",
      " 6   monthly_charges         7043 non-null   float64       \n",
      " 7   total_charges           7032 non-null   float64       \n",
      " 8   gender                  7043 non-null   object        \n",
      " 9   senior_citizen          7043 non-null   int64         \n",
      " 10  partner                 7043 non-null   object        \n",
      " 11  dependents              7043 non-null   object        \n",
      " 12  internet_service        7043 non-null   object        \n",
      " 13  online_security         7043 non-null   object        \n",
      " 14  online_backup           7043 non-null   object        \n",
      " 15  device_protection       7043 non-null   object        \n",
      " 16  tech_support            7043 non-null   object        \n",
      " 17  streaming_tv            7043 non-null   object        \n",
      " 18  streaming_movies        7043 non-null   object        \n",
      " 19  multiple_lines          7043 non-null   object        \n",
      " 20  contract_duration_days  7043 non-null   float64       \n",
      " 21  begin_year              7043 non-null   int32         \n",
      " 22  begin_month             7043 non-null   int32         \n",
      " 23  begin_dow               7043 non-null   int32         \n",
      " 24  time_since_end          7043 non-null   float64       \n",
      " 25  churn                   7043 non-null   int64         \n",
      "dtypes: datetime64[ns](2), float64(4), int32(3), int64(2), object(15)\n",
      "memory usage: 1.3+ MB\n",
      "\n"
     ]
    },
    {
     "data": {
      "text/plain": [
       "customer_id                  0\n",
       "begin_date                   0\n",
       "end_date                  5174\n",
       "type                         0\n",
       "paperless_billing            0\n",
       "payment_method               0\n",
       "monthly_charges              0\n",
       "total_charges               11\n",
       "gender                       0\n",
       "senior_citizen               0\n",
       "partner                      0\n",
       "dependents                   0\n",
       "internet_service             0\n",
       "online_security              0\n",
       "online_backup                0\n",
       "device_protection            0\n",
       "tech_support                 0\n",
       "streaming_tv                 0\n",
       "streaming_movies             0\n",
       "multiple_lines               0\n",
       "contract_duration_days       0\n",
       "begin_year                   0\n",
       "begin_month                  0\n",
       "begin_dow                    0\n",
       "time_since_end               0\n",
       "churn                        0\n",
       "dtype: int64"
      ]
     },
     "execution_count": 75,
     "metadata": {},
     "output_type": "execute_result"
    }
   ],
   "source": [
    "# Validating changes were made correctly\n",
    "\n",
    "df_merged.info()\n",
    "print()\n",
    "df_merged.isna().sum()"
   ]
  },
  {
   "cell_type": "code",
   "execution_count": 76,
   "metadata": {},
   "outputs": [
    {
     "data": {
      "text/html": [
       "<div>\n",
       "<style scoped>\n",
       "    .dataframe tbody tr th:only-of-type {\n",
       "        vertical-align: middle;\n",
       "    }\n",
       "\n",
       "    .dataframe tbody tr th {\n",
       "        vertical-align: top;\n",
       "    }\n",
       "\n",
       "    .dataframe thead th {\n",
       "        text-align: right;\n",
       "    }\n",
       "</style>\n",
       "<table border=\"1\" class=\"dataframe\">\n",
       "  <thead>\n",
       "    <tr style=\"text-align: right;\">\n",
       "      <th></th>\n",
       "      <th>customer_id</th>\n",
       "      <th>monthly_charges</th>\n",
       "      <th>total_charges</th>\n",
       "    </tr>\n",
       "  </thead>\n",
       "  <tbody>\n",
       "    <tr>\n",
       "      <th>945</th>\n",
       "      <td>1371-DWPAZ</td>\n",
       "      <td>56.05</td>\n",
       "      <td>NaN</td>\n",
       "    </tr>\n",
       "    <tr>\n",
       "      <th>1731</th>\n",
       "      <td>2520-SGTTA</td>\n",
       "      <td>20.00</td>\n",
       "      <td>NaN</td>\n",
       "    </tr>\n",
       "    <tr>\n",
       "      <th>1906</th>\n",
       "      <td>2775-SEFEE</td>\n",
       "      <td>61.90</td>\n",
       "      <td>NaN</td>\n",
       "    </tr>\n",
       "    <tr>\n",
       "      <th>2025</th>\n",
       "      <td>2923-ARZLG</td>\n",
       "      <td>19.70</td>\n",
       "      <td>NaN</td>\n",
       "    </tr>\n",
       "    <tr>\n",
       "      <th>2176</th>\n",
       "      <td>3115-CZMZD</td>\n",
       "      <td>20.25</td>\n",
       "      <td>NaN</td>\n",
       "    </tr>\n",
       "    <tr>\n",
       "      <th>2250</th>\n",
       "      <td>3213-VVOLG</td>\n",
       "      <td>25.35</td>\n",
       "      <td>NaN</td>\n",
       "    </tr>\n",
       "    <tr>\n",
       "      <th>2855</th>\n",
       "      <td>4075-WKNIU</td>\n",
       "      <td>73.35</td>\n",
       "      <td>NaN</td>\n",
       "    </tr>\n",
       "    <tr>\n",
       "      <th>3052</th>\n",
       "      <td>4367-NUYAO</td>\n",
       "      <td>25.75</td>\n",
       "      <td>NaN</td>\n",
       "    </tr>\n",
       "    <tr>\n",
       "      <th>3118</th>\n",
       "      <td>4472-LVYGI</td>\n",
       "      <td>52.55</td>\n",
       "      <td>NaN</td>\n",
       "    </tr>\n",
       "    <tr>\n",
       "      <th>4054</th>\n",
       "      <td>5709-LVOEQ</td>\n",
       "      <td>80.85</td>\n",
       "      <td>NaN</td>\n",
       "    </tr>\n",
       "    <tr>\n",
       "      <th>5433</th>\n",
       "      <td>7644-OMVMY</td>\n",
       "      <td>19.85</td>\n",
       "      <td>NaN</td>\n",
       "    </tr>\n",
       "  </tbody>\n",
       "</table>\n",
       "</div>"
      ],
      "text/plain": [
       "     customer_id  monthly_charges  total_charges\n",
       "945   1371-DWPAZ            56.05            NaN\n",
       "1731  2520-SGTTA            20.00            NaN\n",
       "1906  2775-SEFEE            61.90            NaN\n",
       "2025  2923-ARZLG            19.70            NaN\n",
       "2176  3115-CZMZD            20.25            NaN\n",
       "2250  3213-VVOLG            25.35            NaN\n",
       "2855  4075-WKNIU            73.35            NaN\n",
       "3052  4367-NUYAO            25.75            NaN\n",
       "3118  4472-LVYGI            52.55            NaN\n",
       "4054  5709-LVOEQ            80.85            NaN\n",
       "5433  7644-OMVMY            19.85            NaN"
      ]
     },
     "execution_count": 76,
     "metadata": {},
     "output_type": "execute_result"
    }
   ],
   "source": [
    "# Found some NA values, correcting those\n",
    "# Checking the specific rows in isolation\n",
    "\n",
    "df_merged[df_merged['total_charges'].isna()][['customer_id', 'monthly_charges', 'total_charges']]"
   ]
  },
  {
   "cell_type": "code",
   "execution_count": 77,
   "metadata": {},
   "outputs": [],
   "source": [
    "## Null values in 'total_charges' wouldn't be 0 because they have a record of monthly charges\n",
    "# We will fill these null values with the median value to converve them within our data\n",
    "\n",
    "df_merged['total_charges'] = df_merged['total_charges'].fillna(df_merged['total_charges'].median())"
   ]
  },
  {
   "cell_type": "code",
   "execution_count": 78,
   "metadata": {},
   "outputs": [
    {
     "data": {
      "text/plain": [
       "customer_id                  0\n",
       "begin_date                   0\n",
       "end_date                  5174\n",
       "type                         0\n",
       "paperless_billing            0\n",
       "payment_method               0\n",
       "monthly_charges              0\n",
       "total_charges                0\n",
       "gender                       0\n",
       "senior_citizen               0\n",
       "partner                      0\n",
       "dependents                   0\n",
       "internet_service             0\n",
       "online_security              0\n",
       "online_backup                0\n",
       "device_protection            0\n",
       "tech_support                 0\n",
       "streaming_tv                 0\n",
       "streaming_movies             0\n",
       "multiple_lines               0\n",
       "contract_duration_days       0\n",
       "begin_year                   0\n",
       "begin_month                  0\n",
       "begin_dow                    0\n",
       "time_since_end               0\n",
       "churn                        0\n",
       "dtype: int64"
      ]
     },
     "execution_count": 78,
     "metadata": {},
     "output_type": "execute_result"
    }
   ],
   "source": [
    "# Validating no null values once more\n",
    "\n",
    "df_merged.isna().sum()"
   ]
  },
  {
   "cell_type": "markdown",
   "metadata": {},
   "source": [
    "<div style=\"border: 2px solid black; padding: 10px; margin: 10px\">\n",
    "\n",
    "We have all the necessary features and data that we need for proper model training moving forward. All the data is also formatted correctly and we effectively located and addressed any null or missing values in our data.\n",
    "<br>\n",
    "\n",
    "There are some columns that we will not include in the model training because they are not relevant for target prediction. We will select those features after the **EDA** section.\n",
    "<br>\n",
    "\n",
    "Let's now move forward to some **EDA** to give us a better understanding of the data.\n",
    "\n",
    "</div>"
   ]
  },
  {
   "cell_type": "markdown",
   "metadata": {},
   "source": [
    " "
   ]
  },
  {
   "cell_type": "markdown",
   "metadata": {},
   "source": [
    " "
   ]
  },
  {
   "cell_type": "markdown",
   "metadata": {},
   "source": [
    "## EDA"
   ]
  },
  {
   "cell_type": "markdown",
   "metadata": {},
   "source": [
    "### Male/Female Distribution"
   ]
  },
  {
   "cell_type": "code",
   "execution_count": 84,
   "metadata": {},
   "outputs": [
    {
     "data": {
      "text/plain": [
       "Text(0.5, 1.0, 'Churn Distribution by Gender')"
      ]
     },
     "execution_count": 84,
     "metadata": {},
     "output_type": "execute_result"
    },
    {
     "data": {
      "image/png": "[encoded data removed]",
      "text/plain": [
       "<Figure size 640x480 with 1 Axes>"
      ]
     },
     "metadata": {},
     "output_type": "display_data"
    }
   ],
   "source": [
    "sns.countplot(data=df_merged, x='gender', hue='churn', palette='crest')\n",
    "sns.set_context(\"paper\", font_scale=1.4)\n",
    "plt.title('Churn Distribution by Gender')"
   ]
  },
  {
   "cell_type": "markdown",
   "metadata": {},
   "source": [
    "<div style=\"border: 2px solid black; padding: 10px; margin: 10px\">\n",
    "\n",
    "The intention here was to find if there was a skew towards a specific gender when it came to churn rate. It appears that there is no skew to either gender in terms of churn rate based on the distribution above.\n",
    "\n",
    "</div>"
   ]
  },
  {
   "cell_type": "markdown",
   "metadata": {},
   "source": [
    " "
   ]
  },
  {
   "cell_type": "markdown",
   "metadata": {},
   "source": [
    "  "
   ]
  },
  {
   "cell_type": "markdown",
   "metadata": {},
   "source": [
    "### Total Charges VS Contract Type"
   ]
  },
  {
   "cell_type": "code",
   "execution_count": 89,
   "metadata": {},
   "outputs": [
    {
     "data": {
      "text/plain": [
       "Text(0.5, 1.0, 'Total Charges by Contract Type and Churn')"
      ]
     },
     "execution_count": 89,
     "metadata": {},
     "output_type": "execute_result"
    },
    {
     "data": {
      "image/png": "[encoded data removed]",
      "text/plain": [
       "<Figure size 640x480 with 1 Axes>"
      ]
     },
     "metadata": {},
     "output_type": "display_data"
    }
   ],
   "source": [
    "sns.boxplot(data=df_merged, x='type', y='total_charges', hue='churn', palette='crest')\n",
    "sns.set_context(\"paper\", font_scale=1.4)\n",
    "plt.title('Total Charges by Contract Type and Churn')"
   ]
  },
  {
   "cell_type": "markdown",
   "metadata": {},
   "source": [
    "<div style=\"border: 2px solid black; padding: 10px; margin: 10px\">\n",
    "\n",
    "For the <b>1 Year</b> and <b>2 Year</b> contracts, the churn rate increases immensely implying that the longer the contract, the higher the total charges, lead customers to cancelling their memberships.\n",
    "\n",
    "</div>"
   ]
  },
  {
   "cell_type": "markdown",
   "metadata": {},
   "source": [
    " "
   ]
  },
  {
   "cell_type": "markdown",
   "metadata": {},
   "source": [
    "  "
   ]
  },
  {
   "cell_type": "markdown",
   "metadata": {},
   "source": [
    "### Payment Method VS Churn"
   ]
  },
  {
   "cell_type": "code",
   "execution_count": 94,
   "metadata": {},
   "outputs": [
    {
     "data": {
      "text/plain": [
       "Text(0.5, 1.0, 'Churn by Payment Method')"
      ]
     },
     "execution_count": 94,
     "metadata": {},
     "output_type": "execute_result"
    },
    {
     "data": {
      "image/png": "[encoded data removed]",
      "text/plain": [
       "<Figure size 640x480 with 1 Axes>"
      ]
     },
     "metadata": {},
     "output_type": "display_data"
    }
   ],
   "source": [
    "sns.countplot(data=df_merged, x='payment_method', hue='churn', palette='crest')\n",
    "sns.set_context(\"paper\", font_scale=1.4)\n",
    "plt.xticks(rotation=45)\n",
    "plt.title('Churn by Payment Method')"
   ]
  },
  {
   "cell_type": "markdown",
   "metadata": {},
   "source": [
    "<div style=\"border: 2px solid black; padding: 10px; margin: 10px\">\n",
    "\n",
    "Electronic Checks yield the greatest churn rate compared to the other payment methods. This could be because of additioinal service charges for submitting electronic checks, or some other kind of inconvenience. Automatic payments seems to work the best.\n",
    "\n",
    "</div>"
   ]
  },
  {
   "cell_type": "markdown",
   "metadata": {},
   "source": [
    " "
   ]
  },
  {
   "cell_type": "markdown",
   "metadata": {},
   "source": [
    "  "
   ]
  },
  {
   "cell_type": "markdown",
   "metadata": {},
   "source": [
    "### Contract Lifecycle"
   ]
  },
  {
   "cell_type": "markdown",
   "metadata": {},
   "source": [
    "#### Contract Start Month"
   ]
  },
  {
   "cell_type": "code",
   "execution_count": 100,
   "metadata": {},
   "outputs": [
    {
     "data": {
      "text/plain": [
       "Text(0.5, 1.0, 'Churn by Contract Start Month')"
      ]
     },
     "execution_count": 100,
     "metadata": {},
     "output_type": "execute_result"
    },
    {
     "data": {
      "image/png": "[encoded data removed]",
      "text/plain": [
       "<Figure size 640x480 with 1 Axes>"
      ]
     },
     "metadata": {},
     "output_type": "display_data"
    }
   ],
   "source": [
    "sns.countplot(data=df_merged, x='begin_month', hue='churn', palette='flare')\n",
    "sns.set_context(\"paper\", font_scale=1.4)\n",
    "plt.title('Churn by Contract Start Month')"
   ]
  },
  {
   "cell_type": "markdown",
   "metadata": {},
   "source": [
    "<div style=\"border: 2px solid black; padding: 10px; margin: 10px\">\n",
    "\n",
    "When we look at Contract Start Month, we see that customers who started their subscription with the company between the months of <b>January</b> and <b>August</b> are less likely to cancel their membership than if they started their subscription in the months of <b>September</b> through <b>December</b>. This could be related to certain marketing strategies being executed during those times and then later, once the promotional periods end, the customers don't like the trade off they get.\n",
    "\n",
    "</div>"
   ]
  },
  {
   "cell_type": "markdown",
   "metadata": {},
   "source": [
    " "
   ]
  },
  {
   "cell_type": "markdown",
   "metadata": {},
   "source": [
    "  "
   ]
  },
  {
   "cell_type": "markdown",
   "metadata": {},
   "source": [
    "#### Contract Duration Distribution"
   ]
  },
  {
   "cell_type": "code",
   "execution_count": 105,
   "metadata": {},
   "outputs": [
    {
     "data": {
      "text/plain": [
       "Text(0.5, 1.0, 'Distribution of Contract Duraction by Churn')"
      ]
     },
     "execution_count": 105,
     "metadata": {},
     "output_type": "execute_result"
    },
    {
     "data": {
      "image/png": "[encoded data removed]",
      "text/plain": [
       "<Figure size 640x480 with 1 Axes>"
      ]
     },
     "metadata": {},
     "output_type": "display_data"
    }
   ],
   "source": [
    "sns.histplot(data=df_merged, x='contract_duration_days', hue='churn', bins=30, kde=True, palette='flare')\n",
    "sns.set_context(\"paper\", font_scale=1.4)\n",
    "plt.title('Distribution of Contract Duraction by Churn')"
   ]
  },
  {
   "cell_type": "markdown",
   "metadata": {},
   "source": [
    "<div style=\"border: 2px solid black; padding: 10px; margin: 10px\">\n",
    "\n",
    "As we look at contract duration in relation to churn rate, we see that the longer customers stay with the company the less likely they are to terminate their membership. More focus should be directed towards what, in those first few years, keeps customers or scares them away.\n",
    "\n",
    "</div>"
   ]
  },
  {
   "cell_type": "markdown",
   "metadata": {},
   "source": [
    " "
   ]
  },
  {
   "cell_type": "markdown",
   "metadata": {},
   "source": [
    "  "
   ]
  },
  {
   "cell_type": "markdown",
   "metadata": {},
   "source": [
    "#### Start-Date Trends (Churn Timing)"
   ]
  },
  {
   "cell_type": "code",
   "execution_count": 110,
   "metadata": {},
   "outputs": [
    {
     "name": "stderr",
     "output_type": "stream",
     "text": [
      "/var/folders/cp/t29hkt5j2055mnz846g13b000000gn/T/ipykernel_86318/3243784161.py:2: FutureWarning: \n",
      "\n",
      "Passing `palette` without assigning `hue` is deprecated and will be removed in v0.14.0. Assign the `x` variable to `hue` and set `legend=False` for the same effect.\n",
      "\n",
      "  sns.countplot(data=df_merged[df_merged['churn']==1], x='end_month', palette='flare')\n"
     ]
    },
    {
     "data": {
      "text/plain": [
       "Text(0.5, 1.0, 'Churned Customer End Dates by Month')"
      ]
     },
     "execution_count": 110,
     "metadata": {},
     "output_type": "execute_result"
    },
    {
     "data": {
      "image/png": "[encoded data removed]",
      "text/plain": [
       "<Figure size 640x480 with 1 Axes>"
      ]
     },
     "metadata": {},
     "output_type": "display_data"
    }
   ],
   "source": [
    "df_merged['end_month'] = df_merged['end_date'].dt.month\n",
    "sns.countplot(data=df_merged[df_merged['churn']==1], x='end_month', palette='flare')\n",
    "sns.set_context(\"paper\", font_scale=1.4)\n",
    "plt.title(\"Churned Customer End Dates by Month\")"
   ]
  },
  {
   "cell_type": "markdown",
   "metadata": {},
   "source": [
    "<div style=\"border: 2px solid black; padding: 10px; margin: 10px\">\n",
    "\n",
    "From our End Dates by Month visual, we see that customers only really cancel their memberships within a 4 month timespan: <b>October</b> to <b>January</b>. Promotions that run about a year long would be the culprits in this scenario where people would cancel their memberships right after the promotional period ends.\n",
    "\n",
    "</div>"
   ]
  },
  {
   "cell_type": "markdown",
   "metadata": {},
   "source": [
    " "
   ]
  },
  {
   "cell_type": "markdown",
   "metadata": {},
   "source": [
    "  "
   ]
  },
  {
   "cell_type": "markdown",
   "metadata": {},
   "source": [
    "### Service Features & Usage Patterns"
   ]
  },
  {
   "cell_type": "markdown",
   "metadata": {},
   "source": [
    "#### Internet Service Type"
   ]
  },
  {
   "cell_type": "code",
   "execution_count": 116,
   "metadata": {},
   "outputs": [
    {
     "data": {
      "text/plain": [
       "Text(0.5, 1.0, 'Churn by Internet Service Type')"
      ]
     },
     "execution_count": 116,
     "metadata": {},
     "output_type": "execute_result"
    },
    {
     "data": {
      "image/png": "[encoded data removed]",
      "text/plain": [
       "<Figure size 640x480 with 1 Axes>"
      ]
     },
     "metadata": {},
     "output_type": "display_data"
    }
   ],
   "source": [
    "sns.countplot(data=df_merged, x='internet_service', hue='churn', palette='mako')\n",
    "sns.set_context(\"paper\", font_scale=1.4)\n",
    "plt.title(\"Churn by Internet Service Type\")"
   ]
  },
  {
   "cell_type": "markdown",
   "metadata": {},
   "source": [
    "<div style=\"border: 2px solid black; padding: 10px; margin: 10px\">\n",
    "\n",
    "We'd have to understand more closely the details pertaining to this factor in our analysis, but it seems that those customers with <b>Fiber Optic</b> internet service are the ones cancelling their memberships the most. But, given that the majority of the customers, in fact, do have the fiber optic service, the implications of this graph could be less influential in future business decisions.\n",
    "\n",
    "</div>"
   ]
  },
  {
   "cell_type": "markdown",
   "metadata": {},
   "source": [
    " "
   ]
  },
  {
   "cell_type": "markdown",
   "metadata": {},
   "source": [
    "  "
   ]
  },
  {
   "cell_type": "markdown",
   "metadata": {},
   "source": [
    "#### Add-On Services"
   ]
  },
  {
   "cell_type": "code",
   "execution_count": 121,
   "metadata": {},
   "outputs": [
    {
     "data": {
      "image/png": "[encoded data removed]",
      "text/plain": [
       "<Figure size 640x480 with 1 Axes>"
      ]
     },
     "metadata": {},
     "output_type": "display_data"
    },
    {
     "data": {
      "image/png": "[encoded data removed]",
      "text/plain": [
       "<Figure size 640x480 with 1 Axes>"
      ]
     },
     "metadata": {},
     "output_type": "display_data"
    },
    {
     "data": {
      "image/png": "[encoded data removed]",
      "text/plain": [
       "<Figure size 640x480 with 1 Axes>"
      ]
     },
     "metadata": {},
     "output_type": "display_data"
    },
    {
     "data": {
      "image/png": "[encoded data removed]",
      "text/plain": [
       "<Figure size 640x480 with 1 Axes>"
      ]
     },
     "metadata": {},
     "output_type": "display_data"
    },
    {
     "data": {
      "image/png": "[encoded data removed]",
      "text/plain": [
       "<Figure size 640x480 with 1 Axes>"
      ]
     },
     "metadata": {},
     "output_type": "display_data"
    },
    {
     "data": {
      "image/png": "[encoded data removed]",
      "text/plain": [
       "<Figure size 640x480 with 1 Axes>"
      ]
     },
     "metadata": {},
     "output_type": "display_data"
    }
   ],
   "source": [
    "service_cols = ['online_security', 'online_backup', 'tech_support', 'device_protection', \n",
    "                'streaming_tv', 'streaming_movies']\n",
    "for col in service_cols:\n",
    "    sns.countplot(data=df_merged, x=col, hue='churn', palette='mako')\n",
    "    sns.set_context(\"paper\", font_scale=1.4)\n",
    "    plt.title(f\"Churn by {col.replace('_', ' ').title()}\")\n",
    "    plt.show()"
   ]
  },
  {
   "cell_type": "markdown",
   "metadata": {},
   "source": [
    "<div style=\"border: 2px solid black; padding: 10px; margin: 10px\">\n",
    "\n",
    "In every instance of our \"add-ons\" the churn rate is lower for customers who included this add-on in their membership. More focus on add-on features and bundles could help impact churn rates the most based on this data.\n",
    "\n",
    "</div>"
   ]
  },
  {
   "cell_type": "markdown",
   "metadata": {},
   "source": [
    " "
   ]
  },
  {
   "cell_type": "markdown",
   "metadata": {},
   "source": [
    "  "
   ]
  },
  {
   "cell_type": "markdown",
   "metadata": {},
   "source": [
    "### Correlation Heatmap"
   ]
  },
  {
   "cell_type": "code",
   "execution_count": 126,
   "metadata": {},
   "outputs": [
    {
     "data": {
      "text/plain": [
       "Text(0.5, 1.0, 'Correlation Matrix of Numeric Features and Churn')"
      ]
     },
     "execution_count": 126,
     "metadata": {},
     "output_type": "execute_result"
    },
    {
     "data": {
      "image/png": "[encoded data removed]",
      "text/plain": [
       "<Figure size 640x480 with 2 Axes>"
      ]
     },
     "metadata": {},
     "output_type": "display_data"
    }
   ],
   "source": [
    "numeric_cols = ['monthly_charges', 'total_charges', 'contract_duration_days', 'time_since_end']\n",
    "sns.heatmap(df_merged[numeric_cols + ['churn']].corr(), annot=True, cmap='coolwarm')\n",
    "sns.set_context(\"paper\", font_scale=1.4)\n",
    "plt.xticks(rotation=45, ha='right')\n",
    "plt.title(\"Correlation Matrix of Numeric Features and Churn\")"
   ]
  },
  {
   "cell_type": "markdown",
   "metadata": {},
   "source": [
    "<div style=\"border: 2px solid black; padding: 10px; margin: 10px\">\n",
    "\n",
    "As we take a look at our numeric features heatmap, we're seeing a strong relationship between `monthly_charges` and `total_charges` and later `total_charges` and `contract_duration_days`. This leads to the conclusion that the customers who churned were paying higher rates in their memberships than those customers who stayed with the company. \n",
    "\n",
    "</div>"
   ]
  },
  {
   "cell_type": "markdown",
   "metadata": {},
   "source": [
    " "
   ]
  },
  {
   "cell_type": "markdown",
   "metadata": {},
   "source": [
    "  "
   ]
  },
  {
   "cell_type": "markdown",
   "metadata": {},
   "source": [
    "### Churn Overview"
   ]
  },
  {
   "cell_type": "code",
   "execution_count": 131,
   "metadata": {},
   "outputs": [
    {
     "data": {
      "text/plain": [
       "Text(0, 0.5, '')"
      ]
     },
     "execution_count": 131,
     "metadata": {},
     "output_type": "execute_result"
    },
    {
     "data": {
      "image/png": "[encoded data removed]",
      "text/plain": [
       "<Figure size 400x400 with 1 Axes>"
      ]
     },
     "metadata": {},
     "output_type": "display_data"
    }
   ],
   "source": [
    "plt.figure(figsize=(4,4))\n",
    "df_merged['churn'].value_counts(normalize=True).plot.pie(autopct='%1.1f%%', colors=['skyblue', 'lightcoral'])\n",
    "sns.set_context(\"paper\", font_scale=1.4)\n",
    "plt.title(\"Overall Churn Rate\")\n",
    "plt.ylabel('')"
   ]
  },
  {
   "cell_type": "markdown",
   "metadata": {},
   "source": [
    "<div style=\"border: 2px solid black; padding: 10px; margin: 10px\">\n",
    "\n",
    "Overall, we see a 26.5% churn rate for the company. That's more than a quarter of their business. Strategic moves need to be made to close that gap and to hold onto customers to maximize earnings. \n",
    "\n",
    "</div>"
   ]
  },
  {
   "cell_type": "markdown",
   "metadata": {},
   "source": [
    " "
   ]
  },
  {
   "cell_type": "markdown",
   "metadata": {},
   "source": [
    "  "
   ]
  },
  {
   "cell_type": "markdown",
   "metadata": {},
   "source": [
    "## Model Training"
   ]
  },
  {
   "cell_type": "markdown",
   "metadata": {},
   "source": [
    "### Building Pipeline"
   ]
  },
  {
   "cell_type": "markdown",
   "metadata": {},
   "source": [
    "<div style=\"border: 2px solid black; padding: 10px; margin: 10px\">\n",
    "\n",
    "Here, we're beginning the setup for feature encoding and, later, model training.\n",
    "\n",
    "</div>"
   ]
  },
  {
   "cell_type": "code",
   "execution_count": 138,
   "metadata": {},
   "outputs": [],
   "source": [
    "# Removing 'end_date' column as its value is in \"churn\" column\n",
    "# Also removing columns with \"future\" data that would skew outcome\n",
    "\n",
    "df_merged = df_merged.drop(columns=['end_date', 'contract_duration_days', 'time_since_end'])"
   ]
  },
  {
   "cell_type": "code",
   "execution_count": 139,
   "metadata": {},
   "outputs": [],
   "source": [
    "# Isolating numerical features\n",
    "numeric_features = [\n",
    "    'monthly_charges',\n",
    "    'total_charges',\n",
    "    'begin_year',\n",
    "    'begin_month',\n",
    "    'begin_dow',\n",
    "    'senior_citizen'\n",
    "]\n",
    "\n",
    "# Isolating categorical features\n",
    "categorical_features = [\n",
    "    'type',\n",
    "    'paperless_billing',\n",
    "    'payment_method',\n",
    "    'gender',\n",
    "    'partner',\n",
    "    'dependents',\n",
    "    'internet_service',\n",
    "    'online_security',\n",
    "    'online_backup',\n",
    "    'device_protection',\n",
    "    'tech_support',\n",
    "    'streaming_tv',\n",
    "    'streaming_movies',\n",
    "    'multiple_lines'\n",
    "]\n",
    "\n",
    "# Removing columns not used for modeling\n",
    "drop_columns = ['customer_id', 'begin_date', 'churn']\n",
    "\n",
    "# Creating feature matrix\n",
    "X = df_merged.drop(columns=drop_columns)\n",
    "y = df_merged['churn']"
   ]
  },
  {
   "cell_type": "code",
   "execution_count": 140,
   "metadata": {
    "scrolled": true
   },
   "outputs": [],
   "source": [
    "# Building Pipeline\n",
    "\n",
    "# First, the Preprocessors\n",
    "numeric_transformer = Pipeline(steps=[\n",
    "    ('scaler', StandardScaler())\n",
    "])\n",
    "\n",
    "categorical_transformer = Pipeline(steps=[\n",
    "    ('encoder', OneHotEncoder(handle_unknown='ignore'))\n",
    "])\n",
    "\n",
    "# Combining transformers\n",
    "preprocessor = ColumnTransformer(\n",
    "    transformers=[\n",
    "        ('num', numeric_transformer, numeric_features),\n",
    "        ('cat', categorical_transformer, categorical_features)\n",
    "    ]\n",
    ")\n",
    "\n",
    "# Creating modeling pipeline for LR Model\n",
    "clf = Pipeline(steps=[\n",
    "    ('preprocessor', preprocessor),\n",
    "    ('classifier', LogisticRegression(max_iter=1000))\n",
    "])"
   ]
  },
  {
   "cell_type": "markdown",
   "metadata": {},
   "source": [
    " "
   ]
  },
  {
   "cell_type": "markdown",
   "metadata": {},
   "source": [
    " "
   ]
  },
  {
   "cell_type": "markdown",
   "metadata": {},
   "source": [
    "### Splitting Data"
   ]
  },
  {
   "cell_type": "code",
   "execution_count": 144,
   "metadata": {},
   "outputs": [],
   "source": [
    "# Splitting the data into train, test, and validation sets\n",
    "# First split for train and temporary set\n",
    "X_train, X_temp, y_train, y_temp = train_test_split(X, y, test_size=0.3, random_state=42)\n",
    "\n",
    "# Second split, into test and validation sets (15% each)\n",
    "X_valid, X_test, y_valid, y_test = train_test_split(X_temp, y_temp, test_size=0.5, random_state=42)"
   ]
  },
  {
   "cell_type": "markdown",
   "metadata": {},
   "source": [
    " "
   ]
  },
  {
   "cell_type": "markdown",
   "metadata": {},
   "source": [
    " "
   ]
  },
  {
   "cell_type": "markdown",
   "metadata": {},
   "source": [
    "### LogisticRegression Model"
   ]
  },
  {
   "cell_type": "code",
   "execution_count": 148,
   "metadata": {},
   "outputs": [
    {
     "name": "stdout",
     "output_type": "stream",
     "text": [
      "Validation Accuracy Baseline: 0.83\n",
      "Validation AUC-ROC Baseline:  0.85\n"
     ]
    }
   ],
   "source": [
    "# Training the LR Model Baseline\n",
    "\n",
    "clf.fit(X_train, y_train)\n",
    "\n",
    "# Predict on validation set\n",
    "y_val_pred_base = clf.predict(X_valid)\n",
    "y_val_proba_base = clf.predict_proba(X_valid)[:, 1]\n",
    "\n",
    "val_acc_base = accuracy_score(y_valid, y_val_pred_base)\n",
    "val_auc_base = roc_auc_score(y_valid, y_val_proba_base)\n",
    "\n",
    "print(f\"Validation Accuracy Baseline: {val_acc_base:.2f}\")\n",
    "print(f\"Validation AUC-ROC Baseline:  {val_auc_base:.2f}\")"
   ]
  },
  {
   "cell_type": "markdown",
   "metadata": {},
   "source": [
    " "
   ]
  },
  {
   "cell_type": "code",
   "execution_count": 150,
   "metadata": {},
   "outputs": [
    {
     "name": "stdout",
     "output_type": "stream",
     "text": [
      "Fitting 5 folds for each of 40 candidates, totalling 200 fits\n"
     ]
    },
    {
     "name": "stderr",
     "output_type": "stream",
     "text": [
      "/opt/anaconda3/lib/python3.12/site-packages/sklearn/linear_model/_sag.py:349: ConvergenceWarning: The max_iter was reached which means the coef_ did not converge\n",
      "  warnings.warn(\n"
     ]
    },
    {
     "name": "stdout",
     "output_type": "stream",
     "text": [
      "Best parameters: {'classifier__C': 10, 'classifier__class_weight': None, 'classifier__penalty': 'l1', 'classifier__solver': 'saga'}\n",
      "Best AUC-ROC: 0.8420604528400959\n"
     ]
    }
   ],
   "source": [
    "# Finding best params for LR Model\n",
    "\n",
    "param_grid = {\n",
    "    'classifier__C': [0.01, 0.1, 1, 10, 100],\n",
    "    'classifier__penalty': ['l1', 'l2'],\n",
    "    'classifier__solver': ['liblinear', 'saga'],\n",
    "    'classifier__class_weight': [None, 'balanced']\n",
    "}\n",
    "\n",
    "grid = GridSearchCV(\n",
    "    clf, \n",
    "    param_grid, \n",
    "    scoring='roc_auc', \n",
    "    cv=5,\n",
    "    n_jobs=-1,\n",
    "    verbose=1\n",
    ")\n",
    "\n",
    "grid.fit(X_train, y_train)\n",
    "\n",
    "print(\"Best parameters:\", grid.best_params_)\n",
    "print(\"Best AUC-ROC:\", grid.best_score_)"
   ]
  },
  {
   "cell_type": "markdown",
   "metadata": {},
   "source": [
    " "
   ]
  },
  {
   "cell_type": "code",
   "execution_count": 152,
   "metadata": {},
   "outputs": [
    {
     "name": "stdout",
     "output_type": "stream",
     "text": [
      "Validation Accuracy: 0.83\n",
      "Validation AUC-ROC:  0.85\n"
     ]
    }
   ],
   "source": [
    "# Training the LR Model with best params\n",
    "\n",
    "best_model_lr = grid.best_estimator_\n",
    "\n",
    "# Predict on validation set\n",
    "y_val_pred_bestlr = best_model_lr.predict(X_valid)\n",
    "y_val_proba_bestlr = best_model_lr.predict_proba(X_valid)[:, 1]\n",
    "\n",
    "val_acc_bestlr = accuracy_score(y_valid, y_val_pred_bestlr)\n",
    "val_auc_bestlr = roc_auc_score(y_valid, y_val_proba_bestlr)\n",
    "\n",
    "print(f\"Validation Accuracy: {val_acc_bestlr:.2f}\")\n",
    "print(f\"Validation AUC-ROC:  {val_auc_bestlr:.2f}\")"
   ]
  },
  {
   "cell_type": "markdown",
   "metadata": {},
   "source": [
    " "
   ]
  },
  {
   "cell_type": "markdown",
   "metadata": {},
   "source": [
    " "
   ]
  },
  {
   "cell_type": "markdown",
   "metadata": {},
   "source": [
    "### RandomForest Model"
   ]
  },
  {
   "cell_type": "code",
   "execution_count": 156,
   "metadata": {},
   "outputs": [],
   "source": [
    "# Creating pipeline for RF Model\n",
    "rf_pipeline = Pipeline(steps=[\n",
    "    ('preprocessor', preprocessor),\n",
    "    ('classifier', RandomForestClassifier(random_state=42))\n",
    "])"
   ]
  },
  {
   "cell_type": "markdown",
   "metadata": {},
   "source": [
    " "
   ]
  },
  {
   "cell_type": "code",
   "execution_count": 158,
   "metadata": {},
   "outputs": [
    {
     "name": "stdout",
     "output_type": "stream",
     "text": [
      "Validation Base Accuracy: 0.86\n",
      "Validation Base AUC-ROC:  0.89\n"
     ]
    }
   ],
   "source": [
    "# Baseline scores for RF Model\n",
    "# Fitting with train set\n",
    "rf_pipeline.fit(X_train, y_train)\n",
    "\n",
    "# Predictions\n",
    "y_val_pred_rfbase = rf_pipeline.predict(X_valid)\n",
    "y_val_proba_rfbase = rf_pipeline.predict_proba(X_valid)[:, 1]\n",
    "\n",
    "# Metrics\n",
    "val_acc_rfbase = accuracy_score(y_valid, y_val_pred_rfbase)\n",
    "val_auc_rfbase = roc_auc_score(y_valid, y_val_proba_rfbase)\n",
    "\n",
    "print(f\"Validation Base Accuracy: {val_acc_rfbase:.2f}\")\n",
    "print(f\"Validation Base AUC-ROC:  {val_auc_rfbase:.2f}\")"
   ]
  },
  {
   "cell_type": "markdown",
   "metadata": {},
   "source": [
    " "
   ]
  },
  {
   "cell_type": "code",
   "execution_count": 160,
   "metadata": {},
   "outputs": [
    {
     "name": "stdout",
     "output_type": "stream",
     "text": [
      "Fitting 3 folds for each of 48 candidates, totalling 144 fits\n",
      "[CV] END classifier__class_weight=None, classifier__max_depth=None, classifier__max_features=sqrt, classifier__min_samples_leaf=2, classifier__min_samples_split=5, classifier__n_estimators=50; total time=   0.2s\n",
      "[CV] END classifier__class_weight=None, classifier__max_depth=None, classifier__max_features=sqrt, classifier__min_samples_leaf=2, classifier__min_samples_split=5, classifier__n_estimators=50; total time=   0.2s\n",
      "[CV] END classifier__class_weight=None, classifier__max_depth=None, classifier__max_features=sqrt, classifier__min_samples_leaf=2, classifier__min_samples_split=5, classifier__n_estimators=50; total time=   0.2s\n",
      "[CV] END classifier__class_weight=None, classifier__max_depth=None, classifier__max_features=sqrt, classifier__min_samples_leaf=2, classifier__min_samples_split=10, classifier__n_estimators=50; total time=   0.2s\n",
      "[CV] END classifier__class_weight=None, classifier__max_depth=None, classifier__max_features=sqrt, classifier__min_samples_leaf=2, classifier__min_samples_split=10, classifier__n_estimators=50; total time=   0.2s\n",
      "[CV] END classifier__class_weight=None, classifier__max_depth=None, classifier__max_features=sqrt, classifier__min_samples_leaf=2, classifier__min_samples_split=5, classifier__n_estimators=100; total time=   0.3s\n",
      "[CV] END classifier__class_weight=None, classifier__max_depth=None, classifier__max_features=sqrt, classifier__min_samples_leaf=2, classifier__min_samples_split=5, classifier__n_estimators=100; total time=   0.4s\n",
      "[CV] END classifier__class_weight=None, classifier__max_depth=None, classifier__max_features=sqrt, classifier__min_samples_leaf=2, classifier__min_samples_split=10, classifier__n_estimators=50; total time=   0.2s\n",
      "[CV] END classifier__class_weight=None, classifier__max_depth=None, classifier__max_features=sqrt, classifier__min_samples_leaf=2, classifier__min_samples_split=5, classifier__n_estimators=100; total time=   0.4s\n",
      "[CV] END classifier__class_weight=None, classifier__max_depth=None, classifier__max_features=sqrt, classifier__min_samples_leaf=4, classifier__min_samples_split=5, classifier__n_estimators=50; total time=   0.2s\n",
      "[CV] END classifier__class_weight=None, classifier__max_depth=None, classifier__max_features=sqrt, classifier__min_samples_leaf=2, classifier__min_samples_split=10, classifier__n_estimators=100; total time=   0.3s\n",
      "[CV] END classifier__class_weight=None, classifier__max_depth=None, classifier__max_features=sqrt, classifier__min_samples_leaf=4, classifier__min_samples_split=5, classifier__n_estimators=50; total time=   0.2s\n",
      "[CV] END classifier__class_weight=None, classifier__max_depth=None, classifier__max_features=sqrt, classifier__min_samples_leaf=2, classifier__min_samples_split=10, classifier__n_estimators=100; total time=   0.3s\n",
      "[CV] END classifier__class_weight=None, classifier__max_depth=None, classifier__max_features=sqrt, classifier__min_samples_leaf=4, classifier__min_samples_split=5, classifier__n_estimators=50; total time=   0.2s\n",
      "[CV] END classifier__class_weight=None, classifier__max_depth=None, classifier__max_features=sqrt, classifier__min_samples_leaf=2, classifier__min_samples_split=10, classifier__n_estimators=100; total time=   0.3s\n",
      "[CV] END classifier__class_weight=None, classifier__max_depth=None, classifier__max_features=sqrt, classifier__min_samples_leaf=4, classifier__min_samples_split=5, classifier__n_estimators=100; total time=   0.3s\n",
      "[CV] END classifier__class_weight=None, classifier__max_depth=None, classifier__max_features=sqrt, classifier__min_samples_leaf=4, classifier__min_samples_split=10, classifier__n_estimators=50; total time=   0.2s\n",
      "[CV] END classifier__class_weight=None, classifier__max_depth=None, classifier__max_features=sqrt, classifier__min_samples_leaf=4, classifier__min_samples_split=5, classifier__n_estimators=100; total time=   0.3s\n",
      "[CV] END classifier__class_weight=None, classifier__max_depth=None, classifier__max_features=sqrt, classifier__min_samples_leaf=4, classifier__min_samples_split=10, classifier__n_estimators=50; total time=   0.2s\n",
      "[CV] END classifier__class_weight=None, classifier__max_depth=None, classifier__max_features=sqrt, classifier__min_samples_leaf=4, classifier__min_samples_split=10, classifier__n_estimators=50; total time=   0.2s\n",
      "[CV] END classifier__class_weight=None, classifier__max_depth=None, classifier__max_features=sqrt, classifier__min_samples_leaf=4, classifier__min_samples_split=5, classifier__n_estimators=100; total time=   0.3s\n",
      "[CV] END classifier__class_weight=None, classifier__max_depth=None, classifier__max_features=sqrt, classifier__min_samples_leaf=4, classifier__min_samples_split=10, classifier__n_estimators=100; total time=   0.3s\n",
      "[CV] END classifier__class_weight=None, classifier__max_depth=10, classifier__max_features=sqrt, classifier__min_samples_leaf=2, classifier__min_samples_split=5, classifier__n_estimators=50; total time=   0.2s\n",
      "[CV] END classifier__class_weight=None, classifier__max_depth=None, classifier__max_features=sqrt, classifier__min_samples_leaf=4, classifier__min_samples_split=10, classifier__n_estimators=100; total time=   0.3s\n",
      "[CV] END classifier__class_weight=None, classifier__max_depth=10, classifier__max_features=sqrt, classifier__min_samples_leaf=2, classifier__min_samples_split=5, classifier__n_estimators=50; total time=   0.2s\n",
      "[CV] END classifier__class_weight=None, classifier__max_depth=10, classifier__max_features=sqrt, classifier__min_samples_leaf=2, classifier__min_samples_split=5, classifier__n_estimators=50; total time=   0.2s\n",
      "[CV] END classifier__class_weight=None, classifier__max_depth=None, classifier__max_features=sqrt, classifier__min_samples_leaf=4, classifier__min_samples_split=10, classifier__n_estimators=100; total time=   0.3s\n",
      "[CV] END classifier__class_weight=None, classifier__max_depth=10, classifier__max_features=sqrt, classifier__min_samples_leaf=2, classifier__min_samples_split=10, classifier__n_estimators=50; total time=   0.2s\n",
      "[CV] END classifier__class_weight=None, classifier__max_depth=10, classifier__max_features=sqrt, classifier__min_samples_leaf=2, classifier__min_samples_split=10, classifier__n_estimators=50; total time=   0.2s\n",
      "[CV] END classifier__class_weight=None, classifier__max_depth=10, classifier__max_features=sqrt, classifier__min_samples_leaf=2, classifier__min_samples_split=5, classifier__n_estimators=100; total time=   0.3s\n",
      "[CV] END classifier__class_weight=None, classifier__max_depth=10, classifier__max_features=sqrt, classifier__min_samples_leaf=2, classifier__min_samples_split=10, classifier__n_estimators=50; total time=   0.2s\n",
      "[CV] END classifier__class_weight=None, classifier__max_depth=10, classifier__max_features=sqrt, classifier__min_samples_leaf=2, classifier__min_samples_split=5, classifier__n_estimators=100; total time=   0.3s\n",
      "[CV] END classifier__class_weight=None, classifier__max_depth=10, classifier__max_features=sqrt, classifier__min_samples_leaf=2, classifier__min_samples_split=5, classifier__n_estimators=100; total time=   0.3s\n",
      "[CV] END classifier__class_weight=None, classifier__max_depth=10, classifier__max_features=sqrt, classifier__min_samples_leaf=4, classifier__min_samples_split=5, classifier__n_estimators=50; total time=   0.2s\n",
      "[CV] END classifier__class_weight=None, classifier__max_depth=10, classifier__max_features=sqrt, classifier__min_samples_leaf=4, classifier__min_samples_split=5, classifier__n_estimators=50; total time=   0.2s\n",
      "[CV] END classifier__class_weight=None, classifier__max_depth=10, classifier__max_features=sqrt, classifier__min_samples_leaf=2, classifier__min_samples_split=10, classifier__n_estimators=100; total time=   0.3s\n",
      "[CV] END classifier__class_weight=None, classifier__max_depth=10, classifier__max_features=sqrt, classifier__min_samples_leaf=4, classifier__min_samples_split=5, classifier__n_estimators=50; total time=   0.2s\n",
      "[CV] END classifier__class_weight=None, classifier__max_depth=10, classifier__max_features=sqrt, classifier__min_samples_leaf=4, classifier__min_samples_split=10, classifier__n_estimators=50; total time=   0.1s\n",
      "[CV] END classifier__class_weight=None, classifier__max_depth=10, classifier__max_features=sqrt, classifier__min_samples_leaf=2, classifier__min_samples_split=10, classifier__n_estimators=100; total time=   0.4s\n",
      "[CV] END classifier__class_weight=None, classifier__max_depth=10, classifier__max_features=sqrt, classifier__min_samples_leaf=2, classifier__min_samples_split=10, classifier__n_estimators=100; total time=   0.3s\n",
      "[CV] END classifier__class_weight=None, classifier__max_depth=10, classifier__max_features=sqrt, classifier__min_samples_leaf=4, classifier__min_samples_split=10, classifier__n_estimators=50; total time=   0.2s\n",
      "[CV] END classifier__class_weight=None, classifier__max_depth=10, classifier__max_features=sqrt, classifier__min_samples_leaf=4, classifier__min_samples_split=10, classifier__n_estimators=50; total time=   0.2s\n",
      "[CV] END classifier__class_weight=None, classifier__max_depth=10, classifier__max_features=sqrt, classifier__min_samples_leaf=4, classifier__min_samples_split=5, classifier__n_estimators=100; total time=   0.3s\n",
      "[CV] END classifier__class_weight=None, classifier__max_depth=10, classifier__max_features=sqrt, classifier__min_samples_leaf=4, classifier__min_samples_split=5, classifier__n_estimators=100; total time=   0.3s\n",
      "[CV] END classifier__class_weight=None, classifier__max_depth=10, classifier__max_features=sqrt, classifier__min_samples_leaf=4, classifier__min_samples_split=5, classifier__n_estimators=100; total time=   0.4s\n",
      "[CV] END classifier__class_weight=None, classifier__max_depth=15, classifier__max_features=sqrt, classifier__min_samples_leaf=2, classifier__min_samples_split=5, classifier__n_estimators=50; total time=   0.2s\n",
      "[CV] END classifier__class_weight=None, classifier__max_depth=15, classifier__max_features=sqrt, classifier__min_samples_leaf=2, classifier__min_samples_split=5, classifier__n_estimators=50; total time=   0.2s\n",
      "[CV] END classifier__class_weight=None, classifier__max_depth=10, classifier__max_features=sqrt, classifier__min_samples_leaf=4, classifier__min_samples_split=10, classifier__n_estimators=100; total time=   0.3s\n",
      "[CV] END classifier__class_weight=None, classifier__max_depth=15, classifier__max_features=sqrt, classifier__min_samples_leaf=2, classifier__min_samples_split=5, classifier__n_estimators=50; total time=   0.2s\n",
      "[CV] END classifier__class_weight=None, classifier__max_depth=10, classifier__max_features=sqrt, classifier__min_samples_leaf=4, classifier__min_samples_split=10, classifier__n_estimators=100; total time=   0.3s\n",
      "[CV] END classifier__class_weight=None, classifier__max_depth=10, classifier__max_features=sqrt, classifier__min_samples_leaf=4, classifier__min_samples_split=10, classifier__n_estimators=100; total time=   0.3s\n",
      "[CV] END classifier__class_weight=None, classifier__max_depth=15, classifier__max_features=sqrt, classifier__min_samples_leaf=2, classifier__min_samples_split=5, classifier__n_estimators=100; total time=   0.3s\n",
      "[CV] END classifier__class_weight=None, classifier__max_depth=15, classifier__max_features=sqrt, classifier__min_samples_leaf=2, classifier__min_samples_split=10, classifier__n_estimators=50; total time=   0.2s\n",
      "[CV] END classifier__class_weight=None, classifier__max_depth=15, classifier__max_features=sqrt, classifier__min_samples_leaf=2, classifier__min_samples_split=10, classifier__n_estimators=50; total time=   0.2s\n",
      "[CV] END classifier__class_weight=None, classifier__max_depth=15, classifier__max_features=sqrt, classifier__min_samples_leaf=2, classifier__min_samples_split=10, classifier__n_estimators=50; total time=   0.2s\n",
      "[CV] END classifier__class_weight=None, classifier__max_depth=15, classifier__max_features=sqrt, classifier__min_samples_leaf=2, classifier__min_samples_split=5, classifier__n_estimators=100; total time=   0.3s\n",
      "[CV] END classifier__class_weight=None, classifier__max_depth=15, classifier__max_features=sqrt, classifier__min_samples_leaf=2, classifier__min_samples_split=5, classifier__n_estimators=100; total time=   0.4s\n",
      "[CV] END classifier__class_weight=None, classifier__max_depth=15, classifier__max_features=sqrt, classifier__min_samples_leaf=4, classifier__min_samples_split=5, classifier__n_estimators=50; total time=   0.2s\n",
      "[CV] END classifier__class_weight=None, classifier__max_depth=15, classifier__max_features=sqrt, classifier__min_samples_leaf=4, classifier__min_samples_split=5, classifier__n_estimators=50; total time=   0.2s\n",
      "[CV] END classifier__class_weight=None, classifier__max_depth=15, classifier__max_features=sqrt, classifier__min_samples_leaf=4, classifier__min_samples_split=5, classifier__n_estimators=50; total time=   0.2s\n",
      "[CV] END classifier__class_weight=None, classifier__max_depth=15, classifier__max_features=sqrt, classifier__min_samples_leaf=2, classifier__min_samples_split=10, classifier__n_estimators=100; total time=   0.3s\n",
      "[CV] END classifier__class_weight=None, classifier__max_depth=15, classifier__max_features=sqrt, classifier__min_samples_leaf=2, classifier__min_samples_split=10, classifier__n_estimators=100; total time=   0.3s\n",
      "[CV] END classifier__class_weight=None, classifier__max_depth=15, classifier__max_features=sqrt, classifier__min_samples_leaf=2, classifier__min_samples_split=10, classifier__n_estimators=100; total time=   0.3s\n",
      "[CV] END classifier__class_weight=None, classifier__max_depth=15, classifier__max_features=sqrt, classifier__min_samples_leaf=4, classifier__min_samples_split=10, classifier__n_estimators=50; total time=   0.2s\n",
      "[CV] END classifier__class_weight=None, classifier__max_depth=15, classifier__max_features=sqrt, classifier__min_samples_leaf=4, classifier__min_samples_split=5, classifier__n_estimators=100; total time=   0.3s\n",
      "[CV] END classifier__class_weight=None, classifier__max_depth=15, classifier__max_features=sqrt, classifier__min_samples_leaf=4, classifier__min_samples_split=10, classifier__n_estimators=50; total time=   0.2s\n",
      "[CV] END classifier__class_weight=None, classifier__max_depth=15, classifier__max_features=sqrt, classifier__min_samples_leaf=4, classifier__min_samples_split=10, classifier__n_estimators=50; total time=   0.2s\n",
      "[CV] END classifier__class_weight=None, classifier__max_depth=15, classifier__max_features=sqrt, classifier__min_samples_leaf=4, classifier__min_samples_split=5, classifier__n_estimators=100; total time=   0.3s\n",
      "[CV] END classifier__class_weight=None, classifier__max_depth=15, classifier__max_features=sqrt, classifier__min_samples_leaf=4, classifier__min_samples_split=5, classifier__n_estimators=100; total time=   0.3s\n",
      "[CV] END classifier__class_weight=None, classifier__max_depth=15, classifier__max_features=sqrt, classifier__min_samples_leaf=4, classifier__min_samples_split=10, classifier__n_estimators=100; total time=   0.3s\n",
      "[CV] END classifier__class_weight=None, classifier__max_depth=15, classifier__max_features=sqrt, classifier__min_samples_leaf=4, classifier__min_samples_split=10, classifier__n_estimators=100; total time=   0.3s\n",
      "[CV] END classifier__class_weight=balanced, classifier__max_depth=None, classifier__max_features=sqrt, classifier__min_samples_leaf=2, classifier__min_samples_split=5, classifier__n_estimators=50; total time=   0.2s\n",
      "[CV] END classifier__class_weight=balanced, classifier__max_depth=None, classifier__max_features=sqrt, classifier__min_samples_leaf=2, classifier__min_samples_split=5, classifier__n_estimators=50; total time=   0.2s\n",
      "[CV] END classifier__class_weight=balanced, classifier__max_depth=None, classifier__max_features=sqrt, classifier__min_samples_leaf=2, classifier__min_samples_split=5, classifier__n_estimators=50; total time=   0.2s\n",
      "[CV] END classifier__class_weight=None, classifier__max_depth=15, classifier__max_features=sqrt, classifier__min_samples_leaf=4, classifier__min_samples_split=10, classifier__n_estimators=100; total time=   0.3s\n",
      "[CV] END classifier__class_weight=balanced, classifier__max_depth=None, classifier__max_features=sqrt, classifier__min_samples_leaf=2, classifier__min_samples_split=10, classifier__n_estimators=50; total time=   0.2s\n",
      "[CV] END classifier__class_weight=balanced, classifier__max_depth=None, classifier__max_features=sqrt, classifier__min_samples_leaf=2, classifier__min_samples_split=10, classifier__n_estimators=50; total time=   0.2s\n",
      "[CV] END classifier__class_weight=balanced, classifier__max_depth=None, classifier__max_features=sqrt, classifier__min_samples_leaf=2, classifier__min_samples_split=10, classifier__n_estimators=50; total time=   0.2s\n",
      "[CV] END classifier__class_weight=balanced, classifier__max_depth=None, classifier__max_features=sqrt, classifier__min_samples_leaf=2, classifier__min_samples_split=5, classifier__n_estimators=100; total time=   0.3s\n",
      "[CV] END classifier__class_weight=balanced, classifier__max_depth=None, classifier__max_features=sqrt, classifier__min_samples_leaf=2, classifier__min_samples_split=5, classifier__n_estimators=100; total time=   0.3s\n",
      "[CV] END classifier__class_weight=balanced, classifier__max_depth=None, classifier__max_features=sqrt, classifier__min_samples_leaf=2, classifier__min_samples_split=10, classifier__n_estimators=100; total time=   0.3s\n",
      "[CV] END classifier__class_weight=balanced, classifier__max_depth=None, classifier__max_features=sqrt, classifier__min_samples_leaf=4, classifier__min_samples_split=5, classifier__n_estimators=50; total time=   0.2s\n",
      "[CV] END classifier__class_weight=balanced, classifier__max_depth=None, classifier__max_features=sqrt, classifier__min_samples_leaf=2, classifier__min_samples_split=5, classifier__n_estimators=100; total time=   0.4s\n",
      "[CV] END classifier__class_weight=balanced, classifier__max_depth=None, classifier__max_features=sqrt, classifier__min_samples_leaf=4, classifier__min_samples_split=5, classifier__n_estimators=50; total time=   0.2s\n",
      "[CV] END classifier__class_weight=balanced, classifier__max_depth=None, classifier__max_features=sqrt, classifier__min_samples_leaf=2, classifier__min_samples_split=10, classifier__n_estimators=100; total time=   0.3s\n",
      "[CV] END classifier__class_weight=balanced, classifier__max_depth=None, classifier__max_features=sqrt, classifier__min_samples_leaf=4, classifier__min_samples_split=5, classifier__n_estimators=50; total time=   0.2s\n",
      "[CV] END classifier__class_weight=balanced, classifier__max_depth=None, classifier__max_features=sqrt, classifier__min_samples_leaf=2, classifier__min_samples_split=10, classifier__n_estimators=100; total time=   0.3s\n",
      "[CV] END classifier__class_weight=balanced, classifier__max_depth=None, classifier__max_features=sqrt, classifier__min_samples_leaf=4, classifier__min_samples_split=10, classifier__n_estimators=50; total time=   0.2s\n",
      "[CV] END classifier__class_weight=balanced, classifier__max_depth=None, classifier__max_features=sqrt, classifier__min_samples_leaf=4, classifier__min_samples_split=10, classifier__n_estimators=50; total time=   0.2s\n",
      "[CV] END classifier__class_weight=balanced, classifier__max_depth=None, classifier__max_features=sqrt, classifier__min_samples_leaf=4, classifier__min_samples_split=5, classifier__n_estimators=100; total time=   0.3s\n",
      "[CV] END classifier__class_weight=balanced, classifier__max_depth=None, classifier__max_features=sqrt, classifier__min_samples_leaf=4, classifier__min_samples_split=10, classifier__n_estimators=50; total time=   0.2s\n",
      "[CV] END classifier__class_weight=balanced, classifier__max_depth=None, classifier__max_features=sqrt, classifier__min_samples_leaf=4, classifier__min_samples_split=5, classifier__n_estimators=100; total time=   0.3s\n",
      "[CV] END classifier__class_weight=balanced, classifier__max_depth=None, classifier__max_features=sqrt, classifier__min_samples_leaf=4, classifier__min_samples_split=5, classifier__n_estimators=100; total time=   0.3s\n",
      "[CV] END classifier__class_weight=balanced, classifier__max_depth=10, classifier__max_features=sqrt, classifier__min_samples_leaf=2, classifier__min_samples_split=5, classifier__n_estimators=50; total time=   0.2s\n",
      "[CV] END classifier__class_weight=balanced, classifier__max_depth=10, classifier__max_features=sqrt, classifier__min_samples_leaf=2, classifier__min_samples_split=5, classifier__n_estimators=50; total time=   0.2s\n",
      "[CV] END classifier__class_weight=balanced, classifier__max_depth=10, classifier__max_features=sqrt, classifier__min_samples_leaf=2, classifier__min_samples_split=5, classifier__n_estimators=50; total time=   0.2s\n",
      "[CV] END classifier__class_weight=balanced, classifier__max_depth=None, classifier__max_features=sqrt, classifier__min_samples_leaf=4, classifier__min_samples_split=10, classifier__n_estimators=100; total time=   0.3s\n",
      "[CV] END classifier__class_weight=balanced, classifier__max_depth=None, classifier__max_features=sqrt, classifier__min_samples_leaf=4, classifier__min_samples_split=10, classifier__n_estimators=100; total time=   0.3s\n",
      "[CV] END classifier__class_weight=balanced, classifier__max_depth=None, classifier__max_features=sqrt, classifier__min_samples_leaf=4, classifier__min_samples_split=10, classifier__n_estimators=100; total time=   0.3s\n",
      "[CV] END classifier__class_weight=balanced, classifier__max_depth=10, classifier__max_features=sqrt, classifier__min_samples_leaf=2, classifier__min_samples_split=10, classifier__n_estimators=50; total time=   0.2s\n",
      "[CV] END classifier__class_weight=balanced, classifier__max_depth=10, classifier__max_features=sqrt, classifier__min_samples_leaf=2, classifier__min_samples_split=10, classifier__n_estimators=50; total time=   0.2s\n",
      "[CV] END classifier__class_weight=balanced, classifier__max_depth=10, classifier__max_features=sqrt, classifier__min_samples_leaf=2, classifier__min_samples_split=10, classifier__n_estimators=50; total time=   0.2s\n",
      "[CV] END classifier__class_weight=balanced, classifier__max_depth=10, classifier__max_features=sqrt, classifier__min_samples_leaf=2, classifier__min_samples_split=5, classifier__n_estimators=100; total time=   0.3s\n",
      "[CV] END classifier__class_weight=balanced, classifier__max_depth=10, classifier__max_features=sqrt, classifier__min_samples_leaf=2, classifier__min_samples_split=5, classifier__n_estimators=100; total time=   0.3s\n",
      "[CV] END classifier__class_weight=balanced, classifier__max_depth=10, classifier__max_features=sqrt, classifier__min_samples_leaf=2, classifier__min_samples_split=5, classifier__n_estimators=100; total time=   0.3s\n",
      "[CV] END classifier__class_weight=balanced, classifier__max_depth=10, classifier__max_features=sqrt, classifier__min_samples_leaf=2, classifier__min_samples_split=10, classifier__n_estimators=100; total time=   0.3s\n",
      "[CV] END classifier__class_weight=balanced, classifier__max_depth=10, classifier__max_features=sqrt, classifier__min_samples_leaf=4, classifier__min_samples_split=5, classifier__n_estimators=50; total time=   0.2s\n",
      "[CV] END classifier__class_weight=balanced, classifier__max_depth=10, classifier__max_features=sqrt, classifier__min_samples_leaf=4, classifier__min_samples_split=5, classifier__n_estimators=50; total time=   0.2s\n",
      "[CV] END classifier__class_weight=balanced, classifier__max_depth=10, classifier__max_features=sqrt, classifier__min_samples_leaf=4, classifier__min_samples_split=5, classifier__n_estimators=50; total time=   0.2s\n",
      "[CV] END classifier__class_weight=balanced, classifier__max_depth=10, classifier__max_features=sqrt, classifier__min_samples_leaf=2, classifier__min_samples_split=10, classifier__n_estimators=100; total time=   0.3s\n",
      "[CV] END classifier__class_weight=balanced, classifier__max_depth=10, classifier__max_features=sqrt, classifier__min_samples_leaf=2, classifier__min_samples_split=10, classifier__n_estimators=100; total time=   0.3s\n",
      "[CV] END classifier__class_weight=balanced, classifier__max_depth=10, classifier__max_features=sqrt, classifier__min_samples_leaf=4, classifier__min_samples_split=10, classifier__n_estimators=50; total time=   0.2s\n",
      "[CV] END classifier__class_weight=balanced, classifier__max_depth=10, classifier__max_features=sqrt, classifier__min_samples_leaf=4, classifier__min_samples_split=5, classifier__n_estimators=100; total time=   0.3s\n",
      "[CV] END classifier__class_weight=balanced, classifier__max_depth=10, classifier__max_features=sqrt, classifier__min_samples_leaf=4, classifier__min_samples_split=10, classifier__n_estimators=50; total time=   0.2s\n",
      "[CV] END classifier__class_weight=balanced, classifier__max_depth=10, classifier__max_features=sqrt, classifier__min_samples_leaf=4, classifier__min_samples_split=10, classifier__n_estimators=50; total time=   0.2s\n",
      "[CV] END classifier__class_weight=balanced, classifier__max_depth=10, classifier__max_features=sqrt, classifier__min_samples_leaf=4, classifier__min_samples_split=5, classifier__n_estimators=100; total time=   0.3s\n",
      "[CV] END classifier__class_weight=balanced, classifier__max_depth=10, classifier__max_features=sqrt, classifier__min_samples_leaf=4, classifier__min_samples_split=5, classifier__n_estimators=100; total time=   0.3s\n",
      "[CV] END classifier__class_weight=balanced, classifier__max_depth=10, classifier__max_features=sqrt, classifier__min_samples_leaf=4, classifier__min_samples_split=10, classifier__n_estimators=100; total time=   0.3s\n",
      "[CV] END classifier__class_weight=balanced, classifier__max_depth=15, classifier__max_features=sqrt, classifier__min_samples_leaf=2, classifier__min_samples_split=5, classifier__n_estimators=50; total time=   0.2s\n",
      "[CV] END classifier__class_weight=balanced, classifier__max_depth=15, classifier__max_features=sqrt, classifier__min_samples_leaf=2, classifier__min_samples_split=5, classifier__n_estimators=50; total time=   0.2s\n",
      "[CV] END classifier__class_weight=balanced, classifier__max_depth=10, classifier__max_features=sqrt, classifier__min_samples_leaf=4, classifier__min_samples_split=10, classifier__n_estimators=100; total time=   0.3s\n",
      "[CV] END classifier__class_weight=balanced, classifier__max_depth=10, classifier__max_features=sqrt, classifier__min_samples_leaf=4, classifier__min_samples_split=10, classifier__n_estimators=100; total time=   0.3s\n",
      "[CV] END classifier__class_weight=balanced, classifier__max_depth=15, classifier__max_features=sqrt, classifier__min_samples_leaf=2, classifier__min_samples_split=5, classifier__n_estimators=50; total time=   0.3s\n",
      "[CV] END classifier__class_weight=balanced, classifier__max_depth=15, classifier__max_features=sqrt, classifier__min_samples_leaf=2, classifier__min_samples_split=5, classifier__n_estimators=100; total time=   0.3s\n",
      "[CV] END classifier__class_weight=balanced, classifier__max_depth=15, classifier__max_features=sqrt, classifier__min_samples_leaf=2, classifier__min_samples_split=10, classifier__n_estimators=50; total time=   0.2s\n",
      "[CV] END classifier__class_weight=balanced, classifier__max_depth=15, classifier__max_features=sqrt, classifier__min_samples_leaf=2, classifier__min_samples_split=10, classifier__n_estimators=50; total time=   0.2s\n",
      "[CV] END classifier__class_weight=balanced, classifier__max_depth=15, classifier__max_features=sqrt, classifier__min_samples_leaf=2, classifier__min_samples_split=10, classifier__n_estimators=50; total time=   0.2s\n",
      "[CV] END classifier__class_weight=balanced, classifier__max_depth=15, classifier__max_features=sqrt, classifier__min_samples_leaf=2, classifier__min_samples_split=5, classifier__n_estimators=100; total time=   0.3s\n",
      "[CV] END classifier__class_weight=balanced, classifier__max_depth=15, classifier__max_features=sqrt, classifier__min_samples_leaf=2, classifier__min_samples_split=5, classifier__n_estimators=100; total time=   0.4s\n",
      "[CV] END classifier__class_weight=balanced, classifier__max_depth=15, classifier__max_features=sqrt, classifier__min_samples_leaf=4, classifier__min_samples_split=5, classifier__n_estimators=50; total time=   0.2s\n",
      "[CV] END classifier__class_weight=balanced, classifier__max_depth=15, classifier__max_features=sqrt, classifier__min_samples_leaf=4, classifier__min_samples_split=5, classifier__n_estimators=50; total time=   0.2s\n",
      "[CV] END classifier__class_weight=balanced, classifier__max_depth=15, classifier__max_features=sqrt, classifier__min_samples_leaf=4, classifier__min_samples_split=5, classifier__n_estimators=50; total time=   0.2s\n",
      "[CV] END classifier__class_weight=balanced, classifier__max_depth=15, classifier__max_features=sqrt, classifier__min_samples_leaf=2, classifier__min_samples_split=10, classifier__n_estimators=100; total time=   0.3s\n",
      "[CV] END classifier__class_weight=balanced, classifier__max_depth=15, classifier__max_features=sqrt, classifier__min_samples_leaf=2, classifier__min_samples_split=10, classifier__n_estimators=100; total time=   0.3s\n",
      "[CV] END classifier__class_weight=balanced, classifier__max_depth=15, classifier__max_features=sqrt, classifier__min_samples_leaf=2, classifier__min_samples_split=10, classifier__n_estimators=100; total time=   0.4s\n",
      "[CV] END classifier__class_weight=balanced, classifier__max_depth=15, classifier__max_features=sqrt, classifier__min_samples_leaf=4, classifier__min_samples_split=10, classifier__n_estimators=50; total time=   0.2s\n",
      "[CV] END classifier__class_weight=balanced, classifier__max_depth=15, classifier__max_features=sqrt, classifier__min_samples_leaf=4, classifier__min_samples_split=10, classifier__n_estimators=50; total time=   0.2s\n",
      "[CV] END classifier__class_weight=balanced, classifier__max_depth=15, classifier__max_features=sqrt, classifier__min_samples_leaf=4, classifier__min_samples_split=5, classifier__n_estimators=100; total time=   0.3s\n",
      "[CV] END classifier__class_weight=balanced, classifier__max_depth=15, classifier__max_features=sqrt, classifier__min_samples_leaf=4, classifier__min_samples_split=10, classifier__n_estimators=50; total time=   0.2s\n",
      "[CV] END classifier__class_weight=balanced, classifier__max_depth=15, classifier__max_features=sqrt, classifier__min_samples_leaf=4, classifier__min_samples_split=5, classifier__n_estimators=100; total time=   0.3s\n",
      "[CV] END classifier__class_weight=balanced, classifier__max_depth=15, classifier__max_features=sqrt, classifier__min_samples_leaf=4, classifier__min_samples_split=5, classifier__n_estimators=100; total time=   0.3s\n",
      "[CV] END classifier__class_weight=balanced, classifier__max_depth=15, classifier__max_features=sqrt, classifier__min_samples_leaf=4, classifier__min_samples_split=10, classifier__n_estimators=100; total time=   0.3s\n",
      "[CV] END classifier__class_weight=balanced, classifier__max_depth=15, classifier__max_features=sqrt, classifier__min_samples_leaf=4, classifier__min_samples_split=10, classifier__n_estimators=100; total time=   0.3s\n",
      "[CV] END classifier__class_weight=balanced, classifier__max_depth=15, classifier__max_features=sqrt, classifier__min_samples_leaf=4, classifier__min_samples_split=10, classifier__n_estimators=100; total time=   0.2s\n",
      "Best Parameters: {'classifier__class_weight': None, 'classifier__max_depth': None, 'classifier__max_features': 'sqrt', 'classifier__min_samples_leaf': 2, 'classifier__min_samples_split': 10, 'classifier__n_estimators': 100}\n",
      "Best Validation AUC-ROC: 0.8732012233960703\n"
     ]
    }
   ],
   "source": [
    "# Finding best params for RF Model\n",
    "\n",
    "param_grid_rf = {\n",
    "    'classifier__n_estimators': [50, 100],\n",
    "    'classifier__max_depth': [None, 10, 15],\n",
    "    'classifier__min_samples_split': [5, 10],\n",
    "    'classifier__min_samples_leaf': [2, 4],\n",
    "    'classifier__max_features': ['sqrt'],\n",
    "    'classifier__class_weight': [None, 'balanced']\n",
    "}\n",
    "\n",
    "rf_grid = GridSearchCV(\n",
    "    rf_pipeline,\n",
    "    param_grid_rf,\n",
    "    scoring='roc_auc',\n",
    "    cv=3,\n",
    "    n_jobs=-1,\n",
    "    verbose=2\n",
    ")\n",
    "\n",
    "rf_grid.fit(X_train, y_train)\n",
    "\n",
    "print(\"Best Parameters:\", rf_grid.best_params_)\n",
    "print(\"Best Validation AUC-ROC:\", rf_grid.best_score_)"
   ]
  },
  {
   "cell_type": "markdown",
   "metadata": {},
   "source": [
    " "
   ]
  },
  {
   "cell_type": "code",
   "execution_count": 162,
   "metadata": {},
   "outputs": [
    {
     "name": "stdout",
     "output_type": "stream",
     "text": [
      "Validation Accuracy: 0.86\n",
      "Validation AUC-ROC:  0.89\n"
     ]
    }
   ],
   "source": [
    "# Training the LR Model with best params\n",
    "\n",
    "best_rf = rf_grid.best_estimator_\n",
    "\n",
    "# Predict on validation set\n",
    "y_val_pred_bestrf = best_rf.predict(X_valid)\n",
    "y_val_proba_bestrf = best_rf.predict_proba(X_valid)[:, 1]\n",
    "\n",
    "val_acc_bestrf = accuracy_score(y_valid, y_val_pred_bestrf)\n",
    "val_auc_bestrf = roc_auc_score(y_valid, y_val_proba_bestrf)\n",
    "\n",
    "print(f\"Validation Accuracy: {val_acc_bestrf:.2f}\")\n",
    "print(f\"Validation AUC-ROC:  {val_auc_bestrf:.2f}\")"
   ]
  },
  {
   "cell_type": "markdown",
   "metadata": {},
   "source": [
    " "
   ]
  },
  {
   "cell_type": "markdown",
   "metadata": {},
   "source": [
    " "
   ]
  },
  {
   "cell_type": "markdown",
   "metadata": {},
   "source": [
    "## AUC-ROC Evaluation"
   ]
  },
  {
   "cell_type": "markdown",
   "metadata": {},
   "source": [
    "### LogisticRegression Test"
   ]
  },
  {
   "cell_type": "code",
   "execution_count": 167,
   "metadata": {},
   "outputs": [
    {
     "name": "stdout",
     "output_type": "stream",
     "text": [
      "Test Accuracy: 0.80\n",
      "Test AUC-ROC:  0.83\n"
     ]
    }
   ],
   "source": [
    "# AUC-ROC Evaluation on Test Set for LR\n",
    "\n",
    "# Predict on test set\n",
    "y_test_pred_lrtest = best_model_lr.predict(X_test)\n",
    "y_test_proba_lrtest = best_model_lr.predict_proba(X_test)[:, 1]\n",
    "\n",
    "test_acc_lrtest = accuracy_score(y_test, y_test_pred_lrtest)\n",
    "test_auc_lrtest = roc_auc_score(y_test, y_test_proba_lrtest)\n",
    "\n",
    "print(f\"Test Accuracy: {test_acc_lrtest:.2f}\")\n",
    "print(f\"Test AUC-ROC:  {test_auc_lrtest:.2f}\")"
   ]
  },
  {
   "cell_type": "markdown",
   "metadata": {},
   "source": [
    " "
   ]
  },
  {
   "cell_type": "markdown",
   "metadata": {},
   "source": [
    " "
   ]
  },
  {
   "cell_type": "markdown",
   "metadata": {},
   "source": [
    "### RandomForest Test"
   ]
  },
  {
   "cell_type": "code",
   "execution_count": 171,
   "metadata": {},
   "outputs": [
    {
     "name": "stdout",
     "output_type": "stream",
     "text": [
      "Test Accuracy: 0.84\n",
      "Test AUC-ROC:  0.87\n"
     ]
    }
   ],
   "source": [
    "# AUC-ROC Evaluation on Test Set for RF\n",
    "\n",
    "# Predict on test set\n",
    "y_test_pred_rftest = best_rf.predict(X_test)\n",
    "y_test_proba_rftest = best_rf.predict_proba(X_test)[:, 1]\n",
    "\n",
    "test_acc_rftest = accuracy_score(y_test, y_test_pred_rftest)\n",
    "test_auc_rftest = roc_auc_score(y_test, y_test_proba_rftest)\n",
    "\n",
    "print(f\"Test Accuracy: {test_acc_rftest:.2f}\")\n",
    "print(f\"Test AUC-ROC:  {test_auc_rftest:.2f}\")"
   ]
  },
  {
   "cell_type": "markdown",
   "metadata": {},
   "source": [
    " "
   ]
  },
  {
   "cell_type": "markdown",
   "metadata": {},
   "source": [
    " "
   ]
  },
  {
   "cell_type": "markdown",
   "metadata": {},
   "source": [
    "## Conclusions"
   ]
  },
  {
   "cell_type": "markdown",
   "metadata": {},
   "source": [
    "<div style=\"border: 2px solid black; padding: 10px; margin: 10px\">\n",
    "\n",
    "<b><u>Model Overview</b></u><br>\n",
    "We used a Logistic Regression model that was developed to predict customer churn based on \"pre-churn\" factors such as contract type, payment method, service subscriptions, and some demographic indicators.<br>\n",
    "All features were engineered to reflect information available <b>prior to churn</b>, preventing data leakage and ensuring that model performance represents a realistic predictive scenario.<br>\n",
    "We also compared the LR Model to a RandomForest Model and found that it did a much better job at predicting customer churn.\n",
    "<br><br>\n",
    "\n",
    "<b><u>Performance Summary (Test Data)</b></u><br>\n",
    "<u>LogisticRegression Model</u>\n",
    "<ul>\n",
    "    <li>Test Accuracy: &#8776;<b>0.80</b></li>\n",
    "    <li>Test AUC-ROC: &#8776;<b>0.85</b></li>\n",
    "</ul>\n",
    "<u>RandomForest Model</u>\n",
    "<ul>\n",
    "    <li>Test Accuracy: &#8776;<b>0.85</b></li>\n",
    "    <li>Test AUC-ROC: &#8776;<b>0.89</b></li>\n",
    "</ul>\n",
    "\n",
    "Based on the highest AUC score from our RF Model of 0.89, this suggests that the model captures underlying behavioral difference between customers who churn and those who stay. The model also demonstrates <b>strong discriminatory power</b>; it correctly distinguishes churned customers from retained ones 89% of the time.<br>\n",
    "\n",
    "Also, the close alignment between training and testing accuracy indicates <b>low overfitting</b> and solid generalization.\n",
    "<br><br>\n",
    "\n",
    "<b><u>Interpretation of Results</b></u><br>\n",
    "<ul>\n",
    "    <li>Customers on <b>month-to-month</b> contracts and those using <b>electronic check</b> payments are statistically more likely to churn.</li>\n",
    "    <li>Customers with <b>longer-term contract</b> or who subscribe to <b>multiple add-on services</b> (such as online security, device protection, etc.) show lower churn rates suggesting retention through bundled value.</li>\n",
    "</ul>\n",
    "<br>\n",
    "\n",
    "<u><b>Business Impact</b></u><br>\n",
    "<ul>\n",
    "    <li>The predictive accuracy and ROC performance indicate the model can be used as a <b>customer rick-scoring tool</b></li>\n",
    "    <li>This allows the company to know, ahead of time, whether a customer is \"at-risk\" and can proactively offer <u>loyalty discounts</u> or <u>service upgrades</u>.</li>\n",
    "    <li>Even just a small reduction in churn rate could help the company increase in recurring revenue significantly.</li>\n",
    "</ul>\n",
    "\n",
    "</div>"
   ]
  }
 ],
 "metadata": {
  "kernelspec": {
   "display_name": "Python [conda env:base] *",
   "language": "python",
   "name": "conda-base-py"
  },
  "language_info": {
   "codemirror_mode": {
    "name": "ipython",
    "version": 3
   },
   "file_extension": ".py",
   "mimetype": "text/x-python",
   "name": "python",
   "nbconvert_exporter": "python",
   "pygments_lexer": "ipython3",
   "version": "3.12.2"
  }
 },
 "nbformat": 4,
 "nbformat_minor": 4
}
