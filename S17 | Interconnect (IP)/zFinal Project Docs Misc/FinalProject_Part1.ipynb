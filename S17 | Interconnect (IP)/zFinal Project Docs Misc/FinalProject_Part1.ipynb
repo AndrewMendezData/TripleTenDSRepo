{
 "cells": [
  {
   "cell_type": "markdown",
   "metadata": {},
   "source": [
    "<div style=\"border: 5px solid purple; padding: 10px; margin: 5px\">\n",
    "<b> Svetlana's comment  </b>\n",
    "    \n",
    "\n",
    "Hi Andrew, it's Svetlana ([my TripleTen Hub Profile](https://hub.tripleten.com/u/6dee602c)).\n",
    "\n",
    "\n",
    "Thank you for submitting such a great plan! It has everything you need, so you can move on to the code part! :) \n",
    "\n",
    "\n",
    "\n",
    "I recommend using some more robust models apart from Log. Regression. Log Regression is a good start, but it may not be able to provide the desired metric value. \n",
    "\n",
    "<hr>\n",
    "\n",
    "Answers to your questions: \n",
    "\n",
    "\n",
    "\n",
    "\n",
    "- Are there any columns that I should remove? ('paperless_billing', for example seems irrelevant to the target we're looking for.)\n",
    "\n",
    "\n",
    "This is a question you should think about. If the column is indeed irrelevant (id or name columns, for instance, as they do not influence anything), then you definitely do not need it. Regarding `paperless_billing` it's hard to tell for sure. What if it turns out it is useful? You never know what influences the bahavior. Consider using all features first, except for those that cannot influence anything. Then train models without some features and compare the results.\n",
    "\n",
    "\n",
    "- Is the \"Interconnect\" company pushing for a specific service to be promoted the most out of all that they provide?\n",
    "\n",
    "Even if they do, it does not actually change anything in this task.\n",
    "\n",
    "\n",
    "- Should I train multiple models for this project?\n",
    "\n",
    "\n",
    "You need to achieve a specific metric value, like in real-life scenarios. If you can do this with one simple model, then it's great! There's no task to train a lot of model. In real life, you get the data and you need to train a model that makes predictions or classifies data correctly in some % of cases. So you main goal is usually to to tran a model (you choose models and the way you train them) that does this. The goal is not to train a specific model or to train several models. The goal is to train a model that yields a desired metric. Decision makers do not care about the models we choose or how many of them we train :)\n",
    "\n",
    "\n",
    "- Are multiple models typically tried in \"real-world\" scenarios when working through ML tasks?\n",
    "\n",
    "\n",
    "Of course. Real tasks are quite complicated and the data is huge and dirty. You sometimes deal with tasks nobody has done before, so you just don't know which model will guarantee a good result. So you have to try different models.\n",
    "\n",
    "\n",
    "- How much parameter tuning should I try before leaving the project?\n",
    "\n",
    "The task is about metric score, not about tuning. If you achieve the desired metric without tuning, then it's fine. \n",
    "</div>"
   ]
  },
  {
   "cell_type": "markdown",
   "metadata": {},
   "source": [
    "# Retaining Interconnect Clients"
   ]
  },
  {
   "cell_type": "markdown",
   "metadata": {},
   "source": [
    "The company \"Interconnect\" would like to be able to accurately forecast their churn of clients and hopefully reduce their churn rate. Their plan of action is to offer specialized promotions and plan options to those customers who are identified as possibly terminating their contracts. \n",
    "<br>\n",
    "\n",
    "The goal for this project is to train a model to accurately identify customers who might be deciding to leave the company so that Interconnect's marketing team can attempt to convince them to hold onto their contract and reduce churn rate."
   ]
  },
  {
   "cell_type": "markdown",
   "metadata": {},
   "source": [
    " "
   ]
  },
  {
   "cell_type": "markdown",
   "metadata": {},
   "source": [
    " "
   ]
  },
  {
   "cell_type": "markdown",
   "metadata": {},
   "source": [
    "## Initialization"
   ]
  },
  {
   "cell_type": "code",
   "execution_count": 1,
   "metadata": {},
   "outputs": [],
   "source": [
    "import pandas as pd\n"
   ]
  },
  {
   "cell_type": "code",
   "execution_count": 2,
   "metadata": {},
   "outputs": [],
   "source": [
    "# Constants\n"
   ]
  },
  {
   "cell_type": "markdown",
   "metadata": {},
   "source": [
    " "
   ]
  },
  {
   "cell_type": "markdown",
   "metadata": {},
   "source": [
    " "
   ]
  },
  {
   "cell_type": "markdown",
   "metadata": {},
   "source": [
    "## Preprocessing & EDA"
   ]
  },
  {
   "cell_type": "markdown",
   "metadata": {},
   "source": [
    "### Columns Formatting"
   ]
  },
  {
   "cell_type": "code",
   "execution_count": 3,
   "metadata": {},
   "outputs": [],
   "source": [
    "# Importing Data\n",
    "\n",
    "con_data = pd.read_csv('/datasets/final_provider/contract.csv')\n",
    "per_data = pd.read_csv('/datasets/final_provider/personal.csv')\n",
    "int_data = pd.read_csv('/datasets/final_provider/internet.csv')\n",
    "pho_data = pd.read_csv('/datasets/final_provider/phone.csv')"
   ]
  },
  {
   "cell_type": "code",
   "execution_count": 4,
   "metadata": {},
   "outputs": [],
   "source": [
    "# Formatting Columns\n",
    "\n",
    "con_data.columns = con_data.columns.str.replace(r'(?<=[a-z0-9])(?=[A-Z])|(?<=[A-Z])(?=[A-Z][a-z])', '_', regex=True).str.lower()\n",
    "per_data.columns = per_data.columns.str.replace(r'(?<=[a-z0-9])(?=[A-Z])|(?<=[A-Z])(?=[A-Z][a-z])', '_', regex=True).str.lower()\n",
    "int_data.columns = int_data.columns.str.replace(r'(?<=[a-z0-9])(?=[A-Z])|(?<=[A-Z])(?=[A-Z][a-z])', '_', regex=True).str.lower()\n",
    "pho_data.columns = pho_data.columns.str.replace(r'(?<=[a-z0-9])(?=[A-Z])|(?<=[A-Z])(?=[A-Z][a-z])', '_', regex=True).str.lower()"
   ]
  },
  {
   "cell_type": "code",
   "execution_count": 5,
   "metadata": {},
   "outputs": [
    {
     "name": "stdout",
     "output_type": "stream",
     "text": [
      "Contract Data\n",
      "Index(['customer_id', 'begin_date', 'end_date', 'type', 'paperless_billing',\n",
      "       'payment_method', 'monthly_charges', 'total_charges'],\n",
      "      dtype='object')\n",
      "\n",
      "Personal Data\n",
      "Index(['customer_id', 'gender', 'senior_citizen', 'partner', 'dependents'], dtype='object')\n",
      "\n",
      "Internet Data\n",
      "Index(['customer_id', 'internet_service', 'online_security', 'online_backup',\n",
      "       'device_protection', 'tech_support', 'streaming_tv',\n",
      "       'streaming_movies'],\n",
      "      dtype='object')\n",
      "\n",
      "Phone Data\n",
      "Index(['customer_id', 'multiple_lines'], dtype='object')\n"
     ]
    }
   ],
   "source": [
    "# Validating changes to column names\n",
    "\n",
    "print(\"Contract Data\")\n",
    "print(con_data.columns)\n",
    "print()\n",
    "\n",
    "print(\"Personal Data\")\n",
    "print(per_data.columns)\n",
    "print()\n",
    "\n",
    "print(\"Internet Data\")\n",
    "print(int_data.columns)\n",
    "print()\n",
    "\n",
    "print(\"Phone Data\")\n",
    "print(pho_data.columns)"
   ]
  },
  {
   "cell_type": "markdown",
   "metadata": {},
   "source": [
    "<div style=\"border: 2px solid black; padding: 10px; margin: 10px\">\n",
    "\n",
    "I started with formatting the columns in each data set to avoid any unnecessary complications that could arise later due to formatting issues. Adjusted the Regex Code above to make sure the \"ID\" and \"TV\" were separated as one word and not formatted with any extra underscores.\n",
    "<br>\n",
    "\n",
    "Columns look great! Moving on to finding duplicates.\n",
    "\n",
    "</div>"
   ]
  },
  {
   "cell_type": "markdown",
   "metadata": {},
   "source": [
    " "
   ]
  },
  {
   "cell_type": "markdown",
   "metadata": {},
   "source": [
    " "
   ]
  },
  {
   "cell_type": "markdown",
   "metadata": {
    "jp-MarkdownHeadingCollapsed": true
   },
   "source": [
    "### Duplicates"
   ]
  },
  {
   "cell_type": "markdown",
   "metadata": {},
   "source": [
    "#### Contract Data"
   ]
  },
  {
   "cell_type": "code",
   "execution_count": 14,
   "metadata": {},
   "outputs": [
    {
     "name": "stdout",
     "output_type": "stream",
     "text": [
      "Contract Data\n",
      "=========================================================================\n"
     ]
    },
    {
     "data": {
      "text/html": [
       "<div>\n",
       "<style scoped>\n",
       "    .dataframe tbody tr th:only-of-type {\n",
       "        vertical-align: middle;\n",
       "    }\n",
       "\n",
       "    .dataframe tbody tr th {\n",
       "        vertical-align: top;\n",
       "    }\n",
       "\n",
       "    .dataframe thead th {\n",
       "        text-align: right;\n",
       "    }\n",
       "</style>\n",
       "<table border=\"1\" class=\"dataframe\">\n",
       "  <thead>\n",
       "    <tr style=\"text-align: right;\">\n",
       "      <th></th>\n",
       "      <th>duplicates_count</th>\n",
       "      <th>duplicates_percent</th>\n",
       "      <th>unique_values</th>\n",
       "      <th>total_rows</th>\n",
       "    </tr>\n",
       "  </thead>\n",
       "  <tbody>\n",
       "    <tr>\n",
       "      <th>customer_id</th>\n",
       "      <td>0</td>\n",
       "      <td>0.000000</td>\n",
       "      <td>7043</td>\n",
       "      <td>7043</td>\n",
       "    </tr>\n",
       "    <tr>\n",
       "      <th>begin_date</th>\n",
       "      <td>6966</td>\n",
       "      <td>98.906716</td>\n",
       "      <td>77</td>\n",
       "      <td>7043</td>\n",
       "    </tr>\n",
       "    <tr>\n",
       "      <th>end_date</th>\n",
       "      <td>7038</td>\n",
       "      <td>99.929008</td>\n",
       "      <td>5</td>\n",
       "      <td>7043</td>\n",
       "    </tr>\n",
       "    <tr>\n",
       "      <th>type</th>\n",
       "      <td>7040</td>\n",
       "      <td>99.957405</td>\n",
       "      <td>3</td>\n",
       "      <td>7043</td>\n",
       "    </tr>\n",
       "    <tr>\n",
       "      <th>paperless_billing</th>\n",
       "      <td>7041</td>\n",
       "      <td>99.971603</td>\n",
       "      <td>2</td>\n",
       "      <td>7043</td>\n",
       "    </tr>\n",
       "    <tr>\n",
       "      <th>payment_method</th>\n",
       "      <td>7039</td>\n",
       "      <td>99.943206</td>\n",
       "      <td>4</td>\n",
       "      <td>7043</td>\n",
       "    </tr>\n",
       "    <tr>\n",
       "      <th>monthly_charges</th>\n",
       "      <td>5458</td>\n",
       "      <td>77.495385</td>\n",
       "      <td>1585</td>\n",
       "      <td>7043</td>\n",
       "    </tr>\n",
       "    <tr>\n",
       "      <th>total_charges</th>\n",
       "      <td>512</td>\n",
       "      <td>7.269629</td>\n",
       "      <td>6531</td>\n",
       "      <td>7043</td>\n",
       "    </tr>\n",
       "  </tbody>\n",
       "</table>\n",
       "</div>"
      ],
      "text/plain": [
       "                   duplicates_count  duplicates_percent  unique_values  \\\n",
       "customer_id                       0            0.000000           7043   \n",
       "begin_date                     6966           98.906716             77   \n",
       "end_date                       7038           99.929008              5   \n",
       "type                           7040           99.957405              3   \n",
       "paperless_billing              7041           99.971603              2   \n",
       "payment_method                 7039           99.943206              4   \n",
       "monthly_charges                5458           77.495385           1585   \n",
       "total_charges                   512            7.269629           6531   \n",
       "\n",
       "                   total_rows  \n",
       "customer_id              7043  \n",
       "begin_date               7043  \n",
       "end_date                 7043  \n",
       "type                     7043  \n",
       "paperless_billing        7043  \n",
       "payment_method           7043  \n",
       "monthly_charges          7043  \n",
       "total_charges            7043  "
      ]
     },
     "execution_count": 14,
     "metadata": {},
     "output_type": "execute_result"
    }
   ],
   "source": [
    "# Contract Data\n",
    "\n",
    "print(\"Contract Data\")\n",
    "print(\"=========================================================================\")\n",
    "\n",
    "duplicate_summary_con = pd.DataFrame({\n",
    "    \"duplicates_count\": [con_data[col].duplicated().sum() for col in con_data.columns],\n",
    "    \"duplicates_percent\": [con_data[col].duplicated().mean() * 100 for col in con_data.columns],\n",
    "    \"unique_values\": [con_data[col].nunique() for col in con_data.columns],\n",
    "    \"total_rows\": len(con_data)\n",
    "}, index=con_data.columns)\n",
    "\n",
    "duplicate_summary_con"
   ]
  },
  {
   "cell_type": "markdown",
   "metadata": {},
   "source": [
    "<div style=\"border: 2px solid black; padding: 10px; margin: 10px\">\n",
    "\n",
    "While looking at our duplicate data for the **Contract Data** set, we see there are a high rate of duplicates for `begin_date`, `end_date`, `type`, `paperless_billing`, and `payment_method`. Each of these, though, also only have a few unique values (except for `begin_date`). The others with 2-5 unique values have duplicates because of the nature of the amount of possibilities that exist for that column. In terms of `begin_date`, there could have been a promotion going on that was able to capture more customers at one time, so seeing a high percentage in this column is also expected.\n",
    "<br>\n",
    "\n",
    "We're also confirming that there are 7,043 unique customer ID's.\n",
    "<br>\n",
    "\n",
    "For this dataset, we will leave all the duplicates present as they are important pieces of information that we'll use to train our model.\n",
    "\n",
    "</div>"
   ]
  },
  {
   "cell_type": "markdown",
   "metadata": {},
   "source": [
    " "
   ]
  },
  {
   "cell_type": "markdown",
   "metadata": {},
   "source": [
    " "
   ]
  },
  {
   "cell_type": "markdown",
   "metadata": {},
   "source": [
    "#### Personal Data"
   ]
  },
  {
   "cell_type": "code",
   "execution_count": 15,
   "metadata": {},
   "outputs": [
    {
     "name": "stdout",
     "output_type": "stream",
     "text": [
      "Personal Data\n",
      "=========================================================================\n"
     ]
    },
    {
     "data": {
      "text/html": [
       "<div>\n",
       "<style scoped>\n",
       "    .dataframe tbody tr th:only-of-type {\n",
       "        vertical-align: middle;\n",
       "    }\n",
       "\n",
       "    .dataframe tbody tr th {\n",
       "        vertical-align: top;\n",
       "    }\n",
       "\n",
       "    .dataframe thead th {\n",
       "        text-align: right;\n",
       "    }\n",
       "</style>\n",
       "<table border=\"1\" class=\"dataframe\">\n",
       "  <thead>\n",
       "    <tr style=\"text-align: right;\">\n",
       "      <th></th>\n",
       "      <th>duplicates_count</th>\n",
       "      <th>duplicates_percent</th>\n",
       "      <th>unique_values</th>\n",
       "      <th>total_rows</th>\n",
       "    </tr>\n",
       "  </thead>\n",
       "  <tbody>\n",
       "    <tr>\n",
       "      <th>customer_id</th>\n",
       "      <td>0</td>\n",
       "      <td>0.000000</td>\n",
       "      <td>7043</td>\n",
       "      <td>7043</td>\n",
       "    </tr>\n",
       "    <tr>\n",
       "      <th>gender</th>\n",
       "      <td>7041</td>\n",
       "      <td>99.971603</td>\n",
       "      <td>2</td>\n",
       "      <td>7043</td>\n",
       "    </tr>\n",
       "    <tr>\n",
       "      <th>senior_citizen</th>\n",
       "      <td>7041</td>\n",
       "      <td>99.971603</td>\n",
       "      <td>2</td>\n",
       "      <td>7043</td>\n",
       "    </tr>\n",
       "    <tr>\n",
       "      <th>partner</th>\n",
       "      <td>7041</td>\n",
       "      <td>99.971603</td>\n",
       "      <td>2</td>\n",
       "      <td>7043</td>\n",
       "    </tr>\n",
       "    <tr>\n",
       "      <th>dependents</th>\n",
       "      <td>7041</td>\n",
       "      <td>99.971603</td>\n",
       "      <td>2</td>\n",
       "      <td>7043</td>\n",
       "    </tr>\n",
       "  </tbody>\n",
       "</table>\n",
       "</div>"
      ],
      "text/plain": [
       "                duplicates_count  duplicates_percent  unique_values  \\\n",
       "customer_id                    0            0.000000           7043   \n",
       "gender                      7041           99.971603              2   \n",
       "senior_citizen              7041           99.971603              2   \n",
       "partner                     7041           99.971603              2   \n",
       "dependents                  7041           99.971603              2   \n",
       "\n",
       "                total_rows  \n",
       "customer_id           7043  \n",
       "gender                7043  \n",
       "senior_citizen        7043  \n",
       "partner               7043  \n",
       "dependents            7043  "
      ]
     },
     "execution_count": 15,
     "metadata": {},
     "output_type": "execute_result"
    }
   ],
   "source": [
    "# Personal Data\n",
    "\n",
    "print(\"Personal Data\")\n",
    "print(\"=========================================================================\")\n",
    "\n",
    "duplicate_summary_per = pd.DataFrame({\n",
    "    \"duplicates_count\": [per_data[col].duplicated().sum() for col in per_data.columns],\n",
    "    \"duplicates_percent\": [per_data[col].duplicated().mean() * 100 for col in per_data.columns],\n",
    "    \"unique_values\": [per_data[col].nunique() for col in per_data.columns],\n",
    "    \"total_rows\": len(per_data)\n",
    "}, index=per_data.columns)\n",
    "\n",
    "duplicate_summary_per"
   ]
  },
  {
   "cell_type": "markdown",
   "metadata": {},
   "source": [
    "<div style=\"border: 2px solid black; padding: 10px; margin: 10px\">\n",
    "\n",
    "In our **Personal Data** set, we're again seeing unique `customer_id`'s, and based on the number of unique values, and the information they represent, we can leave these duplicates for this dataset as well since they hold important information that can help inform our model later on.\n",
    "\n",
    "</div>"
   ]
  },
  {
   "cell_type": "markdown",
   "metadata": {},
   "source": [
    " "
   ]
  },
  {
   "cell_type": "markdown",
   "metadata": {},
   "source": [
    " "
   ]
  },
  {
   "cell_type": "markdown",
   "metadata": {},
   "source": [
    "#### Internet Data"
   ]
  },
  {
   "cell_type": "code",
   "execution_count": 16,
   "metadata": {},
   "outputs": [
    {
     "name": "stdout",
     "output_type": "stream",
     "text": [
      "Internet Data\n",
      "=========================================================================\n"
     ]
    },
    {
     "data": {
      "text/html": [
       "<div>\n",
       "<style scoped>\n",
       "    .dataframe tbody tr th:only-of-type {\n",
       "        vertical-align: middle;\n",
       "    }\n",
       "\n",
       "    .dataframe tbody tr th {\n",
       "        vertical-align: top;\n",
       "    }\n",
       "\n",
       "    .dataframe thead th {\n",
       "        text-align: right;\n",
       "    }\n",
       "</style>\n",
       "<table border=\"1\" class=\"dataframe\">\n",
       "  <thead>\n",
       "    <tr style=\"text-align: right;\">\n",
       "      <th></th>\n",
       "      <th>duplicates_count</th>\n",
       "      <th>duplicates_percent</th>\n",
       "      <th>unique_values</th>\n",
       "      <th>total_rows</th>\n",
       "    </tr>\n",
       "  </thead>\n",
       "  <tbody>\n",
       "    <tr>\n",
       "      <th>customer_id</th>\n",
       "      <td>0</td>\n",
       "      <td>0.000000</td>\n",
       "      <td>5517</td>\n",
       "      <td>5517</td>\n",
       "    </tr>\n",
       "    <tr>\n",
       "      <th>internet_service</th>\n",
       "      <td>5515</td>\n",
       "      <td>99.963748</td>\n",
       "      <td>2</td>\n",
       "      <td>5517</td>\n",
       "    </tr>\n",
       "    <tr>\n",
       "      <th>online_security</th>\n",
       "      <td>5515</td>\n",
       "      <td>99.963748</td>\n",
       "      <td>2</td>\n",
       "      <td>5517</td>\n",
       "    </tr>\n",
       "    <tr>\n",
       "      <th>online_backup</th>\n",
       "      <td>5515</td>\n",
       "      <td>99.963748</td>\n",
       "      <td>2</td>\n",
       "      <td>5517</td>\n",
       "    </tr>\n",
       "    <tr>\n",
       "      <th>device_protection</th>\n",
       "      <td>5515</td>\n",
       "      <td>99.963748</td>\n",
       "      <td>2</td>\n",
       "      <td>5517</td>\n",
       "    </tr>\n",
       "    <tr>\n",
       "      <th>tech_support</th>\n",
       "      <td>5515</td>\n",
       "      <td>99.963748</td>\n",
       "      <td>2</td>\n",
       "      <td>5517</td>\n",
       "    </tr>\n",
       "    <tr>\n",
       "      <th>streaming_tv</th>\n",
       "      <td>5515</td>\n",
       "      <td>99.963748</td>\n",
       "      <td>2</td>\n",
       "      <td>5517</td>\n",
       "    </tr>\n",
       "    <tr>\n",
       "      <th>streaming_movies</th>\n",
       "      <td>5515</td>\n",
       "      <td>99.963748</td>\n",
       "      <td>2</td>\n",
       "      <td>5517</td>\n",
       "    </tr>\n",
       "  </tbody>\n",
       "</table>\n",
       "</div>"
      ],
      "text/plain": [
       "                   duplicates_count  duplicates_percent  unique_values  \\\n",
       "customer_id                       0            0.000000           5517   \n",
       "internet_service               5515           99.963748              2   \n",
       "online_security                5515           99.963748              2   \n",
       "online_backup                  5515           99.963748              2   \n",
       "device_protection              5515           99.963748              2   \n",
       "tech_support                   5515           99.963748              2   \n",
       "streaming_tv                   5515           99.963748              2   \n",
       "streaming_movies               5515           99.963748              2   \n",
       "\n",
       "                   total_rows  \n",
       "customer_id              5517  \n",
       "internet_service         5517  \n",
       "online_security          5517  \n",
       "online_backup            5517  \n",
       "device_protection        5517  \n",
       "tech_support             5517  \n",
       "streaming_tv             5517  \n",
       "streaming_movies         5517  "
      ]
     },
     "execution_count": 16,
     "metadata": {},
     "output_type": "execute_result"
    }
   ],
   "source": [
    "# Internet Data\n",
    "\n",
    "print(\"Internet Data\")\n",
    "print(\"=========================================================================\")\n",
    "\n",
    "duplicate_summary_int = pd.DataFrame({\n",
    "    \"duplicates_count\": [int_data[col].duplicated().sum() for col in int_data.columns],\n",
    "    \"duplicates_percent\": [int_data[col].duplicated().mean() * 100 for col in int_data.columns],\n",
    "    \"unique_values\": [int_data[col].nunique() for col in int_data.columns],\n",
    "    \"total_rows\": len(int_data)\n",
    "}, index=int_data.columns)\n",
    "\n",
    "duplicate_summary_int"
   ]
  },
  {
   "cell_type": "markdown",
   "metadata": {},
   "source": [
    "<div style=\"border: 2px solid black; padding: 10px; margin: 10px\">\n",
    "\n",
    "We're seeing a similar scenario here in our **Internet Data** set; the duplicates are intentional and we will keep them for training.\n",
    "\n",
    "</div>"
   ]
  },
  {
   "cell_type": "markdown",
   "metadata": {},
   "source": [
    " "
   ]
  },
  {
   "cell_type": "markdown",
   "metadata": {},
   "source": [
    " "
   ]
  },
  {
   "cell_type": "markdown",
   "metadata": {},
   "source": [
    "#### Phone Data"
   ]
  },
  {
   "cell_type": "code",
   "execution_count": 17,
   "metadata": {},
   "outputs": [
    {
     "name": "stdout",
     "output_type": "stream",
     "text": [
      "Phone Data\n",
      "=========================================================================\n"
     ]
    },
    {
     "data": {
      "text/html": [
       "<div>\n",
       "<style scoped>\n",
       "    .dataframe tbody tr th:only-of-type {\n",
       "        vertical-align: middle;\n",
       "    }\n",
       "\n",
       "    .dataframe tbody tr th {\n",
       "        vertical-align: top;\n",
       "    }\n",
       "\n",
       "    .dataframe thead th {\n",
       "        text-align: right;\n",
       "    }\n",
       "</style>\n",
       "<table border=\"1\" class=\"dataframe\">\n",
       "  <thead>\n",
       "    <tr style=\"text-align: right;\">\n",
       "      <th></th>\n",
       "      <th>duplicates_count</th>\n",
       "      <th>duplicates_percent</th>\n",
       "      <th>unique_values</th>\n",
       "      <th>total_rows</th>\n",
       "    </tr>\n",
       "  </thead>\n",
       "  <tbody>\n",
       "    <tr>\n",
       "      <th>customer_id</th>\n",
       "      <td>0</td>\n",
       "      <td>0.000000</td>\n",
       "      <td>6361</td>\n",
       "      <td>6361</td>\n",
       "    </tr>\n",
       "    <tr>\n",
       "      <th>multiple_lines</th>\n",
       "      <td>6359</td>\n",
       "      <td>99.968558</td>\n",
       "      <td>2</td>\n",
       "      <td>6361</td>\n",
       "    </tr>\n",
       "  </tbody>\n",
       "</table>\n",
       "</div>"
      ],
      "text/plain": [
       "                duplicates_count  duplicates_percent  unique_values  \\\n",
       "customer_id                    0            0.000000           6361   \n",
       "multiple_lines              6359           99.968558              2   \n",
       "\n",
       "                total_rows  \n",
       "customer_id           6361  \n",
       "multiple_lines        6361  "
      ]
     },
     "execution_count": 17,
     "metadata": {},
     "output_type": "execute_result"
    }
   ],
   "source": [
    "# Phone Data\n",
    "\n",
    "print(\"Phone Data\")\n",
    "print(\"=========================================================================\")\n",
    "\n",
    "duplicate_summary_pho = pd.DataFrame({\n",
    "    \"duplicates_count\": [pho_data[col].duplicated().sum() for col in pho_data.columns],\n",
    "    \"duplicates_percent\": [pho_data[col].duplicated().mean() * 100 for col in pho_data.columns],\n",
    "    \"unique_values\": [pho_data[col].nunique() for col in pho_data.columns],\n",
    "    \"total_rows\": len(pho_data)\n",
    "}, index=pho_data.columns)\n",
    "\n",
    "duplicate_summary_pho"
   ]
  },
  {
   "cell_type": "markdown",
   "metadata": {},
   "source": [
    "<div style=\"border: 2px solid black; padding: 10px; margin: 10px\">\n",
    "\n",
    "The duplicates in our **Phone Data** set are also intentional and will be left for training.\n",
    "<br>\n",
    "\n",
    "Next, we will uncover any missing values in our data.\n",
    "\n",
    "</div>"
   ]
  },
  {
   "cell_type": "markdown",
   "metadata": {},
   "source": [
    " "
   ]
  },
  {
   "cell_type": "markdown",
   "metadata": {},
   "source": [
    " "
   ]
  },
  {
   "cell_type": "markdown",
   "metadata": {
    "jp-MarkdownHeadingCollapsed": true
   },
   "source": [
    "### Missing Values"
   ]
  },
  {
   "cell_type": "markdown",
   "metadata": {},
   "source": [
    "#### Contract Data"
   ]
  },
  {
   "cell_type": "code",
   "execution_count": 21,
   "metadata": {},
   "outputs": [
    {
     "name": "stdout",
     "output_type": "stream",
     "text": [
      "Contract Data\n",
      "=========================================================================\n"
     ]
    },
    {
     "data": {
      "text/html": [
       "<div>\n",
       "<style scoped>\n",
       "    .dataframe tbody tr th:only-of-type {\n",
       "        vertical-align: middle;\n",
       "    }\n",
       "\n",
       "    .dataframe tbody tr th {\n",
       "        vertical-align: top;\n",
       "    }\n",
       "\n",
       "    .dataframe thead th {\n",
       "        text-align: right;\n",
       "    }\n",
       "</style>\n",
       "<table border=\"1\" class=\"dataframe\">\n",
       "  <thead>\n",
       "    <tr style=\"text-align: right;\">\n",
       "      <th></th>\n",
       "      <th>missing_count</th>\n",
       "      <th>missing_percent</th>\n",
       "      <th>unique_values</th>\n",
       "      <th>total_rows</th>\n",
       "    </tr>\n",
       "  </thead>\n",
       "  <tbody>\n",
       "    <tr>\n",
       "      <th>customer_id</th>\n",
       "      <td>0</td>\n",
       "      <td>0.0</td>\n",
       "      <td>7043</td>\n",
       "      <td>7043</td>\n",
       "    </tr>\n",
       "    <tr>\n",
       "      <th>begin_date</th>\n",
       "      <td>0</td>\n",
       "      <td>0.0</td>\n",
       "      <td>77</td>\n",
       "      <td>7043</td>\n",
       "    </tr>\n",
       "    <tr>\n",
       "      <th>end_date</th>\n",
       "      <td>0</td>\n",
       "      <td>0.0</td>\n",
       "      <td>5</td>\n",
       "      <td>7043</td>\n",
       "    </tr>\n",
       "    <tr>\n",
       "      <th>type</th>\n",
       "      <td>0</td>\n",
       "      <td>0.0</td>\n",
       "      <td>3</td>\n",
       "      <td>7043</td>\n",
       "    </tr>\n",
       "    <tr>\n",
       "      <th>paperless_billing</th>\n",
       "      <td>0</td>\n",
       "      <td>0.0</td>\n",
       "      <td>2</td>\n",
       "      <td>7043</td>\n",
       "    </tr>\n",
       "    <tr>\n",
       "      <th>payment_method</th>\n",
       "      <td>0</td>\n",
       "      <td>0.0</td>\n",
       "      <td>4</td>\n",
       "      <td>7043</td>\n",
       "    </tr>\n",
       "    <tr>\n",
       "      <th>monthly_charges</th>\n",
       "      <td>0</td>\n",
       "      <td>0.0</td>\n",
       "      <td>1585</td>\n",
       "      <td>7043</td>\n",
       "    </tr>\n",
       "    <tr>\n",
       "      <th>total_charges</th>\n",
       "      <td>0</td>\n",
       "      <td>0.0</td>\n",
       "      <td>6531</td>\n",
       "      <td>7043</td>\n",
       "    </tr>\n",
       "  </tbody>\n",
       "</table>\n",
       "</div>"
      ],
      "text/plain": [
       "                   missing_count  missing_percent  unique_values  total_rows\n",
       "customer_id                    0              0.0           7043        7043\n",
       "begin_date                     0              0.0             77        7043\n",
       "end_date                       0              0.0              5        7043\n",
       "type                           0              0.0              3        7043\n",
       "paperless_billing              0              0.0              2        7043\n",
       "payment_method                 0              0.0              4        7043\n",
       "monthly_charges                0              0.0           1585        7043\n",
       "total_charges                  0              0.0           6531        7043"
      ]
     },
     "execution_count": 21,
     "metadata": {},
     "output_type": "execute_result"
    }
   ],
   "source": [
    "# Contract Data\n",
    "\n",
    "print(\"Contract Data\")\n",
    "print(\"=========================================================================\")\n",
    "\n",
    "na_sum_con = pd.DataFrame({\n",
    "    \"missing_count\": con_data.isna().sum(),\n",
    "    \"missing_percent\": (con_data.isna().mean() * 100).round(2),\n",
    "    \"unique_values\": con_data.nunique(),\n",
    "    \"total_rows\": len(con_data)\n",
    "})\n",
    "\n",
    "# Sorting values by missing value count\n",
    "na_sum_con = na_sum_con.sort_values(by=\"missing_count\", ascending=False)\n",
    "\n",
    "na_sum_con"
   ]
  },
  {
   "cell_type": "markdown",
   "metadata": {},
   "source": [
    "<div style=\"border: 2px solid black; padding: 10px; margin: 10px\">\n",
    "\n",
    "No missing values.\n",
    "\n",
    "</div>"
   ]
  },
  {
   "cell_type": "markdown",
   "metadata": {},
   "source": [
    " "
   ]
  },
  {
   "cell_type": "markdown",
   "metadata": {},
   "source": [
    " "
   ]
  },
  {
   "cell_type": "markdown",
   "metadata": {},
   "source": [
    "#### Personal Data"
   ]
  },
  {
   "cell_type": "code",
   "execution_count": 19,
   "metadata": {},
   "outputs": [
    {
     "name": "stdout",
     "output_type": "stream",
     "text": [
      "Personal Data\n",
      "=========================================================================\n"
     ]
    },
    {
     "data": {
      "text/html": [
       "<div>\n",
       "<style scoped>\n",
       "    .dataframe tbody tr th:only-of-type {\n",
       "        vertical-align: middle;\n",
       "    }\n",
       "\n",
       "    .dataframe tbody tr th {\n",
       "        vertical-align: top;\n",
       "    }\n",
       "\n",
       "    .dataframe thead th {\n",
       "        text-align: right;\n",
       "    }\n",
       "</style>\n",
       "<table border=\"1\" class=\"dataframe\">\n",
       "  <thead>\n",
       "    <tr style=\"text-align: right;\">\n",
       "      <th></th>\n",
       "      <th>missing_count</th>\n",
       "      <th>missing_percent</th>\n",
       "      <th>unique_values</th>\n",
       "      <th>total_rows</th>\n",
       "    </tr>\n",
       "  </thead>\n",
       "  <tbody>\n",
       "    <tr>\n",
       "      <th>customer_id</th>\n",
       "      <td>0</td>\n",
       "      <td>0.0</td>\n",
       "      <td>7043</td>\n",
       "      <td>7043</td>\n",
       "    </tr>\n",
       "    <tr>\n",
       "      <th>gender</th>\n",
       "      <td>0</td>\n",
       "      <td>0.0</td>\n",
       "      <td>2</td>\n",
       "      <td>7043</td>\n",
       "    </tr>\n",
       "    <tr>\n",
       "      <th>senior_citizen</th>\n",
       "      <td>0</td>\n",
       "      <td>0.0</td>\n",
       "      <td>2</td>\n",
       "      <td>7043</td>\n",
       "    </tr>\n",
       "    <tr>\n",
       "      <th>partner</th>\n",
       "      <td>0</td>\n",
       "      <td>0.0</td>\n",
       "      <td>2</td>\n",
       "      <td>7043</td>\n",
       "    </tr>\n",
       "    <tr>\n",
       "      <th>dependents</th>\n",
       "      <td>0</td>\n",
       "      <td>0.0</td>\n",
       "      <td>2</td>\n",
       "      <td>7043</td>\n",
       "    </tr>\n",
       "  </tbody>\n",
       "</table>\n",
       "</div>"
      ],
      "text/plain": [
       "                missing_count  missing_percent  unique_values  total_rows\n",
       "customer_id                 0              0.0           7043        7043\n",
       "gender                      0              0.0              2        7043\n",
       "senior_citizen              0              0.0              2        7043\n",
       "partner                     0              0.0              2        7043\n",
       "dependents                  0              0.0              2        7043"
      ]
     },
     "execution_count": 19,
     "metadata": {},
     "output_type": "execute_result"
    }
   ],
   "source": [
    "# Personal Data\n",
    "\n",
    "print(\"Personal Data\")\n",
    "print(\"=========================================================================\")\n",
    "\n",
    "na_sum_per = pd.DataFrame({\n",
    "    \"missing_count\": per_data.isna().sum(),\n",
    "    \"missing_percent\": (per_data.isna().mean() * 100).round(2),\n",
    "    \"unique_values\": per_data.nunique(),\n",
    "    \"total_rows\": len(per_data)\n",
    "})\n",
    "\n",
    "# Sorting values by missing value count\n",
    "na_sum_per = na_sum_per.sort_values(by=\"missing_count\", ascending=False)\n",
    "\n",
    "na_sum_per"
   ]
  },
  {
   "cell_type": "markdown",
   "metadata": {},
   "source": [
    "<div style=\"border: 2px solid black; padding: 10px; margin: 10px\">\n",
    "\n",
    "No missing values.\n",
    "\n",
    "</div>"
   ]
  },
  {
   "cell_type": "markdown",
   "metadata": {},
   "source": [
    " "
   ]
  },
  {
   "cell_type": "markdown",
   "metadata": {},
   "source": [
    " "
   ]
  },
  {
   "cell_type": "markdown",
   "metadata": {},
   "source": [
    "#### Internet Data"
   ]
  },
  {
   "cell_type": "code",
   "execution_count": 20,
   "metadata": {},
   "outputs": [
    {
     "name": "stdout",
     "output_type": "stream",
     "text": [
      "Internet Data\n",
      "=========================================================================\n"
     ]
    },
    {
     "data": {
      "text/html": [
       "<div>\n",
       "<style scoped>\n",
       "    .dataframe tbody tr th:only-of-type {\n",
       "        vertical-align: middle;\n",
       "    }\n",
       "\n",
       "    .dataframe tbody tr th {\n",
       "        vertical-align: top;\n",
       "    }\n",
       "\n",
       "    .dataframe thead th {\n",
       "        text-align: right;\n",
       "    }\n",
       "</style>\n",
       "<table border=\"1\" class=\"dataframe\">\n",
       "  <thead>\n",
       "    <tr style=\"text-align: right;\">\n",
       "      <th></th>\n",
       "      <th>missing_count</th>\n",
       "      <th>missing_percent</th>\n",
       "      <th>unique_values</th>\n",
       "      <th>total_rows</th>\n",
       "    </tr>\n",
       "  </thead>\n",
       "  <tbody>\n",
       "    <tr>\n",
       "      <th>customer_id</th>\n",
       "      <td>0</td>\n",
       "      <td>0.0</td>\n",
       "      <td>5517</td>\n",
       "      <td>5517</td>\n",
       "    </tr>\n",
       "    <tr>\n",
       "      <th>internet_service</th>\n",
       "      <td>0</td>\n",
       "      <td>0.0</td>\n",
       "      <td>2</td>\n",
       "      <td>5517</td>\n",
       "    </tr>\n",
       "    <tr>\n",
       "      <th>online_security</th>\n",
       "      <td>0</td>\n",
       "      <td>0.0</td>\n",
       "      <td>2</td>\n",
       "      <td>5517</td>\n",
       "    </tr>\n",
       "    <tr>\n",
       "      <th>online_backup</th>\n",
       "      <td>0</td>\n",
       "      <td>0.0</td>\n",
       "      <td>2</td>\n",
       "      <td>5517</td>\n",
       "    </tr>\n",
       "    <tr>\n",
       "      <th>device_protection</th>\n",
       "      <td>0</td>\n",
       "      <td>0.0</td>\n",
       "      <td>2</td>\n",
       "      <td>5517</td>\n",
       "    </tr>\n",
       "    <tr>\n",
       "      <th>tech_support</th>\n",
       "      <td>0</td>\n",
       "      <td>0.0</td>\n",
       "      <td>2</td>\n",
       "      <td>5517</td>\n",
       "    </tr>\n",
       "    <tr>\n",
       "      <th>streaming_tv</th>\n",
       "      <td>0</td>\n",
       "      <td>0.0</td>\n",
       "      <td>2</td>\n",
       "      <td>5517</td>\n",
       "    </tr>\n",
       "    <tr>\n",
       "      <th>streaming_movies</th>\n",
       "      <td>0</td>\n",
       "      <td>0.0</td>\n",
       "      <td>2</td>\n",
       "      <td>5517</td>\n",
       "    </tr>\n",
       "  </tbody>\n",
       "</table>\n",
       "</div>"
      ],
      "text/plain": [
       "                   missing_count  missing_percent  unique_values  total_rows\n",
       "customer_id                    0              0.0           5517        5517\n",
       "internet_service               0              0.0              2        5517\n",
       "online_security                0              0.0              2        5517\n",
       "online_backup                  0              0.0              2        5517\n",
       "device_protection              0              0.0              2        5517\n",
       "tech_support                   0              0.0              2        5517\n",
       "streaming_tv                   0              0.0              2        5517\n",
       "streaming_movies               0              0.0              2        5517"
      ]
     },
     "execution_count": 20,
     "metadata": {},
     "output_type": "execute_result"
    }
   ],
   "source": [
    "# Internet Data\n",
    "\n",
    "print(\"Internet Data\")\n",
    "print(\"=========================================================================\")\n",
    "\n",
    "na_sum_int = pd.DataFrame({\n",
    "    \"missing_count\": int_data.isna().sum(),\n",
    "    \"missing_percent\": (int_data.isna().mean() * 100).round(2),\n",
    "    \"unique_values\": int_data.nunique(),\n",
    "    \"total_rows\": len(int_data)\n",
    "})\n",
    "\n",
    "# Sorting values by missing value count\n",
    "na_sum_int = na_sum_int.sort_values(by=\"missing_count\", ascending=False)\n",
    "\n",
    "na_sum_int"
   ]
  },
  {
   "cell_type": "markdown",
   "metadata": {},
   "source": [
    "<div style=\"border: 2px solid black; padding: 10px; margin: 10px\">\n",
    "\n",
    "No missing values.\n",
    "\n",
    "</div>"
   ]
  },
  {
   "cell_type": "markdown",
   "metadata": {},
   "source": [
    " "
   ]
  },
  {
   "cell_type": "markdown",
   "metadata": {},
   "source": [
    " "
   ]
  },
  {
   "cell_type": "markdown",
   "metadata": {},
   "source": [
    "#### Phone Data"
   ]
  },
  {
   "cell_type": "code",
   "execution_count": 22,
   "metadata": {},
   "outputs": [
    {
     "name": "stdout",
     "output_type": "stream",
     "text": [
      "Phone Data\n",
      "=========================================================================\n"
     ]
    },
    {
     "data": {
      "text/html": [
       "<div>\n",
       "<style scoped>\n",
       "    .dataframe tbody tr th:only-of-type {\n",
       "        vertical-align: middle;\n",
       "    }\n",
       "\n",
       "    .dataframe tbody tr th {\n",
       "        vertical-align: top;\n",
       "    }\n",
       "\n",
       "    .dataframe thead th {\n",
       "        text-align: right;\n",
       "    }\n",
       "</style>\n",
       "<table border=\"1\" class=\"dataframe\">\n",
       "  <thead>\n",
       "    <tr style=\"text-align: right;\">\n",
       "      <th></th>\n",
       "      <th>missing_count</th>\n",
       "      <th>missing_percent</th>\n",
       "      <th>unique_values</th>\n",
       "      <th>total_rows</th>\n",
       "    </tr>\n",
       "  </thead>\n",
       "  <tbody>\n",
       "    <tr>\n",
       "      <th>customer_id</th>\n",
       "      <td>0</td>\n",
       "      <td>0.0</td>\n",
       "      <td>6361</td>\n",
       "      <td>6361</td>\n",
       "    </tr>\n",
       "    <tr>\n",
       "      <th>multiple_lines</th>\n",
       "      <td>0</td>\n",
       "      <td>0.0</td>\n",
       "      <td>2</td>\n",
       "      <td>6361</td>\n",
       "    </tr>\n",
       "  </tbody>\n",
       "</table>\n",
       "</div>"
      ],
      "text/plain": [
       "                missing_count  missing_percent  unique_values  total_rows\n",
       "customer_id                 0              0.0           6361        6361\n",
       "multiple_lines              0              0.0              2        6361"
      ]
     },
     "execution_count": 22,
     "metadata": {},
     "output_type": "execute_result"
    }
   ],
   "source": [
    "# Phone Data\n",
    "\n",
    "print(\"Phone Data\")\n",
    "print(\"=========================================================================\")\n",
    "\n",
    "na_sum_pho = pd.DataFrame({\n",
    "    \"missing_count\": pho_data.isna().sum(),\n",
    "    \"missing_percent\": (pho_data.isna().mean() * 100).round(2),\n",
    "    \"unique_values\": pho_data.nunique(),\n",
    "    \"total_rows\": len(pho_data)\n",
    "})\n",
    "\n",
    "# Sorting values by missing value count\n",
    "na_sum_pho = na_sum_pho.sort_values(by=\"missing_count\", ascending=False)\n",
    "\n",
    "na_sum_pho"
   ]
  },
  {
   "cell_type": "markdown",
   "metadata": {},
   "source": [
    "<div style=\"border: 2px solid black; padding: 10px; margin: 10px\">\n",
    "\n",
    "We have no missing values in all of our datasets.\n",
    "<br>\n",
    "\n",
    "We'll now move on to combining all 4 dataframes into one and then continue to data type validation, date parsing, etc.\n",
    "\n",
    "</div>"
   ]
  },
  {
   "cell_type": "markdown",
   "metadata": {},
   "source": [
    " "
   ]
  },
  {
   "cell_type": "markdown",
   "metadata": {},
   "source": [
    " "
   ]
  },
  {
   "cell_type": "markdown",
   "metadata": {},
   "source": [
    "### Combining Dataframes"
   ]
  },
  {
   "cell_type": "code",
   "execution_count": 37,
   "metadata": {},
   "outputs": [
    {
     "name": "stdout",
     "output_type": "stream",
     "text": [
      "Contract Data\n",
      "object\n",
      "\n",
      "Personal Data\n",
      "object\n",
      "\n",
      "Internet Data\n",
      "object\n",
      "\n",
      "Phone Data\n",
      "object\n",
      "\n"
     ]
    }
   ],
   "source": [
    "# Before combining, ensuring that 'customer_id' is the same datatype across all dataframes\n",
    "\n",
    "print(\"Contract Data\")\n",
    "print(con_data['customer_id'].dtype)\n",
    "print()\n",
    "\n",
    "print(\"Personal Data\")\n",
    "print(per_data['customer_id'].dtype)\n",
    "print()\n",
    "\n",
    "print(\"Internet Data\")\n",
    "print(int_data['customer_id'].dtype)\n",
    "print()\n",
    "\n",
    "print(\"Phone Data\")\n",
    "print(pho_data['customer_id'].dtype)\n",
    "print()"
   ]
  },
  {
   "cell_type": "code",
   "execution_count": 31,
   "metadata": {},
   "outputs": [],
   "source": [
    "# Now, combining all four dataframes on 'customer_id' on an 'outer' join\n",
    "# Intention is to include as much data as possible and we'll decide what to do with\n",
    "# the missing values afterwards after identifying them.\n",
    "\n",
    "df_merged = (\n",
    "    con_data\n",
    "    .merge(per_data, on=\"customer_id\", how=\"outer\")\n",
    "    .merge(int_data, on=\"customer_id\", how=\"outer\")\n",
    "    .merge(pho_data, on=\"customer_id\", how=\"outer\")\n",
    ")"
   ]
  },
  {
   "cell_type": "code",
   "execution_count": 38,
   "metadata": {},
   "outputs": [
    {
     "data": {
      "text/plain": [
       "0"
      ]
     },
     "execution_count": 38,
     "metadata": {},
     "output_type": "execute_result"
    }
   ],
   "source": [
    "# Checking on duplicates for merged DF\n",
    "\n",
    "df_merged.duplicated().sum()"
   ]
  },
  {
   "cell_type": "code",
   "execution_count": 40,
   "metadata": {},
   "outputs": [
    {
     "name": "stdout",
     "output_type": "stream",
     "text": [
      "Merged DF\n",
      "=========================================================================\n"
     ]
    },
    {
     "data": {
      "text/html": [
       "<div>\n",
       "<style scoped>\n",
       "    .dataframe tbody tr th:only-of-type {\n",
       "        vertical-align: middle;\n",
       "    }\n",
       "\n",
       "    .dataframe tbody tr th {\n",
       "        vertical-align: top;\n",
       "    }\n",
       "\n",
       "    .dataframe thead th {\n",
       "        text-align: right;\n",
       "    }\n",
       "</style>\n",
       "<table border=\"1\" class=\"dataframe\">\n",
       "  <thead>\n",
       "    <tr style=\"text-align: right;\">\n",
       "      <th></th>\n",
       "      <th>missing_count</th>\n",
       "      <th>missing_percent</th>\n",
       "      <th>unique_values</th>\n",
       "      <th>total_rows</th>\n",
       "    </tr>\n",
       "  </thead>\n",
       "  <tbody>\n",
       "    <tr>\n",
       "      <th>streaming_movies</th>\n",
       "      <td>1526</td>\n",
       "      <td>21.67</td>\n",
       "      <td>2</td>\n",
       "      <td>7043</td>\n",
       "    </tr>\n",
       "    <tr>\n",
       "      <th>streaming_tv</th>\n",
       "      <td>1526</td>\n",
       "      <td>21.67</td>\n",
       "      <td>2</td>\n",
       "      <td>7043</td>\n",
       "    </tr>\n",
       "    <tr>\n",
       "      <th>tech_support</th>\n",
       "      <td>1526</td>\n",
       "      <td>21.67</td>\n",
       "      <td>2</td>\n",
       "      <td>7043</td>\n",
       "    </tr>\n",
       "    <tr>\n",
       "      <th>device_protection</th>\n",
       "      <td>1526</td>\n",
       "      <td>21.67</td>\n",
       "      <td>2</td>\n",
       "      <td>7043</td>\n",
       "    </tr>\n",
       "    <tr>\n",
       "      <th>online_backup</th>\n",
       "      <td>1526</td>\n",
       "      <td>21.67</td>\n",
       "      <td>2</td>\n",
       "      <td>7043</td>\n",
       "    </tr>\n",
       "    <tr>\n",
       "      <th>online_security</th>\n",
       "      <td>1526</td>\n",
       "      <td>21.67</td>\n",
       "      <td>2</td>\n",
       "      <td>7043</td>\n",
       "    </tr>\n",
       "    <tr>\n",
       "      <th>internet_service</th>\n",
       "      <td>1526</td>\n",
       "      <td>21.67</td>\n",
       "      <td>2</td>\n",
       "      <td>7043</td>\n",
       "    </tr>\n",
       "    <tr>\n",
       "      <th>multiple_lines</th>\n",
       "      <td>682</td>\n",
       "      <td>9.68</td>\n",
       "      <td>2</td>\n",
       "      <td>7043</td>\n",
       "    </tr>\n",
       "    <tr>\n",
       "      <th>begin_date</th>\n",
       "      <td>0</td>\n",
       "      <td>0.00</td>\n",
       "      <td>77</td>\n",
       "      <td>7043</td>\n",
       "    </tr>\n",
       "    <tr>\n",
       "      <th>dependents</th>\n",
       "      <td>0</td>\n",
       "      <td>0.00</td>\n",
       "      <td>2</td>\n",
       "      <td>7043</td>\n",
       "    </tr>\n",
       "    <tr>\n",
       "      <th>customer_id</th>\n",
       "      <td>0</td>\n",
       "      <td>0.00</td>\n",
       "      <td>7043</td>\n",
       "      <td>7043</td>\n",
       "    </tr>\n",
       "    <tr>\n",
       "      <th>senior_citizen</th>\n",
       "      <td>0</td>\n",
       "      <td>0.00</td>\n",
       "      <td>2</td>\n",
       "      <td>7043</td>\n",
       "    </tr>\n",
       "    <tr>\n",
       "      <th>gender</th>\n",
       "      <td>0</td>\n",
       "      <td>0.00</td>\n",
       "      <td>2</td>\n",
       "      <td>7043</td>\n",
       "    </tr>\n",
       "    <tr>\n",
       "      <th>total_charges</th>\n",
       "      <td>0</td>\n",
       "      <td>0.00</td>\n",
       "      <td>6531</td>\n",
       "      <td>7043</td>\n",
       "    </tr>\n",
       "    <tr>\n",
       "      <th>monthly_charges</th>\n",
       "      <td>0</td>\n",
       "      <td>0.00</td>\n",
       "      <td>1585</td>\n",
       "      <td>7043</td>\n",
       "    </tr>\n",
       "    <tr>\n",
       "      <th>payment_method</th>\n",
       "      <td>0</td>\n",
       "      <td>0.00</td>\n",
       "      <td>4</td>\n",
       "      <td>7043</td>\n",
       "    </tr>\n",
       "    <tr>\n",
       "      <th>paperless_billing</th>\n",
       "      <td>0</td>\n",
       "      <td>0.00</td>\n",
       "      <td>2</td>\n",
       "      <td>7043</td>\n",
       "    </tr>\n",
       "    <tr>\n",
       "      <th>type</th>\n",
       "      <td>0</td>\n",
       "      <td>0.00</td>\n",
       "      <td>3</td>\n",
       "      <td>7043</td>\n",
       "    </tr>\n",
       "    <tr>\n",
       "      <th>end_date</th>\n",
       "      <td>0</td>\n",
       "      <td>0.00</td>\n",
       "      <td>5</td>\n",
       "      <td>7043</td>\n",
       "    </tr>\n",
       "    <tr>\n",
       "      <th>partner</th>\n",
       "      <td>0</td>\n",
       "      <td>0.00</td>\n",
       "      <td>2</td>\n",
       "      <td>7043</td>\n",
       "    </tr>\n",
       "  </tbody>\n",
       "</table>\n",
       "</div>"
      ],
      "text/plain": [
       "                   missing_count  missing_percent  unique_values  total_rows\n",
       "streaming_movies            1526            21.67              2        7043\n",
       "streaming_tv                1526            21.67              2        7043\n",
       "tech_support                1526            21.67              2        7043\n",
       "device_protection           1526            21.67              2        7043\n",
       "online_backup               1526            21.67              2        7043\n",
       "online_security             1526            21.67              2        7043\n",
       "internet_service            1526            21.67              2        7043\n",
       "multiple_lines               682             9.68              2        7043\n",
       "begin_date                     0             0.00             77        7043\n",
       "dependents                     0             0.00              2        7043\n",
       "customer_id                    0             0.00           7043        7043\n",
       "senior_citizen                 0             0.00              2        7043\n",
       "gender                         0             0.00              2        7043\n",
       "total_charges                  0             0.00           6531        7043\n",
       "monthly_charges                0             0.00           1585        7043\n",
       "payment_method                 0             0.00              4        7043\n",
       "paperless_billing              0             0.00              2        7043\n",
       "type                           0             0.00              3        7043\n",
       "end_date                       0             0.00              5        7043\n",
       "partner                        0             0.00              2        7043"
      ]
     },
     "execution_count": 40,
     "metadata": {},
     "output_type": "execute_result"
    }
   ],
   "source": [
    "# Reviewing missing values after merge\n",
    "\n",
    "print(\"Merged DF\")\n",
    "print(\"=========================================================================\")\n",
    "\n",
    "na_sum_merged = pd.DataFrame({\n",
    "    \"missing_count\": df_merged.isna().sum(),\n",
    "    \"missing_percent\": (df_merged.isna().mean() * 100).round(2),\n",
    "    \"unique_values\": df_merged.nunique(),\n",
    "    \"total_rows\": len(df_merged)\n",
    "})\n",
    "\n",
    "# Sorting values by missing value count\n",
    "na_sum_merged = na_sum_merged.sort_values(by=\"missing_count\", ascending=False)\n",
    "\n",
    "na_sum_merged"
   ]
  },
  {
   "cell_type": "markdown",
   "metadata": {},
   "source": [
    "<div style=\"border: 2px solid black; padding: 10px; margin: 10px\">\n",
    "\n",
    "All the missing values in our merged DF have only two possibilities. Since the ID's for these customers were not present in those dataframes we'll fill all the missing values with the equivalent for \"No\", that the customer does not have the feature of that column.\n",
    "\n",
    "</div>"
   ]
  },
  {
   "cell_type": "code",
   "execution_count": 43,
   "metadata": {},
   "outputs": [
    {
     "data": {
      "text/plain": [
       "customer_id          0\n",
       "begin_date           0\n",
       "end_date             0\n",
       "type                 0\n",
       "paperless_billing    0\n",
       "payment_method       0\n",
       "monthly_charges      0\n",
       "total_charges        0\n",
       "gender               0\n",
       "senior_citizen       0\n",
       "partner              0\n",
       "dependents           0\n",
       "internet_service     0\n",
       "online_security      0\n",
       "online_backup        0\n",
       "device_protection    0\n",
       "tech_support         0\n",
       "streaming_tv         0\n",
       "streaming_movies     0\n",
       "multiple_lines       0\n",
       "dtype: int64"
      ]
     },
     "execution_count": 43,
     "metadata": {},
     "output_type": "execute_result"
    }
   ],
   "source": [
    "# Filling all missing values in the df with \"No\"\n",
    "\n",
    "df_merged = df_merged.fillna(\"No\")\n",
    "\n",
    "# Validating no more missing values\n",
    "\n",
    "df_merged.isna().sum()"
   ]
  },
  {
   "cell_type": "markdown",
   "metadata": {},
   "source": [
    " "
   ]
  },
  {
   "cell_type": "markdown",
   "metadata": {},
   "source": [
    " "
   ]
  },
  {
   "cell_type": "markdown",
   "metadata": {},
   "source": [
    "### Data Type Validation"
   ]
  },
  {
   "cell_type": "code",
   "execution_count": 44,
   "metadata": {},
   "outputs": [
    {
     "name": "stdout",
     "output_type": "stream",
     "text": [
      "Merged Data\n",
      "=========================================================================\n",
      "<class 'pandas.core.frame.DataFrame'>\n",
      "Int64Index: 7043 entries, 0 to 7042\n",
      "Data columns (total 20 columns):\n",
      " #   Column             Non-Null Count  Dtype  \n",
      "---  ------             --------------  -----  \n",
      " 0   customer_id        7043 non-null   object \n",
      " 1   begin_date         7043 non-null   object \n",
      " 2   end_date           7043 non-null   object \n",
      " 3   type               7043 non-null   object \n",
      " 4   paperless_billing  7043 non-null   object \n",
      " 5   payment_method     7043 non-null   object \n",
      " 6   monthly_charges    7043 non-null   float64\n",
      " 7   total_charges      7043 non-null   object \n",
      " 8   gender             7043 non-null   object \n",
      " 9   senior_citizen     7043 non-null   int64  \n",
      " 10  partner            7043 non-null   object \n",
      " 11  dependents         7043 non-null   object \n",
      " 12  internet_service   7043 non-null   object \n",
      " 13  online_security    7043 non-null   object \n",
      " 14  online_backup      7043 non-null   object \n",
      " 15  device_protection  7043 non-null   object \n",
      " 16  tech_support       7043 non-null   object \n",
      " 17  streaming_tv       7043 non-null   object \n",
      " 18  streaming_movies   7043 non-null   object \n",
      " 19  multiple_lines     7043 non-null   object \n",
      "dtypes: float64(1), int64(1), object(18)\n",
      "memory usage: 1.1+ MB\n",
      "\n"
     ]
    },
    {
     "data": {
      "text/html": [
       "<div>\n",
       "<style scoped>\n",
       "    .dataframe tbody tr th:only-of-type {\n",
       "        vertical-align: middle;\n",
       "    }\n",
       "\n",
       "    .dataframe tbody tr th {\n",
       "        vertical-align: top;\n",
       "    }\n",
       "\n",
       "    .dataframe thead th {\n",
       "        text-align: right;\n",
       "    }\n",
       "</style>\n",
       "<table border=\"1\" class=\"dataframe\">\n",
       "  <thead>\n",
       "    <tr style=\"text-align: right;\">\n",
       "      <th></th>\n",
       "      <th>customer_id</th>\n",
       "      <th>begin_date</th>\n",
       "      <th>end_date</th>\n",
       "      <th>type</th>\n",
       "      <th>paperless_billing</th>\n",
       "      <th>payment_method</th>\n",
       "      <th>monthly_charges</th>\n",
       "      <th>total_charges</th>\n",
       "      <th>gender</th>\n",
       "      <th>senior_citizen</th>\n",
       "      <th>partner</th>\n",
       "      <th>dependents</th>\n",
       "      <th>internet_service</th>\n",
       "      <th>online_security</th>\n",
       "      <th>online_backup</th>\n",
       "      <th>device_protection</th>\n",
       "      <th>tech_support</th>\n",
       "      <th>streaming_tv</th>\n",
       "      <th>streaming_movies</th>\n",
       "      <th>multiple_lines</th>\n",
       "    </tr>\n",
       "  </thead>\n",
       "  <tbody>\n",
       "    <tr>\n",
       "      <th>0</th>\n",
       "      <td>7590-VHVEG</td>\n",
       "      <td>2020-01-01</td>\n",
       "      <td>No</td>\n",
       "      <td>Month-to-month</td>\n",
       "      <td>Yes</td>\n",
       "      <td>Electronic check</td>\n",
       "      <td>29.85</td>\n",
       "      <td>29.85</td>\n",
       "      <td>Female</td>\n",
       "      <td>0</td>\n",
       "      <td>Yes</td>\n",
       "      <td>No</td>\n",
       "      <td>DSL</td>\n",
       "      <td>No</td>\n",
       "      <td>Yes</td>\n",
       "      <td>No</td>\n",
       "      <td>No</td>\n",
       "      <td>No</td>\n",
       "      <td>No</td>\n",
       "      <td>No</td>\n",
       "    </tr>\n",
       "    <tr>\n",
       "      <th>1</th>\n",
       "      <td>5575-GNVDE</td>\n",
       "      <td>2017-04-01</td>\n",
       "      <td>No</td>\n",
       "      <td>One year</td>\n",
       "      <td>No</td>\n",
       "      <td>Mailed check</td>\n",
       "      <td>56.95</td>\n",
       "      <td>1889.5</td>\n",
       "      <td>Male</td>\n",
       "      <td>0</td>\n",
       "      <td>No</td>\n",
       "      <td>No</td>\n",
       "      <td>DSL</td>\n",
       "      <td>Yes</td>\n",
       "      <td>No</td>\n",
       "      <td>Yes</td>\n",
       "      <td>No</td>\n",
       "      <td>No</td>\n",
       "      <td>No</td>\n",
       "      <td>No</td>\n",
       "    </tr>\n",
       "    <tr>\n",
       "      <th>2</th>\n",
       "      <td>3668-QPYBK</td>\n",
       "      <td>2019-10-01</td>\n",
       "      <td>2019-12-01 00:00:00</td>\n",
       "      <td>Month-to-month</td>\n",
       "      <td>Yes</td>\n",
       "      <td>Mailed check</td>\n",
       "      <td>53.85</td>\n",
       "      <td>108.15</td>\n",
       "      <td>Male</td>\n",
       "      <td>0</td>\n",
       "      <td>No</td>\n",
       "      <td>No</td>\n",
       "      <td>DSL</td>\n",
       "      <td>Yes</td>\n",
       "      <td>Yes</td>\n",
       "      <td>No</td>\n",
       "      <td>No</td>\n",
       "      <td>No</td>\n",
       "      <td>No</td>\n",
       "      <td>No</td>\n",
       "    </tr>\n",
       "    <tr>\n",
       "      <th>3</th>\n",
       "      <td>7795-CFOCW</td>\n",
       "      <td>2016-05-01</td>\n",
       "      <td>No</td>\n",
       "      <td>One year</td>\n",
       "      <td>No</td>\n",
       "      <td>Bank transfer (automatic)</td>\n",
       "      <td>42.30</td>\n",
       "      <td>1840.75</td>\n",
       "      <td>Male</td>\n",
       "      <td>0</td>\n",
       "      <td>No</td>\n",
       "      <td>No</td>\n",
       "      <td>DSL</td>\n",
       "      <td>Yes</td>\n",
       "      <td>No</td>\n",
       "      <td>Yes</td>\n",
       "      <td>Yes</td>\n",
       "      <td>No</td>\n",
       "      <td>No</td>\n",
       "      <td>No</td>\n",
       "    </tr>\n",
       "    <tr>\n",
       "      <th>4</th>\n",
       "      <td>9237-HQITU</td>\n",
       "      <td>2019-09-01</td>\n",
       "      <td>2019-11-01 00:00:00</td>\n",
       "      <td>Month-to-month</td>\n",
       "      <td>Yes</td>\n",
       "      <td>Electronic check</td>\n",
       "      <td>70.70</td>\n",
       "      <td>151.65</td>\n",
       "      <td>Female</td>\n",
       "      <td>0</td>\n",
       "      <td>No</td>\n",
       "      <td>No</td>\n",
       "      <td>Fiber optic</td>\n",
       "      <td>No</td>\n",
       "      <td>No</td>\n",
       "      <td>No</td>\n",
       "      <td>No</td>\n",
       "      <td>No</td>\n",
       "      <td>No</td>\n",
       "      <td>No</td>\n",
       "    </tr>\n",
       "    <tr>\n",
       "      <th>...</th>\n",
       "      <td>...</td>\n",
       "      <td>...</td>\n",
       "      <td>...</td>\n",
       "      <td>...</td>\n",
       "      <td>...</td>\n",
       "      <td>...</td>\n",
       "      <td>...</td>\n",
       "      <td>...</td>\n",
       "      <td>...</td>\n",
       "      <td>...</td>\n",
       "      <td>...</td>\n",
       "      <td>...</td>\n",
       "      <td>...</td>\n",
       "      <td>...</td>\n",
       "      <td>...</td>\n",
       "      <td>...</td>\n",
       "      <td>...</td>\n",
       "      <td>...</td>\n",
       "      <td>...</td>\n",
       "      <td>...</td>\n",
       "    </tr>\n",
       "    <tr>\n",
       "      <th>7038</th>\n",
       "      <td>6840-RESVB</td>\n",
       "      <td>2018-02-01</td>\n",
       "      <td>No</td>\n",
       "      <td>One year</td>\n",
       "      <td>Yes</td>\n",
       "      <td>Mailed check</td>\n",
       "      <td>84.80</td>\n",
       "      <td>1990.5</td>\n",
       "      <td>Male</td>\n",
       "      <td>0</td>\n",
       "      <td>Yes</td>\n",
       "      <td>Yes</td>\n",
       "      <td>DSL</td>\n",
       "      <td>Yes</td>\n",
       "      <td>No</td>\n",
       "      <td>Yes</td>\n",
       "      <td>Yes</td>\n",
       "      <td>Yes</td>\n",
       "      <td>Yes</td>\n",
       "      <td>Yes</td>\n",
       "    </tr>\n",
       "    <tr>\n",
       "      <th>7039</th>\n",
       "      <td>2234-XADUH</td>\n",
       "      <td>2014-02-01</td>\n",
       "      <td>No</td>\n",
       "      <td>One year</td>\n",
       "      <td>Yes</td>\n",
       "      <td>Credit card (automatic)</td>\n",
       "      <td>103.20</td>\n",
       "      <td>7362.9</td>\n",
       "      <td>Female</td>\n",
       "      <td>0</td>\n",
       "      <td>Yes</td>\n",
       "      <td>Yes</td>\n",
       "      <td>Fiber optic</td>\n",
       "      <td>No</td>\n",
       "      <td>Yes</td>\n",
       "      <td>Yes</td>\n",
       "      <td>No</td>\n",
       "      <td>Yes</td>\n",
       "      <td>Yes</td>\n",
       "      <td>Yes</td>\n",
       "    </tr>\n",
       "    <tr>\n",
       "      <th>7040</th>\n",
       "      <td>4801-JZAZL</td>\n",
       "      <td>2019-03-01</td>\n",
       "      <td>No</td>\n",
       "      <td>Month-to-month</td>\n",
       "      <td>Yes</td>\n",
       "      <td>Electronic check</td>\n",
       "      <td>29.60</td>\n",
       "      <td>346.45</td>\n",
       "      <td>Female</td>\n",
       "      <td>0</td>\n",
       "      <td>Yes</td>\n",
       "      <td>Yes</td>\n",
       "      <td>DSL</td>\n",
       "      <td>Yes</td>\n",
       "      <td>No</td>\n",
       "      <td>No</td>\n",
       "      <td>No</td>\n",
       "      <td>No</td>\n",
       "      <td>No</td>\n",
       "      <td>No</td>\n",
       "    </tr>\n",
       "    <tr>\n",
       "      <th>7041</th>\n",
       "      <td>8361-LTMKD</td>\n",
       "      <td>2019-07-01</td>\n",
       "      <td>2019-11-01 00:00:00</td>\n",
       "      <td>Month-to-month</td>\n",
       "      <td>Yes</td>\n",
       "      <td>Mailed check</td>\n",
       "      <td>74.40</td>\n",
       "      <td>306.6</td>\n",
       "      <td>Male</td>\n",
       "      <td>1</td>\n",
       "      <td>Yes</td>\n",
       "      <td>No</td>\n",
       "      <td>Fiber optic</td>\n",
       "      <td>No</td>\n",
       "      <td>No</td>\n",
       "      <td>No</td>\n",
       "      <td>No</td>\n",
       "      <td>No</td>\n",
       "      <td>No</td>\n",
       "      <td>Yes</td>\n",
       "    </tr>\n",
       "    <tr>\n",
       "      <th>7042</th>\n",
       "      <td>3186-AJIEK</td>\n",
       "      <td>2014-08-01</td>\n",
       "      <td>No</td>\n",
       "      <td>Two year</td>\n",
       "      <td>Yes</td>\n",
       "      <td>Bank transfer (automatic)</td>\n",
       "      <td>105.65</td>\n",
       "      <td>6844.5</td>\n",
       "      <td>Male</td>\n",
       "      <td>0</td>\n",
       "      <td>No</td>\n",
       "      <td>No</td>\n",
       "      <td>Fiber optic</td>\n",
       "      <td>Yes</td>\n",
       "      <td>No</td>\n",
       "      <td>Yes</td>\n",
       "      <td>Yes</td>\n",
       "      <td>Yes</td>\n",
       "      <td>Yes</td>\n",
       "      <td>No</td>\n",
       "    </tr>\n",
       "  </tbody>\n",
       "</table>\n",
       "<p>7043 rows × 20 columns</p>\n",
       "</div>"
      ],
      "text/plain": [
       "     customer_id  begin_date             end_date            type  \\\n",
       "0     7590-VHVEG  2020-01-01                   No  Month-to-month   \n",
       "1     5575-GNVDE  2017-04-01                   No        One year   \n",
       "2     3668-QPYBK  2019-10-01  2019-12-01 00:00:00  Month-to-month   \n",
       "3     7795-CFOCW  2016-05-01                   No        One year   \n",
       "4     9237-HQITU  2019-09-01  2019-11-01 00:00:00  Month-to-month   \n",
       "...          ...         ...                  ...             ...   \n",
       "7038  6840-RESVB  2018-02-01                   No        One year   \n",
       "7039  2234-XADUH  2014-02-01                   No        One year   \n",
       "7040  4801-JZAZL  2019-03-01                   No  Month-to-month   \n",
       "7041  8361-LTMKD  2019-07-01  2019-11-01 00:00:00  Month-to-month   \n",
       "7042  3186-AJIEK  2014-08-01                   No        Two year   \n",
       "\n",
       "     paperless_billing             payment_method  monthly_charges  \\\n",
       "0                  Yes           Electronic check            29.85   \n",
       "1                   No               Mailed check            56.95   \n",
       "2                  Yes               Mailed check            53.85   \n",
       "3                   No  Bank transfer (automatic)            42.30   \n",
       "4                  Yes           Electronic check            70.70   \n",
       "...                ...                        ...              ...   \n",
       "7038               Yes               Mailed check            84.80   \n",
       "7039               Yes    Credit card (automatic)           103.20   \n",
       "7040               Yes           Electronic check            29.60   \n",
       "7041               Yes               Mailed check            74.40   \n",
       "7042               Yes  Bank transfer (automatic)           105.65   \n",
       "\n",
       "     total_charges  gender  senior_citizen partner dependents  \\\n",
       "0            29.85  Female               0     Yes         No   \n",
       "1           1889.5    Male               0      No         No   \n",
       "2           108.15    Male               0      No         No   \n",
       "3          1840.75    Male               0      No         No   \n",
       "4           151.65  Female               0      No         No   \n",
       "...            ...     ...             ...     ...        ...   \n",
       "7038        1990.5    Male               0     Yes        Yes   \n",
       "7039        7362.9  Female               0     Yes        Yes   \n",
       "7040        346.45  Female               0     Yes        Yes   \n",
       "7041         306.6    Male               1     Yes         No   \n",
       "7042        6844.5    Male               0      No         No   \n",
       "\n",
       "     internet_service online_security online_backup device_protection  \\\n",
       "0                 DSL              No           Yes                No   \n",
       "1                 DSL             Yes            No               Yes   \n",
       "2                 DSL             Yes           Yes                No   \n",
       "3                 DSL             Yes            No               Yes   \n",
       "4         Fiber optic              No            No                No   \n",
       "...               ...             ...           ...               ...   \n",
       "7038              DSL             Yes            No               Yes   \n",
       "7039      Fiber optic              No           Yes               Yes   \n",
       "7040              DSL             Yes            No                No   \n",
       "7041      Fiber optic              No            No                No   \n",
       "7042      Fiber optic             Yes            No               Yes   \n",
       "\n",
       "     tech_support streaming_tv streaming_movies multiple_lines  \n",
       "0              No           No               No             No  \n",
       "1              No           No               No             No  \n",
       "2              No           No               No             No  \n",
       "3             Yes           No               No             No  \n",
       "4              No           No               No             No  \n",
       "...           ...          ...              ...            ...  \n",
       "7038          Yes          Yes              Yes            Yes  \n",
       "7039           No          Yes              Yes            Yes  \n",
       "7040           No           No               No             No  \n",
       "7041           No           No               No            Yes  \n",
       "7042          Yes          Yes              Yes             No  \n",
       "\n",
       "[7043 rows x 20 columns]"
      ]
     },
     "execution_count": 44,
     "metadata": {},
     "output_type": "execute_result"
    }
   ],
   "source": [
    "# Merged Data\n",
    "\n",
    "print(\"Merged Data\")\n",
    "print(\"=========================================================================\")\n",
    "\n",
    "df_merged.info()\n",
    "print()\n",
    "\n",
    "df_merged"
   ]
  },
  {
   "cell_type": "markdown",
   "metadata": {},
   "source": [
    "<div style=\"border: 2px solid black; padding: 10px; margin: 10px\">\n",
    "\n",
    "Contract Data `info()` and data displayed to validate content and datatype match. After review, we're seeing multiple changes to be made to our data before we can train our model:\n",
    "<br><br>\n",
    "\n",
    "**Datetime Data**\n",
    "<ol>\n",
    "    <li>First, we need to convert the 'begin_date' and 'end_date' columns to datetime</li>\n",
    "    <li>We'll then create a new column where we will calculate total contract duration</li>\n",
    "    <li>Next, we'll parse out the month, day and year from each 'begin_date' to help with informing seasonality</li>\n",
    "    <li>Lastly, we'll create a column with days since the contract was ended</li>\n",
    "</ol>\n",
    "\n",
    "**Churn Data**\n",
    "<ul>\n",
    "    <li>We'll create this column with numerical variables for better training</li>\n",
    "</ul>\n",
    "\n",
    "**Total Charges**\n",
    "<ul>\n",
    "    <li>Data type for this column is in \"object\" type, we will convert this to 'float64'</li>\n",
    "</ul>\n",
    "\n",
    "**Encoding**\n",
    "<ul>\n",
    "    <li>We'll then have to encode all the numerical and categorical features before training</li>\n",
    "</ul>\n",
    "\n",
    "</div>"
   ]
  },
  {
   "cell_type": "markdown",
   "metadata": {},
   "source": [
    "<div style=\"border: 2px solid red; padding: 10px; margin: 10px\">\n",
    "<b>My Project Plan:</b>\n",
    "\n",
    "<ol>\n",
    "    <li>I'm going to complete the list of changes above to the merged dataframe.</li>\n",
    "    <li>After, I'm going to display some graphs and visuals to help illustrate the data</li>\n",
    "    <ul>\n",
    "        <li>Distribution of male/female, senior citizens? (It might be interesting to know the majority gender that subscribes to the company for marketing, etc.)</li>\n",
    "        <li>Distribution of times of the year that people start contracts and end them. (This could help inform the effectiveness of past promotions or to plan future promotions to help boost contract rates.)</li>\n",
    "        <li>Distribution of monthly charges and if the customer has cancelled their contract or not. (This might give some insight as to the amount of the contract that turns clients away from the company services and where the threshold should be adjusted to, if at all.)</li>\n",
    "    </ul>\n",
    "    <li>Then I will split the features and target to start training the model. (I'll be using <b>Logistic Regression</b> as the model for this project.</li>\n",
    "    <li>I'll calculate the AUC-ROC, and Accuracy after testing the model on the validation set.</li>\n",
    "</ol>\n",
    "<br><br>\n",
    "\n",
    "<b>List of Clarifying Questions:</b>\n",
    "<ol>\n",
    "    <li>Are there any columns that I should remove? ('paperless_billing', for example seems irrelevant to the target we're looking for.)</li>\n",
    "    <li>Is the \"Interconnect\" company pushing for a specific service to be promoted the most out of all that they provide?</li>\n",
    "    <li>Should I train multiple models for this project?</li>\n",
    "    <li>Are multiple models typically tried in \"real-world\" scenarios when working through ML tasks?</li>\n",
    "    <li>How much parameter tuning should I try before leaving the project?</li>\n",
    "</ol>\n",
    "<br><br>\n",
    "\n",
    "Thank you!\n",
    "</div>"
   ]
  },
  {
   "cell_type": "markdown",
   "metadata": {},
   "source": [
    "  "
   ]
  },
  {
   "cell_type": "markdown",
   "metadata": {},
   "source": [
    "  "
   ]
  },
  {
   "cell_type": "markdown",
   "metadata": {},
   "source": [
    "## EDA"
   ]
  },
  {
   "cell_type": "code",
   "execution_count": null,
   "metadata": {},
   "outputs": [],
   "source": []
  },
  {
   "cell_type": "markdown",
   "metadata": {},
   "source": [
    " "
   ]
  },
  {
   "cell_type": "markdown",
   "metadata": {},
   "source": [
    "  "
   ]
  },
  {
   "cell_type": "markdown",
   "metadata": {},
   "source": [
    "## Model Training"
   ]
  },
  {
   "cell_type": "code",
   "execution_count": null,
   "metadata": {},
   "outputs": [],
   "source": []
  },
  {
   "cell_type": "markdown",
   "metadata": {},
   "source": [
    " "
   ]
  },
  {
   "cell_type": "markdown",
   "metadata": {},
   "source": [
    " "
   ]
  },
  {
   "cell_type": "markdown",
   "metadata": {},
   "source": [
    "## Conclusions"
   ]
  },
  {
   "cell_type": "markdown",
   "metadata": {},
   "source": [
    "<div style=\"border: 2px solid black; padding: 10px; margin: 10px\">\n",
    "\n",
    "Conclusion goes here.\n",
    "\n",
    "</div>"
   ]
  }
 ],
 "metadata": {
  "kernelspec": {
   "display_name": "Python [conda env:base] *",
   "language": "python",
   "name": "conda-base-py"
  },
  "language_info": {
   "codemirror_mode": {
    "name": "ipython",
    "version": 3
   },
   "file_extension": ".py",
   "mimetype": "text/x-python",
   "name": "python",
   "nbconvert_exporter": "python",
   "pygments_lexer": "ipython3",
   "version": "3.12.7"
  }
 },
 "nbformat": 4,
 "nbformat_minor": 4
}
