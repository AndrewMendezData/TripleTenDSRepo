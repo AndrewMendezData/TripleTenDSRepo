{
 "cells": [
  {
   "cell_type": "markdown",
   "metadata": {
    "editable": true,
    "slideshow": {
     "slide_type": ""
    },
    "tags": []
   },
   "source": [
    "# Sprint 8 | Supervised Learning Project "
   ]
  },
  {
   "cell_type": "markdown",
   "metadata": {
    "editable": true,
    "slideshow": {
     "slide_type": ""
    },
    "tags": []
   },
   "source": [
    "<div style=\"border: 2px solid black; padding: 10px; margin: 10px\">\n",
    "\n",
    "This project will create a model that will accurately detect when a customer will leave the company \"Beta Bank\". Data on clients' past behavior and termination of contracts with the bank will be used.\n",
    "\n",
    "We'll attempt to obtain the highest F1 score possible (at least 0.59) and measure the AUC-ROC and compare the two. \n",
    "\n",
    "</div>"
   ]
  },
  {
   "cell_type": "markdown",
   "metadata": {
    "editable": true,
    "slideshow": {
     "slide_type": ""
    },
    "tags": []
   },
   "source": [
    "  "
   ]
  },
  {
   "cell_type": "markdown",
   "metadata": {
    "editable": true,
    "slideshow": {
     "slide_type": ""
    },
    "tags": []
   },
   "source": [
    "  "
   ]
  },
  {
   "cell_type": "markdown",
   "metadata": {
    "editable": true,
    "slideshow": {
     "slide_type": ""
    },
    "tags": []
   },
   "source": [
    "## Data Preparation for ML"
   ]
  },
  {
   "cell_type": "code",
   "execution_count": 6,
   "metadata": {
    "editable": true,
    "slideshow": {
     "slide_type": ""
    },
    "tags": []
   },
   "outputs": [],
   "source": [
    "# Importing necessary libraries and packages\n",
    "\n",
    "import pandas as pd\n",
    "import numpy as np\n",
    "import scipy.stats as stats\n",
    "import matplotlib.pyplot as plt\n",
    "from sklearn.model_selection import train_test_split\n",
    "from sklearn.linear_model import LogisticRegression\n",
    "from sklearn.metrics import recall_score, precision_score, f1_score, roc_curve, roc_auc_score\n",
    "from sklearn.utils import shuffle\n",
    "from sklearn.tree import DecisionTreeClassifier\n",
    "from sklearn.ensemble import RandomForestClassifier"
   ]
  },
  {
   "cell_type": "code",
   "execution_count": 7,
   "metadata": {},
   "outputs": [],
   "source": [
    "# Importing data\n",
    "\n",
    "data = pd.read_csv('churn.csv')"
   ]
  },
  {
   "cell_type": "markdown",
   "metadata": {
    "editable": true,
    "slideshow": {
     "slide_type": ""
    },
    "tags": []
   },
   "source": [
    "  "
   ]
  },
  {
   "cell_type": "markdown",
   "metadata": {
    "editable": true,
    "slideshow": {
     "slide_type": ""
    },
    "tags": []
   },
   "source": [
    "  "
   ]
  },
  {
   "cell_type": "markdown",
   "metadata": {
    "editable": true,
    "slideshow": {
     "slide_type": ""
    },
    "tags": []
   },
   "source": [
    "### Primary Data Processing"
   ]
  },
  {
   "cell_type": "markdown",
   "metadata": {
    "editable": true,
    "slideshow": {
     "slide_type": ""
    },
    "tags": []
   },
   "source": [
    "#### Columns Formatting"
   ]
  },
  {
   "cell_type": "code",
   "execution_count": 12,
   "metadata": {},
   "outputs": [
    {
     "data": {
      "text/plain": [
       "Index(['RowNumber', 'CustomerId', 'Surname', 'CreditScore', 'Geography',\n",
       "       'Gender', 'Age', 'Tenure', 'Balance', 'NumOfProducts', 'HasCrCard',\n",
       "       'IsActiveMember', 'EstimatedSalary', 'Exited'],\n",
       "      dtype='object')"
      ]
     },
     "execution_count": 12,
     "metadata": {},
     "output_type": "execute_result"
    }
   ],
   "source": [
    "# Removing unnecessary space from beginning and end of column labels\n",
    "data.columns = data.columns.str.strip()\n",
    "\n",
    "# Visual validation of column labels\n",
    "data.columns"
   ]
  },
  {
   "cell_type": "markdown",
   "metadata": {},
   "source": [
    "  "
   ]
  },
  {
   "cell_type": "markdown",
   "metadata": {},
   "source": [
    "  "
   ]
  },
  {
   "cell_type": "markdown",
   "metadata": {
    "editable": true,
    "slideshow": {
     "slide_type": ""
    },
    "tags": []
   },
   "source": [
    "#### Null Values"
   ]
  },
  {
   "cell_type": "code",
   "execution_count": 16,
   "metadata": {},
   "outputs": [
    {
     "name": "stdout",
     "output_type": "stream",
     "text": [
      "<class 'pandas.core.frame.DataFrame'>\n",
      "RangeIndex: 10000 entries, 0 to 9999\n",
      "Data columns (total 14 columns):\n",
      " #   Column           Non-Null Count  Dtype  \n",
      "---  ------           --------------  -----  \n",
      " 0   RowNumber        10000 non-null  int64  \n",
      " 1   CustomerId       10000 non-null  int64  \n",
      " 2   Surname          10000 non-null  object \n",
      " 3   CreditScore      10000 non-null  int64  \n",
      " 4   Geography        10000 non-null  object \n",
      " 5   Gender           10000 non-null  object \n",
      " 6   Age              10000 non-null  int64  \n",
      " 7   Tenure           9091 non-null   float64\n",
      " 8   Balance          10000 non-null  float64\n",
      " 9   NumOfProducts    10000 non-null  int64  \n",
      " 10  HasCrCard        10000 non-null  int64  \n",
      " 11  IsActiveMember   10000 non-null  int64  \n",
      " 12  EstimatedSalary  10000 non-null  float64\n",
      " 13  Exited           10000 non-null  int64  \n",
      "dtypes: float64(3), int64(8), object(3)\n",
      "memory usage: 1.1+ MB\n"
     ]
    }
   ],
   "source": [
    "# Checking datatypes in \"data\" to ensure numeric type\n",
    "\n",
    "data.info()"
   ]
  },
  {
   "cell_type": "markdown",
   "metadata": {
    "editable": true,
    "slideshow": {
     "slide_type": ""
    },
    "tags": []
   },
   "source": [
    "<div style=\"border: 2px solid black; padding: 10px; margin: 10px\">\n",
    "\n",
    "We see Null values in our \"Tenure\" column.\n",
    "(Original # of non-null values: 9091)<br>\n",
    "\n",
    "We'll fill these with \"0\".\n",
    "\n",
    "</div>"
   ]
  },
  {
   "cell_type": "code",
   "execution_count": 18,
   "metadata": {},
   "outputs": [],
   "source": [
    "# Replacing Null values with \"0\"\n",
    "\n",
    "data['Tenure'] = data['Tenure'].fillna(data['Tenure'].median())"
   ]
  },
  {
   "cell_type": "code",
   "execution_count": 19,
   "metadata": {},
   "outputs": [
    {
     "name": "stdout",
     "output_type": "stream",
     "text": [
      "0\n"
     ]
    }
   ],
   "source": [
    "# Validating no more null values\n",
    "\n",
    "print(data['Tenure'].isna().sum())"
   ]
  },
  {
   "cell_type": "markdown",
   "metadata": {
    "editable": true,
    "slideshow": {
     "slide_type": ""
    },
    "tags": []
   },
   "source": [
    "   "
   ]
  },
  {
   "cell_type": "markdown",
   "metadata": {},
   "source": [
    "  "
   ]
  },
  {
   "cell_type": "markdown",
   "metadata": {
    "editable": true,
    "slideshow": {
     "slide_type": ""
    },
    "tags": []
   },
   "source": [
    "#### Checking for Duplicates"
   ]
  },
  {
   "cell_type": "code",
   "execution_count": 23,
   "metadata": {},
   "outputs": [
    {
     "data": {
      "text/plain": [
       "0"
      ]
     },
     "execution_count": 23,
     "metadata": {},
     "output_type": "execute_result"
    }
   ],
   "source": [
    "# Checking for duplicate values in \"data\"\n",
    "# Removing unnecessary columns to detect duplicates after their removal\n",
    "\n",
    "data_modified = data.drop(['RowNumber', 'CustomerId', 'Surname'], axis=1)\n",
    "data_modified.duplicated().sum()"
   ]
  },
  {
   "cell_type": "markdown",
   "metadata": {
    "editable": true,
    "slideshow": {
     "slide_type": ""
    },
    "tags": []
   },
   "source": [
    "   "
   ]
  },
  {
   "cell_type": "markdown",
   "metadata": {},
   "source": [
    "  "
   ]
  },
  {
   "cell_type": "markdown",
   "metadata": {
    "editable": true,
    "slideshow": {
     "slide_type": ""
    },
    "tags": []
   },
   "source": [
    "#### Viewing Data"
   ]
  },
  {
   "cell_type": "code",
   "execution_count": 27,
   "metadata": {},
   "outputs": [
    {
     "data": {
      "text/html": [
       "<div>\n",
       "<style scoped>\n",
       "    .dataframe tbody tr th:only-of-type {\n",
       "        vertical-align: middle;\n",
       "    }\n",
       "\n",
       "    .dataframe tbody tr th {\n",
       "        vertical-align: top;\n",
       "    }\n",
       "\n",
       "    .dataframe thead th {\n",
       "        text-align: right;\n",
       "    }\n",
       "</style>\n",
       "<table border=\"1\" class=\"dataframe\">\n",
       "  <thead>\n",
       "    <tr style=\"text-align: right;\">\n",
       "      <th></th>\n",
       "      <th>CreditScore</th>\n",
       "      <th>Geography</th>\n",
       "      <th>Gender</th>\n",
       "      <th>Age</th>\n",
       "      <th>Tenure</th>\n",
       "      <th>Balance</th>\n",
       "      <th>NumOfProducts</th>\n",
       "      <th>HasCrCard</th>\n",
       "      <th>IsActiveMember</th>\n",
       "      <th>EstimatedSalary</th>\n",
       "      <th>Exited</th>\n",
       "    </tr>\n",
       "  </thead>\n",
       "  <tbody>\n",
       "    <tr>\n",
       "      <th>0</th>\n",
       "      <td>619</td>\n",
       "      <td>France</td>\n",
       "      <td>Female</td>\n",
       "      <td>42</td>\n",
       "      <td>2.0</td>\n",
       "      <td>0.00</td>\n",
       "      <td>1</td>\n",
       "      <td>1</td>\n",
       "      <td>1</td>\n",
       "      <td>101348.88</td>\n",
       "      <td>1</td>\n",
       "    </tr>\n",
       "    <tr>\n",
       "      <th>1</th>\n",
       "      <td>608</td>\n",
       "      <td>Spain</td>\n",
       "      <td>Female</td>\n",
       "      <td>41</td>\n",
       "      <td>1.0</td>\n",
       "      <td>83807.86</td>\n",
       "      <td>1</td>\n",
       "      <td>0</td>\n",
       "      <td>1</td>\n",
       "      <td>112542.58</td>\n",
       "      <td>0</td>\n",
       "    </tr>\n",
       "    <tr>\n",
       "      <th>2</th>\n",
       "      <td>502</td>\n",
       "      <td>France</td>\n",
       "      <td>Female</td>\n",
       "      <td>42</td>\n",
       "      <td>8.0</td>\n",
       "      <td>159660.80</td>\n",
       "      <td>3</td>\n",
       "      <td>1</td>\n",
       "      <td>0</td>\n",
       "      <td>113931.57</td>\n",
       "      <td>1</td>\n",
       "    </tr>\n",
       "    <tr>\n",
       "      <th>3</th>\n",
       "      <td>699</td>\n",
       "      <td>France</td>\n",
       "      <td>Female</td>\n",
       "      <td>39</td>\n",
       "      <td>1.0</td>\n",
       "      <td>0.00</td>\n",
       "      <td>2</td>\n",
       "      <td>0</td>\n",
       "      <td>0</td>\n",
       "      <td>93826.63</td>\n",
       "      <td>0</td>\n",
       "    </tr>\n",
       "    <tr>\n",
       "      <th>4</th>\n",
       "      <td>850</td>\n",
       "      <td>Spain</td>\n",
       "      <td>Female</td>\n",
       "      <td>43</td>\n",
       "      <td>2.0</td>\n",
       "      <td>125510.82</td>\n",
       "      <td>1</td>\n",
       "      <td>1</td>\n",
       "      <td>1</td>\n",
       "      <td>79084.10</td>\n",
       "      <td>0</td>\n",
       "    </tr>\n",
       "    <tr>\n",
       "      <th>5</th>\n",
       "      <td>645</td>\n",
       "      <td>Spain</td>\n",
       "      <td>Male</td>\n",
       "      <td>44</td>\n",
       "      <td>8.0</td>\n",
       "      <td>113755.78</td>\n",
       "      <td>2</td>\n",
       "      <td>1</td>\n",
       "      <td>0</td>\n",
       "      <td>149756.71</td>\n",
       "      <td>1</td>\n",
       "    </tr>\n",
       "    <tr>\n",
       "      <th>6</th>\n",
       "      <td>822</td>\n",
       "      <td>France</td>\n",
       "      <td>Male</td>\n",
       "      <td>50</td>\n",
       "      <td>7.0</td>\n",
       "      <td>0.00</td>\n",
       "      <td>2</td>\n",
       "      <td>1</td>\n",
       "      <td>1</td>\n",
       "      <td>10062.80</td>\n",
       "      <td>0</td>\n",
       "    </tr>\n",
       "    <tr>\n",
       "      <th>7</th>\n",
       "      <td>376</td>\n",
       "      <td>Germany</td>\n",
       "      <td>Female</td>\n",
       "      <td>29</td>\n",
       "      <td>4.0</td>\n",
       "      <td>115046.74</td>\n",
       "      <td>4</td>\n",
       "      <td>1</td>\n",
       "      <td>0</td>\n",
       "      <td>119346.88</td>\n",
       "      <td>1</td>\n",
       "    </tr>\n",
       "    <tr>\n",
       "      <th>8</th>\n",
       "      <td>501</td>\n",
       "      <td>France</td>\n",
       "      <td>Male</td>\n",
       "      <td>44</td>\n",
       "      <td>4.0</td>\n",
       "      <td>142051.07</td>\n",
       "      <td>2</td>\n",
       "      <td>0</td>\n",
       "      <td>1</td>\n",
       "      <td>74940.50</td>\n",
       "      <td>0</td>\n",
       "    </tr>\n",
       "    <tr>\n",
       "      <th>9</th>\n",
       "      <td>684</td>\n",
       "      <td>France</td>\n",
       "      <td>Male</td>\n",
       "      <td>27</td>\n",
       "      <td>2.0</td>\n",
       "      <td>134603.88</td>\n",
       "      <td>1</td>\n",
       "      <td>1</td>\n",
       "      <td>1</td>\n",
       "      <td>71725.73</td>\n",
       "      <td>0</td>\n",
       "    </tr>\n",
       "  </tbody>\n",
       "</table>\n",
       "</div>"
      ],
      "text/plain": [
       "   CreditScore Geography  Gender  Age  Tenure    Balance  NumOfProducts  \\\n",
       "0          619    France  Female   42     2.0       0.00              1   \n",
       "1          608     Spain  Female   41     1.0   83807.86              1   \n",
       "2          502    France  Female   42     8.0  159660.80              3   \n",
       "3          699    France  Female   39     1.0       0.00              2   \n",
       "4          850     Spain  Female   43     2.0  125510.82              1   \n",
       "5          645     Spain    Male   44     8.0  113755.78              2   \n",
       "6          822    France    Male   50     7.0       0.00              2   \n",
       "7          376   Germany  Female   29     4.0  115046.74              4   \n",
       "8          501    France    Male   44     4.0  142051.07              2   \n",
       "9          684    France    Male   27     2.0  134603.88              1   \n",
       "\n",
       "   HasCrCard  IsActiveMember  EstimatedSalary  Exited  \n",
       "0          1               1        101348.88       1  \n",
       "1          0               1        112542.58       0  \n",
       "2          1               0        113931.57       1  \n",
       "3          0               0         93826.63       0  \n",
       "4          1               1         79084.10       0  \n",
       "5          1               0        149756.71       1  \n",
       "6          1               1         10062.80       0  \n",
       "7          1               0        119346.88       1  \n",
       "8          0               1         74940.50       0  \n",
       "9          1               1         71725.73       0  "
      ]
     },
     "execution_count": 27,
     "metadata": {},
     "output_type": "execute_result"
    }
   ],
   "source": [
    "# Viewing data\n",
    "\n",
    "data_modified.head(10)"
   ]
  },
  {
   "cell_type": "markdown",
   "metadata": {
    "editable": true,
    "slideshow": {
     "slide_type": ""
    },
    "tags": []
   },
   "source": [
    "<div style=\"border: 2px solid black; padding: 10px; margin: 10px\">\n",
    "\n",
    "After viewing the data above, we're determing which columns of data we want to include in our features to train our model. Things like \"RowNumber\", \"CustomerId\" and \"Surname\" are irrelevant to determing customer churn for Beta Bank. We will drop those in the code below to refine our \"features\" dataset.\n",
    "\n",
    "The columns \"Geography\" and \"Gender\" could be valuable in training our model, so we will keep those. They will need to be converted to numerical values. We will do this below using OHE (One-Hot Encoding).\n",
    "\n",
    "</div>"
   ]
  },
  {
   "cell_type": "markdown",
   "metadata": {
    "editable": true,
    "slideshow": {
     "slide_type": ""
    },
    "tags": []
   },
   "source": [
    "   "
   ]
  },
  {
   "cell_type": "markdown",
   "metadata": {},
   "source": [
    "  "
   ]
  },
  {
   "cell_type": "markdown",
   "metadata": {
    "editable": true,
    "slideshow": {
     "slide_type": ""
    },
    "tags": []
   },
   "source": [
    "#### Checking Data Distribution | Age"
   ]
  },
  {
   "cell_type": "code",
   "execution_count": 32,
   "metadata": {},
   "outputs": [
    {
     "data": {
      "image/png": "[encoded data removed]",
      "text/plain": [
       "<Figure size 1800x600 with 1 Axes>"
      ]
     },
     "metadata": {},
     "output_type": "display_data"
    }
   ],
   "source": [
    "# Histogram showing distribution of \"Age\" in our data\n",
    "\n",
    "# Creating histogram\n",
    "# Setting 'density=True' to normalize the histogram\n",
    "data_modified.hist(column='Age', \n",
    "                   bins=25, \n",
    "                   color='skyblue',\n",
    "                   figsize=(18, 6),\n",
    "                   width=2,\n",
    "                   density=True\n",
    ")\n",
    "\n",
    "# Setting labels, grid and xtick marks\n",
    "plt.title('Age of Customers')\n",
    "plt.xlabel('Year')\n",
    "plt.ylabel('Density')\n",
    "plt.grid(True, color='gray', linewidth=0.25, linestyle='--')\n",
    "plt.xticks(rotation=45, ha='center')\n",
    "\n",
    "# Generating x-values for distribution curve\n",
    "x = np.linspace(min(data_modified['Age']), max(data_modified['Age']), 100)\n",
    "\n",
    "# Plotting distribution curve\n",
    "plt.plot(x, stats.norm.pdf(x, np.mean(data_modified['Age']), np.std(data_modified['Age'])), 'b', label='Normal Distribution')\n",
    "\n",
    "# Displaying visualization\n",
    "plt.show()"
   ]
  },
  {
   "cell_type": "code",
   "execution_count": 33,
   "metadata": {},
   "outputs": [
    {
     "data": {
      "text/plain": [
       "count    10000.000000\n",
       "mean        38.921800\n",
       "std         10.487806\n",
       "min         18.000000\n",
       "25%         32.000000\n",
       "50%         37.000000\n",
       "75%         44.000000\n",
       "max         92.000000\n",
       "Name: Age, dtype: float64"
      ]
     },
     "execution_count": 33,
     "metadata": {},
     "output_type": "execute_result"
    }
   ],
   "source": [
    "# Displaying distribution from describe()\n",
    "\n",
    "data_modified['Age'].describe()"
   ]
  },
  {
   "cell_type": "markdown",
   "metadata": {},
   "source": [
    "<div style=\"border: 2px solid black; padding: 10px; margin: 10px\">\n",
    "\n",
    "As we look at our age data, we're seeing a skew towards the left of the graph implying a higher concentration of young professionals in the customer pool. Seeing as how the mean and the median are very close in proximity, we can determine that although there is a skew to the left, there are some high outliers that are bringing the mean back to the center. We can also tell this by the variance from the 75th percentile to the Max percentile.\n",
    "\n",
    "</div>"
   ]
  },
  {
   "cell_type": "markdown",
   "metadata": {
    "editable": true,
    "slideshow": {
     "slide_type": ""
    },
    "tags": []
   },
   "source": [
    "   "
   ]
  },
  {
   "cell_type": "markdown",
   "metadata": {},
   "source": [
    "  "
   ]
  },
  {
   "cell_type": "markdown",
   "metadata": {
    "editable": true,
    "slideshow": {
     "slide_type": ""
    },
    "tags": []
   },
   "source": [
    "#### Checking Data Distribution | Salary"
   ]
  },
  {
   "cell_type": "code",
   "execution_count": 38,
   "metadata": {},
   "outputs": [
    {
     "data": {
      "image/png": "[encoded data removed]",
      "text/plain": [
       "<Figure size 1800x600 with 1 Axes>"
      ]
     },
     "metadata": {},
     "output_type": "display_data"
    }
   ],
   "source": [
    "# Seting style for plot\n",
    "plt.style.use('seaborn-v0_8-darkgrid')\n",
    "\n",
    "# Creating figure and axis objects\n",
    "fig, ax = plt.subplots(figsize=(18, 6))\n",
    "\n",
    "# Creating histogram\n",
    "data_modified.hist(column='EstimatedSalary', \n",
    "                   bins=25, \n",
    "                   color='goldenrod',\n",
    "                   density=True,\n",
    "                   alpha=0.6,\n",
    "                   ax=ax\n",
    ")\n",
    "\n",
    "# Generating x-values for distribution curve\n",
    "x = np.linspace(min(data_modified['EstimatedSalary']), max(data_modified['EstimatedSalary']), 100)\n",
    "\n",
    "# Plotting distribution curve\n",
    "ax.plot(x, stats.norm.pdf(x, \n",
    "                          np.mean(data_modified['EstimatedSalary']), \n",
    "                          np.std(data_modified['EstimatedSalary'])), \n",
    "        'b', \n",
    "        linewidth=2, \n",
    "        label='Normal Distribution'\n",
    ")\n",
    "\n",
    "# Customizing the plot\n",
    "ax.set_title('Distribution of Customer Estimated Salaries', \n",
    "             pad=30, \n",
    "             fontsize=14, \n",
    "             fontweight='bold')\n",
    "ax.set_xlabel('Estimated Salary (USD)', fontsize=12)\n",
    "ax.set_ylabel('Density', fontsize=12)\n",
    "ax.grid(True, color='gray', linewidth=0.25, linestyle='--', alpha=0.5)\n",
    "\n",
    "# Formatting x-axis labels with comma as thousand separator\n",
    "ax.xaxis.set_major_formatter(plt.FuncFormatter(lambda x, p: format(int(x), ',')))\n",
    "ax.tick_params(axis='x', rotation=45)\n",
    "\n",
    "# Adjusting layout to prevent label cutoff\n",
    "plt.tight_layout()\n",
    "\n",
    "# Displaying the plot\n",
    "plt.show()"
   ]
  },
  {
   "cell_type": "code",
   "execution_count": 39,
   "metadata": {},
   "outputs": [
    {
     "data": {
      "text/plain": [
       "count     10000.000000\n",
       "mean     100090.239881\n",
       "std       57510.492818\n",
       "min          11.580000\n",
       "25%       51002.110000\n",
       "50%      100193.915000\n",
       "75%      149388.247500\n",
       "max      199992.480000\n",
       "Name: EstimatedSalary, dtype: float64"
      ]
     },
     "execution_count": 39,
     "metadata": {},
     "output_type": "execute_result"
    }
   ],
   "source": [
    "# Displaying distribution from describe()\n",
    "\n",
    "data_modified['EstimatedSalary'].describe()"
   ]
  },
  {
   "cell_type": "markdown",
   "metadata": {},
   "source": [
    "<div style=\"border: 2px solid black; padding: 10px; margin: 10px\">\n",
    "\n",
    "For our Estimated Salary distribution we can definitely see a normal distribution across all salaries. This is helpful in knowing that the data is a good representation of the population of customers at Beta Bank.\n",
    "\n",
    "</div>"
   ]
  },
  {
   "cell_type": "markdown",
   "metadata": {
    "editable": true,
    "slideshow": {
     "slide_type": ""
    },
    "tags": []
   },
   "source": [
    "  "
   ]
  },
  {
   "cell_type": "markdown",
   "metadata": {},
   "source": [
    "  "
   ]
  },
  {
   "cell_type": "markdown",
   "metadata": {},
   "source": [
    "#### Initiating Data Sets for ML"
   ]
  },
  {
   "cell_type": "code",
   "execution_count": 44,
   "metadata": {
    "editable": true,
    "slideshow": {
     "slide_type": ""
    },
    "tags": []
   },
   "outputs": [],
   "source": [
    "# Importing data, Encoding data, Splitting Data into Train & Validation Sets\n",
    "\n",
    "# Original dataset imported above\n",
    "\n",
    "# Splitting data Features & Target sets\n",
    "target = data_modified['Exited']\n",
    "features = data_modified.drop('Exited', axis=1)\n",
    "\n",
    "# Using OHE to encode dataset after splitting\n",
    "# drop_first=True parameter set to avoid duplicating values\n",
    "features_ohe = pd.get_dummies(features, drop_first=True)\n",
    "\n",
    "# Creating Training and Temporary sets to later create a final Test Set\n",
    "# Temp set is set to 30% of original dataset (test_size=0.30)\n",
    "# random_state=12345 to be able to replicate results\n",
    "features_train, features_temp, target_train, target_temp = train_test_split(\n",
    "    features_ohe, target, test_size=0.30, random_state=12345)\n",
    "\n",
    "# Now creating Validation Set & Final Test Sets (15% split each)\n",
    "# We're creating these sets from the \"Temp\" set\n",
    "features_valid, features_test, target_valid, target_test = train_test_split(\n",
    "    features_temp, target_temp, test_size=0.50, random_state=12345\n",
    ")"
   ]
  },
  {
   "cell_type": "markdown",
   "metadata": {
    "editable": true,
    "slideshow": {
     "slide_type": ""
    },
    "tags": []
   },
   "source": [
    "<div style=\"border: 2px solid black; padding: 10px; margin: 10px\">\n",
    "\n",
    "First, we split the original dataset into two modified datasets to isolate the \"target\" and \"feaures\" data.\n",
    "\n",
    "Then, we're utilizing One-Hot Encoding (OHE) to encode the non-numerical values within our \"features\" dataset. Ensuring we don't duplicate values by including 'drop_first=True'. \n",
    "\n",
    "Afterwards, we're creating the <b>training</b>, <b>validation</b>, and <b>test</b> datasets to train our model, later validate it's accuracy, and then a final test with unchanged and unique data. <br>\n",
    "(Dataset distribution: Training = 70%, Validation = 15%, Test = 15%)\n",
    "\n",
    "</div>"
   ]
  },
  {
   "cell_type": "markdown",
   "metadata": {
    "editable": true,
    "slideshow": {
     "slide_type": ""
    },
    "tags": []
   },
   "source": [
    "  "
   ]
  },
  {
   "cell_type": "markdown",
   "metadata": {
    "editable": true,
    "slideshow": {
     "slide_type": ""
    },
    "tags": []
   },
   "source": [
    "  "
   ]
  },
  {
   "cell_type": "markdown",
   "metadata": {
    "editable": true,
    "slideshow": {
     "slide_type": ""
    },
    "tags": []
   },
   "source": [
    "## Examining The Balance of Classes"
   ]
  },
  {
   "cell_type": "markdown",
   "metadata": {
    "editable": true,
    "slideshow": {
     "slide_type": ""
    },
    "tags": []
   },
   "source": [
    "#### Class Distribution"
   ]
  },
  {
   "cell_type": "code",
   "execution_count": 50,
   "metadata": {
    "editable": true,
    "slideshow": {
     "slide_type": ""
    },
    "tags": []
   },
   "outputs": [
    {
     "name": "stdout",
     "output_type": "stream",
     "text": [
      "Exited\n",
      "0    7963\n",
      "1    2037\n",
      "Name: count, dtype: int64\n",
      "\n",
      "Exited\n",
      "0    0.7963\n",
      "1    0.2037\n",
      "Name: proportion, dtype: float64\n"
     ]
    }
   ],
   "source": [
    "# Examining the balance of classes within our \"target\" dataset\n",
    "\n",
    "# Displaying actual counts\n",
    "print(target.value_counts())\n",
    "print()\n",
    "\n",
    "# Displaying percentages\n",
    "print(target.value_counts(normalize=True))"
   ]
  },
  {
   "cell_type": "markdown",
   "metadata": {
    "editable": true,
    "slideshow": {
     "slide_type": ""
    },
    "tags": []
   },
   "source": [
    "<div style=\"border: 2px solid black; padding: 10px; margin: 10px\">\n",
    "\n",
    "In our target, we have two classes present (0 and 1). We're seeing a steep imbalance of class in this original target dataset. The target is 'Exited', meaning 1 represents a \"yes\" and 0 represents a \"no\". Currently, roughly 20% of the customers in our data have exited, and almost 80% are still with the bank.\n",
    "\n",
    "</div>"
   ]
  },
  {
   "cell_type": "markdown",
   "metadata": {
    "editable": true,
    "slideshow": {
     "slide_type": ""
    },
    "tags": []
   },
   "source": [
    "   "
   ]
  },
  {
   "cell_type": "markdown",
   "metadata": {
    "editable": true,
    "slideshow": {
     "slide_type": ""
    },
    "tags": []
   },
   "source": [
    "   "
   ]
  },
  {
   "cell_type": "markdown",
   "metadata": {
    "editable": true,
    "slideshow": {
     "slide_type": ""
    },
    "tags": []
   },
   "source": [
    "#### Training LogisticRegression Model with Imbalances"
   ]
  },
  {
   "cell_type": "markdown",
   "metadata": {},
   "source": [
    "<div style=\"border: 2px solid black; padding: 10px; margin: 10px\">\n",
    "\n",
    "We will first train a model with the imbalanced classes to be able to compare later their variance once balanced.<br>\n",
    "\n",
    "We'll calculate three scores to help us determine the models efficacy:<br> \n",
    "* <b>Precision</b> - the proportion of <u>True Positive</u> (TP) answers compared to the <u>TP</u> answers plus the <u>False Positive</u> (FP) answers. In other words, of all the answers the model deemed as positive, how many of those are actually <u>TP</u>'s?<br>\n",
    "\n",
    "* <b>Recall</b> - the proportion of <u>TP</u> answers the model chose compared to those <u>TP</u>'s plus the <u>False Negative</u> (FN) answers depicted by the model. In other words, of all the possible <u>TP</u> answers, how many did the model accurately choose?<br>\n",
    "\n",
    "* <b>F1 Score</b> - describes how well the model understood the properties of the target class and how well that class was recognized<br>\n",
    "\n",
    "The closer these scores are to 1.0, the higher the model performance. \n",
    "\n",
    "</div>"
   ]
  },
  {
   "cell_type": "code",
   "execution_count": 56,
   "metadata": {
    "editable": true,
    "slideshow": {
     "slide_type": ""
    },
    "tags": []
   },
   "outputs": [
    {
     "name": "stdout",
     "output_type": "stream",
     "text": [
      "Precision Score: 0.57\n",
      "Recall Score: 0.03\n",
      "F1 Score: 0.05\n"
     ]
    }
   ],
   "source": [
    "# Training model without taking into account the imbalance\n",
    "\n",
    "# Initiating LogisticRegression constructor with same random_state and solver='liblinear'\n",
    "model = LogisticRegression(random_state=12345, solver='liblinear')\n",
    "\n",
    "# Training model with training sets\n",
    "model.fit(features_train, target_train)\n",
    "\n",
    "# Predicting values using our Validation Set\n",
    "predicted_valid = model.predict(features_valid)\n",
    "\n",
    "# Calculating Scores\n",
    "unbalanced_precision = precision_score(target_valid, predicted_valid)\n",
    "unbalanced_recall = recall_score(target_valid, predicted_valid)\n",
    "unbalanced_f1score = f1_score(target_valid, predicted_valid)\n",
    "\n",
    "# Printing\n",
    "print(f\"Precision Score: {unbalanced_precision:.2f}\")\n",
    "print(f\"Recall Score: {unbalanced_recall:.2f}\")\n",
    "print(f\"F1 Score: {unbalanced_f1score:.2f}\")"
   ]
  },
  {
   "cell_type": "markdown",
   "metadata": {
    "editable": true,
    "slideshow": {
     "slide_type": ""
    },
    "tags": []
   },
   "source": [
    "<div style=\"border: 2px solid black; padding: 10px; margin: 10px\">\n",
    "\n",
    "Here's what the results are telling us:<br>\n",
    "\n",
    "1. The <b>Precision</b> of our model is the highest of all three scores, meaning that the majority of the answers that the model is returning as \"TP\" are <u>actually</u> positive answers.<br><br>\n",
    "2. Our <b>Recall</b> score is telling us that although the answers the model is choosing are often TP's, the model is still not choosing a vast majority of the possible TP's. This is an indication that our model is too strict, or trained too far in one direction, where it can't detect the majority of the answers we want it to find.<br><br>\n",
    "3. Our overall score, as depicted by our <b>F1 Score</b> is low. It's telling us that the quality of the model is very low in predicting the positive class from our data.\n",
    "\n",
    "</div>"
   ]
  },
  {
   "cell_type": "markdown",
   "metadata": {
    "editable": true,
    "slideshow": {
     "slide_type": ""
    },
    "tags": []
   },
   "source": [
    "   "
   ]
  },
  {
   "cell_type": "markdown",
   "metadata": {
    "editable": true,
    "slideshow": {
     "slide_type": ""
    },
    "tags": []
   },
   "source": [
    "  "
   ]
  },
  {
   "cell_type": "markdown",
   "metadata": {
    "editable": true,
    "slideshow": {
     "slide_type": ""
    },
    "tags": []
   },
   "source": [
    "#### Training DecisionTree Model with Imbalances"
   ]
  },
  {
   "cell_type": "code",
   "execution_count": 61,
   "metadata": {},
   "outputs": [
    {
     "name": "stdout",
     "output_type": "stream",
     "text": [
      "Best Model: DecisionTreeClassifier(max_depth=5, random_state=12345)\n",
      "\n",
      "F1 Score: 0.56\n"
     ]
    }
   ],
   "source": [
    "# Running through different tree depths to determine best fit\n",
    "\n",
    "# Initiating variables\n",
    "best_model_imb = None\n",
    "best_result_imb = 0\n",
    "\n",
    "# Creating \"for\" Loop\n",
    "for depth in range(1, 11):\n",
    "    \n",
    "    # Creating model, asking it to loop through range in loop\n",
    "    model_dt_imb = DecisionTreeClassifier(random_state=12345, max_depth=depth)\n",
    "\n",
    "    # Training model to Unbalanced Data\n",
    "    model_dt_imb.fit(features_train, target_train)\n",
    "\n",
    "    # Evaluating results on Validation Set\n",
    "    # Calculating F1 Score\n",
    "    predictions_imb = model_dt_imb.predict(features_valid)\n",
    "    result_imb = f1_score(target_valid, predictions_imb)\n",
    "\n",
    "    # Setting evaluation metrics\n",
    "    if result_imb > best_result_imb:\n",
    "        best_model_imb = model_dt_imb\n",
    "        best_result_imb = result_imb\n",
    "\n",
    "print(f\"Best Model: {best_model_imb}\")\n",
    "print()\n",
    "print(f\"F1 Score: {best_result_imb:.2f}\")"
   ]
  },
  {
   "cell_type": "markdown",
   "metadata": {
    "editable": true,
    "slideshow": {
     "slide_type": ""
    },
    "tags": []
   },
   "source": [
    "   "
   ]
  },
  {
   "cell_type": "markdown",
   "metadata": {
    "editable": true,
    "slideshow": {
     "slide_type": ""
    },
    "tags": []
   },
   "source": [
    "  "
   ]
  },
  {
   "cell_type": "markdown",
   "metadata": {
    "editable": true,
    "slideshow": {
     "slide_type": ""
    },
    "tags": []
   },
   "source": [
    "## Improving Model Quality"
   ]
  },
  {
   "cell_type": "markdown",
   "metadata": {
    "editable": true,
    "slideshow": {
     "slide_type": ""
    },
    "tags": []
   },
   "source": [
    "<div style=\"border: 2px solid black; padding: 10px; margin: 10px\">\n",
    "\n",
    "We need to improve our model's quality, to do this, we will implore the following techniques:<br>\n",
    "\n",
    "* <b>Upsampling</b> - We'll upsample the Class \"1\" values to match the original Class \"0\" values\n",
    "* <b>Downsampling</b> - We'll downsample the Class \"0\" values to match the original Class \"1\" values\n",
    "* <b>Class Weight Adjustment</b> - Where we'll edit the weight the model places on each class<br>\n",
    "\n",
    "Afterwards, we will then train different models to assess the best fit for the data.\n",
    "\n",
    "</div>"
   ]
  },
  {
   "cell_type": "markdown",
   "metadata": {
    "editable": true,
    "slideshow": {
     "slide_type": ""
    },
    "tags": []
   },
   "source": [
    "  "
   ]
  },
  {
   "cell_type": "markdown",
   "metadata": {
    "editable": true,
    "slideshow": {
     "slide_type": ""
    },
    "tags": []
   },
   "source": [
    "  "
   ]
  },
  {
   "cell_type": "markdown",
   "metadata": {
    "editable": true,
    "slideshow": {
     "slide_type": ""
    },
    "tags": []
   },
   "source": [
    "### Fixing Class Imbalance"
   ]
  },
  {
   "cell_type": "markdown",
   "metadata": {},
   "source": [
    "#### Upsampling the Model"
   ]
  },
  {
   "cell_type": "code",
   "execution_count": 70,
   "metadata": {},
   "outputs": [
    {
     "name": "stdout",
     "output_type": "stream",
     "text": [
      "(5589, 11)\n",
      "(1411, 11)\n",
      "(5589,)\n",
      "(1411,)\n"
     ]
    }
   ],
   "source": [
    "# Checking shape of split data sets by class for reference\n",
    "features_ups_zeros = features_train[target_train == 0]\n",
    "features_ups_ones = features_train[target_train == 1]\n",
    "target_ups_zeros = target_train[target_train == 0]\n",
    "target_ups_ones = target_train[target_train == 1]\n",
    "\n",
    "# Printing shapes\n",
    "print(features_ups_zeros.shape)\n",
    "print(features_ups_ones.shape)\n",
    "print(target_ups_zeros.shape)\n",
    "print(target_ups_ones.shape)"
   ]
  },
  {
   "cell_type": "markdown",
   "metadata": {
    "editable": true,
    "slideshow": {
     "slide_type": ""
    },
    "tags": []
   },
   "source": [
    "  "
   ]
  },
  {
   "cell_type": "markdown",
   "metadata": {
    "editable": true,
    "slideshow": {
     "slide_type": ""
    },
    "tags": []
   },
   "source": [
    "  "
   ]
  },
  {
   "cell_type": "code",
   "execution_count": 73,
   "metadata": {},
   "outputs": [],
   "source": [
    "# Creating a function to split the classes, upsample the data\n",
    "# shuffle the data, and return the new datasets\n",
    "\n",
    "def upsample(features, target, repeat):\n",
    "    # Splitting data by class\n",
    "    features_ups_zeros = features[target == 0]\n",
    "    features_ups_ones = features[target == 1]\n",
    "    target_ups_zeros = target[target == 0]\n",
    "    target_ups_ones = target[target == 1]\n",
    "\n",
    "    # Upsampling data\n",
    "    features_upsampled = pd.concat([features_ups_zeros] + [features_ups_ones] * repeat)\n",
    "    target_upsampled = pd.concat([target_ups_zeros] + [target_ups_ones] * repeat)\n",
    "\n",
    "    # Shuffling data\n",
    "    features_upsampled, target_upsampled = shuffle(\n",
    "        features_upsampled, target_upsampled, random_state=12345\n",
    "    )\n",
    "\n",
    "    return features_upsampled, target_upsampled\n",
    "\n",
    "\n",
    "# Running function to upsample training set into\n",
    "# \"features_upsampled\" and \"target_upsampled\"\n",
    "# Using \"3\" because it produces a higher F1 Score\n",
    "features_upsampled, target_upsampled = upsample(\n",
    "    features_train, target_train, 3\n",
    ")"
   ]
  },
  {
   "cell_type": "markdown",
   "metadata": {
    "editable": true,
    "slideshow": {
     "slide_type": ""
    },
    "tags": []
   },
   "source": [
    "  "
   ]
  },
  {
   "cell_type": "markdown",
   "metadata": {
    "editable": true,
    "slideshow": {
     "slide_type": ""
    },
    "tags": []
   },
   "source": [
    "  "
   ]
  },
  {
   "cell_type": "markdown",
   "metadata": {},
   "source": [
    "#### Downsampling the Model"
   ]
  },
  {
   "cell_type": "code",
   "execution_count": 77,
   "metadata": {},
   "outputs": [],
   "source": [
    "# Function similar to upsampling, using fraction instead of \"repeat\" variable\n",
    "\n",
    "def downsample(features, target, fraction):\n",
    "    # Splitting data by class\n",
    "    features_ds_zeros = features[target == 0]\n",
    "    features_ds_ones = features[target == 1]\n",
    "    target_ds_zeros = target[target == 0]\n",
    "    target_ds_ones = target[target == 1]\n",
    "\n",
    "    # Downsampling data\n",
    "    features_downsampled = pd.concat(\n",
    "        [features_ds_zeros.sample(frac=fraction, random_state=12345)]\n",
    "        + [features_ds_ones]\n",
    "    )\n",
    "    \n",
    "    target_downsampled = pd.concat(\n",
    "        [target_ds_zeros.sample(frac=fraction, random_state=12345)]\n",
    "        + [target_ds_ones]\n",
    "    )\n",
    "    \n",
    "    # Shuffling data\n",
    "    features_downsampled, target_downsampled = shuffle(\n",
    "        features_downsampled, target_downsampled, random_state=12345\n",
    "    )\n",
    "\n",
    "    return features_downsampled, target_downsampled\n",
    "\n",
    "\n",
    "# Running function to downsample training set into\n",
    "# \"features_downsampled\" and \"target_downsampled\"\n",
    "# Using 0.25 because minority class is about that percentage of majority class\n",
    "features_downsampled, target_downsampled = downsample(\n",
    "    features_train, target_train, 0.25\n",
    ")"
   ]
  },
  {
   "cell_type": "markdown",
   "metadata": {
    "editable": true,
    "slideshow": {
     "slide_type": ""
    },
    "tags": []
   },
   "source": [
    "  "
   ]
  },
  {
   "cell_type": "markdown",
   "metadata": {
    "editable": true,
    "slideshow": {
     "slide_type": ""
    },
    "tags": []
   },
   "source": [
    " "
   ]
  },
  {
   "cell_type": "markdown",
   "metadata": {},
   "source": [
    "### Training Models | Upsampled Data"
   ]
  },
  {
   "cell_type": "markdown",
   "metadata": {},
   "source": [
    "#### Logistic Regression\n",
    "<i>Upsampled Data</i>"
   ]
  },
  {
   "cell_type": "code",
   "execution_count": 82,
   "metadata": {},
   "outputs": [
    {
     "name": "stdout",
     "output_type": "stream",
     "text": [
      "F1 Score: 0.45\n"
     ]
    }
   ],
   "source": [
    "# Initiating LogisticRegression constructor with same random_state and solver='liblinear'\n",
    "model_up = LogisticRegression(random_state=12345, solver='liblinear')\n",
    "\n",
    "# Training model with upsampled sets\n",
    "model_up.fit(features_upsampled, target_upsampled)\n",
    "\n",
    "# Predicting values using our Validation Set\n",
    "predicted_valid_up = model_up.predict(features_valid)\n",
    "\n",
    "# Calculating F1 Score\n",
    "upsampled_f1score = f1_score(target_valid, predicted_valid_up)\n",
    "\n",
    "# Printing result\n",
    "print(f\"F1 Score: {upsampled_f1score:.2f}\")"
   ]
  },
  {
   "cell_type": "markdown",
   "metadata": {
    "editable": true,
    "slideshow": {
     "slide_type": ""
    },
    "tags": []
   },
   "source": [
    "  "
   ]
  },
  {
   "cell_type": "markdown",
   "metadata": {
    "editable": true,
    "slideshow": {
     "slide_type": ""
    },
    "tags": []
   },
   "source": [
    "  "
   ]
  },
  {
   "cell_type": "markdown",
   "metadata": {},
   "source": [
    "#### Decision Tree\n",
    "<i>Upsampled Data</i>"
   ]
  },
  {
   "cell_type": "code",
   "execution_count": 86,
   "metadata": {},
   "outputs": [
    {
     "name": "stdout",
     "output_type": "stream",
     "text": [
      "Best Model: DecisionTreeClassifier(max_depth=5, random_state=12345)\n",
      "\n",
      "F1 Score: 0.61\n"
     ]
    }
   ],
   "source": [
    "# Running through different tree depths to determine best fit\n",
    "\n",
    "# Initiating variables\n",
    "best_model_up = None\n",
    "best_result_up = 0\n",
    "\n",
    "# Creating \"for\" Loop\n",
    "for depth in range(1, 11):\n",
    "    \n",
    "    # Creating model, asking it to loop through range in loop\n",
    "    model_dt_up = DecisionTreeClassifier(random_state=12345, max_depth=depth)\n",
    "\n",
    "    # Training model to Upsampled Data\n",
    "    model_dt_up.fit(features_upsampled, target_upsampled)\n",
    "\n",
    "    # Evaluating results on Validation Set\n",
    "    # Calculating F1 Score\n",
    "    predictions_up = model_dt_up.predict(features_valid)\n",
    "    result_up = f1_score(target_valid, predictions_up)\n",
    "\n",
    "    # Setting evaluation metrics\n",
    "    if result_up > best_result_up:\n",
    "        best_model_up = model_dt_up\n",
    "        best_result_up = result_up\n",
    "\n",
    "print(f\"Best Model: {best_model_up}\")\n",
    "print()\n",
    "print(f\"F1 Score: {best_result_up:.2f}\")"
   ]
  },
  {
   "cell_type": "markdown",
   "metadata": {
    "editable": true,
    "slideshow": {
     "slide_type": ""
    },
    "tags": []
   },
   "source": [
    "  "
   ]
  },
  {
   "cell_type": "markdown",
   "metadata": {
    "editable": true,
    "slideshow": {
     "slide_type": ""
    },
    "tags": []
   },
   "source": [
    "  "
   ]
  },
  {
   "cell_type": "markdown",
   "metadata": {},
   "source": [
    "#### Random Forest\n",
    "<i>Upsampled Data</i>"
   ]
  },
  {
   "cell_type": "code",
   "execution_count": 90,
   "metadata": {},
   "outputs": [
    {
     "name": "stdout",
     "output_type": "stream",
     "text": [
      "Accuracy of Best Model on Validation Set (n_estimators = 10): 0.85\n",
      "\n",
      "F1 Score: 0.57\n"
     ]
    }
   ],
   "source": [
    "# Running through different number of estimators\n",
    "\n",
    "# Initializing variables\n",
    "best_score_rf_up = 0\n",
    "best_est_rf_up = 0\n",
    "\n",
    "# Creating \"for\" Loop\n",
    "for est in range(1, 11):\n",
    "\n",
    "    # Creating model, asking it to loop through range in loop\n",
    "    model_rf_up = RandomForestClassifier(random_state=12345, n_estimators=est)\n",
    "\n",
    "    # Training model to Upsampled Data\n",
    "    model_rf_up.fit(features_upsampled, target_upsampled)\n",
    "\n",
    "    # Eval on Valid Set, Calculating Best Accuracy Score\n",
    "    score_rf_up = model_rf_up.score(features_valid, target_valid)\n",
    "\n",
    "    # Eval metrics\n",
    "    if score_rf_up > best_score_rf_up:\n",
    "        best_score_rf_up = score_rf_up # saving best accuracy score\n",
    "        best_est_rf_up = est # saving number of estimators corresponding to best score\n",
    "\n",
    "print(\"Accuracy of Best Model on Validation Set (n_estimators = {}): {:.2f}\".format(best_est_rf_up, best_score_rf_up))\n",
    "print()\n",
    "\n",
    "# Initiating an instance of a random forest with the best number of estimators\n",
    "final_model_rf_up = RandomForestClassifier(random_state=12345, n_estimators=best_est_rf_up)\n",
    "\n",
    "# Training that model with the upsampled data\n",
    "final_model_rf_up.fit(features_upsampled, target_upsampled)\n",
    "\n",
    "# Calculating predictions on the final model with validation set\n",
    "final_predictions_up = final_model_rf_up.predict(features_valid)\n",
    "\n",
    "# Calculating F1 Score\n",
    "final_f1score_up = f1_score(target_valid, final_predictions_up)\n",
    "\n",
    "# Printing results\n",
    "print(f\"F1 Score: {final_f1score_up:.2f}\")"
   ]
  },
  {
   "cell_type": "markdown",
   "metadata": {
    "editable": true,
    "slideshow": {
     "slide_type": ""
    },
    "tags": []
   },
   "source": [
    "  "
   ]
  },
  {
   "cell_type": "markdown",
   "metadata": {
    "editable": true,
    "slideshow": {
     "slide_type": ""
    },
    "tags": []
   },
   "source": [
    "  "
   ]
  },
  {
   "cell_type": "markdown",
   "metadata": {},
   "source": [
    "### Training Models | Downsampled Data"
   ]
  },
  {
   "cell_type": "markdown",
   "metadata": {},
   "source": [
    "#### Logistic Regression\n",
    "<i>Downsampled Data</i>"
   ]
  },
  {
   "cell_type": "code",
   "execution_count": 95,
   "metadata": {},
   "outputs": [
    {
     "name": "stdout",
     "output_type": "stream",
     "text": [
      "F1 Score: 0.45\n"
     ]
    }
   ],
   "source": [
    "# Initiating LogisticRegression constructor with same random_state and solver='liblinear'\n",
    "model_down = LogisticRegression(random_state=12345, solver='liblinear')\n",
    "\n",
    "# Training model with downsampled sets\n",
    "model_down.fit(features_downsampled, target_downsampled)\n",
    "\n",
    "# Predicting values using our Validation Set\n",
    "predicted_valid_down = model_down.predict(features_valid)\n",
    "\n",
    "# Calculating F1 Score\n",
    "downsampled_f1score = f1_score(target_valid, predicted_valid_down)\n",
    "\n",
    "# Printing result\n",
    "print(f\"F1 Score: {downsampled_f1score:.2f}\")"
   ]
  },
  {
   "cell_type": "markdown",
   "metadata": {
    "editable": true,
    "slideshow": {
     "slide_type": ""
    },
    "tags": []
   },
   "source": [
    "  "
   ]
  },
  {
   "cell_type": "markdown",
   "metadata": {
    "editable": true,
    "slideshow": {
     "slide_type": ""
    },
    "tags": []
   },
   "source": [
    "  "
   ]
  },
  {
   "cell_type": "markdown",
   "metadata": {},
   "source": [
    "#### Decision Tree\n",
    "<i>Downsampled Data</i>"
   ]
  },
  {
   "cell_type": "code",
   "execution_count": 99,
   "metadata": {},
   "outputs": [
    {
     "name": "stdout",
     "output_type": "stream",
     "text": [
      "Best Model: DecisionTreeClassifier(max_depth=5, random_state=12345)\n",
      "\n",
      "F1 Score: 0.56\n"
     ]
    }
   ],
   "source": [
    "# Running through different tree depths to determine best fit\n",
    "\n",
    "# Initiating variables\n",
    "best_model_down = None\n",
    "best_result_down = 0\n",
    "\n",
    "# Creating \"for\" Loop\n",
    "for depth in range(1, 11):\n",
    "    \n",
    "    # Creating model, asking it to loop through range in loop\n",
    "    model_dt_down = DecisionTreeClassifier(random_state=12345, max_depth=depth)\n",
    "\n",
    "    # Training model to Downsampled Data\n",
    "    model_dt_down.fit(features_downsampled, target_downsampled)\n",
    "\n",
    "    # Evaluating results on Validation Set\n",
    "    # Calculating F1 Score\n",
    "    predictions_down = model_dt_down.predict(features_valid)\n",
    "    result_down = f1_score(target_valid, predictions_down)\n",
    "\n",
    "    # Setting evaluation metrics\n",
    "    if result_down > best_result_down:\n",
    "        best_model_down = model_dt_down\n",
    "        best_result_down = result_down\n",
    "\n",
    "print(f\"Best Model: {best_model_down}\")\n",
    "print()\n",
    "print(f\"F1 Score: {best_result_down:.2f}\")"
   ]
  },
  {
   "cell_type": "markdown",
   "metadata": {
    "editable": true,
    "slideshow": {
     "slide_type": ""
    },
    "tags": []
   },
   "source": [
    "  "
   ]
  },
  {
   "cell_type": "markdown",
   "metadata": {
    "editable": true,
    "slideshow": {
     "slide_type": ""
    },
    "tags": []
   },
   "source": [
    "  "
   ]
  },
  {
   "cell_type": "markdown",
   "metadata": {},
   "source": [
    "#### Random Forest\n",
    "<i>Downsampled Data</i>"
   ]
  },
  {
   "cell_type": "code",
   "execution_count": 103,
   "metadata": {},
   "outputs": [
    {
     "name": "stdout",
     "output_type": "stream",
     "text": [
      "Accuracy of Best Model on Validation Set (n_estimators = 10): 0.79\n",
      "\n",
      "F1 Score: 0.58\n"
     ]
    }
   ],
   "source": [
    "# Running through different number of estimators\n",
    "\n",
    "# Initializing variables\n",
    "best_score_rf_down = 0\n",
    "best_est_rf_down = 0\n",
    "\n",
    "# Creating \"for\" Loop\n",
    "for est in range(1, 11):\n",
    "\n",
    "    # Creating model, asking it to loop through range in loop\n",
    "    model_rf_down = RandomForestClassifier(random_state=12345, n_estimators=est)\n",
    "\n",
    "    # Training model to Downsampled Data\n",
    "    model_rf_down.fit(features_downsampled, target_downsampled)\n",
    "\n",
    "    # Eval on Valid Set, Calculating Best Accuracy Score\n",
    "    score_rf_down = model_rf_down.score(features_valid, target_valid)\n",
    "\n",
    "    # Eval metrics\n",
    "    if score_rf_down > best_score_rf_down:\n",
    "        best_score_rf_down = score_rf_down # saving best accuracy score\n",
    "        best_est_rf_down = est # saving number of estimators corresponding to best score\n",
    "\n",
    "print(\"Accuracy of Best Model on Validation Set (n_estimators = {}): {:.2f}\".format(best_est_rf_down, best_score_rf_down))\n",
    "print()\n",
    "\n",
    "# Initiating an instance of a random forest with the best number of estimators\n",
    "final_model_rf_down = RandomForestClassifier(random_state=12345, n_estimators=best_est_rf_down)\n",
    "\n",
    "# Training that model with the upsampled data\n",
    "final_model_rf_down.fit(features_downsampled, target_downsampled)\n",
    "\n",
    "# Calculating predictions on the final model with validation set\n",
    "final_predictions_down = final_model_rf_down.predict(features_valid)\n",
    "\n",
    "# Calculating F1 Score\n",
    "final_f1score_down = f1_score(target_valid, final_predictions_down)\n",
    "\n",
    "# Printing results\n",
    "print(f\"F1 Score: {final_f1score_down:.2f}\")\n"
   ]
  },
  {
   "cell_type": "markdown",
   "metadata": {
    "editable": true,
    "slideshow": {
     "slide_type": ""
    },
    "tags": []
   },
   "source": [
    "  "
   ]
  },
  {
   "cell_type": "markdown",
   "metadata": {
    "editable": true,
    "slideshow": {
     "slide_type": ""
    },
    "tags": []
   },
   "source": [
    "  "
   ]
  },
  {
   "cell_type": "markdown",
   "metadata": {},
   "source": [
    "### Training Models | Balanced Classes"
   ]
  },
  {
   "cell_type": "markdown",
   "metadata": {},
   "source": [
    "#### Logistic Regression\n",
    "<i>Balanced Classes</i>"
   ]
  },
  {
   "cell_type": "code",
   "execution_count": 108,
   "metadata": {},
   "outputs": [
    {
     "name": "stdout",
     "output_type": "stream",
     "text": [
      "F1 Score: 0.48\n"
     ]
    }
   ],
   "source": [
    "# Initiating LogisticRegression constructor with same random_state and solver='liblinear'\n",
    "# Including \"class_weight='balanced'\" to balance classes\n",
    "model_balanced = LogisticRegression(random_state=12345, solver='liblinear', class_weight='balanced')\n",
    "\n",
    "# Training model with training sets\n",
    "model_balanced.fit(features_train, target_train)\n",
    "\n",
    "# Predicting values using our Validation Set\n",
    "predicted_balanced = model_balanced.predict(features_valid)\n",
    "\n",
    "# Calculating F1 Score\n",
    "balanced_f1score = f1_score(target_valid, predicted_balanced)\n",
    "\n",
    "# Printing result\n",
    "print(f\"F1 Score: {balanced_f1score:.2f}\")"
   ]
  },
  {
   "cell_type": "markdown",
   "metadata": {
    "editable": true,
    "slideshow": {
     "slide_type": ""
    },
    "tags": []
   },
   "source": [
    "  "
   ]
  },
  {
   "cell_type": "markdown",
   "metadata": {
    "editable": true,
    "slideshow": {
     "slide_type": ""
    },
    "tags": []
   },
   "source": [
    "  "
   ]
  },
  {
   "cell_type": "markdown",
   "metadata": {},
   "source": [
    "#### Decision Tree\n",
    "<i>Balanced Classes</i>"
   ]
  },
  {
   "cell_type": "code",
   "execution_count": 112,
   "metadata": {},
   "outputs": [
    {
     "name": "stdout",
     "output_type": "stream",
     "text": [
      "Best Model: DecisionTreeClassifier(class_weight='balanced', max_depth=5, random_state=12345)\n",
      "\n",
      "F1 Score: 0.60\n"
     ]
    }
   ],
   "source": [
    "# Running through different tree depths to determine best fit\n",
    "\n",
    "# Initiating variables\n",
    "best_model_balanced = None\n",
    "best_result_balanced = 0\n",
    "\n",
    "# Creating \"for\" Loop\n",
    "for depth in range(1, 11):\n",
    "    \n",
    "    # Creating model, asking it to loop through range in loop\n",
    "    model_dt_balanced = DecisionTreeClassifier(random_state=12345, max_depth=depth, class_weight='balanced')\n",
    "\n",
    "    # Training model to Balanced Data\n",
    "    model_dt_balanced.fit(features_train, target_train)\n",
    "\n",
    "    # Evaluating results on Validation Set\n",
    "    # Calculating F1 Score\n",
    "    predictions_dt_balanced = model_dt_balanced.predict(features_valid)\n",
    "    result_dt_balanced = f1_score(target_valid, predictions_dt_balanced)\n",
    "\n",
    "    # Setting evaluation metrics\n",
    "    if result_dt_balanced > best_result_balanced:\n",
    "        best_model_balanced = model_dt_balanced\n",
    "        best_result_balanced = result_dt_balanced\n",
    "\n",
    "print(f\"Best Model: {best_model_balanced}\")\n",
    "print()\n",
    "print(f\"F1 Score: {best_result_balanced:.2f}\")"
   ]
  },
  {
   "cell_type": "markdown",
   "metadata": {
    "editable": true,
    "slideshow": {
     "slide_type": ""
    },
    "tags": []
   },
   "source": [
    "  "
   ]
  },
  {
   "cell_type": "markdown",
   "metadata": {
    "editable": true,
    "slideshow": {
     "slide_type": ""
    },
    "tags": []
   },
   "source": [
    "  "
   ]
  },
  {
   "cell_type": "markdown",
   "metadata": {},
   "source": [
    "#### Random Forest\n",
    "<i>Balanced Classes</i>"
   ]
  },
  {
   "cell_type": "code",
   "execution_count": 116,
   "metadata": {},
   "outputs": [
    {
     "name": "stdout",
     "output_type": "stream",
     "text": [
      "Accuracy of Best Model on Validation Set (n_estimators = 9): 0.85\n",
      "\n",
      "F1 Score: 0.59\n"
     ]
    }
   ],
   "source": [
    "# Running through different number of estimators\n",
    "\n",
    "# Initializing variables\n",
    "best_score_rf_balanced = 0\n",
    "best_est_rf_balanced = 0\n",
    "\n",
    "# Creating \"for\" Loop\n",
    "for est in range(1, 11):\n",
    "\n",
    "    # Creating model, asking it to loop through range in loop\n",
    "    model_rf_balanced = RandomForestClassifier(random_state=12345, n_estimators=est, class_weight='balanced')\n",
    "\n",
    "    # Training model to Balanced Data\n",
    "    model_rf_balanced.fit(features_train, target_train)\n",
    "\n",
    "    # Eval on Valid Set, Calculating Best Accuracy Score\n",
    "    score_rf_balanced = model_rf_balanced.score(features_valid, target_valid)\n",
    "\n",
    "    # Eval metrics\n",
    "    if score_rf_balanced > best_score_rf_balanced:\n",
    "        best_score_rf_balanced = score_rf_balanced # saving best accuracy score\n",
    "        best_est_rf_balanced = est # saving number of estimators corresponding to best score\n",
    "\n",
    "print(\"Accuracy of Best Model on Validation Set (n_estimators = {}): {:.2f}\".format(best_est_rf_balanced, best_score_rf_balanced))\n",
    "print()\n",
    "\n",
    "# Initiating an instance of a random forest with the best number of estimators\n",
    "final_model_rf_balanced = RandomForestClassifier(random_state=12345, n_estimators=best_est_rf_balanced)\n",
    "\n",
    "# Training that model with the upsampled data\n",
    "final_model_rf_balanced.fit(features_train, target_train)\n",
    "\n",
    "# Calculating predictions on the final model with validation set\n",
    "final_predictions_balanced = final_model_rf_balanced.predict(features_valid)\n",
    "\n",
    "# Calculating F1 Score\n",
    "final_f1score_balanced = f1_score(target_valid, final_predictions_balanced)\n",
    "\n",
    "# Printing results\n",
    "print(f\"F1 Score: {final_f1score_balanced:.2f}\")\n"
   ]
  },
  {
   "cell_type": "markdown",
   "metadata": {
    "editable": true,
    "slideshow": {
     "slide_type": ""
    },
    "tags": []
   },
   "source": [
    "  "
   ]
  },
  {
   "cell_type": "markdown",
   "metadata": {
    "editable": true,
    "slideshow": {
     "slide_type": ""
    },
    "tags": []
   },
   "source": [
    "  "
   ]
  },
  {
   "cell_type": "markdown",
   "metadata": {
    "editable": true,
    "slideshow": {
     "slide_type": ""
    },
    "tags": []
   },
   "source": [
    "### Model Quality Improvement Conclusions"
   ]
  },
  {
   "cell_type": "markdown",
   "metadata": {
    "editable": true,
    "slideshow": {
     "slide_type": ""
    },
    "tags": []
   },
   "source": [
    "<div style=\"border: 2px solid black; padding: 10px; margin: 10px\">\n",
    "\n",
    "As we look through our iterations between Logistic Regression, Decision Tree and Random Forest models using our upsampled, downsampled and class-balanced datasets, we see there is a clear winner whose <u>F1 Score reached 0.61</u>. The <b>RandomForest</b> model using our <b>Upsampled</b> datasets proved to be the best model in this business challenge.<br>\n",
    "\n",
    "The <u>LogicisticRegression</u> model was the <b>worst performing</b> model for all three methods of improving model quality.<br>\n",
    "\n",
    "Below we will conduct a final test on the \"test\" dataset created at the beginning of this project to determine reproducibility. We will also measure the AUC-ROC metric and compare it with the F1 of this final test.\n",
    "\n",
    "</div>"
   ]
  },
  {
   "cell_type": "markdown",
   "metadata": {
    "editable": true,
    "slideshow": {
     "slide_type": ""
    },
    "tags": []
   },
   "source": [
    "  "
   ]
  },
  {
   "cell_type": "markdown",
   "metadata": {
    "editable": true,
    "slideshow": {
     "slide_type": ""
    },
    "tags": []
   },
   "source": [
    "  "
   ]
  },
  {
   "cell_type": "markdown",
   "metadata": {
    "editable": true,
    "slideshow": {
     "slide_type": ""
    },
    "tags": []
   },
   "source": [
    "## Final Testing\n",
    "<i>RandomForest</i>"
   ]
  },
  {
   "cell_type": "code",
   "execution_count": 124,
   "metadata": {},
   "outputs": [
    {
     "name": "stdout",
     "output_type": "stream",
     "text": [
      "RandomForest F1 Score: 0.52\n"
     ]
    }
   ],
   "source": [
    "# Running Final \"Test\" on RandomForest Model with best parameters from above\n",
    "# Using the \"upsampled\" data to train the model and \"test\" data to validate it\n",
    "# Number of estimators = 8 (best in model tested against validation set)\n",
    "\n",
    "# Initiating an instance of a random forest with the best number of estimators\n",
    "model_test = RandomForestClassifier(random_state=12345, n_estimators=8)\n",
    "\n",
    "# Training that model with the upsampled data\n",
    "model_test.fit(features_upsampled, target_upsampled)\n",
    "\n",
    "# Calculating predictions on the final model with test set\n",
    "predictions_test = model_test.predict(features_test)\n",
    "\n",
    "# Calculating F1 Score\n",
    "f1score_test = f1_score(target_test, predictions_test)\n",
    "\n",
    "# Printing results\n",
    "print(f\"RandomForest F1 Score: {f1score_test:.2f}\")"
   ]
  },
  {
   "cell_type": "markdown",
   "metadata": {},
   "source": [
    "<div style=\"border: 2px solid black; padding: 10px; margin: 10px\">\n",
    "\n",
    "Although this model proved to be the highest performing in terms of the F1 Score during our analysis, it's showing a much lower score after validating a model trained with the upsampled data compated to our \"test\" datasets.<br>\n",
    "\n",
    "We will attempt to train a model using the <b>DecisionTreeClassifier</b> which was the second best score (0.60) after the RandomForest.\n",
    "\n",
    "</div>"
   ]
  },
  {
   "cell_type": "markdown",
   "metadata": {},
   "source": [
    " "
   ]
  },
  {
   "cell_type": "markdown",
   "metadata": {},
   "source": [
    " "
   ]
  },
  {
   "cell_type": "code",
   "execution_count": 128,
   "metadata": {},
   "outputs": [
    {
     "name": "stdout",
     "output_type": "stream",
     "text": [
      "DecisionTree F1 Score: 0.60\n"
     ]
    }
   ],
   "source": [
    "# Final Test using DecisionTree instead of RandomForest\n",
    "\n",
    "# Initiating an instance of a DecisionTree with the best max depth from above\n",
    "model_test2 = DecisionTreeClassifier(random_state=12345, max_depth=5)\n",
    "\n",
    "# Training that model with the upsampled data\n",
    "model_test2.fit(features_upsampled, target_upsampled)\n",
    "\n",
    "# Calculating predictions on the final model with test set\n",
    "predictions_test2 = model_test2.predict(features_test)\n",
    "\n",
    "# Calculating F1 Score\n",
    "f1score_test2 = f1_score(target_test, predictions_test2)\n",
    "\n",
    "# Printing results\n",
    "print(f\"DecisionTree F1 Score: {f1score_test2:.2f}\")"
   ]
  },
  {
   "cell_type": "markdown",
   "metadata": {
    "editable": true,
    "slideshow": {
     "slide_type": ""
    },
    "tags": []
   },
   "source": [
    "<div style=\"border: 2px solid black; padding: 10px; margin: 10px\">\n",
    "\n",
    "This is the result we were looking for!<br>\n",
    "\n",
    "It turns out that the <b>DecisionTree</b> model is the best for the <b>validation</b> set <u>and</u> the <b>test</b> set. This model is more reliable and better suited than the RandomForest. \n",
    "\n",
    "</div>"
   ]
  },
  {
   "cell_type": "markdown",
   "metadata": {
    "editable": true,
    "slideshow": {
     "slide_type": ""
    },
    "tags": []
   },
   "source": [
    "  "
   ]
  },
  {
   "cell_type": "markdown",
   "metadata": {
    "editable": true,
    "slideshow": {
     "slide_type": ""
    },
    "tags": []
   },
   "source": [
    "  "
   ]
  },
  {
   "cell_type": "markdown",
   "metadata": {
    "editable": true,
    "slideshow": {
     "slide_type": ""
    },
    "tags": []
   },
   "source": [
    "### Comparing F1 Score to AUC-ROC Metric"
   ]
  },
  {
   "cell_type": "code",
   "execution_count": 133,
   "metadata": {},
   "outputs": [
    {
     "data": {
      "image/png": "[encoded data removed]",
      "text/plain": [
       "<Figure size 640x480 with 1 Axes>"
      ]
     },
     "metadata": {},
     "output_type": "display_data"
    }
   ],
   "source": [
    "# Using the model from the final test to calculate AUC-ROC metric\n",
    "\n",
    "# Creating probabilities\n",
    "probabilities_test = model_test2.predict_proba(features_test)\n",
    "\n",
    "# Separating positive predictions from probabilities\n",
    "probabilities_one_test = probabilities_test[:, 1]\n",
    "\n",
    "# Creating the ROC curve\n",
    "# target_test dataset & probabilities of positive observations\n",
    "fpt, tpr, thresholds = roc_curve(target_test, probabilities_one_test)\n",
    "\n",
    "# Initiating figure\n",
    "plt.figure()\n",
    "\n",
    "# Plotting FPR & TPR\n",
    "plt.plot(fpt, tpr)\n",
    "\n",
    "# ROC for random model (straight line)\n",
    "plt.plot([0, 1], [0, 1], linestyle='--')\n",
    "\n",
    "# Setting boundaries for axes, 0 to 1\n",
    "plt.xlim([0.0, 1.0])\n",
    "plt.ylim([0.0, 1.0])\n",
    "\n",
    "# Labeling the axes\n",
    "plt.xlabel(\"False Positive Rate\")\n",
    "plt.ylabel(\"True Positive Rate\")\n",
    "\n",
    "# Heading\n",
    "plt.title(\"ROC Curve\")\n",
    "\n",
    "# Showing figure\n",
    "plt.show()"
   ]
  },
  {
   "cell_type": "markdown",
   "metadata": {
    "editable": true,
    "slideshow": {
     "slide_type": ""
    },
    "tags": []
   },
   "source": [
    "  "
   ]
  },
  {
   "cell_type": "markdown",
   "metadata": {
    "editable": true,
    "slideshow": {
     "slide_type": ""
    },
    "tags": []
   },
   "source": [
    "  "
   ]
  },
  {
   "cell_type": "code",
   "execution_count": 136,
   "metadata": {},
   "outputs": [
    {
     "name": "stdout",
     "output_type": "stream",
     "text": [
      "Final F1 Score: 0.60\n",
      "AUC-ROC Score: 0.84\n"
     ]
    }
   ],
   "source": [
    "# Calculating AUC-ROC Score\n",
    "auc_roc = roc_auc_score(target_test, probabilities_one_test)\n",
    "\n",
    "# Printing Final F1 Scoreo & AUC-ROC Score for Comparison\n",
    "print(f\"Final F1 Score: {f1score_test2:.2f}\")\n",
    "print(f\"AUC-ROC Score: {auc_roc:.2f}\")"
   ]
  },
  {
   "cell_type": "markdown",
   "metadata": {
    "editable": true,
    "slideshow": {
     "slide_type": ""
    },
    "tags": []
   },
   "source": [
    "<div style=\"border: 2px solid black; padding: 10px; margin: 10px\">\n",
    "\n",
    "Based on our <b>AUC-ROC Score</b>, we're seeing a high performance score of the model compared to a random classifier.<br>\n",
    "\n",
    "Our <b>F1 Score</b> is indicating a good balance between Precision and Recall for the model.\n",
    "\n",
    "</div>"
   ]
  },
  {
   "cell_type": "markdown",
   "metadata": {
    "editable": true,
    "slideshow": {
     "slide_type": ""
    },
    "tags": []
   },
   "source": [
    "  "
   ]
  },
  {
   "cell_type": "markdown",
   "metadata": {
    "editable": true,
    "slideshow": {
     "slide_type": ""
    },
    "tags": []
   },
   "source": [
    "  "
   ]
  },
  {
   "cell_type": "markdown",
   "metadata": {
    "editable": true,
    "slideshow": {
     "slide_type": ""
    },
    "tags": []
   },
   "source": [
    "## Final Conclusions"
   ]
  },
  {
   "cell_type": "markdown",
   "metadata": {
    "editable": true,
    "slideshow": {
     "slide_type": ""
    },
    "tags": []
   },
   "source": [
    "<div style=\"border: 2px solid black; padding: 10px; margin: 10px\">\n",
    "\n",
    "We were successful in building a model that beat the goal of an <u>F1 Score</u> of <b>0.59</b> and produced an <u>AUC-ROC Score</u> of <b>0.84</b>.<br>\n",
    "\n",
    "This shows that the model we've build can be used to assist Beta Bank in determing which of their customers are at risk for leaving the company. This will ultimately aid in identifying which customers may actually leave the company and systems can be developed and implemented for retaining those customers. More data may be beneficial in gaining a higher F1 Score or AUC-ROC score, but this is a good starting point for the company to prevent their customers from going to other banking companies. \n",
    "\n",
    "</div>"
   ]
  }
 ],
 "metadata": {
  "kernelspec": {
   "display_name": "Python [conda env:base] *",
   "language": "python",
   "name": "conda-base-py"
  },
  "language_info": {
   "codemirror_mode": {
    "name": "ipython",
    "version": 3
   },
   "file_extension": ".py",
   "mimetype": "text/x-python",
   "name": "python",
   "nbconvert_exporter": "python",
   "pygments_lexer": "ipython3",
   "version": "3.12.7"
  }
 },
 "nbformat": 4,
 "nbformat_minor": 4
}
