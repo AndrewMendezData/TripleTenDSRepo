{
 "cells": [
  {
   "cell_type": "markdown",
   "metadata": {},
   "source": [
    "<div style=\"border: 5px solid purple; padding: 15px; margin: 5px\">\n",
    "<b> Reviewer's comment 3 </b>\n",
    "    \n",
    "Thank you for your diligence! I've left a couple of new comments with digit 3, but there's nothing that needs to be fixed.\n",
    "    \n",
    "    \n",
    "You did a fantastic job here. You have correctly split the data, explored the distributions, trained several models, and applied the bootstrapping technique. You have successfully estimated profit and conducted risk analysis. You have also compared regions based on risk-adjusted return to make recommendations for further development. Excellent job! \n",
    "    \n",
    "    \n",
    "I do not have any questions, so the project can be accepted. The next sprints will cover more advanced machine learning methods, I hope you will like it. Good luck! \n",
    "    \n",
    "    \n",
    "\n",
    "</div>"
   ]
  },
  {
   "cell_type": "markdown",
   "metadata": {},
   "source": [
    "<div style=\"border: 5px solid purple; padding: 15px; margin: 5px\">\n",
    "<b> Reviewer's comment</b>\n",
    "    \n",
    "Hi Andrew, I am a reviewer on this project. Congratulations on submitting another project! 🎉\n",
    "    \n",
    "\n",
    "Before we start, I want to pay your attention to the color marking:\n",
    "    \n",
    "\n",
    "   \n",
    "    \n",
    "<div style=\"border: 5px solid green; padding: 15px; margin: 5px\">\n",
    "\n",
    "Great solutions and ideas that can and should be used in the future are in green comments. Some of them are: \n",
    "    \n",
    "    \n",
    "- You have successfully prepared the subsets. It is important to split the data correctly in order to ensure there's no intersection;    \n",
    "    \n",
    "- Used linear regression to make predictions;\n",
    "    \n",
    "    \n",
    "- Calculated profit and estimated risk values; \n",
    "    \n",
    "    \n",
    "- Wrote an excellent conclusion! A well-written conclusion shows how the project met its objectives and provides a concise and understandable summary for those who may not have been involved in the details of the project. Good job! \n",
    "\n",
    "</div>\n",
    "    \n",
    "<div style=\"border: 5px solid gold; padding: 15px; margin: 5px\">\n",
    "<b> Reviewer's comment </b>\n",
    "\n",
    "Yellow color indicates what should be optimized. This is not necessary, but it will be great if you make changes to this project. I've left several recommendations throughout the project. \n",
    "    \n",
    "</div>\n",
    "<div style=\"border: 5px solid red; padding: 15px; margin: 5px\">\n",
    "<b> Reviewer's comment </b>\n",
    "\n",
    "Issues that must be corrected to achieve accurate results are indicated in red comments. Please note that the project cannot be accepted until these issues are resolved. For instance,\n",
    "\n",
    "\n",
    "\n",
    "- Please try to explore the distributions and add conclusions. In real-world problems, the data is rarely clean. Displaying distributions help us evaluate the data, find outliers, identify the required preprocessing steps and understand feature relationships, which informs feature engineering. Feature engineering in some cases is a clue; \n",
    "\n",
    "\n",
    "- Please compare the break-even value with the actual (target) average volume in each region.\n",
    "\n",
    "    \n",
    "     \n",
    "- Consider specifying the random_state.\n",
    "    \n",
    "\n",
    "- We need to sample 500 rows. Would you please fix it?\n",
    "\n",
    "\n",
    "\n",
    "There may be other issues that need your attention. I described everything in my comments.  \n",
    "</div>        \n",
    "<hr>\n",
    "    \n",
    "<font color='dodgerblue'>**To sum up:**</font> you did a great job here, thank you so much for submitting the project! Actually the project is almost perfect, and the updates should not take much time. If you have any questions, please feel free to ask. I will wait the project for the second review 😊 \n",
    "    \n",
    "\n",
    "<hr>\n",
    "    \n",
    "Please use some color other than those listed to highlight answers to my comments.\n",
    "I would also ask you **not to change, move or delete my comments** to make it easier for me to navigate during the next review.\n",
    "    \n",
    "<hr> \n",
    "    \n",
    "✍️ Here's a nice [article](https://machinelearningmastery.com/a-gentle-introduction-to-the-bootstrap-method/) about the bootstrap method. [This](https://www.youtube.com/watch?v=O_Fj4q8lgmc&list=LL&index=6) is a good video about resampling in bootstrapping.\n",
    "    \n",
    "<hr>\n",
    "    \n",
    "    \n",
    "📌 Please feel free to schedule a 1:1 sessions with our tutors or TAs [here](https://calendly.com/tripleten-ds-experts-team), join daily coworking sessions, or ask questions in the sprint channels on Discord if you need assistance 😉 \n",
    "</div>"
   ]
  },
  {
   "cell_type": "markdown",
   "metadata": {},
   "source": [
    "<div style=\"border: 5px solid blue; padding: 10px; margin: 5px\">\n",
    "<b>Andrew's Comment</b>\n",
    "\n",
    "Thank you for your comments and help with this project!<br>\n",
    "I went ahead and made changes to the project based on your comments.<br>\n",
    "I did leave some questions throughout in those specific sections.<br><br\n",
    "\n",
    "Thank you!\n",
    "\n",
    "</div>"
   ]
  },
  {
   "cell_type": "markdown",
   "metadata": {},
   "source": [
    "<div style=\"border: 5px solid purple; padding: 15px; margin: 5px\">\n",
    "<b> Reviewer's comment 2 </b>\n",
    "    \n",
    "Understood! \n",
    "\n",
    "\n",
    "Thank you very much for the updates! There's only one issue this time. Would you take a look at my new comments with digit 2? I explained how to resolve it. \n",
    "    \n",
    "\n",
    "</div>"
   ]
  },
  {
   "cell_type": "markdown",
   "metadata": {},
   "source": [
    "<div style=\"border: 5px solid blue; padding: 10px; margin: 5px\">\n",
    "<b>Andrew's Comment 2</b>\n",
    "\n",
    "    \n",
    "Thank you! I fixed a couple m\n",
    "\n",
    "\n",
    "</div>"
   ]
  },
  {
   "cell_type": "markdown",
   "metadata": {},
   "source": [
    "<div style=\"border: 5px solid green; padding: 15px; margin: 5px\">\n",
    "<b>   Reviewer's comment 3 </b>\n",
    "    \n",
    "\n",
    "Great! \n",
    "\n",
    "</div>\n"
   ]
  },
  {
   "cell_type": "markdown",
   "metadata": {},
   "source": [
    "# Sprint 9 | Machine Learning in Business"
   ]
  },
  {
   "cell_type": "markdown",
   "metadata": {},
   "source": [
    "In this project, we'll investigate the volume of oil, and later choose the region with the highest total profit, for <b>OilyGiant</b>. This company is asking to find the best new location to construct a new well that will yield the highest profitability.<br>\n",
    "\n",
    "Our goal is to find the region with the <b>highest profitability</b> and <b>lowest risk</b> to recommend to <b>OilyGiant</b> as their next site for a new oil well. (We'll only consider the regions with the risk of losses as 2.5% or lower in our final recommendations.)"
   ]
  },
  {
   "cell_type": "markdown",
   "metadata": {},
   "source": [
    "<div style=\"border: 5px solid green; padding: 10px; margin: 5px\">\n",
    "<b>   Reviewer's comment </b>\n",
    "    \n",
    "Good introduction! The title reflects the main goal of the project, well done!     \n",
    "</div>"
   ]
  },
  {
   "cell_type": "markdown",
   "metadata": {},
   "source": [
    " "
   ]
  },
  {
   "cell_type": "markdown",
   "metadata": {},
   "source": [
    " "
   ]
  },
  {
   "cell_type": "markdown",
   "metadata": {},
   "source": [
    "## Data Preparation"
   ]
  },
  {
   "cell_type": "code",
   "execution_count": 1,
   "metadata": {},
   "outputs": [],
   "source": [
    "# Importing required libraries and packages\n",
    "\n",
    "import pandas as pd\n",
    "import numpy as np\n",
    "import seaborn as sns\n",
    "import matplotlib.pyplot as plt\n",
    "from sklearn.model_selection import train_test_split\n",
    "from sklearn.linear_model import LinearRegression\n",
    "from sklearn.metrics import mean_squared_error\n",
    "\n",
    "\n",
    "# Constant Variable Assignment\n",
    "\n",
    "BUDGET = 100_000_000\n",
    "BARREL_REV = 4500\n",
    "POINTS = 200"
   ]
  },
  {
   "cell_type": "markdown",
   "metadata": {},
   "source": [
    " "
   ]
  },
  {
   "cell_type": "markdown",
   "metadata": {},
   "source": [
    " "
   ]
  },
  {
   "cell_type": "markdown",
   "metadata": {},
   "source": [
    "### Region 1"
   ]
  },
  {
   "cell_type": "code",
   "execution_count": 3,
   "metadata": {},
   "outputs": [],
   "source": [
    "# Importing data\n",
    "\n",
    "r1 = pd.read_csv('geo_data_region1.csv')"
   ]
  },
  {
   "cell_type": "markdown",
   "metadata": {},
   "source": [
    " "
   ]
  },
  {
   "cell_type": "markdown",
   "metadata": {},
   "source": [
    "#### Columns"
   ]
  },
  {
   "cell_type": "code",
   "execution_count": 3,
   "metadata": {},
   "outputs": [
    {
     "data": {
      "text/plain": [
       "Index(['id', 'f0', 'f1', 'f2', 'product'], dtype='object')"
      ]
     },
     "execution_count": 3,
     "metadata": {},
     "output_type": "execute_result"
    }
   ],
   "source": [
    "# Removing white space from beginning and end of column labels\n",
    "r1.columns = r1.columns.str.strip()\n",
    "\n",
    "# Visual validation of column labels\n",
    "r1.columns"
   ]
  },
  {
   "cell_type": "markdown",
   "metadata": {},
   "source": [
    " "
   ]
  },
  {
   "cell_type": "markdown",
   "metadata": {},
   "source": [
    "#### Null Values"
   ]
  },
  {
   "cell_type": "code",
   "execution_count": 4,
   "metadata": {},
   "outputs": [
    {
     "name": "stdout",
     "output_type": "stream",
     "text": [
      "<class 'pandas.core.frame.DataFrame'>\n",
      "RangeIndex: 100000 entries, 0 to 99999\n",
      "Data columns (total 5 columns):\n",
      " #   Column   Non-Null Count   Dtype  \n",
      "---  ------   --------------   -----  \n",
      " 0   id       100000 non-null  object \n",
      " 1   f0       100000 non-null  float64\n",
      " 2   f1       100000 non-null  float64\n",
      " 3   f2       100000 non-null  float64\n",
      " 4   product  100000 non-null  float64\n",
      "dtypes: float64(4), object(1)\n",
      "memory usage: 3.8+ MB\n"
     ]
    }
   ],
   "source": [
    "# Checking datatypes and null values\n",
    "\n",
    "r1.info()"
   ]
  },
  {
   "cell_type": "markdown",
   "metadata": {},
   "source": [
    "No null values present. All data is of the appropriate datatype."
   ]
  },
  {
   "cell_type": "markdown",
   "metadata": {},
   "source": [
    " "
   ]
  },
  {
   "cell_type": "markdown",
   "metadata": {},
   "source": [
    "#### Duplicates"
   ]
  },
  {
   "cell_type": "code",
   "execution_count": 5,
   "metadata": {},
   "outputs": [
    {
     "data": {
      "text/plain": [
       "0"
      ]
     },
     "execution_count": 5,
     "metadata": {},
     "output_type": "execute_result"
    }
   ],
   "source": [
    "# Checking for duplicates after dropping 'id' column\n",
    "# 'id' column not required for model testing\n",
    "\n",
    "r1m = r1.drop('id', axis=1)\n",
    "\n",
    "r1m.duplicated().sum()"
   ]
  },
  {
   "cell_type": "markdown",
   "metadata": {},
   "source": [
    "No duplicates present."
   ]
  },
  {
   "cell_type": "markdown",
   "metadata": {},
   "source": [
    "<div style=\"border: 5px solid green; padding: 10px; margin: 5px\">\n",
    "<b>   Reviewer's comment </b>\n",
    "\n",
    "    \n",
    "Well done! It is indeed important to check data for the duplicates, since we are going to split the data. You can also check for the duplicates in the `id` columns. We do not need to delete them, since these columns will not be considered, and we can interpret these points as different objects.     \n",
    "</div>"
   ]
  },
  {
   "cell_type": "markdown",
   "metadata": {},
   "source": [
    " "
   ]
  },
  {
   "cell_type": "markdown",
   "metadata": {},
   "source": [
    "#### Previewing Data"
   ]
  },
  {
   "cell_type": "code",
   "execution_count": 6,
   "metadata": {},
   "outputs": [
    {
     "data": {
      "text/html": [
       "<div>\n",
       "<style scoped>\n",
       "    .dataframe tbody tr th:only-of-type {\n",
       "        vertical-align: middle;\n",
       "    }\n",
       "\n",
       "    .dataframe tbody tr th {\n",
       "        vertical-align: top;\n",
       "    }\n",
       "\n",
       "    .dataframe thead th {\n",
       "        text-align: right;\n",
       "    }\n",
       "</style>\n",
       "<table border=\"1\" class=\"dataframe\">\n",
       "  <thead>\n",
       "    <tr style=\"text-align: right;\">\n",
       "      <th></th>\n",
       "      <th>f0</th>\n",
       "      <th>f1</th>\n",
       "      <th>f2</th>\n",
       "      <th>product</th>\n",
       "    </tr>\n",
       "  </thead>\n",
       "  <tbody>\n",
       "    <tr>\n",
       "      <th>0</th>\n",
       "      <td>0.705745</td>\n",
       "      <td>-0.497823</td>\n",
       "      <td>1.221170</td>\n",
       "      <td>105.280062</td>\n",
       "    </tr>\n",
       "    <tr>\n",
       "      <th>1</th>\n",
       "      <td>1.334711</td>\n",
       "      <td>-0.340164</td>\n",
       "      <td>4.365080</td>\n",
       "      <td>73.037750</td>\n",
       "    </tr>\n",
       "    <tr>\n",
       "      <th>2</th>\n",
       "      <td>1.022732</td>\n",
       "      <td>0.151990</td>\n",
       "      <td>1.419926</td>\n",
       "      <td>85.265647</td>\n",
       "    </tr>\n",
       "    <tr>\n",
       "      <th>3</th>\n",
       "      <td>-0.032172</td>\n",
       "      <td>0.139033</td>\n",
       "      <td>2.978566</td>\n",
       "      <td>168.620776</td>\n",
       "    </tr>\n",
       "    <tr>\n",
       "      <th>4</th>\n",
       "      <td>1.988431</td>\n",
       "      <td>0.155413</td>\n",
       "      <td>4.751769</td>\n",
       "      <td>154.036647</td>\n",
       "    </tr>\n",
       "    <tr>\n",
       "      <th>5</th>\n",
       "      <td>0.969570</td>\n",
       "      <td>0.489775</td>\n",
       "      <td>-0.735383</td>\n",
       "      <td>64.741541</td>\n",
       "    </tr>\n",
       "    <tr>\n",
       "      <th>6</th>\n",
       "      <td>0.645075</td>\n",
       "      <td>0.530656</td>\n",
       "      <td>1.780266</td>\n",
       "      <td>49.055285</td>\n",
       "    </tr>\n",
       "    <tr>\n",
       "      <th>7</th>\n",
       "      <td>-0.400648</td>\n",
       "      <td>0.808337</td>\n",
       "      <td>-5.624670</td>\n",
       "      <td>72.943292</td>\n",
       "    </tr>\n",
       "    <tr>\n",
       "      <th>8</th>\n",
       "      <td>0.643105</td>\n",
       "      <td>-0.551583</td>\n",
       "      <td>2.372141</td>\n",
       "      <td>113.356160</td>\n",
       "    </tr>\n",
       "    <tr>\n",
       "      <th>9</th>\n",
       "      <td>2.173381</td>\n",
       "      <td>0.563698</td>\n",
       "      <td>9.441852</td>\n",
       "      <td>127.910945</td>\n",
       "    </tr>\n",
       "  </tbody>\n",
       "</table>\n",
       "</div>"
      ],
      "text/plain": [
       "         f0        f1        f2     product\n",
       "0  0.705745 -0.497823  1.221170  105.280062\n",
       "1  1.334711 -0.340164  4.365080   73.037750\n",
       "2  1.022732  0.151990  1.419926   85.265647\n",
       "3 -0.032172  0.139033  2.978566  168.620776\n",
       "4  1.988431  0.155413  4.751769  154.036647\n",
       "5  0.969570  0.489775 -0.735383   64.741541\n",
       "6  0.645075  0.530656  1.780266   49.055285\n",
       "7 -0.400648  0.808337 -5.624670   72.943292\n",
       "8  0.643105 -0.551583  2.372141  113.356160\n",
       "9  2.173381  0.563698  9.441852  127.910945"
      ]
     },
     "execution_count": 6,
     "metadata": {},
     "output_type": "execute_result"
    }
   ],
   "source": [
    "# Vieweing the first 10 rows\n",
    "\n",
    "r1m.head(10)"
   ]
  },
  {
   "cell_type": "markdown",
   "metadata": {},
   "source": [
    "We see five columns present in the data. Negative and positive values present."
   ]
  },
  {
   "cell_type": "markdown",
   "metadata": {},
   "source": [
    " "
   ]
  },
  {
   "cell_type": "markdown",
   "metadata": {},
   "source": [
    " "
   ]
  },
  {
   "cell_type": "markdown",
   "metadata": {},
   "source": [
    "### Region 2"
   ]
  },
  {
   "cell_type": "code",
   "execution_count": 5,
   "metadata": {},
   "outputs": [],
   "source": [
    "# Importing data\n",
    "\n",
    "r2 = pd.read_csv('geo_data_region2.csv')"
   ]
  },
  {
   "cell_type": "markdown",
   "metadata": {},
   "source": [
    " "
   ]
  },
  {
   "cell_type": "markdown",
   "metadata": {},
   "source": [
    "#### Columns"
   ]
  },
  {
   "cell_type": "code",
   "execution_count": 8,
   "metadata": {},
   "outputs": [
    {
     "data": {
      "text/plain": [
       "Index(['id', 'f0', 'f1', 'f2', 'product'], dtype='object')"
      ]
     },
     "execution_count": 8,
     "metadata": {},
     "output_type": "execute_result"
    }
   ],
   "source": [
    "# Removing white space from beginning and end of column labels\n",
    "r2.columns = r2.columns.str.strip()\n",
    "\n",
    "# Visual validation of column labels\n",
    "r2.columns"
   ]
  },
  {
   "cell_type": "markdown",
   "metadata": {},
   "source": [
    " "
   ]
  },
  {
   "cell_type": "markdown",
   "metadata": {},
   "source": [
    "#### Null Values"
   ]
  },
  {
   "cell_type": "code",
   "execution_count": 9,
   "metadata": {},
   "outputs": [
    {
     "name": "stdout",
     "output_type": "stream",
     "text": [
      "<class 'pandas.core.frame.DataFrame'>\n",
      "RangeIndex: 100000 entries, 0 to 99999\n",
      "Data columns (total 5 columns):\n",
      " #   Column   Non-Null Count   Dtype  \n",
      "---  ------   --------------   -----  \n",
      " 0   id       100000 non-null  object \n",
      " 1   f0       100000 non-null  float64\n",
      " 2   f1       100000 non-null  float64\n",
      " 3   f2       100000 non-null  float64\n",
      " 4   product  100000 non-null  float64\n",
      "dtypes: float64(4), object(1)\n",
      "memory usage: 3.8+ MB\n"
     ]
    }
   ],
   "source": [
    "# Checking datatypes and null values\n",
    "\n",
    "r2.info()"
   ]
  },
  {
   "cell_type": "markdown",
   "metadata": {},
   "source": [
    "No null values present. All data is of the appropriate datatype."
   ]
  },
  {
   "cell_type": "markdown",
   "metadata": {},
   "source": [
    " "
   ]
  },
  {
   "cell_type": "markdown",
   "metadata": {},
   "source": [
    "#### Duplicates"
   ]
  },
  {
   "cell_type": "code",
   "execution_count": 10,
   "metadata": {},
   "outputs": [
    {
     "data": {
      "text/plain": [
       "0"
      ]
     },
     "execution_count": 10,
     "metadata": {},
     "output_type": "execute_result"
    }
   ],
   "source": [
    "# Checking for duplicates after dropping 'id' column\n",
    "# 'id' column not required for model testing\n",
    "\n",
    "r2m = r2.drop('id', axis=1)\n",
    "\n",
    "r2m.duplicated().sum()"
   ]
  },
  {
   "cell_type": "markdown",
   "metadata": {},
   "source": [
    "No duplicates present."
   ]
  },
  {
   "cell_type": "markdown",
   "metadata": {},
   "source": [
    " "
   ]
  },
  {
   "cell_type": "markdown",
   "metadata": {},
   "source": [
    "#### Previewing Data"
   ]
  },
  {
   "cell_type": "code",
   "execution_count": 11,
   "metadata": {},
   "outputs": [
    {
     "data": {
      "text/html": [
       "<div>\n",
       "<style scoped>\n",
       "    .dataframe tbody tr th:only-of-type {\n",
       "        vertical-align: middle;\n",
       "    }\n",
       "\n",
       "    .dataframe tbody tr th {\n",
       "        vertical-align: top;\n",
       "    }\n",
       "\n",
       "    .dataframe thead th {\n",
       "        text-align: right;\n",
       "    }\n",
       "</style>\n",
       "<table border=\"1\" class=\"dataframe\">\n",
       "  <thead>\n",
       "    <tr style=\"text-align: right;\">\n",
       "      <th></th>\n",
       "      <th>f0</th>\n",
       "      <th>f1</th>\n",
       "      <th>f2</th>\n",
       "      <th>product</th>\n",
       "    </tr>\n",
       "  </thead>\n",
       "  <tbody>\n",
       "    <tr>\n",
       "      <th>0</th>\n",
       "      <td>-15.001348</td>\n",
       "      <td>-8.276000</td>\n",
       "      <td>-0.005876</td>\n",
       "      <td>3.179103</td>\n",
       "    </tr>\n",
       "    <tr>\n",
       "      <th>1</th>\n",
       "      <td>14.272088</td>\n",
       "      <td>-3.475083</td>\n",
       "      <td>0.999183</td>\n",
       "      <td>26.953261</td>\n",
       "    </tr>\n",
       "    <tr>\n",
       "      <th>2</th>\n",
       "      <td>6.263187</td>\n",
       "      <td>-5.948386</td>\n",
       "      <td>5.001160</td>\n",
       "      <td>134.766305</td>\n",
       "    </tr>\n",
       "    <tr>\n",
       "      <th>3</th>\n",
       "      <td>-13.081196</td>\n",
       "      <td>-11.506057</td>\n",
       "      <td>4.999415</td>\n",
       "      <td>137.945408</td>\n",
       "    </tr>\n",
       "    <tr>\n",
       "      <th>4</th>\n",
       "      <td>12.702195</td>\n",
       "      <td>-8.147433</td>\n",
       "      <td>5.004363</td>\n",
       "      <td>134.766305</td>\n",
       "    </tr>\n",
       "    <tr>\n",
       "      <th>5</th>\n",
       "      <td>-3.327590</td>\n",
       "      <td>-2.205276</td>\n",
       "      <td>3.003647</td>\n",
       "      <td>84.038886</td>\n",
       "    </tr>\n",
       "    <tr>\n",
       "      <th>6</th>\n",
       "      <td>-11.142655</td>\n",
       "      <td>-10.133399</td>\n",
       "      <td>4.002382</td>\n",
       "      <td>110.992147</td>\n",
       "    </tr>\n",
       "    <tr>\n",
       "      <th>7</th>\n",
       "      <td>4.234715</td>\n",
       "      <td>-0.001354</td>\n",
       "      <td>2.004588</td>\n",
       "      <td>53.906522</td>\n",
       "    </tr>\n",
       "    <tr>\n",
       "      <th>8</th>\n",
       "      <td>13.355129</td>\n",
       "      <td>-0.332068</td>\n",
       "      <td>4.998647</td>\n",
       "      <td>134.766305</td>\n",
       "    </tr>\n",
       "    <tr>\n",
       "      <th>9</th>\n",
       "      <td>1.069227</td>\n",
       "      <td>-11.025667</td>\n",
       "      <td>4.997844</td>\n",
       "      <td>137.945408</td>\n",
       "    </tr>\n",
       "  </tbody>\n",
       "</table>\n",
       "</div>"
      ],
      "text/plain": [
       "          f0         f1        f2     product\n",
       "0 -15.001348  -8.276000 -0.005876    3.179103\n",
       "1  14.272088  -3.475083  0.999183   26.953261\n",
       "2   6.263187  -5.948386  5.001160  134.766305\n",
       "3 -13.081196 -11.506057  4.999415  137.945408\n",
       "4  12.702195  -8.147433  5.004363  134.766305\n",
       "5  -3.327590  -2.205276  3.003647   84.038886\n",
       "6 -11.142655 -10.133399  4.002382  110.992147\n",
       "7   4.234715  -0.001354  2.004588   53.906522\n",
       "8  13.355129  -0.332068  4.998647  134.766305\n",
       "9   1.069227 -11.025667  4.997844  137.945408"
      ]
     },
     "execution_count": 11,
     "metadata": {},
     "output_type": "execute_result"
    }
   ],
   "source": [
    "# Vieweing the first 10 rows\n",
    "\n",
    "r2m.head(10)"
   ]
  },
  {
   "cell_type": "markdown",
   "metadata": {},
   "source": [
    "We see five columns present in the data. Negative and positive values present."
   ]
  },
  {
   "cell_type": "markdown",
   "metadata": {},
   "source": [
    " "
   ]
  },
  {
   "cell_type": "markdown",
   "metadata": {},
   "source": [
    " "
   ]
  },
  {
   "cell_type": "markdown",
   "metadata": {},
   "source": [
    "### Region 3"
   ]
  },
  {
   "cell_type": "code",
   "execution_count": 7,
   "metadata": {},
   "outputs": [],
   "source": [
    "# Importing data\n",
    "\n",
    "r3 = pd.read_csv('geo_data_region3.csv')"
   ]
  },
  {
   "cell_type": "markdown",
   "metadata": {},
   "source": [
    " "
   ]
  },
  {
   "cell_type": "markdown",
   "metadata": {},
   "source": [
    "#### Columns"
   ]
  },
  {
   "cell_type": "code",
   "execution_count": 13,
   "metadata": {},
   "outputs": [
    {
     "data": {
      "text/plain": [
       "Index(['id', 'f0', 'f1', 'f2', 'product'], dtype='object')"
      ]
     },
     "execution_count": 13,
     "metadata": {},
     "output_type": "execute_result"
    }
   ],
   "source": [
    "# Removing white space from beginning and end of column labels\n",
    "r3.columns = r3.columns.str.strip()\n",
    "\n",
    "# Visual validation of column labels\n",
    "r3.columns"
   ]
  },
  {
   "cell_type": "markdown",
   "metadata": {},
   "source": [
    " "
   ]
  },
  {
   "cell_type": "markdown",
   "metadata": {},
   "source": [
    "#### Null Values"
   ]
  },
  {
   "cell_type": "code",
   "execution_count": 14,
   "metadata": {},
   "outputs": [
    {
     "name": "stdout",
     "output_type": "stream",
     "text": [
      "<class 'pandas.core.frame.DataFrame'>\n",
      "RangeIndex: 100000 entries, 0 to 99999\n",
      "Data columns (total 5 columns):\n",
      " #   Column   Non-Null Count   Dtype  \n",
      "---  ------   --------------   -----  \n",
      " 0   id       100000 non-null  object \n",
      " 1   f0       100000 non-null  float64\n",
      " 2   f1       100000 non-null  float64\n",
      " 3   f2       100000 non-null  float64\n",
      " 4   product  100000 non-null  float64\n",
      "dtypes: float64(4), object(1)\n",
      "memory usage: 3.8+ MB\n"
     ]
    }
   ],
   "source": [
    "# Checking datatypes and null values\n",
    "\n",
    "r3.info()"
   ]
  },
  {
   "cell_type": "markdown",
   "metadata": {},
   "source": [
    "No null values present. All data is of the appropriate datatype."
   ]
  },
  {
   "cell_type": "markdown",
   "metadata": {},
   "source": [
    " "
   ]
  },
  {
   "cell_type": "markdown",
   "metadata": {},
   "source": [
    "#### Duplicates"
   ]
  },
  {
   "cell_type": "code",
   "execution_count": 15,
   "metadata": {},
   "outputs": [
    {
     "data": {
      "text/plain": [
       "0"
      ]
     },
     "execution_count": 15,
     "metadata": {},
     "output_type": "execute_result"
    }
   ],
   "source": [
    "# Checking for duplicates after dropping 'id' column\n",
    "# 'id' column not required for model testing\n",
    "\n",
    "r3m = r3.drop('id', axis=1)\n",
    "\n",
    "r3m.duplicated().sum()"
   ]
  },
  {
   "cell_type": "markdown",
   "metadata": {},
   "source": [
    "No duplicates present."
   ]
  },
  {
   "cell_type": "markdown",
   "metadata": {},
   "source": [
    " "
   ]
  },
  {
   "cell_type": "markdown",
   "metadata": {},
   "source": [
    "#### Previewing Data"
   ]
  },
  {
   "cell_type": "code",
   "execution_count": 16,
   "metadata": {},
   "outputs": [
    {
     "data": {
      "text/html": [
       "<div>\n",
       "<style scoped>\n",
       "    .dataframe tbody tr th:only-of-type {\n",
       "        vertical-align: middle;\n",
       "    }\n",
       "\n",
       "    .dataframe tbody tr th {\n",
       "        vertical-align: top;\n",
       "    }\n",
       "\n",
       "    .dataframe thead th {\n",
       "        text-align: right;\n",
       "    }\n",
       "</style>\n",
       "<table border=\"1\" class=\"dataframe\">\n",
       "  <thead>\n",
       "    <tr style=\"text-align: right;\">\n",
       "      <th></th>\n",
       "      <th>f0</th>\n",
       "      <th>f1</th>\n",
       "      <th>f2</th>\n",
       "      <th>product</th>\n",
       "    </tr>\n",
       "  </thead>\n",
       "  <tbody>\n",
       "    <tr>\n",
       "      <th>0</th>\n",
       "      <td>-1.146987</td>\n",
       "      <td>0.963328</td>\n",
       "      <td>-0.828965</td>\n",
       "      <td>27.758673</td>\n",
       "    </tr>\n",
       "    <tr>\n",
       "      <th>1</th>\n",
       "      <td>0.262778</td>\n",
       "      <td>0.269839</td>\n",
       "      <td>-2.530187</td>\n",
       "      <td>56.069697</td>\n",
       "    </tr>\n",
       "    <tr>\n",
       "      <th>2</th>\n",
       "      <td>0.194587</td>\n",
       "      <td>0.289035</td>\n",
       "      <td>-5.586433</td>\n",
       "      <td>62.871910</td>\n",
       "    </tr>\n",
       "    <tr>\n",
       "      <th>3</th>\n",
       "      <td>2.236060</td>\n",
       "      <td>-0.553760</td>\n",
       "      <td>0.930038</td>\n",
       "      <td>114.572842</td>\n",
       "    </tr>\n",
       "    <tr>\n",
       "      <th>4</th>\n",
       "      <td>-0.515993</td>\n",
       "      <td>1.716266</td>\n",
       "      <td>5.899011</td>\n",
       "      <td>149.600746</td>\n",
       "    </tr>\n",
       "    <tr>\n",
       "      <th>5</th>\n",
       "      <td>-0.758092</td>\n",
       "      <td>0.710691</td>\n",
       "      <td>2.585887</td>\n",
       "      <td>90.222465</td>\n",
       "    </tr>\n",
       "    <tr>\n",
       "      <th>6</th>\n",
       "      <td>-0.574891</td>\n",
       "      <td>0.317727</td>\n",
       "      <td>1.773745</td>\n",
       "      <td>45.641478</td>\n",
       "    </tr>\n",
       "    <tr>\n",
       "      <th>7</th>\n",
       "      <td>-1.906649</td>\n",
       "      <td>-2.458350</td>\n",
       "      <td>-0.177097</td>\n",
       "      <td>72.480640</td>\n",
       "    </tr>\n",
       "    <tr>\n",
       "      <th>8</th>\n",
       "      <td>1.776292</td>\n",
       "      <td>-0.279356</td>\n",
       "      <td>3.004156</td>\n",
       "      <td>106.616832</td>\n",
       "    </tr>\n",
       "    <tr>\n",
       "      <th>9</th>\n",
       "      <td>-1.214452</td>\n",
       "      <td>-0.439314</td>\n",
       "      <td>5.922514</td>\n",
       "      <td>52.954532</td>\n",
       "    </tr>\n",
       "  </tbody>\n",
       "</table>\n",
       "</div>"
      ],
      "text/plain": [
       "         f0        f1        f2     product\n",
       "0 -1.146987  0.963328 -0.828965   27.758673\n",
       "1  0.262778  0.269839 -2.530187   56.069697\n",
       "2  0.194587  0.289035 -5.586433   62.871910\n",
       "3  2.236060 -0.553760  0.930038  114.572842\n",
       "4 -0.515993  1.716266  5.899011  149.600746\n",
       "5 -0.758092  0.710691  2.585887   90.222465\n",
       "6 -0.574891  0.317727  1.773745   45.641478\n",
       "7 -1.906649 -2.458350 -0.177097   72.480640\n",
       "8  1.776292 -0.279356  3.004156  106.616832\n",
       "9 -1.214452 -0.439314  5.922514   52.954532"
      ]
     },
     "execution_count": 16,
     "metadata": {},
     "output_type": "execute_result"
    }
   ],
   "source": [
    "# Vieweing the first 10 rows\n",
    "\n",
    "r3m.head(10)"
   ]
  },
  {
   "cell_type": "markdown",
   "metadata": {},
   "source": [
    "We see five columns present in the data. Negative and positive values present."
   ]
  },
  {
   "cell_type": "markdown",
   "metadata": {},
   "source": [
    "<div style=\"border: 5px solid red; padding: 10px; margin: 5px\">\n",
    "<b>   Reviewer's comment </b>\n",
    "\n",
    "    \n",
    "- Let's analyze the distributions of features and targets in each dataframe.  Would you add charts? \n",
    "\n",
    "- Don't forget to add conclusions.\n",
    "\n",
    "\n",
    "</div>"
   ]
  },
  {
   "cell_type": "markdown",
   "metadata": {},
   "source": [
    "<div style=\"border: 5px solid blue; padding: 10px; margin: 5px\">\n",
    "<b>Andrew's Comment</b>\n",
    "\n",
    "    \n",
    "- Distributions of features and targets added after \"Training and Testing Model\" section.\n",
    "\n",
    "\n",
    "</div>"
   ]
  },
  {
   "cell_type": "markdown",
   "metadata": {},
   "source": [
    " "
   ]
  },
  {
   "cell_type": "markdown",
   "metadata": {},
   "source": [
    " "
   ]
  },
  {
   "cell_type": "markdown",
   "metadata": {},
   "source": [
    "## Training and Testing Model"
   ]
  },
  {
   "cell_type": "markdown",
   "metadata": {},
   "source": [
    "### Region 1 | Training & Analysis"
   ]
  },
  {
   "cell_type": "code",
   "execution_count": 17,
   "metadata": {},
   "outputs": [
    {
     "name": "stdout",
     "output_type": "stream",
     "text": [
      "RMSE - Region 1 on Validation Set: 37.5794217150813\n",
      "Avg Volume of Predicted Reserves: 92.59256778438035\n"
     ]
    }
   ],
   "source": [
    "# Splitting data, training and testing model\n",
    "\n",
    "# Isolating the Target and Features from the data\n",
    "target_r1 = r1m['product']\n",
    "features_r1 = r1m.drop('product', axis=1)\n",
    "\n",
    "# Creating Training and Validation sets (75:25)\n",
    "features_r1_train, features_r1_valid, target_r1_train, target_r1_valid = train_test_split(\n",
    "    features_r1, target_r1, test_size=0.25, random_state=12345\n",
    ")\n",
    "\n",
    "# Initializing model constructor\n",
    "model_r1 = LinearRegression()\n",
    "\n",
    "# Training the model\n",
    "model_r1.fit(features_r1_train, target_r1_train)\n",
    "\n",
    "# Running predictions on the validation set\n",
    "predictions_r1_valid = model_r1.predict(features_r1_valid)\n",
    "correct_answers_r1 = target_r1_valid\n",
    "\n",
    "# Calculating RMSE & Avg Volume of Predicted Reserves\n",
    "result_r1_rmse = mean_squared_error(correct_answers_r1, predictions_r1_valid)**0.5\n",
    "avg_vol_predictions_r1 = predictions_r1_valid.mean()\n",
    "\n",
    "# Printing results\n",
    "print(\"RMSE - Region 1 on Validation Set:\", result_r1_rmse)\n",
    "print(\"Avg Volume of Predicted Reserves:\", avg_vol_predictions_r1)"
   ]
  },
  {
   "cell_type": "markdown",
   "metadata": {},
   "source": [
    "<u><b>Results Analysis</b></u>\n",
    "\n",
    "First look at the RMSE result does not indicate a high accuracy rating for this model to actual target data. It's indicating about a 37.5 thousand barrel difference from the predictions the model made to actual data.\n",
    "\n",
    "Average Volume of Predicted Reserves is noted and will be compared as we continue our analysis through the other regions."
   ]
  },
  {
   "cell_type": "markdown",
   "metadata": {},
   "source": [
    "  "
   ]
  },
  {
   "cell_type": "markdown",
   "metadata": {},
   "source": [
    " "
   ]
  },
  {
   "cell_type": "markdown",
   "metadata": {},
   "source": [
    "### Region 2 | Training & Analysis"
   ]
  },
  {
   "cell_type": "code",
   "execution_count": 18,
   "metadata": {},
   "outputs": [
    {
     "name": "stdout",
     "output_type": "stream",
     "text": [
      "RMSE - Region 2 on Validation Set: 0.893099286775617\n",
      "Avg Volume of Predicted Reserves: 68.728546895446\n"
     ]
    }
   ],
   "source": [
    "# Splitting data, training and testing model\n",
    "\n",
    "# Isolating the Target and Features from the data\n",
    "target_r2 = r2m['product']\n",
    "features_r2 = r2m.drop('product', axis=1)\n",
    "\n",
    "# Creating Training and Validation sets (75:25)\n",
    "features_r2_train, features_r2_valid, target_r2_train, target_r2_valid = train_test_split(\n",
    "    features_r2, target_r2, test_size=0.25, random_state=12345\n",
    ")\n",
    "\n",
    "# Initializing model constructor\n",
    "model_r2 = LinearRegression()\n",
    "\n",
    "# Training the model\n",
    "model_r2.fit(features_r2_train, target_r2_train)\n",
    "\n",
    "# Running predictions on the validation set\n",
    "predictions_r2_valid = model_r2.predict(features_r2_valid)\n",
    "correct_answers_r2 = target_r2_valid\n",
    "\n",
    "# Calculating RMSE & Avg Volume of Predicted Reserves\n",
    "result_r2_rmse = mean_squared_error(correct_answers_r2, predictions_r2_valid)**0.5\n",
    "avg_vol_predictions_r2 = predictions_r2_valid.mean()\n",
    "\n",
    "# Printing results\n",
    "print(\"RMSE - Region 2 on Validation Set:\", result_r2_rmse)\n",
    "print(\"Avg Volume of Predicted Reserves:\", avg_vol_predictions_r2)"
   ]
  },
  {
   "cell_type": "markdown",
   "metadata": {},
   "source": [
    "<u><b>Results Analysis</b></u>\n",
    "\n",
    "Our RMSE for Region 2 is showing a much better RMSE score indicating a higher accuracy rating in the model's predictions.\n",
    "\n",
    "We do, though, see a significant decrease in the average volume of the predicted reserves for this region compared to Region 1. "
   ]
  },
  {
   "cell_type": "markdown",
   "metadata": {},
   "source": [
    "  "
   ]
  },
  {
   "cell_type": "markdown",
   "metadata": {},
   "source": [
    " "
   ]
  },
  {
   "cell_type": "markdown",
   "metadata": {},
   "source": [
    "### Region 3 | Training & Analysis"
   ]
  },
  {
   "cell_type": "code",
   "execution_count": 19,
   "metadata": {},
   "outputs": [
    {
     "name": "stdout",
     "output_type": "stream",
     "text": [
      "RMSE - Region 3 on Validation Set: 40.02970873393434\n",
      "Avg Volume of Predicted Reserves: 94.96504596800489\n"
     ]
    }
   ],
   "source": [
    "# Splitting data, training and testing model\n",
    "\n",
    "# Isolating the Target and Features from the data\n",
    "target_r3 = r3m['product']\n",
    "features_r3 = r3m.drop('product', axis=1)\n",
    "\n",
    "# Creating Training and Validation sets (75:25)\n",
    "features_r3_train, features_r3_valid, target_r3_train, target_r3_valid = train_test_split(\n",
    "    features_r3, target_r3, test_size=0.25, random_state=12345\n",
    ")\n",
    "\n",
    "# Initializing model constructor\n",
    "model_r3 = LinearRegression()\n",
    "\n",
    "# Training the model\n",
    "model_r3.fit(features_r3_train, target_r3_train)\n",
    "\n",
    "# Running predictions on the validation set\n",
    "predictions_r3_valid = model_r3.predict(features_r3_valid)\n",
    "correct_answers_r3 = target_r3_valid\n",
    "\n",
    "# Calculating RMSE & Avg Volume of Predicted Reserves\n",
    "result_r3_rmse = mean_squared_error(correct_answers_r3, predictions_r3_valid)**0.5\n",
    "avg_vol_predictions_r3 = predictions_r3_valid.mean()\n",
    "\n",
    "# Printing results\n",
    "print(\"RMSE - Region 3 on Validation Set:\", result_r3_rmse)\n",
    "print(\"Avg Volume of Predicted Reserves:\", avg_vol_predictions_r3)"
   ]
  },
  {
   "cell_type": "markdown",
   "metadata": {},
   "source": [
    "<u><b>Results Analysis</b></u>\n",
    "\n",
    "Our RMSE for Region 3 is the highest of the three regions we are analyzing but it also has the highest average volume of predicted reserves. We'll have to see which of the three is most profitable after calculating our risk and profit metrics."
   ]
  },
  {
   "cell_type": "markdown",
   "metadata": {},
   "source": [
    "<div style=\"border: 5px solid green; padding: 10px; margin: 5px\">\n",
    "<b>   Reviewer's comment </b>\n",
    "    \n",
    "\n",
    "Correct!\n",
    "\n",
    "\n",
    "</div>\n",
    "<div style=\"border: 5px solid gold; padding: 10px; margin: 5px\">\n",
    "<b>   Reviewer's comment </b>\n",
    "    \n",
    "- It may also be useful to print the average amount of real reserves.    \n",
    "    \n",
    "\n",
    "\n",
    "\n",
    "- You can use a loop or a function, since the code is the same for all three regions. Not only will it make the code  shorter and easier to read, it will help you avoid typos.\n",
    "</div>"
   ]
  },
  {
   "cell_type": "markdown",
   "metadata": {},
   "source": [
    "<div style=\"border: 5px solid blue; padding: 10px; margin: 5px\">\n",
    "<b>Andrew's Comment</b>\n",
    "\n",
    "    \n",
    "- How would I determine the average amount of real reserves?\n",
    "\n",
    "\n",
    "</div>"
   ]
  },
  {
   "cell_type": "markdown",
   "metadata": {},
   "source": [
    "<div style=\"border: 5px solid green; padding: 10px; margin: 5px\">\n",
    "<b>   Reviewer's comment 2 </b>\n",
    "\n",
    "    \n",
    "This is the the average of the target column :) \n",
    "\n",
    "</div>"
   ]
  },
  {
   "cell_type": "markdown",
   "metadata": {},
   "source": [
    " "
   ]
  },
  {
   "cell_type": "markdown",
   "metadata": {},
   "source": [
    " "
   ]
  },
  {
   "cell_type": "markdown",
   "metadata": {},
   "source": [
    "## Analyzing the Distributions"
   ]
  },
  {
   "cell_type": "markdown",
   "metadata": {},
   "source": [
    "### Region 1"
   ]
  },
  {
   "cell_type": "code",
   "execution_count": 20,
   "metadata": {},
   "outputs": [
    {
     "data": {
      "image/png": "[encoded data removed]",
      "text/plain": [
       "<Figure size 640x480 with 1 Axes>"
      ]
     },
     "metadata": {},
     "output_type": "display_data"
    },
    {
     "data": {
      "text/html": [
       "<div>\n",
       "<style scoped>\n",
       "    .dataframe tbody tr th:only-of-type {\n",
       "        vertical-align: middle;\n",
       "    }\n",
       "\n",
       "    .dataframe tbody tr th {\n",
       "        vertical-align: top;\n",
       "    }\n",
       "\n",
       "    .dataframe thead th {\n",
       "        text-align: right;\n",
       "    }\n",
       "</style>\n",
       "<table border=\"1\" class=\"dataframe\">\n",
       "  <thead>\n",
       "    <tr style=\"text-align: right;\">\n",
       "      <th></th>\n",
       "      <th>f0</th>\n",
       "      <th>f1</th>\n",
       "      <th>f2</th>\n",
       "    </tr>\n",
       "  </thead>\n",
       "  <tbody>\n",
       "    <tr>\n",
       "      <th>count</th>\n",
       "      <td>100000.000000</td>\n",
       "      <td>100000.000000</td>\n",
       "      <td>100000.000000</td>\n",
       "    </tr>\n",
       "    <tr>\n",
       "      <th>mean</th>\n",
       "      <td>0.500419</td>\n",
       "      <td>0.250143</td>\n",
       "      <td>2.502647</td>\n",
       "    </tr>\n",
       "    <tr>\n",
       "      <th>std</th>\n",
       "      <td>0.871832</td>\n",
       "      <td>0.504433</td>\n",
       "      <td>3.248248</td>\n",
       "    </tr>\n",
       "    <tr>\n",
       "      <th>min</th>\n",
       "      <td>-1.408605</td>\n",
       "      <td>-0.848218</td>\n",
       "      <td>-12.088328</td>\n",
       "    </tr>\n",
       "    <tr>\n",
       "      <th>25%</th>\n",
       "      <td>-0.072580</td>\n",
       "      <td>-0.200881</td>\n",
       "      <td>0.287748</td>\n",
       "    </tr>\n",
       "    <tr>\n",
       "      <th>50%</th>\n",
       "      <td>0.502360</td>\n",
       "      <td>0.250252</td>\n",
       "      <td>2.515969</td>\n",
       "    </tr>\n",
       "    <tr>\n",
       "      <th>75%</th>\n",
       "      <td>1.073581</td>\n",
       "      <td>0.700646</td>\n",
       "      <td>4.715088</td>\n",
       "    </tr>\n",
       "    <tr>\n",
       "      <th>max</th>\n",
       "      <td>2.362331</td>\n",
       "      <td>1.343769</td>\n",
       "      <td>16.003790</td>\n",
       "    </tr>\n",
       "  </tbody>\n",
       "</table>\n",
       "</div>"
      ],
      "text/plain": [
       "                  f0             f1             f2\n",
       "count  100000.000000  100000.000000  100000.000000\n",
       "mean        0.500419       0.250143       2.502647\n",
       "std         0.871832       0.504433       3.248248\n",
       "min        -1.408605      -0.848218     -12.088328\n",
       "25%        -0.072580      -0.200881       0.287748\n",
       "50%         0.502360       0.250252       2.515969\n",
       "75%         1.073581       0.700646       4.715088\n",
       "max         2.362331       1.343769      16.003790"
      ]
     },
     "execution_count": 20,
     "metadata": {},
     "output_type": "execute_result"
    }
   ],
   "source": [
    "# Features Distribution\n",
    "\n",
    "# Reshaping data for better visual\n",
    "features_r1_long = features_r1.melt(var_name='Feature', value_name='Value')\n",
    "\n",
    "# Creating histogram\n",
    "sns.histplot(data=features_r1_long, \n",
    "             x='Value', \n",
    "             hue='Feature', \n",
    "             bins=60,\n",
    "             palette='tab10', \n",
    "             edgecolor='black', \n",
    "             multiple='stack'\n",
    "            )\n",
    "\n",
    "plt.title('R1 | Features Distribution')\n",
    "plt.xlabel('Distribution')\n",
    "plt.ylabel('Quantity')\n",
    "\n",
    "plt.show()\n",
    "\n",
    "features_r1.describe()"
   ]
  },
  {
   "cell_type": "markdown",
   "metadata": {},
   "source": [
    " "
   ]
  },
  {
   "cell_type": "markdown",
   "metadata": {},
   "source": [
    " "
   ]
  },
  {
   "cell_type": "code",
   "execution_count": 21,
   "metadata": {},
   "outputs": [
    {
     "data": {
      "image/png": "[encoded data removed]",
      "text/plain": [
       "<Figure size 640x480 with 1 Axes>"
      ]
     },
     "metadata": {},
     "output_type": "display_data"
    },
    {
     "data": {
      "text/plain": [
       "count    100000.000000\n",
       "mean         92.500000\n",
       "std          44.288691\n",
       "min           0.000000\n",
       "25%          56.497507\n",
       "50%          91.849972\n",
       "75%         128.564089\n",
       "max         185.364347\n",
       "Name: product, dtype: float64"
      ]
     },
     "execution_count": 21,
     "metadata": {},
     "output_type": "execute_result"
    }
   ],
   "source": [
    "# Target Distribution\n",
    "\n",
    "sns.histplot(data=target_r1, bins=60, color='skyblue')\n",
    "\n",
    "plt.title('R1 | Target Distribution')\n",
    "plt.xlabel('Distribution')\n",
    "plt.ylabel('Quantity')\n",
    "\n",
    "plt.show()\n",
    "\n",
    "target_r1.describe()"
   ]
  },
  {
   "cell_type": "markdown",
   "metadata": {},
   "source": [
    " "
   ]
  },
  {
   "cell_type": "markdown",
   "metadata": {},
   "source": [
    " "
   ]
  },
  {
   "cell_type": "markdown",
   "metadata": {},
   "source": [
    "<b><u>Conclusions</u></b>\n",
    "\n",
    "As we look at the distributions of the features, we see that the 'f2' feature is evenly distributed but it's mean is greater than 0. For the other two features, although less even of a distribution, lies more centered with the mean being closer to zero.<br>\n",
    "\n",
    "Our target variable distribution seems to be evently distributed as well but it has sporadic readings as it progresses through the curve."
   ]
  },
  {
   "cell_type": "markdown",
   "metadata": {},
   "source": [
    "<div style=\"border: 5px solid green; padding: 10px; margin: 5px\">\n",
    "<b>   Reviewer's comment 2 </b>\n",
    "    \n",
    "    \n",
    "Excellent! Why is this important? In real-world problems, the data is rarely clean. Displaying distributions help us evaluate the data, find outliers, identify the required preprocessing steps and understand feature relationships, which informs feature engineering. Feature engineering in some cases is a clue.\n",
    "\n",
    "</div>"
   ]
  },
  {
   "cell_type": "markdown",
   "metadata": {},
   "source": [
    " "
   ]
  },
  {
   "cell_type": "markdown",
   "metadata": {},
   "source": [
    " "
   ]
  },
  {
   "cell_type": "markdown",
   "metadata": {},
   "source": [
    "### Region 2"
   ]
  },
  {
   "cell_type": "code",
   "execution_count": 22,
   "metadata": {},
   "outputs": [
    {
     "data": {
      "image/png": "[encoded data removed]",
      "text/plain": [
       "<Figure size 640x480 with 1 Axes>"
      ]
     },
     "metadata": {},
     "output_type": "display_data"
    },
    {
     "data": {
      "text/html": [
       "<div>\n",
       "<style scoped>\n",
       "    .dataframe tbody tr th:only-of-type {\n",
       "        vertical-align: middle;\n",
       "    }\n",
       "\n",
       "    .dataframe tbody tr th {\n",
       "        vertical-align: top;\n",
       "    }\n",
       "\n",
       "    .dataframe thead th {\n",
       "        text-align: right;\n",
       "    }\n",
       "</style>\n",
       "<table border=\"1\" class=\"dataframe\">\n",
       "  <thead>\n",
       "    <tr style=\"text-align: right;\">\n",
       "      <th></th>\n",
       "      <th>f0</th>\n",
       "      <th>f1</th>\n",
       "      <th>f2</th>\n",
       "    </tr>\n",
       "  </thead>\n",
       "  <tbody>\n",
       "    <tr>\n",
       "      <th>count</th>\n",
       "      <td>100000.000000</td>\n",
       "      <td>100000.000000</td>\n",
       "      <td>100000.000000</td>\n",
       "    </tr>\n",
       "    <tr>\n",
       "      <th>mean</th>\n",
       "      <td>1.141296</td>\n",
       "      <td>-4.796579</td>\n",
       "      <td>2.494541</td>\n",
       "    </tr>\n",
       "    <tr>\n",
       "      <th>std</th>\n",
       "      <td>8.965932</td>\n",
       "      <td>5.119872</td>\n",
       "      <td>1.703572</td>\n",
       "    </tr>\n",
       "    <tr>\n",
       "      <th>min</th>\n",
       "      <td>-31.609576</td>\n",
       "      <td>-26.358598</td>\n",
       "      <td>-0.018144</td>\n",
       "    </tr>\n",
       "    <tr>\n",
       "      <th>25%</th>\n",
       "      <td>-6.298551</td>\n",
       "      <td>-8.267985</td>\n",
       "      <td>1.000021</td>\n",
       "    </tr>\n",
       "    <tr>\n",
       "      <th>50%</th>\n",
       "      <td>1.153055</td>\n",
       "      <td>-4.813172</td>\n",
       "      <td>2.011479</td>\n",
       "    </tr>\n",
       "    <tr>\n",
       "      <th>75%</th>\n",
       "      <td>8.621015</td>\n",
       "      <td>-1.332816</td>\n",
       "      <td>3.999904</td>\n",
       "    </tr>\n",
       "    <tr>\n",
       "      <th>max</th>\n",
       "      <td>29.421755</td>\n",
       "      <td>18.734063</td>\n",
       "      <td>5.019721</td>\n",
       "    </tr>\n",
       "  </tbody>\n",
       "</table>\n",
       "</div>"
      ],
      "text/plain": [
       "                  f0             f1             f2\n",
       "count  100000.000000  100000.000000  100000.000000\n",
       "mean        1.141296      -4.796579       2.494541\n",
       "std         8.965932       5.119872       1.703572\n",
       "min       -31.609576     -26.358598      -0.018144\n",
       "25%        -6.298551      -8.267985       1.000021\n",
       "50%         1.153055      -4.813172       2.011479\n",
       "75%         8.621015      -1.332816       3.999904\n",
       "max        29.421755      18.734063       5.019721"
      ]
     },
     "execution_count": 22,
     "metadata": {},
     "output_type": "execute_result"
    }
   ],
   "source": [
    "# Features Distribution\n",
    "\n",
    "# Reshaping data for better visual\n",
    "features_r2_long = features_r2.melt(var_name='Feature', value_name='Value')\n",
    "\n",
    "# Creating histogram\n",
    "sns.histplot(data=features_r2_long, \n",
    "             x='Value', \n",
    "             hue='Feature', \n",
    "             bins=60, \n",
    "             palette='tab20', \n",
    "             edgecolor='black', \n",
    "             multiple='stack',\n",
    "            )\n",
    "\n",
    "plt.title('R2 | Features Distribution')\n",
    "plt.xlabel('Distribution')\n",
    "plt.ylabel('Quantity')\n",
    "\n",
    "plt.show()\n",
    "\n",
    "features_r2.describe()"
   ]
  },
  {
   "cell_type": "markdown",
   "metadata": {},
   "source": [
    " "
   ]
  },
  {
   "cell_type": "markdown",
   "metadata": {},
   "source": [
    " "
   ]
  },
  {
   "cell_type": "code",
   "execution_count": 23,
   "metadata": {},
   "outputs": [
    {
     "data": {
      "image/png": "[encoded data removed]",
      "text/plain": [
       "<Figure size 640x480 with 1 Axes>"
      ]
     },
     "metadata": {},
     "output_type": "display_data"
    },
    {
     "data": {
      "text/plain": [
       "count    100000.000000\n",
       "mean         68.825000\n",
       "std          45.944423\n",
       "min           0.000000\n",
       "25%          26.953261\n",
       "50%          57.085625\n",
       "75%         107.813044\n",
       "max         137.945408\n",
       "Name: product, dtype: float64"
      ]
     },
     "execution_count": 23,
     "metadata": {},
     "output_type": "execute_result"
    }
   ],
   "source": [
    "# Target Distribution\n",
    "\n",
    "sns.histplot(data=target_r2, bins=60, color='skyblue')\n",
    "\n",
    "plt.title('R2 | Target Distribution')\n",
    "plt.xlabel('Distribution')\n",
    "plt.ylabel('Quantity')\n",
    "\n",
    "plt.show()\n",
    "\n",
    "target_r2.describe()"
   ]
  },
  {
   "cell_type": "markdown",
   "metadata": {},
   "source": [
    " "
   ]
  },
  {
   "cell_type": "markdown",
   "metadata": {},
   "source": [
    " "
   ]
  },
  {
   "cell_type": "markdown",
   "metadata": {},
   "source": [
    "<b><u>Conclusions</u></b>\n",
    "\n",
    "The features for this distribution seem to follow a similar pattern and all have a spike in readings around the same area. Very different from Region 1 numbers.<br>\n",
    "\n",
    "The target distribution for Region 2 is also disctinct in that it has the same value (or quantity) dispursed throughout the distribution."
   ]
  },
  {
   "cell_type": "markdown",
   "metadata": {},
   "source": [
    " "
   ]
  },
  {
   "cell_type": "markdown",
   "metadata": {},
   "source": [
    " "
   ]
  },
  {
   "cell_type": "markdown",
   "metadata": {},
   "source": [
    "### Region 3"
   ]
  },
  {
   "cell_type": "code",
   "execution_count": 24,
   "metadata": {},
   "outputs": [
    {
     "data": {
      "image/png": "[encoded data removed]",
      "text/plain": [
       "<Figure size 640x480 with 1 Axes>"
      ]
     },
     "metadata": {},
     "output_type": "display_data"
    },
    {
     "data": {
      "text/html": [
       "<div>\n",
       "<style scoped>\n",
       "    .dataframe tbody tr th:only-of-type {\n",
       "        vertical-align: middle;\n",
       "    }\n",
       "\n",
       "    .dataframe tbody tr th {\n",
       "        vertical-align: top;\n",
       "    }\n",
       "\n",
       "    .dataframe thead th {\n",
       "        text-align: right;\n",
       "    }\n",
       "</style>\n",
       "<table border=\"1\" class=\"dataframe\">\n",
       "  <thead>\n",
       "    <tr style=\"text-align: right;\">\n",
       "      <th></th>\n",
       "      <th>f0</th>\n",
       "      <th>f1</th>\n",
       "      <th>f2</th>\n",
       "    </tr>\n",
       "  </thead>\n",
       "  <tbody>\n",
       "    <tr>\n",
       "      <th>count</th>\n",
       "      <td>100000.000000</td>\n",
       "      <td>100000.000000</td>\n",
       "      <td>100000.000000</td>\n",
       "    </tr>\n",
       "    <tr>\n",
       "      <th>mean</th>\n",
       "      <td>0.002023</td>\n",
       "      <td>-0.002081</td>\n",
       "      <td>2.495128</td>\n",
       "    </tr>\n",
       "    <tr>\n",
       "      <th>std</th>\n",
       "      <td>1.732045</td>\n",
       "      <td>1.730417</td>\n",
       "      <td>3.473445</td>\n",
       "    </tr>\n",
       "    <tr>\n",
       "      <th>min</th>\n",
       "      <td>-8.760004</td>\n",
       "      <td>-7.084020</td>\n",
       "      <td>-11.970335</td>\n",
       "    </tr>\n",
       "    <tr>\n",
       "      <th>25%</th>\n",
       "      <td>-1.162288</td>\n",
       "      <td>-1.174820</td>\n",
       "      <td>0.130359</td>\n",
       "    </tr>\n",
       "    <tr>\n",
       "      <th>50%</th>\n",
       "      <td>0.009424</td>\n",
       "      <td>-0.009482</td>\n",
       "      <td>2.484236</td>\n",
       "    </tr>\n",
       "    <tr>\n",
       "      <th>75%</th>\n",
       "      <td>1.158535</td>\n",
       "      <td>1.163678</td>\n",
       "      <td>4.858794</td>\n",
       "    </tr>\n",
       "    <tr>\n",
       "      <th>max</th>\n",
       "      <td>7.238262</td>\n",
       "      <td>7.844801</td>\n",
       "      <td>16.739402</td>\n",
       "    </tr>\n",
       "  </tbody>\n",
       "</table>\n",
       "</div>"
      ],
      "text/plain": [
       "                  f0             f1             f2\n",
       "count  100000.000000  100000.000000  100000.000000\n",
       "mean        0.002023      -0.002081       2.495128\n",
       "std         1.732045       1.730417       3.473445\n",
       "min        -8.760004      -7.084020     -11.970335\n",
       "25%        -1.162288      -1.174820       0.130359\n",
       "50%         0.009424      -0.009482       2.484236\n",
       "75%         1.158535       1.163678       4.858794\n",
       "max         7.238262       7.844801      16.739402"
      ]
     },
     "execution_count": 24,
     "metadata": {},
     "output_type": "execute_result"
    }
   ],
   "source": [
    "# Features Distribution\n",
    "\n",
    "# Reshaping data for better visual\n",
    "features_r3_long = features_r3.melt(var_name='Feature', value_name='Value')\n",
    "\n",
    "# Creating histogram\n",
    "sns.histplot(data=features_r3_long, \n",
    "             x='Value', \n",
    "             hue='Feature', \n",
    "             bins=60, \n",
    "             palette='tab20b', \n",
    "             edgecolor='black', \n",
    "             multiple='stack',\n",
    "            )\n",
    "\n",
    "plt.title('R3 | Features Distribution')\n",
    "plt.xlabel('Distribution')\n",
    "plt.ylabel('Quantity')\n",
    "\n",
    "plt.show()\n",
    "\n",
    "features_r3.describe()"
   ]
  },
  {
   "cell_type": "markdown",
   "metadata": {},
   "source": [
    " "
   ]
  },
  {
   "cell_type": "markdown",
   "metadata": {},
   "source": [
    " "
   ]
  },
  {
   "cell_type": "code",
   "execution_count": 25,
   "metadata": {},
   "outputs": [
    {
     "data": {
      "image/png": "[encoded data removed]",
      "text/plain": [
       "<Figure size 640x480 with 1 Axes>"
      ]
     },
     "metadata": {},
     "output_type": "display_data"
    },
    {
     "data": {
      "text/plain": [
       "count    100000.000000\n",
       "mean         95.000000\n",
       "std          44.749921\n",
       "min           0.000000\n",
       "25%          59.450441\n",
       "50%          94.925613\n",
       "75%         130.595027\n",
       "max         190.029838\n",
       "Name: product, dtype: float64"
      ]
     },
     "execution_count": 25,
     "metadata": {},
     "output_type": "execute_result"
    }
   ],
   "source": [
    "# Target Distribution\n",
    "\n",
    "sns.histplot(data=target_r3, bins=60, color='skyblue')\n",
    "\n",
    "plt.title('R3 | Target Distribution')\n",
    "plt.xlabel('Distribution')\n",
    "plt.ylabel('Quantity')\n",
    "\n",
    "plt.show()\n",
    "\n",
    "target_r3.describe()"
   ]
  },
  {
   "cell_type": "markdown",
   "metadata": {},
   "source": [
    " "
   ]
  },
  {
   "cell_type": "markdown",
   "metadata": {},
   "source": [
    " "
   ]
  },
  {
   "cell_type": "markdown",
   "metadata": {},
   "source": [
    "<b><u>Conclusions</u></b>\n",
    "\n",
    "The features for Region 3 all have a much more reliable and consistent distribution. They all follow a similar curve except for 'f2' feature which has its mean greater than the other two.<br>\n",
    "\n",
    "The target distribution for Region 3 is similar to Region 1 in its sporadic nature but also seems to follow a normal distribution throughout its curve."
   ]
  },
  {
   "cell_type": "markdown",
   "metadata": {},
   "source": [
    "<div style=\"border: 5px solid green; padding: 10px; margin: 5px\">\n",
    "<b>   Reviewer's comment 2 </b>\n",
    "    \n",
    "    \n",
    "Good! \n",
    "\n",
    "</div>"
   ]
  },
  {
   "cell_type": "markdown",
   "metadata": {},
   "source": [
    " "
   ]
  },
  {
   "cell_type": "markdown",
   "metadata": {},
   "source": [
    " "
   ]
  },
  {
   "cell_type": "markdown",
   "metadata": {},
   "source": [
    "## Preparing Data for Profit Calculation"
   ]
  },
  {
   "cell_type": "code",
   "execution_count": 26,
   "metadata": {},
   "outputs": [
    {
     "name": "stdout",
     "output_type": "stream",
     "text": [
      "111.11\n"
     ]
    }
   ],
   "source": [
    "# Break-Even Volume\n",
    "\n",
    "break_even_volume = (BUDGET / BARREL_REV) / POINTS\n",
    "\n",
    "print(f\"{break_even_volume:,.2f}\")"
   ]
  },
  {
   "cell_type": "markdown",
   "metadata": {},
   "source": [
    "<div style=\"border: 5px solid red; padding: 10px; margin: 5px\">\n",
    "<b>   Reviewer's comment </b>\n",
    "    \n",
    "If revenue per unit is \\$4,500, our budget is 1e8 and we have 200 points, then the required volume for break-even is budget / 4500 / 200. \n",
    "    \n",
    "</div>"
   ]
  },
  {
   "cell_type": "markdown",
   "metadata": {},
   "source": [
    "<div style=\"border: 5px solid blue; padding: 10px; margin: 5px\">\n",
    "<b>Andrew's Comment</b>\n",
    "\n",
    "    \n",
    "- Thank you, corrected this section.\n",
    "\n",
    "\n",
    "</div>"
   ]
  },
  {
   "cell_type": "markdown",
   "metadata": {},
   "source": [
    "<div style=\"border: 5px solid green; padding: 10px; margin: 5px\">\n",
    "<b>   Reviewer's comment 2 </b>\n",
    "    \n",
    "Now it's correct! \n",
    "</div>"
   ]
  },
  {
   "cell_type": "markdown",
   "metadata": {},
   "source": [
    " "
   ]
  },
  {
   "cell_type": "code",
   "execution_count": 27,
   "metadata": {},
   "outputs": [
    {
     "name": "stdout",
     "output_type": "stream",
     "text": [
      "Variance for Region 1: -18.52\n",
      "Variance for Region 1: -42.38\n",
      "Variance for Region 1: -16.15\n"
     ]
    }
   ],
   "source": [
    "# Variance in Each Region\n",
    "\n",
    "var_r1 = avg_vol_predictions_r1 - break_even_volume\n",
    "var_r2 = avg_vol_predictions_r2 - break_even_volume\n",
    "var_r3 = avg_vol_predictions_r3 - break_even_volume\n",
    "\n",
    "print(f\"Variance for Region 1: {var_r1:,.2f}\")\n",
    "print(f\"Variance for Region 1: {var_r2:,.2f}\")\n",
    "print(f\"Variance for Region 1: {var_r3:,.2f}\")"
   ]
  },
  {
   "cell_type": "markdown",
   "metadata": {},
   "source": [
    "<div style=\"border: 5px solid red; padding: 10px; margin: 5px\">\n",
    "<b>   Reviewer's comment </b>\n",
    "\n",
    "Let's compare the break-even with the actual (target) average volume in each region because predictions are not necessarily accurate. What can be inferred from the results? \n",
    "    \n",
    "</div>"
   ]
  },
  {
   "cell_type": "markdown",
   "metadata": {},
   "source": [
    "<div style=\"border: 5px solid blue; padding: 10px; margin: 5px\">\n",
    "<b>Andrew's Comment</b>\n",
    "\n",
    "    \n",
    "- Variances for each region updated after fixing the \"Break-Even-Volume\" from above.\n",
    "\n",
    "\n",
    "</div>"
   ]
  },
  {
   "cell_type": "markdown",
   "metadata": {},
   "source": [
    "<div style=\"border: 5px solid gold; padding: 10px; margin: 5px\">\n",
    "<b>   Reviewer's comment 2 </b>\n",
    "    \n",
    "    \n",
    "Since predictions are never 100% accurate, it's better to compare the break-even value with targets. If we do this, we will notice that even the average volumes in these three regions are less than the required value. If we are to select the wells randomly, we are probably going to lose money. That's why we need machine learning and bootstrapping to estimate profit distributions. \n",
    "</div>"
   ]
  },
  {
   "cell_type": "markdown",
   "metadata": {},
   "source": [
    " "
   ]
  },
  {
   "cell_type": "markdown",
   "metadata": {},
   "source": [
    "From our findings comparing the average well volumes of each region to the <b>Break-Even Volume</b> we see that none of the regions can provide a break-even point by the average. We will have to train our model to be able to detect which wells hold the most volume to help increase our yield and therefore revenue for each region."
   ]
  },
  {
   "cell_type": "markdown",
   "metadata": {},
   "source": [
    " "
   ]
  },
  {
   "cell_type": "markdown",
   "metadata": {},
   "source": [
    " "
   ]
  },
  {
   "cell_type": "markdown",
   "metadata": {},
   "source": [
    "## Profit for Each Region"
   ]
  },
  {
   "cell_type": "markdown",
   "metadata": {},
   "source": [
    "Here, we're basing the calculations on the following parameters:\n",
    "1. Studied 500 points, but choosing <b>the best 200</b>\n",
    "2. The budget for those 200 wells is <b>\\$100 Million</b>\n",
    "3. Revenue per Barrel is \\$4.5 (<b>or $4,500 per thousand barrels</b>)"
   ]
  },
  {
   "cell_type": "code",
   "execution_count": 28,
   "metadata": {},
   "outputs": [],
   "source": [
    "# Creating function to calculate profit for each region\n",
    "\n",
    "def calculate_profit(target, predictions):\n",
    "\n",
    "    # Create pairs of (prediction, target)\n",
    "    pairs = list(zip(predictions, target))\n",
    "    \n",
    "    # Sort pairs by prediction in descending order\n",
    "    sorted_pairs = sorted(pairs, key=lambda x: x[0], reverse=True)\n",
    "    \n",
    "    # Select top 200 wells\n",
    "    top_wells = sorted_pairs[:POINTS]\n",
    "\n",
    "    # Getting the sum of the \"actual target values\"\n",
    "    # Extracting second value in each tuple in the list\n",
    "    actual_sum = sum(t[1] for t in top_wells)\n",
    "\n",
    "    # Calculating Revenue\n",
    "    revenue = actual_sum * BARREL_REV\n",
    "\n",
    "    # Calculating Profit\n",
    "    profit = revenue - BUDGET \n",
    "\n",
    "    # Returning the profit\n",
    "    return profit"
   ]
  },
  {
   "cell_type": "markdown",
   "metadata": {},
   "source": [
    "<div style=\"border: 5px solid green; padding: 10px; margin: 5px\">\n",
    "<b>   Reviewer's comment </b> \n",
    "\n",
    "Correct! We select the best 200 wells by predictions, but then we need to use target values to actually calculate profit because predictions may not be accurate. \n",
    "</div>\n",
    "\n",
    "<div style=\"border: 5px solid gold; padding: 10px; margin: 5px\">\n",
    "<b> Reviewer's comment </b>\n",
    "    \n",
    "Constant values should be defined in the upper case and in the very beginning of the project.  \n",
    "    \n",
    "</div>"
   ]
  },
  {
   "cell_type": "markdown",
   "metadata": {},
   "source": [
    "<div style=\"border: 5px solid blue; padding: 10px; margin: 5px\">\n",
    "<b>Andrew's Comment</b>\n",
    "\n",
    "    \n",
    "- Which constant values do you mean? Could you please give an example?\n",
    "\n",
    "\n",
    "</div>"
   ]
  },
  {
   "cell_type": "markdown",
   "metadata": {},
   "source": [
    "<div style=\"border: 5px solid gold; padding: 10px; margin: 5px\">\n",
    "<b>   Reviewer's comment 2 </b>\n",
    "    \n",
    "    \n",
    "I mean these: \n",
    "\n",
    "```python\n",
    "\n",
    "budget = 100_000_000\n",
    "revenue_per_barrel = 4500\n",
    "num_wells = 200\n",
    "\n",
    "\n",
    "```\n",
    "\n",
    "[PEP8](https://peps.python.org/pep-0008/#constants) states that \"constants are usually defined on a module level and written in all capital letters with underscores separating words. Examples include MAX_OVERFLOW and TOTAL.\"\n",
    "</div>"
   ]
  },
  {
   "cell_type": "markdown",
   "metadata": {},
   "source": [
    "<div style=\"border: 5px solid blue; padding: 10px; margin: 5px\">\n",
    "<b>Andrew's Comment 2</b>\n",
    "\n",
    "    \n",
    "I see, thank you for clarifying!<br><br>\n",
    "\n",
    "I made these changes as well!\n",
    "\n",
    "\n",
    "</div>"
   ]
  },
  {
   "cell_type": "markdown",
   "metadata": {},
   "source": [
    "<div style=\"border: 5px solid green; padding: 15px; margin: 5px\">\n",
    "<b>   Reviewer's comment 3 </b>\n",
    "    \n",
    "\n",
    "Very good! \n",
    "</div>\n"
   ]
  },
  {
   "cell_type": "markdown",
   "metadata": {},
   "source": [
    " "
   ]
  },
  {
   "cell_type": "markdown",
   "metadata": {},
   "source": [
    " "
   ]
  },
  {
   "cell_type": "markdown",
   "metadata": {},
   "source": [
    "### Calculating Profit for Each Region"
   ]
  },
  {
   "cell_type": "code",
   "execution_count": 29,
   "metadata": {},
   "outputs": [
    {
     "name": "stdout",
     "output_type": "stream",
     "text": [
      "Profit for Region 1: $33,208,260.43\n",
      "Profit for Region 2: $24,150,866.97\n",
      "Profit for Region 3: $27,103,499.64\n"
     ]
    }
   ],
   "source": [
    "## Calculating using the \"profit\" function\n",
    "\n",
    "# Region 1\n",
    "profit_r1 = calculate_profit(correct_answers_r1, predictions_r1_valid)\n",
    "\n",
    "# Region 2\n",
    "profit_r2 = calculate_profit(correct_answers_r2, predictions_r2_valid)\n",
    "\n",
    "# Region 3\n",
    "profit_r3 = calculate_profit(correct_answers_r3, predictions_r3_valid)\n",
    "\n",
    "\n",
    "# Printing results\n",
    "print(f\"Profit for Region 1: ${profit_r1:,.2f}\")\n",
    "print(f\"Profit for Region 2: ${profit_r2:,.2f}\")\n",
    "print(f\"Profit for Region 3: ${profit_r3:,.2f}\")"
   ]
  },
  {
   "cell_type": "markdown",
   "metadata": {},
   "source": [
    " "
   ]
  },
  {
   "cell_type": "markdown",
   "metadata": {},
   "source": [
    "From our calculations here for the potiential profit of each region, it appears that <b>Region 2</b> is the region that will yield the most profit of all three regions. This is the region I would recommend to invest resources and time to yield the greatest ROI.   "
   ]
  },
  {
   "cell_type": "markdown",
   "metadata": {},
   "source": [
    " "
   ]
  },
  {
   "cell_type": "markdown",
   "metadata": {},
   "source": [
    " "
   ]
  },
  {
   "cell_type": "markdown",
   "metadata": {},
   "source": [
    "## Risk for Each Region"
   ]
  },
  {
   "cell_type": "code",
   "execution_count": 30,
   "metadata": {
    "scrolled": true
   },
   "outputs": [
    {
     "name": "stdout",
     "output_type": "stream",
     "text": [
      "Region 1: Risk = 6.8%, Avg Profit = $3,900,761, 95% CI: ($-1,256,051, $9,332,663)\n",
      "\n",
      "Region 2: Risk = 7.8%, Avg Profit = $3,863,352, 95% CI: ($-1,404,469, $8,968,260)\n",
      "\n",
      "Region 3: Risk = 1.1%, Avg Profit = $4,646,863, 95% CI: ($713,954, $8,622,850)\n",
      "\n"
     ]
    }
   ],
   "source": [
    "# Creating risk function\n",
    "\n",
    "def calculate_risk(bootstrap_profits):\n",
    "    # Converting bootstrap_profits to an array\n",
    "    bootstrap_array = np.array(bootstrap_profits)\n",
    "\n",
    "    # Creating a boolean array to differentiate gains & losses\n",
    "    losses = bootstrap_array < 0\n",
    "\n",
    "    # Adding up the losses\n",
    "    losses_sum = sum(losses)\n",
    "\n",
    "    # Calculating the risk percentage\n",
    "    risk_prob = losses_sum / len(bootstrap_array)\n",
    "\n",
    "    # Returning risk value as a percentage\n",
    "    return risk_prob * 100\n",
    "    \n",
    "\n",
    "# Store results for all 3 regions\n",
    "all_region_results = []\n",
    "\n",
    "\n",
    "# Analyze each region one by one\n",
    "for region in range(3):\n",
    "    \n",
    "    # Get the right data for this region\n",
    "    if region == 1:\n",
    "        predictions = pd.Series(predictions_r1_valid).reset_index(drop=True) \n",
    "        actual = pd.Series(target_r1_valid).reset_index(drop=True)\n",
    "    elif region == 2:\n",
    "        predictions = pd.Series(predictions_r2_valid).reset_index(drop=True)\n",
    "        actual = pd.Series(target_r2_valid).reset_index(drop=True)\n",
    "    else:  \n",
    "        region == 3\n",
    "        predictions = pd.Series(predictions_r3_valid).reset_index(drop=True)\n",
    "        actual = pd.Series(target_r3_valid).reset_index(drop=True)\n",
    "    \n",
    "    # Initializing empty list to store profit values\n",
    "    bootstrap_profits = []\n",
    "\n",
    "    # Specifying random state\n",
    "    state = np.random.RandomState(315)\n",
    "    \n",
    "    for i in range(1000):\n",
    "\n",
    "        # Generating 500 random samples from \"predictions\"\n",
    "        random_indices = state.choice(len(predictions), size=500, replace=True)\n",
    "        \n",
    "        # Connecting the sampled indices with their predictions\n",
    "        sampled_predictions = predictions[random_indices]\n",
    "\n",
    "        # Doing the same with the actual Series\n",
    "        sampled_actual = actual.iloc[random_indices]\n",
    "\n",
    "        # Calculating profit with function\n",
    "        profit = calculate_profit(sampled_actual, sampled_predictions)\n",
    "\n",
    "        # Appending profit values to \"bootstrap_profits\"\n",
    "        bootstrap_profits.append(profit)\n",
    "\n",
    "    # Calculating 95% confidence interval\n",
    "    lower_bound = np.percentile(bootstrap_profits, 2.5)\n",
    "    upper_bound = np.percentile(bootstrap_profits, 97.5)\n",
    "\n",
    "    # Calculate risk with existing function\n",
    "    risk = calculate_risk(bootstrap_profits)\n",
    "\n",
    "    # Store results\n",
    "    all_region_results.append({\n",
    "        'region': region + 1,\n",
    "        'risk': risk,\n",
    "        'avg_profit': np.mean(bootstrap_profits),\n",
    "        'lower_95_CI': lower_bound,\n",
    "        'upper_95_CI': upper_bound\n",
    "    })\n",
    "\n",
    "\n",
    "# Compare regions and pick the best one\n",
    "for result in all_region_results:\n",
    "    print(f\"Region {result['region']}: Risk = {result['risk']:.1f}%, Avg Profit = ${result['avg_profit']:,.0f}, 95% CI: (${result['lower_95_CI']:,.0f}, ${result['upper_95_CI']:,.0f})\\n\")\n",
    "    "
   ]
  },
  {
   "cell_type": "code",
   "execution_count": null,
   "metadata": {},
   "outputs": [],
   "source": []
  },
  {
   "cell_type": "markdown",
   "metadata": {},
   "source": [
    "<div style=\"border: 5px solid red; padding: 10px; margin: 5px\">\n",
    "<b>   Reviewer's comment </b>\n",
    "    \n",
    "\n",
    "- We need to sample 500 rows.  Hint: risk will not be 0 or 100.   \n",
    "\n",
    "\n",
    "- Make sure you reset both target and prediction indices.\n",
    " \n",
    "- Let's specify random state. \n",
    "    \n",
    "    \n",
    "```python\n",
    "state = np.random.RandomState(315)\n",
    "    \n",
    "def ... \n",
    "    random_indices = state.choice(len(predictions), size=500\n",
    "                                  , replace=True)\n",
    "```\n",
    "\n",
    "\n",
    "</div>\n",
    "<div style=\"border: 5px solid gold; padding: 10px; margin: 5px\">\n",
    "<b>   Reviewer's comment </b>\n",
    "    \n",
    "You can calculate risk as follows: `(profit_values < 0).mean()`. On big data, it will work much faster. \n",
    "                                                                \n",
    "</div>"
   ]
  },
  {
   "cell_type": "markdown",
   "metadata": {},
   "source": [
    "<div style=\"border: 5px solid blue; padding: 10px; margin: 5px\">\n",
    "<b>Andrew's Comment</b>\n",
    "\n",
    "    \n",
    "- Adjusted function to sample 500 rows (risk for region 1 and 2 is still 100%? Why is this?)\n",
    "- Reset indices for the target and prediction indices\n",
    "- Specified random state\n",
    "\n",
    "For calculating risk:\n",
    "- Where would I add that formula instead of the one I currently have?\n",
    "\n",
    "\n",
    "</div>"
   ]
  },
  {
   "cell_type": "markdown",
   "metadata": {},
   "source": [
    "<div style=\"border: 5px solid green; padding: 10px; margin: 5px\">\n",
    "<b>   Reviewer's comment 2 </b>\n",
    "    \n",
    "\n",
    "Which formula do you mean? The one I suggested? Use it instead of `risk = calculate_risk(bootstrap_profits)` as follows:\n",
    "\n",
    "\n",
    "```python\n",
    "\n",
    "risk = (pd.Series(bootstrap_profits) < 0).mean()\n",
    "\n",
    "\n",
    "```\n",
    "    \n",
    "</div>\n",
    "<div style=\"border: 5px solid red; padding: 10px; margin: 5px\">\n",
    "<b>   Reviewer's comment 2 </b>\n",
    "    \n",
    "However, as I've mentioned, risks will not be 0 or 100. If you see 0 or 100, there's a mistake somewhere. Currently, all profit values are negative. \n",
    "    \n",
    "\n",
    "Take a look. The `calculate_profit` was defined as follows: `calculate_profit(target, predictions)`. However, when you call it `calculate_profit(sampled_predictions, sampled_actual)`, you put predictions first. Would you fix it please? After you do this, the results should change. \n",
    "\n",
    "</div>"
   ]
  },
  {
   "cell_type": "markdown",
   "metadata": {},
   "source": [
    "<div style=\"border: 5px solid blue; padding: 10px; margin: 5px\">\n",
    "<b>Andrew's Comment 2</b>\n",
    "\n",
    "    \n",
    "That makes much more sense, thank you! I made this correction and the numbers make more sense as well.\n",
    "\n",
    "</div>"
   ]
  },
  {
   "cell_type": "markdown",
   "metadata": {},
   "source": [
    "<div style=\"border: 5px solid green; padding: 15px; margin: 5px\">\n",
    "<b>   Reviewer's comment 3 </b>\n",
    "    \n",
    "Good :) Glad to help! \n",
    "\n",
    "</div>\n"
   ]
  },
  {
   "cell_type": "markdown",
   "metadata": {},
   "source": [
    "  "
   ]
  },
  {
   "cell_type": "markdown",
   "metadata": {},
   "source": [
    " "
   ]
  },
  {
   "cell_type": "markdown",
   "metadata": {},
   "source": [
    "## Recommendations"
   ]
  },
  {
   "cell_type": "markdown",
   "metadata": {},
   "source": [
    "Based on the findings in the analysis of this project, it appears that <b>Region 3</b> is our clear winner! It is estimated an <b>Avg Profit of over <u>$4.6 Million</u>.</b> The amount of risk for this region was calculated to be only <b>1.1%</b>, while it was calculated to be much more in the other regions (Region 1: 6.8%, Region 2: 7.8%).\n",
    "\n",
    "This region is the most profitable out of all the regions we analyzed which makes sense after exploring the visualizations for the distributions of each region. Region 3 had the most normally distributed feature data which would inform the model more accurately giving us favorable results."
   ]
  },
  {
   "cell_type": "markdown",
   "metadata": {},
   "source": [
    "<div style=\"border: 5px solid green; padding: 15px; margin: 5px\">\n",
    "<b>   Reviewer's comment </b>\n",
    "    \n",
    "\n",
    "Good conclusion! \n",
    "\n",
    "</div>\n",
    "\n",
    "\n",
    "<div style=\"border: 5px solid red; padding: 15px; margin: 5px\">\n",
    "<b>   Reviewer's comment </b>\n",
    "    \n",
    "\n",
    "Please don't forget to update it if needed :)     \n",
    "</div>"
   ]
  },
  {
   "cell_type": "markdown",
   "metadata": {},
   "source": [
    "<div style=\"border: 5px solid blue; padding: 10px; margin: 5px\">\n",
    "<b>Andrew's Comment</b>\n",
    "\n",
    "    \n",
    "- Updated conclusion, it looks like Region 3 was actually profitable!\n",
    "\n",
    "</div>"
   ]
  },
  {
   "cell_type": "markdown",
   "metadata": {},
   "source": [
    "<div style=\"border: 5px solid red; padding: 10px; margin: 5px\">\n",
    "<b>   Reviewer's comment 2 </b>\n",
    "   \n",
    "    \n",
    "\n",
    "Perhaps you will need to change it again :)    \n",
    "</div>"
   ]
  },
  {
   "cell_type": "markdown",
   "metadata": {},
   "source": [
    "<div style=\"border: 5px solid blue; padding: 10px; margin: 5px\">\n",
    "<b>Andrew's Comment 2</b>\n",
    "\n",
    "    \n",
    "Updated the conclusion as well! Now the results are more comparable than before.\n",
    "\n",
    "\n",
    "</div>"
   ]
  },
  {
   "cell_type": "markdown",
   "metadata": {},
   "source": [
    "<div style=\"border: 5px solid green; padding: 15px; margin: 5px\">\n",
    "<b>   Reviewer's comment 3 </b>\n",
    "    \n",
    "\n",
    "Great! \n",
    "\n",
    "</div>\n"
   ]
  },
  {
   "cell_type": "markdown",
   "metadata": {},
   "source": [
    " "
   ]
  },
  {
   "cell_type": "markdown",
   "metadata": {},
   "source": [
    " "
   ]
  }
 ],
 "metadata": {
  "kernelspec": {
   "display_name": "Python [conda env:base] *",
   "language": "python",
   "name": "conda-base-py"
  },
  "language_info": {
   "codemirror_mode": {
    "name": "ipython",
    "version": 3
   },
   "file_extension": ".py",
   "mimetype": "text/x-python",
   "name": "python",
   "nbconvert_exporter": "python",
   "pygments_lexer": "ipython3",
   "version": "3.12.7"
  }
 },
 "nbformat": 4,
 "nbformat_minor": 4
}
