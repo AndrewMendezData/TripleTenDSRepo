{
 "cells": [
  {
   "cell_type": "markdown",
   "id": "8e27fdb7",
   "metadata": {},
   "source": [
    "# Instacart Insights on Customer Shopping Habits"
   ]
  },
  {
   "cell_type": "markdown",
   "id": "c6b02606-74a0-42e9-90cb-d40bfd9f3acb",
   "metadata": {},
   "source": [
    "<div style=\"border: 2px solid black; padding: 10px; margin: 10px\">\n",
    "\n",
    "Instacart has asked us to provide some insight into the shopping habits of its customers. We will explore the data within five different datasets to uncover some trends or similarities in behavior that could help inform future business decisions for Instacart to maximize on profitability and customer retention.<br>\n",
    "\n",
    "<b><u>Descriptions of Each Table:</b></u>\n",
    "<ul>\n",
    "    <li><b>Instacart Orders ('orders')</b><br>\n",
    "    Each row corresponds to one order on the Instacart app.</li>\n",
    "    <li><b>Products ('products')</b><br>\n",
    "    Each row corresponds to a unique product customers can buy.</li>\n",
    "    <li><b>Order Products ('order_products')</b><br>\n",
    "    Each row corresponds to one item placed in an order.</li>\n",
    "    <li><b>Aisles ('aisles')</b><br>\n",
    "    Contains information regarding grocery aisle categories for each item.</li>\n",
    "    <li><b>Departments</b><br>\n",
    "    Contains information regarding grocery department categories for each item.</li>\n",
    "</ul>\n",
    "\n",
    "</div>"
   ]
  },
  {
   "cell_type": "markdown",
   "id": "d1c28e75-f65d-494e-b48e-a3bbda01ee0b",
   "metadata": {},
   "source": [
    " "
   ]
  },
  {
   "cell_type": "markdown",
   "id": "cbb8596f-df66-41d1-9b6a-beb2058db566",
   "metadata": {},
   "source": [
    " "
   ]
  },
  {
   "cell_type": "markdown",
   "id": "e1e7250b-15f1-4b7b-a6a8-eb64840eeb35",
   "metadata": {},
   "source": [
    "## Initilization"
   ]
  },
  {
   "cell_type": "code",
   "execution_count": 6,
   "id": "fbf1adab",
   "metadata": {},
   "outputs": [],
   "source": [
    "import pandas as pd\n",
    "\n",
    "from matplotlib import pyplot as plt"
   ]
  },
  {
   "cell_type": "markdown",
   "id": "782c95b7-b5ef-4443-b34e-359da72ba421",
   "metadata": {},
   "source": [
    " "
   ]
  },
  {
   "cell_type": "markdown",
   "id": "6726c255-8380-47bf-ab0b-c2aa4f710b15",
   "metadata": {},
   "source": [
    " "
   ]
  },
  {
   "cell_type": "markdown",
   "id": "af498e4a-deb3-4d36-bccf-31239e667bb9",
   "metadata": {},
   "source": [
    "## Importing Data & Preview"
   ]
  },
  {
   "cell_type": "code",
   "execution_count": 10,
   "id": "e5c5200d",
   "metadata": {},
   "outputs": [],
   "source": [
    "# Each .csv file had a delimiter of ';', needed to include sep= parameter\n",
    "\n",
    "orders = pd.read_csv('instacart_orders.csv', sep=';')\n",
    "products = pd.read_csv('products.csv', sep=';')\n",
    "order_products = pd.read_csv('order_products.csv', sep=';')\n",
    "aisles = pd.read_csv('aisles.csv', sep=';')\n",
    "departments = pd.read_csv('departments.csv', sep=';')"
   ]
  },
  {
   "cell_type": "code",
   "execution_count": 11,
   "id": "6fc81694",
   "metadata": {},
   "outputs": [
    {
     "name": "stdout",
     "output_type": "stream",
     "text": [
      "Orders\n",
      "   order_id  user_id  order_number  order_dow  order_hour_of_day  \\\n",
      "0   1515936   183418            11          6                 13   \n",
      "1   1690866   163593             5          5                 12   \n",
      "2   1454967    39980             4          5                 19   \n",
      "3   1768857    82516            56          0                 20   \n",
      "4   3007858   196724             2          4                 12   \n",
      "\n",
      "   days_since_prior_order  \n",
      "0                    30.0  \n",
      "1                     9.0  \n",
      "2                     2.0  \n",
      "3                    10.0  \n",
      "4                    17.0  \n",
      "\n",
      "\n",
      "Products\n",
      "   product_id                                       product_name  aisle_id  \\\n",
      "0           1                         Chocolate Sandwich Cookies        61   \n",
      "1           2                                   All-Seasons Salt       104   \n",
      "2           3               Robust Golden Unsweetened Oolong Tea        94   \n",
      "3           4  Smart Ones Classic Favorites Mini Rigatoni Wit...        38   \n",
      "4           5                          Green Chile Anytime Sauce         5   \n",
      "\n",
      "   department_id  \n",
      "0             19  \n",
      "1             13  \n",
      "2              7  \n",
      "3              1  \n",
      "4             13  \n",
      "\n",
      "\n",
      "Order Products\n",
      "   order_id  product_id  add_to_cart_order  reordered\n",
      "0   2141543       11440               17.0          0\n",
      "1    567889        1560                1.0          1\n",
      "2   2261212       26683                1.0          1\n",
      "3    491251        8670               35.0          1\n",
      "4   2571142        1940                5.0          1\n",
      "\n",
      "\n",
      "Aisles\n",
      "   aisle_id                       aisle\n",
      "0         1       prepared soups salads\n",
      "1         2           specialty cheeses\n",
      "2         3         energy granola bars\n",
      "3         4               instant foods\n",
      "4         5  marinades meat preparation\n",
      "\n",
      "\n",
      "Departments\n",
      "   department_id department\n",
      "0              1     frozen\n",
      "1              2      other\n",
      "2              3     bakery\n",
      "3              4    produce\n",
      "4              5    alcohol\n"
     ]
    }
   ],
   "source": [
    "# Sample of data in each .csv file\n",
    "\n",
    "print(\"Orders\")\n",
    "print(orders.head())\n",
    "print()\n",
    "print()\n",
    "\n",
    "print(\"Products\")\n",
    "print(products.head())\n",
    "print()\n",
    "print()\n",
    "\n",
    "print(\"Order Products\")\n",
    "print(order_products.head())\n",
    "print()\n",
    "print()\n",
    "\n",
    "print(\"Aisles\")\n",
    "print(aisles.head())\n",
    "print()\n",
    "print()\n",
    "\n",
    "print(\"Departments\")\n",
    "print(departments.head())"
   ]
  },
  {
   "cell_type": "code",
   "execution_count": 12,
   "id": "f9b7ad2e",
   "metadata": {},
   "outputs": [
    {
     "name": "stdout",
     "output_type": "stream",
     "text": [
      "Orders\n",
      "<class 'pandas.core.frame.DataFrame'>\n",
      "RangeIndex: 478967 entries, 0 to 478966\n",
      "Data columns (total 6 columns):\n",
      " #   Column                  Non-Null Count   Dtype  \n",
      "---  ------                  --------------   -----  \n",
      " 0   order_id                478967 non-null  int64  \n",
      " 1   user_id                 478967 non-null  int64  \n",
      " 2   order_number            478967 non-null  int64  \n",
      " 3   order_dow               478967 non-null  int64  \n",
      " 4   order_hour_of_day       478967 non-null  int64  \n",
      " 5   days_since_prior_order  450148 non-null  float64\n",
      "dtypes: float64(1), int64(5)\n",
      "memory usage: 21.9 MB\n",
      "\n",
      "Products\n",
      "<class 'pandas.core.frame.DataFrame'>\n",
      "RangeIndex: 49694 entries, 0 to 49693\n",
      "Data columns (total 4 columns):\n",
      " #   Column         Non-Null Count  Dtype \n",
      "---  ------         --------------  ----- \n",
      " 0   product_id     49694 non-null  int64 \n",
      " 1   product_name   48436 non-null  object\n",
      " 2   aisle_id       49694 non-null  int64 \n",
      " 3   department_id  49694 non-null  int64 \n",
      "dtypes: int64(3), object(1)\n",
      "memory usage: 1.5+ MB\n",
      "\n",
      "Order Products\n",
      "<class 'pandas.core.frame.DataFrame'>\n",
      "RangeIndex: 4545007 entries, 0 to 4545006\n",
      "Data columns (total 4 columns):\n",
      " #   Column             Non-Null Count    Dtype  \n",
      "---  ------             --------------    -----  \n",
      " 0   order_id           4545007 non-null  int64  \n",
      " 1   product_id         4545007 non-null  int64  \n",
      " 2   add_to_cart_order  4544171 non-null  float64\n",
      " 3   reordered          4545007 non-null  int64  \n",
      "dtypes: float64(1), int64(3)\n",
      "memory usage: 138.7 MB\n",
      "\n",
      "Aisles\n",
      "<class 'pandas.core.frame.DataFrame'>\n",
      "RangeIndex: 134 entries, 0 to 133\n",
      "Data columns (total 2 columns):\n",
      " #   Column    Non-Null Count  Dtype \n",
      "---  ------    --------------  ----- \n",
      " 0   aisle_id  134 non-null    int64 \n",
      " 1   aisle     134 non-null    object\n",
      "dtypes: int64(1), object(1)\n",
      "memory usage: 2.2+ KB\n",
      "\n",
      "Departments\n",
      "<class 'pandas.core.frame.DataFrame'>\n",
      "RangeIndex: 21 entries, 0 to 20\n",
      "Data columns (total 2 columns):\n",
      " #   Column         Non-Null Count  Dtype \n",
      "---  ------         --------------  ----- \n",
      " 0   department_id  21 non-null     int64 \n",
      " 1   department     21 non-null     object\n",
      "dtypes: int64(1), object(1)\n",
      "memory usage: 468.0+ bytes\n",
      "\n"
     ]
    }
   ],
   "source": [
    "# Ran info() on each df for an overview\n",
    "\n",
    "print(\"Orders\")\n",
    "orders.info()\n",
    "print()\n",
    "\n",
    "print(\"Products\")\n",
    "products.info()\n",
    "print()\n",
    "\n",
    "# Order Products contains 4,545,007 entries and didn't include non-null values, included show_counts=True parameter\n",
    "print(\"Order Products\")\n",
    "order_products.info(show_counts=True)\n",
    "print()\n",
    "\n",
    "print(\"Aisles\")\n",
    "aisles.info()\n",
    "print()\n",
    "\n",
    "print(\"Departments\")\n",
    "departments.info()\n",
    "print()\n"
   ]
  },
  {
   "cell_type": "markdown",
   "id": "715e9944",
   "metadata": {},
   "source": [
    "<div style=\"border: 2px solid black; padding: 10px; margin: 10px\">\n",
    "\n",
    "All data types validated and coincide with their intended purpose according to data dictionary\n",
    "\n",
    "</div>"
   ]
  },
  {
   "cell_type": "markdown",
   "id": "27608865-016d-428d-b640-6259d514edf7",
   "metadata": {},
   "source": [
    " "
   ]
  },
  {
   "cell_type": "markdown",
   "id": "ff7180e4-0af8-4248-a7b9-cb974592ab08",
   "metadata": {},
   "source": [
    " "
   ]
  },
  {
   "cell_type": "markdown",
   "id": "07357848-dc64-4156-9cc3-01ff4365226d",
   "metadata": {},
   "source": [
    "## Duplicates"
   ]
  },
  {
   "cell_type": "markdown",
   "id": "f179f0a9",
   "metadata": {},
   "source": [
    "### Orders DF"
   ]
  },
  {
   "cell_type": "code",
   "execution_count": 18,
   "id": "b99297a5-405a-463d-8535-9adc3da4ad74",
   "metadata": {},
   "outputs": [
    {
     "name": "stdout",
     "output_type": "stream",
     "text": [
      "15\n"
     ]
    }
   ],
   "source": [
    "# Check for duplicated orders\n",
    "\n",
    "print(orders.duplicated().sum())"
   ]
  },
  {
   "cell_type": "code",
   "execution_count": 19,
   "id": "0d44de5d",
   "metadata": {},
   "outputs": [
    {
     "data": {
      "text/html": [
       "<div>\n",
       "<style scoped>\n",
       "    .dataframe tbody tr th:only-of-type {\n",
       "        vertical-align: middle;\n",
       "    }\n",
       "\n",
       "    .dataframe tbody tr th {\n",
       "        vertical-align: top;\n",
       "    }\n",
       "\n",
       "    .dataframe thead th {\n",
       "        text-align: right;\n",
       "    }\n",
       "</style>\n",
       "<table border=\"1\" class=\"dataframe\">\n",
       "  <thead>\n",
       "    <tr style=\"text-align: right;\">\n",
       "      <th></th>\n",
       "      <th>order_id</th>\n",
       "      <th>user_id</th>\n",
       "      <th>order_number</th>\n",
       "      <th>order_dow</th>\n",
       "      <th>order_hour_of_day</th>\n",
       "      <th>days_since_prior_order</th>\n",
       "    </tr>\n",
       "  </thead>\n",
       "  <tbody>\n",
       "    <tr>\n",
       "      <th>4838</th>\n",
       "      <td>2766110</td>\n",
       "      <td>162084</td>\n",
       "      <td>41</td>\n",
       "      <td>3</td>\n",
       "      <td>2</td>\n",
       "      <td>16.0</td>\n",
       "    </tr>\n",
       "    <tr>\n",
       "      <th>5156</th>\n",
       "      <td>2190225</td>\n",
       "      <td>138285</td>\n",
       "      <td>18</td>\n",
       "      <td>3</td>\n",
       "      <td>2</td>\n",
       "      <td>11.0</td>\n",
       "    </tr>\n",
       "    <tr>\n",
       "      <th>15506</th>\n",
       "      <td>553049</td>\n",
       "      <td>58599</td>\n",
       "      <td>13</td>\n",
       "      <td>3</td>\n",
       "      <td>2</td>\n",
       "      <td>7.0</td>\n",
       "    </tr>\n",
       "    <tr>\n",
       "      <th>18420</th>\n",
       "      <td>382357</td>\n",
       "      <td>120200</td>\n",
       "      <td>19</td>\n",
       "      <td>3</td>\n",
       "      <td>2</td>\n",
       "      <td>11.0</td>\n",
       "    </tr>\n",
       "    <tr>\n",
       "      <th>24691</th>\n",
       "      <td>690242</td>\n",
       "      <td>77357</td>\n",
       "      <td>2</td>\n",
       "      <td>3</td>\n",
       "      <td>2</td>\n",
       "      <td>9.0</td>\n",
       "    </tr>\n",
       "    <tr>\n",
       "      <th>...</th>\n",
       "      <td>...</td>\n",
       "      <td>...</td>\n",
       "      <td>...</td>\n",
       "      <td>...</td>\n",
       "      <td>...</td>\n",
       "      <td>...</td>\n",
       "    </tr>\n",
       "    <tr>\n",
       "      <th>457013</th>\n",
       "      <td>3384021</td>\n",
       "      <td>14881</td>\n",
       "      <td>6</td>\n",
       "      <td>3</td>\n",
       "      <td>2</td>\n",
       "      <td>30.0</td>\n",
       "    </tr>\n",
       "    <tr>\n",
       "      <th>458816</th>\n",
       "      <td>910166</td>\n",
       "      <td>164782</td>\n",
       "      <td>18</td>\n",
       "      <td>3</td>\n",
       "      <td>2</td>\n",
       "      <td>4.0</td>\n",
       "    </tr>\n",
       "    <tr>\n",
       "      <th>459635</th>\n",
       "      <td>1680532</td>\n",
       "      <td>106435</td>\n",
       "      <td>6</td>\n",
       "      <td>3</td>\n",
       "      <td>2</td>\n",
       "      <td>21.0</td>\n",
       "    </tr>\n",
       "    <tr>\n",
       "      <th>468324</th>\n",
       "      <td>222962</td>\n",
       "      <td>54979</td>\n",
       "      <td>59</td>\n",
       "      <td>3</td>\n",
       "      <td>2</td>\n",
       "      <td>3.0</td>\n",
       "    </tr>\n",
       "    <tr>\n",
       "      <th>477526</th>\n",
       "      <td>2592344</td>\n",
       "      <td>46860</td>\n",
       "      <td>38</td>\n",
       "      <td>3</td>\n",
       "      <td>2</td>\n",
       "      <td>3.0</td>\n",
       "    </tr>\n",
       "  </tbody>\n",
       "</table>\n",
       "<p>121 rows × 6 columns</p>\n",
       "</div>"
      ],
      "text/plain": [
       "        order_id  user_id  order_number  order_dow  order_hour_of_day  \\\n",
       "4838     2766110   162084            41          3                  2   \n",
       "5156     2190225   138285            18          3                  2   \n",
       "15506     553049    58599            13          3                  2   \n",
       "18420     382357   120200            19          3                  2   \n",
       "24691     690242    77357             2          3                  2   \n",
       "...          ...      ...           ...        ...                ...   \n",
       "457013   3384021    14881             6          3                  2   \n",
       "458816    910166   164782            18          3                  2   \n",
       "459635   1680532   106435             6          3                  2   \n",
       "468324    222962    54979            59          3                  2   \n",
       "477526   2592344    46860            38          3                  2   \n",
       "\n",
       "        days_since_prior_order  \n",
       "4838                      16.0  \n",
       "5156                      11.0  \n",
       "15506                      7.0  \n",
       "18420                     11.0  \n",
       "24691                      9.0  \n",
       "...                        ...  \n",
       "457013                    30.0  \n",
       "458816                     4.0  \n",
       "459635                    21.0  \n",
       "468324                     3.0  \n",
       "477526                     3.0  \n",
       "\n",
       "[121 rows x 6 columns]"
      ]
     },
     "execution_count": 19,
     "metadata": {},
     "output_type": "execute_result"
    }
   ],
   "source": [
    "# Check for all orders placed Wednesday at 2:00 AM\n",
    "\n",
    "orders[(orders['order_dow'] == 3) & (orders['order_hour_of_day'] == 2)]"
   ]
  },
  {
   "cell_type": "code",
   "execution_count": 20,
   "id": "480563c7",
   "metadata": {},
   "outputs": [],
   "source": [
    "# Remove duplicate orders\n",
    "\n",
    "orders.drop_duplicates(inplace=True)\n",
    "## Drop duplicate rows to ensure data is clean and analysis is accurate. \n",
    "## Used \"inplace=\" parameter for more efficient code."
   ]
  },
  {
   "cell_type": "code",
   "execution_count": 21,
   "id": "0b2396a2",
   "metadata": {},
   "outputs": [
    {
     "name": "stdout",
     "output_type": "stream",
     "text": [
      "0\n"
     ]
    }
   ],
   "source": [
    "# Double check for duplicate rows\n",
    "\n",
    "print(orders.duplicated().sum())"
   ]
  },
  {
   "cell_type": "code",
   "execution_count": 22,
   "id": "f6113ef1",
   "metadata": {},
   "outputs": [
    {
     "name": "stdout",
     "output_type": "stream",
     "text": [
      "0\n"
     ]
    }
   ],
   "source": [
    "# Double check for duplicate order IDs only\n",
    "\n",
    "print(orders['order_id'].duplicated().sum())"
   ]
  },
  {
   "cell_type": "markdown",
   "id": "241359cf-cbb2-47bf-b6ab-fbd611c30945",
   "metadata": {},
   "source": [
    " "
   ]
  },
  {
   "cell_type": "markdown",
   "id": "e284e931-d3a8-4362-9fbd-cd637d26ddbd",
   "metadata": {},
   "source": [
    " "
   ]
  },
  {
   "cell_type": "markdown",
   "id": "45e6bc46",
   "metadata": {},
   "source": [
    "### Products DF"
   ]
  },
  {
   "cell_type": "code",
   "execution_count": 26,
   "id": "5f526b5b-8175-46fa-a0fd-441767d50e64",
   "metadata": {},
   "outputs": [
    {
     "name": "stdout",
     "output_type": "stream",
     "text": [
      "0\n"
     ]
    }
   ],
   "source": [
    "# Check for fully duplicate rows\n",
    "\n",
    "print(products.duplicated().sum())"
   ]
  },
  {
   "cell_type": "code",
   "execution_count": 27,
   "id": "88daa4f4",
   "metadata": {},
   "outputs": [
    {
     "name": "stdout",
     "output_type": "stream",
     "text": [
      "0\n"
     ]
    }
   ],
   "source": [
    "# Check for just duplicate product IDs\n",
    "\n",
    "print(products['product_id'].duplicated().sum())"
   ]
  },
  {
   "cell_type": "code",
   "execution_count": 28,
   "id": "c773f0bf",
   "metadata": {},
   "outputs": [
    {
     "name": "stdout",
     "output_type": "stream",
     "text": [
      "Number of duplicated product names: 1361\n"
     ]
    }
   ],
   "source": [
    "# Check for just duplicate product names (convert names to lowercase to compare better)\n",
    "\n",
    "products['product_name'] = products['product_name'].str.lower()\n",
    "\n",
    "print(\"Number of duplicated product names:\", products['product_name'].duplicated().sum())"
   ]
  },
  {
   "cell_type": "code",
   "execution_count": 29,
   "id": "9667fcf5",
   "metadata": {},
   "outputs": [
    {
     "data": {
      "text/html": [
       "<div>\n",
       "<style scoped>\n",
       "    .dataframe tbody tr th:only-of-type {\n",
       "        vertical-align: middle;\n",
       "    }\n",
       "\n",
       "    .dataframe tbody tr th {\n",
       "        vertical-align: top;\n",
       "    }\n",
       "\n",
       "    .dataframe thead th {\n",
       "        text-align: right;\n",
       "    }\n",
       "</style>\n",
       "<table border=\"1\" class=\"dataframe\">\n",
       "  <thead>\n",
       "    <tr style=\"text-align: right;\">\n",
       "      <th></th>\n",
       "      <th>product_id</th>\n",
       "      <th>product_name</th>\n",
       "      <th>aisle_id</th>\n",
       "      <th>department_id</th>\n",
       "    </tr>\n",
       "  </thead>\n",
       "  <tbody>\n",
       "    <tr>\n",
       "      <th>2058</th>\n",
       "      <td>2059</td>\n",
       "      <td>biotin 1000 mcg</td>\n",
       "      <td>47</td>\n",
       "      <td>11</td>\n",
       "    </tr>\n",
       "    <tr>\n",
       "      <th>5455</th>\n",
       "      <td>5456</td>\n",
       "      <td>green tea with ginseng and honey</td>\n",
       "      <td>96</td>\n",
       "      <td>20</td>\n",
       "    </tr>\n",
       "    <tr>\n",
       "      <th>5558</th>\n",
       "      <td>5559</td>\n",
       "      <td>cream of mushroom soup</td>\n",
       "      <td>69</td>\n",
       "      <td>15</td>\n",
       "    </tr>\n",
       "    <tr>\n",
       "      <th>7558</th>\n",
       "      <td>7559</td>\n",
       "      <td>cinnamon rolls with icing</td>\n",
       "      <td>105</td>\n",
       "      <td>13</td>\n",
       "    </tr>\n",
       "    <tr>\n",
       "      <th>9037</th>\n",
       "      <td>9038</td>\n",
       "      <td>american cheese slices</td>\n",
       "      <td>21</td>\n",
       "      <td>16</td>\n",
       "    </tr>\n",
       "    <tr>\n",
       "      <th>...</th>\n",
       "      <td>...</td>\n",
       "      <td>...</td>\n",
       "      <td>...</td>\n",
       "      <td>...</td>\n",
       "    </tr>\n",
       "    <tr>\n",
       "      <th>49689</th>\n",
       "      <td>49690</td>\n",
       "      <td>high performance energy drink</td>\n",
       "      <td>64</td>\n",
       "      <td>7</td>\n",
       "    </tr>\n",
       "    <tr>\n",
       "      <th>49690</th>\n",
       "      <td>49691</td>\n",
       "      <td>original pancake &amp; waffle mix</td>\n",
       "      <td>130</td>\n",
       "      <td>14</td>\n",
       "    </tr>\n",
       "    <tr>\n",
       "      <th>49691</th>\n",
       "      <td>49692</td>\n",
       "      <td>organic instant oatmeal light maple brown sugar</td>\n",
       "      <td>130</td>\n",
       "      <td>14</td>\n",
       "    </tr>\n",
       "    <tr>\n",
       "      <th>49692</th>\n",
       "      <td>49693</td>\n",
       "      <td>spring water body wash</td>\n",
       "      <td>127</td>\n",
       "      <td>11</td>\n",
       "    </tr>\n",
       "    <tr>\n",
       "      <th>49693</th>\n",
       "      <td>49694</td>\n",
       "      <td>burrito- steak &amp; cheese</td>\n",
       "      <td>38</td>\n",
       "      <td>1</td>\n",
       "    </tr>\n",
       "  </tbody>\n",
       "</table>\n",
       "<p>104 rows × 4 columns</p>\n",
       "</div>"
      ],
      "text/plain": [
       "       product_id                                     product_name  aisle_id  \\\n",
       "2058         2059                                  biotin 1000 mcg        47   \n",
       "5455         5456                 green tea with ginseng and honey        96   \n",
       "5558         5559                           cream of mushroom soup        69   \n",
       "7558         7559                        cinnamon rolls with icing       105   \n",
       "9037         9038                           american cheese slices        21   \n",
       "...           ...                                              ...       ...   \n",
       "49689       49690                    high performance energy drink        64   \n",
       "49690       49691                    original pancake & waffle mix       130   \n",
       "49691       49692  organic instant oatmeal light maple brown sugar       130   \n",
       "49692       49693                           spring water body wash       127   \n",
       "49693       49694                          burrito- steak & cheese        38   \n",
       "\n",
       "       department_id  \n",
       "2058              11  \n",
       "5455              20  \n",
       "5558              15  \n",
       "7558              13  \n",
       "9037              16  \n",
       "...              ...  \n",
       "49689              7  \n",
       "49690             14  \n",
       "49691             14  \n",
       "49692             11  \n",
       "49693              1  \n",
       "\n",
       "[104 rows x 4 columns]"
      ]
     },
     "execution_count": 29,
     "metadata": {},
     "output_type": "execute_result"
    }
   ],
   "source": [
    "# Check for duplicate product names that aren't missing values.\n",
    "\n",
    "duplicated_products_df = products[products['product_name'].duplicated()]\n",
    "\n",
    "duplicated_products_df[~duplicated_products_df['product_name'].isna()]"
   ]
  },
  {
   "cell_type": "markdown",
   "id": "c2536060",
   "metadata": {},
   "source": [
    "<div style=\"border: 2px solid black; padding: 10px; margin: 10px\">\n",
    "\n",
    "There are 104 rows with duplicated product names that aren't missing values.\n",
    "\n",
    "</div>"
   ]
  },
  {
   "cell_type": "markdown",
   "id": "c2728fd4-07c8-41eb-adba-ca5190583471",
   "metadata": {},
   "source": [
    " "
   ]
  },
  {
   "cell_type": "markdown",
   "id": "72e80299-c453-4899-bd92-0dc414739f93",
   "metadata": {},
   "source": [
    " "
   ]
  },
  {
   "cell_type": "markdown",
   "id": "274cd06a",
   "metadata": {},
   "source": [
    "### `order_products` data frame"
   ]
  },
  {
   "cell_type": "code",
   "execution_count": 34,
   "id": "52326689-84a8-4b8f-a881-7c68780f62c9",
   "metadata": {},
   "outputs": [
    {
     "name": "stdout",
     "output_type": "stream",
     "text": [
      "0\n"
     ]
    }
   ],
   "source": [
    "# Check for fully duplicate rows\n",
    "\n",
    "print(order_products.duplicated().sum())"
   ]
  },
  {
   "cell_type": "code",
   "execution_count": 35,
   "id": "7b861391",
   "metadata": {},
   "outputs": [
    {
     "name": "stdout",
     "output_type": "stream",
     "text": [
      "0\n"
     ]
    }
   ],
   "source": [
    "# Double check for any other tricky duplicates\n",
    "\n",
    "print(order_products.duplicated(subset=['order_id', 'product_id']).sum())"
   ]
  },
  {
   "cell_type": "markdown",
   "id": "e163f3dc-6934-425e-94c1-370de2e71d87",
   "metadata": {},
   "source": [
    " "
   ]
  },
  {
   "cell_type": "markdown",
   "id": "4fea0e99-ee6e-479c-8550-44c3cd5d5ef8",
   "metadata": {},
   "source": [
    " "
   ]
  },
  {
   "cell_type": "markdown",
   "id": "1e46de76",
   "metadata": {},
   "source": [
    "## Find and remove missing values\n"
   ]
  },
  {
   "cell_type": "markdown",
   "id": "c0aebd78",
   "metadata": {},
   "source": [
    "### `products` data frame"
   ]
  },
  {
   "cell_type": "code",
   "execution_count": 40,
   "id": "b00866b4",
   "metadata": {},
   "outputs": [
    {
     "data": {
      "text/html": [
       "<div>\n",
       "<style scoped>\n",
       "    .dataframe tbody tr th:only-of-type {\n",
       "        vertical-align: middle;\n",
       "    }\n",
       "\n",
       "    .dataframe tbody tr th {\n",
       "        vertical-align: top;\n",
       "    }\n",
       "\n",
       "    .dataframe thead th {\n",
       "        text-align: right;\n",
       "    }\n",
       "</style>\n",
       "<table border=\"1\" class=\"dataframe\">\n",
       "  <thead>\n",
       "    <tr style=\"text-align: right;\">\n",
       "      <th></th>\n",
       "      <th>product_id</th>\n",
       "      <th>product_name</th>\n",
       "      <th>aisle_id</th>\n",
       "      <th>department_id</th>\n",
       "    </tr>\n",
       "  </thead>\n",
       "  <tbody>\n",
       "    <tr>\n",
       "      <th>71</th>\n",
       "      <td>72</td>\n",
       "      <td>NaN</td>\n",
       "      <td>100</td>\n",
       "      <td>21</td>\n",
       "    </tr>\n",
       "    <tr>\n",
       "      <th>109</th>\n",
       "      <td>110</td>\n",
       "      <td>NaN</td>\n",
       "      <td>100</td>\n",
       "      <td>21</td>\n",
       "    </tr>\n",
       "    <tr>\n",
       "      <th>296</th>\n",
       "      <td>297</td>\n",
       "      <td>NaN</td>\n",
       "      <td>100</td>\n",
       "      <td>21</td>\n",
       "    </tr>\n",
       "    <tr>\n",
       "      <th>416</th>\n",
       "      <td>417</td>\n",
       "      <td>NaN</td>\n",
       "      <td>100</td>\n",
       "      <td>21</td>\n",
       "    </tr>\n",
       "    <tr>\n",
       "      <th>436</th>\n",
       "      <td>437</td>\n",
       "      <td>NaN</td>\n",
       "      <td>100</td>\n",
       "      <td>21</td>\n",
       "    </tr>\n",
       "    <tr>\n",
       "      <th>...</th>\n",
       "      <td>...</td>\n",
       "      <td>...</td>\n",
       "      <td>...</td>\n",
       "      <td>...</td>\n",
       "    </tr>\n",
       "    <tr>\n",
       "      <th>49552</th>\n",
       "      <td>49553</td>\n",
       "      <td>NaN</td>\n",
       "      <td>100</td>\n",
       "      <td>21</td>\n",
       "    </tr>\n",
       "    <tr>\n",
       "      <th>49574</th>\n",
       "      <td>49575</td>\n",
       "      <td>NaN</td>\n",
       "      <td>100</td>\n",
       "      <td>21</td>\n",
       "    </tr>\n",
       "    <tr>\n",
       "      <th>49640</th>\n",
       "      <td>49641</td>\n",
       "      <td>NaN</td>\n",
       "      <td>100</td>\n",
       "      <td>21</td>\n",
       "    </tr>\n",
       "    <tr>\n",
       "      <th>49663</th>\n",
       "      <td>49664</td>\n",
       "      <td>NaN</td>\n",
       "      <td>100</td>\n",
       "      <td>21</td>\n",
       "    </tr>\n",
       "    <tr>\n",
       "      <th>49668</th>\n",
       "      <td>49669</td>\n",
       "      <td>NaN</td>\n",
       "      <td>100</td>\n",
       "      <td>21</td>\n",
       "    </tr>\n",
       "  </tbody>\n",
       "</table>\n",
       "<p>1257 rows × 4 columns</p>\n",
       "</div>"
      ],
      "text/plain": [
       "       product_id product_name  aisle_id  department_id\n",
       "71             72          NaN       100             21\n",
       "109           110          NaN       100             21\n",
       "296           297          NaN       100             21\n",
       "416           417          NaN       100             21\n",
       "436           437          NaN       100             21\n",
       "...           ...          ...       ...            ...\n",
       "49552       49553          NaN       100             21\n",
       "49574       49575          NaN       100             21\n",
       "49640       49641          NaN       100             21\n",
       "49663       49664          NaN       100             21\n",
       "49668       49669          NaN       100             21\n",
       "\n",
       "[1257 rows x 4 columns]"
      ]
     },
     "execution_count": 40,
     "metadata": {},
     "output_type": "execute_result"
    }
   ],
   "source": [
    "# Checking for duplicated products with missing values within product_names.\n",
    "\n",
    "duplicated_products_df[duplicated_products_df['product_name'].isna()]"
   ]
  },
  {
   "cell_type": "markdown",
   "id": "9cf4ed4a",
   "metadata": {},
   "source": [
    "<div style=\"border: 2px solid black; padding: 10px; margin: 10px\">\n",
    "\n",
    "There are 1,257 rows of duplicated products with missing values within product_names.\n",
    "\n",
    "</div>"
   ]
  },
  {
   "cell_type": "code",
   "execution_count": 42,
   "id": "e96167bc",
   "metadata": {},
   "outputs": [
    {
     "name": "stdout",
     "output_type": "stream",
     "text": [
      "aisle_id\n",
      "100    1257\n",
      "Name: count, dtype: int64\n"
     ]
    }
   ],
   "source": [
    "# Are all of the missing product names associated with aisle ID 100?\n",
    "\n",
    "missing_products = duplicated_products_df[duplicated_products_df['product_name'].isna()]\n",
    "\n",
    "print(missing_products['aisle_id'].value_counts())"
   ]
  },
  {
   "cell_type": "markdown",
   "id": "2524c7d6",
   "metadata": {},
   "source": [
    "<div style=\"border: 2px solid black; padding: 10px; margin: 10px\">\n",
    "\n",
    "Yes, all of the missing product names are associated with aisle ID 100.\n",
    "\n",
    "</div>"
   ]
  },
  {
   "cell_type": "code",
   "execution_count": 44,
   "id": "8fd0a541",
   "metadata": {},
   "outputs": [
    {
     "name": "stdout",
     "output_type": "stream",
     "text": [
      "department_id\n",
      "21    1257\n",
      "Name: count, dtype: int64\n"
     ]
    }
   ],
   "source": [
    "# Are all of the missing product names associated with department ID 21?\n",
    "\n",
    "print(missing_products['department_id'].value_counts())"
   ]
  },
  {
   "cell_type": "markdown",
   "id": "49f4aff2",
   "metadata": {},
   "source": [
    "<div style=\"border: 2px solid black; padding: 10px; margin: 10px\">\n",
    "\n",
    "Yes, all the missing product names are also associated with department ID 21.\n",
    "\n",
    "</div>"
   ]
  },
  {
   "cell_type": "code",
   "execution_count": 46,
   "id": "325c3464",
   "metadata": {},
   "outputs": [
    {
     "name": "stdout",
     "output_type": "stream",
     "text": [
      "aisle_id        100\n",
      "aisle       missing\n",
      "Name: 99, dtype: object\n",
      "\n",
      "department_id         21\n",
      "department       missing\n",
      "Name: 20, dtype: object\n"
     ]
    }
   ],
   "source": [
    "# What is this aisle and department?\n",
    "\n",
    "print(aisles.iloc[99])\n",
    "print()\n",
    "\n",
    "print(departments.iloc[20])"
   ]
  },
  {
   "cell_type": "markdown",
   "id": "5bfd29f3",
   "metadata": {},
   "source": [
    "<div style=\"border: 2px solid black; padding: 10px; margin: 10px\">\n",
    "\n",
    "Both Aisle 100 and Department 21 are missing from the dataset.\n",
    "\n",
    "</div>"
   ]
  },
  {
   "cell_type": "code",
   "execution_count": 48,
   "id": "6b295120",
   "metadata": {},
   "outputs": [],
   "source": [
    "# Fill missing product names with 'Unknown'\n",
    "\n",
    "products['product_name'] = products['product_name'].fillna(value='Unknown')"
   ]
  },
  {
   "cell_type": "markdown",
   "id": "ca558b11-dc11-46a3-8524-3b7605f672df",
   "metadata": {},
   "source": [
    " "
   ]
  },
  {
   "cell_type": "markdown",
   "id": "249f7f8b-8817-45a5-907f-96f261b67a81",
   "metadata": {},
   "source": [
    " "
   ]
  },
  {
   "cell_type": "markdown",
   "id": "7eb45c86",
   "metadata": {},
   "source": [
    "### `orders` data frame"
   ]
  },
  {
   "cell_type": "code",
   "execution_count": 52,
   "id": "166e5a86",
   "metadata": {
    "scrolled": true
   },
   "outputs": [
    {
     "data": {
      "text/plain": [
       "order_id                      0\n",
       "user_id                       0\n",
       "order_number                  0\n",
       "order_dow                     0\n",
       "order_hour_of_day             0\n",
       "days_since_prior_order    28817\n",
       "dtype: int64"
      ]
     },
     "execution_count": 52,
     "metadata": {},
     "output_type": "execute_result"
    }
   ],
   "source": [
    "# Are there any missing values where it's not a customer's first order?\n",
    "\n",
    "orders.isna().sum()"
   ]
  },
  {
   "cell_type": "markdown",
   "id": "0980e891",
   "metadata": {},
   "source": [
    "<div style=\"border: 2px solid black; padding: 10px; margin: 10px\">\n",
    "\n",
    "Yes, there are 28,817 missing values in \"days_since_prior_order\".\n",
    "\n",
    "</div>"
   ]
  },
  {
   "cell_type": "markdown",
   "id": "ef348d23-75ed-4e60-a91e-74681ccbdbc9",
   "metadata": {},
   "source": [
    " "
   ]
  },
  {
   "cell_type": "markdown",
   "id": "907e495f-8699-462e-800d-40a8bfbe6035",
   "metadata": {},
   "source": [
    " "
   ]
  },
  {
   "cell_type": "markdown",
   "id": "69dc9ca4",
   "metadata": {},
   "source": [
    "### `order_products` data frame"
   ]
  },
  {
   "cell_type": "code",
   "execution_count": 57,
   "id": "9a78e5ee",
   "metadata": {},
   "outputs": [
    {
     "name": "stdout",
     "output_type": "stream",
     "text": [
      "Add To Cart Min: 1.0\n",
      "\n",
      "Add To Cart Max: 64.0\n"
     ]
    }
   ],
   "source": [
    "# What are the min and max values in this column?\n",
    "\n",
    "print(\"Add To Cart Min:\", order_products['add_to_cart_order'].min())\n",
    "print()\n",
    "      \n",
    "print(\"Add To Cart Max:\", order_products['add_to_cart_order'].max())"
   ]
  },
  {
   "cell_type": "code",
   "execution_count": 58,
   "id": "056de364",
   "metadata": {},
   "outputs": [
    {
     "data": {
      "text/plain": [
       "order_id               0\n",
       "product_id             0\n",
       "add_to_cart_order    836\n",
       "reordered              0\n",
       "dtype: int64"
      ]
     },
     "execution_count": 58,
     "metadata": {},
     "output_type": "execute_result"
    }
   ],
   "source": [
    "order_products.isna().sum()"
   ]
  },
  {
   "cell_type": "code",
   "execution_count": 59,
   "id": "ab9d0c2b",
   "metadata": {},
   "outputs": [],
   "source": [
    "# Save all order IDs with at least one missing value in 'add_to_cart_order'\n",
    "\n",
    "add_to_cart_order = order_products['add_to_cart_order'].isna()\n",
    "add_to_cart_order = add_to_cart_order == True"
   ]
  },
  {
   "cell_type": "code",
   "execution_count": 60,
   "id": "54c31695",
   "metadata": {},
   "outputs": [],
   "source": [
    "# Do all orders with missing values have more than 64 products?"
   ]
  },
  {
   "cell_type": "markdown",
   "id": "fe0da274",
   "metadata": {},
   "source": [
    "<div style=\"border: 2px solid black; padding: 10px; margin: 10px\">\n",
    "\n",
    "No, the max value in \"add_to_cart_order\" is 64 for all values.\n",
    "\n",
    "</div>"
   ]
  },
  {
   "cell_type": "code",
   "execution_count": 62,
   "id": "7a987d08",
   "metadata": {},
   "outputs": [
    {
     "name": "stdout",
     "output_type": "stream",
     "text": [
      "<class 'pandas.core.frame.DataFrame'>\n",
      "RangeIndex: 4545007 entries, 0 to 4545006\n",
      "Data columns (total 4 columns):\n",
      " #   Column             Dtype\n",
      "---  ------             -----\n",
      " 0   order_id           int64\n",
      " 1   product_id         int64\n",
      " 2   add_to_cart_order  int64\n",
      " 3   reordered          int64\n",
      "dtypes: int64(4)\n",
      "memory usage: 138.7 MB\n"
     ]
    }
   ],
   "source": [
    "# Replace missing values with 999 and convert column to integer type\n",
    "\n",
    "order_products['add_to_cart_order'] = order_products['add_to_cart_order'].fillna(value=999)\n",
    "\n",
    "order_products['add_to_cart_order'] = order_products['add_to_cart_order'].astype(int)\n",
    "\n",
    "order_products.info()"
   ]
  },
  {
   "cell_type": "markdown",
   "id": "a18c5196-eaf3-434c-80bc-c553fc65c074",
   "metadata": {},
   "source": [
    " "
   ]
  },
  {
   "cell_type": "markdown",
   "id": "69b863db-9be4-448b-a80f-3dd09ea917f8",
   "metadata": {},
   "source": [
    " "
   ]
  },
  {
   "cell_type": "markdown",
   "id": "turkish-kidney",
   "metadata": {},
   "source": [
    "# [A] Level 1 Tasks"
   ]
  },
  {
   "cell_type": "markdown",
   "id": "short-capability",
   "metadata": {},
   "source": [
    "### [A1] Verify that the `'order_hour_of_day'` and `'order_dow'` values in the `orders` tables are sensible (i.e. `'order_hour_of_day'` ranges from 0 to 23 and `'order_dow'` ranges from 0 to 6)"
   ]
  },
  {
   "cell_type": "code",
   "execution_count": 67,
   "id": "growing-fruit",
   "metadata": {},
   "outputs": [
    {
     "name": "stdout",
     "output_type": "stream",
     "text": [
      "Order Hour of Day Range\n",
      "Min Value: 0 Max Value: 23\n",
      "\n",
      "Order Day of Week Range\n",
      "Min Value: 0 Max Value: 6\n"
     ]
    }
   ],
   "source": [
    "# Verifying order_hour_of_day and order_dow values are sensible.\n",
    "\n",
    "print(\"Order Hour of Day Range\")\n",
    "print(\"Min Value:\", orders['order_hour_of_day'].min(), \"Max Value:\", orders['order_hour_of_day'].max())\n",
    "print()\n",
    "\n",
    "print(\"Order Day of Week Range\")\n",
    "print(\"Min Value:\", orders['order_dow'].min(), \"Max Value:\", orders['order_dow'].max())"
   ]
  },
  {
   "cell_type": "markdown",
   "id": "547454fd",
   "metadata": {},
   "source": [
    "<div style=\"border: 2px solid black; padding: 10px; margin: 10px\">\n",
    "\n",
    "Both ranges are within normal limits for the data they are representing.\n",
    "\n",
    "</div>"
   ]
  },
  {
   "cell_type": "markdown",
   "id": "354640da-7866-464e-b166-bd04246deef4",
   "metadata": {},
   "source": [
    " "
   ]
  },
  {
   "cell_type": "markdown",
   "id": "3c96874f-d61c-4892-b6a9-65280ad5917b",
   "metadata": {},
   "source": [
    " "
   ]
  },
  {
   "cell_type": "markdown",
   "id": "a6743a70",
   "metadata": {},
   "source": [
    "### [A2] What time of day do people shop for groceries?"
   ]
  },
  {
   "cell_type": "code",
   "execution_count": 72,
   "id": "a36cca27",
   "metadata": {},
   "outputs": [
    {
     "data": {
      "image/png": "[encoded data removed]",
      "text/plain": [
       "<Figure size 640x480 with 1 Axes>"
      ]
     },
     "metadata": {},
     "output_type": "display_data"
    }
   ],
   "source": [
    "orders['order_hour_of_day'].plot(kind='hist', bins=10, title='Amount of Shoppers by Hour', edgecolor='black')\n",
    "\n",
    "plt.xlabel('Hour of Day')\n",
    "plt.ylabel('Amount of Shoppers')\n",
    "\n",
    "plt.show()"
   ]
  },
  {
   "cell_type": "markdown",
   "id": "2dd1b04e",
   "metadata": {},
   "source": [
    "<div style=\"border: 2px solid black; padding: 10px; margin: 10px\">\n",
    "\n",
    "Most shoppers shop around 3pm.\n",
    "\n",
    "</div>"
   ]
  },
  {
   "cell_type": "markdown",
   "id": "11270eed",
   "metadata": {},
   "source": [
    " "
   ]
  },
  {
   "cell_type": "markdown",
   "id": "9e19457e-6188-410b-8a71-e7239369ebb3",
   "metadata": {},
   "source": [
    " "
   ]
  },
  {
   "cell_type": "markdown",
   "id": "documented-command",
   "metadata": {},
   "source": [
    "### [A3] What day of the week do people shop for groceries?"
   ]
  },
  {
   "cell_type": "code",
   "execution_count": 77,
   "id": "chief-digit",
   "metadata": {},
   "outputs": [
    {
     "data": {
      "image/png": "[encoded data removed]",
      "text/plain": [
       "<Figure size 640x480 with 1 Axes>"
      ]
     },
     "metadata": {},
     "output_type": "display_data"
    }
   ],
   "source": [
    "orders['order_dow'].plot(kind='hist', title='Amount of Shoppers by Day of Week', edgecolor='black')\n",
    "\n",
    "plt.xlabel('Day of Week')\n",
    "plt.ylabel('Amount of Shoppers')\n",
    "\n",
    "plt.show()"
   ]
  },
  {
   "cell_type": "markdown",
   "id": "a37d0985",
   "metadata": {},
   "source": [
    "<div style=\"border: 2px solid black; padding: 10px; margin: 10px\">\n",
    "\n",
    "Most people shop for groceries on Sunday. This could be because it marks the beginning of the week for most people and they have a better idea of what they'll need for the rest of the week. They probably work as well Monday through Friday and so may not have time to go shopping during the week days.\n",
    "\n",
    "</div>"
   ]
  },
  {
   "cell_type": "markdown",
   "id": "dominant-lightning",
   "metadata": {},
   "source": [
    " "
   ]
  },
  {
   "cell_type": "markdown",
   "id": "97d77573-6c81-439b-bd98-3eb1e8a44e60",
   "metadata": {},
   "source": [
    " "
   ]
  },
  {
   "cell_type": "markdown",
   "id": "cutting-concert",
   "metadata": {},
   "source": [
    "### [A4] How long do people wait until placing another order?"
   ]
  },
  {
   "cell_type": "code",
   "execution_count": 82,
   "id": "c231f523",
   "metadata": {},
   "outputs": [
    {
     "data": {
      "image/png": "[encoded data removed]",
      "text/plain": [
       "<Figure size 640x480 with 1 Axes>"
      ]
     },
     "metadata": {},
     "output_type": "display_data"
    }
   ],
   "source": [
    "orders['days_since_prior_order'].plot(kind='hist', title='Days Since Prior Order', edgecolor='black')\n",
    "\n",
    "plt.xlabel('Days Between Orders')\n",
    "plt.ylabel('Amount of Shoppers')\n",
    "\n",
    "plt.show()"
   ]
  },
  {
   "cell_type": "markdown",
   "id": "0bef87f0",
   "metadata": {},
   "source": [
    "<div style=\"border: 2px solid black; padding: 10px; margin: 10px\">\n",
    "\n",
    "People typically wait between 6-9 days between orders. It also seems there are an equal amount of customers who shop every day, and who shop once every 30 days\n",
    "\n",
    "</div>"
   ]
  },
  {
   "cell_type": "markdown",
   "id": "discrete-vertex",
   "metadata": {},
   "source": [
    " "
   ]
  },
  {
   "cell_type": "markdown",
   "id": "ea53b030-89d2-4f5d-81b7-9485da623bd7",
   "metadata": {},
   "source": [
    " "
   ]
  },
  {
   "cell_type": "markdown",
   "id": "tight-staff",
   "metadata": {},
   "source": [
    "# [B] Level 2 Tasks"
   ]
  },
  {
   "cell_type": "markdown",
   "id": "packed-classic",
   "metadata": {},
   "source": [
    "### [B1] Is there a difference in `'order_hour_of_day'` distributions on Wednesdays and Saturdays? Plot the histograms for both days and describe the differences that you see."
   ]
  },
  {
   "cell_type": "code",
   "execution_count": 88,
   "id": "d89b8403",
   "metadata": {},
   "outputs": [
    {
     "data": {
      "image/png": "[encoded data removed]",
      "text/plain": [
       "<Figure size 640x480 with 1 Axes>"
      ]
     },
     "metadata": {},
     "output_type": "display_data"
    }
   ],
   "source": [
    "orders[orders['order_dow'] == 4]['order_hour_of_day'].plot(kind='hist')\n",
    "orders[orders['order_dow'] == 6]['order_hour_of_day'].plot(kind='hist', alpha=0.5)\n",
    "\n",
    "plt.xlabel('Time of Day')\n",
    "plt.ylabel('Amount of Shoppers')\n",
    "plt.title('Wednesday VS Saturday')\n",
    "\n",
    "plt.legend(['Wed', 'Sat'])\n",
    "plt.show()"
   ]
  },
  {
   "cell_type": "markdown",
   "id": "2f4ba0a2",
   "metadata": {},
   "source": [
    "<div style=\"border: 2px solid black; padding: 10px; margin: 10px\">\n",
    "\n",
    "The distributions are very similar except for around 12pm and 3pm where more shoppers are shopping on Saturday than Wednesday.\n",
    "\n",
    "</div>"
   ]
  },
  {
   "cell_type": "markdown",
   "id": "charitable-congo",
   "metadata": {},
   "source": [
    " "
   ]
  },
  {
   "cell_type": "markdown",
   "id": "15e02683-e4e7-4895-9a2d-071ce3827893",
   "metadata": {},
   "source": [
    " "
   ]
  },
  {
   "cell_type": "markdown",
   "id": "e3891143",
   "metadata": {},
   "source": [
    "### [B2] What's the distribution for the number of orders per customer?"
   ]
  },
  {
   "cell_type": "code",
   "execution_count": 93,
   "id": "d8c26c23",
   "metadata": {},
   "outputs": [
    {
     "data": {
      "image/png": "[encoded data removed]",
      "text/plain": [
       "<Figure size 640x480 with 1 Axes>"
      ]
     },
     "metadata": {},
     "output_type": "display_data"
    }
   ],
   "source": [
    "orders_per_cust = orders.groupby('user_id')['order_id'].nunique().values\n",
    "\n",
    "plt.hist(orders_per_cust, bins=30, edgecolor='black')\n",
    "plt.title('Orders per Customer')\n",
    "plt.xlabel('Number of Orders')\n",
    "plt.ylabel('Numbers of Customers')\n",
    "plt.grid(axis='y')\n",
    "\n",
    "plt.show()\n",
    "\n",
    "## The higher the amount of orders, the less amount of customers "
   ]
  },
  {
   "cell_type": "markdown",
   "id": "d2eff7d5",
   "metadata": {},
   "source": [
    " "
   ]
  },
  {
   "cell_type": "markdown",
   "id": "5c3ba53a-e13e-458f-b7a6-83409f146f4f",
   "metadata": {},
   "source": [
    " "
   ]
  },
  {
   "cell_type": "markdown",
   "id": "54a0319c",
   "metadata": {},
   "source": [
    "### [B3] What are the top 20 popular products (display their id and name)?"
   ]
  },
  {
   "cell_type": "code",
   "execution_count": 97,
   "id": "exterior-arizona",
   "metadata": {
    "scrolled": true
   },
   "outputs": [
    {
     "name": "stdout",
     "output_type": "stream",
     "text": [
      "    product_id  order_count              product_name\n",
      "0        24852        66050                    banana\n",
      "1        13176        53297    bag of organic bananas\n",
      "2        21137        37039      organic strawberries\n",
      "3        21903        33971      organic baby spinach\n",
      "4        47209        29773      organic hass avocado\n",
      "5        47766        24689           organic avocado\n",
      "6        47626        21495               large lemon\n",
      "7        16797        20018              strawberries\n",
      "8        26209        19690                     limes\n",
      "9        27845        19600        organic whole milk\n",
      "10       27966        19197       organic raspberries\n",
      "11       22935        15898      organic yellow onion\n",
      "12       24964        15292            organic garlic\n",
      "13       45007        14584          organic zucchini\n",
      "14       39275        13879       organic blueberries\n",
      "15       49683        13675            cucumber kirby\n",
      "16       28204        12544        organic fuji apple\n",
      "17        5876        12232             organic lemon\n",
      "18        8277        11993  apple honeycrisp organic\n",
      "19       40706        11781    organic grape tomatoes\n"
     ]
    }
   ],
   "source": [
    "top_20_prod = order_products['product_id'].value_counts().head(20).reset_index()\n",
    "top_20_prod.columns = ['product_id', 'order_count']\n",
    "\n",
    "top_20_prod = top_20_prod.merge(products[['product_id', 'product_name']], on='product_id', how='left')\n",
    "\n",
    "print(top_20_prod)\n"
   ]
  },
  {
   "cell_type": "markdown",
   "id": "7df00f47",
   "metadata": {},
   "source": [
    " "
   ]
  },
  {
   "cell_type": "markdown",
   "id": "8d63b716-90d4-4617-9472-be882208af5e",
   "metadata": {},
   "source": [
    " "
   ]
  },
  {
   "cell_type": "markdown",
   "id": "gross-theme",
   "metadata": {},
   "source": [
    "# [C] Level 3 Tasks"
   ]
  },
  {
   "cell_type": "markdown",
   "id": "romantic-deposit",
   "metadata": {},
   "source": [
    "### [C1] How many items do people typically buy in one order? What does the distribution look like?"
   ]
  },
  {
   "cell_type": "code",
   "execution_count": 102,
   "id": "virtual-punch",
   "metadata": {},
   "outputs": [
    {
     "data": {
      "image/png": "[encoded data removed]",
      "text/plain": [
       "<Figure size 800x500 with 1 Axes>"
      ]
     },
     "metadata": {},
     "output_type": "display_data"
    }
   ],
   "source": [
    "items_per_order = order_products.groupby('order_id').size()\n",
    "\n",
    "plt.figure(figsize=(8, 5))\n",
    "plt.hist(items_per_order, bins=range(1, items_per_order.max() + 2), color='blue', alpha=0.7)\n",
    "\n",
    "plt.title('Distribution of Items per Order')\n",
    "plt.xlabel('Number of Items in an Order')\n",
    "plt.ylabel('Number of Orders')\n",
    "plt.xticks(range(1, items_per_order.max() + 1, 5), rotation=50)\n",
    "plt.grid(axis='y', linestyle='--', alpha=0.6)\n",
    "\n",
    "plt.show()"
   ]
  },
  {
   "cell_type": "markdown",
   "id": "bb8a9f17-7a8a-43ab-8ee5-1959a8266182",
   "metadata": {},
   "source": [
    "  "
   ]
  },
  {
   "cell_type": "markdown",
   "id": "a5a1be6d-5a1f-410b-8392-02a7d66c8cd1",
   "metadata": {},
   "source": [
    "  "
   ]
  },
  {
   "cell_type": "markdown",
   "id": "5e6b5537",
   "metadata": {},
   "source": [
    "### [C2] What are the top 20 items that are reordered most frequently (display their names and product IDs)?"
   ]
  },
  {
   "cell_type": "code",
   "execution_count": 106,
   "id": "9374e55a",
   "metadata": {},
   "outputs": [
    {
     "name": "stdout",
     "output_type": "stream",
     "text": [
      "       product_id              product_name  count\n",
      "18104       24852                    banana  55763\n",
      "9528        13176    bag of organic bananas  44450\n",
      "15368       21137      organic strawberries  28639\n",
      "15936       21903      organic baby spinach  26233\n",
      "34407       47209      organic hass avocado  23629\n",
      "34828       47766           organic avocado  18743\n",
      "20285       27845        organic whole milk  16251\n",
      "34725       47626               large lemon  15044\n",
      "20375       27966       organic raspberries  14748\n",
      "12193       16797              strawberries  13945\n",
      "19088       26209                     limes  13327\n",
      "16700       22935      organic yellow onion  11145\n",
      "18186       24964            organic garlic  10411\n",
      "32792       45007          organic zucchini  10076\n",
      "36219       49683            cucumber kirby   9538\n",
      "20543       28204        organic fuji apple   8989\n",
      "5978         8277  apple honeycrisp organic   8836\n",
      "28607       39275       organic blueberries   8799\n",
      "4267         5876             organic lemon   8412\n",
      "35905       49235       organic half & half   8389\n"
     ]
    }
   ],
   "source": [
    "reordered_items = order_products[order_products['reordered'] == 1]\n",
    "reordered_items_merged = reordered_items.merge(products, on='product_id')\n",
    "\n",
    "top_20_reordered = reordered_items_merged.groupby(['product_id', 'product_name']).size().reset_index(name='count')\n",
    "top_20_reordered = top_20_reordered.sort_values(by='count', ascending=False).head(20)\n",
    "\n",
    "print(top_20_reordered)"
   ]
  },
  {
   "cell_type": "markdown",
   "id": "1eb6e4a8-184a-49bd-b133-78fbd6cf2b97",
   "metadata": {},
   "source": [
    "  "
   ]
  },
  {
   "cell_type": "markdown",
   "id": "ce733dd1-7dc6-4bab-a7fa-5a57cf54b582",
   "metadata": {},
   "source": [
    "  "
   ]
  },
  {
   "cell_type": "markdown",
   "id": "c88fa86a",
   "metadata": {},
   "source": [
    "# Conclusions\n",
    "There were a few insights I took from this analysis. Most customers order towards the beginning of the week on Sunday and the most popular items are all from produce, some organic as well. Marketing and coupons/promotions can be targeted towards produce and on certain times of the week to help create more use of the app and generate more revenue. \n",
    "\n",
    "There could also be some further investigation into a \"frequent flyer\" incentive to help increase the amount of orders per customer seeing as most customers only order 1-5 orders. Some more research could be done into this realm to figure out how to improve customer satisfaction with the service to increase usage."
   ]
  }
 ],
 "metadata": {
  "ExecuteTimeLog": [
   {
    "duration": 163,
    "start_time": "2025-02-17T21:22:17.382Z"
   },
   {
    "duration": 278,
    "start_time": "2025-02-17T21:22:46.212Z"
   },
   {
    "duration": 529,
    "start_time": "2025-02-17T21:22:46.493Z"
   },
   {
    "duration": 0,
    "start_time": "2025-02-17T21:22:47.025Z"
   },
   {
    "duration": 0,
    "start_time": "2025-02-17T21:22:47.026Z"
   },
   {
    "duration": 0,
    "start_time": "2025-02-17T21:22:47.028Z"
   },
   {
    "duration": 0,
    "start_time": "2025-02-17T21:22:47.030Z"
   },
   {
    "duration": 0,
    "start_time": "2025-02-17T21:22:47.031Z"
   },
   {
    "duration": 0,
    "start_time": "2025-02-17T21:22:47.031Z"
   },
   {
    "duration": 0,
    "start_time": "2025-02-17T21:22:47.042Z"
   },
   {
    "duration": 0,
    "start_time": "2025-02-17T21:22:47.043Z"
   },
   {
    "duration": 1,
    "start_time": "2025-02-17T21:22:47.044Z"
   },
   {
    "duration": 0,
    "start_time": "2025-02-17T21:22:47.046Z"
   },
   {
    "duration": 0,
    "start_time": "2025-02-17T21:22:47.047Z"
   },
   {
    "duration": 0,
    "start_time": "2025-02-17T21:22:47.048Z"
   },
   {
    "duration": 0,
    "start_time": "2025-02-17T21:22:47.049Z"
   },
   {
    "duration": 0,
    "start_time": "2025-02-17T21:22:47.051Z"
   },
   {
    "duration": 0,
    "start_time": "2025-02-17T21:22:47.051Z"
   },
   {
    "duration": 0,
    "start_time": "2025-02-17T21:22:47.054Z"
   },
   {
    "duration": 0,
    "start_time": "2025-02-17T21:22:47.055Z"
   },
   {
    "duration": 0,
    "start_time": "2025-02-17T21:22:47.056Z"
   },
   {
    "duration": 0,
    "start_time": "2025-02-17T21:22:47.056Z"
   },
   {
    "duration": 0,
    "start_time": "2025-02-17T21:22:47.058Z"
   },
   {
    "duration": 0,
    "start_time": "2025-02-17T21:22:47.059Z"
   },
   {
    "duration": 0,
    "start_time": "2025-02-17T21:22:47.060Z"
   },
   {
    "duration": 0,
    "start_time": "2025-02-17T21:22:47.061Z"
   },
   {
    "duration": 0,
    "start_time": "2025-02-17T21:22:47.062Z"
   },
   {
    "duration": 0,
    "start_time": "2025-02-17T21:22:47.063Z"
   },
   {
    "duration": 271,
    "start_time": "2025-02-17T21:23:16.599Z"
   },
   {
    "duration": 326,
    "start_time": "2025-02-17T21:23:52.343Z"
   },
   {
    "duration": 229,
    "start_time": "2025-02-17T21:23:52.672Z"
   },
   {
    "duration": 51,
    "start_time": "2025-02-17T21:23:52.903Z"
   },
   {
    "duration": 1814,
    "start_time": "2025-02-17T21:23:52.958Z"
   },
   {
    "duration": 8,
    "start_time": "2025-02-17T21:23:54.774Z"
   },
   {
    "duration": 5,
    "start_time": "2025-02-17T21:23:54.784Z"
   },
   {
    "duration": 6,
    "start_time": "2025-02-17T21:23:54.791Z"
   },
   {
    "duration": 2,
    "start_time": "2025-02-17T21:23:54.799Z"
   },
   {
    "duration": 3,
    "start_time": "2025-02-17T21:23:54.803Z"
   },
   {
    "duration": 2,
    "start_time": "2025-02-17T21:23:54.811Z"
   },
   {
    "duration": 2,
    "start_time": "2025-02-17T21:23:54.844Z"
   },
   {
    "duration": 3,
    "start_time": "2025-02-17T21:23:54.848Z"
   },
   {
    "duration": 3,
    "start_time": "2025-02-17T21:23:54.853Z"
   },
   {
    "duration": 3,
    "start_time": "2025-02-17T21:23:54.858Z"
   },
   {
    "duration": 2,
    "start_time": "2025-02-17T21:23:54.863Z"
   },
   {
    "duration": 4,
    "start_time": "2025-02-17T21:23:54.866Z"
   },
   {
    "duration": 3,
    "start_time": "2025-02-17T21:23:54.871Z"
   },
   {
    "duration": 3,
    "start_time": "2025-02-17T21:23:54.876Z"
   },
   {
    "duration": 3,
    "start_time": "2025-02-17T21:23:54.881Z"
   },
   {
    "duration": 3,
    "start_time": "2025-02-17T21:23:54.885Z"
   },
   {
    "duration": 2,
    "start_time": "2025-02-17T21:23:54.890Z"
   },
   {
    "duration": 3,
    "start_time": "2025-02-17T21:23:54.894Z"
   },
   {
    "duration": 2,
    "start_time": "2025-02-17T21:23:54.943Z"
   },
   {
    "duration": 3,
    "start_time": "2025-02-17T21:23:54.946Z"
   },
   {
    "duration": 3,
    "start_time": "2025-02-17T21:23:54.951Z"
   },
   {
    "duration": 4,
    "start_time": "2025-02-17T21:23:54.956Z"
   },
   {
    "duration": 2,
    "start_time": "2025-02-17T21:23:54.962Z"
   },
   {
    "duration": 126,
    "start_time": "2025-02-17T21:25:05.827Z"
   },
   {
    "duration": 114,
    "start_time": "2025-02-17T21:27:56.005Z"
   },
   {
    "duration": 5,
    "start_time": "2025-02-17T21:28:03.608Z"
   },
   {
    "duration": 175,
    "start_time": "2025-02-17T21:29:38.217Z"
   },
   {
    "duration": 5,
    "start_time": "2025-02-17T21:29:46.694Z"
   },
   {
    "duration": 32,
    "start_time": "2025-02-17T21:29:58.419Z"
   },
   {
    "duration": 4,
    "start_time": "2025-02-17T21:30:01.547Z"
   },
   {
    "duration": 4,
    "start_time": "2025-02-17T21:30:52.231Z"
   },
   {
    "duration": 757,
    "start_time": "2025-02-17T21:31:08.951Z"
   },
   {
    "duration": 4,
    "start_time": "2025-02-17T21:31:11.904Z"
   },
   {
    "duration": 4,
    "start_time": "2025-02-17T21:32:14.777Z"
   },
   {
    "duration": 8,
    "start_time": "2025-02-17T21:32:30.476Z"
   },
   {
    "duration": 5,
    "start_time": "2025-02-17T21:32:33.497Z"
   },
   {
    "duration": 4,
    "start_time": "2025-02-17T21:32:53.144Z"
   },
   {
    "duration": 6,
    "start_time": "2025-02-17T21:33:03.631Z"
   },
   {
    "duration": 5,
    "start_time": "2025-02-17T21:33:05.258Z"
   },
   {
    "duration": 10,
    "start_time": "2025-02-17T21:34:54.190Z"
   },
   {
    "duration": 10,
    "start_time": "2025-02-17T21:35:20.124Z"
   },
   {
    "duration": 10,
    "start_time": "2025-02-17T21:39:17.720Z"
   },
   {
    "duration": 834,
    "start_time": "2025-02-17T21:43:15.076Z"
   },
   {
    "duration": 10,
    "start_time": "2025-02-17T21:43:17.592Z"
   },
   {
    "duration": 841,
    "start_time": "2025-02-17T21:44:52.636Z"
   },
   {
    "duration": 10,
    "start_time": "2025-02-17T21:44:54.517Z"
   },
   {
    "duration": 9,
    "start_time": "2025-02-17T21:47:44.995Z"
   },
   {
    "duration": 28,
    "start_time": "2025-02-17T21:48:59.465Z"
   },
   {
    "duration": 12,
    "start_time": "2025-02-17T21:49:31.449Z"
   },
   {
    "duration": 26,
    "start_time": "2025-02-17T21:49:41.733Z"
   },
   {
    "duration": 42,
    "start_time": "2025-02-17T21:51:57.085Z"
   },
   {
    "duration": 12,
    "start_time": "2025-02-17T22:03:50.118Z"
   },
   {
    "duration": 68,
    "start_time": "2025-02-17T22:03:55.932Z"
   },
   {
    "duration": 24,
    "start_time": "2025-02-17T22:04:49.150Z"
   },
   {
    "duration": 64,
    "start_time": "2025-02-17T22:06:34.351Z"
   },
   {
    "duration": 11,
    "start_time": "2025-02-17T22:07:38.251Z"
   },
   {
    "duration": 3,
    "start_time": "2025-02-17T22:07:50.272Z"
   },
   {
    "duration": 8,
    "start_time": "2025-02-17T22:11:07.538Z"
   },
   {
    "duration": 5,
    "start_time": "2025-02-17T22:11:17.905Z"
   },
   {
    "duration": 9,
    "start_time": "2025-02-17T22:11:34.506Z"
   },
   {
    "duration": 6,
    "start_time": "2025-02-17T22:13:17.690Z"
   },
   {
    "duration": 81,
    "start_time": "2025-02-17T22:15:16.993Z"
   },
   {
    "duration": 11,
    "start_time": "2025-02-17T22:15:44.091Z"
   },
   {
    "duration": 14,
    "start_time": "2025-02-17T22:15:59.452Z"
   },
   {
    "duration": 68,
    "start_time": "2025-02-17T22:16:10.098Z"
   },
   {
    "duration": 65,
    "start_time": "2025-02-17T22:16:16.080Z"
   },
   {
    "duration": 78,
    "start_time": "2025-02-17T22:16:37.617Z"
   },
   {
    "duration": 85,
    "start_time": "2025-02-17T22:17:38.136Z"
   },
   {
    "duration": 83,
    "start_time": "2025-02-17T22:17:49.584Z"
   },
   {
    "duration": 69,
    "start_time": "2025-02-17T22:17:55.593Z"
   },
   {
    "duration": 9,
    "start_time": "2025-02-17T22:18:34.769Z"
   },
   {
    "duration": 10,
    "start_time": "2025-02-17T22:18:41.768Z"
   },
   {
    "duration": 23,
    "start_time": "2025-02-17T22:18:55.309Z"
   },
   {
    "duration": 14,
    "start_time": "2025-02-17T22:20:46.970Z"
   },
   {
    "duration": 5,
    "start_time": "2025-02-17T22:21:10.197Z"
   },
   {
    "duration": 4,
    "start_time": "2025-02-17T22:21:16.055Z"
   },
   {
    "duration": 17,
    "start_time": "2025-02-17T22:25:33.632Z"
   },
   {
    "duration": 10,
    "start_time": "2025-02-17T22:25:41.973Z"
   },
   {
    "duration": 18,
    "start_time": "2025-02-17T22:25:49.484Z"
   },
   {
    "duration": 5,
    "start_time": "2025-02-17T22:28:49.266Z"
   },
   {
    "duration": 678,
    "start_time": "2025-02-17T22:28:54.065Z"
   },
   {
    "duration": 17,
    "start_time": "2025-02-17T22:36:42.432Z"
   },
   {
    "duration": 5,
    "start_time": "2025-02-17T22:37:04.094Z"
   },
   {
    "duration": 5,
    "start_time": "2025-02-17T22:37:11.536Z"
   },
   {
    "duration": 5,
    "start_time": "2025-02-17T22:37:21.625Z"
   },
   {
    "duration": 4,
    "start_time": "2025-02-17T22:37:41.918Z"
   },
   {
    "duration": 3,
    "start_time": "2025-02-17T22:37:48.636Z"
   },
   {
    "duration": 5,
    "start_time": "2025-02-17T22:37:58.372Z"
   },
   {
    "duration": 5,
    "start_time": "2025-02-17T22:39:44.298Z"
   },
   {
    "duration": 5,
    "start_time": "2025-02-17T22:40:07.734Z"
   },
   {
    "duration": 5,
    "start_time": "2025-02-17T22:40:21.877Z"
   },
   {
    "duration": 18,
    "start_time": "2025-02-17T22:41:34.759Z"
   },
   {
    "duration": 6,
    "start_time": "2025-02-17T22:44:49.794Z"
   },
   {
    "duration": 19,
    "start_time": "2025-02-17T22:45:22.539Z"
   },
   {
    "duration": 5,
    "start_time": "2025-02-17T22:45:58.199Z"
   },
   {
    "duration": 5,
    "start_time": "2025-02-17T22:46:12.453Z"
   },
   {
    "duration": 5,
    "start_time": "2025-02-17T22:48:26.389Z"
   },
   {
    "duration": 4,
    "start_time": "2025-02-17T22:49:03.837Z"
   },
   {
    "duration": 12,
    "start_time": "2025-02-17T22:50:34.681Z"
   },
   {
    "duration": 14,
    "start_time": "2025-02-17T22:53:01.238Z"
   },
   {
    "duration": 12,
    "start_time": "2025-02-17T22:53:15.720Z"
   },
   {
    "duration": 7,
    "start_time": "2025-02-17T22:53:36.570Z"
   },
   {
    "duration": 3,
    "start_time": "2025-02-17T22:54:03.955Z"
   },
   {
    "duration": 286,
    "start_time": "2025-02-17T22:54:45.316Z"
   },
   {
    "duration": 4,
    "start_time": "2025-02-17T22:54:55.987Z"
   },
   {
    "duration": 5,
    "start_time": "2025-02-17T22:55:35.003Z"
   },
   {
    "duration": 6,
    "start_time": "2025-02-17T22:56:02.365Z"
   },
   {
    "duration": 19,
    "start_time": "2025-02-17T22:57:13.527Z"
   },
   {
    "duration": 19,
    "start_time": "2025-02-17T22:57:22.123Z"
   },
   {
    "duration": 9,
    "start_time": "2025-02-17T22:59:15.953Z"
   },
   {
    "duration": 11,
    "start_time": "2025-02-17T23:00:05.678Z"
   },
   {
    "duration": 10,
    "start_time": "2025-02-17T23:00:12.967Z"
   },
   {
    "duration": 5,
    "start_time": "2025-02-17T23:00:52.374Z"
   },
   {
    "duration": 9,
    "start_time": "2025-02-17T23:01:08.786Z"
   },
   {
    "duration": 9,
    "start_time": "2025-02-17T23:02:19.137Z"
   },
   {
    "duration": 5,
    "start_time": "2025-02-17T23:02:34.084Z"
   },
   {
    "duration": 140,
    "start_time": "2025-02-17T23:03:08.948Z"
   },
   {
    "duration": 27,
    "start_time": "2025-02-17T23:03:41.174Z"
   },
   {
    "duration": 27,
    "start_time": "2025-02-17T23:04:47.617Z"
   },
   {
    "duration": 15,
    "start_time": "2025-02-17T23:06:59.255Z"
   },
   {
    "duration": 13,
    "start_time": "2025-02-17T23:07:25.017Z"
   },
   {
    "duration": 27,
    "start_time": "2025-02-17T23:08:55.828Z"
   },
   {
    "duration": 28,
    "start_time": "2025-02-17T23:09:07.577Z"
   },
   {
    "duration": 2,
    "start_time": "2025-02-17T23:10:13.664Z"
   },
   {
    "duration": 4,
    "start_time": "2025-02-17T23:10:50.929Z"
   },
   {
    "duration": 26,
    "start_time": "2025-02-17T23:11:26.588Z"
   },
   {
    "duration": 13,
    "start_time": "2025-02-17T23:17:42.743Z"
   },
   {
    "duration": 12,
    "start_time": "2025-02-17T23:17:52.093Z"
   },
   {
    "duration": 272,
    "start_time": "2025-02-17T23:18:16.218Z"
   },
   {
    "duration": 132,
    "start_time": "2025-02-17T23:18:31.543Z"
   },
   {
    "duration": 11,
    "start_time": "2025-02-17T23:18:35.500Z"
   },
   {
    "duration": 2,
    "start_time": "2025-02-17T23:20:51.712Z"
   },
   {
    "duration": 6,
    "start_time": "2025-02-17T23:24:11.619Z"
   },
   {
    "duration": 37,
    "start_time": "2025-02-17T23:24:40.469Z"
   },
   {
    "duration": 29,
    "start_time": "2025-02-17T23:25:47.920Z"
   },
   {
    "duration": 110,
    "start_time": "2025-02-17T23:27:34.936Z"
   },
   {
    "duration": 42,
    "start_time": "2025-02-17T23:27:41.422Z"
   },
   {
    "duration": 15,
    "start_time": "2025-02-17T23:28:03.324Z"
   },
   {
    "duration": 2,
    "start_time": "2025-02-17T23:28:04.425Z"
   },
   {
    "duration": 31,
    "start_time": "2025-02-17T23:28:25.618Z"
   },
   {
    "duration": 7,
    "start_time": "2025-02-17T23:28:38.068Z"
   },
   {
    "duration": 60,
    "start_time": "2025-02-17T23:28:50.579Z"
   },
   {
    "duration": 16,
    "start_time": "2025-02-17T23:30:43.687Z"
   },
   {
    "duration": 185,
    "start_time": "2025-02-17T23:30:48.826Z"
   },
   {
    "duration": 7,
    "start_time": "2025-02-17T23:31:24.344Z"
   },
   {
    "duration": 8,
    "start_time": "2025-02-17T23:31:48.066Z"
   },
   {
    "duration": 4,
    "start_time": "2025-02-17T23:33:26.853Z"
   },
   {
    "duration": 4,
    "start_time": "2025-02-17T23:35:46.217Z"
   },
   {
    "duration": 5,
    "start_time": "2025-02-17T23:36:27.912Z"
   },
   {
    "duration": 6,
    "start_time": "2025-02-17T23:39:23.459Z"
   },
   {
    "duration": 5,
    "start_time": "2025-02-17T23:42:05.216Z"
   },
   {
    "duration": 5,
    "start_time": "2025-02-17T23:42:11.594Z"
   },
   {
    "duration": 24,
    "start_time": "2025-02-17T23:44:01.170Z"
   },
   {
    "duration": 22,
    "start_time": "2025-02-17T23:44:49.470Z"
   },
   {
    "duration": 30,
    "start_time": "2025-02-17T23:45:35.170Z"
   },
   {
    "duration": 2,
    "start_time": "2025-02-17T23:46:18.237Z"
   },
   {
    "duration": 167,
    "start_time": "2025-02-18T00:00:17.161Z"
   },
   {
    "duration": 145,
    "start_time": "2025-02-18T00:00:43.671Z"
   },
   {
    "duration": 4,
    "start_time": "2025-02-18T00:03:19.084Z"
   },
   {
    "duration": 4,
    "start_time": "2025-02-18T00:03:36.058Z"
   },
   {
    "duration": 6,
    "start_time": "2025-02-18T00:04:27.745Z"
   },
   {
    "duration": 569,
    "start_time": "2025-02-18T00:04:51.642Z"
   },
   {
    "duration": 7,
    "start_time": "2025-02-18T00:09:39.487Z"
   },
   {
    "duration": 10,
    "start_time": "2025-02-18T00:11:37.108Z"
   },
   {
    "duration": 8,
    "start_time": "2025-02-18T00:11:49.018Z"
   },
   {
    "duration": 10,
    "start_time": "2025-02-18T00:12:29.734Z"
   },
   {
    "duration": 5,
    "start_time": "2025-02-18T00:13:03.809Z"
   },
   {
    "duration": 4,
    "start_time": "2025-02-18T00:13:09.607Z"
   },
   {
    "duration": 5,
    "start_time": "2025-02-18T00:13:47.657Z"
   },
   {
    "duration": 315,
    "start_time": "2025-02-18T16:57:25.852Z"
   },
   {
    "duration": 1105,
    "start_time": "2025-02-18T16:57:26.170Z"
   },
   {
    "duration": 15,
    "start_time": "2025-02-18T16:57:27.277Z"
   },
   {
    "duration": 49,
    "start_time": "2025-02-18T16:57:27.295Z"
   },
   {
    "duration": 2,
    "start_time": "2025-02-18T16:57:27.346Z"
   },
   {
    "duration": 121,
    "start_time": "2025-02-18T16:57:27.350Z"
   },
   {
    "duration": 16,
    "start_time": "2025-02-18T16:57:27.473Z"
   },
   {
    "duration": 101,
    "start_time": "2025-02-18T16:57:27.491Z"
   },
   {
    "duration": 87,
    "start_time": "2025-02-18T16:57:27.593Z"
   },
   {
    "duration": 27,
    "start_time": "2025-02-18T16:57:27.690Z"
   },
   {
    "duration": 11,
    "start_time": "2025-02-18T16:57:27.719Z"
   },
   {
    "duration": 3,
    "start_time": "2025-02-18T16:57:27.732Z"
   },
   {
    "duration": 17,
    "start_time": "2025-02-18T16:57:27.737Z"
   },
   {
    "duration": 35,
    "start_time": "2025-02-18T16:57:27.756Z"
   },
   {
    "duration": 788,
    "start_time": "2025-02-18T16:57:27.793Z"
   },
   {
    "duration": 715,
    "start_time": "2025-02-18T16:57:28.587Z"
   },
   {
    "duration": 5,
    "start_time": "2025-02-18T16:57:29.304Z"
   },
   {
    "duration": 3,
    "start_time": "2025-02-18T16:57:29.311Z"
   },
   {
    "duration": 2,
    "start_time": "2025-02-18T16:57:29.317Z"
   },
   {
    "duration": 3,
    "start_time": "2025-02-18T16:57:29.321Z"
   },
   {
    "duration": 2,
    "start_time": "2025-02-18T16:57:29.326Z"
   },
   {
    "duration": 8,
    "start_time": "2025-02-18T16:57:29.330Z"
   },
   {
    "duration": 5,
    "start_time": "2025-02-18T16:57:29.340Z"
   },
   {
    "duration": 43,
    "start_time": "2025-02-18T16:57:29.346Z"
   },
   {
    "duration": 2,
    "start_time": "2025-02-18T16:57:29.391Z"
   },
   {
    "duration": 32,
    "start_time": "2025-02-18T16:57:29.395Z"
   },
   {
    "duration": 4,
    "start_time": "2025-02-18T16:57:29.429Z"
   },
   {
    "duration": 352,
    "start_time": "2025-02-18T16:57:29.436Z"
   },
   {
    "duration": 0,
    "start_time": "2025-02-18T16:57:29.791Z"
   },
   {
    "duration": 6,
    "start_time": "2025-02-18T17:05:57.870Z"
   },
   {
    "duration": 19,
    "start_time": "2025-02-18T17:06:33.201Z"
   },
   {
    "duration": 20,
    "start_time": "2025-02-18T17:07:11.619Z"
   },
   {
    "duration": 19,
    "start_time": "2025-02-18T17:07:16.383Z"
   },
   {
    "duration": 5,
    "start_time": "2025-02-18T17:08:48.303Z"
   },
   {
    "duration": 5,
    "start_time": "2025-02-18T17:09:03.075Z"
   },
   {
    "duration": 5,
    "start_time": "2025-02-18T17:09:10.933Z"
   },
   {
    "duration": 9,
    "start_time": "2025-02-18T17:09:17.958Z"
   },
   {
    "duration": 270,
    "start_time": "2025-02-18T17:09:34.157Z"
   },
   {
    "duration": 877,
    "start_time": "2025-02-18T17:09:34.429Z"
   },
   {
    "duration": 10,
    "start_time": "2025-02-18T17:09:35.310Z"
   },
   {
    "duration": 44,
    "start_time": "2025-02-18T17:09:35.323Z"
   },
   {
    "duration": 2,
    "start_time": "2025-02-18T17:09:35.370Z"
   },
   {
    "duration": 85,
    "start_time": "2025-02-18T17:09:35.386Z"
   },
   {
    "duration": 16,
    "start_time": "2025-02-18T17:09:35.473Z"
   },
   {
    "duration": 99,
    "start_time": "2025-02-18T17:09:35.491Z"
   },
   {
    "duration": 85,
    "start_time": "2025-02-18T17:09:35.592Z"
   },
   {
    "duration": 33,
    "start_time": "2025-02-18T17:09:35.680Z"
   },
   {
    "duration": 12,
    "start_time": "2025-02-18T17:09:35.714Z"
   },
   {
    "duration": 3,
    "start_time": "2025-02-18T17:09:35.728Z"
   },
   {
    "duration": 18,
    "start_time": "2025-02-18T17:09:35.732Z"
   },
   {
    "duration": 35,
    "start_time": "2025-02-18T17:09:35.752Z"
   },
   {
    "duration": 776,
    "start_time": "2025-02-18T17:09:35.788Z"
   },
   {
    "duration": 680,
    "start_time": "2025-02-18T17:09:36.566Z"
   },
   {
    "duration": 5,
    "start_time": "2025-02-18T17:09:37.248Z"
   },
   {
    "duration": 5,
    "start_time": "2025-02-18T17:09:37.255Z"
   },
   {
    "duration": 3,
    "start_time": "2025-02-18T17:09:37.261Z"
   },
   {
    "duration": 24,
    "start_time": "2025-02-18T17:09:37.265Z"
   },
   {
    "duration": 2,
    "start_time": "2025-02-18T17:09:37.291Z"
   },
   {
    "duration": 8,
    "start_time": "2025-02-18T17:09:37.295Z"
   },
   {
    "duration": 4,
    "start_time": "2025-02-18T17:09:37.305Z"
   },
   {
    "duration": 4,
    "start_time": "2025-02-18T17:09:37.311Z"
   },
   {
    "duration": 3,
    "start_time": "2025-02-18T17:09:37.316Z"
   },
   {
    "duration": 31,
    "start_time": "2025-02-18T17:09:37.320Z"
   },
   {
    "duration": 3,
    "start_time": "2025-02-18T17:09:37.387Z"
   },
   {
    "duration": 317,
    "start_time": "2025-02-18T17:09:37.393Z"
   },
   {
    "duration": 0,
    "start_time": "2025-02-18T17:09:37.712Z"
   },
   {
    "duration": 6,
    "start_time": "2025-02-18T17:14:06.097Z"
   },
   {
    "duration": 7,
    "start_time": "2025-02-18T17:17:49.677Z"
   },
   {
    "duration": 2,
    "start_time": "2025-02-18T17:20:43.466Z"
   },
   {
    "duration": 5,
    "start_time": "2025-02-18T17:43:16.479Z"
   },
   {
    "duration": 75,
    "start_time": "2025-02-18T17:43:24.854Z"
   },
   {
    "duration": 34,
    "start_time": "2025-02-18T17:44:41.346Z"
   },
   {
    "duration": 2,
    "start_time": "2025-02-18T17:46:49.960Z"
   },
   {
    "duration": 2,
    "start_time": "2025-02-18T17:48:59.707Z"
   },
   {
    "duration": 3,
    "start_time": "2025-02-18T17:49:01.386Z"
   },
   {
    "duration": 27,
    "start_time": "2025-02-18T17:49:26.233Z"
   },
   {
    "duration": 28,
    "start_time": "2025-02-18T17:49:54.500Z"
   },
   {
    "duration": 4,
    "start_time": "2025-02-18T17:50:23.702Z"
   },
   {
    "duration": 4,
    "start_time": "2025-02-18T17:50:38.921Z"
   },
   {
    "duration": 3,
    "start_time": "2025-02-18T17:50:59.117Z"
   },
   {
    "duration": 5,
    "start_time": "2025-02-18T17:51:10.086Z"
   },
   {
    "duration": 27,
    "start_time": "2025-02-18T17:51:11.479Z"
   },
   {
    "duration": 14,
    "start_time": "2025-02-18T17:53:06.145Z"
   },
   {
    "duration": 13,
    "start_time": "2025-02-18T17:53:40.250Z"
   },
   {
    "duration": 13,
    "start_time": "2025-02-18T17:54:04.246Z"
   },
   {
    "duration": 11,
    "start_time": "2025-02-18T17:57:01.920Z"
   },
   {
    "duration": 5,
    "start_time": "2025-02-18T17:57:19.080Z"
   },
   {
    "duration": 14,
    "start_time": "2025-02-18T17:58:30.201Z"
   },
   {
    "duration": 14,
    "start_time": "2025-02-18T17:59:37.720Z"
   },
   {
    "duration": 13,
    "start_time": "2025-02-18T18:00:02.140Z"
   },
   {
    "duration": 4,
    "start_time": "2025-02-18T18:00:07.291Z"
   },
   {
    "duration": 7,
    "start_time": "2025-02-18T18:00:58.925Z"
   },
   {
    "duration": 6,
    "start_time": "2025-02-18T18:02:16.926Z"
   },
   {
    "duration": 12,
    "start_time": "2025-02-18T18:02:32.672Z"
   },
   {
    "duration": 13,
    "start_time": "2025-02-18T18:02:36.679Z"
   },
   {
    "duration": 22,
    "start_time": "2025-02-18T18:02:49.154Z"
   },
   {
    "duration": 6,
    "start_time": "2025-02-18T18:03:53.408Z"
   },
   {
    "duration": 6,
    "start_time": "2025-02-18T18:05:06.682Z"
   },
   {
    "duration": 12,
    "start_time": "2025-02-18T18:06:33.882Z"
   },
   {
    "duration": 10,
    "start_time": "2025-02-18T18:06:38.113Z"
   },
   {
    "duration": 2568,
    "start_time": "2025-02-18T18:09:59.558Z"
   },
   {
    "duration": 349,
    "start_time": "2025-02-18T18:13:34.702Z"
   },
   {
    "duration": 1054,
    "start_time": "2025-02-18T18:13:35.054Z"
   },
   {
    "duration": 13,
    "start_time": "2025-02-18T18:13:36.110Z"
   },
   {
    "duration": 47,
    "start_time": "2025-02-18T18:13:36.125Z"
   },
   {
    "duration": 2,
    "start_time": "2025-02-18T18:13:36.174Z"
   },
   {
    "duration": 102,
    "start_time": "2025-02-18T18:13:36.186Z"
   },
   {
    "duration": 8,
    "start_time": "2025-02-18T18:13:36.289Z"
   },
   {
    "duration": 114,
    "start_time": "2025-02-18T18:13:36.299Z"
   },
   {
    "duration": 96,
    "start_time": "2025-02-18T18:13:36.415Z"
   },
   {
    "duration": 29,
    "start_time": "2025-02-18T18:13:36.514Z"
   },
   {
    "duration": 13,
    "start_time": "2025-02-18T18:13:36.545Z"
   },
   {
    "duration": 27,
    "start_time": "2025-02-18T18:13:36.559Z"
   },
   {
    "duration": 20,
    "start_time": "2025-02-18T18:13:36.588Z"
   },
   {
    "duration": 5,
    "start_time": "2025-02-18T18:13:36.610Z"
   },
   {
    "duration": 833,
    "start_time": "2025-02-18T18:13:36.616Z"
   },
   {
    "duration": 718,
    "start_time": "2025-02-18T18:13:37.450Z"
   },
   {
    "duration": 5,
    "start_time": "2025-02-18T18:13:38.170Z"
   },
   {
    "duration": 10,
    "start_time": "2025-02-18T18:13:38.187Z"
   },
   {
    "duration": 6,
    "start_time": "2025-02-18T18:13:38.199Z"
   },
   {
    "duration": 7,
    "start_time": "2025-02-18T18:13:38.207Z"
   },
   {
    "duration": 6,
    "start_time": "2025-02-18T18:13:38.216Z"
   },
   {
    "duration": 6,
    "start_time": "2025-02-18T18:13:38.224Z"
   },
   {
    "duration": 0,
    "start_time": "2025-02-18T18:13:38.233Z"
   },
   {
    "duration": 0,
    "start_time": "2025-02-18T18:13:38.234Z"
   },
   {
    "duration": 0,
    "start_time": "2025-02-18T18:13:38.235Z"
   },
   {
    "duration": 0,
    "start_time": "2025-02-18T18:13:38.237Z"
   },
   {
    "duration": 0,
    "start_time": "2025-02-18T18:13:38.238Z"
   },
   {
    "duration": 0,
    "start_time": "2025-02-18T18:13:38.239Z"
   },
   {
    "duration": 0,
    "start_time": "2025-02-18T18:13:38.241Z"
   },
   {
    "duration": 0,
    "start_time": "2025-02-18T18:13:38.242Z"
   },
   {
    "duration": 0,
    "start_time": "2025-02-18T18:13:38.244Z"
   },
   {
    "duration": 0,
    "start_time": "2025-02-18T18:13:38.245Z"
   },
   {
    "duration": 290,
    "start_time": "2025-02-18T18:14:28.641Z"
   },
   {
    "duration": 900,
    "start_time": "2025-02-18T18:14:28.933Z"
   },
   {
    "duration": 11,
    "start_time": "2025-02-18T18:14:29.835Z"
   },
   {
    "duration": 55,
    "start_time": "2025-02-18T18:14:29.848Z"
   },
   {
    "duration": 2,
    "start_time": "2025-02-18T18:14:29.905Z"
   },
   {
    "duration": 92,
    "start_time": "2025-02-18T18:14:29.909Z"
   },
   {
    "duration": 8,
    "start_time": "2025-02-18T18:14:30.003Z"
   },
   {
    "duration": 103,
    "start_time": "2025-02-18T18:14:30.013Z"
   },
   {
    "duration": 88,
    "start_time": "2025-02-18T18:14:30.119Z"
   },
   {
    "duration": 28,
    "start_time": "2025-02-18T18:14:30.210Z"
   },
   {
    "duration": 12,
    "start_time": "2025-02-18T18:14:30.240Z"
   },
   {
    "duration": 3,
    "start_time": "2025-02-18T18:14:30.254Z"
   },
   {
    "duration": 38,
    "start_time": "2025-02-18T18:14:30.259Z"
   },
   {
    "duration": 5,
    "start_time": "2025-02-18T18:14:30.299Z"
   },
   {
    "duration": 795,
    "start_time": "2025-02-18T18:14:30.306Z"
   },
   {
    "duration": 863,
    "start_time": "2025-02-18T18:14:31.103Z"
   },
   {
    "duration": 6,
    "start_time": "2025-02-18T18:14:31.968Z"
   },
   {
    "duration": 9,
    "start_time": "2025-02-18T18:14:31.986Z"
   },
   {
    "duration": 7,
    "start_time": "2025-02-18T18:14:31.996Z"
   },
   {
    "duration": 10,
    "start_time": "2025-02-18T18:14:32.005Z"
   },
   {
    "duration": 7,
    "start_time": "2025-02-18T18:14:32.017Z"
   },
   {
    "duration": 5,
    "start_time": "2025-02-18T18:14:32.025Z"
   },
   {
    "duration": 2,
    "start_time": "2025-02-18T18:14:32.032Z"
   },
   {
    "duration": 67,
    "start_time": "2025-02-18T18:14:32.036Z"
   },
   {
    "duration": 4,
    "start_time": "2025-02-18T18:14:32.104Z"
   },
   {
    "duration": 32,
    "start_time": "2025-02-18T18:14:32.110Z"
   },
   {
    "duration": 2,
    "start_time": "2025-02-18T18:14:32.144Z"
   },
   {
    "duration": 7,
    "start_time": "2025-02-18T18:14:32.151Z"
   },
   {
    "duration": 398,
    "start_time": "2025-02-18T18:14:32.159Z"
   },
   {
    "duration": 0,
    "start_time": "2025-02-18T18:14:32.558Z"
   },
   {
    "duration": 0,
    "start_time": "2025-02-18T18:14:32.560Z"
   },
   {
    "duration": 651,
    "start_time": "2025-02-18T18:17:15.031Z"
   },
   {
    "duration": 283,
    "start_time": "2025-02-18T18:17:44.570Z"
   },
   {
    "duration": 1029,
    "start_time": "2025-02-18T18:17:44.855Z"
   },
   {
    "duration": 12,
    "start_time": "2025-02-18T18:17:45.886Z"
   },
   {
    "duration": 45,
    "start_time": "2025-02-18T18:17:45.901Z"
   },
   {
    "duration": 2,
    "start_time": "2025-02-18T18:17:45.948Z"
   },
   {
    "duration": 119,
    "start_time": "2025-02-18T18:17:45.951Z"
   },
   {
    "duration": 15,
    "start_time": "2025-02-18T18:17:46.072Z"
   },
   {
    "duration": 98,
    "start_time": "2025-02-18T18:17:46.089Z"
   },
   {
    "duration": 84,
    "start_time": "2025-02-18T18:17:46.188Z"
   },
   {
    "duration": 37,
    "start_time": "2025-02-18T18:17:46.275Z"
   },
   {
    "duration": 12,
    "start_time": "2025-02-18T18:17:46.314Z"
   },
   {
    "duration": 3,
    "start_time": "2025-02-18T18:17:46.327Z"
   },
   {
    "duration": 18,
    "start_time": "2025-02-18T18:17:46.332Z"
   },
   {
    "duration": 35,
    "start_time": "2025-02-18T18:17:46.352Z"
   },
   {
    "duration": 772,
    "start_time": "2025-02-18T18:17:46.388Z"
   },
   {
    "duration": 670,
    "start_time": "2025-02-18T18:17:47.163Z"
   },
   {
    "duration": 6,
    "start_time": "2025-02-18T18:17:47.835Z"
   },
   {
    "duration": 9,
    "start_time": "2025-02-18T18:17:47.842Z"
   },
   {
    "duration": 10,
    "start_time": "2025-02-18T18:17:47.853Z"
   },
   {
    "duration": 24,
    "start_time": "2025-02-18T18:17:47.865Z"
   },
   {
    "duration": 5,
    "start_time": "2025-02-18T18:17:47.891Z"
   },
   {
    "duration": 5,
    "start_time": "2025-02-18T18:17:47.897Z"
   },
   {
    "duration": 2,
    "start_time": "2025-02-18T18:17:47.904Z"
   },
   {
    "duration": 31,
    "start_time": "2025-02-18T18:17:47.907Z"
   },
   {
    "duration": 3,
    "start_time": "2025-02-18T18:17:47.940Z"
   },
   {
    "duration": 49,
    "start_time": "2025-02-18T18:17:47.944Z"
   },
   {
    "duration": 2,
    "start_time": "2025-02-18T18:17:47.995Z"
   },
   {
    "duration": 5,
    "start_time": "2025-02-18T18:17:48.001Z"
   },
   {
    "duration": 306,
    "start_time": "2025-02-18T18:17:48.007Z"
   },
   {
    "duration": 6,
    "start_time": "2025-02-18T18:17:48.315Z"
   },
   {
    "duration": 8,
    "start_time": "2025-02-18T18:17:48.323Z"
   },
   {
    "duration": 145,
    "start_time": "2025-02-18T18:21:08.736Z"
   },
   {
    "duration": 136,
    "start_time": "2025-02-18T18:21:20.504Z"
   },
   {
    "duration": 121,
    "start_time": "2025-02-18T18:21:23.823Z"
   },
   {
    "duration": 136,
    "start_time": "2025-02-18T18:23:53.168Z"
   },
   {
    "duration": 172,
    "start_time": "2025-02-18T19:52:10.192Z"
   },
   {
    "duration": 348,
    "start_time": "2025-02-18T19:52:20.028Z"
   },
   {
    "duration": 1097,
    "start_time": "2025-02-18T19:52:20.378Z"
   },
   {
    "duration": 12,
    "start_time": "2025-02-18T19:52:21.477Z"
   },
   {
    "duration": 50,
    "start_time": "2025-02-18T19:52:21.490Z"
   },
   {
    "duration": 3,
    "start_time": "2025-02-18T19:52:21.544Z"
   },
   {
    "duration": 106,
    "start_time": "2025-02-18T19:52:21.549Z"
   },
   {
    "duration": 8,
    "start_time": "2025-02-18T19:52:21.657Z"
   },
   {
    "duration": 111,
    "start_time": "2025-02-18T19:52:21.666Z"
   },
   {
    "duration": 90,
    "start_time": "2025-02-18T19:52:21.779Z"
   },
   {
    "duration": 36,
    "start_time": "2025-02-18T19:52:21.871Z"
   },
   {
    "duration": 12,
    "start_time": "2025-02-18T19:52:21.909Z"
   },
   {
    "duration": 5,
    "start_time": "2025-02-18T19:52:21.923Z"
   },
   {
    "duration": 25,
    "start_time": "2025-02-18T19:52:21.930Z"
   },
   {
    "duration": 7,
    "start_time": "2025-02-18T19:52:21.958Z"
   },
   {
    "duration": 885,
    "start_time": "2025-02-18T19:52:21.967Z"
   },
   {
    "duration": 751,
    "start_time": "2025-02-18T19:52:22.854Z"
   },
   {
    "duration": 5,
    "start_time": "2025-02-18T19:52:23.607Z"
   },
   {
    "duration": 7,
    "start_time": "2025-02-18T19:52:23.614Z"
   },
   {
    "duration": 5,
    "start_time": "2025-02-18T19:52:23.623Z"
   },
   {
    "duration": 7,
    "start_time": "2025-02-18T19:52:23.630Z"
   },
   {
    "duration": 7,
    "start_time": "2025-02-18T19:52:23.638Z"
   },
   {
    "duration": 6,
    "start_time": "2025-02-18T19:52:23.648Z"
   },
   {
    "duration": 73,
    "start_time": "2025-02-18T19:52:23.656Z"
   },
   {
    "duration": 4,
    "start_time": "2025-02-18T19:52:23.731Z"
   },
   {
    "duration": 19,
    "start_time": "2025-02-18T19:52:23.737Z"
   },
   {
    "duration": 2,
    "start_time": "2025-02-18T19:52:23.758Z"
   },
   {
    "duration": 6,
    "start_time": "2025-02-18T19:52:23.762Z"
   },
   {
    "duration": 2138,
    "start_time": "2025-02-18T19:52:23.769Z"
   },
   {
    "duration": 6,
    "start_time": "2025-02-18T19:52:25.910Z"
   },
   {
    "duration": 9,
    "start_time": "2025-02-18T19:52:25.917Z"
   },
   {
    "duration": 328,
    "start_time": "2025-02-18T19:52:25.928Z"
   },
   {
    "duration": 37,
    "start_time": "2025-02-18T19:52:43.359Z"
   },
   {
    "duration": 165,
    "start_time": "2025-02-18T19:56:03.010Z"
   },
   {
    "duration": 179,
    "start_time": "2025-02-18T19:56:15.599Z"
   },
   {
    "duration": 12,
    "start_time": "2025-02-18T20:03:24.042Z"
   },
   {
    "duration": 19,
    "start_time": "2025-02-18T20:03:38.125Z"
   },
   {
    "duration": 2,
    "start_time": "2025-02-18T20:04:43.931Z"
   },
   {
    "duration": 888,
    "start_time": "2025-02-18T20:04:43.936Z"
   },
   {
    "duration": 9,
    "start_time": "2025-02-18T20:04:44.828Z"
   },
   {
    "duration": 44,
    "start_time": "2025-02-18T20:04:44.839Z"
   },
   {
    "duration": 3,
    "start_time": "2025-02-18T20:04:44.885Z"
   },
   {
    "duration": 74,
    "start_time": "2025-02-18T20:04:44.906Z"
   },
   {
    "duration": 8,
    "start_time": "2025-02-18T20:04:44.981Z"
   },
   {
    "duration": 97,
    "start_time": "2025-02-18T20:04:44.990Z"
   },
   {
    "duration": 116,
    "start_time": "2025-02-18T20:04:45.092Z"
   },
   {
    "duration": 29,
    "start_time": "2025-02-18T20:04:45.210Z"
   },
   {
    "duration": 11,
    "start_time": "2025-02-18T20:04:45.243Z"
   },
   {
    "duration": 4,
    "start_time": "2025-02-18T20:04:45.256Z"
   },
   {
    "duration": 14,
    "start_time": "2025-02-18T20:04:59.123Z"
   },
   {
    "duration": 35,
    "start_time": "2025-02-18T20:05:37.976Z"
   },
   {
    "duration": 15,
    "start_time": "2025-02-18T20:05:45.531Z"
   },
   {
    "duration": 13,
    "start_time": "2025-02-18T20:11:42.680Z"
   },
   {
    "duration": 16,
    "start_time": "2025-02-18T20:12:12.023Z"
   },
   {
    "duration": 16,
    "start_time": "2025-02-18T20:12:15.973Z"
   },
   {
    "duration": 13,
    "start_time": "2025-02-18T20:12:20.214Z"
   },
   {
    "duration": 13,
    "start_time": "2025-02-18T20:12:28.606Z"
   },
   {
    "duration": 9,
    "start_time": "2025-02-18T20:15:30.706Z"
   },
   {
    "duration": 5,
    "start_time": "2025-02-18T20:15:59.610Z"
   },
   {
    "duration": 7,
    "start_time": "2025-02-18T20:16:03.803Z"
   },
   {
    "duration": 3,
    "start_time": "2025-02-18T20:17:39.016Z"
   },
   {
    "duration": 858,
    "start_time": "2025-02-18T20:17:39.021Z"
   },
   {
    "duration": 10,
    "start_time": "2025-02-18T20:17:39.880Z"
   },
   {
    "duration": 52,
    "start_time": "2025-02-18T20:17:39.892Z"
   },
   {
    "duration": 2,
    "start_time": "2025-02-18T20:17:39.947Z"
   },
   {
    "duration": 87,
    "start_time": "2025-02-18T20:17:39.951Z"
   },
   {
    "duration": 7,
    "start_time": "2025-02-18T20:17:40.040Z"
   },
   {
    "duration": 91,
    "start_time": "2025-02-18T20:17:40.049Z"
   },
   {
    "duration": 77,
    "start_time": "2025-02-18T20:17:40.142Z"
   },
   {
    "duration": 24,
    "start_time": "2025-02-18T20:17:40.221Z"
   },
   {
    "duration": 12,
    "start_time": "2025-02-18T20:17:40.247Z"
   },
   {
    "duration": 3,
    "start_time": "2025-02-18T20:17:40.261Z"
   },
   {
    "duration": 42,
    "start_time": "2025-02-18T20:17:40.266Z"
   },
   {
    "duration": 5,
    "start_time": "2025-02-18T20:17:40.311Z"
   },
   {
    "duration": 17,
    "start_time": "2025-02-18T20:17:40.318Z"
   },
   {
    "duration": 10,
    "start_time": "2025-02-18T20:17:40.337Z"
   },
   {
    "duration": 830,
    "start_time": "2025-02-18T20:17:40.349Z"
   },
   {
    "duration": 720,
    "start_time": "2025-02-18T20:17:41.181Z"
   },
   {
    "duration": 5,
    "start_time": "2025-02-18T20:17:41.905Z"
   },
   {
    "duration": 6,
    "start_time": "2025-02-18T20:17:41.912Z"
   },
   {
    "duration": 5,
    "start_time": "2025-02-18T20:17:41.920Z"
   },
   {
    "duration": 6,
    "start_time": "2025-02-18T20:17:41.927Z"
   },
   {
    "duration": 5,
    "start_time": "2025-02-18T20:17:41.935Z"
   },
   {
    "duration": 7,
    "start_time": "2025-02-18T20:17:46.098Z"
   },
   {
    "duration": 12,
    "start_time": "2025-02-18T20:18:06.908Z"
   },
   {
    "duration": 12,
    "start_time": "2025-02-18T20:19:03.838Z"
   },
   {
    "duration": 11,
    "start_time": "2025-02-18T20:20:05.549Z"
   },
   {
    "duration": 4,
    "start_time": "2025-02-18T20:20:21.633Z"
   },
   {
    "duration": 3,
    "start_time": "2025-02-18T20:23:15.432Z"
   },
   {
    "duration": 817,
    "start_time": "2025-02-18T20:23:15.436Z"
   },
   {
    "duration": 10,
    "start_time": "2025-02-18T20:23:16.255Z"
   },
   {
    "duration": 53,
    "start_time": "2025-02-18T20:23:16.267Z"
   },
   {
    "duration": 2,
    "start_time": "2025-02-18T20:23:16.323Z"
   },
   {
    "duration": 68,
    "start_time": "2025-02-18T20:23:16.326Z"
   },
   {
    "duration": 7,
    "start_time": "2025-02-18T20:23:16.406Z"
   },
   {
    "duration": 77,
    "start_time": "2025-02-18T20:23:16.414Z"
   },
   {
    "duration": 76,
    "start_time": "2025-02-18T20:23:16.506Z"
   },
   {
    "duration": 32,
    "start_time": "2025-02-18T20:23:16.584Z"
   },
   {
    "duration": 12,
    "start_time": "2025-02-18T20:23:16.619Z"
   },
   {
    "duration": 3,
    "start_time": "2025-02-18T20:23:16.633Z"
   },
   {
    "duration": 17,
    "start_time": "2025-02-18T20:23:16.638Z"
   },
   {
    "duration": 5,
    "start_time": "2025-02-18T20:23:16.659Z"
   },
   {
    "duration": 46,
    "start_time": "2025-02-18T20:23:16.666Z"
   },
   {
    "duration": 11,
    "start_time": "2025-02-18T20:23:16.713Z"
   },
   {
    "duration": 734,
    "start_time": "2025-02-18T20:23:16.725Z"
   },
   {
    "duration": 659,
    "start_time": "2025-02-18T20:23:17.461Z"
   },
   {
    "duration": 6,
    "start_time": "2025-02-18T20:23:18.122Z"
   },
   {
    "duration": 6,
    "start_time": "2025-02-18T20:23:18.129Z"
   },
   {
    "duration": 5,
    "start_time": "2025-02-18T20:23:18.136Z"
   },
   {
    "duration": 7,
    "start_time": "2025-02-18T20:23:18.144Z"
   },
   {
    "duration": 6,
    "start_time": "2025-02-18T20:23:18.152Z"
   },
   {
    "duration": 5,
    "start_time": "2025-02-18T20:23:18.159Z"
   },
   {
    "duration": 44,
    "start_time": "2025-02-18T20:23:18.166Z"
   },
   {
    "duration": 12,
    "start_time": "2025-02-18T20:23:18.211Z"
   },
   {
    "duration": 11,
    "start_time": "2025-02-18T20:23:18.224Z"
   },
   {
    "duration": 3,
    "start_time": "2025-02-18T20:23:18.237Z"
   },
   {
    "duration": 30,
    "start_time": "2025-02-18T20:23:18.242Z"
   },
   {
    "duration": 32,
    "start_time": "2025-02-18T20:23:18.273Z"
   },
   {
    "duration": 8,
    "start_time": "2025-02-18T20:23:31.309Z"
   },
   {
    "duration": 17,
    "start_time": "2025-02-18T20:24:19.121Z"
   },
   {
    "duration": 7,
    "start_time": "2025-02-18T20:25:03.404Z"
   },
   {
    "duration": 21,
    "start_time": "2025-02-18T20:25:19.199Z"
   },
   {
    "duration": 6,
    "start_time": "2025-02-18T20:25:51.544Z"
   },
   {
    "duration": 14,
    "start_time": "2025-02-18T20:25:56.123Z"
   },
   {
    "duration": 15,
    "start_time": "2025-02-18T20:27:19.187Z"
   },
   {
    "duration": 10,
    "start_time": "2025-02-18T20:27:49.416Z"
   },
   {
    "duration": 9,
    "start_time": "2025-02-18T20:28:12.993Z"
   },
   {
    "duration": 11,
    "start_time": "2025-02-18T20:37:00.975Z"
   },
   {
    "duration": 7,
    "start_time": "2025-02-18T20:37:10.912Z"
   },
   {
    "duration": 17,
    "start_time": "2025-02-18T20:39:19.461Z"
   },
   {
    "duration": 19,
    "start_time": "2025-02-18T20:40:43.048Z"
   },
   {
    "duration": 21,
    "start_time": "2025-02-18T20:40:50.834Z"
   },
   {
    "duration": 27,
    "start_time": "2025-02-18T20:41:26.783Z"
   },
   {
    "duration": 6,
    "start_time": "2025-02-18T20:42:48.076Z"
   },
   {
    "duration": 2,
    "start_time": "2025-02-18T20:43:45.931Z"
   },
   {
    "duration": 19,
    "start_time": "2025-02-18T20:46:31.075Z"
   },
   {
    "duration": 9,
    "start_time": "2025-02-18T20:46:42.099Z"
   },
   {
    "duration": 10,
    "start_time": "2025-02-18T20:47:13.833Z"
   },
   {
    "duration": 13,
    "start_time": "2025-02-18T20:47:31.031Z"
   },
   {
    "duration": 12,
    "start_time": "2025-02-18T20:48:04.527Z"
   },
   {
    "duration": 11,
    "start_time": "2025-02-18T20:48:27.508Z"
   },
   {
    "duration": 16,
    "start_time": "2025-02-18T20:48:38.725Z"
   },
   {
    "duration": 9,
    "start_time": "2025-02-18T20:48:47.375Z"
   },
   {
    "duration": 16,
    "start_time": "2025-02-18T20:48:54.232Z"
   },
   {
    "duration": 11,
    "start_time": "2025-02-18T20:49:00.395Z"
   },
   {
    "duration": 18,
    "start_time": "2025-02-18T20:49:06.209Z"
   },
   {
    "duration": 2,
    "start_time": "2025-02-18T20:50:48.985Z"
   },
   {
    "duration": 839,
    "start_time": "2025-02-18T20:50:48.989Z"
   },
   {
    "duration": 9,
    "start_time": "2025-02-18T20:50:49.830Z"
   },
   {
    "duration": 43,
    "start_time": "2025-02-18T20:50:49.842Z"
   },
   {
    "duration": 2,
    "start_time": "2025-02-18T20:50:49.887Z"
   },
   {
    "duration": 78,
    "start_time": "2025-02-18T20:50:49.891Z"
   },
   {
    "duration": 6,
    "start_time": "2025-02-18T20:50:49.971Z"
   },
   {
    "duration": 89,
    "start_time": "2025-02-18T20:50:49.979Z"
   },
   {
    "duration": 77,
    "start_time": "2025-02-18T20:50:50.071Z"
   },
   {
    "duration": 23,
    "start_time": "2025-02-18T20:50:50.150Z"
   },
   {
    "duration": 11,
    "start_time": "2025-02-18T20:50:50.175Z"
   },
   {
    "duration": 19,
    "start_time": "2025-02-18T20:50:50.188Z"
   },
   {
    "duration": 17,
    "start_time": "2025-02-18T20:50:57.707Z"
   },
   {
    "duration": 14,
    "start_time": "2025-02-18T20:50:58.985Z"
   },
   {
    "duration": 14,
    "start_time": "2025-02-18T20:51:58.154Z"
   },
   {
    "duration": 10,
    "start_time": "2025-02-18T20:52:57.854Z"
   },
   {
    "duration": 4,
    "start_time": "2025-02-18T20:54:02.878Z"
   },
   {
    "duration": 11,
    "start_time": "2025-02-18T20:54:17.721Z"
   },
   {
    "duration": 76,
    "start_time": "2025-02-18T20:54:41.776Z"
   },
   {
    "duration": 77,
    "start_time": "2025-02-18T20:54:43.361Z"
   },
   {
    "duration": 22,
    "start_time": "2025-02-18T20:54:52.095Z"
   },
   {
    "duration": 7,
    "start_time": "2025-02-18T20:55:28.529Z"
   },
   {
    "duration": 10,
    "start_time": "2025-02-18T20:56:27.789Z"
   },
   {
    "duration": 414,
    "start_time": "2025-02-18T20:57:15.041Z"
   },
   {
    "duration": 12,
    "start_time": "2025-02-18T20:58:55.711Z"
   },
   {
    "duration": 10,
    "start_time": "2025-02-18T20:59:00.263Z"
   },
   {
    "duration": 5,
    "start_time": "2025-02-18T21:02:52.476Z"
   },
   {
    "duration": 5,
    "start_time": "2025-02-18T21:03:25.267Z"
   },
   {
    "duration": 5,
    "start_time": "2025-02-18T21:04:22.876Z"
   },
   {
    "duration": 4,
    "start_time": "2025-02-18T21:04:49.695Z"
   },
   {
    "duration": 2,
    "start_time": "2025-02-18T21:05:17.157Z"
   },
   {
    "duration": 5,
    "start_time": "2025-02-18T21:06:18.124Z"
   },
   {
    "duration": 16,
    "start_time": "2025-02-18T21:06:44.941Z"
   },
   {
    "duration": 14,
    "start_time": "2025-02-18T21:07:02.027Z"
   },
   {
    "duration": 273,
    "start_time": "2025-02-18T21:07:10.773Z"
   },
   {
    "duration": 881,
    "start_time": "2025-02-18T21:07:11.048Z"
   },
   {
    "duration": 11,
    "start_time": "2025-02-18T21:07:11.931Z"
   },
   {
    "duration": 45,
    "start_time": "2025-02-18T21:07:11.944Z"
   },
   {
    "duration": 15,
    "start_time": "2025-02-18T21:07:11.991Z"
   },
   {
    "duration": 85,
    "start_time": "2025-02-18T21:07:12.007Z"
   },
   {
    "duration": 22,
    "start_time": "2025-02-18T21:07:12.093Z"
   },
   {
    "duration": 119,
    "start_time": "2025-02-18T21:07:12.120Z"
   },
   {
    "duration": 94,
    "start_time": "2025-02-18T21:07:12.241Z"
   },
   {
    "duration": 29,
    "start_time": "2025-02-18T21:07:12.339Z"
   },
   {
    "duration": 18,
    "start_time": "2025-02-18T21:07:12.370Z"
   },
   {
    "duration": 4,
    "start_time": "2025-02-18T21:07:12.408Z"
   },
   {
    "duration": 31,
    "start_time": "2025-02-18T21:07:12.414Z"
   },
   {
    "duration": 17,
    "start_time": "2025-02-18T21:07:12.447Z"
   },
   {
    "duration": 800,
    "start_time": "2025-02-18T21:07:12.467Z"
   },
   {
    "duration": 637,
    "start_time": "2025-02-18T21:07:13.269Z"
   },
   {
    "duration": 12,
    "start_time": "2025-02-18T21:07:13.908Z"
   },
   {
    "duration": 5,
    "start_time": "2025-02-18T21:07:13.922Z"
   },
   {
    "duration": 4,
    "start_time": "2025-02-18T21:07:13.929Z"
   },
   {
    "duration": 216,
    "start_time": "2025-02-18T21:07:13.935Z"
   },
   {
    "duration": 0,
    "start_time": "2025-02-18T21:07:14.153Z"
   },
   {
    "duration": 0,
    "start_time": "2025-02-18T21:07:14.160Z"
   },
   {
    "duration": 0,
    "start_time": "2025-02-18T21:07:14.161Z"
   },
   {
    "duration": 0,
    "start_time": "2025-02-18T21:07:14.162Z"
   },
   {
    "duration": 0,
    "start_time": "2025-02-18T21:07:14.164Z"
   },
   {
    "duration": 0,
    "start_time": "2025-02-18T21:07:14.165Z"
   },
   {
    "duration": 0,
    "start_time": "2025-02-18T21:07:14.166Z"
   },
   {
    "duration": 0,
    "start_time": "2025-02-18T21:07:14.167Z"
   },
   {
    "duration": 0,
    "start_time": "2025-02-18T21:07:14.169Z"
   },
   {
    "duration": 0,
    "start_time": "2025-02-18T21:07:14.169Z"
   },
   {
    "duration": 0,
    "start_time": "2025-02-18T21:07:14.170Z"
   },
   {
    "duration": 0,
    "start_time": "2025-02-18T21:07:14.171Z"
   },
   {
    "duration": 0,
    "start_time": "2025-02-18T21:07:14.173Z"
   },
   {
    "duration": 0,
    "start_time": "2025-02-18T21:07:14.174Z"
   },
   {
    "duration": 0,
    "start_time": "2025-02-18T21:07:14.175Z"
   },
   {
    "duration": 0,
    "start_time": "2025-02-18T21:07:14.175Z"
   },
   {
    "duration": 0,
    "start_time": "2025-02-18T21:07:14.204Z"
   },
   {
    "duration": 0,
    "start_time": "2025-02-18T21:07:14.205Z"
   },
   {
    "duration": 7,
    "start_time": "2025-02-18T21:08:16.778Z"
   },
   {
    "duration": 11,
    "start_time": "2025-02-18T21:08:25.713Z"
   },
   {
    "duration": 6,
    "start_time": "2025-02-18T21:08:44.837Z"
   },
   {
    "duration": 6,
    "start_time": "2025-02-18T21:09:06.882Z"
   },
   {
    "duration": 6,
    "start_time": "2025-02-18T21:09:20.992Z"
   },
   {
    "duration": 7,
    "start_time": "2025-02-18T21:09:35.492Z"
   },
   {
    "duration": 7,
    "start_time": "2025-02-18T21:09:46.600Z"
   },
   {
    "duration": 4,
    "start_time": "2025-02-18T21:10:13.965Z"
   },
   {
    "duration": 6,
    "start_time": "2025-02-18T21:10:47.403Z"
   },
   {
    "duration": 5,
    "start_time": "2025-02-18T21:11:11.315Z"
   },
   {
    "duration": 8,
    "start_time": "2025-02-18T21:11:11.322Z"
   },
   {
    "duration": 10,
    "start_time": "2025-02-18T21:11:11.333Z"
   },
   {
    "duration": 12,
    "start_time": "2025-02-18T21:11:11.344Z"
   },
   {
    "duration": 3,
    "start_time": "2025-02-18T21:11:11.358Z"
   },
   {
    "duration": 62,
    "start_time": "2025-02-18T21:11:11.364Z"
   },
   {
    "duration": 16,
    "start_time": "2025-02-18T21:11:11.428Z"
   },
   {
    "duration": 5,
    "start_time": "2025-02-18T21:11:11.446Z"
   },
   {
    "duration": 20,
    "start_time": "2025-02-18T21:11:11.452Z"
   },
   {
    "duration": 39,
    "start_time": "2025-02-18T21:11:11.474Z"
   },
   {
    "duration": 11,
    "start_time": "2025-02-18T21:11:11.516Z"
   },
   {
    "duration": 2,
    "start_time": "2025-02-18T21:11:11.529Z"
   },
   {
    "duration": 7,
    "start_time": "2025-02-18T21:11:11.533Z"
   },
   {
    "duration": 338,
    "start_time": "2025-02-18T21:11:11.543Z"
   },
   {
    "duration": 5,
    "start_time": "2025-02-18T21:11:11.882Z"
   },
   {
    "duration": 21,
    "start_time": "2025-02-18T21:11:11.889Z"
   },
   {
    "duration": 128,
    "start_time": "2025-02-18T21:11:11.911Z"
   },
   {
    "duration": 2,
    "start_time": "2025-02-18T21:13:11.128Z"
   },
   {
    "duration": 8,
    "start_time": "2025-02-18T21:15:17.860Z"
   },
   {
    "duration": 9,
    "start_time": "2025-02-18T21:16:11.098Z"
   },
   {
    "duration": 7,
    "start_time": "2025-02-18T21:17:48.093Z"
   },
   {
    "duration": 5,
    "start_time": "2025-02-18T21:17:58.583Z"
   },
   {
    "duration": 38,
    "start_time": "2025-02-18T21:19:01.254Z"
   },
   {
    "duration": 397,
    "start_time": "2025-02-18T21:19:34.060Z"
   },
   {
    "duration": 39,
    "start_time": "2025-02-18T21:20:24.745Z"
   },
   {
    "duration": 3,
    "start_time": "2025-02-18T21:20:50.350Z"
   },
   {
    "duration": 5,
    "start_time": "2025-02-18T21:21:04.829Z"
   },
   {
    "duration": 6,
    "start_time": "2025-02-18T21:21:14.889Z"
   },
   {
    "duration": 11,
    "start_time": "2025-02-18T21:22:14.067Z"
   },
   {
    "duration": 382,
    "start_time": "2025-02-18T21:22:41.096Z"
   },
   {
    "duration": 10,
    "start_time": "2025-02-18T21:23:00.215Z"
   },
   {
    "duration": 3,
    "start_time": "2025-02-18T21:23:53.060Z"
   },
   {
    "duration": 6,
    "start_time": "2025-02-18T21:24:03.635Z"
   },
   {
    "duration": 8,
    "start_time": "2025-02-18T21:25:19.917Z"
   },
   {
    "duration": 12,
    "start_time": "2025-02-18T21:25:38.841Z"
   },
   {
    "duration": 30,
    "start_time": "2025-02-18T21:26:10.224Z"
   },
   {
    "duration": 26,
    "start_time": "2025-02-18T21:26:23.373Z"
   },
   {
    "duration": 4,
    "start_time": "2025-02-18T21:28:56.118Z"
   },
   {
    "duration": 3,
    "start_time": "2025-02-18T21:29:26.730Z"
   },
   {
    "duration": 14,
    "start_time": "2025-02-18T21:30:35.452Z"
   },
   {
    "duration": 6,
    "start_time": "2025-02-18T21:31:23.159Z"
   },
   {
    "duration": 10,
    "start_time": "2025-02-18T21:31:38.626Z"
   },
   {
    "duration": 16,
    "start_time": "2025-02-18T21:32:12.685Z"
   },
   {
    "duration": 10,
    "start_time": "2025-02-18T21:32:38.915Z"
   },
   {
    "duration": 3,
    "start_time": "2025-02-18T21:32:51.112Z"
   },
   {
    "duration": 850,
    "start_time": "2025-02-18T21:32:51.128Z"
   },
   {
    "duration": 9,
    "start_time": "2025-02-18T21:32:51.980Z"
   },
   {
    "duration": 49,
    "start_time": "2025-02-18T21:32:51.991Z"
   },
   {
    "duration": 3,
    "start_time": "2025-02-18T21:32:52.042Z"
   },
   {
    "duration": 79,
    "start_time": "2025-02-18T21:32:52.047Z"
   },
   {
    "duration": 10,
    "start_time": "2025-02-18T21:32:52.129Z"
   },
   {
    "duration": 103,
    "start_time": "2025-02-18T21:32:52.141Z"
   },
   {
    "duration": 92,
    "start_time": "2025-02-18T21:32:52.247Z"
   },
   {
    "duration": 27,
    "start_time": "2025-02-18T21:32:52.340Z"
   },
   {
    "duration": 13,
    "start_time": "2025-02-18T21:32:52.368Z"
   },
   {
    "duration": 4,
    "start_time": "2025-02-18T21:32:52.382Z"
   },
   {
    "duration": 36,
    "start_time": "2025-02-18T21:32:52.387Z"
   },
   {
    "duration": 18,
    "start_time": "2025-02-18T21:32:52.425Z"
   },
   {
    "duration": 793,
    "start_time": "2025-02-18T21:32:52.446Z"
   },
   {
    "duration": 674,
    "start_time": "2025-02-18T21:32:53.241Z"
   },
   {
    "duration": 10,
    "start_time": "2025-02-18T21:32:53.916Z"
   },
   {
    "duration": 4,
    "start_time": "2025-02-18T21:32:53.928Z"
   },
   {
    "duration": 4,
    "start_time": "2025-02-18T21:32:53.934Z"
   },
   {
    "duration": 4,
    "start_time": "2025-02-18T21:32:53.940Z"
   },
   {
    "duration": 7,
    "start_time": "2025-02-18T21:32:53.945Z"
   },
   {
    "duration": 7,
    "start_time": "2025-02-18T21:32:53.953Z"
   },
   {
    "duration": 62,
    "start_time": "2025-02-18T21:32:53.961Z"
   },
   {
    "duration": 16,
    "start_time": "2025-02-18T21:32:54.025Z"
   },
   {
    "duration": 4,
    "start_time": "2025-02-18T21:32:54.043Z"
   },
   {
    "duration": 5,
    "start_time": "2025-02-18T21:32:57.089Z"
   },
   {
    "duration": 10,
    "start_time": "2025-02-18T21:32:58.006Z"
   },
   {
    "duration": 11,
    "start_time": "2025-02-18T21:33:36.548Z"
   },
   {
    "duration": 5,
    "start_time": "2025-02-18T21:33:48.364Z"
   },
   {
    "duration": 10,
    "start_time": "2025-02-18T21:34:05.913Z"
   },
   {
    "duration": 9,
    "start_time": "2025-02-18T21:34:20.484Z"
   },
   {
    "duration": 9,
    "start_time": "2025-02-18T21:35:58.427Z"
   },
   {
    "duration": 3,
    "start_time": "2025-02-18T21:36:57.669Z"
   },
   {
    "duration": 220,
    "start_time": "2025-02-18T21:37:38.761Z"
   },
   {
    "duration": 42,
    "start_time": "2025-02-18T21:38:18.161Z"
   },
   {
    "duration": 8,
    "start_time": "2025-02-18T21:39:03.107Z"
   },
   {
    "duration": 20,
    "start_time": "2025-02-18T21:44:41.912Z"
   },
   {
    "duration": 35,
    "start_time": "2025-02-18T21:45:02.423Z"
   },
   {
    "duration": 25,
    "start_time": "2025-02-18T21:45:21.578Z"
   },
   {
    "duration": 35,
    "start_time": "2025-02-18T21:45:31.079Z"
   },
   {
    "duration": 30,
    "start_time": "2025-02-18T21:46:13.858Z"
   },
   {
    "duration": 35,
    "start_time": "2025-02-18T21:46:38.576Z"
   },
   {
    "duration": 38,
    "start_time": "2025-02-18T21:47:59.548Z"
   },
   {
    "duration": 33,
    "start_time": "2025-02-18T21:48:15.808Z"
   },
   {
    "duration": 141,
    "start_time": "2025-02-18T21:52:04.233Z"
   },
   {
    "duration": 135,
    "start_time": "2025-02-18T21:52:17.741Z"
   },
   {
    "duration": 236,
    "start_time": "2025-02-18T21:52:31.901Z"
   },
   {
    "duration": 127,
    "start_time": "2025-02-18T21:55:38.080Z"
   },
   {
    "duration": 5,
    "start_time": "2025-02-18T21:56:02.691Z"
   },
   {
    "duration": 669,
    "start_time": "2025-02-18T21:57:19.545Z"
   },
   {
    "duration": 152,
    "start_time": "2025-02-18T21:57:32.472Z"
   },
   {
    "duration": 60,
    "start_time": "2025-02-18T21:57:53.401Z"
   },
   {
    "duration": 136,
    "start_time": "2025-02-18T21:58:04.102Z"
   },
   {
    "duration": 139,
    "start_time": "2025-02-18T21:58:58.039Z"
   },
   {
    "duration": 151,
    "start_time": "2025-02-18T21:59:05.036Z"
   },
   {
    "duration": 160,
    "start_time": "2025-02-18T21:59:23.137Z"
   },
   {
    "duration": 141,
    "start_time": "2025-02-18T22:00:10.541Z"
   },
   {
    "duration": 139,
    "start_time": "2025-02-18T22:00:35.911Z"
   },
   {
    "duration": 124,
    "start_time": "2025-02-18T22:08:07.356Z"
   },
   {
    "duration": 396,
    "start_time": "2025-02-18T22:09:24.910Z"
   },
   {
    "duration": 558,
    "start_time": "2025-02-18T22:09:53.633Z"
   },
   {
    "duration": 147,
    "start_time": "2025-02-18T22:12:50.317Z"
   },
   {
    "duration": 147,
    "start_time": "2025-02-18T22:12:58.653Z"
   },
   {
    "duration": 164,
    "start_time": "2025-02-18T22:14:02.594Z"
   },
   {
    "duration": 160,
    "start_time": "2025-02-18T22:14:17.741Z"
   },
   {
    "duration": 295,
    "start_time": "2025-02-18T22:22:41.560Z"
   },
   {
    "duration": 877,
    "start_time": "2025-02-18T22:22:41.857Z"
   },
   {
    "duration": 11,
    "start_time": "2025-02-18T22:22:42.736Z"
   },
   {
    "duration": 61,
    "start_time": "2025-02-18T22:22:42.750Z"
   },
   {
    "duration": 3,
    "start_time": "2025-02-18T22:22:42.813Z"
   },
   {
    "duration": 103,
    "start_time": "2025-02-18T22:22:42.818Z"
   },
   {
    "duration": 15,
    "start_time": "2025-02-18T22:22:42.923Z"
   },
   {
    "duration": 106,
    "start_time": "2025-02-18T22:22:42.939Z"
   },
   {
    "duration": 89,
    "start_time": "2025-02-18T22:22:43.047Z"
   },
   {
    "duration": 27,
    "start_time": "2025-02-18T22:22:43.139Z"
   },
   {
    "duration": 12,
    "start_time": "2025-02-18T22:22:43.169Z"
   },
   {
    "duration": 3,
    "start_time": "2025-02-18T22:22:43.183Z"
   },
   {
    "duration": 19,
    "start_time": "2025-02-18T22:22:43.204Z"
   },
   {
    "duration": 12,
    "start_time": "2025-02-18T22:22:43.227Z"
   },
   {
    "duration": 754,
    "start_time": "2025-02-18T22:22:43.241Z"
   },
   {
    "duration": 692,
    "start_time": "2025-02-18T22:22:43.997Z"
   },
   {
    "duration": 18,
    "start_time": "2025-02-18T22:22:44.690Z"
   },
   {
    "duration": 7,
    "start_time": "2025-02-18T22:22:44.709Z"
   },
   {
    "duration": 3,
    "start_time": "2025-02-18T22:22:44.718Z"
   },
   {
    "duration": 5,
    "start_time": "2025-02-18T22:22:44.723Z"
   },
   {
    "duration": 6,
    "start_time": "2025-02-18T22:22:44.729Z"
   },
   {
    "duration": 5,
    "start_time": "2025-02-18T22:22:44.737Z"
   },
   {
    "duration": 61,
    "start_time": "2025-02-18T22:22:44.744Z"
   },
   {
    "duration": 17,
    "start_time": "2025-02-18T22:22:44.807Z"
   },
   {
    "duration": 9,
    "start_time": "2025-02-18T22:22:44.826Z"
   },
   {
    "duration": 2,
    "start_time": "2025-02-18T22:22:44.836Z"
   },
   {
    "duration": 37,
    "start_time": "2025-02-18T22:22:44.840Z"
   },
   {
    "duration": 5,
    "start_time": "2025-02-18T22:22:44.905Z"
   },
   {
    "duration": 332,
    "start_time": "2025-02-18T22:22:44.911Z"
   },
   {
    "duration": 151,
    "start_time": "2025-02-18T22:22:45.245Z"
   },
   {
    "duration": 150,
    "start_time": "2025-02-18T22:22:45.398Z"
   },
   {
    "duration": 158,
    "start_time": "2025-02-18T22:22:45.550Z"
   },
   {
    "duration": 20,
    "start_time": "2025-02-18T22:22:45.710Z"
   },
   {
    "duration": 38,
    "start_time": "2025-02-18T22:23:26.224Z"
   },
   {
    "duration": 139,
    "start_time": "2025-02-18T22:23:46.750Z"
   },
   {
    "duration": 142,
    "start_time": "2025-02-18T22:24:15.710Z"
   },
   {
    "duration": 178,
    "start_time": "2025-02-18T22:24:20.083Z"
   },
   {
    "duration": 683,
    "start_time": "2025-02-18T22:27:28.214Z"
   },
   {
    "duration": 3,
    "start_time": "2025-02-18T22:29:13.360Z"
   },
   {
    "duration": 111,
    "start_time": "2025-02-18T22:31:36.281Z"
   },
   {
    "duration": 173,
    "start_time": "2025-02-18T22:32:05.116Z"
   },
   {
    "duration": 201,
    "start_time": "2025-02-18T22:32:46.675Z"
   },
   {
    "duration": 242,
    "start_time": "2025-02-18T22:33:41.667Z"
   },
   {
    "duration": 226,
    "start_time": "2025-02-18T22:33:57.770Z"
   },
   {
    "duration": 223,
    "start_time": "2025-02-18T22:34:05.991Z"
   },
   {
    "duration": 220,
    "start_time": "2025-02-18T22:35:16.141Z"
   },
   {
    "duration": 13,
    "start_time": "2025-02-18T22:41:35.845Z"
   },
   {
    "duration": 90,
    "start_time": "2025-02-18T22:41:45.418Z"
   },
   {
    "duration": 3,
    "start_time": "2025-02-18T22:42:07.869Z"
   },
   {
    "duration": 821,
    "start_time": "2025-02-18T22:42:07.875Z"
   },
   {
    "duration": 9,
    "start_time": "2025-02-18T22:42:08.698Z"
   },
   {
    "duration": 43,
    "start_time": "2025-02-18T22:42:08.709Z"
   },
   {
    "duration": 3,
    "start_time": "2025-02-18T22:42:08.755Z"
   },
   {
    "duration": 89,
    "start_time": "2025-02-18T22:42:08.759Z"
   },
   {
    "duration": 10,
    "start_time": "2025-02-18T22:42:08.850Z"
   },
   {
    "duration": 102,
    "start_time": "2025-02-18T22:42:08.862Z"
   },
   {
    "duration": 87,
    "start_time": "2025-02-18T22:42:08.966Z"
   },
   {
    "duration": 23,
    "start_time": "2025-02-18T22:42:09.055Z"
   },
   {
    "duration": 28,
    "start_time": "2025-02-18T22:42:09.079Z"
   },
   {
    "duration": 3,
    "start_time": "2025-02-18T22:42:09.109Z"
   },
   {
    "duration": 17,
    "start_time": "2025-02-18T22:42:09.114Z"
   },
   {
    "duration": 11,
    "start_time": "2025-02-18T22:42:09.135Z"
   },
   {
    "duration": 784,
    "start_time": "2025-02-18T22:42:09.148Z"
   },
   {
    "duration": 688,
    "start_time": "2025-02-18T22:42:09.934Z"
   },
   {
    "duration": 11,
    "start_time": "2025-02-18T22:42:10.624Z"
   },
   {
    "duration": 5,
    "start_time": "2025-02-18T22:42:10.636Z"
   },
   {
    "duration": 4,
    "start_time": "2025-02-18T22:42:10.642Z"
   },
   {
    "duration": 6,
    "start_time": "2025-02-18T22:42:10.647Z"
   },
   {
    "duration": 5,
    "start_time": "2025-02-18T22:42:10.654Z"
   },
   {
    "duration": 7,
    "start_time": "2025-02-18T22:42:10.662Z"
   },
   {
    "duration": 63,
    "start_time": "2025-02-18T22:42:10.670Z"
   },
   {
    "duration": 15,
    "start_time": "2025-02-18T22:42:10.735Z"
   },
   {
    "duration": 8,
    "start_time": "2025-02-18T22:42:10.752Z"
   },
   {
    "duration": 3,
    "start_time": "2025-02-18T22:42:10.761Z"
   },
   {
    "duration": 62,
    "start_time": "2025-02-18T22:42:10.765Z"
   },
   {
    "duration": 5,
    "start_time": "2025-02-18T22:42:10.829Z"
   },
   {
    "duration": 145,
    "start_time": "2025-02-18T22:42:10.836Z"
   },
   {
    "duration": 156,
    "start_time": "2025-02-18T22:42:10.983Z"
   },
   {
    "duration": 150,
    "start_time": "2025-02-18T22:42:11.141Z"
   },
   {
    "duration": 166,
    "start_time": "2025-02-18T22:42:11.292Z"
   },
   {
    "duration": 238,
    "start_time": "2025-02-18T22:42:11.459Z"
   },
   {
    "duration": 88,
    "start_time": "2025-02-18T22:42:44.391Z"
   },
   {
    "duration": 2,
    "start_time": "2025-02-18T22:43:05.951Z"
   },
   {
    "duration": 80,
    "start_time": "2025-02-18T22:43:18.937Z"
   },
   {
    "duration": 124,
    "start_time": "2025-02-18T22:43:32.421Z"
   },
   {
    "duration": 79,
    "start_time": "2025-02-18T22:43:41.274Z"
   },
   {
    "duration": 81,
    "start_time": "2025-02-18T22:44:05.476Z"
   },
   {
    "duration": 85,
    "start_time": "2025-02-18T22:44:28.413Z"
   },
   {
    "duration": 81,
    "start_time": "2025-02-18T22:44:42.462Z"
   },
   {
    "duration": 83,
    "start_time": "2025-02-18T22:45:00.136Z"
   },
   {
    "duration": 83,
    "start_time": "2025-02-18T22:46:10.304Z"
   },
   {
    "duration": 91,
    "start_time": "2025-02-18T22:47:36.328Z"
   },
   {
    "duration": 100,
    "start_time": "2025-02-18T22:48:31.478Z"
   },
   {
    "duration": 88,
    "start_time": "2025-02-18T22:48:55.647Z"
   },
   {
    "duration": 120,
    "start_time": "2025-02-18T22:51:53.470Z"
   },
   {
    "duration": 100,
    "start_time": "2025-02-18T22:52:23.552Z"
   },
   {
    "duration": 85,
    "start_time": "2025-02-18T22:52:57.591Z"
   },
   {
    "duration": 91,
    "start_time": "2025-02-18T22:53:28.160Z"
   },
   {
    "duration": 83,
    "start_time": "2025-02-18T22:53:39.346Z"
   },
   {
    "duration": 97,
    "start_time": "2025-02-18T22:54:06.067Z"
   },
   {
    "duration": 93,
    "start_time": "2025-02-18T22:54:48.404Z"
   },
   {
    "duration": 93,
    "start_time": "2025-02-18T22:55:46.450Z"
   },
   {
    "duration": 90,
    "start_time": "2025-02-18T22:55:59.823Z"
   },
   {
    "duration": 87,
    "start_time": "2025-02-18T22:56:33.080Z"
   },
   {
    "duration": 89,
    "start_time": "2025-02-18T22:57:09.157Z"
   },
   {
    "duration": 13,
    "start_time": "2025-02-18T22:59:26.612Z"
   },
   {
    "duration": 122,
    "start_time": "2025-02-18T22:59:34.914Z"
   },
   {
    "duration": 140,
    "start_time": "2025-02-18T23:00:37.248Z"
   },
   {
    "duration": 7471,
    "start_time": "2025-02-18T23:01:27.228Z"
   },
   {
    "duration": 230,
    "start_time": "2025-02-18T23:01:37.595Z"
   },
   {
    "duration": 222,
    "start_time": "2025-02-18T23:02:10.434Z"
   },
   {
    "duration": 226,
    "start_time": "2025-02-18T23:02:55.118Z"
   },
   {
    "duration": 217,
    "start_time": "2025-02-18T23:03:09.107Z"
   },
   {
    "duration": 8,
    "start_time": "2025-02-18T23:07:45.949Z"
   },
   {
    "duration": 124,
    "start_time": "2025-02-18T23:08:28.245Z"
   },
   {
    "duration": 76,
    "start_time": "2025-02-18T23:10:22.791Z"
   },
   {
    "duration": 295,
    "start_time": "2025-02-18T23:10:42.806Z"
   },
   {
    "duration": 494,
    "start_time": "2025-02-18T23:12:56.579Z"
   },
   {
    "duration": 281,
    "start_time": "2025-02-18T23:13:17.190Z"
   },
   {
    "duration": 890,
    "start_time": "2025-02-18T23:13:17.474Z"
   },
   {
    "duration": 12,
    "start_time": "2025-02-18T23:13:18.365Z"
   },
   {
    "duration": 53,
    "start_time": "2025-02-18T23:13:18.379Z"
   },
   {
    "duration": 2,
    "start_time": "2025-02-18T23:13:18.435Z"
   },
   {
    "duration": 96,
    "start_time": "2025-02-18T23:13:18.440Z"
   },
   {
    "duration": 13,
    "start_time": "2025-02-18T23:13:18.538Z"
   },
   {
    "duration": 105,
    "start_time": "2025-02-18T23:13:18.553Z"
   },
   {
    "duration": 91,
    "start_time": "2025-02-18T23:13:18.660Z"
   },
   {
    "duration": 28,
    "start_time": "2025-02-18T23:13:18.753Z"
   },
   {
    "duration": 26,
    "start_time": "2025-02-18T23:13:18.782Z"
   },
   {
    "duration": 3,
    "start_time": "2025-02-18T23:13:18.810Z"
   },
   {
    "duration": 21,
    "start_time": "2025-02-18T23:13:18.815Z"
   },
   {
    "duration": 14,
    "start_time": "2025-02-18T23:13:18.839Z"
   },
   {
    "duration": 802,
    "start_time": "2025-02-18T23:13:18.856Z"
   },
   {
    "duration": 696,
    "start_time": "2025-02-18T23:13:19.660Z"
   },
   {
    "duration": 10,
    "start_time": "2025-02-18T23:13:20.358Z"
   },
   {
    "duration": 5,
    "start_time": "2025-02-18T23:13:20.370Z"
   },
   {
    "duration": 4,
    "start_time": "2025-02-18T23:13:20.377Z"
   },
   {
    "duration": 5,
    "start_time": "2025-02-18T23:13:20.405Z"
   },
   {
    "duration": 6,
    "start_time": "2025-02-18T23:13:20.412Z"
   },
   {
    "duration": 6,
    "start_time": "2025-02-18T23:13:20.420Z"
   },
   {
    "duration": 31,
    "start_time": "2025-02-18T23:13:20.428Z"
   },
   {
    "duration": 15,
    "start_time": "2025-02-18T23:13:20.461Z"
   },
   {
    "duration": 8,
    "start_time": "2025-02-18T23:13:20.505Z"
   },
   {
    "duration": 2,
    "start_time": "2025-02-18T23:13:20.515Z"
   },
   {
    "duration": 39,
    "start_time": "2025-02-18T23:13:20.519Z"
   },
   {
    "duration": 5,
    "start_time": "2025-02-18T23:13:20.561Z"
   },
   {
    "duration": 330,
    "start_time": "2025-02-18T23:13:20.567Z"
   },
   {
    "duration": 148,
    "start_time": "2025-02-18T23:13:20.898Z"
   },
   {
    "duration": 148,
    "start_time": "2025-02-18T23:13:21.049Z"
   },
   {
    "duration": 178,
    "start_time": "2025-02-18T23:13:21.198Z"
   },
   {
    "duration": 247,
    "start_time": "2025-02-18T23:13:21.378Z"
   },
   {
    "duration": 102,
    "start_time": "2025-02-18T23:13:21.626Z"
   },
   {
    "duration": 213,
    "start_time": "2025-02-18T23:13:21.730Z"
   },
   {
    "duration": 656,
    "start_time": "2025-02-18T23:13:21.945Z"
   },
   {
    "duration": 521,
    "start_time": "2025-02-18T23:13:42.844Z"
   },
   {
    "duration": 308,
    "start_time": "2025-02-18T23:18:18.447Z"
   },
   {
    "duration": 1005,
    "start_time": "2025-02-18T23:18:18.757Z"
   },
   {
    "duration": 12,
    "start_time": "2025-02-18T23:18:19.764Z"
   },
   {
    "duration": 49,
    "start_time": "2025-02-18T23:18:19.778Z"
   },
   {
    "duration": 2,
    "start_time": "2025-02-18T23:18:19.829Z"
   },
   {
    "duration": 100,
    "start_time": "2025-02-18T23:18:19.833Z"
   },
   {
    "duration": 15,
    "start_time": "2025-02-18T23:18:19.934Z"
   },
   {
    "duration": 114,
    "start_time": "2025-02-18T23:18:19.950Z"
   },
   {
    "duration": 90,
    "start_time": "2025-02-18T23:18:20.065Z"
   },
   {
    "duration": 27,
    "start_time": "2025-02-18T23:18:20.158Z"
   },
   {
    "duration": 11,
    "start_time": "2025-02-18T23:18:20.187Z"
   },
   {
    "duration": 3,
    "start_time": "2025-02-18T23:18:20.212Z"
   },
   {
    "duration": 18,
    "start_time": "2025-02-18T23:18:20.217Z"
   },
   {
    "duration": 12,
    "start_time": "2025-02-18T23:18:20.236Z"
   },
   {
    "duration": 753,
    "start_time": "2025-02-18T23:18:20.249Z"
   },
   {
    "duration": 695,
    "start_time": "2025-02-18T23:18:21.004Z"
   },
   {
    "duration": 14,
    "start_time": "2025-02-18T23:18:21.701Z"
   },
   {
    "duration": 5,
    "start_time": "2025-02-18T23:18:21.717Z"
   },
   {
    "duration": 4,
    "start_time": "2025-02-18T23:18:21.723Z"
   },
   {
    "duration": 4,
    "start_time": "2025-02-18T23:18:21.728Z"
   },
   {
    "duration": 5,
    "start_time": "2025-02-18T23:18:21.734Z"
   },
   {
    "duration": 7,
    "start_time": "2025-02-18T23:18:21.740Z"
   },
   {
    "duration": 64,
    "start_time": "2025-02-18T23:18:21.748Z"
   },
   {
    "duration": 16,
    "start_time": "2025-02-18T23:18:21.814Z"
   },
   {
    "duration": 9,
    "start_time": "2025-02-18T23:18:21.832Z"
   },
   {
    "duration": 4,
    "start_time": "2025-02-18T23:18:21.842Z"
   },
   {
    "duration": 38,
    "start_time": "2025-02-18T23:18:21.848Z"
   },
   {
    "duration": 6,
    "start_time": "2025-02-18T23:18:21.911Z"
   },
   {
    "duration": 307,
    "start_time": "2025-02-18T23:18:21.919Z"
   },
   {
    "duration": 163,
    "start_time": "2025-02-18T23:18:22.228Z"
   },
   {
    "duration": 147,
    "start_time": "2025-02-18T23:18:22.393Z"
   },
   {
    "duration": 164,
    "start_time": "2025-02-18T23:18:22.542Z"
   },
   {
    "duration": 256,
    "start_time": "2025-02-18T23:18:22.708Z"
   },
   {
    "duration": 102,
    "start_time": "2025-02-18T23:18:22.966Z"
   },
   {
    "duration": 239,
    "start_time": "2025-02-18T23:18:23.070Z"
   },
   {
    "duration": 602,
    "start_time": "2025-02-18T23:18:23.311Z"
   },
   {
    "duration": 7,
    "start_time": "2025-02-18T23:21:46.701Z"
   },
   {
    "duration": 2,
    "start_time": "2025-02-18T23:21:55.466Z"
   },
   {
    "duration": 811,
    "start_time": "2025-02-18T23:21:55.479Z"
   },
   {
    "duration": 9,
    "start_time": "2025-02-18T23:21:56.294Z"
   },
   {
    "duration": 44,
    "start_time": "2025-02-18T23:21:56.305Z"
   },
   {
    "duration": 3,
    "start_time": "2025-02-18T23:21:56.351Z"
   },
   {
    "duration": 81,
    "start_time": "2025-02-18T23:21:56.357Z"
   },
   {
    "duration": 11,
    "start_time": "2025-02-18T23:21:56.440Z"
   },
   {
    "duration": 89,
    "start_time": "2025-02-18T23:21:56.453Z"
   },
   {
    "duration": 75,
    "start_time": "2025-02-18T23:21:56.544Z"
   },
   {
    "duration": 22,
    "start_time": "2025-02-18T23:21:56.621Z"
   },
   {
    "duration": 12,
    "start_time": "2025-02-18T23:21:56.644Z"
   },
   {
    "duration": 3,
    "start_time": "2025-02-18T23:21:56.658Z"
   },
   {
    "duration": 19,
    "start_time": "2025-02-18T23:21:56.663Z"
   },
   {
    "duration": 36,
    "start_time": "2025-02-18T23:21:56.684Z"
   },
   {
    "duration": 655,
    "start_time": "2025-02-18T23:21:56.724Z"
   },
   {
    "duration": 600,
    "start_time": "2025-02-18T23:21:57.382Z"
   },
   {
    "duration": 9,
    "start_time": "2025-02-18T23:21:57.984Z"
   },
   {
    "duration": 18,
    "start_time": "2025-02-18T23:21:57.995Z"
   },
   {
    "duration": 5,
    "start_time": "2025-02-18T23:21:58.014Z"
   },
   {
    "duration": 6,
    "start_time": "2025-02-18T23:21:58.021Z"
   },
   {
    "duration": 10,
    "start_time": "2025-02-18T23:21:58.029Z"
   },
   {
    "duration": 8,
    "start_time": "2025-02-18T23:21:58.040Z"
   },
   {
    "duration": 62,
    "start_time": "2025-02-18T23:21:58.050Z"
   },
   {
    "duration": 15,
    "start_time": "2025-02-18T23:21:58.114Z"
   },
   {
    "duration": 8,
    "start_time": "2025-02-18T23:21:58.131Z"
   },
   {
    "duration": 2,
    "start_time": "2025-02-18T23:21:58.141Z"
   },
   {
    "duration": 37,
    "start_time": "2025-02-18T23:21:58.146Z"
   },
   {
    "duration": 29,
    "start_time": "2025-02-18T23:21:58.185Z"
   },
   {
    "duration": 142,
    "start_time": "2025-02-18T23:21:58.216Z"
   },
   {
    "duration": 149,
    "start_time": "2025-02-18T23:21:58.360Z"
   },
   {
    "duration": 147,
    "start_time": "2025-02-18T23:21:58.512Z"
   },
   {
    "duration": 163,
    "start_time": "2025-02-18T23:21:58.661Z"
   },
   {
    "duration": 276,
    "start_time": "2025-02-18T23:21:58.826Z"
   },
   {
    "duration": 97,
    "start_time": "2025-02-18T23:21:59.105Z"
   },
   {
    "duration": 214,
    "start_time": "2025-02-18T23:21:59.211Z"
   },
   {
    "duration": 610,
    "start_time": "2025-02-18T23:21:59.427Z"
   },
   {
    "duration": 3,
    "start_time": "2025-02-18T23:32:56.090Z"
   },
   {
    "duration": 797,
    "start_time": "2025-02-18T23:32:56.096Z"
   },
   {
    "duration": 10,
    "start_time": "2025-02-18T23:32:56.895Z"
   },
   {
    "duration": 42,
    "start_time": "2025-02-18T23:32:56.911Z"
   },
   {
    "duration": 2,
    "start_time": "2025-02-18T23:32:56.955Z"
   },
   {
    "duration": 75,
    "start_time": "2025-02-18T23:32:56.959Z"
   },
   {
    "duration": 11,
    "start_time": "2025-02-18T23:32:57.036Z"
   },
   {
    "duration": 82,
    "start_time": "2025-02-18T23:32:57.048Z"
   },
   {
    "duration": 88,
    "start_time": "2025-02-18T23:32:57.132Z"
   },
   {
    "duration": 23,
    "start_time": "2025-02-18T23:32:57.223Z"
   },
   {
    "duration": 18,
    "start_time": "2025-02-18T23:32:57.247Z"
   },
   {
    "duration": 4,
    "start_time": "2025-02-18T23:32:57.267Z"
   },
   {
    "duration": 40,
    "start_time": "2025-02-18T23:32:57.272Z"
   },
   {
    "duration": 11,
    "start_time": "2025-02-18T23:32:57.316Z"
   },
   {
    "duration": 640,
    "start_time": "2025-02-18T23:32:57.329Z"
   },
   {
    "duration": 558,
    "start_time": "2025-02-18T23:32:57.970Z"
   },
   {
    "duration": 9,
    "start_time": "2025-02-18T23:32:58.530Z"
   },
   {
    "duration": 4,
    "start_time": "2025-02-18T23:32:58.541Z"
   },
   {
    "duration": 3,
    "start_time": "2025-02-18T23:32:58.547Z"
   },
   {
    "duration": 4,
    "start_time": "2025-02-18T23:32:58.552Z"
   },
   {
    "duration": 7,
    "start_time": "2025-02-18T23:32:58.558Z"
   },
   {
    "duration": 7,
    "start_time": "2025-02-18T23:32:58.566Z"
   },
   {
    "duration": 59,
    "start_time": "2025-02-18T23:32:58.574Z"
   },
   {
    "duration": 15,
    "start_time": "2025-02-18T23:32:58.635Z"
   },
   {
    "duration": 9,
    "start_time": "2025-02-18T23:32:58.651Z"
   },
   {
    "duration": 2,
    "start_time": "2025-02-18T23:32:58.661Z"
   },
   {
    "duration": 54,
    "start_time": "2025-02-18T23:32:58.665Z"
   },
   {
    "duration": 5,
    "start_time": "2025-02-18T23:32:58.721Z"
   },
   {
    "duration": 154,
    "start_time": "2025-02-18T23:32:58.728Z"
   },
   {
    "duration": 153,
    "start_time": "2025-02-18T23:32:58.883Z"
   },
   {
    "duration": 144,
    "start_time": "2025-02-18T23:32:59.037Z"
   },
   {
    "duration": 159,
    "start_time": "2025-02-18T23:32:59.183Z"
   },
   {
    "duration": 230,
    "start_time": "2025-02-18T23:32:59.344Z"
   },
   {
    "duration": 105,
    "start_time": "2025-02-18T23:32:59.576Z"
   },
   {
    "duration": 215,
    "start_time": "2025-02-18T23:32:59.683Z"
   },
   {
    "duration": 558,
    "start_time": "2025-02-18T23:32:59.900Z"
   },
   {
    "duration": 175,
    "start_time": "2025-02-18T23:56:46.446Z"
   },
   {
    "duration": 291,
    "start_time": "2025-02-18T23:56:54.067Z"
   },
   {
    "duration": 1028,
    "start_time": "2025-02-18T23:56:54.361Z"
   },
   {
    "duration": 14,
    "start_time": "2025-02-18T23:56:55.390Z"
   },
   {
    "duration": 43,
    "start_time": "2025-02-18T23:56:55.406Z"
   },
   {
    "duration": 111,
    "start_time": "2025-02-18T23:56:55.450Z"
   },
   {
    "duration": 19,
    "start_time": "2025-02-18T23:56:55.563Z"
   },
   {
    "duration": 100,
    "start_time": "2025-02-18T23:56:55.583Z"
   },
   {
    "duration": 97,
    "start_time": "2025-02-18T23:56:55.685Z"
   },
   {
    "duration": 27,
    "start_time": "2025-02-18T23:56:55.784Z"
   },
   {
    "duration": 11,
    "start_time": "2025-02-18T23:56:55.815Z"
   },
   {
    "duration": 3,
    "start_time": "2025-02-18T23:56:55.828Z"
   },
   {
    "duration": 42,
    "start_time": "2025-02-18T23:56:55.833Z"
   },
   {
    "duration": 13,
    "start_time": "2025-02-18T23:56:55.877Z"
   },
   {
    "duration": 781,
    "start_time": "2025-02-18T23:56:55.891Z"
   },
   {
    "duration": 704,
    "start_time": "2025-02-18T23:56:56.675Z"
   },
   {
    "duration": 10,
    "start_time": "2025-02-18T23:56:57.381Z"
   },
   {
    "duration": 5,
    "start_time": "2025-02-18T23:56:57.393Z"
   },
   {
    "duration": 3,
    "start_time": "2025-02-18T23:56:57.401Z"
   },
   {
    "duration": 5,
    "start_time": "2025-02-18T23:56:57.406Z"
   },
   {
    "duration": 6,
    "start_time": "2025-02-18T23:56:57.412Z"
   },
   {
    "duration": 7,
    "start_time": "2025-02-18T23:56:57.420Z"
   },
   {
    "duration": 67,
    "start_time": "2025-02-18T23:56:57.428Z"
   },
   {
    "duration": 15,
    "start_time": "2025-02-18T23:56:57.497Z"
   },
   {
    "duration": 8,
    "start_time": "2025-02-18T23:56:57.514Z"
   },
   {
    "duration": 2,
    "start_time": "2025-02-18T23:56:57.524Z"
   },
   {
    "duration": 67,
    "start_time": "2025-02-18T23:56:57.528Z"
   },
   {
    "duration": 4,
    "start_time": "2025-02-18T23:56:57.598Z"
   },
   {
    "duration": 2006,
    "start_time": "2025-02-18T23:56:57.607Z"
   },
   {
    "duration": 157,
    "start_time": "2025-02-18T23:56:59.615Z"
   },
   {
    "duration": 143,
    "start_time": "2025-02-18T23:56:59.774Z"
   },
   {
    "duration": 215,
    "start_time": "2025-02-18T23:56:59.918Z"
   },
   {
    "duration": 242,
    "start_time": "2025-02-18T23:57:00.136Z"
   },
   {
    "duration": 101,
    "start_time": "2025-02-18T23:57:00.380Z"
   },
   {
    "duration": 217,
    "start_time": "2025-02-18T23:57:00.483Z"
   },
   {
    "duration": 642,
    "start_time": "2025-02-18T23:57:00.701Z"
   },
   {
    "duration": 10,
    "start_time": "2025-02-18T23:57:36.743Z"
   },
   {
    "duration": 5,
    "start_time": "2025-02-18T23:57:53.954Z"
   },
   {
    "duration": 4,
    "start_time": "2025-02-18T23:58:06.574Z"
   },
   {
    "duration": 5,
    "start_time": "2025-02-18T23:58:21.717Z"
   },
   {
    "duration": 8,
    "start_time": "2025-02-18T23:58:51.398Z"
   },
   {
    "duration": 2,
    "start_time": "2025-02-18T23:59:16.562Z"
   },
   {
    "duration": 6,
    "start_time": "2025-02-18T23:59:40.040Z"
   },
   {
    "duration": 134,
    "start_time": "2025-02-18T23:59:56.696Z"
   },
   {
    "duration": 139,
    "start_time": "2025-02-19T00:00:24.075Z"
   },
   {
    "duration": 139,
    "start_time": "2025-02-19T00:02:13.175Z"
   },
   {
    "duration": 162,
    "start_time": "2025-02-19T00:02:46.730Z"
   },
   {
    "duration": 79,
    "start_time": "2025-02-19T00:08:58.832Z"
   },
   {
    "duration": 77,
    "start_time": "2025-02-19T00:09:32.919Z"
   },
   {
    "duration": 72,
    "start_time": "2025-02-19T00:10:18.571Z"
   },
   {
    "duration": 194,
    "start_time": "2025-02-19T00:14:34.542Z"
   },
   {
    "duration": 190,
    "start_time": "2025-02-19T00:14:41.641Z"
   },
   {
    "duration": 4,
    "start_time": "2025-02-19T00:14:57.045Z"
   },
   {
    "duration": 202,
    "start_time": "2025-02-19T00:15:05.858Z"
   },
   {
    "duration": 478,
    "start_time": "2025-02-19T00:15:54.641Z"
   },
   {
    "duration": 551,
    "start_time": "2025-02-19T00:16:41.692Z"
   },
   {
    "duration": 556,
    "start_time": "2025-02-19T00:16:50.101Z"
   },
   {
    "duration": 77,
    "start_time": "2025-02-19T00:24:30.918Z"
   },
   {
    "duration": 75,
    "start_time": "2025-02-19T00:25:27.428Z"
   }
  ],
  "kernelspec": {
   "display_name": "Python [conda env:base] *",
   "language": "python",
   "name": "conda-base-py"
  },
  "language_info": {
   "codemirror_mode": {
    "name": "ipython",
    "version": 3
   },
   "file_extension": ".py",
   "mimetype": "text/x-python",
   "name": "python",
   "nbconvert_exporter": "python",
   "pygments_lexer": "ipython3",
   "version": "3.12.7"
  },
  "toc": {
   "base_numbering": 1,
   "nav_menu": {},
   "number_sections": true,
   "sideBar": true,
   "skip_h1_title": true,
   "title_cell": "Table of Contents",
   "title_sidebar": "Contents",
   "toc_cell": false,
   "toc_position": {},
   "toc_section_display": true,
   "toc_window_display": false
  }
 },
 "nbformat": 4,
 "nbformat_minor": 5
}
