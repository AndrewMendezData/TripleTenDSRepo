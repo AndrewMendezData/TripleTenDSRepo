{
 "cells": [
  {
   "cell_type": "markdown",
   "metadata": {},
   "source": [
    "# EDA: Taxi Rides in Chicago"
   ]
  },
  {
   "cell_type": "markdown",
   "metadata": {},
   "source": [
    "<div style=\"border: 2px solid black; padding: 10px; margin: 10px\">\n",
    "\n",
    "The intention of this analysis is to provide insight on customer preference in terms of ride-sharing company and the impact of external factors on rides. We want to uncover patterns in this data and analyze competitors performance by testing hypotheses regarding the impact of weather on ride frequency.\n",
    "\n",
    "</div>"
   ]
  },
  {
   "cell_type": "markdown",
   "metadata": {},
   "source": [
    " "
   ]
  },
  {
   "cell_type": "markdown",
   "metadata": {},
   "source": [
    " "
   ]
  },
  {
   "cell_type": "markdown",
   "metadata": {},
   "source": [
    "## Packages & Libraries"
   ]
  },
  {
   "cell_type": "code",
   "execution_count": 6,
   "metadata": {},
   "outputs": [],
   "source": [
    "# Importing required packages and libraries\n",
    "\n",
    "import pandas as pd\n",
    "import matplotlib.pyplot as plt\n",
    "from scipy.stats import ttest_ind"
   ]
  },
  {
   "cell_type": "markdown",
   "metadata": {},
   "source": [
    " "
   ]
  },
  {
   "cell_type": "markdown",
   "metadata": {},
   "source": [
    " "
   ]
  },
  {
   "cell_type": "markdown",
   "metadata": {},
   "source": [
    "### Primary Data Processing: doc1"
   ]
  },
  {
   "cell_type": "markdown",
   "metadata": {},
   "source": [
    "#### Import & Preview"
   ]
  },
  {
   "cell_type": "code",
   "execution_count": 11,
   "metadata": {},
   "outputs": [],
   "source": [
    "# Importing first CSV file (1/2)\n",
    "\n",
    "doc1 = pd.read_csv('sql_project_1.csv')"
   ]
  },
  {
   "cell_type": "code",
   "execution_count": 12,
   "metadata": {},
   "outputs": [
    {
     "name": "stdout",
     "output_type": "stream",
     "text": [
      "                      company_name  trips_amount\n",
      "0                        Flash Cab         19558\n",
      "1        Taxi Affiliation Services         11422\n",
      "2                 Medallion Leasin         10367\n",
      "3                       Yellow Cab          9888\n",
      "4  Taxi Affiliation Service Yellow          9299\n"
     ]
    }
   ],
   "source": [
    "# Viewing first five rows to preview data\n",
    "\n",
    "print(doc1.head())"
   ]
  },
  {
   "cell_type": "markdown",
   "metadata": {},
   "source": [
    "<div style=\"border: 2px solid black; padding: 10px; margin: 10px\">\n",
    "\n",
    "At first glance, doc1 contains two columns, \"company_name\" and \"trips_amount\".<br>\n",
    "Nothing standing out as out of the ordinary or formatted incorrectly.\n",
    "\n",
    "</div>"
   ]
  },
  {
   "cell_type": "markdown",
   "metadata": {},
   "source": [
    " "
   ]
  },
  {
   "cell_type": "markdown",
   "metadata": {},
   "source": [
    "#### Column Label Validation"
   ]
  },
  {
   "cell_type": "code",
   "execution_count": 16,
   "metadata": {},
   "outputs": [
    {
     "data": {
      "text/plain": [
       "Index(['company_name', 'trips_amount'], dtype='object')"
      ]
     },
     "execution_count": 16,
     "metadata": {},
     "output_type": "execute_result"
    }
   ],
   "source": [
    "# Printing column labels to validate formatting\n",
    "\n",
    "doc1.columns"
   ]
  },
  {
   "cell_type": "markdown",
   "metadata": {},
   "source": [
    "<div style=\"border: 2px solid black; padding: 10px; margin: 10px\">\n",
    "\n",
    "No unnecessary spaces, all lowercase and in proper format.\n",
    "\n",
    "</div>"
   ]
  },
  {
   "cell_type": "markdown",
   "metadata": {},
   "source": [
    " "
   ]
  },
  {
   "cell_type": "markdown",
   "metadata": {},
   "source": [
    "#### Calling info()"
   ]
  },
  {
   "cell_type": "code",
   "execution_count": 20,
   "metadata": {},
   "outputs": [
    {
     "name": "stdout",
     "output_type": "stream",
     "text": [
      "<class 'pandas.core.frame.DataFrame'>\n",
      "RangeIndex: 64 entries, 0 to 63\n",
      "Data columns (total 2 columns):\n",
      " #   Column        Non-Null Count  Dtype \n",
      "---  ------        --------------  ----- \n",
      " 0   company_name  64 non-null     object\n",
      " 1   trips_amount  64 non-null     int64 \n",
      "dtypes: int64(1), object(1)\n",
      "memory usage: 1.1+ KB\n"
     ]
    }
   ],
   "source": [
    "# Printing info() for doc1\n",
    "\n",
    "doc1.info()"
   ]
  },
  {
   "cell_type": "markdown",
   "metadata": {},
   "source": [
    "<div style=\"border: 2px solid black; padding: 10px; margin: 10px\">\n",
    "\n",
    "After viewing info() on 'doc1', we're seeing no NULL values.<br>\n",
    "Data types are also appropriate for the data they're representing.\n",
    "\n",
    "</div>"
   ]
  },
  {
   "cell_type": "markdown",
   "metadata": {},
   "source": [
    " "
   ]
  },
  {
   "cell_type": "markdown",
   "metadata": {},
   "source": [
    "#### Checking for Duplicates"
   ]
  },
  {
   "cell_type": "code",
   "execution_count": 24,
   "metadata": {},
   "outputs": [
    {
     "data": {
      "text/plain": [
       "0"
      ]
     },
     "execution_count": 24,
     "metadata": {},
     "output_type": "execute_result"
    }
   ],
   "source": [
    "# Checking for duplicates\n",
    "\n",
    "doc1.duplicated().sum()"
   ]
  },
  {
   "cell_type": "markdown",
   "metadata": {},
   "source": [
    "<div style=\"border: 2px solid black; padding: 10px; margin: 10px\">\n",
    "\n",
    "No duplicates present in 'doc1'\n",
    "\n",
    "</div>"
   ]
  },
  {
   "cell_type": "markdown",
   "metadata": {},
   "source": [
    " "
   ]
  },
  {
   "cell_type": "markdown",
   "metadata": {},
   "source": [
    " "
   ]
  },
  {
   "cell_type": "markdown",
   "metadata": {},
   "source": [
    "### Primary Data Processing: doc2"
   ]
  },
  {
   "cell_type": "markdown",
   "metadata": {},
   "source": [
    "#### Import & Preview"
   ]
  },
  {
   "cell_type": "code",
   "execution_count": 30,
   "metadata": {},
   "outputs": [],
   "source": [
    "# Importing second CSV file (2/2)\n",
    "\n",
    "doc2 = pd.read_csv('sql_project_2.csv')"
   ]
  },
  {
   "cell_type": "code",
   "execution_count": 31,
   "metadata": {},
   "outputs": [
    {
     "name": "stdout",
     "output_type": "stream",
     "text": [
      "  dropoff_location_name  average_trips\n",
      "0                  Loop   10727.466667\n",
      "1           River North    9523.666667\n",
      "2         Streeterville    6664.666667\n",
      "3             West Loop    5163.666667\n",
      "4                O'Hare    2546.900000\n"
     ]
    }
   ],
   "source": [
    "# Viewing first five rows to preview data\n",
    "\n",
    "print(doc2.head())"
   ]
  },
  {
   "cell_type": "markdown",
   "metadata": {},
   "source": [
    "<div style=\"border: 2px solid black; padding: 10px; margin: 10px\">\n",
    "\n",
    "At first glance, doc2 contains two columns, \"dropoff_location_name\" and \"average_trips\".<br>\n",
    "No significant discrepancies in formatting present.\n",
    "\n",
    "</div>"
   ]
  },
  {
   "cell_type": "markdown",
   "metadata": {},
   "source": [
    " "
   ]
  },
  {
   "cell_type": "markdown",
   "metadata": {},
   "source": [
    "#### Column Label Validation"
   ]
  },
  {
   "cell_type": "code",
   "execution_count": 35,
   "metadata": {},
   "outputs": [
    {
     "data": {
      "text/plain": [
       "Index(['dropoff_location_name', 'average_trips'], dtype='object')"
      ]
     },
     "execution_count": 35,
     "metadata": {},
     "output_type": "execute_result"
    }
   ],
   "source": [
    "# Printing column labels to validate formatting\n",
    "\n",
    "doc2.columns"
   ]
  },
  {
   "cell_type": "markdown",
   "metadata": {},
   "source": [
    "<div style=\"border: 2px solid black; padding: 10px; margin: 10px\">\n",
    "\n",
    "No unnecessary spaces, all lowercase and in proper format.\n",
    "\n",
    "</div>"
   ]
  },
  {
   "cell_type": "markdown",
   "metadata": {},
   "source": [
    " "
   ]
  },
  {
   "cell_type": "markdown",
   "metadata": {},
   "source": [
    "#### Calling info()"
   ]
  },
  {
   "cell_type": "code",
   "execution_count": 39,
   "metadata": {},
   "outputs": [
    {
     "name": "stdout",
     "output_type": "stream",
     "text": [
      "<class 'pandas.core.frame.DataFrame'>\n",
      "RangeIndex: 94 entries, 0 to 93\n",
      "Data columns (total 2 columns):\n",
      " #   Column                 Non-Null Count  Dtype  \n",
      "---  ------                 --------------  -----  \n",
      " 0   dropoff_location_name  94 non-null     object \n",
      " 1   average_trips          94 non-null     float64\n",
      "dtypes: float64(1), object(1)\n",
      "memory usage: 1.6+ KB\n"
     ]
    }
   ],
   "source": [
    "# Printing info() for doc2\n",
    "\n",
    "doc2.info()"
   ]
  },
  {
   "cell_type": "markdown",
   "metadata": {},
   "source": [
    "<div style=\"border: 2px solid black; padding: 10px; margin: 10px\">\n",
    "\n",
    "After viewing info() on 'doc2', we're also seeing no NULL values.<br>\n",
    "Data types are also appropriate for the data they're representing.\n",
    "\n",
    "</div>"
   ]
  },
  {
   "cell_type": "markdown",
   "metadata": {},
   "source": [
    " "
   ]
  },
  {
   "cell_type": "markdown",
   "metadata": {},
   "source": [
    "#### Checking for Duplicates"
   ]
  },
  {
   "cell_type": "code",
   "execution_count": 43,
   "metadata": {},
   "outputs": [
    {
     "data": {
      "text/plain": [
       "0"
      ]
     },
     "execution_count": 43,
     "metadata": {},
     "output_type": "execute_result"
    }
   ],
   "source": [
    "# Checking for duplicates\n",
    "\n",
    "doc2.duplicated().sum()"
   ]
  },
  {
   "cell_type": "markdown",
   "metadata": {},
   "source": [
    "<div style=\"border: 2px solid black; padding: 10px; margin: 10px\">\n",
    "\n",
    "No duplicates present in 'doc2'\n",
    "\n",
    "</div>"
   ]
  },
  {
   "cell_type": "markdown",
   "metadata": {},
   "source": [
    " "
   ]
  },
  {
   "cell_type": "markdown",
   "metadata": {},
   "source": [
    " "
   ]
  },
  {
   "cell_type": "markdown",
   "metadata": {},
   "source": [
    "## Analysis"
   ]
  },
  {
   "cell_type": "markdown",
   "metadata": {},
   "source": [
    "### Top 10 Companies"
   ]
  },
  {
   "cell_type": "code",
   "execution_count": 49,
   "metadata": {},
   "outputs": [
    {
     "data": {
      "image/png": "[encoded data removed]",
      "text/plain": [
       "<Figure size 1000x600 with 1 Axes>"
      ]
     },
     "metadata": {},
     "output_type": "display_data"
    }
   ],
   "source": [
    "# Top 10 Companies with the most trips\n",
    "\n",
    "# Sorting values descending to extract top 10\n",
    "doc1_sorted = doc1.sort_values('trips_amount', ascending=False)\n",
    "\n",
    "# Splitting data to include only top 10\n",
    "doc1_top10 = doc1_sorted.head(10)\n",
    "\n",
    "# Setting variables to Categories & Values of the bar chart\n",
    "cats = doc1_top10['company_name']\n",
    "vals = doc1_top10['trips_amount']\n",
    "\n",
    "# Setting customizations for the chart\n",
    "plt.figure(figsize=(10, 6))\n",
    "bars1 = plt.barh(cats, vals, color='darkgoldenrod')\n",
    "plt.title('Top 10 Companies')\n",
    "plt.xlabel('Number of Trips')\n",
    "plt.ylabel('Company')\n",
    "plt.grid(axis='both', alpha=0.3)\n",
    "\n",
    "# Inverting y-axis for better readability\n",
    "plt.gca().invert_yaxis()\n",
    "\n",
    "# Adding labels to bars\n",
    "for bar in bars1:\n",
    "    width = bar.get_width()\n",
    "    plt.text(width - 0.02 * width, bar.get_y() + bar.get_height()/2, f'{width:,.0f}', \n",
    "             ha='right', va='center', fontsize=10, color='white')\n",
    "\n",
    "plt.show()"
   ]
  },
  {
   "cell_type": "markdown",
   "metadata": {},
   "source": [
    "<div style=\"border: 2px solid black; padding: 10px; margin: 10px\">\n",
    "\n",
    "We're seeing one clear company that is utilized for almost twice the amount of the second place company: \"Flash Cab\" leads the top 10 with 19,558 trips between Nov. 15 and 16, 2017. \n",
    "\n",
    "</div>"
   ]
  },
  {
   "cell_type": "markdown",
   "metadata": {},
   "source": [
    " "
   ]
  },
  {
   "cell_type": "markdown",
   "metadata": {},
   "source": [
    " "
   ]
  },
  {
   "cell_type": "markdown",
   "metadata": {},
   "source": [
    "### Top 10 Dropoff Locations"
   ]
  },
  {
   "cell_type": "code",
   "execution_count": 54,
   "metadata": {},
   "outputs": [
    {
     "data": {
      "image/png": "[encoded data removed]",
      "text/plain": [
       "<Figure size 1000x600 with 1 Axes>"
      ]
     },
     "metadata": {},
     "output_type": "display_data"
    }
   ],
   "source": [
    "# Top 10 Dropoff Locations\n",
    "\n",
    "# Sorting values descending to extract top 10\n",
    "doc2_sorted = doc2.sort_values('average_trips', ascending=False)\n",
    "\n",
    "# Splitting data to include only top 10\n",
    "doc2_top10 = doc2_sorted.head(10)\n",
    "\n",
    "# Setting variables to Categories & Values of the bar chart\n",
    "cats = doc2_top10['dropoff_location_name']\n",
    "vals = doc2_top10['average_trips']\n",
    "\n",
    "# Setting customizations for the chart\n",
    "plt.figure(figsize=(10, 6))\n",
    "bars2 = plt.barh(cats, vals, color='olivedrab')\n",
    "plt.title('Average Trips for Top 10 Dropoff Locations')\n",
    "plt.xlabel('Average Trips')\n",
    "plt.ylabel('Dropoff Location')\n",
    "plt.grid(axis='both', alpha=0.3)\n",
    "\n",
    "# Inverting y-axis for better readability\n",
    "plt.gca().invert_yaxis()\n",
    "\n",
    "# Adding labels to bars\n",
    "for bar in bars2:\n",
    "    width = bar.get_width()\n",
    "    plt.text(width - 0.02 * width, bar.get_y() + bar.get_height()/2, f'{width:,.0f}', \n",
    "             ha='right', va='center', fontsize=10, color='white')\n",
    "\n",
    "plt.show()"
   ]
  },
  {
   "cell_type": "markdown",
   "metadata": {},
   "source": [
    "<div style=\"border: 2px solid black; padding: 10px; margin: 10px\">\n",
    "\n",
    "This bar chart is displaying the Top 10 Dropoff Locations from our dataset. The \"Loop\" and \"River North\" are the chosen the most as dropoff locations. \"Streeterville\" and \"West Loop\" are the second two most requested dropoff locations and after that the occurrences decrease substantially.  \n",
    "\n",
    "</div>"
   ]
  },
  {
   "cell_type": "markdown",
   "metadata": {},
   "source": [
    " "
   ]
  },
  {
   "cell_type": "markdown",
   "metadata": {},
   "source": [
    " "
   ]
  },
  {
   "cell_type": "markdown",
   "metadata": {},
   "source": [
    "### Visualizations Summary"
   ]
  },
  {
   "cell_type": "markdown",
   "metadata": {},
   "source": [
    "<div style=\"border: 2px solid black; padding: 10px; margin: 10px\">\n",
    "\n",
    "Based on both visualizations above, we can tell that customers are partial to \"Flash Cab\" as their preferred ride-sharing company. We're also seeing the \"Loop\" and \"River North\" as the most frequented dropoff locations: is this due to their centralized locations in downtown Chicago or do they simply have more accessibility when there's inclement weather? Further investigation will help us answer these questions.\n",
    "\n",
    "</div>"
   ]
  },
  {
   "cell_type": "markdown",
   "metadata": {},
   "source": [
    " "
   ]
  },
  {
   "cell_type": "markdown",
   "metadata": {},
   "source": [
    " "
   ]
  },
  {
   "cell_type": "markdown",
   "metadata": {},
   "source": [
    "## Hypothesis Testing"
   ]
  },
  {
   "cell_type": "markdown",
   "metadata": {},
   "source": [
    "### Primary Data Processing: doc3"
   ]
  },
  {
   "cell_type": "markdown",
   "metadata": {},
   "source": [
    "#### Import & Preview"
   ]
  },
  {
   "cell_type": "code",
   "execution_count": 65,
   "metadata": {},
   "outputs": [],
   "source": [
    "# Introducing a third dataset with specified data on rides from the \"Loop\" to O'Hare International Airport\n",
    "\n",
    "doc3 = pd.read_csv('sql_project_3.csv')"
   ]
  },
  {
   "cell_type": "code",
   "execution_count": 66,
   "metadata": {},
   "outputs": [
    {
     "name": "stdout",
     "output_type": "stream",
     "text": [
      "              start_ts weather_conditions  duration_seconds\n",
      "0  2017-11-25 16:00:00               Good            2410.0\n",
      "1  2017-11-25 14:00:00               Good            1920.0\n",
      "2  2017-11-25 12:00:00               Good            1543.0\n",
      "3  2017-11-04 10:00:00               Good            2512.0\n",
      "4  2017-11-11 07:00:00               Good            1440.0\n"
     ]
    }
   ],
   "source": [
    "# Viewing first five rows to preview data\n",
    "\n",
    "print(doc3.head())"
   ]
  },
  {
   "cell_type": "markdown",
   "metadata": {},
   "source": [
    "<div style=\"border: 2px solid black; padding: 10px; margin: 10px\">\n",
    "\n",
    "At first glance, doc3 contains three columns, \"start_ts\", \"weather_conditions\", \"duration_seconds\".<br>\n",
    "No significant discrepancies in formatting present.\n",
    "\n",
    "</div>"
   ]
  },
  {
   "cell_type": "markdown",
   "metadata": {},
   "source": [
    " "
   ]
  },
  {
   "cell_type": "markdown",
   "metadata": {},
   "source": [
    "#### Column Label Validation"
   ]
  },
  {
   "cell_type": "code",
   "execution_count": 70,
   "metadata": {},
   "outputs": [
    {
     "data": {
      "text/plain": [
       "Index(['start_ts', 'weather_conditions', 'duration_seconds'], dtype='object')"
      ]
     },
     "execution_count": 70,
     "metadata": {},
     "output_type": "execute_result"
    }
   ],
   "source": [
    "# Printing column labels to validate formatting\n",
    "\n",
    "doc3.columns"
   ]
  },
  {
   "cell_type": "markdown",
   "metadata": {},
   "source": [
    "<div style=\"border: 2px solid black; padding: 10px; margin: 10px\">\n",
    "\n",
    "No unnecessary spaces, all lowercase and in proper format.\n",
    "\n",
    "</div>"
   ]
  },
  {
   "cell_type": "markdown",
   "metadata": {},
   "source": [
    " "
   ]
  },
  {
   "cell_type": "markdown",
   "metadata": {},
   "source": [
    "#### Calling info()"
   ]
  },
  {
   "cell_type": "code",
   "execution_count": 74,
   "metadata": {},
   "outputs": [
    {
     "name": "stdout",
     "output_type": "stream",
     "text": [
      "<class 'pandas.core.frame.DataFrame'>\n",
      "RangeIndex: 1068 entries, 0 to 1067\n",
      "Data columns (total 3 columns):\n",
      " #   Column              Non-Null Count  Dtype  \n",
      "---  ------              --------------  -----  \n",
      " 0   start_ts            1068 non-null   object \n",
      " 1   weather_conditions  1068 non-null   object \n",
      " 2   duration_seconds    1068 non-null   float64\n",
      "dtypes: float64(1), object(2)\n",
      "memory usage: 25.2+ KB\n"
     ]
    }
   ],
   "source": [
    "# Printing info() for doc3\n",
    "\n",
    "doc3.info()"
   ]
  },
  {
   "cell_type": "markdown",
   "metadata": {},
   "source": [
    "<div style=\"border: 2px solid black; padding: 10px; margin: 10px\">\n",
    "\n",
    "After viewing info() on 'doc3', we're seeing no NULL values.<br>\n",
    "Data types are appropriate for \"weather_conditions\" and \"duration_seconds\".<br>\n",
    "\"start_ts\" looks to be a timestamp but has the datatype as \"object\", this will need to be adjusted.\n",
    "\n",
    "</div>"
   ]
  },
  {
   "cell_type": "markdown",
   "metadata": {},
   "source": [
    " "
   ]
  },
  {
   "cell_type": "markdown",
   "metadata": {},
   "source": [
    "#### Converting to Datetime"
   ]
  },
  {
   "cell_type": "code",
   "execution_count": 78,
   "metadata": {},
   "outputs": [],
   "source": [
    "# Converting \"start_ts\" column to 'datetime' format\n",
    "\n",
    "doc3['start_ts'] = pd.to_datetime(doc3['start_ts'], format='%Y-%m-%d %H:%M:%S')"
   ]
  },
  {
   "cell_type": "code",
   "execution_count": 79,
   "metadata": {},
   "outputs": [
    {
     "name": "stdout",
     "output_type": "stream",
     "text": [
      "<class 'pandas.core.frame.DataFrame'>\n",
      "RangeIndex: 1068 entries, 0 to 1067\n",
      "Data columns (total 3 columns):\n",
      " #   Column              Non-Null Count  Dtype         \n",
      "---  ------              --------------  -----         \n",
      " 0   start_ts            1068 non-null   datetime64[ns]\n",
      " 1   weather_conditions  1068 non-null   object        \n",
      " 2   duration_seconds    1068 non-null   float64       \n",
      "dtypes: datetime64[ns](1), float64(1), object(1)\n",
      "memory usage: 25.2+ KB\n"
     ]
    }
   ],
   "source": [
    "# Validating changes have been made to doc3['start_ts']\n",
    "\n",
    "doc3.info()"
   ]
  },
  {
   "cell_type": "markdown",
   "metadata": {},
   "source": [
    " "
   ]
  },
  {
   "cell_type": "markdown",
   "metadata": {},
   "source": [
    "#### Checking for Duplicates"
   ]
  },
  {
   "cell_type": "code",
   "execution_count": 82,
   "metadata": {},
   "outputs": [
    {
     "data": {
      "text/plain": [
       "False    871\n",
       "True     197\n",
       "Name: count, dtype: int64"
      ]
     },
     "execution_count": 82,
     "metadata": {},
     "output_type": "execute_result"
    }
   ],
   "source": [
    "# Checking for duplicates\n",
    "\n",
    "doc3.duplicated().value_counts()"
   ]
  },
  {
   "cell_type": "markdown",
   "metadata": {},
   "source": [
    "<div style=\"border: 2px solid black; padding: 10px; margin: 10px\">\n",
    "\n",
    "Duplicates present in doc3.<br>\n",
    "This is to be expected since for our 'weather_conditions' column we only have values of 'Good' or 'Bad'.\n",
    "\n",
    "</div>"
   ]
  },
  {
   "cell_type": "markdown",
   "metadata": {},
   "source": [
    " "
   ]
  },
  {
   "cell_type": "markdown",
   "metadata": {},
   "source": [
    "### Hypothesis Formulation"
   ]
  },
  {
   "cell_type": "markdown",
   "metadata": {},
   "source": [
    "<div style=\"border: 2px solid black; padding: 10px; margin: 10px\">\n",
    "\n",
    "**Null Hypothesis:**<br>\n",
    "There is no change in the average duration of rides from the Loop to O'Hare International Airport on rainy Saturdays.<br>\n",
    "\n",
    "**Alternate Hypothesis:**<br>\n",
    "The average duration of rides from the Loop to O'Hard International Airport changes on rainy Saturdays.<br>\n",
    "\n",
    "Significance Level (Alpha): **<u>0.05</u>**<br>\n",
    "(Choosing this alpha accepting a 5% risk for error in incorrectly rejecting the Null.)\n",
    "\n",
    "</div>"
   ]
  },
  {
   "cell_type": "markdown",
   "metadata": {},
   "source": [
    " "
   ]
  },
  {
   "cell_type": "markdown",
   "metadata": {},
   "source": [
    "<div style=\"border: 2px solid black; padding: 10px; margin: 10px\">\n",
    "\n",
    "<u>To test these hypotheses, we need to</u>:\n",
    "* Isolate our date range to Saturdays\n",
    "* Extract the weather conditions for rainy weather only\n",
    "\n",
    "</div>"
   ]
  },
  {
   "cell_type": "code",
   "execution_count": 89,
   "metadata": {},
   "outputs": [],
   "source": [
    "# Filtering data for only Saturdays and 'Bad' weather conditions\n",
    "\n",
    "# Filtering df to include only entries on Saturday & Bad weather\n",
    "doc3_sats_bad = doc3[(doc3['start_ts'].dt.weekday == 5) & (doc3['weather_conditions'] == 'Bad')]\n",
    "\n",
    "# Filtering for all other values that are *not* Saturday & Bad weather\n",
    "doc3_all_other = doc3[~((doc3['start_ts'].dt.weekday == 5) & (doc3['weather_conditions'] == 'Bad'))]"
   ]
  },
  {
   "cell_type": "code",
   "execution_count": 90,
   "metadata": {},
   "outputs": [
    {
     "name": "stdout",
     "output_type": "stream",
     "text": [
      "T-Stat: 6.946177714041499, p-Value: 6.517970327099473e-12\n",
      "\n",
      "Reject the Null: There is a change in the average duration of rides from the Loop to O'Hare on rainy Saturdays.\n"
     ]
    }
   ],
   "source": [
    "# Setting up and running the test for the Null Hypothesis\n",
    "\n",
    "t_stat, p_value = ttest_ind(doc3_sats_bad['duration_seconds'], doc3_all_other['duration_seconds'], nan_policy='omit')\n",
    "\n",
    "# Setting alpha threshold\n",
    "alpha = 0.05\n",
    "\n",
    "# Printing t-Stat & p-Value\n",
    "print(f\"T-Stat: {t_stat}, p-Value: {p_value}\")\n",
    "print()\n",
    "\n",
    "# Results interpretation\n",
    "if p_value < alpha:\n",
    "    print(\"Reject the Null: There is a change in the average duration of rides from the Loop to O'Hare on rainy Saturdays.\")\n",
    "else:\n",
    "    print(\"Fail to reject the Null: There is no significant difference in average ride duration from the Loop to O'Hare on rainy Saturdays.\")"
   ]
  },
  {
   "cell_type": "markdown",
   "metadata": {},
   "source": [
    " "
   ]
  },
  {
   "cell_type": "markdown",
   "metadata": {},
   "source": [
    " "
   ]
  },
  {
   "cell_type": "markdown",
   "metadata": {},
   "source": [
    "## Insights & Conclusions"
   ]
  },
  {
   "cell_type": "markdown",
   "metadata": {},
   "source": [
    "<div style=\"border: 2px solid black; padding: 10px; margin: 10px\">\n",
    "\n",
    "After analysis of the data on most popular dropoff locations and rideshare companies, we can narrow our focus on **Flash Cab** and the dropoff locations of the **Loop** and **River North**. Further investigation should be conducted to the infrastructure and business model that **Flash Cab** utilizes as this seems to be successful and effective in the Chicago market. It would benefit greatly for a <u>new</u> rideshare company to include the **Loop** and **River North** dropoff points in their service.\n",
    "\n",
    "In terms of our hypothesis testing regarding weather and ride duration, it appears that with inclement weather, ride duration is different than in typical weather conditions. We can **reject** the Null Hypothesis and measure a statistically significant result between ride duration and bad weather. Research and Development for any new rideshare company should be exploring options that can ease or enhance the customer experience using their company during times of bad weather. Paying close attention to this would definitely set them apart from competitors and help increase revenue.\n",
    "\n",
    "</div>"
   ]
  }
 ],
 "metadata": {
  "ExecuteTimeLog": [
   {
    "duration": 872,
    "start_time": "2025-04-29T23:02:37.076Z"
   },
   {
    "duration": 8,
    "start_time": "2025-04-29T23:02:37.950Z"
   },
   {
    "duration": 5,
    "start_time": "2025-04-29T23:02:37.959Z"
   },
   {
    "duration": 4,
    "start_time": "2025-04-29T23:02:37.966Z"
   },
   {
    "duration": 8,
    "start_time": "2025-04-29T23:02:37.972Z"
   },
   {
    "duration": 4,
    "start_time": "2025-04-29T23:02:37.982Z"
   },
   {
    "duration": 6,
    "start_time": "2025-04-29T23:02:37.988Z"
   },
   {
    "duration": 31,
    "start_time": "2025-04-29T23:02:37.996Z"
   },
   {
    "duration": 5,
    "start_time": "2025-04-29T23:02:38.028Z"
   },
   {
    "duration": 8,
    "start_time": "2025-04-29T23:02:38.034Z"
   },
   {
    "duration": 5,
    "start_time": "2025-04-29T23:02:38.044Z"
   },
   {
    "duration": 215,
    "start_time": "2025-04-29T23:02:38.051Z"
   },
   {
    "duration": 174,
    "start_time": "2025-04-29T23:02:38.268Z"
   },
   {
    "duration": 8,
    "start_time": "2025-04-29T23:02:38.445Z"
   },
   {
    "duration": 6,
    "start_time": "2025-04-29T23:02:38.456Z"
   },
   {
    "duration": 6,
    "start_time": "2025-04-29T23:02:38.464Z"
   },
   {
    "duration": 2,
    "start_time": "2025-04-29T23:02:38.472Z"
   },
   {
    "duration": 351,
    "start_time": "2025-04-29T23:02:38.477Z"
   },
   {
    "duration": 0,
    "start_time": "2025-04-29T23:02:38.830Z"
   },
   {
    "duration": 0,
    "start_time": "2025-04-29T23:02:38.831Z"
   },
   {
    "duration": 0,
    "start_time": "2025-04-29T23:02:38.832Z"
   },
   {
    "duration": 0,
    "start_time": "2025-04-29T23:02:38.833Z"
   },
   {
    "duration": 0,
    "start_time": "2025-04-29T23:02:38.834Z"
   },
   {
    "duration": 204,
    "start_time": "2025-04-30T18:22:38.739Z"
   },
   {
    "duration": 2719,
    "start_time": "2025-04-30T18:22:52.428Z"
   },
   {
    "duration": 11,
    "start_time": "2025-04-30T18:22:55.149Z"
   },
   {
    "duration": 5,
    "start_time": "2025-04-30T18:22:55.161Z"
   },
   {
    "duration": 4,
    "start_time": "2025-04-30T18:22:55.168Z"
   },
   {
    "duration": 8,
    "start_time": "2025-04-30T18:22:55.173Z"
   },
   {
    "duration": 4,
    "start_time": "2025-04-30T18:22:55.183Z"
   },
   {
    "duration": 47,
    "start_time": "2025-04-30T18:22:55.189Z"
   },
   {
    "duration": 6,
    "start_time": "2025-04-30T18:22:55.237Z"
   },
   {
    "duration": 4,
    "start_time": "2025-04-30T18:22:55.244Z"
   },
   {
    "duration": 8,
    "start_time": "2025-04-30T18:22:55.251Z"
   },
   {
    "duration": 4,
    "start_time": "2025-04-30T18:22:55.260Z"
   },
   {
    "duration": 243,
    "start_time": "2025-04-30T18:22:55.265Z"
   },
   {
    "duration": 182,
    "start_time": "2025-04-30T18:22:55.510Z"
   },
   {
    "duration": 10,
    "start_time": "2025-04-30T18:22:55.694Z"
   },
   {
    "duration": 29,
    "start_time": "2025-04-30T18:22:55.706Z"
   },
   {
    "duration": 4,
    "start_time": "2025-04-30T18:22:55.740Z"
   },
   {
    "duration": 3,
    "start_time": "2025-04-30T18:22:55.746Z"
   },
   {
    "duration": 19,
    "start_time": "2025-04-30T18:22:55.750Z"
   },
   {
    "duration": 4,
    "start_time": "2025-04-30T18:22:55.771Z"
   },
   {
    "duration": 8,
    "start_time": "2025-04-30T18:22:55.776Z"
   },
   {
    "duration": 8,
    "start_time": "2025-04-30T18:22:55.786Z"
   },
   {
    "duration": 5,
    "start_time": "2025-04-30T18:22:55.795Z"
   },
   {
    "duration": 4,
    "start_time": "2025-04-30T18:22:55.802Z"
   },
   {
    "duration": 12,
    "start_time": "2025-04-30T18:23:05.107Z"
   },
   {
    "duration": 759,
    "start_time": "2025-04-30T18:30:35.729Z"
   },
   {
    "duration": 7,
    "start_time": "2025-04-30T18:30:36.491Z"
   },
   {
    "duration": 12,
    "start_time": "2025-04-30T18:30:36.499Z"
   },
   {
    "duration": 4,
    "start_time": "2025-04-30T18:30:36.513Z"
   },
   {
    "duration": 8,
    "start_time": "2025-04-30T18:30:36.519Z"
   },
   {
    "duration": 5,
    "start_time": "2025-04-30T18:30:36.528Z"
   },
   {
    "duration": 6,
    "start_time": "2025-04-30T18:30:36.534Z"
   },
   {
    "duration": 3,
    "start_time": "2025-04-30T18:30:36.542Z"
   },
   {
    "duration": 4,
    "start_time": "2025-04-30T18:30:36.547Z"
   },
   {
    "duration": 8,
    "start_time": "2025-04-30T18:30:36.552Z"
   },
   {
    "duration": 5,
    "start_time": "2025-04-30T18:30:36.562Z"
   },
   {
    "duration": 248,
    "start_time": "2025-04-30T18:30:36.568Z"
   },
   {
    "duration": 168,
    "start_time": "2025-04-30T18:30:36.818Z"
   },
   {
    "duration": 6,
    "start_time": "2025-04-30T18:30:36.989Z"
   },
   {
    "duration": 4,
    "start_time": "2025-04-30T18:30:36.997Z"
   },
   {
    "duration": 4,
    "start_time": "2025-04-30T18:30:37.011Z"
   },
   {
    "duration": 3,
    "start_time": "2025-04-30T18:30:37.016Z"
   },
   {
    "duration": 343,
    "start_time": "2025-04-30T18:30:37.021Z"
   },
   {
    "duration": 0,
    "start_time": "2025-04-30T18:30:37.366Z"
   },
   {
    "duration": 0,
    "start_time": "2025-04-30T18:30:37.367Z"
   },
   {
    "duration": 0,
    "start_time": "2025-04-30T18:30:37.368Z"
   },
   {
    "duration": 0,
    "start_time": "2025-04-30T18:30:37.369Z"
   },
   {
    "duration": 0,
    "start_time": "2025-04-30T18:30:37.370Z"
   },
   {
    "duration": 4,
    "start_time": "2025-04-30T18:30:56.827Z"
   },
   {
    "duration": 9,
    "start_time": "2025-04-30T18:30:57.415Z"
   },
   {
    "duration": 8,
    "start_time": "2025-04-30T18:30:59.571Z"
   },
   {
    "duration": 6,
    "start_time": "2025-04-30T18:31:03.107Z"
   },
   {
    "duration": 5,
    "start_time": "2025-04-30T18:31:03.539Z"
   },
   {
    "duration": 3,
    "start_time": "2025-04-30T18:31:22.756Z"
   },
   {
    "duration": 6,
    "start_time": "2025-04-30T18:31:22.761Z"
   },
   {
    "duration": 3,
    "start_time": "2025-04-30T18:31:22.769Z"
   },
   {
    "duration": 4,
    "start_time": "2025-04-30T18:31:22.774Z"
   },
   {
    "duration": 7,
    "start_time": "2025-04-30T18:31:22.781Z"
   },
   {
    "duration": 4,
    "start_time": "2025-04-30T18:31:22.790Z"
   },
   {
    "duration": 5,
    "start_time": "2025-04-30T18:31:22.795Z"
   },
   {
    "duration": 3,
    "start_time": "2025-04-30T18:31:22.802Z"
   },
   {
    "duration": 4,
    "start_time": "2025-04-30T18:31:22.806Z"
   },
   {
    "duration": 7,
    "start_time": "2025-04-30T18:31:22.812Z"
   },
   {
    "duration": 4,
    "start_time": "2025-04-30T18:31:22.821Z"
   },
   {
    "duration": 195,
    "start_time": "2025-04-30T18:31:22.826Z"
   },
   {
    "duration": 166,
    "start_time": "2025-04-30T18:31:23.024Z"
   },
   {
    "duration": 5,
    "start_time": "2025-04-30T18:31:23.192Z"
   },
   {
    "duration": 12,
    "start_time": "2025-04-30T18:31:23.199Z"
   },
   {
    "duration": 4,
    "start_time": "2025-04-30T18:31:23.213Z"
   },
   {
    "duration": 3,
    "start_time": "2025-04-30T18:31:23.218Z"
   },
   {
    "duration": 54,
    "start_time": "2025-04-30T18:31:23.222Z"
   },
   {
    "duration": 0,
    "start_time": "2025-04-30T18:31:23.278Z"
   },
   {
    "duration": 0,
    "start_time": "2025-04-30T18:31:23.279Z"
   },
   {
    "duration": 0,
    "start_time": "2025-04-30T18:31:23.281Z"
   },
   {
    "duration": 0,
    "start_time": "2025-04-30T18:31:23.282Z"
   },
   {
    "duration": 0,
    "start_time": "2025-04-30T18:31:23.283Z"
   },
   {
    "duration": 4,
    "start_time": "2025-04-30T18:31:32.815Z"
   },
   {
    "duration": 10,
    "start_time": "2025-04-30T18:31:32.821Z"
   },
   {
    "duration": 6,
    "start_time": "2025-04-30T18:31:32.832Z"
   },
   {
    "duration": 5,
    "start_time": "2025-04-30T18:31:32.839Z"
   },
   {
    "duration": 4,
    "start_time": "2025-04-30T18:31:32.845Z"
   }
  ],
  "kernelspec": {
   "display_name": "Python [conda env:base] *",
   "language": "python",
   "name": "conda-base-py"
  },
  "language_info": {
   "codemirror_mode": {
    "name": "ipython",
    "version": 3
   },
   "file_extension": ".py",
   "mimetype": "text/x-python",
   "name": "python",
   "nbconvert_exporter": "python",
   "pygments_lexer": "ipython3",
   "version": "3.12.7"
  },
  "toc": {
   "base_numbering": 1,
   "nav_menu": {},
   "number_sections": true,
   "sideBar": true,
   "skip_h1_title": true,
   "title_cell": "Table of Contents",
   "title_sidebar": "Contents",
   "toc_cell": false,
   "toc_position": {},
   "toc_section_display": true,
   "toc_window_display": false
  }
 },
 "nbformat": 4,
 "nbformat_minor": 4
}
