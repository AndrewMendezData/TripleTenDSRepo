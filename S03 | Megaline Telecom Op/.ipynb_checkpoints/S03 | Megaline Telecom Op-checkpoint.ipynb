{
 "cells": [
  {
   "cell_type": "markdown",
   "metadata": {},
   "source": [
    "Hello!\n",
    "I'm happy to review your project today.\n",
    "When I will see mistake at the first time, I will just point it out. I let you find it and fix it by\n",
    "yourself. But if you can't handle this task yet, I will give you a more accurate hint at the\n",
    "next iteration.\n",
    "You will find my comments below - please do not move, modify or delete them.\n",
    "You can find my comments in green, yellow or red boxes like this:\n",
    "\n",
    "<div class=\"alert alert-block alert-success\"> <b>Reviewer's comment</b> <a\n",
    "class=\"tocSkip\"></a>\n",
    "Success. Everything is done succesfully. </div>\n",
    "\n",
    "<div class=\"alert alert-block alert-warning\"> <b>Reviewer's comment</b> <a class=\"tocSkip\"></a>\n",
    "Remarks. Some recommendations. </div>\n",
    "\n",
    "<div class=\"alert alert-block alert-danger\">\n",
    "<b>Reviewer's comment</b> <a class=\"tocSkip\"></a>\n",
    "Needs fixing. The block requires some corrections. Work can't be accepted with the red\n",
    "comments. </div>\n",
    "\n",
    "You can answer me by using this: not sue what i can do about putting all the imports in the first cell\n",
    "\n",
    "<div class=\"alert alert-block alert-info\"> <b>Student answer.</b> <a class=\"tocSkip\"></a>\n",
    "</div>\n",
    "\n",
    "\n",
    "\n",
    "**Keep in mind that the project will be accepted only when all the “red” issues are resolved.**"
   ]
  },
  {
   "cell_type": "markdown",
   "metadata": {},
   "source": [
    "<div class=\"alert alert-block alert-success\"> <b>General Feedback</b> <a\n",
    "class=\"tocSkip\"></a>\n",
    "\n",
    "\n",
    "Hi, Andrew\n",
    "    \n",
    "I am happy to review your project today\n",
    "    \n",
    "    \n",
    "There are many things that I like:\n",
    "    \n",
    "- good visualizations\n",
    "- right code for hypotheses testing\n",
    "- nice primary data preprocessing \n",
    "- super function for monthly revenue calculation\n",
    "\n",
    "\n",
    "<div class=\"alert alert-block alert-danger\">\n",
    "<b></b> <a class=\"tocSkip\"></a>\n",
    "There are just few tiny issues- please fix all red comments And correct code for hypotheses testing because now we have an error\n",
    "    \n",
    "</div>\n",
    "    \n",
    "Waiting for a new version"
   ]
  },
  {
   "cell_type": "markdown",
   "metadata": {},
   "source": [
    "<div class=\"alert alert-block alert-success\"> <b>General Feedback v2</b> <a\n",
    "class=\"tocSkip\"></a>\n",
    "\n",
    "\n",
    "Hi, Andrew\n",
    "    \n",
    "Thank you for your corrections\n",
    "    \n",
    "    \n",
    "There are many things that I like:\n",
    "\n",
    "- you fixed main issues and now monthly revenue calculation is correct\n",
    "- you added some information to plan analysis\n",
    "- your code and results for hypotheses testing are correct\n",
    "\n",
    "\n",
    "<div class=\"alert alert-block alert-danger\">\n",
    "<b></b> <a class=\"tocSkip\"></a>\n",
    "There are some details that need to be fixed \n",
    "    \n",
    "- please add boxplots or hystogrames, calculate mean, variance and std for messages, internet and revenue\n",
    "- formulate H0 and H1 for both hypotheses testing\n",
    "    \n",
    "</div>\n",
    "    \n",
    "One more time and you will have it"
   ]
  },
  {
   "cell_type": "markdown",
   "metadata": {},
   "source": [
    "<div class=\"alert alert-block alert-success\"> <b>General Feedback v3</b> <a\n",
    "class=\"tocSkip\"></a>\n",
    "\n",
    "\n",
    "Hi, Andrew\n",
    "    \n",
    "Brilliant project \n",
    "    \n",
    "I am happy to say that your project has been accepted\n",
    "    \n",
    "Keep up good work and good luck for the next sprint\n",
    "    "
   ]
  },
  {
   "cell_type": "markdown",
   "metadata": {},
   "source": [
    "# Which plan brings in the most revenue?\n",
    "\n",
    "You work as an analyst for the telecom operator Megaline. The company offers its clients two prepaid plans, Surf and Ultimate. The commercial department wants to know which of the plans brings in more revenue in order to adjust the advertising budget.\n",
    "\n",
    "You are going to carry out a preliminary analysis of the plans based on a relatively small client selection. You'll have the data on 500 Megaline clients: who the clients are, where they're from, which plan they use, and the number of calls they made and text messages they sent in 2018. Your job is to analyze the clients' behavior and determine which prepaid plan brings in more revenue."
   ]
  },
  {
   "cell_type": "markdown",
   "metadata": {},
   "source": [
    "Personal Note:\n",
    "The plan for this project is to determine which plan brings in the most revenue to adjust the advertising budget.\n",
    "\n",
    "Plan to carry out project:\n",
    "* Find the usage habits for customers on both plans for: calls, internet, messages\n",
    "* Find the relationship between the usage and how much revenue each type generates\n",
    "* Analyze client behavior, which prepaid plan brings in more revenue?"
   ]
  },
  {
   "cell_type": "markdown",
   "metadata": {},
   "source": [
    "# Primary Data Processing"
   ]
  },
  {
   "cell_type": "markdown",
   "metadata": {},
   "source": [
    "## Initialization"
   ]
  },
  {
   "cell_type": "code",
   "execution_count": 9,
   "metadata": {},
   "outputs": [],
   "source": [
    "import pandas as pd\n",
    "import matplotlib.pyplot as plt\n",
    "import seaborn as sns\n",
    "import numpy as np\n",
    "from scipy import stats"
   ]
  },
  {
   "cell_type": "markdown",
   "metadata": {},
   "source": [
    "## Loading Data"
   ]
  },
  {
   "cell_type": "code",
   "execution_count": 11,
   "metadata": {},
   "outputs": [],
   "source": [
    "calls = pd.read_csv('megaline_calls.csv')\n",
    "internet = pd.read_csv('megaline_internet.csv')\n",
    "messages = pd.read_csv('megaline_messages.csv')\n",
    "plans = pd.read_csv('megaline_plans.csv')\n",
    "users = pd.read_csv('megaline_users.csv')"
   ]
  },
  {
   "cell_type": "markdown",
   "metadata": {},
   "source": [
    "<div class=\"alert alert-block alert-danger\">\n",
    "<b>Reviewer's comment</b> <a class=\"tocSkip\"></a>\n",
    "    \n",
    "~~We need to upload files just once~~ </div>"
   ]
  },
  {
   "cell_type": "markdown",
   "metadata": {},
   "source": [
    "<div class=\"alert alert-block alert-info\"> <b>Student Comment.</b> <a class=\"tocSkip\"></a><br>\n",
    "\n",
    "I realize now what 1.1 and 1.2 sections were asking! Not sure why it didn't click at the beginning. All the libraries are imported in the Initialization and \"Load Data\" will include all the data.\n",
    "\n",
    "I went ahead and brought all the libraries up to the top and only loaded the data once in 1.2.\n",
    "\n",
    "</div>"
   ]
  },
  {
   "cell_type": "markdown",
   "metadata": {},
   "source": [
    "<div class=\"alert alert-block alert-success\"> <b>Reviewer's comment v2</b> <a\n",
    "class=\"tocSkip\"></a>\n",
    "Well done We alwais import all libraries in the very begining Like this other person who wants to run you notebook will know what requirements are needed </div>"
   ]
  },
  {
   "cell_type": "markdown",
   "metadata": {},
   "source": [
    "<div class=\"alert alert-block alert-info\"> <b>Student Comment.v2</b> <a class=\"tocSkip\"></a><br>\n",
    "\n",
    "Great to know, thank you!\n",
    "    \n",
    "    \n",
    "</div>"
   ]
  },
  {
   "cell_type": "markdown",
   "metadata": {},
   "source": [
    "<div class=\"alert alert-block alert-info\"> <b>Student Comment.</b> <a class=\"tocSkip\"></a><br>\n",
    "\n",
    "What should have gone in this section?\n",
    "    \n",
    "    \n",
    "</div>"
   ]
  },
  {
   "cell_type": "markdown",
   "metadata": {},
   "source": [
    "<div class=\"alert alert-block alert-success\"> <b>Reviewer's comment v2</b> <a\n",
    "class=\"tocSkip\"></a>\n",
    "    \n",
    "The template gives you general structure of the project If you see that you dont need some section - just remove it"
   ]
  },
  {
   "cell_type": "markdown",
   "metadata": {},
   "source": [
    "<div class=\"alert alert-block alert-info\"> <b>Student Comment.v2</b> <a class=\"tocSkip\"></a><br>\n",
    "\n",
    "Makes sense, thank you.\n",
    "I removed this section.\n",
    "    \n",
    "    \n",
    "</div>"
   ]
  },
  {
   "cell_type": "markdown",
   "metadata": {},
   "source": [
    "## Plans Information"
   ]
  },
  {
   "cell_type": "code",
   "execution_count": 20,
   "metadata": {},
   "outputs": [
    {
     "name": "stdout",
     "output_type": "stream",
     "text": [
      "<class 'pandas.core.frame.DataFrame'>\n",
      "RangeIndex: 2 entries, 0 to 1\n",
      "Data columns (total 8 columns):\n",
      " #   Column                 Non-Null Count  Dtype  \n",
      "---  ------                 --------------  -----  \n",
      " 0   messages_included      2 non-null      int64  \n",
      " 1   mb_per_month_included  2 non-null      int64  \n",
      " 2   minutes_included       2 non-null      int64  \n",
      " 3   usd_monthly_pay        2 non-null      int64  \n",
      " 4   usd_per_gb             2 non-null      int64  \n",
      " 5   usd_per_message        2 non-null      float64\n",
      " 6   usd_per_minute         2 non-null      float64\n",
      " 7   plan_name              2 non-null      object \n",
      "dtypes: float64(2), int64(5), object(1)\n",
      "memory usage: 260.0+ bytes\n"
     ]
    }
   ],
   "source": [
    "# Print the general/summary information about the plans' DataFrame\n",
    "\n",
    "plans.info()"
   ]
  },
  {
   "cell_type": "code",
   "execution_count": 21,
   "metadata": {},
   "outputs": [
    {
     "data": {
      "text/html": [
       "<div>\n",
       "<style scoped>\n",
       "    .dataframe tbody tr th:only-of-type {\n",
       "        vertical-align: middle;\n",
       "    }\n",
       "\n",
       "    .dataframe tbody tr th {\n",
       "        vertical-align: top;\n",
       "    }\n",
       "\n",
       "    .dataframe thead th {\n",
       "        text-align: right;\n",
       "    }\n",
       "</style>\n",
       "<table border=\"1\" class=\"dataframe\">\n",
       "  <thead>\n",
       "    <tr style=\"text-align: right;\">\n",
       "      <th></th>\n",
       "      <th>messages_included</th>\n",
       "      <th>mb_per_month_included</th>\n",
       "      <th>minutes_included</th>\n",
       "      <th>usd_monthly_pay</th>\n",
       "      <th>usd_per_gb</th>\n",
       "      <th>usd_per_message</th>\n",
       "      <th>usd_per_minute</th>\n",
       "      <th>plan_name</th>\n",
       "    </tr>\n",
       "  </thead>\n",
       "  <tbody>\n",
       "    <tr>\n",
       "      <th>0</th>\n",
       "      <td>50</td>\n",
       "      <td>15360</td>\n",
       "      <td>500</td>\n",
       "      <td>20</td>\n",
       "      <td>10</td>\n",
       "      <td>0.03</td>\n",
       "      <td>0.03</td>\n",
       "      <td>surf</td>\n",
       "    </tr>\n",
       "    <tr>\n",
       "      <th>1</th>\n",
       "      <td>1000</td>\n",
       "      <td>30720</td>\n",
       "      <td>3000</td>\n",
       "      <td>70</td>\n",
       "      <td>7</td>\n",
       "      <td>0.01</td>\n",
       "      <td>0.01</td>\n",
       "      <td>ultimate</td>\n",
       "    </tr>\n",
       "  </tbody>\n",
       "</table>\n",
       "</div>"
      ],
      "text/plain": [
       "   messages_included  mb_per_month_included  minutes_included  \\\n",
       "0                 50                  15360               500   \n",
       "1               1000                  30720              3000   \n",
       "\n",
       "   usd_monthly_pay  usd_per_gb  usd_per_message  usd_per_minute plan_name  \n",
       "0               20          10             0.03            0.03      surf  \n",
       "1               70           7             0.01            0.01  ultimate  "
      ]
     },
     "execution_count": 21,
     "metadata": {},
     "output_type": "execute_result"
    }
   ],
   "source": [
    "# Print a sample of data for plans\n",
    "\n",
    "plans.head()"
   ]
  },
  {
   "cell_type": "markdown",
   "metadata": {},
   "source": [
    "> In the **plans** dataframe, there are no missing values and it consists of two rows; each one pertaining to the two kinds of plans offered by Megaline. All data types are appropriate."
   ]
  },
  {
   "cell_type": "markdown",
   "metadata": {},
   "source": [
    "<div class=\"alert alert-block alert-warning\"> <b>Reviewer's comment</b> <a class=\"tocSkip\"></a>\n",
    "    \n",
    "~~If you dont need some sections of project please remove them~~ </div>"
   ]
  },
  {
   "cell_type": "markdown",
   "metadata": {},
   "source": [
    "<div class=\"alert alert-block alert-info\"> <b>Student Comment.</b> <a class=\"tocSkip\"></a><br>\n",
    "\n",
    "Removed the sections that were not needed.    \n",
    "    \n",
    "</div>"
   ]
  },
  {
   "cell_type": "markdown",
   "metadata": {},
   "source": [
    "# Users Dataset"
   ]
  },
  {
   "cell_type": "code",
   "execution_count": 26,
   "metadata": {},
   "outputs": [
    {
     "name": "stdout",
     "output_type": "stream",
     "text": [
      "<class 'pandas.core.frame.DataFrame'>\n",
      "RangeIndex: 500 entries, 0 to 499\n",
      "Data columns (total 8 columns):\n",
      " #   Column      Non-Null Count  Dtype \n",
      "---  ------      --------------  ----- \n",
      " 0   user_id     500 non-null    int64 \n",
      " 1   first_name  500 non-null    object\n",
      " 2   last_name   500 non-null    object\n",
      " 3   age         500 non-null    int64 \n",
      " 4   city        500 non-null    object\n",
      " 5   reg_date    500 non-null    object\n",
      " 6   plan        500 non-null    object\n",
      " 7   churn_date  34 non-null     object\n",
      "dtypes: int64(2), object(6)\n",
      "memory usage: 31.4+ KB\n"
     ]
    }
   ],
   "source": [
    "# Print the general/summary information about the users' DataFrame\n",
    "\n",
    "users.info()"
   ]
  },
  {
   "cell_type": "code",
   "execution_count": 27,
   "metadata": {},
   "outputs": [
    {
     "data": {
      "text/html": [
       "<div>\n",
       "<style scoped>\n",
       "    .dataframe tbody tr th:only-of-type {\n",
       "        vertical-align: middle;\n",
       "    }\n",
       "\n",
       "    .dataframe tbody tr th {\n",
       "        vertical-align: top;\n",
       "    }\n",
       "\n",
       "    .dataframe thead th {\n",
       "        text-align: right;\n",
       "    }\n",
       "</style>\n",
       "<table border=\"1\" class=\"dataframe\">\n",
       "  <thead>\n",
       "    <tr style=\"text-align: right;\">\n",
       "      <th></th>\n",
       "      <th>user_id</th>\n",
       "      <th>first_name</th>\n",
       "      <th>last_name</th>\n",
       "      <th>age</th>\n",
       "      <th>city</th>\n",
       "      <th>reg_date</th>\n",
       "      <th>plan</th>\n",
       "      <th>churn_date</th>\n",
       "    </tr>\n",
       "  </thead>\n",
       "  <tbody>\n",
       "    <tr>\n",
       "      <th>0</th>\n",
       "      <td>1000</td>\n",
       "      <td>Anamaria</td>\n",
       "      <td>Bauer</td>\n",
       "      <td>45</td>\n",
       "      <td>Atlanta-Sandy Springs-Roswell, GA MSA</td>\n",
       "      <td>2018-12-24</td>\n",
       "      <td>ultimate</td>\n",
       "      <td>NaN</td>\n",
       "    </tr>\n",
       "    <tr>\n",
       "      <th>1</th>\n",
       "      <td>1001</td>\n",
       "      <td>Mickey</td>\n",
       "      <td>Wilkerson</td>\n",
       "      <td>28</td>\n",
       "      <td>Seattle-Tacoma-Bellevue, WA MSA</td>\n",
       "      <td>2018-08-13</td>\n",
       "      <td>surf</td>\n",
       "      <td>NaN</td>\n",
       "    </tr>\n",
       "    <tr>\n",
       "      <th>2</th>\n",
       "      <td>1002</td>\n",
       "      <td>Carlee</td>\n",
       "      <td>Hoffman</td>\n",
       "      <td>36</td>\n",
       "      <td>Las Vegas-Henderson-Paradise, NV MSA</td>\n",
       "      <td>2018-10-21</td>\n",
       "      <td>surf</td>\n",
       "      <td>NaN</td>\n",
       "    </tr>\n",
       "    <tr>\n",
       "      <th>3</th>\n",
       "      <td>1003</td>\n",
       "      <td>Reynaldo</td>\n",
       "      <td>Jenkins</td>\n",
       "      <td>52</td>\n",
       "      <td>Tulsa, OK MSA</td>\n",
       "      <td>2018-01-28</td>\n",
       "      <td>surf</td>\n",
       "      <td>NaN</td>\n",
       "    </tr>\n",
       "    <tr>\n",
       "      <th>4</th>\n",
       "      <td>1004</td>\n",
       "      <td>Leonila</td>\n",
       "      <td>Thompson</td>\n",
       "      <td>40</td>\n",
       "      <td>Seattle-Tacoma-Bellevue, WA MSA</td>\n",
       "      <td>2018-05-23</td>\n",
       "      <td>surf</td>\n",
       "      <td>NaN</td>\n",
       "    </tr>\n",
       "  </tbody>\n",
       "</table>\n",
       "</div>"
      ],
      "text/plain": [
       "   user_id first_name  last_name  age                                   city  \\\n",
       "0     1000   Anamaria      Bauer   45  Atlanta-Sandy Springs-Roswell, GA MSA   \n",
       "1     1001     Mickey  Wilkerson   28        Seattle-Tacoma-Bellevue, WA MSA   \n",
       "2     1002     Carlee    Hoffman   36   Las Vegas-Henderson-Paradise, NV MSA   \n",
       "3     1003   Reynaldo    Jenkins   52                          Tulsa, OK MSA   \n",
       "4     1004    Leonila   Thompson   40        Seattle-Tacoma-Bellevue, WA MSA   \n",
       "\n",
       "     reg_date      plan churn_date  \n",
       "0  2018-12-24  ultimate        NaN  \n",
       "1  2018-08-13      surf        NaN  \n",
       "2  2018-10-21      surf        NaN  \n",
       "3  2018-01-28      surf        NaN  \n",
       "4  2018-05-23      surf        NaN  "
      ]
     },
     "execution_count": 27,
     "metadata": {},
     "output_type": "execute_result"
    }
   ],
   "source": [
    "# Print a sample of data for users\n",
    "\n",
    "users.head()"
   ]
  },
  {
   "cell_type": "markdown",
   "metadata": {},
   "source": [
    "[Describe what you see and notice in the general information and the printed data sample for the above price of data. Are there any issues (inappropriate data types, missing data etc) that may need further investigation and changes? How that can be fixed?]"
   ]
  },
  {
   "cell_type": "markdown",
   "metadata": {},
   "source": [
    "> Looking at the info for dataframe **users**, we find that there are 500 entries and all columns have complete data except for 'churn_date' which is missing 466 values. According to the information for this project in the briefing, if there is no value in 'churn_date', this means that the account was still active at the time the data was collected. We will leave this as NaN.\n",
    "\n",
    "> We will also check for duplicate values.\n",
    "\n",
    "> We will change the datatype for 'reg_date' and 'churn_date' to pandas **datetime** format for later analysis."
   ]
  },
  {
   "cell_type": "markdown",
   "metadata": {},
   "source": [
    "<div class=\"alert alert-block alert-warning\"> <b>Reviewer's comment</b> <a class=\"tocSkip\"></a>\n",
    "    \n",
    "~~We dont need to change user_id to object data type It will consume more memory Int is good datatype for this column~~  </div>"
   ]
  },
  {
   "cell_type": "markdown",
   "metadata": {},
   "source": [
    "<div class=\"alert alert-block alert-info\"> <b>Student Comment.</b> <a class=\"tocSkip\"></a><br>\n",
    "\n",
    "Didn't change 'user_id' to object datatype, instead checked for duplicates in 'users'.\n",
    "    \n",
    "</div>"
   ]
  },
  {
   "cell_type": "markdown",
   "metadata": {},
   "source": [
    "<div class=\"alert alert-block alert-success\"> <b>Reviewer's comment v2</b> <a\n",
    "class=\"tocSkip\"></a>\n",
    "    \n",
    "Super Basic steps of primary data preprocessing - checking for duplicates, checking for missing values, renaming columns if it is necessary and changing datatypes"
   ]
  },
  {
   "cell_type": "markdown",
   "metadata": {},
   "source": [
    "<div class=\"alert alert-block alert-info\"> <b>Student Comment.v2</b> <a class=\"tocSkip\"></a><br>\n",
    "\n",
    "Yes, I'm putting together a checklist to help me stay consistent with my basic steps when I get a new dataset so I can solidify the process. Thank you!\n",
    "    \n",
    "    \n",
    "</div>"
   ]
  },
  {
   "cell_type": "markdown",
   "metadata": {},
   "source": [
    "## Fix Data"
   ]
  },
  {
   "cell_type": "markdown",
   "metadata": {},
   "source": [
    "### Checking for Duplicates"
   ]
  },
  {
   "cell_type": "code",
   "execution_count": 36,
   "metadata": {},
   "outputs": [
    {
     "data": {
      "text/plain": [
       "0"
      ]
     },
     "execution_count": 36,
     "metadata": {},
     "output_type": "execute_result"
    }
   ],
   "source": [
    "users.duplicated().sum()"
   ]
  },
  {
   "cell_type": "markdown",
   "metadata": {},
   "source": [
    "### Converting to Datetime"
   ]
  },
  {
   "cell_type": "code",
   "execution_count": 38,
   "metadata": {},
   "outputs": [
    {
     "name": "stdout",
     "output_type": "stream",
     "text": [
      "<class 'pandas.core.frame.DataFrame'>\n",
      "RangeIndex: 500 entries, 0 to 499\n",
      "Data columns (total 8 columns):\n",
      " #   Column      Non-Null Count  Dtype         \n",
      "---  ------      --------------  -----         \n",
      " 0   user_id     500 non-null    int64         \n",
      " 1   first_name  500 non-null    object        \n",
      " 2   last_name   500 non-null    object        \n",
      " 3   age         500 non-null    int64         \n",
      " 4   city        500 non-null    object        \n",
      " 5   reg_date    500 non-null    datetime64[ns]\n",
      " 6   plan        500 non-null    object        \n",
      " 7   churn_date  34 non-null     datetime64[ns]\n",
      "dtypes: datetime64[ns](2), int64(2), object(4)\n",
      "memory usage: 31.4+ KB\n"
     ]
    }
   ],
   "source": [
    "# Change datatype of 'reg_date' and 'churn_date' to datetime format.\n",
    "\n",
    "users['reg_date'] = pd.to_datetime(users['reg_date'])\n",
    "users['churn_date'] = pd.to_datetime(users['churn_date'])\n",
    "\n",
    "# Validate the changes were made.\n",
    "\n",
    "users.info()"
   ]
  },
  {
   "cell_type": "markdown",
   "metadata": {},
   "source": [
    "<div class=\"alert alert-block alert-warning\"> <b>Reviewer's comment</b> <a class=\"tocSkip\"></a>\n",
    "    \n",
    "~~By filling in churn_date with string \"Active\" we convert this column again to object Here it is better to leave NaNs unchanged~~</div>"
   ]
  },
  {
   "cell_type": "markdown",
   "metadata": {},
   "source": [
    "<div class=\"alert alert-block alert-info\"> <b>Student Comment.</b> <a class=\"tocSkip\"></a><br>\n",
    "\n",
    "Thank you for pointing this out. I didn't realize that it was turning it back to object type!\n",
    "\n",
    "I removed this section entirely and left the NaNs.\n",
    "    \n",
    "</div>"
   ]
  },
  {
   "cell_type": "markdown",
   "metadata": {},
   "source": [
    "<div class=\"alert alert-block alert-success\"> <b>Reviewer's comment v2</b> <a\n",
    "class=\"tocSkip\"></a>\n",
    "    \n",
    "Veru nice We dont use this column in our analysis but it is always good to have right datatypes in dataset"
   ]
  },
  {
   "cell_type": "markdown",
   "metadata": {},
   "source": [
    "# Calls Dataset"
   ]
  },
  {
   "cell_type": "code",
   "execution_count": 43,
   "metadata": {},
   "outputs": [
    {
     "name": "stdout",
     "output_type": "stream",
     "text": [
      "<class 'pandas.core.frame.DataFrame'>\n",
      "RangeIndex: 137735 entries, 0 to 137734\n",
      "Data columns (total 4 columns):\n",
      " #   Column     Non-Null Count   Dtype  \n",
      "---  ------     --------------   -----  \n",
      " 0   id         137735 non-null  object \n",
      " 1   user_id    137735 non-null  int64  \n",
      " 2   call_date  137735 non-null  object \n",
      " 3   duration   137735 non-null  float64\n",
      "dtypes: float64(1), int64(1), object(2)\n",
      "memory usage: 4.2+ MB\n"
     ]
    }
   ],
   "source": [
    "# Print the general/summary information about the calls' DataFrame\n",
    "\n",
    "calls.info()"
   ]
  },
  {
   "cell_type": "code",
   "execution_count": 44,
   "metadata": {},
   "outputs": [
    {
     "data": {
      "text/html": [
       "<div>\n",
       "<style scoped>\n",
       "    .dataframe tbody tr th:only-of-type {\n",
       "        vertical-align: middle;\n",
       "    }\n",
       "\n",
       "    .dataframe tbody tr th {\n",
       "        vertical-align: top;\n",
       "    }\n",
       "\n",
       "    .dataframe thead th {\n",
       "        text-align: right;\n",
       "    }\n",
       "</style>\n",
       "<table border=\"1\" class=\"dataframe\">\n",
       "  <thead>\n",
       "    <tr style=\"text-align: right;\">\n",
       "      <th></th>\n",
       "      <th>id</th>\n",
       "      <th>user_id</th>\n",
       "      <th>call_date</th>\n",
       "      <th>duration</th>\n",
       "    </tr>\n",
       "  </thead>\n",
       "  <tbody>\n",
       "    <tr>\n",
       "      <th>0</th>\n",
       "      <td>1000_93</td>\n",
       "      <td>1000</td>\n",
       "      <td>2018-12-27</td>\n",
       "      <td>8.52</td>\n",
       "    </tr>\n",
       "    <tr>\n",
       "      <th>1</th>\n",
       "      <td>1000_145</td>\n",
       "      <td>1000</td>\n",
       "      <td>2018-12-27</td>\n",
       "      <td>13.66</td>\n",
       "    </tr>\n",
       "    <tr>\n",
       "      <th>2</th>\n",
       "      <td>1000_247</td>\n",
       "      <td>1000</td>\n",
       "      <td>2018-12-27</td>\n",
       "      <td>14.48</td>\n",
       "    </tr>\n",
       "    <tr>\n",
       "      <th>3</th>\n",
       "      <td>1000_309</td>\n",
       "      <td>1000</td>\n",
       "      <td>2018-12-28</td>\n",
       "      <td>5.76</td>\n",
       "    </tr>\n",
       "    <tr>\n",
       "      <th>4</th>\n",
       "      <td>1000_380</td>\n",
       "      <td>1000</td>\n",
       "      <td>2018-12-30</td>\n",
       "      <td>4.22</td>\n",
       "    </tr>\n",
       "  </tbody>\n",
       "</table>\n",
       "</div>"
      ],
      "text/plain": [
       "         id  user_id   call_date  duration\n",
       "0   1000_93     1000  2018-12-27      8.52\n",
       "1  1000_145     1000  2018-12-27     13.66\n",
       "2  1000_247     1000  2018-12-27     14.48\n",
       "3  1000_309     1000  2018-12-28      5.76\n",
       "4  1000_380     1000  2018-12-30      4.22"
      ]
     },
     "execution_count": 44,
     "metadata": {},
     "output_type": "execute_result"
    }
   ],
   "source": [
    "# Print a sample of data for calls\n",
    "\n",
    "calls.head()"
   ]
  },
  {
   "cell_type": "markdown",
   "metadata": {},
   "source": [
    "> In the info and first five rows of **calls**, we see 137,735 entries and all data is present in the dataframe. \n",
    "\n",
    "> We'll check for duplicates.\n",
    "\n",
    "> We will also convert 'call_date' to **datetime** datatype. After, we'll extract the month into a new column for later analysis.\n",
    "\n",
    "> Lastly, we'll round call duration up per instruction in briefing."
   ]
  },
  {
   "cell_type": "markdown",
   "metadata": {},
   "source": [
    "## Fix Data"
   ]
  },
  {
   "cell_type": "markdown",
   "metadata": {},
   "source": [
    "### Checking for Duplicates"
   ]
  },
  {
   "cell_type": "code",
   "execution_count": 48,
   "metadata": {},
   "outputs": [
    {
     "data": {
      "text/plain": [
       "0"
      ]
     },
     "execution_count": 48,
     "metadata": {},
     "output_type": "execute_result"
    }
   ],
   "source": [
    "calls.duplicated().sum()"
   ]
  },
  {
   "cell_type": "markdown",
   "metadata": {},
   "source": [
    "### Converting Datatypes"
   ]
  },
  {
   "cell_type": "code",
   "execution_count": 50,
   "metadata": {},
   "outputs": [
    {
     "name": "stdout",
     "output_type": "stream",
     "text": [
      "<class 'pandas.core.frame.DataFrame'>\n",
      "RangeIndex: 137735 entries, 0 to 137734\n",
      "Data columns (total 4 columns):\n",
      " #   Column     Non-Null Count   Dtype         \n",
      "---  ------     --------------   -----         \n",
      " 0   id         137735 non-null  object        \n",
      " 1   user_id    137735 non-null  int64         \n",
      " 2   call_date  137735 non-null  datetime64[ns]\n",
      " 3   duration   137735 non-null  float64       \n",
      "dtypes: datetime64[ns](1), float64(1), int64(1), object(1)\n",
      "memory usage: 4.2+ MB\n"
     ]
    }
   ],
   "source": [
    "# Change datatype of 'call_date' to datetime format.\n",
    "\n",
    "calls['call_date'] = pd.to_datetime(calls['call_date'])\n",
    "\n",
    "\n",
    "# Validate change was made.\n",
    "\n",
    "calls.info()"
   ]
  },
  {
   "cell_type": "markdown",
   "metadata": {},
   "source": [
    "## Enrich Data"
   ]
  },
  {
   "cell_type": "markdown",
   "metadata": {},
   "source": [
    "### Extracting Months"
   ]
  },
  {
   "cell_type": "code",
   "execution_count": 53,
   "metadata": {},
   "outputs": [
    {
     "name": "stdout",
     "output_type": "stream",
     "text": [
      "<class 'pandas.core.frame.DataFrame'>\n",
      "RangeIndex: 137735 entries, 0 to 137734\n",
      "Data columns (total 5 columns):\n",
      " #   Column     Non-Null Count   Dtype         \n",
      "---  ------     --------------   -----         \n",
      " 0   id         137735 non-null  object        \n",
      " 1   user_id    137735 non-null  int64         \n",
      " 2   call_date  137735 non-null  datetime64[ns]\n",
      " 3   duration   137735 non-null  float64       \n",
      " 4   month      137735 non-null  int32         \n",
      "dtypes: datetime64[ns](1), float64(1), int32(1), int64(1), object(1)\n",
      "memory usage: 4.7+ MB\n"
     ]
    },
    {
     "data": {
      "text/html": [
       "<div>\n",
       "<style scoped>\n",
       "    .dataframe tbody tr th:only-of-type {\n",
       "        vertical-align: middle;\n",
       "    }\n",
       "\n",
       "    .dataframe tbody tr th {\n",
       "        vertical-align: top;\n",
       "    }\n",
       "\n",
       "    .dataframe thead th {\n",
       "        text-align: right;\n",
       "    }\n",
       "</style>\n",
       "<table border=\"1\" class=\"dataframe\">\n",
       "  <thead>\n",
       "    <tr style=\"text-align: right;\">\n",
       "      <th></th>\n",
       "      <th>id</th>\n",
       "      <th>user_id</th>\n",
       "      <th>call_date</th>\n",
       "      <th>duration</th>\n",
       "      <th>month</th>\n",
       "    </tr>\n",
       "  </thead>\n",
       "  <tbody>\n",
       "    <tr>\n",
       "      <th>0</th>\n",
       "      <td>1000_93</td>\n",
       "      <td>1000</td>\n",
       "      <td>2018-12-27</td>\n",
       "      <td>8.52</td>\n",
       "      <td>12</td>\n",
       "    </tr>\n",
       "    <tr>\n",
       "      <th>1</th>\n",
       "      <td>1000_145</td>\n",
       "      <td>1000</td>\n",
       "      <td>2018-12-27</td>\n",
       "      <td>13.66</td>\n",
       "      <td>12</td>\n",
       "    </tr>\n",
       "    <tr>\n",
       "      <th>2</th>\n",
       "      <td>1000_247</td>\n",
       "      <td>1000</td>\n",
       "      <td>2018-12-27</td>\n",
       "      <td>14.48</td>\n",
       "      <td>12</td>\n",
       "    </tr>\n",
       "    <tr>\n",
       "      <th>3</th>\n",
       "      <td>1000_309</td>\n",
       "      <td>1000</td>\n",
       "      <td>2018-12-28</td>\n",
       "      <td>5.76</td>\n",
       "      <td>12</td>\n",
       "    </tr>\n",
       "    <tr>\n",
       "      <th>4</th>\n",
       "      <td>1000_380</td>\n",
       "      <td>1000</td>\n",
       "      <td>2018-12-30</td>\n",
       "      <td>4.22</td>\n",
       "      <td>12</td>\n",
       "    </tr>\n",
       "  </tbody>\n",
       "</table>\n",
       "</div>"
      ],
      "text/plain": [
       "         id  user_id  call_date  duration  month\n",
       "0   1000_93     1000 2018-12-27      8.52     12\n",
       "1  1000_145     1000 2018-12-27     13.66     12\n",
       "2  1000_247     1000 2018-12-27     14.48     12\n",
       "3  1000_309     1000 2018-12-28      5.76     12\n",
       "4  1000_380     1000 2018-12-30      4.22     12"
      ]
     },
     "execution_count": 53,
     "metadata": {},
     "output_type": "execute_result"
    }
   ],
   "source": [
    "# Here we will extract the months into a new column for later analysis. \n",
    "\n",
    "calls['month'] = calls['call_date'].dt.month\n",
    "\n",
    "\n",
    "# Validate that column was created correctly.\n",
    "\n",
    "calls.info()\n",
    "calls.head()"
   ]
  },
  {
   "cell_type": "markdown",
   "metadata": {},
   "source": [
    "<div class=\"alert alert-block alert-danger\">\n",
    "<b>Reviewer's comment</b> <a class=\"tocSkip\"></a>\n",
    "    \n",
    "~~According to the brief you need to round up duration of each call Please make it  in this section by using np.ceil from numpy~~</div>"
   ]
  },
  {
   "cell_type": "markdown",
   "metadata": {},
   "source": [
    "<div class=\"alert alert-block alert-info\"> <b>Student Comment.</b> <a class=\"tocSkip\"></a><br>\n",
    "\n",
    "Updated this below.\n",
    "    \n",
    "</div>"
   ]
  },
  {
   "cell_type": "markdown",
   "metadata": {},
   "source": [
    "<div class=\"alert alert-block alert-success\"> <b>Reviewer's comment v2</b> <a\n",
    "class=\"tocSkip\"></a>\n",
    "    \n",
    "Correct"
   ]
  },
  {
   "cell_type": "markdown",
   "metadata": {},
   "source": [
    "### Rounding Duration"
   ]
  },
  {
   "cell_type": "code",
   "execution_count": 58,
   "metadata": {},
   "outputs": [
    {
     "data": {
      "text/html": [
       "<div>\n",
       "<style scoped>\n",
       "    .dataframe tbody tr th:only-of-type {\n",
       "        vertical-align: middle;\n",
       "    }\n",
       "\n",
       "    .dataframe tbody tr th {\n",
       "        vertical-align: top;\n",
       "    }\n",
       "\n",
       "    .dataframe thead th {\n",
       "        text-align: right;\n",
       "    }\n",
       "</style>\n",
       "<table border=\"1\" class=\"dataframe\">\n",
       "  <thead>\n",
       "    <tr style=\"text-align: right;\">\n",
       "      <th></th>\n",
       "      <th>id</th>\n",
       "      <th>user_id</th>\n",
       "      <th>call_date</th>\n",
       "      <th>duration</th>\n",
       "      <th>month</th>\n",
       "    </tr>\n",
       "  </thead>\n",
       "  <tbody>\n",
       "    <tr>\n",
       "      <th>0</th>\n",
       "      <td>1000_93</td>\n",
       "      <td>1000</td>\n",
       "      <td>2018-12-27</td>\n",
       "      <td>9.0</td>\n",
       "      <td>12</td>\n",
       "    </tr>\n",
       "    <tr>\n",
       "      <th>1</th>\n",
       "      <td>1000_145</td>\n",
       "      <td>1000</td>\n",
       "      <td>2018-12-27</td>\n",
       "      <td>14.0</td>\n",
       "      <td>12</td>\n",
       "    </tr>\n",
       "    <tr>\n",
       "      <th>2</th>\n",
       "      <td>1000_247</td>\n",
       "      <td>1000</td>\n",
       "      <td>2018-12-27</td>\n",
       "      <td>15.0</td>\n",
       "      <td>12</td>\n",
       "    </tr>\n",
       "    <tr>\n",
       "      <th>3</th>\n",
       "      <td>1000_309</td>\n",
       "      <td>1000</td>\n",
       "      <td>2018-12-28</td>\n",
       "      <td>6.0</td>\n",
       "      <td>12</td>\n",
       "    </tr>\n",
       "    <tr>\n",
       "      <th>4</th>\n",
       "      <td>1000_380</td>\n",
       "      <td>1000</td>\n",
       "      <td>2018-12-30</td>\n",
       "      <td>5.0</td>\n",
       "      <td>12</td>\n",
       "    </tr>\n",
       "  </tbody>\n",
       "</table>\n",
       "</div>"
      ],
      "text/plain": [
       "         id  user_id  call_date  duration  month\n",
       "0   1000_93     1000 2018-12-27       9.0     12\n",
       "1  1000_145     1000 2018-12-27      14.0     12\n",
       "2  1000_247     1000 2018-12-27      15.0     12\n",
       "3  1000_309     1000 2018-12-28       6.0     12\n",
       "4  1000_380     1000 2018-12-30       5.0     12"
      ]
     },
     "execution_count": 58,
     "metadata": {},
     "output_type": "execute_result"
    }
   ],
   "source": [
    "# According to briefing, all call durations are rounded up.\n",
    "\n",
    "calls['duration'] = np.ceil(calls['duration'])\n",
    "\n",
    "\n",
    "# Validating changes were applied.\n",
    "\n",
    "calls.head()"
   ]
  },
  {
   "cell_type": "markdown",
   "metadata": {},
   "source": [
    "# Messages Dataset"
   ]
  },
  {
   "cell_type": "code",
   "execution_count": 60,
   "metadata": {},
   "outputs": [
    {
     "name": "stdout",
     "output_type": "stream",
     "text": [
      "<class 'pandas.core.frame.DataFrame'>\n",
      "RangeIndex: 76051 entries, 0 to 76050\n",
      "Data columns (total 3 columns):\n",
      " #   Column        Non-Null Count  Dtype \n",
      "---  ------        --------------  ----- \n",
      " 0   id            76051 non-null  object\n",
      " 1   user_id       76051 non-null  int64 \n",
      " 2   message_date  76051 non-null  object\n",
      "dtypes: int64(1), object(2)\n",
      "memory usage: 1.7+ MB\n"
     ]
    }
   ],
   "source": [
    "# Print the general/summary information about the messages' DataFrame\n",
    "\n",
    "messages.info()"
   ]
  },
  {
   "cell_type": "code",
   "execution_count": 61,
   "metadata": {},
   "outputs": [
    {
     "data": {
      "text/html": [
       "<div>\n",
       "<style scoped>\n",
       "    .dataframe tbody tr th:only-of-type {\n",
       "        vertical-align: middle;\n",
       "    }\n",
       "\n",
       "    .dataframe tbody tr th {\n",
       "        vertical-align: top;\n",
       "    }\n",
       "\n",
       "    .dataframe thead th {\n",
       "        text-align: right;\n",
       "    }\n",
       "</style>\n",
       "<table border=\"1\" class=\"dataframe\">\n",
       "  <thead>\n",
       "    <tr style=\"text-align: right;\">\n",
       "      <th></th>\n",
       "      <th>id</th>\n",
       "      <th>user_id</th>\n",
       "      <th>message_date</th>\n",
       "    </tr>\n",
       "  </thead>\n",
       "  <tbody>\n",
       "    <tr>\n",
       "      <th>0</th>\n",
       "      <td>1000_125</td>\n",
       "      <td>1000</td>\n",
       "      <td>2018-12-27</td>\n",
       "    </tr>\n",
       "    <tr>\n",
       "      <th>1</th>\n",
       "      <td>1000_160</td>\n",
       "      <td>1000</td>\n",
       "      <td>2018-12-31</td>\n",
       "    </tr>\n",
       "    <tr>\n",
       "      <th>2</th>\n",
       "      <td>1000_223</td>\n",
       "      <td>1000</td>\n",
       "      <td>2018-12-31</td>\n",
       "    </tr>\n",
       "    <tr>\n",
       "      <th>3</th>\n",
       "      <td>1000_251</td>\n",
       "      <td>1000</td>\n",
       "      <td>2018-12-27</td>\n",
       "    </tr>\n",
       "    <tr>\n",
       "      <th>4</th>\n",
       "      <td>1000_255</td>\n",
       "      <td>1000</td>\n",
       "      <td>2018-12-26</td>\n",
       "    </tr>\n",
       "  </tbody>\n",
       "</table>\n",
       "</div>"
      ],
      "text/plain": [
       "         id  user_id message_date\n",
       "0  1000_125     1000   2018-12-27\n",
       "1  1000_160     1000   2018-12-31\n",
       "2  1000_223     1000   2018-12-31\n",
       "3  1000_251     1000   2018-12-27\n",
       "4  1000_255     1000   2018-12-26"
      ]
     },
     "execution_count": 61,
     "metadata": {},
     "output_type": "execute_result"
    }
   ],
   "source": [
    "# Print a sample of data for messages\n",
    "\n",
    "messages.head()"
   ]
  },
  {
   "cell_type": "markdown",
   "metadata": {},
   "source": [
    "> We find **messages** with 76,051 entries and no NaN values.\n",
    "\n",
    "> We'll check for duplicates.\n",
    "\n",
    "> We will convert 'message_date' to datetime format and extract month into a new column for later analysis."
   ]
  },
  {
   "cell_type": "markdown",
   "metadata": {},
   "source": [
    "## Fix Data"
   ]
  },
  {
   "cell_type": "markdown",
   "metadata": {},
   "source": [
    "### Checking for Duplicates"
   ]
  },
  {
   "cell_type": "code",
   "execution_count": 65,
   "metadata": {},
   "outputs": [
    {
     "data": {
      "text/plain": [
       "0"
      ]
     },
     "execution_count": 65,
     "metadata": {},
     "output_type": "execute_result"
    }
   ],
   "source": [
    "messages.duplicated().sum()"
   ]
  },
  {
   "cell_type": "markdown",
   "metadata": {},
   "source": [
    "### Convert to Datetime"
   ]
  },
  {
   "cell_type": "code",
   "execution_count": 67,
   "metadata": {},
   "outputs": [
    {
     "name": "stdout",
     "output_type": "stream",
     "text": [
      "<class 'pandas.core.frame.DataFrame'>\n",
      "RangeIndex: 76051 entries, 0 to 76050\n",
      "Data columns (total 3 columns):\n",
      " #   Column        Non-Null Count  Dtype         \n",
      "---  ------        --------------  -----         \n",
      " 0   id            76051 non-null  object        \n",
      " 1   user_id       76051 non-null  int64         \n",
      " 2   message_date  76051 non-null  datetime64[ns]\n",
      "dtypes: datetime64[ns](1), int64(1), object(1)\n",
      "memory usage: 1.7+ MB\n"
     ]
    }
   ],
   "source": [
    "# Convert 'message_date' to datetime format from pandas.\n",
    "\n",
    "messages['message_date'] = pd.to_datetime(messages['message_date'])\n",
    "\n",
    "\n",
    "# Validate change was made.\n",
    "\n",
    "messages.info()"
   ]
  },
  {
   "cell_type": "markdown",
   "metadata": {},
   "source": [
    "## Enrich Data"
   ]
  },
  {
   "cell_type": "markdown",
   "metadata": {},
   "source": [
    "### Extracting Months"
   ]
  },
  {
   "cell_type": "code",
   "execution_count": 70,
   "metadata": {},
   "outputs": [
    {
     "data": {
      "text/html": [
       "<div>\n",
       "<style scoped>\n",
       "    .dataframe tbody tr th:only-of-type {\n",
       "        vertical-align: middle;\n",
       "    }\n",
       "\n",
       "    .dataframe tbody tr th {\n",
       "        vertical-align: top;\n",
       "    }\n",
       "\n",
       "    .dataframe thead th {\n",
       "        text-align: right;\n",
       "    }\n",
       "</style>\n",
       "<table border=\"1\" class=\"dataframe\">\n",
       "  <thead>\n",
       "    <tr style=\"text-align: right;\">\n",
       "      <th></th>\n",
       "      <th>id</th>\n",
       "      <th>user_id</th>\n",
       "      <th>message_date</th>\n",
       "      <th>month</th>\n",
       "    </tr>\n",
       "  </thead>\n",
       "  <tbody>\n",
       "    <tr>\n",
       "      <th>0</th>\n",
       "      <td>1000_125</td>\n",
       "      <td>1000</td>\n",
       "      <td>2018-12-27</td>\n",
       "      <td>12</td>\n",
       "    </tr>\n",
       "    <tr>\n",
       "      <th>1</th>\n",
       "      <td>1000_160</td>\n",
       "      <td>1000</td>\n",
       "      <td>2018-12-31</td>\n",
       "      <td>12</td>\n",
       "    </tr>\n",
       "    <tr>\n",
       "      <th>2</th>\n",
       "      <td>1000_223</td>\n",
       "      <td>1000</td>\n",
       "      <td>2018-12-31</td>\n",
       "      <td>12</td>\n",
       "    </tr>\n",
       "    <tr>\n",
       "      <th>3</th>\n",
       "      <td>1000_251</td>\n",
       "      <td>1000</td>\n",
       "      <td>2018-12-27</td>\n",
       "      <td>12</td>\n",
       "    </tr>\n",
       "    <tr>\n",
       "      <th>4</th>\n",
       "      <td>1000_255</td>\n",
       "      <td>1000</td>\n",
       "      <td>2018-12-26</td>\n",
       "      <td>12</td>\n",
       "    </tr>\n",
       "  </tbody>\n",
       "</table>\n",
       "</div>"
      ],
      "text/plain": [
       "         id  user_id message_date  month\n",
       "0  1000_125     1000   2018-12-27     12\n",
       "1  1000_160     1000   2018-12-31     12\n",
       "2  1000_223     1000   2018-12-31     12\n",
       "3  1000_251     1000   2018-12-27     12\n",
       "4  1000_255     1000   2018-12-26     12"
      ]
     },
     "execution_count": 70,
     "metadata": {},
     "output_type": "execute_result"
    }
   ],
   "source": [
    "# Creating a 'month' column for future analysis. \n",
    "\n",
    "messages['month'] = messages['message_date'].dt.month\n",
    "\n",
    "\n",
    "# Validating change.\n",
    "\n",
    "messages.head()"
   ]
  },
  {
   "cell_type": "markdown",
   "metadata": {},
   "source": [
    "# Internet Dataset"
   ]
  },
  {
   "cell_type": "code",
   "execution_count": 72,
   "metadata": {},
   "outputs": [
    {
     "name": "stdout",
     "output_type": "stream",
     "text": [
      "<class 'pandas.core.frame.DataFrame'>\n",
      "RangeIndex: 104825 entries, 0 to 104824\n",
      "Data columns (total 4 columns):\n",
      " #   Column        Non-Null Count   Dtype  \n",
      "---  ------        --------------   -----  \n",
      " 0   id            104825 non-null  object \n",
      " 1   user_id       104825 non-null  int64  \n",
      " 2   session_date  104825 non-null  object \n",
      " 3   mb_used       104825 non-null  float64\n",
      "dtypes: float64(1), int64(1), object(2)\n",
      "memory usage: 3.2+ MB\n"
     ]
    }
   ],
   "source": [
    "# Print the general/summary information about the internet DataFrame\n",
    "\n",
    "internet.info()"
   ]
  },
  {
   "cell_type": "code",
   "execution_count": 73,
   "metadata": {},
   "outputs": [
    {
     "data": {
      "text/html": [
       "<div>\n",
       "<style scoped>\n",
       "    .dataframe tbody tr th:only-of-type {\n",
       "        vertical-align: middle;\n",
       "    }\n",
       "\n",
       "    .dataframe tbody tr th {\n",
       "        vertical-align: top;\n",
       "    }\n",
       "\n",
       "    .dataframe thead th {\n",
       "        text-align: right;\n",
       "    }\n",
       "</style>\n",
       "<table border=\"1\" class=\"dataframe\">\n",
       "  <thead>\n",
       "    <tr style=\"text-align: right;\">\n",
       "      <th></th>\n",
       "      <th>id</th>\n",
       "      <th>user_id</th>\n",
       "      <th>session_date</th>\n",
       "      <th>mb_used</th>\n",
       "    </tr>\n",
       "  </thead>\n",
       "  <tbody>\n",
       "    <tr>\n",
       "      <th>0</th>\n",
       "      <td>1000_13</td>\n",
       "      <td>1000</td>\n",
       "      <td>2018-12-29</td>\n",
       "      <td>89.86</td>\n",
       "    </tr>\n",
       "    <tr>\n",
       "      <th>1</th>\n",
       "      <td>1000_204</td>\n",
       "      <td>1000</td>\n",
       "      <td>2018-12-31</td>\n",
       "      <td>0.00</td>\n",
       "    </tr>\n",
       "    <tr>\n",
       "      <th>2</th>\n",
       "      <td>1000_379</td>\n",
       "      <td>1000</td>\n",
       "      <td>2018-12-28</td>\n",
       "      <td>660.40</td>\n",
       "    </tr>\n",
       "    <tr>\n",
       "      <th>3</th>\n",
       "      <td>1000_413</td>\n",
       "      <td>1000</td>\n",
       "      <td>2018-12-26</td>\n",
       "      <td>270.99</td>\n",
       "    </tr>\n",
       "    <tr>\n",
       "      <th>4</th>\n",
       "      <td>1000_442</td>\n",
       "      <td>1000</td>\n",
       "      <td>2018-12-27</td>\n",
       "      <td>880.22</td>\n",
       "    </tr>\n",
       "  </tbody>\n",
       "</table>\n",
       "</div>"
      ],
      "text/plain": [
       "         id  user_id session_date  mb_used\n",
       "0   1000_13     1000   2018-12-29    89.86\n",
       "1  1000_204     1000   2018-12-31     0.00\n",
       "2  1000_379     1000   2018-12-28   660.40\n",
       "3  1000_413     1000   2018-12-26   270.99\n",
       "4  1000_442     1000   2018-12-27   880.22"
      ]
     },
     "execution_count": 73,
     "metadata": {},
     "output_type": "execute_result"
    }
   ],
   "source": [
    "# Print a sample of data for the internet traffic\n",
    "\n",
    "internet.head()"
   ]
  },
  {
   "cell_type": "markdown",
   "metadata": {},
   "source": [
    "> **internet** dataframe contains 104,825 entries.\n",
    "\n",
    "> We'll check for duplicates.\n",
    "\n",
    "> We'll also change the 'session_date' datatype to datetime and extract the month into a new column."
   ]
  },
  {
   "cell_type": "markdown",
   "metadata": {},
   "source": [
    "## Fix Data"
   ]
  },
  {
   "cell_type": "markdown",
   "metadata": {},
   "source": [
    "### Check for Duplicates"
   ]
  },
  {
   "cell_type": "code",
   "execution_count": 77,
   "metadata": {},
   "outputs": [
    {
     "data": {
      "text/plain": [
       "0"
      ]
     },
     "execution_count": 77,
     "metadata": {},
     "output_type": "execute_result"
    }
   ],
   "source": [
    "internet.duplicated().sum()"
   ]
  },
  {
   "cell_type": "markdown",
   "metadata": {},
   "source": [
    "### Convert to Datetime"
   ]
  },
  {
   "cell_type": "code",
   "execution_count": 79,
   "metadata": {},
   "outputs": [],
   "source": [
    "# Convert dtype for 'session_date' to datetime.\n",
    "\n",
    "internet['session_date'] = pd.to_datetime(internet['session_date'])"
   ]
  },
  {
   "cell_type": "markdown",
   "metadata": {},
   "source": [
    "## Enrich Data"
   ]
  },
  {
   "cell_type": "markdown",
   "metadata": {},
   "source": [
    "### Extracting Months"
   ]
  },
  {
   "cell_type": "code",
   "execution_count": 82,
   "metadata": {},
   "outputs": [
    {
     "name": "stdout",
     "output_type": "stream",
     "text": [
      "<class 'pandas.core.frame.DataFrame'>\n",
      "RangeIndex: 104825 entries, 0 to 104824\n",
      "Data columns (total 5 columns):\n",
      " #   Column        Non-Null Count   Dtype         \n",
      "---  ------        --------------   -----         \n",
      " 0   id            104825 non-null  object        \n",
      " 1   user_id       104825 non-null  int64         \n",
      " 2   session_date  104825 non-null  datetime64[ns]\n",
      " 3   mb_used       104825 non-null  float64       \n",
      " 4   month         104825 non-null  int32         \n",
      "dtypes: datetime64[ns](1), float64(1), int32(1), int64(1), object(1)\n",
      "memory usage: 3.6+ MB\n"
     ]
    }
   ],
   "source": [
    "# Extract month into new column.\n",
    "\n",
    "internet['month'] = internet['session_date'].dt.month\n",
    "\n",
    "\n",
    "# Validate.\n",
    "\n",
    "internet.info()"
   ]
  },
  {
   "cell_type": "markdown",
   "metadata": {},
   "source": [
    "<div class=\"alert alert-block alert-danger\">\n",
    "<b>Reviewer's comment</b> <a class=\"tocSkip\"></a>\n",
    "    \n",
    "~~Very nice primary data preprocessing~~\n",
    "\n",
    "~~Please check each dataset for duplicates as well~~</div>"
   ]
  },
  {
   "cell_type": "markdown",
   "metadata": {},
   "source": [
    "<div class=\"alert alert-block alert-info\"> <b>Student Comment.</b> <a class=\"tocSkip\"></a><br>\n",
    "\n",
    "Thank you! Checked for duplicates in each dataset.    \n",
    "</div>"
   ]
  },
  {
   "cell_type": "markdown",
   "metadata": {},
   "source": [
    "<div class=\"alert alert-block alert-success\"> <b>Reviewer's comment v2</b> <a\n",
    "class=\"tocSkip\"></a>\n",
    "    \n",
    "Perfect primary data preprocessing"
   ]
  },
  {
   "cell_type": "markdown",
   "metadata": {},
   "source": [
    "<div class=\"alert alert-block alert-info\"> <b>Student Comment.v2</b> <a class=\"tocSkip\"></a><br>\n",
    "\n",
    "Thank you! I appreciate the validation, it's difficult to know if I'm doing the correct thing as if I was doing it in a job somewhere! Good to know I'm on the right track!\n",
    "    \n",
    "    \n",
    "</div>"
   ]
  },
  {
   "cell_type": "markdown",
   "metadata": {},
   "source": [
    "# Plan Conditions"
   ]
  },
  {
   "cell_type": "code",
   "execution_count": 88,
   "metadata": {},
   "outputs": [
    {
     "name": "stdout",
     "output_type": "stream",
     "text": [
      "<class 'pandas.core.frame.DataFrame'>\n",
      "RangeIndex: 2 entries, 0 to 1\n",
      "Data columns (total 8 columns):\n",
      " #   Column                 Non-Null Count  Dtype  \n",
      "---  ------                 --------------  -----  \n",
      " 0   messages_included      2 non-null      int64  \n",
      " 1   mb_per_month_included  2 non-null      int64  \n",
      " 2   minutes_included       2 non-null      int64  \n",
      " 3   usd_monthly_pay        2 non-null      int64  \n",
      " 4   usd_per_gb             2 non-null      int64  \n",
      " 5   usd_per_message        2 non-null      float64\n",
      " 6   usd_per_minute         2 non-null      float64\n",
      " 7   plan_name              2 non-null      object \n",
      "dtypes: float64(2), int64(5), object(1)\n",
      "memory usage: 260.0+ bytes\n"
     ]
    },
    {
     "data": {
      "text/html": [
       "<div>\n",
       "<style scoped>\n",
       "    .dataframe tbody tr th:only-of-type {\n",
       "        vertical-align: middle;\n",
       "    }\n",
       "\n",
       "    .dataframe tbody tr th {\n",
       "        vertical-align: top;\n",
       "    }\n",
       "\n",
       "    .dataframe thead th {\n",
       "        text-align: right;\n",
       "    }\n",
       "</style>\n",
       "<table border=\"1\" class=\"dataframe\">\n",
       "  <thead>\n",
       "    <tr style=\"text-align: right;\">\n",
       "      <th></th>\n",
       "      <th>messages_included</th>\n",
       "      <th>mb_per_month_included</th>\n",
       "      <th>minutes_included</th>\n",
       "      <th>usd_monthly_pay</th>\n",
       "      <th>usd_per_gb</th>\n",
       "      <th>usd_per_message</th>\n",
       "      <th>usd_per_minute</th>\n",
       "      <th>plan_name</th>\n",
       "    </tr>\n",
       "  </thead>\n",
       "  <tbody>\n",
       "    <tr>\n",
       "      <th>0</th>\n",
       "      <td>50</td>\n",
       "      <td>15360</td>\n",
       "      <td>500</td>\n",
       "      <td>20</td>\n",
       "      <td>10</td>\n",
       "      <td>0.03</td>\n",
       "      <td>0.03</td>\n",
       "      <td>surf</td>\n",
       "    </tr>\n",
       "    <tr>\n",
       "      <th>1</th>\n",
       "      <td>1000</td>\n",
       "      <td>30720</td>\n",
       "      <td>3000</td>\n",
       "      <td>70</td>\n",
       "      <td>7</td>\n",
       "      <td>0.01</td>\n",
       "      <td>0.01</td>\n",
       "      <td>ultimate</td>\n",
       "    </tr>\n",
       "  </tbody>\n",
       "</table>\n",
       "</div>"
      ],
      "text/plain": [
       "   messages_included  mb_per_month_included  minutes_included  \\\n",
       "0                 50                  15360               500   \n",
       "1               1000                  30720              3000   \n",
       "\n",
       "   usd_monthly_pay  usd_per_gb  usd_per_message  usd_per_minute plan_name  \n",
       "0               20          10             0.03            0.03      surf  \n",
       "1               70           7             0.01            0.01  ultimate  "
      ]
     },
     "execution_count": 88,
     "metadata": {},
     "output_type": "execute_result"
    }
   ],
   "source": [
    "# Print out the plan conditions and make sure they are clear for you\n",
    "\n",
    "plans.info()\n",
    "\n",
    "plans.head()"
   ]
  },
  {
   "cell_type": "markdown",
   "metadata": {},
   "source": [
    "## Aggregate Data per User"
   ]
  },
  {
   "cell_type": "code",
   "execution_count": 90,
   "metadata": {},
   "outputs": [
    {
     "data": {
      "text/html": [
       "<div>\n",
       "<style scoped>\n",
       "    .dataframe tbody tr th:only-of-type {\n",
       "        vertical-align: middle;\n",
       "    }\n",
       "\n",
       "    .dataframe tbody tr th {\n",
       "        vertical-align: top;\n",
       "    }\n",
       "\n",
       "    .dataframe thead th {\n",
       "        text-align: right;\n",
       "    }\n",
       "</style>\n",
       "<table border=\"1\" class=\"dataframe\">\n",
       "  <thead>\n",
       "    <tr style=\"text-align: right;\">\n",
       "      <th></th>\n",
       "      <th>user_id</th>\n",
       "      <th>month</th>\n",
       "      <th>duration</th>\n",
       "    </tr>\n",
       "  </thead>\n",
       "  <tbody>\n",
       "    <tr>\n",
       "      <th>0</th>\n",
       "      <td>1000</td>\n",
       "      <td>12</td>\n",
       "      <td>124.0</td>\n",
       "    </tr>\n",
       "    <tr>\n",
       "      <th>1</th>\n",
       "      <td>1001</td>\n",
       "      <td>8</td>\n",
       "      <td>182.0</td>\n",
       "    </tr>\n",
       "    <tr>\n",
       "      <th>2</th>\n",
       "      <td>1001</td>\n",
       "      <td>9</td>\n",
       "      <td>315.0</td>\n",
       "    </tr>\n",
       "    <tr>\n",
       "      <th>3</th>\n",
       "      <td>1001</td>\n",
       "      <td>10</td>\n",
       "      <td>393.0</td>\n",
       "    </tr>\n",
       "    <tr>\n",
       "      <th>4</th>\n",
       "      <td>1001</td>\n",
       "      <td>11</td>\n",
       "      <td>426.0</td>\n",
       "    </tr>\n",
       "    <tr>\n",
       "      <th>...</th>\n",
       "      <td>...</td>\n",
       "      <td>...</td>\n",
       "      <td>...</td>\n",
       "    </tr>\n",
       "    <tr>\n",
       "      <th>2253</th>\n",
       "      <td>1498</td>\n",
       "      <td>12</td>\n",
       "      <td>339.0</td>\n",
       "    </tr>\n",
       "    <tr>\n",
       "      <th>2254</th>\n",
       "      <td>1499</td>\n",
       "      <td>9</td>\n",
       "      <td>346.0</td>\n",
       "    </tr>\n",
       "    <tr>\n",
       "      <th>2255</th>\n",
       "      <td>1499</td>\n",
       "      <td>10</td>\n",
       "      <td>385.0</td>\n",
       "    </tr>\n",
       "    <tr>\n",
       "      <th>2256</th>\n",
       "      <td>1499</td>\n",
       "      <td>11</td>\n",
       "      <td>308.0</td>\n",
       "    </tr>\n",
       "    <tr>\n",
       "      <th>2257</th>\n",
       "      <td>1499</td>\n",
       "      <td>12</td>\n",
       "      <td>496.0</td>\n",
       "    </tr>\n",
       "  </tbody>\n",
       "</table>\n",
       "<p>2258 rows × 3 columns</p>\n",
       "</div>"
      ],
      "text/plain": [
       "      user_id  month  duration\n",
       "0        1000     12     124.0\n",
       "1        1001      8     182.0\n",
       "2        1001      9     315.0\n",
       "3        1001     10     393.0\n",
       "4        1001     11     426.0\n",
       "...       ...    ...       ...\n",
       "2253     1498     12     339.0\n",
       "2254     1499      9     346.0\n",
       "2255     1499     10     385.0\n",
       "2256     1499     11     308.0\n",
       "2257     1499     12     496.0\n",
       "\n",
       "[2258 rows x 3 columns]"
      ]
     },
     "execution_count": 90,
     "metadata": {},
     "output_type": "execute_result"
    }
   ],
   "source": [
    "# Calculate the number of calls made by each user per month. Save the result.\n",
    "\n",
    "monthly_calls = calls.groupby(['user_id', 'month']).agg({'duration': 'sum'}).reset_index()\n",
    "\n",
    "monthly_calls = monthly_calls.sort_values(by=['user_id', 'month'])\n",
    "\n",
    "monthly_calls"
   ]
  },
  {
   "cell_type": "markdown",
   "metadata": {},
   "source": [
    "<div class=\"alert alert-block alert-danger\">\n",
    "<b>Reviewer's comment</b> <a class=\"tocSkip\"></a>\n",
    "    \n",
    "~~We can not use here round because we need to ROUND UP duration of each call before aggregation Please correct this in section of enriched data for calls~~ </div>"
   ]
  },
  {
   "cell_type": "markdown",
   "metadata": {},
   "source": [
    "<div class=\"alert alert-block alert-info\"> <b>Student Comment.</b> <a class=\"tocSkip\"></a><br>\n",
    "\n",
    "I included the np.ceil function in the 'calls' section and removed the .round() function from the code above.\n",
    "\n",
    "</div>"
   ]
  },
  {
   "cell_type": "code",
   "execution_count": 93,
   "metadata": {},
   "outputs": [
    {
     "data": {
      "text/html": [
       "<div>\n",
       "<style scoped>\n",
       "    .dataframe tbody tr th:only-of-type {\n",
       "        vertical-align: middle;\n",
       "    }\n",
       "\n",
       "    .dataframe tbody tr th {\n",
       "        vertical-align: top;\n",
       "    }\n",
       "\n",
       "    .dataframe thead th {\n",
       "        text-align: right;\n",
       "    }\n",
       "</style>\n",
       "<table border=\"1\" class=\"dataframe\">\n",
       "  <thead>\n",
       "    <tr style=\"text-align: right;\">\n",
       "      <th></th>\n",
       "      <th>user_id</th>\n",
       "      <th>month</th>\n",
       "      <th>min_per_month</th>\n",
       "    </tr>\n",
       "  </thead>\n",
       "  <tbody>\n",
       "    <tr>\n",
       "      <th>0</th>\n",
       "      <td>1000</td>\n",
       "      <td>12</td>\n",
       "      <td>124.0</td>\n",
       "    </tr>\n",
       "    <tr>\n",
       "      <th>1</th>\n",
       "      <td>1001</td>\n",
       "      <td>8</td>\n",
       "      <td>182.0</td>\n",
       "    </tr>\n",
       "    <tr>\n",
       "      <th>2</th>\n",
       "      <td>1001</td>\n",
       "      <td>9</td>\n",
       "      <td>315.0</td>\n",
       "    </tr>\n",
       "    <tr>\n",
       "      <th>3</th>\n",
       "      <td>1001</td>\n",
       "      <td>10</td>\n",
       "      <td>393.0</td>\n",
       "    </tr>\n",
       "    <tr>\n",
       "      <th>4</th>\n",
       "      <td>1001</td>\n",
       "      <td>11</td>\n",
       "      <td>426.0</td>\n",
       "    </tr>\n",
       "    <tr>\n",
       "      <th>...</th>\n",
       "      <td>...</td>\n",
       "      <td>...</td>\n",
       "      <td>...</td>\n",
       "    </tr>\n",
       "    <tr>\n",
       "      <th>2253</th>\n",
       "      <td>1498</td>\n",
       "      <td>12</td>\n",
       "      <td>339.0</td>\n",
       "    </tr>\n",
       "    <tr>\n",
       "      <th>2254</th>\n",
       "      <td>1499</td>\n",
       "      <td>9</td>\n",
       "      <td>346.0</td>\n",
       "    </tr>\n",
       "    <tr>\n",
       "      <th>2255</th>\n",
       "      <td>1499</td>\n",
       "      <td>10</td>\n",
       "      <td>385.0</td>\n",
       "    </tr>\n",
       "    <tr>\n",
       "      <th>2256</th>\n",
       "      <td>1499</td>\n",
       "      <td>11</td>\n",
       "      <td>308.0</td>\n",
       "    </tr>\n",
       "    <tr>\n",
       "      <th>2257</th>\n",
       "      <td>1499</td>\n",
       "      <td>12</td>\n",
       "      <td>496.0</td>\n",
       "    </tr>\n",
       "  </tbody>\n",
       "</table>\n",
       "<p>2258 rows × 3 columns</p>\n",
       "</div>"
      ],
      "text/plain": [
       "      user_id  month  min_per_month\n",
       "0        1000     12          124.0\n",
       "1        1001      8          182.0\n",
       "2        1001      9          315.0\n",
       "3        1001     10          393.0\n",
       "4        1001     11          426.0\n",
       "...       ...    ...            ...\n",
       "2253     1498     12          339.0\n",
       "2254     1499      9          346.0\n",
       "2255     1499     10          385.0\n",
       "2256     1499     11          308.0\n",
       "2257     1499     12          496.0\n",
       "\n",
       "[2258 rows x 3 columns]"
      ]
     },
     "execution_count": 93,
     "metadata": {},
     "output_type": "execute_result"
    }
   ],
   "source": [
    "# Calculate the amount of minutes spent by each user per month. Save the result.\n",
    "\n",
    "monthly_mins = calls.groupby(['user_id', 'month'])['duration'].sum().reset_index(name='min_per_month')\n",
    "\n",
    "monthly_mins"
   ]
  },
  {
   "cell_type": "markdown",
   "metadata": {},
   "source": [
    "<div class=\"alert alert-block alert-info\"> <b>Student Comment.</b> <a class=\"tocSkip\"></a><br>\n",
    "\n",
    "Also removed round() from the code in the cell above for consistency of the data.\n",
    "\n",
    "</div>"
   ]
  },
  {
   "cell_type": "code",
   "execution_count": 95,
   "metadata": {},
   "outputs": [
    {
     "data": {
      "text/html": [
       "<div>\n",
       "<style scoped>\n",
       "    .dataframe tbody tr th:only-of-type {\n",
       "        vertical-align: middle;\n",
       "    }\n",
       "\n",
       "    .dataframe tbody tr th {\n",
       "        vertical-align: top;\n",
       "    }\n",
       "\n",
       "    .dataframe thead th {\n",
       "        text-align: right;\n",
       "    }\n",
       "</style>\n",
       "<table border=\"1\" class=\"dataframe\">\n",
       "  <thead>\n",
       "    <tr style=\"text-align: right;\">\n",
       "      <th></th>\n",
       "      <th>user_id</th>\n",
       "      <th>month</th>\n",
       "      <th>message_count</th>\n",
       "    </tr>\n",
       "  </thead>\n",
       "  <tbody>\n",
       "    <tr>\n",
       "      <th>0</th>\n",
       "      <td>1000</td>\n",
       "      <td>12</td>\n",
       "      <td>11</td>\n",
       "    </tr>\n",
       "    <tr>\n",
       "      <th>1</th>\n",
       "      <td>1001</td>\n",
       "      <td>8</td>\n",
       "      <td>30</td>\n",
       "    </tr>\n",
       "    <tr>\n",
       "      <th>2</th>\n",
       "      <td>1001</td>\n",
       "      <td>9</td>\n",
       "      <td>44</td>\n",
       "    </tr>\n",
       "    <tr>\n",
       "      <th>3</th>\n",
       "      <td>1001</td>\n",
       "      <td>10</td>\n",
       "      <td>53</td>\n",
       "    </tr>\n",
       "    <tr>\n",
       "      <th>4</th>\n",
       "      <td>1001</td>\n",
       "      <td>11</td>\n",
       "      <td>36</td>\n",
       "    </tr>\n",
       "    <tr>\n",
       "      <th>...</th>\n",
       "      <td>...</td>\n",
       "      <td>...</td>\n",
       "      <td>...</td>\n",
       "    </tr>\n",
       "    <tr>\n",
       "      <th>1801</th>\n",
       "      <td>1496</td>\n",
       "      <td>9</td>\n",
       "      <td>21</td>\n",
       "    </tr>\n",
       "    <tr>\n",
       "      <th>1802</th>\n",
       "      <td>1496</td>\n",
       "      <td>10</td>\n",
       "      <td>18</td>\n",
       "    </tr>\n",
       "    <tr>\n",
       "      <th>1803</th>\n",
       "      <td>1496</td>\n",
       "      <td>11</td>\n",
       "      <td>13</td>\n",
       "    </tr>\n",
       "    <tr>\n",
       "      <th>1804</th>\n",
       "      <td>1496</td>\n",
       "      <td>12</td>\n",
       "      <td>11</td>\n",
       "    </tr>\n",
       "    <tr>\n",
       "      <th>1805</th>\n",
       "      <td>1497</td>\n",
       "      <td>12</td>\n",
       "      <td>50</td>\n",
       "    </tr>\n",
       "  </tbody>\n",
       "</table>\n",
       "<p>1806 rows × 3 columns</p>\n",
       "</div>"
      ],
      "text/plain": [
       "      user_id  month  message_count\n",
       "0        1000     12             11\n",
       "1        1001      8             30\n",
       "2        1001      9             44\n",
       "3        1001     10             53\n",
       "4        1001     11             36\n",
       "...       ...    ...            ...\n",
       "1801     1496      9             21\n",
       "1802     1496     10             18\n",
       "1803     1496     11             13\n",
       "1804     1496     12             11\n",
       "1805     1497     12             50\n",
       "\n",
       "[1806 rows x 3 columns]"
      ]
     },
     "execution_count": 95,
     "metadata": {},
     "output_type": "execute_result"
    }
   ],
   "source": [
    "# Calculate the number of messages sent by each user per month. Save the result.\n",
    "\n",
    "monthly_messages = messages.groupby(['user_id', 'month'])['id'].count().reset_index(name='message_count')\n",
    "\n",
    "monthly_messages"
   ]
  },
  {
   "cell_type": "code",
   "execution_count": 96,
   "metadata": {},
   "outputs": [
    {
     "data": {
      "text/html": [
       "<div>\n",
       "<style scoped>\n",
       "    .dataframe tbody tr th:only-of-type {\n",
       "        vertical-align: middle;\n",
       "    }\n",
       "\n",
       "    .dataframe tbody tr th {\n",
       "        vertical-align: top;\n",
       "    }\n",
       "\n",
       "    .dataframe thead th {\n",
       "        text-align: right;\n",
       "    }\n",
       "</style>\n",
       "<table border=\"1\" class=\"dataframe\">\n",
       "  <thead>\n",
       "    <tr style=\"text-align: right;\">\n",
       "      <th></th>\n",
       "      <th>user_id</th>\n",
       "      <th>month</th>\n",
       "      <th>mb_used</th>\n",
       "    </tr>\n",
       "  </thead>\n",
       "  <tbody>\n",
       "    <tr>\n",
       "      <th>0</th>\n",
       "      <td>1000</td>\n",
       "      <td>12</td>\n",
       "      <td>1901.47</td>\n",
       "    </tr>\n",
       "    <tr>\n",
       "      <th>1</th>\n",
       "      <td>1001</td>\n",
       "      <td>8</td>\n",
       "      <td>6919.15</td>\n",
       "    </tr>\n",
       "    <tr>\n",
       "      <th>2</th>\n",
       "      <td>1001</td>\n",
       "      <td>9</td>\n",
       "      <td>13314.82</td>\n",
       "    </tr>\n",
       "    <tr>\n",
       "      <th>3</th>\n",
       "      <td>1001</td>\n",
       "      <td>10</td>\n",
       "      <td>22330.49</td>\n",
       "    </tr>\n",
       "    <tr>\n",
       "      <th>4</th>\n",
       "      <td>1001</td>\n",
       "      <td>11</td>\n",
       "      <td>18504.30</td>\n",
       "    </tr>\n",
       "    <tr>\n",
       "      <th>...</th>\n",
       "      <td>...</td>\n",
       "      <td>...</td>\n",
       "      <td>...</td>\n",
       "    </tr>\n",
       "    <tr>\n",
       "      <th>2272</th>\n",
       "      <td>1498</td>\n",
       "      <td>12</td>\n",
       "      <td>23137.69</td>\n",
       "    </tr>\n",
       "    <tr>\n",
       "      <th>2273</th>\n",
       "      <td>1499</td>\n",
       "      <td>9</td>\n",
       "      <td>12984.76</td>\n",
       "    </tr>\n",
       "    <tr>\n",
       "      <th>2274</th>\n",
       "      <td>1499</td>\n",
       "      <td>10</td>\n",
       "      <td>19492.43</td>\n",
       "    </tr>\n",
       "    <tr>\n",
       "      <th>2275</th>\n",
       "      <td>1499</td>\n",
       "      <td>11</td>\n",
       "      <td>16813.83</td>\n",
       "    </tr>\n",
       "    <tr>\n",
       "      <th>2276</th>\n",
       "      <td>1499</td>\n",
       "      <td>12</td>\n",
       "      <td>22059.21</td>\n",
       "    </tr>\n",
       "  </tbody>\n",
       "</table>\n",
       "<p>2277 rows × 3 columns</p>\n",
       "</div>"
      ],
      "text/plain": [
       "      user_id  month   mb_used\n",
       "0        1000     12   1901.47\n",
       "1        1001      8   6919.15\n",
       "2        1001      9  13314.82\n",
       "3        1001     10  22330.49\n",
       "4        1001     11  18504.30\n",
       "...       ...    ...       ...\n",
       "2272     1498     12  23137.69\n",
       "2273     1499      9  12984.76\n",
       "2274     1499     10  19492.43\n",
       "2275     1499     11  16813.83\n",
       "2276     1499     12  22059.21\n",
       "\n",
       "[2277 rows x 3 columns]"
      ]
     },
     "execution_count": 96,
     "metadata": {},
     "output_type": "execute_result"
    }
   ],
   "source": [
    "# Calculate the volume of internet traffic used by each user per month. Save the result.\n",
    "\n",
    "monthly_internet = internet.groupby(['user_id', 'month'])['mb_used'].sum().reset_index(name='mb_used')\n",
    "\n",
    "\n",
    "monthly_internet"
   ]
  },
  {
   "cell_type": "markdown",
   "metadata": {},
   "source": [
    "<div class=\"alert alert-block alert-info\"> <b>Student Comment.</b> <a class=\"tocSkip\"></a><br>\n",
    "\n",
    "I included the np.ceil function in the section above to round the monthly total for each user as it states in the briefing.\n",
    "</div>"
   ]
  },
  {
   "cell_type": "markdown",
   "metadata": {},
   "source": [
    "<div class=\"alert alert-block alert-warning\"> <b>Reviewer's comment v2</b> <a class=\"tocSkip\"></a>\n",
    "    \n",
    "~~Very good But in the brief they ask to round up monthly number of MB to the nearset number of GB Here it is better to column gb_used - you calculate number of gb by dividing number of mb by 1024 and round up values You made it when calculate monthly revenue so it is just tiny recommendation~~"
   ]
  },
  {
   "cell_type": "markdown",
   "metadata": {},
   "source": [
    "<div class=\"alert alert-block alert-info\"> <b>Student Comment.v2</b> <a class=\"tocSkip\"></a><br>\n",
    "\n",
    "I see what you're saying here. I removed it from this cell and just left it with the cell having to do with Monthly Revenue. It wasn't necessary to have it in both cells. Thanks!\n",
    "    \n",
    "    \n",
    "</div>"
   ]
  },
  {
   "cell_type": "code",
   "execution_count": 100,
   "metadata": {},
   "outputs": [
    {
     "data": {
      "text/html": [
       "<div>\n",
       "<style scoped>\n",
       "    .dataframe tbody tr th:only-of-type {\n",
       "        vertical-align: middle;\n",
       "    }\n",
       "\n",
       "    .dataframe tbody tr th {\n",
       "        vertical-align: top;\n",
       "    }\n",
       "\n",
       "    .dataframe thead th {\n",
       "        text-align: right;\n",
       "    }\n",
       "</style>\n",
       "<table border=\"1\" class=\"dataframe\">\n",
       "  <thead>\n",
       "    <tr style=\"text-align: right;\">\n",
       "      <th></th>\n",
       "      <th>user_id</th>\n",
       "      <th>month</th>\n",
       "      <th>duration</th>\n",
       "      <th>min_per_month</th>\n",
       "      <th>message_count</th>\n",
       "      <th>mb_used</th>\n",
       "    </tr>\n",
       "  </thead>\n",
       "  <tbody>\n",
       "    <tr>\n",
       "      <th>0</th>\n",
       "      <td>1000</td>\n",
       "      <td>12</td>\n",
       "      <td>124.0</td>\n",
       "      <td>124.0</td>\n",
       "      <td>11.0</td>\n",
       "      <td>1901.47</td>\n",
       "    </tr>\n",
       "    <tr>\n",
       "      <th>1</th>\n",
       "      <td>1001</td>\n",
       "      <td>8</td>\n",
       "      <td>182.0</td>\n",
       "      <td>182.0</td>\n",
       "      <td>30.0</td>\n",
       "      <td>6919.15</td>\n",
       "    </tr>\n",
       "    <tr>\n",
       "      <th>2</th>\n",
       "      <td>1001</td>\n",
       "      <td>9</td>\n",
       "      <td>315.0</td>\n",
       "      <td>315.0</td>\n",
       "      <td>44.0</td>\n",
       "      <td>13314.82</td>\n",
       "    </tr>\n",
       "    <tr>\n",
       "      <th>3</th>\n",
       "      <td>1001</td>\n",
       "      <td>10</td>\n",
       "      <td>393.0</td>\n",
       "      <td>393.0</td>\n",
       "      <td>53.0</td>\n",
       "      <td>22330.49</td>\n",
       "    </tr>\n",
       "    <tr>\n",
       "      <th>4</th>\n",
       "      <td>1001</td>\n",
       "      <td>11</td>\n",
       "      <td>426.0</td>\n",
       "      <td>426.0</td>\n",
       "      <td>36.0</td>\n",
       "      <td>18504.30</td>\n",
       "    </tr>\n",
       "    <tr>\n",
       "      <th>...</th>\n",
       "      <td>...</td>\n",
       "      <td>...</td>\n",
       "      <td>...</td>\n",
       "      <td>...</td>\n",
       "      <td>...</td>\n",
       "      <td>...</td>\n",
       "    </tr>\n",
       "    <tr>\n",
       "      <th>2288</th>\n",
       "      <td>1498</td>\n",
       "      <td>12</td>\n",
       "      <td>339.0</td>\n",
       "      <td>339.0</td>\n",
       "      <td>NaN</td>\n",
       "      <td>23137.69</td>\n",
       "    </tr>\n",
       "    <tr>\n",
       "      <th>2289</th>\n",
       "      <td>1499</td>\n",
       "      <td>9</td>\n",
       "      <td>346.0</td>\n",
       "      <td>346.0</td>\n",
       "      <td>NaN</td>\n",
       "      <td>12984.76</td>\n",
       "    </tr>\n",
       "    <tr>\n",
       "      <th>2290</th>\n",
       "      <td>1499</td>\n",
       "      <td>10</td>\n",
       "      <td>385.0</td>\n",
       "      <td>385.0</td>\n",
       "      <td>NaN</td>\n",
       "      <td>19492.43</td>\n",
       "    </tr>\n",
       "    <tr>\n",
       "      <th>2291</th>\n",
       "      <td>1499</td>\n",
       "      <td>11</td>\n",
       "      <td>308.0</td>\n",
       "      <td>308.0</td>\n",
       "      <td>NaN</td>\n",
       "      <td>16813.83</td>\n",
       "    </tr>\n",
       "    <tr>\n",
       "      <th>2292</th>\n",
       "      <td>1499</td>\n",
       "      <td>12</td>\n",
       "      <td>496.0</td>\n",
       "      <td>496.0</td>\n",
       "      <td>NaN</td>\n",
       "      <td>22059.21</td>\n",
       "    </tr>\n",
       "  </tbody>\n",
       "</table>\n",
       "<p>2293 rows × 6 columns</p>\n",
       "</div>"
      ],
      "text/plain": [
       "      user_id  month  duration  min_per_month  message_count   mb_used\n",
       "0        1000     12     124.0          124.0           11.0   1901.47\n",
       "1        1001      8     182.0          182.0           30.0   6919.15\n",
       "2        1001      9     315.0          315.0           44.0  13314.82\n",
       "3        1001     10     393.0          393.0           53.0  22330.49\n",
       "4        1001     11     426.0          426.0           36.0  18504.30\n",
       "...       ...    ...       ...            ...            ...       ...\n",
       "2288     1498     12     339.0          339.0            NaN  23137.69\n",
       "2289     1499      9     346.0          346.0            NaN  12984.76\n",
       "2290     1499     10     385.0          385.0            NaN  19492.43\n",
       "2291     1499     11     308.0          308.0            NaN  16813.83\n",
       "2292     1499     12     496.0          496.0            NaN  22059.21\n",
       "\n",
       "[2293 rows x 6 columns]"
      ]
     },
     "execution_count": 100,
     "metadata": {},
     "output_type": "execute_result"
    }
   ],
   "source": [
    "# Merge the data for calls, minutes, messages, internet based on user_id and month\n",
    "\n",
    "userinfo_df = monthly_calls.merge(monthly_mins, on=['user_id', 'month'], how='outer')\n",
    "userinfo_df = userinfo_df.merge(monthly_messages, on=['user_id', 'month'], how='outer')\n",
    "userinfo_df = userinfo_df.merge(monthly_internet, on=['user_id', 'month'], how='outer')\n",
    "\n",
    "userinfo_df"
   ]
  },
  {
   "cell_type": "code",
   "execution_count": 101,
   "metadata": {},
   "outputs": [
    {
     "name": "stdout",
     "output_type": "stream",
     "text": [
      "<class 'pandas.core.frame.DataFrame'>\n",
      "RangeIndex: 2293 entries, 0 to 2292\n",
      "Data columns (total 7 columns):\n",
      " #   Column         Non-Null Count  Dtype  \n",
      "---  ------         --------------  -----  \n",
      " 0   user_id        2293 non-null   int64  \n",
      " 1   month          2293 non-null   int32  \n",
      " 2   duration       2258 non-null   float64\n",
      " 3   min_per_month  2258 non-null   float64\n",
      " 4   message_count  1806 non-null   float64\n",
      " 5   mb_used        2277 non-null   float64\n",
      " 6   plan           2293 non-null   object \n",
      "dtypes: float64(4), int32(1), int64(1), object(1)\n",
      "memory usage: 116.6+ KB\n"
     ]
    }
   ],
   "source": [
    "# Add the plan information\n",
    "\n",
    "userinfo_df_final = userinfo_df.merge(users[['user_id', 'plan']], on=['user_id'], how='left')\n",
    "\n",
    "userinfo_df_final.info()"
   ]
  },
  {
   "cell_type": "code",
   "execution_count": 102,
   "metadata": {},
   "outputs": [
    {
     "name": "stdout",
     "output_type": "stream",
     "text": [
      "<class 'pandas.core.frame.DataFrame'>\n",
      "RangeIndex: 2293 entries, 0 to 2292\n",
      "Data columns (total 7 columns):\n",
      " #   Column         Non-Null Count  Dtype  \n",
      "---  ------         --------------  -----  \n",
      " 0   user_id        2293 non-null   int64  \n",
      " 1   month          2293 non-null   int32  \n",
      " 2   duration       2293 non-null   float64\n",
      " 3   min_per_month  2293 non-null   float64\n",
      " 4   message_count  2293 non-null   float64\n",
      " 5   mb_used        2293 non-null   float64\n",
      " 6   plan           2293 non-null   object \n",
      "dtypes: float64(4), int32(1), int64(1), object(1)\n",
      "memory usage: 116.6+ KB\n"
     ]
    }
   ],
   "source": [
    "# Because of merging the DF's, we have missing values.\n",
    "# Each will be filled with \"0\".\n",
    "\n",
    "userinfo_df_final.fillna({'duration': 0, 'min_per_month': 0, 'message_count': 0, 'mb_used': 0}, inplace=True)\n",
    "\n",
    "# Validate changes.\n",
    "\n",
    "userinfo_df_final.info()"
   ]
  },
  {
   "cell_type": "markdown",
   "metadata": {},
   "source": [
    "<div class=\"alert alert-block alert-success\"> <b>Reviewer's comment</b> <a\n",
    "class=\"tocSkip\"></a>\n",
    "Super data aggregation Now we have all necessary column for monthly revenue calculation in the same dataset Great that you used outer merge - we kept data about all users, and fill in missing values with 0 - we will have right statistics </div>"
   ]
  },
  {
   "cell_type": "markdown",
   "metadata": {},
   "source": [
    "<div class=\"alert alert-block alert-info\"> <b>Student Comment.</b> <a class=\"tocSkip\"></a><br>\n",
    "\n",
    "Thank you!\n",
    "\n",
    "</div>"
   ]
  },
  {
   "cell_type": "code",
   "execution_count": 105,
   "metadata": {},
   "outputs": [
    {
     "data": {
      "text/html": [
       "<div>\n",
       "<style scoped>\n",
       "    .dataframe tbody tr th:only-of-type {\n",
       "        vertical-align: middle;\n",
       "    }\n",
       "\n",
       "    .dataframe tbody tr th {\n",
       "        vertical-align: top;\n",
       "    }\n",
       "\n",
       "    .dataframe thead th {\n",
       "        text-align: right;\n",
       "    }\n",
       "</style>\n",
       "<table border=\"1\" class=\"dataframe\">\n",
       "  <thead>\n",
       "    <tr style=\"text-align: right;\">\n",
       "      <th></th>\n",
       "      <th>user_id</th>\n",
       "      <th>month</th>\n",
       "      <th>duration</th>\n",
       "      <th>min_per_month</th>\n",
       "      <th>message_count</th>\n",
       "      <th>mb_used</th>\n",
       "      <th>plan</th>\n",
       "      <th>monthly_rev</th>\n",
       "    </tr>\n",
       "  </thead>\n",
       "  <tbody>\n",
       "    <tr>\n",
       "      <th>0</th>\n",
       "      <td>1000</td>\n",
       "      <td>12</td>\n",
       "      <td>124.0</td>\n",
       "      <td>124.0</td>\n",
       "      <td>11.0</td>\n",
       "      <td>1901.47</td>\n",
       "      <td>ultimate</td>\n",
       "      <td>70.00</td>\n",
       "    </tr>\n",
       "    <tr>\n",
       "      <th>1</th>\n",
       "      <td>1001</td>\n",
       "      <td>8</td>\n",
       "      <td>182.0</td>\n",
       "      <td>182.0</td>\n",
       "      <td>30.0</td>\n",
       "      <td>6919.15</td>\n",
       "      <td>surf</td>\n",
       "      <td>20.00</td>\n",
       "    </tr>\n",
       "    <tr>\n",
       "      <th>2</th>\n",
       "      <td>1001</td>\n",
       "      <td>9</td>\n",
       "      <td>315.0</td>\n",
       "      <td>315.0</td>\n",
       "      <td>44.0</td>\n",
       "      <td>13314.82</td>\n",
       "      <td>surf</td>\n",
       "      <td>20.00</td>\n",
       "    </tr>\n",
       "    <tr>\n",
       "      <th>3</th>\n",
       "      <td>1001</td>\n",
       "      <td>10</td>\n",
       "      <td>393.0</td>\n",
       "      <td>393.0</td>\n",
       "      <td>53.0</td>\n",
       "      <td>22330.49</td>\n",
       "      <td>surf</td>\n",
       "      <td>90.09</td>\n",
       "    </tr>\n",
       "    <tr>\n",
       "      <th>4</th>\n",
       "      <td>1001</td>\n",
       "      <td>11</td>\n",
       "      <td>426.0</td>\n",
       "      <td>426.0</td>\n",
       "      <td>36.0</td>\n",
       "      <td>18504.30</td>\n",
       "      <td>surf</td>\n",
       "      <td>60.00</td>\n",
       "    </tr>\n",
       "    <tr>\n",
       "      <th>...</th>\n",
       "      <td>...</td>\n",
       "      <td>...</td>\n",
       "      <td>...</td>\n",
       "      <td>...</td>\n",
       "      <td>...</td>\n",
       "      <td>...</td>\n",
       "      <td>...</td>\n",
       "      <td>...</td>\n",
       "    </tr>\n",
       "    <tr>\n",
       "      <th>2288</th>\n",
       "      <td>1498</td>\n",
       "      <td>12</td>\n",
       "      <td>339.0</td>\n",
       "      <td>339.0</td>\n",
       "      <td>0.0</td>\n",
       "      <td>23137.69</td>\n",
       "      <td>surf</td>\n",
       "      <td>100.00</td>\n",
       "    </tr>\n",
       "    <tr>\n",
       "      <th>2289</th>\n",
       "      <td>1499</td>\n",
       "      <td>9</td>\n",
       "      <td>346.0</td>\n",
       "      <td>346.0</td>\n",
       "      <td>0.0</td>\n",
       "      <td>12984.76</td>\n",
       "      <td>surf</td>\n",
       "      <td>20.00</td>\n",
       "    </tr>\n",
       "    <tr>\n",
       "      <th>2290</th>\n",
       "      <td>1499</td>\n",
       "      <td>10</td>\n",
       "      <td>385.0</td>\n",
       "      <td>385.0</td>\n",
       "      <td>0.0</td>\n",
       "      <td>19492.43</td>\n",
       "      <td>surf</td>\n",
       "      <td>70.00</td>\n",
       "    </tr>\n",
       "    <tr>\n",
       "      <th>2291</th>\n",
       "      <td>1499</td>\n",
       "      <td>11</td>\n",
       "      <td>308.0</td>\n",
       "      <td>308.0</td>\n",
       "      <td>0.0</td>\n",
       "      <td>16813.83</td>\n",
       "      <td>surf</td>\n",
       "      <td>40.00</td>\n",
       "    </tr>\n",
       "    <tr>\n",
       "      <th>2292</th>\n",
       "      <td>1499</td>\n",
       "      <td>12</td>\n",
       "      <td>496.0</td>\n",
       "      <td>496.0</td>\n",
       "      <td>0.0</td>\n",
       "      <td>22059.21</td>\n",
       "      <td>surf</td>\n",
       "      <td>90.00</td>\n",
       "    </tr>\n",
       "  </tbody>\n",
       "</table>\n",
       "<p>2293 rows × 8 columns</p>\n",
       "</div>"
      ],
      "text/plain": [
       "      user_id  month  duration  min_per_month  message_count   mb_used  \\\n",
       "0        1000     12     124.0          124.0           11.0   1901.47   \n",
       "1        1001      8     182.0          182.0           30.0   6919.15   \n",
       "2        1001      9     315.0          315.0           44.0  13314.82   \n",
       "3        1001     10     393.0          393.0           53.0  22330.49   \n",
       "4        1001     11     426.0          426.0           36.0  18504.30   \n",
       "...       ...    ...       ...            ...            ...       ...   \n",
       "2288     1498     12     339.0          339.0            0.0  23137.69   \n",
       "2289     1499      9     346.0          346.0            0.0  12984.76   \n",
       "2290     1499     10     385.0          385.0            0.0  19492.43   \n",
       "2291     1499     11     308.0          308.0            0.0  16813.83   \n",
       "2292     1499     12     496.0          496.0            0.0  22059.21   \n",
       "\n",
       "          plan  monthly_rev  \n",
       "0     ultimate        70.00  \n",
       "1         surf        20.00  \n",
       "2         surf        20.00  \n",
       "3         surf        90.09  \n",
       "4         surf        60.00  \n",
       "...        ...          ...  \n",
       "2288      surf       100.00  \n",
       "2289      surf        20.00  \n",
       "2290      surf        70.00  \n",
       "2291      surf        40.00  \n",
       "2292      surf        90.00  \n",
       "\n",
       "[2293 rows x 8 columns]"
      ]
     },
     "execution_count": 105,
     "metadata": {},
     "output_type": "execute_result"
    }
   ],
   "source": [
    "# Calculate the monthly revenue for each user\n",
    "\n",
    "def calc_rev(row):\n",
    "    min_billed = 0\n",
    "    msgs_billed = 0\n",
    "    data_billed = 0\n",
    "    plan_cost = 0\n",
    "    \n",
    "    if row['plan'] == 'surf':\n",
    "        if row['min_per_month'] > 500:\n",
    "            min_billed = (row['min_per_month'] - 500) * 0.03\n",
    "        if row['message_count'] > 50:\n",
    "            msgs_billed = (row['message_count'] - 50) * 0.03\n",
    "        if row['mb_used'] > 15360:\n",
    "            data_billed = np.ceil((row['mb_used'] - 15360) / 1024) * 10 #converting mb to gb, multiplying by cost per gb\n",
    "        plan_cost = 20\n",
    "    \n",
    "    if row['plan'] == 'ultimate':\n",
    "        if row['min_per_month'] > 3000:\n",
    "            min_billed = (row['min_per_month'] - 3000) * 0.01\n",
    "        if row['message_count'] > 1000:\n",
    "            msgs_billed = (row['message_count'] - 1000) * 0.01\n",
    "        if row['mb_used'] > 30720:\n",
    "            data_billed = np.ceil((row['mb_used'] - 30720) / 1024) * 10 #converting mb to gb, multiplying by cost per gb\n",
    "        plan_cost = 70\n",
    "        \n",
    "    total_rev = min_billed + msgs_billed + data_billed + plan_cost\n",
    "    \n",
    "    return total_rev\n",
    "\n",
    "\n",
    "userinfo_df_final['monthly_rev'] = userinfo_df_final.apply(calc_rev, axis=1)\n",
    "\n",
    "userinfo_df_final"
   ]
  },
  {
   "cell_type": "markdown",
   "metadata": {},
   "source": [
    "<div class=\"alert alert-block alert-danger\">\n",
    "<b>Reviewer's comment</b> <a class=\"tocSkip\"></a>\n",
    "    \n",
    "~~In general very good function But here we need to correct tuny issues~~\n",
    "    \n",
    "~~1 We have 1024 MB in 1 GB~~\n",
    "    \n",
    "~~2 According to the brief you need to round up monthly number of GB used~~"
   ]
  },
  {
   "cell_type": "markdown",
   "metadata": {},
   "source": [
    "<div class=\"alert alert-block alert-info\"> <b>Student Comment.</b> <a class=\"tocSkip\"></a><br>\n",
    "\n",
    "Corrected the 1024 MG in a GB! (can't believe I missed that!)\n",
    "    \n",
    "I included np.ceil in the condition for each plan where I'm calculating the amount of MB used minus what the plan includes, is this the correct place to put this?\n",
    "\n",
    "</div>"
   ]
  },
  {
   "cell_type": "markdown",
   "metadata": {},
   "source": [
    "<div class=\"alert alert-block alert-success\"> <b>Reviewer's comment v2</b> <a\n",
    "class=\"tocSkip\"></a>\n",
    "    \n",
    "It is up to you to choose the place) The most important that calculation of monthly revenue is correct now BRAVO!!!"
   ]
  },
  {
   "cell_type": "markdown",
   "metadata": {},
   "source": [
    "<div class=\"alert alert-block alert-info\"> <b>Student Comment.v2</b> <a class=\"tocSkip\"></a><br>\n",
    "\n",
    "Thanks!!\n",
    "    \n",
    "    \n",
    "</div>"
   ]
  },
  {
   "cell_type": "markdown",
   "metadata": {},
   "source": [
    "# Studying User Behavior"
   ]
  },
  {
   "cell_type": "markdown",
   "metadata": {},
   "source": [
    "### Calls Duration Analysis"
   ]
  },
  {
   "cell_type": "code",
   "execution_count": 112,
   "metadata": {},
   "outputs": [
    {
     "data": {
      "image/png": "[encoded data removed]",
      "text/plain": [
       "<Figure size 1000x600 with 1 Axes>"
      ]
     },
     "metadata": {},
     "output_type": "display_data"
    }
   ],
   "source": [
    "# Compare average duration of calls per each plan per each distinct month. Plot a bar plot to visualize it.\n",
    "\n",
    "avg_dur = userinfo_df_final.groupby(['plan', 'month'])['duration'].mean().reset_index()\n",
    "\n",
    "plt.figure(figsize=(10, 6))\n",
    "sns.barplot(data=avg_dur,\n",
    "           x='month',\n",
    "           y='duration',\n",
    "           hue='plan')\n",
    "\n",
    "plt.title('Avg Call Duration by Plan each Month')\n",
    "plt.xlabel('Month')\n",
    "plt.ylabel('Avg Duration (min)')\n",
    "plt.legend(title='Plan')\n",
    "    \n",
    "plt.show()"
   ]
  },
  {
   "cell_type": "markdown",
   "metadata": {},
   "source": [
    "> For Average Call Duration, we're seeing very similar usage between customers using both plans. May not be a strong indicator of which plan is bringing in the most revenue."
   ]
  },
  {
   "cell_type": "markdown",
   "metadata": {},
   "source": [
    "<div class=\"alert alert-block alert-danger\">\n",
    "<b>Reviewer's comment</b> <a class=\"tocSkip\"></a>\n",
    "    \n",
    "~~All imports should be done in the first cell~~"
   ]
  },
  {
   "cell_type": "markdown",
   "metadata": {},
   "source": [
    "<div class=\"alert alert-block alert-info\"> <b>Student Comment.</b> <a class=\"tocSkip\"></a><br>\n",
    "\n",
    "Brought up to the top all the libraries that I was importing down below.\n",
    "\n",
    "</div>"
   ]
  },
  {
   "cell_type": "markdown",
   "metadata": {},
   "source": [
    "#### Calls Mean, Variance & Std"
   ]
  },
  {
   "cell_type": "code",
   "execution_count": 117,
   "metadata": {},
   "outputs": [
    {
     "name": "stdout",
     "output_type": "stream",
     "text": [
      "For \"Surf\" Plan:\n",
      " Mean = 428.7495232040687\n",
      " Variance = 54933.33459131743\n",
      " Standard Dev = 234.37861376695065\n",
      "\n",
      "\n",
      "For \"Ultimate\" Plan:\n",
      " Mean = 430.45\n",
      " Variance = 57764.12527777776\n",
      " Standard Dev = 240.34168443650753\n"
     ]
    }
   ],
   "source": [
    "# Calculate the mean, variance, and standard deviation of the monthly call duration.\n",
    "\n",
    "\n",
    "# Mean, Var & Std for \"Surf\" plan\n",
    "\n",
    "surf_vals = userinfo_df_final[userinfo_df_final['plan'] == 'surf']['duration']\n",
    "surf_call_dur_mean = surf_vals.mean()\n",
    "surf_call_dur_var = np.var(surf_vals)\n",
    "surf_stddev = np.std(surf_vals)\n",
    "\n",
    "# Mean, Var & Std for \"Ultimate\" plan\n",
    "\n",
    "ult_vals = userinfo_df_final[userinfo_df_final['plan'] == 'ultimate']['duration']\n",
    "ult_call_dur_mean = ult_vals.mean()\n",
    "ult_call_dur_var = np.var(ult_vals)\n",
    "ult_stddev = np.std(ult_vals)\n",
    "\n",
    "\n",
    "# Printing Results\n",
    "\n",
    "print(f\"For \\\"Surf\\\" Plan:\\n Mean = {surf_call_dur_mean}\\n Variance = {surf_call_dur_var}\\n Standard Dev = {surf_stddev}\")\n",
    "print('\\n')\n",
    "print(f\"For \\\"Ultimate\\\" Plan:\\n Mean = {ult_call_dur_mean}\\n Variance = {ult_call_dur_var}\\n Standard Dev = {ult_stddev}\")"
   ]
  },
  {
   "cell_type": "markdown",
   "metadata": {},
   "source": [
    "> As we can see by the closeness in proximity from the mean, variance and standard deviation of both plans in regards to Call Duration, there is not much variance between the two plans."
   ]
  },
  {
   "cell_type": "markdown",
   "metadata": {},
   "source": [
    "<div class=\"alert alert-block alert-danger\">\n",
    "<b>Reviewer's comment</b> <a class=\"tocSkip\"></a>\n",
    "    \n",
    "~~All imports should be done in the first cell Please add calculation of std~~"
   ]
  },
  {
   "cell_type": "markdown",
   "metadata": {},
   "source": [
    "<div class=\"alert alert-block alert-info\"> <b>Student Comment.</b> <a class=\"tocSkip\"></a><br>\n",
    "\n",
    "Added Stand Dev calculation and all imports included in first cell.\n",
    "\n",
    "</div>"
   ]
  },
  {
   "cell_type": "markdown",
   "metadata": {},
   "source": [
    "#### Calls Duration Histogram"
   ]
  },
  {
   "cell_type": "code",
   "execution_count": 122,
   "metadata": {},
   "outputs": [
    {
     "data": {
      "image/png": "[encoded data removed]",
      "text/plain": [
       "<Figure size 640x480 with 1 Axes>"
      ]
     },
     "metadata": {},
     "output_type": "display_data"
    }
   ],
   "source": [
    "# Compare the number of minutes users of each plan require each month. Plot a histogram.\n",
    "\n",
    "userinfo_df_final.query('plan == \"surf\"')['duration'].hist(label='Surf')\n",
    "userinfo_df_final.query('plan == \"ultimate\"')['duration'].hist(label='Ultimate')\n",
    "\n",
    "plt.title('Avg Call Duration by Plan each Month')\n",
    "plt.xlabel('Month')\n",
    "plt.ylabel('Avg Call Duration (Min)')\n",
    "plt.legend(title='Plan')\n",
    "\n",
    "plt.show()"
   ]
  },
  {
   "cell_type": "markdown",
   "metadata": {},
   "source": [
    "> In our histogram, we're seeing our data represent what we saw in the above calculations for mean, variance and std: very similar behaviors from customers using both plans."
   ]
  },
  {
   "cell_type": "markdown",
   "metadata": {},
   "source": [
    "<div class=\"alert alert-block alert-danger\">\n",
    "<b>Reviewer's comment</b> <a class=\"tocSkip\"></a>\n",
    "    \n",
    "~~To create histogrames with distribution of calls duration please use not aggregated data~~"
   ]
  },
  {
   "cell_type": "markdown",
   "metadata": {},
   "source": [
    "<div class=\"alert alert-block alert-info\"> <b>Student Comment.</b> <a class=\"tocSkip\"></a><br>\n",
    "\n",
    "Could you please explain why we would need not aggregated data for this task above? \n",
    "    \n",
    "Does it make the histogram easier to read? \n",
    "Also, would I need to also need to merge the data into 'calls' that includes the plan information to then make this histogram?\n",
    "\n",
    "</div>"
   ]
  },
  {
   "cell_type": "markdown",
   "metadata": {},
   "source": [
    "<div class=\"alert alert-block alert-danger\">\n",
    "<b>Reviewer's comment v2</b> <a class=\"tocSkip\"></a>\n",
    "    \n",
    "~~When we talk about the distribution we dont aggragete data at all (for boxplots and histogrames) Lets check this one~~\n",
    "    \n",
    "    userinfo_df_final.query('plan == \"surf\"')['duration'].hist()\n",
    "    userinfo_df_final.query('plan == \"ultimate\"')['duration'].hist()\n",
    "    "
   ]
  },
  {
   "cell_type": "markdown",
   "metadata": {},
   "source": [
    "<div class=\"alert alert-block alert-info\"> <b>Student Comment.v2</b> <a class=\"tocSkip\"></a><br>\n",
    "\n",
    "This makes sense, we don't use aggregated data because it probably distorts the histogram, right?\n",
    "    \n",
    "</div>"
   ]
  },
  {
   "cell_type": "markdown",
   "metadata": {},
   "source": [
    "<div class=\"alert alert-block alert-success\"> <b>Reviewer's comment v3</b> <a\n",
    "class=\"tocSkip\"></a>\n",
    "    \n",
    "You got it right"
   ]
  },
  {
   "cell_type": "markdown",
   "metadata": {},
   "source": [
    "#### Calls Duration Boxplot"
   ]
  },
  {
   "cell_type": "code",
   "execution_count": 130,
   "metadata": {},
   "outputs": [
    {
     "data": {
      "image/png": "[encoded data removed]",
      "text/plain": [
       "<Figure size 1000x600 with 1 Axes>"
      ]
     },
     "metadata": {},
     "output_type": "display_data"
    },
    {
     "data": {
      "image/png": "[encoded data removed]",
      "text/plain": [
       "<Figure size 1000x600 with 1 Axes>"
      ]
     },
     "metadata": {},
     "output_type": "display_data"
    }
   ],
   "source": [
    "# Plot a boxplot to visualize the distribution of the monthly call duration\n",
    "\n",
    "# Surf Plan Boxplot\n",
    "plt.figure(figsize=(10, 6))\n",
    "plt.boxplot(surf_vals)\n",
    "plt.title(\"Distribution of Monthly Call Duration: Surf Plan\")\n",
    "plt.suptitle('')\n",
    "plt.xlabel(\"Surf Plan\")\n",
    "plt.ylabel(\"Monthly Call Duration (Min)\")\n",
    "plt.ylim(0, 1400)\n",
    "\n",
    "plt.show()\n",
    "\n",
    "\n",
    "# Ultimate Plan Boxplot\n",
    "plt.figure(figsize=(10, 6))\n",
    "plt.boxplot(ult_vals)\n",
    "plt.title(\"Distribution of Monthly Call Duration: Ultimate Plan\")\n",
    "plt.suptitle('')\n",
    "plt.xlabel(\"Ultimate Plan\")\n",
    "plt.ylabel(\"Monthly Call Duration (Min)\")\n",
    "plt.ylim(0, 1400)\n",
    "\n",
    "plt.show()"
   ]
  },
  {
   "cell_type": "markdown",
   "metadata": {},
   "source": [
    "> Comparing the two Boxplots above between the two plans, it appears that the customer behavior is very similar regardless of plan type. Means for both are similar as well."
   ]
  },
  {
   "cell_type": "markdown",
   "metadata": {},
   "source": [
    "<div class=\"alert alert-block alert-success\"> <b>Reviewer's comment</b> <a\n",
    "class=\"tocSkip\"></a>\n",
    "    \n",
    "Super boxplots and right conclusion"
   ]
  },
  {
   "cell_type": "markdown",
   "metadata": {},
   "source": [
    "<div class=\"alert alert-block alert-info\"> <b>Student Comment.</b> <a class=\"tocSkip\"></a><br>\n",
    "\n",
    "Thank you!\n",
    "\n",
    "</div>"
   ]
  },
  {
   "cell_type": "markdown",
   "metadata": {},
   "source": [
    " "
   ]
  },
  {
   "cell_type": "markdown",
   "metadata": {},
   "source": [
    "### Messages Analysis"
   ]
  },
  {
   "cell_type": "code",
   "execution_count": 136,
   "metadata": {},
   "outputs": [
    {
     "data": {
      "image/png": "[encoded data removed]",
      "text/plain": [
       "<Figure size 1000x600 with 1 Axes>"
      ]
     },
     "metadata": {},
     "output_type": "display_data"
    }
   ],
   "source": [
    "# Compare the number of messages users of each plan tend to send each month\n",
    "\n",
    "avg_msgs = userinfo_df_final.groupby(['plan', 'month'])['message_count'].mean().reset_index()\n",
    "\n",
    "plt.figure(figsize=(10, 6))\n",
    "sns.barplot(data=avg_msgs,\n",
    "           x='month',\n",
    "           y='message_count',\n",
    "           hue='plan')\n",
    "\n",
    "plt.title('Avg Messages Sent by Plan each Month')\n",
    "plt.xlabel('Month')\n",
    "plt.ylabel('Avg Number of Messages')\n",
    "plt.legend(title='Plan')\n",
    "    \n",
    "plt.show()"
   ]
  },
  {
   "cell_type": "markdown",
   "metadata": {},
   "source": [
    "> For Average Messages sent each month by plan, we're seeing a clear distinction between the texting habits of customers using the Ultimate Plan compared to the Surf Plan. \n",
    "\n",
    "> Customers using the Ultimate Plan surpass those of the Surf Plan every month. In other words, the average numbers of messages sent by customers using the Ultimate Plan are greater each month than those using the Surf Plan.\n",
    "\n",
    "> Further analysis could include the reasons why this could be the case. It could be that users on the Ultiamte Plan have the perception of having more \"included\" messages because the intial included messages are greater than the Surf Plan (Only 50 included in Surf Plan, 1000 included in Ultimate Plan), and therefore they use more thinking they have more to use."
   ]
  },
  {
   "cell_type": "markdown",
   "metadata": {},
   "source": [
    "<div class=\"alert alert-block alert-danger\">\n",
    "<b>Reviewer's comment</b> <a class=\"tocSkip\"></a>\n",
    "    \n",
    "~~Please complete this section of the project - we need to have the same analysis like you made for call duration~~"
   ]
  },
  {
   "cell_type": "markdown",
   "metadata": {},
   "source": [
    "<div class=\"alert alert-block alert-info\"> <b>Student Comment.</b> <a class=\"tocSkip\"></a><br>\n",
    "\n",
    "I included more analysis of the data in the bar chart for Messages above.\n",
    "\n",
    "</div>"
   ]
  },
  {
   "cell_type": "markdown",
   "metadata": {},
   "source": [
    "<div class=\"alert alert-block alert-danger\">\n",
    "<b>Reviewer's comment v2</b> <a class=\"tocSkip\"></a>\n",
    "    \n",
    "~~Can I ask you to create boxplots or histogrames and calculate mean, variance and std here?~~"
   ]
  },
  {
   "cell_type": "markdown",
   "metadata": {},
   "source": [
    "#### Messages Mean, Variance & Std"
   ]
  },
  {
   "cell_type": "code",
   "execution_count": 142,
   "metadata": {},
   "outputs": [
    {
     "name": "stdout",
     "output_type": "stream",
     "text": [
      "For \"Surf\" Plan:\n",
      " Mean = 31.15956770502225\n",
      " Variance = 1126.0082317266636\n",
      " Standard Dev = 33.55604612773477\n",
      "\n",
      "\n",
      "For \"Ultimate\" Plan:\n",
      " Mean = 37.55138888888889\n",
      " Variance = 1207.0779147376504\n",
      " Standard Dev = 34.74302685054442\n"
     ]
    }
   ],
   "source": [
    "# Calculate the mean, variance, and standard deviation of total messages.\n",
    "\n",
    "\n",
    "# Mean, Var & Std for \"Surf\" plan\n",
    "\n",
    "surf_vals_msgs = userinfo_df_final[userinfo_df_final['plan'] == 'surf']['message_count']\n",
    "surf_msgs_mean = surf_vals_msgs.mean()\n",
    "surf_msgs_var = np.var(surf_vals_msgs)\n",
    "surf_msgs_stddev = np.std(surf_vals_msgs)\n",
    "\n",
    "# Mean, Var & Std for \"Ultimate\" plan\n",
    "\n",
    "ult_vals_msgs = userinfo_df_final[userinfo_df_final['plan'] == 'ultimate']['message_count']\n",
    "ult_msgs_mean = ult_vals_msgs.mean()\n",
    "ult_msgs_var = np.var(ult_vals_msgs)\n",
    "ult_msgs_stddev = np.std(ult_vals_msgs)\n",
    "\n",
    "\n",
    "# Printing Results\n",
    "\n",
    "print(f\"For \\\"Surf\\\" Plan:\\n Mean = {surf_msgs_mean}\\n Variance = {surf_msgs_var}\\n Standard Dev = {surf_msgs_stddev}\")\n",
    "print('\\n')\n",
    "print(f\"For \\\"Ultimate\\\" Plan:\\n Mean = {ult_msgs_mean}\\n Variance = {ult_msgs_var}\\n Standard Dev = {ult_msgs_stddev}\")"
   ]
  },
  {
   "cell_type": "markdown",
   "metadata": {},
   "source": [
    "> As we can see by the means of both plans, the Ultimate Plan has data that is skewing it higher than the Surf Plan meaning that the customers using the Ultimate Plan send more messages overall."
   ]
  },
  {
   "cell_type": "markdown",
   "metadata": {},
   "source": [
    "#### Messages Histogram"
   ]
  },
  {
   "cell_type": "code",
   "execution_count": 145,
   "metadata": {},
   "outputs": [
    {
     "data": {
      "image/png": "[encoded data removed]",
      "text/plain": [
       "<Figure size 640x480 with 1 Axes>"
      ]
     },
     "metadata": {},
     "output_type": "display_data"
    }
   ],
   "source": [
    "# Compare the number of messages sent by users on each plan.\n",
    "\n",
    "userinfo_df_final.query('plan == \"surf\"')['message_count'].hist(label='Surf')\n",
    "userinfo_df_final.query('plan == \"ultimate\"')['message_count'].hist(label='Ultimate')\n",
    "\n",
    "plt.title('Avg Messages Sent by Plan each Month')\n",
    "plt.xlabel('Month')\n",
    "plt.ylabel('Messages Sent')\n",
    "plt.legend(title='Plan')\n",
    "\n",
    "plt.show()"
   ]
  },
  {
   "cell_type": "markdown",
   "metadata": {},
   "source": [
    "<div class=\"alert alert-block alert-info\"> <b>Student Comment.v2</b> <a class=\"tocSkip\"></a><br>\n",
    "\n",
    "Why is the x-axis here not showing the months?\n",
    "\n",
    "Also, it seems that the data is opposite what we were seeing in the previous cells. It looks like the Surf plan has higher values in this visual. Am I doing something wrong here?\n",
    "    \n",
    "</div>"
   ]
  },
  {
   "cell_type": "markdown",
   "metadata": {},
   "source": [
    "<div class=\"alert alert-block alert-success\"> <b>Reviewer's comment v3</b> <a\n",
    "class=\"tocSkip\"></a>\n",
    "    \n",
    "It shows month because you used\n",
    "    \n",
    "    plt.xlabel('Month')\n",
    "    \n",
    "Histogram for surf plan is higher because we have more clients who used surf plan Here you need to compare plans using x-axis\n",
    "    \n",
    "    "
   ]
  },
  {
   "cell_type": "markdown",
   "metadata": {},
   "source": [
    "#### Messages Boxplot"
   ]
  },
  {
   "cell_type": "code",
   "execution_count": 149,
   "metadata": {},
   "outputs": [
    {
     "data": {
      "image/png": "[encoded data removed]",
      "text/plain": [
       "<Figure size 1000x600 with 1 Axes>"
      ]
     },
     "metadata": {},
     "output_type": "display_data"
    },
    {
     "data": {
      "image/png": "[encoded data removed]",
      "text/plain": [
       "<Figure size 1000x600 with 1 Axes>"
      ]
     },
     "metadata": {},
     "output_type": "display_data"
    }
   ],
   "source": [
    "# Plot a boxplot to visualize the distribution of messages sent in each plan.\n",
    "\n",
    "# Surf Plan Boxplot\n",
    "plt.figure(figsize=(10, 6))\n",
    "plt.boxplot(surf_vals_msgs)\n",
    "plt.title(\"Distribution of Messages Sent: Surf Plan\")\n",
    "plt.suptitle('')\n",
    "plt.xlabel(\"Surf Plan\")\n",
    "plt.ylabel(\"Messages Sent\")\n",
    "plt.ylim(0, 200)\n",
    "\n",
    "plt.show()\n",
    "\n",
    "\n",
    "# Ultimate Plan Boxplot\n",
    "plt.figure(figsize=(10, 6))\n",
    "plt.boxplot(ult_vals_msgs)\n",
    "plt.title(\"Distribution of Messages Sent: Ultimate Plan\")\n",
    "plt.suptitle('')\n",
    "plt.xlabel(\"Ultimate Plan\")\n",
    "plt.ylabel(\"Messages Sent\")\n",
    "plt.ylim(0, 200)\n",
    "\n",
    "plt.show()"
   ]
  },
  {
   "cell_type": "markdown",
   "metadata": {},
   "source": [
    "> The boxplots are confirming a similar mean range though still higher in the Ultimate Plan. We're also seeing a greater range of outliers in the Surf Plan here which could indicate that most of the customers on the Surf Plan actually could benefit from switching over to the Ultimate Plan since their usage is just as high as the customers who already are on the Ultimate Plan."
   ]
  },
  {
   "cell_type": "markdown",
   "metadata": {},
   "source": [
    "### Data Usage Analysis"
   ]
  },
  {
   "cell_type": "code",
   "execution_count": 152,
   "metadata": {},
   "outputs": [
    {
     "data": {
      "image/png": "[encoded data removed]",
      "text/plain": [
       "<Figure size 1000x600 with 1 Axes>"
      ]
     },
     "metadata": {},
     "output_type": "display_data"
    }
   ],
   "source": [
    "# Compare the amount of internet traffic consumed by users per plan\n",
    "\n",
    "avg_datausage = userinfo_df_final.groupby(['plan', 'month'])['mb_used'].mean().reset_index()\n",
    "\n",
    "plt.figure(figsize=(10, 6))\n",
    "sns.barplot(data=avg_datausage,\n",
    "           x='month',\n",
    "           y='mb_used',\n",
    "           hue='plan')\n",
    "\n",
    "plt.title('Avg Data Usage by Plan each Month')\n",
    "plt.xlabel('Month')\n",
    "plt.ylabel('Avg Data Usage (in mb)')\n",
    "plt.legend(title='Plan')\n",
    "    \n",
    "plt.show()"
   ]
  },
  {
   "cell_type": "markdown",
   "metadata": {},
   "source": [
    "> The customers using the Ultimate Plan have a slight lead from June to the end of the year. From January until May, the customers on the Ultimate Plan have a much greater lead in internet usage.\n",
    "\n",
    "> For the Surf Plan, included data limit is 15,360 MB. It seems that as the year progresses, users on this plan try to limit their usage the first few months and then after realizing they're not using their max allowance begin to use more internet. After surpassing their limit around July, they begin to stabilize in their usage most likely not to incur additional charges for more data used.\n",
    "\n",
    "> In looking at our customers on the Ultimate Plan, it seems they initially will feel like they have plenty of data to use (data limit is 30,720 MB, twice as much as Surf Plan), and then as the months progress they end up using around the same amount of data as those on the Surf Plan. This also gives us insight into customer data usage even with the upper 30,720 MB limit. Plans aside, their usage is the same, meaning those on the Ultimate Plan are paying more (thus bringing in more revenue) despite using about the same amount as the users on the Surf Plan."
   ]
  },
  {
   "cell_type": "markdown",
   "metadata": {},
   "source": [
    "<div class=\"alert alert-block alert-danger\">\n",
    "<b>Reviewer's comment</b> <a class=\"tocSkip\"></a>\n",
    "    \n",
    "~~Please complete this section of the project - we need to have the same analysis like you made for call duration~~"
   ]
  },
  {
   "cell_type": "markdown",
   "metadata": {},
   "source": [
    "<div class=\"alert alert-block alert-info\"> <b>Student Comment.</b> <a class=\"tocSkip\"></a><br>\n",
    "\n",
    "I included more analysis of the data in the bar chart for Internet usage above.\n",
    "\n",
    "</div>"
   ]
  },
  {
   "cell_type": "markdown",
   "metadata": {},
   "source": [
    "<div class=\"alert alert-block alert-danger\">\n",
    "<b>Reviewer's comment v2</b> <a class=\"tocSkip\"></a>\n",
    "    \n",
    "~~Can I ask you to create boxplots or histogrames and calculate mean, variance and std here?~~"
   ]
  },
  {
   "cell_type": "markdown",
   "metadata": {},
   "source": [
    "#### Data Usage Mean, Variance & Std"
   ]
  },
  {
   "cell_type": "code",
   "execution_count": 158,
   "metadata": {},
   "outputs": [
    {
     "name": "stdout",
     "output_type": "stream",
     "text": [
      "For \"Surf\" Plan:\n",
      " Mean = 16558.283490146216\n",
      " Variance = 64175571.683013394\n",
      " Standard Dev = 8010.965714757079\n",
      "\n",
      "\n",
      "For \"Ultimate\" Plan:\n",
      " Mean = 17214.699694444444\n",
      " Variance = 61566665.13868625\n",
      " Standard Dev = 7846.442833455569\n"
     ]
    }
   ],
   "source": [
    "# Calculate the mean, variance, and standard deviation of data usage.\n",
    "\n",
    "\n",
    "# Mean, Var & Std for \"Surf\" plan\n",
    "\n",
    "surf_vals_dusage = userinfo_df_final[userinfo_df_final['plan'] == 'surf']['mb_used']\n",
    "surf_dusage_mean = surf_vals_dusage.mean()\n",
    "surf_dusage_var = np.var(surf_vals_dusage)\n",
    "surf_dusage_stddev = np.std(surf_vals_dusage)\n",
    "\n",
    "# Mean, Var & Std for \"Ultimate\" plan\n",
    "\n",
    "ult_vals_dusage = userinfo_df_final[userinfo_df_final['plan'] == 'ultimate']['mb_used']\n",
    "ult_dusage_mean = ult_vals_dusage.mean()\n",
    "ult_dusage_var = np.var(ult_vals_dusage)\n",
    "ult_dusage_stddev = np.std(ult_vals_dusage)\n",
    "\n",
    "\n",
    "# Printing Results\n",
    "\n",
    "print(f\"For \\\"Surf\\\" Plan:\\n Mean = {surf_dusage_mean}\\n Variance = {surf_dusage_var}\\n Standard Dev = {surf_dusage_stddev}\")\n",
    "print('\\n')\n",
    "print(f\"For \\\"Ultimate\\\" Plan:\\n Mean = {ult_dusage_mean}\\n Variance = {ult_dusage_var}\\n Standard Dev = {ult_dusage_stddev}\")"
   ]
  },
  {
   "cell_type": "markdown",
   "metadata": {},
   "source": [
    "> As we can see by the means of both plans, there is an overall higher data usage with customers on the Ultimate Plan."
   ]
  },
  {
   "cell_type": "markdown",
   "metadata": {},
   "source": [
    "#### Data Usage Histogram"
   ]
  },
  {
   "cell_type": "code",
   "execution_count": 161,
   "metadata": {},
   "outputs": [
    {
     "data": {
      "image/png": "[encoded data removed]",
      "text/plain": [
       "<Figure size 640x480 with 1 Axes>"
      ]
     },
     "metadata": {},
     "output_type": "display_data"
    }
   ],
   "source": [
    "# Compare the total data usage by users on each plan.\n",
    "\n",
    "userinfo_df_final.query('plan == \"surf\"')['mb_used'].hist(label='Surf')\n",
    "userinfo_df_final.query('plan == \"ultimate\"')['mb_used'].hist(label='Ultimate')\n",
    "\n",
    "plt.title('Avg Data Usage by Plan each Month')\n",
    "plt.xlabel('Month')\n",
    "plt.ylabel('Data Usage (mb)')\n",
    "plt.legend(title='Plan')\n",
    "\n",
    "plt.show()"
   ]
  },
  {
   "cell_type": "markdown",
   "metadata": {},
   "source": [
    "<div class=\"alert alert-block alert-info\"> <b>Student Comment.v2</b> <a class=\"tocSkip\"></a><br>\n",
    "\n",
    "Why is the x-axis here not showing the months?\n",
    "\n",
    "Also, it seems that the data is opposite what we were seeing in the previous cells. It looks like the Surf plan has higher values in this visual. Am I doing something wrong here?\n",
    "\n",
    "**Same issue here like above**\n",
    "    \n",
    "</div>"
   ]
  },
  {
   "cell_type": "markdown",
   "metadata": {},
   "source": [
    "<div class=\"alert alert-block alert-success\"> <b>Reviewer's comment v3</b> <a\n",
    "class=\"tocSkip\"></a>\n",
    "    \n",
    "It shows month because you used\n",
    "    \n",
    "    plt.xlabel('Month')\n",
    "    \n",
    "Histogram for surf plan is higher because we have more clients who used surf plan Here you need to compare plans using x-axis"
   ]
  },
  {
   "cell_type": "markdown",
   "metadata": {},
   "source": [
    "#### Data Usage Boxplot"
   ]
  },
  {
   "cell_type": "code",
   "execution_count": 165,
   "metadata": {},
   "outputs": [
    {
     "data": {
      "image/png": "[encoded data removed]",
      "text/plain": [
       "<Figure size 1000x600 with 1 Axes>"
      ]
     },
     "metadata": {},
     "output_type": "display_data"
    },
    {
     "data": {
      "image/png": "[encoded data removed]",
      "text/plain": [
       "<Figure size 1000x600 with 1 Axes>"
      ]
     },
     "metadata": {},
     "output_type": "display_data"
    }
   ],
   "source": [
    "# Plot a boxplot to visualize the distribution of data usage by customers in each plan.\n",
    "\n",
    "# Surf Plan Boxplot\n",
    "plt.figure(figsize=(10, 6))\n",
    "plt.boxplot(surf_vals_dusage)\n",
    "plt.title(\"Distribution of Data Usage: Surf Plan\")\n",
    "plt.suptitle('')\n",
    "plt.xlabel(\"Surf Plan\")\n",
    "plt.ylabel(\"Data Used (mb)\")\n",
    "plt.ylim(0, 60000)\n",
    "\n",
    "plt.show()\n",
    "\n",
    "\n",
    "# Ultimate Plan Boxplot\n",
    "plt.figure(figsize=(10, 6))\n",
    "plt.boxplot(ult_vals_dusage)\n",
    "plt.title(\"Distribution of Data Usage: Ultimate Plan\")\n",
    "plt.suptitle('')\n",
    "plt.xlabel(\"Ultimate Plan\")\n",
    "plt.ylabel(\"Data Used (mb)\")\n",
    "plt.ylim(0, 60000)\n",
    "\n",
    "plt.show()"
   ]
  },
  {
   "cell_type": "markdown",
   "metadata": {},
   "source": [
    "> Very similar distributions on each plan here as well. We're seeing more extreme outliers in customers using the Surf Plan. Perhaps they would benefit from being motivated to switch over to the Ultimate Plan."
   ]
  },
  {
   "cell_type": "markdown",
   "metadata": {},
   "source": [
    "## Revenue Analysis"
   ]
  },
  {
   "cell_type": "code",
   "execution_count": 168,
   "metadata": {},
   "outputs": [
    {
     "data": {
      "image/png": "[encoded data removed]",
      "text/plain": [
       "<Figure size 1000x600 with 1 Axes>"
      ]
     },
     "metadata": {},
     "output_type": "display_data"
    }
   ],
   "source": [
    "# Isolating the appropriate data for the analysis.\n",
    "surf_rev = userinfo_df_final[userinfo_df_final['plan'] == 'surf'][(['month', 'monthly_rev', 'plan'])].reset_index()\n",
    "ult_rev = userinfo_df_final[userinfo_df_final['plan'] == 'ultimate'][(['month', 'monthly_rev', 'plan'])].reset_index()\n",
    "\n",
    "# Combining dataframes above to input into sns.barplot\n",
    "comb_rev = pd.concat([surf_rev, ult_rev])\n",
    "\n",
    "# Building Barplot\n",
    "plt.figure(figsize=(10, 6))\n",
    "sns.barplot(data=comb_rev,\n",
    "            x='month',\n",
    "            y='monthly_rev', \n",
    "           hue='plan')\n",
    "plt.title(\"Monthly Revenue by Plan\")\n",
    "plt.xlabel(\"Month\")\n",
    "plt.ylabel(\"Revenue (USD)\")\n",
    "\n",
    "plt.show()"
   ]
  },
  {
   "cell_type": "markdown",
   "metadata": {},
   "source": [
    "> It's clear that the revenue from the Ultimate Plan is greater and more consistent throughout the year than that compared to the Surf Plan. This is a clear indication that the pricing and thresholds of the Ultimate Plan are much more lucrative for Megaline than the Surf Plan.\n",
    "\n",
    "> Comparing this chart to that of the internet usage, for example, as the year progresses we see greater revenue coming from customers on the Surf Plan because their usage increases and they end up having to pay additional fees after surpassing their included data for the plan. In this graph, we're seeing a steady increase over the course of the year implying a slower increase in revenue for users on this plan.\n",
    "\n",
    "> For users on the Ultimate Plan, though we don't see a marked increase at any time during the year, we're obtaining a more consistent revenue stream from these plan holders despite the possibility of them not surpassing their plan's data threshold. "
   ]
  },
  {
   "cell_type": "markdown",
   "metadata": {},
   "source": [
    "<div class=\"alert alert-block alert-danger\">\n",
    "<b>Reviewer's comment</b> <a class=\"tocSkip\"></a>\n",
    "    \n",
    "~~Please complete this section of the project - we need to have the same analysis like you made for call duration~~"
   ]
  },
  {
   "cell_type": "markdown",
   "metadata": {},
   "source": [
    "<div class=\"alert alert-block alert-info\"> <b>Student Comment.</b> <a class=\"tocSkip\"></a><br>\n",
    "\n",
    "I included more analysis of the data in the bar chart for Revenue by plan above.\n",
    "\n",
    "</div>"
   ]
  },
  {
   "cell_type": "markdown",
   "metadata": {},
   "source": [
    "<div class=\"alert alert-block alert-danger\">\n",
    "<b>Reviewer's comment v2</b> <a class=\"tocSkip\"></a>\n",
    "    \n",
    "~~Can I ask you to create boxplots or histogrames and calculate mean, variance and std here?~~"
   ]
  },
  {
   "cell_type": "markdown",
   "metadata": {},
   "source": [
    "#### Revenue Mean, Variance & Std"
   ]
  },
  {
   "cell_type": "code",
   "execution_count": 174,
   "metadata": {},
   "outputs": [
    {
     "name": "stdout",
     "output_type": "stream",
     "text": [
      "For \"Surf\" Plan:\n",
      " Mean = 60.706408137317226\n",
      " Variance = 3065.884843869011\n",
      " Standard Dev = 55.37043293915094\n",
      "\n",
      "\n",
      "For \"Ultimate\" Plan:\n",
      " Mean = 73.30555555555556\n",
      " Variance = 264.6288580246976\n",
      " Standard Dev = 16.26741706678407\n"
     ]
    }
   ],
   "source": [
    "# Calculate the mean, variance, and standard deviation of plan revenue.\n",
    "\n",
    "\n",
    "# Mean, Var & Std for \"Surf\" plan\n",
    "\n",
    "surf_vals_rev = surf_rev[surf_rev['plan'] == 'surf']['monthly_rev']\n",
    "surf_rev_mean = surf_vals_rev.mean()\n",
    "surf_rev_var = np.var(surf_vals_rev)\n",
    "surf_rev_stddev = np.std(surf_vals_rev)\n",
    "\n",
    "# Mean, Var & Std for \"Ultimate\" plan\n",
    "\n",
    "ult_vals_rev = ult_rev[ult_rev['plan'] == 'ultimate']['monthly_rev']\n",
    "ult_rev_mean = ult_vals_rev.mean()\n",
    "ult_rev_var = np.var(ult_vals_rev)\n",
    "ult_rev_stddev = np.std(ult_vals_rev)\n",
    "\n",
    "\n",
    "# Printing Results\n",
    "\n",
    "print(f\"For \\\"Surf\\\" Plan:\\n Mean = {surf_rev_mean}\\n Variance = {surf_rev_var}\\n Standard Dev = {surf_rev_stddev}\")\n",
    "print('\\n')\n",
    "print(f\"For \\\"Ultimate\\\" Plan:\\n Mean = {ult_rev_mean}\\n Variance = {ult_rev_var}\\n Standard Dev = {ult_rev_stddev}\")"
   ]
  },
  {
   "cell_type": "markdown",
   "metadata": {},
   "source": [
    "> We're seeing here a higher mean in the Ultimate Plan and a much smaller variance and std. This would indicate a more focused avenue for revenue as the behavior of the majority of the customers using the Ultimate Plan are more similar to each other than the behaviors of the customers using the Surf Plan."
   ]
  },
  {
   "cell_type": "markdown",
   "metadata": {},
   "source": [
    "#### Revenue Histogram"
   ]
  },
  {
   "cell_type": "code",
   "execution_count": 177,
   "metadata": {},
   "outputs": [
    {
     "data": {
      "image/png": "[encoded data removed]",
      "text/plain": [
       "<Figure size 640x480 with 1 Axes>"
      ]
     },
     "metadata": {},
     "output_type": "display_data"
    }
   ],
   "source": [
    "# Compare the revenue by each plan.\n",
    "\n",
    "userinfo_df_final.query('plan == \"surf\"')['monthly_rev'].hist(label='Surf')\n",
    "userinfo_df_final.query('plan == \"ultimate\"')['monthly_rev'].hist(label='Ultimate')\n",
    "\n",
    "plt.title('Revenue by Plan each Month')\n",
    "plt.xlabel('Month')\n",
    "plt.ylabel('Revenue (USD)')\n",
    "plt.legend(title='Plan')\n",
    "\n",
    "plt.show()"
   ]
  },
  {
   "cell_type": "markdown",
   "metadata": {},
   "source": [
    "<div class=\"alert alert-block alert-info\"> <b>Student Comment.v2</b> <a class=\"tocSkip\"></a><br>\n",
    "\n",
    "Why is the x-axis here not showing the months?\n",
    "\n",
    "Also, it seems that the data is opposite what we were seeing in the previous cells. It looks like the Surf plan has higher values in this visual. Am I doing something wrong here?\n",
    "\n",
    "**Same issue here like above**\n",
    "    \n",
    "</div>"
   ]
  },
  {
   "cell_type": "markdown",
   "metadata": {},
   "source": [
    "<div class=\"alert alert-block alert-success\"> <b>Reviewer's comment v3</b> <a\n",
    "class=\"tocSkip\"></a>\n",
    "    \n",
    "It shows month because you used\n",
    "    \n",
    "    plt.xlabel('Month')\n",
    "    \n",
    "Histogram for surf plan is higher because we have more clients who used surf plan Here you need to compare plans using x-axis"
   ]
  },
  {
   "cell_type": "markdown",
   "metadata": {},
   "source": [
    "#### Revenue Boxplot"
   ]
  },
  {
   "cell_type": "code",
   "execution_count": 181,
   "metadata": {},
   "outputs": [
    {
     "data": {
      "image/png": "[encoded data removed]",
      "text/plain": [
       "<Figure size 1000x600 with 1 Axes>"
      ]
     },
     "metadata": {},
     "output_type": "display_data"
    },
    {
     "data": {
      "image/png": "[encoded data removed]",
      "text/plain": [
       "<Figure size 1000x600 with 1 Axes>"
      ]
     },
     "metadata": {},
     "output_type": "display_data"
    }
   ],
   "source": [
    "# Plot a boxplot to visualize the distribution of revenue by each plan.\n",
    "\n",
    "# Surf Plan Boxplot\n",
    "plt.figure(figsize=(10, 6))\n",
    "plt.boxplot(surf_vals_rev)\n",
    "plt.title(\"Distribution of Revenue: Surf Plan\")\n",
    "plt.suptitle('')\n",
    "plt.xlabel(\"Surf Plan\")\n",
    "plt.ylabel(\"Revenue (USD)\")\n",
    "plt.ylim(0, 650)\n",
    "\n",
    "plt.show()\n",
    "\n",
    "\n",
    "# Ultimate Plan Boxplot\n",
    "plt.figure(figsize=(10, 6))\n",
    "plt.boxplot(ult_vals_rev)\n",
    "plt.title(\"Distribution of Revenue: Ultimate Plan\")\n",
    "plt.suptitle('')\n",
    "plt.xlabel(\"Ultimate Plan\")\n",
    "plt.ylabel(\"Revenue (USD)\")\n",
    "plt.ylim(0, 650)\n",
    "\n",
    "plt.show()"
   ]
  },
  {
   "cell_type": "markdown",
   "metadata": {},
   "source": [
    "<div class=\"alert alert-block alert-info\"> <b>Student Comment.v2</b> <a class=\"tocSkip\"></a><br>\n",
    "\n",
    "Not sure if this is displaying accurate results?\n",
    "    \n",
    "</div>"
   ]
  },
  {
   "cell_type": "markdown",
   "metadata": {},
   "source": [
    "<div class=\"alert alert-block alert-success\"> <b>Reviewer's comment v3</b> <a\n",
    "class=\"tocSkip\"></a>\n",
    "    \n",
    "Boxplots are correct Clients who use ultimate plan just dont use extra minutes, extra messages and extra traffic So they pay 70 usd per month in general"
   ]
  },
  {
   "cell_type": "markdown",
   "metadata": {},
   "source": [
    "# Testing Revenue Hypotheses"
   ]
  },
  {
   "cell_type": "markdown",
   "metadata": {},
   "source": [
    ">**Null Hypothesis:** The average revenue from users of the Ultimate and Surf calling plans **do not** differ.\n",
    "\n",
    ">**Alternative Hypothesis:** : The average revenue from users of the Ultimate and Surg calling plans **differ**."
   ]
  },
  {
   "cell_type": "markdown",
   "metadata": {},
   "source": [
    "> We're using a **t-test** because we're comparing the means of two different sample statistical populations.\n",
    "\n",
    "> We are using an **alpha value** of **0.05** signifying a 5% chance of incorrectly rejecting the Null Hypothesis. Since we are just trying to see if there's statistical significance of the relation between the monthly revenue brought in by the Surf and Ultimate plans."
   ]
  },
  {
   "cell_type": "code",
   "execution_count": 187,
   "metadata": {},
   "outputs": [
    {
     "name": "stdout",
     "output_type": "stream",
     "text": [
      "The p-value is: 2.2837880155632775e-16\n",
      "We reject the Null Hypothesis\n"
     ]
    }
   ],
   "source": [
    "# Test the hypotheses\n",
    "\n",
    "alpha = 0.05\n",
    "\n",
    "surf_monthly_rev = surf_rev['monthly_rev']\n",
    "ult_monthly_rev = ult_rev['monthly_rev']\n",
    "\n",
    "# False because we're testing the Null.\n",
    "results = stats.ttest_ind(surf_monthly_rev, ult_monthly_rev, equal_var=False) \n",
    "\n",
    "\n",
    "print('The p-value is:', results.pvalue)\n",
    "if results.pvalue < alpha:\n",
    "    print(\"We reject the Null Hypothesis\")\n",
    "else:\n",
    "    print(\"We can't reject the Null Hypothesis\")"
   ]
  },
  {
   "cell_type": "markdown",
   "metadata": {},
   "source": [
    "<div class=\"alert alert-block alert-danger\">\n",
    "<b>Reviewer's comment</b> <a class=\"tocSkip\"></a>\n",
    "    \n",
    "~~We have an issue with code Please fix it~~"
   ]
  },
  {
   "cell_type": "markdown",
   "metadata": {},
   "source": [
    "<div class=\"alert alert-block alert-info\"> <b>Student Comment.</b> <a class=\"tocSkip\"></a><br>\n",
    "\n",
    "I corrected this. There was an error with how I was importing 'scipy'. I had to import 'stats' from 'scipy', before it was just importing 'scipy'.\n",
    "    \n",
    "This was done above in the Initialization section.\n",
    "</div>"
   ]
  },
  {
   "cell_type": "markdown",
   "metadata": {},
   "source": [
    "<div class=\"alert alert-block alert-success\"> <b>Reviewer's comment v2</b> <a\n",
    "class=\"tocSkip\"></a>\n",
    "    \n",
    "Great The best - if you dont use several methods from the same library - is to import exact method"
   ]
  },
  {
   "cell_type": "markdown",
   "metadata": {},
   "source": [
    "<div class=\"alert alert-block alert-info\"> <b>Student Comment.v2</b> <a class=\"tocSkip\"></a><br>\n",
    "\n",
    "That's interesting, why is it best only to import that exact methods your using instead of the entire library? Is it to save memory?\n",
    "</div>"
   ]
  },
  {
   "cell_type": "markdown",
   "metadata": {},
   "source": [
    "<div class=\"alert alert-block alert-success\"> <b>Reviewer's comment v3</b> <a\n",
    "class=\"tocSkip\"></a>\n",
    "    \n",
    "Yeap You are right"
   ]
  },
  {
   "cell_type": "markdown",
   "metadata": {},
   "source": [
    "> We find that we can **reject** the Null Hypothesis because our p-value is less than our alpha. The average revenue from the Surf and Ultimate plans **does** differ."
   ]
  },
  {
   "cell_type": "markdown",
   "metadata": {},
   "source": [
    "# Testing NY-NJ Region Hypotheses"
   ]
  },
  {
   "cell_type": "markdown",
   "metadata": {},
   "source": [
    "> For this analysis, we need to merge the original \"users\" dataframe and the already merged \"userinfo_df_final\" to include the city information.\n",
    "\n",
    "> After this we can filter for NY-NJ, as well as all cities that are **not** NY-NJ, and test the hypothesis."
   ]
  },
  {
   "cell_type": "code",
   "execution_count": 196,
   "metadata": {},
   "outputs": [],
   "source": [
    "# Merging \"userinfo_df_final\" with original \"users\" dataframe\n",
    "\n",
    "merged_users = userinfo_df_final.merge(users, on=\"user_id\", how=\"left\")\n",
    "\n",
    "merged_users_nynj = merged_users[merged_users['city'].str.contains(\"NY-NJ\")]['monthly_rev']\n",
    "\n",
    "merged_users_not_nynj = merged_users[~merged_users['city'].str.contains(\"NY-NJ\")]['monthly_rev']"
   ]
  },
  {
   "cell_type": "markdown",
   "metadata": {},
   "source": [
    ">**Null Hypothesis:** The average revenue from users NY-NJ area is **not** different from that of the users from the other regions.\n",
    "\n",
    ">**Alternative Hypothesis:** : The average revenue from users NY-NJ area **is** different from that of the users from the other regions."
   ]
  },
  {
   "cell_type": "markdown",
   "metadata": {},
   "source": [
    "> We're using a **t-test** because we're comparing the means of two different sample statistical populations.\n",
    "\n",
    "> We are using an **alpha value** of **0.05** signifying a 5% chance of incorrectly rejecting the Null Hypothesis. We are just trying to see if there's statistical significance of the relation between the monthly revenue brought in by the Surf and Ultimate plans within the NY-NJ region."
   ]
  },
  {
   "cell_type": "code",
   "execution_count": 199,
   "metadata": {},
   "outputs": [
    {
     "name": "stdout",
     "output_type": "stream",
     "text": [
      "The p-value is: 0.038045308049788715\n",
      "We reject the Null Hypothesis\n"
     ]
    }
   ],
   "source": [
    "# Test the hypotheses\n",
    "\n",
    "alpha = 0.05\n",
    "\n",
    "results = stats.ttest_ind(merged_users_nynj, merged_users_not_nynj, equal_var=False) # False, we're testing the Null.\n",
    "\n",
    "\n",
    "print('The p-value is:', results.pvalue)\n",
    "if results.pvalue < alpha:\n",
    "    print(\"We reject the Null Hypothesis\")\n",
    "else:\n",
    "    print(\"We can't reject the Null Hypothesis\")"
   ]
  },
  {
   "cell_type": "markdown",
   "metadata": {},
   "source": [
    "> We find that we can **reject** the Null Hypothesis because our p-value is less than our alpha. The average revenue from the customers in the NY-NJ region is different from the customers from all other regions."
   ]
  },
  {
   "cell_type": "markdown",
   "metadata": {},
   "source": [
    "<div class=\"alert alert-block alert-danger\">\n",
    "<b>Reviewer's comment v2</b> <a class=\"tocSkip\"></a>\n",
    "    \n",
    "~~Code and results are correct But it would be nice if you formulate H0 and H1 (write the text) for first and second hypotheses testing As well short explanation why you choose alpha = 0.05 and ttest will give your project big plus~~"
   ]
  },
  {
   "cell_type": "markdown",
   "metadata": {},
   "source": [
    "<div class=\"alert alert-block alert-info\"> <b>Student Comment.v2</b> <a class=\"tocSkip\"></a><br>\n",
    "\n",
    "I attempted to complete the task you added above about the hypotheses and explaining why I chose the alpha value and ttest. The explanations for the alpha value and ttest seem redundant, is there a reason why you would choose another test or alpha value?\n",
    "    \n",
    "Also, for the hypotheses, am I writing those correctly? Do they need to be more specific?\n",
    "    \n",
    "Lastly, why is the p-value for the revenue hypothesis testing higher than the alpha value and still saying it is rejecting the Null? I think I'm not understanding completely in this section how to interpret the results.\n",
    "    \n",
    "</div>"
   ]
  },
  {
   "cell_type": "markdown",
   "metadata": {},
   "source": [
    "<div class=\"alert alert-block alert-success\"> <b>Reviewer's comment v3</b> <a\n",
    "class=\"tocSkip\"></a>\n",
    "    \n",
    "Evrything is correct\n",
    "    \n",
    "For alpha if we have more precision we can use 0.01 (normaly in clinical tests)\n",
    "    \n",
    "There are many statistical tests - for example z-test (for example for conversion rate), test for not normal distributions of values, etc https://ctl.unm.edu/assets/docs/resources/hypothesis-testing-sheet.pdf"
   ]
  },
  {
   "cell_type": "markdown",
   "metadata": {},
   "source": [
    "# General Conclusions"
   ]
  },
  {
   "cell_type": "markdown",
   "metadata": {},
   "source": [
    "> After analyzing our data, we can see that there isn't much variance between the customers in the Surf and Ultimate plan when it comes to **duration of calls each month**.\n",
    "\n",
    "> For **messaging**, we did see that users on the Ultimate Plan sent more messages consistently throughout the year compared to those from the Surf Plan.\n",
    "\n",
    "> In **data usage**, although there was a spike in usage from Ultimate Plan holders, there is only a slight higher usage rage between the two plans throughout the rest of the year.\n",
    "\n",
    "> As we look at **revenue** per plan, it is clear that the Ultimate Plan brings in the most revenue between the two plans across the board. This is also confirmed by our p-value in our statistical analysis of the Monthly Revenue between the two plans.\n",
    "\n",
    "> With this information, it is my recommendation that the Commerical Dept adjusts the advertising budget in favor of the Ultimate Plan, as this is the plan that is generating the most revenue for the Megaline."
   ]
  },
  {
   "cell_type": "markdown",
   "metadata": {},
   "source": [
    "<div class=\"alert alert-block alert-success\"> <b>Reviewer's comment v2</b> <a\n",
    "class=\"tocSkip\"></a>\n",
    "    \n",
    "Super conclusion with all results of analysisµ"
   ]
  }
 ],
 "metadata": {
  "ExecuteTimeLog": [
   {
    "duration": 828,
    "start_time": "2021-11-16T09:21:11.304Z"
   },
   {
    "duration": 893,
    "start_time": "2021-11-16T09:21:17.728Z"
   },
   {
    "duration": 1150,
    "start_time": "2021-11-16T09:21:29.568Z"
   },
   {
    "duration": 3,
    "start_time": "2021-11-16T09:24:14.495Z"
   },
   {
    "duration": 120,
    "start_time": "2021-11-16T09:24:46.630Z"
   },
   {
    "duration": 3,
    "start_time": "2021-11-16T09:28:27.882Z"
   },
   {
    "duration": 4,
    "start_time": "2021-11-16T09:29:54.281Z"
   },
   {
    "duration": 3,
    "start_time": "2021-11-16T09:30:45.936Z"
   },
   {
    "duration": 4,
    "start_time": "2021-11-16T09:31:06.300Z"
   },
   {
    "duration": 113,
    "start_time": "2021-11-16T09:31:37.208Z"
   },
   {
    "duration": 143,
    "start_time": "2021-11-16T09:31:48.656Z"
   },
   {
    "duration": 98,
    "start_time": "2021-11-16T09:31:55.678Z"
   },
   {
    "duration": 3,
    "start_time": "2021-11-16T09:32:08.535Z"
   },
   {
    "duration": 111,
    "start_time": "2021-11-16T09:32:10.120Z"
   },
   {
    "duration": 3,
    "start_time": "2021-11-16T09:32:15.732Z"
   },
   {
    "duration": 4,
    "start_time": "2021-11-16T09:32:29.423Z"
   },
   {
    "duration": 3,
    "start_time": "2021-11-16T10:03:03.074Z"
   },
   {
    "duration": 3,
    "start_time": "2021-11-16T10:10:01.288Z"
   },
   {
    "duration": 3,
    "start_time": "2021-11-16T10:10:46.923Z"
   },
   {
    "duration": 121,
    "start_time": "2021-11-16T10:37:46.494Z"
   },
   {
    "duration": 125,
    "start_time": "2021-11-16T10:38:20.632Z"
   },
   {
    "duration": 112,
    "start_time": "2021-11-16T10:46:53.001Z"
   },
   {
    "duration": 110,
    "start_time": "2021-11-16T10:48:25.775Z"
   },
   {
    "duration": 3,
    "start_time": "2021-11-16T10:50:18.720Z"
   },
   {
    "duration": 4,
    "start_time": "2021-11-16T10:50:37.649Z"
   },
   {
    "duration": 2,
    "start_time": "2021-11-16T10:50:51.884Z"
   },
   {
    "duration": 3,
    "start_time": "2021-11-16T10:51:56.237Z"
   },
   {
    "duration": 101,
    "start_time": "2021-11-16T10:53:13.791Z"
   },
   {
    "duration": 3,
    "start_time": "2021-11-16T10:55:59.186Z"
   },
   {
    "duration": 3,
    "start_time": "2021-11-16T10:56:10.751Z"
   },
   {
    "duration": 3,
    "start_time": "2021-11-16T10:56:49.038Z"
   },
   {
    "duration": 3,
    "start_time": "2021-11-16T10:56:49.174Z"
   },
   {
    "duration": 4,
    "start_time": "2021-11-16T10:56:49.414Z"
   },
   {
    "duration": 3,
    "start_time": "2021-11-16T10:56:49.680Z"
   },
   {
    "duration": 3,
    "start_time": "2021-11-16T10:56:50.370Z"
   },
   {
    "duration": 114,
    "start_time": "2021-11-16T10:59:34.518Z"
   },
   {
    "duration": 3,
    "start_time": "2021-11-16T11:01:41.201Z"
   },
   {
    "duration": 116,
    "start_time": "2021-11-16T11:01:48.754Z"
   },
   {
    "duration": 3,
    "start_time": "2021-11-16T11:02:16.685Z"
   },
   {
    "duration": 3,
    "start_time": "2021-11-16T11:02:19.479Z"
   },
   {
    "duration": 3,
    "start_time": "2021-11-16T11:02:47.067Z"
   },
   {
    "duration": 3,
    "start_time": "2021-11-16T11:02:49.353Z"
   },
   {
    "duration": 3,
    "start_time": "2021-11-16T11:03:07.835Z"
   },
   {
    "duration": 3,
    "start_time": "2021-11-16T11:03:07.953Z"
   },
   {
    "duration": 112,
    "start_time": "2021-11-16T11:07:52.072Z"
   },
   {
    "duration": 187,
    "start_time": "2021-11-16T11:09:23.468Z"
   },
   {
    "duration": 4,
    "start_time": "2021-11-16T11:10:01.455Z"
   },
   {
    "duration": 3,
    "start_time": "2021-11-16T11:10:05.069Z"
   },
   {
    "duration": 4,
    "start_time": "2021-11-16T11:10:13.376Z"
   },
   {
    "duration": 3,
    "start_time": "2021-11-16T11:10:14.434Z"
   },
   {
    "duration": 3,
    "start_time": "2021-11-16T11:10:22.853Z"
   },
   {
    "duration": 4,
    "start_time": "2021-11-16T11:27:29.279Z"
   },
   {
    "duration": 4,
    "start_time": "2021-11-16T11:29:08.919Z"
   },
   {
    "duration": 118,
    "start_time": "2021-11-16T11:29:46.703Z"
   },
   {
    "duration": 437,
    "start_time": "2021-11-16T11:36:02.181Z"
   },
   {
    "duration": 157,
    "start_time": "2021-11-16T11:36:14.388Z"
   },
   {
    "duration": 207,
    "start_time": "2021-11-16T11:47:15.898Z"
   },
   {
    "duration": 3,
    "start_time": "2021-11-16T11:53:52.092Z"
   },
   {
    "duration": 3,
    "start_time": "2021-11-16T11:53:52.236Z"
   },
   {
    "duration": 3,
    "start_time": "2021-11-16T11:59:12.005Z"
   },
   {
    "duration": 112,
    "start_time": "2021-11-16T12:00:33.446Z"
   },
   {
    "duration": 3,
    "start_time": "2021-11-16T12:02:14.453Z"
   },
   {
    "duration": 3,
    "start_time": "2021-11-16T12:02:39.512Z"
   },
   {
    "duration": 106,
    "start_time": "2021-11-16T12:03:03.460Z"
   },
   {
    "duration": 3,
    "start_time": "2021-11-17T20:37:21.139Z"
   },
   {
    "duration": 3,
    "start_time": "2021-11-17T20:37:22.229Z"
   },
   {
    "duration": 3,
    "start_time": "2021-11-17T20:38:38.806Z"
   },
   {
    "duration": 3,
    "start_time": "2021-11-17T20:38:41.958Z"
   },
   {
    "duration": 3,
    "start_time": "2021-11-17T20:43:46.551Z"
   },
   {
    "duration": 4,
    "start_time": "2021-11-17T20:58:21.835Z"
   },
   {
    "duration": 3,
    "start_time": "2021-11-17T20:59:21.872Z"
   },
   {
    "duration": 4,
    "start_time": "2021-11-17T20:59:45.352Z"
   },
   {
    "duration": 4,
    "start_time": "2021-11-17T20:59:49.646Z"
   },
   {
    "duration": 159,
    "start_time": "2021-11-17T21:02:26.949Z"
   },
   {
    "duration": 3,
    "start_time": "2021-11-17T21:03:53.461Z"
   },
   {
    "duration": 3,
    "start_time": "2021-11-17T21:03:53.694Z"
   },
   {
    "duration": 3,
    "start_time": "2021-11-17T21:05:28.145Z"
   },
   {
    "duration": 116,
    "start_time": "2021-11-17T21:05:57.787Z"
   },
   {
    "duration": 3,
    "start_time": "2021-11-17T21:06:37.993Z"
   },
   {
    "duration": 3,
    "start_time": "2021-11-17T21:06:38.261Z"
   },
   {
    "duration": 3,
    "start_time": "2021-11-17T21:11:54.358Z"
   },
   {
    "duration": 3,
    "start_time": "2021-11-17T21:12:43.846Z"
   },
   {
    "duration": 4,
    "start_time": "2021-11-17T21:13:08.773Z"
   },
   {
    "duration": 3,
    "start_time": "2021-11-17T21:14:44.441Z"
   },
   {
    "duration": 3,
    "start_time": "2021-11-17T21:15:42.059Z"
   },
   {
    "duration": 4,
    "start_time": "2021-11-17T21:15:51.995Z"
   },
   {
    "duration": 3,
    "start_time": "2021-11-17T21:15:53.923Z"
   },
   {
    "duration": 3,
    "start_time": "2021-11-17T21:15:55.282Z"
   },
   {
    "duration": 3,
    "start_time": "2021-11-17T21:16:28.492Z"
   },
   {
    "duration": 3,
    "start_time": "2021-11-17T21:16:32.603Z"
   },
   {
    "duration": 3,
    "start_time": "2021-11-17T21:17:06.941Z"
   },
   {
    "duration": 98,
    "start_time": "2021-11-17T21:18:05.733Z"
   },
   {
    "duration": 4,
    "start_time": "2021-11-17T21:21:35.255Z"
   },
   {
    "duration": 3,
    "start_time": "2021-11-17T21:21:37.804Z"
   },
   {
    "duration": 4,
    "start_time": "2021-11-17T21:23:06.071Z"
   },
   {
    "duration": 3,
    "start_time": "2021-11-17T21:23:24.799Z"
   },
   {
    "duration": 3,
    "start_time": "2021-11-17T21:23:32.591Z"
   },
   {
    "duration": 98,
    "start_time": "2021-11-17T21:28:31.559Z"
   },
   {
    "duration": 3,
    "start_time": "2021-11-17T21:28:45.448Z"
   },
   {
    "duration": 3,
    "start_time": "2021-11-17T21:29:17.303Z"
   },
   {
    "duration": 3,
    "start_time": "2021-11-17T21:29:29.617Z"
   },
   {
    "duration": 3,
    "start_time": "2021-11-17T21:29:32.681Z"
   },
   {
    "duration": 3,
    "start_time": "2021-11-17T21:36:11.474Z"
   },
   {
    "duration": 3,
    "start_time": "2021-11-17T21:36:14.791Z"
   },
   {
    "duration": 3,
    "start_time": "2021-11-17T21:36:53.943Z"
   },
   {
    "duration": 3,
    "start_time": "2021-11-17T21:36:56.165Z"
   },
   {
    "duration": 4,
    "start_time": "2021-11-17T21:37:16.590Z"
   },
   {
    "duration": 3,
    "start_time": "2021-11-17T21:37:22.702Z"
   },
   {
    "duration": 4,
    "start_time": "2021-11-17T21:38:03.479Z"
   },
   {
    "duration": 3,
    "start_time": "2021-11-17T21:38:08.601Z"
   },
   {
    "duration": 3,
    "start_time": "2021-11-17T21:38:12.928Z"
   },
   {
    "duration": 3,
    "start_time": "2021-11-17T21:38:48.896Z"
   },
   {
    "duration": 2,
    "start_time": "2021-11-17T21:38:49.171Z"
   },
   {
    "duration": 4,
    "start_time": "2021-11-17T21:39:57.889Z"
   },
   {
    "duration": 3,
    "start_time": "2021-11-17T21:39:58.057Z"
   },
   {
    "duration": 3,
    "start_time": "2021-11-17T21:41:20.108Z"
   },
   {
    "duration": 3,
    "start_time": "2021-11-17T21:41:20.629Z"
   },
   {
    "duration": 3,
    "start_time": "2021-11-17T21:42:49.136Z"
   },
   {
    "duration": 3,
    "start_time": "2021-11-17T21:43:15.137Z"
   },
   {
    "duration": 4,
    "start_time": "2021-11-17T21:43:16.766Z"
   },
   {
    "duration": 4,
    "start_time": "2021-11-17T21:43:31.711Z"
   },
   {
    "duration": 3,
    "start_time": "2021-11-17T21:43:36.312Z"
   },
   {
    "duration": 4,
    "start_time": "2021-11-17T21:45:08.825Z"
   },
   {
    "duration": 4,
    "start_time": "2021-11-17T21:45:10.119Z"
   },
   {
    "duration": 4,
    "start_time": "2021-11-17T21:45:13.748Z"
   },
   {
    "duration": 3,
    "start_time": "2021-11-17T21:45:22.219Z"
   },
   {
    "duration": 3,
    "start_time": "2021-11-17T21:45:33.412Z"
   },
   {
    "duration": 2,
    "start_time": "2021-11-17T21:46:01.885Z"
   },
   {
    "duration": 3,
    "start_time": "2021-11-17T21:46:03.628Z"
   },
   {
    "duration": 107,
    "start_time": "2021-11-17T21:47:32.512Z"
   },
   {
    "duration": 103,
    "start_time": "2021-11-17T21:50:36.243Z"
   },
   {
    "duration": 3,
    "start_time": "2021-11-18T06:28:31.440Z"
   },
   {
    "duration": 3,
    "start_time": "2021-11-18T06:29:00.168Z"
   },
   {
    "duration": 3,
    "start_time": "2021-11-18T06:31:27.008Z"
   },
   {
    "duration": 2,
    "start_time": "2021-11-18T06:35:34.288Z"
   },
   {
    "duration": 2,
    "start_time": "2021-11-18T06:38:04.527Z"
   },
   {
    "duration": 507,
    "start_time": "2025-03-02T20:39:19.443Z"
   },
   {
    "duration": 5,
    "start_time": "2025-03-02T20:40:49.629Z"
   },
   {
    "duration": 222,
    "start_time": "2025-03-02T20:41:59.424Z"
   },
   {
    "duration": 171,
    "start_time": "2025-03-02T20:42:10.061Z"
   },
   {
    "duration": 512,
    "start_time": "2025-03-02T20:44:36.207Z"
   },
   {
    "duration": 155,
    "start_time": "2025-03-02T20:45:33.629Z"
   },
   {
    "duration": 159,
    "start_time": "2025-03-02T20:45:47.112Z"
   },
   {
    "duration": 162,
    "start_time": "2025-03-02T20:45:47.273Z"
   },
   {
    "duration": 3,
    "start_time": "2025-03-02T20:45:47.437Z"
   },
   {
    "duration": 2,
    "start_time": "2025-03-02T20:45:47.442Z"
   },
   {
    "duration": 5,
    "start_time": "2025-03-02T20:45:47.446Z"
   },
   {
    "duration": 3,
    "start_time": "2025-03-02T20:45:47.453Z"
   },
   {
    "duration": 3,
    "start_time": "2025-03-02T20:45:47.458Z"
   },
   {
    "duration": 4,
    "start_time": "2025-03-02T20:45:47.462Z"
   },
   {
    "duration": 2,
    "start_time": "2025-03-02T20:45:47.468Z"
   },
   {
    "duration": 2,
    "start_time": "2025-03-02T20:45:47.474Z"
   },
   {
    "duration": 3,
    "start_time": "2025-03-02T20:45:47.505Z"
   },
   {
    "duration": 2,
    "start_time": "2025-03-02T20:45:47.511Z"
   },
   {
    "duration": 4,
    "start_time": "2025-03-02T20:45:47.516Z"
   },
   {
    "duration": 2,
    "start_time": "2025-03-02T20:45:47.522Z"
   },
   {
    "duration": 4,
    "start_time": "2025-03-02T20:45:47.526Z"
   },
   {
    "duration": 3,
    "start_time": "2025-03-02T20:45:47.531Z"
   },
   {
    "duration": 3,
    "start_time": "2025-03-02T20:45:47.536Z"
   },
   {
    "duration": 2,
    "start_time": "2025-03-02T20:45:47.541Z"
   },
   {
    "duration": 3,
    "start_time": "2025-03-02T20:45:47.545Z"
   },
   {
    "duration": 3,
    "start_time": "2025-03-02T20:45:47.550Z"
   },
   {
    "duration": 2,
    "start_time": "2025-03-02T20:45:47.555Z"
   },
   {
    "duration": 47,
    "start_time": "2025-03-02T20:45:47.559Z"
   },
   {
    "duration": 4,
    "start_time": "2025-03-02T20:45:47.608Z"
   },
   {
    "duration": 3,
    "start_time": "2025-03-02T20:45:47.614Z"
   },
   {
    "duration": 5,
    "start_time": "2025-03-02T20:45:47.621Z"
   },
   {
    "duration": 6,
    "start_time": "2025-03-02T20:45:47.628Z"
   },
   {
    "duration": 3,
    "start_time": "2025-03-02T20:45:47.636Z"
   },
   {
    "duration": 2,
    "start_time": "2025-03-02T20:45:47.643Z"
   },
   {
    "duration": 16,
    "start_time": "2025-03-02T20:46:43.700Z"
   },
   {
    "duration": 11,
    "start_time": "2025-03-02T20:47:07.375Z"
   },
   {
    "duration": 8,
    "start_time": "2025-03-02T20:47:26.782Z"
   },
   {
    "duration": 8,
    "start_time": "2025-03-02T20:48:04.251Z"
   },
   {
    "duration": 9,
    "start_time": "2025-03-02T20:59:03.177Z"
   },
   {
    "duration": 10,
    "start_time": "2025-03-02T20:59:09.770Z"
   },
   {
    "duration": 544,
    "start_time": "2025-03-06T23:38:44.952Z"
   },
   {
    "duration": 160,
    "start_time": "2025-03-06T23:38:45.499Z"
   },
   {
    "duration": 14,
    "start_time": "2025-03-06T23:38:45.660Z"
   },
   {
    "duration": 15,
    "start_time": "2025-03-06T23:38:45.677Z"
   },
   {
    "duration": 9,
    "start_time": "2025-03-06T23:38:45.695Z"
   },
   {
    "duration": 11,
    "start_time": "2025-03-06T23:38:45.706Z"
   },
   {
    "duration": 2,
    "start_time": "2025-03-06T23:38:45.745Z"
   },
   {
    "duration": 3,
    "start_time": "2025-03-06T23:38:45.749Z"
   },
   {
    "duration": 3,
    "start_time": "2025-03-06T23:38:45.754Z"
   },
   {
    "duration": 2,
    "start_time": "2025-03-06T23:38:45.761Z"
   },
   {
    "duration": 2,
    "start_time": "2025-03-06T23:38:45.766Z"
   },
   {
    "duration": 3,
    "start_time": "2025-03-06T23:38:45.770Z"
   },
   {
    "duration": 2,
    "start_time": "2025-03-06T23:38:45.775Z"
   },
   {
    "duration": 3,
    "start_time": "2025-03-06T23:38:45.779Z"
   },
   {
    "duration": 3,
    "start_time": "2025-03-06T23:38:45.784Z"
   },
   {
    "duration": 3,
    "start_time": "2025-03-06T23:38:45.788Z"
   },
   {
    "duration": 3,
    "start_time": "2025-03-06T23:38:45.793Z"
   },
   {
    "duration": 47,
    "start_time": "2025-03-06T23:38:45.798Z"
   },
   {
    "duration": 3,
    "start_time": "2025-03-06T23:38:45.847Z"
   },
   {
    "duration": 5,
    "start_time": "2025-03-06T23:38:45.851Z"
   },
   {
    "duration": 2,
    "start_time": "2025-03-06T23:38:45.858Z"
   },
   {
    "duration": 3,
    "start_time": "2025-03-06T23:38:45.862Z"
   },
   {
    "duration": 5,
    "start_time": "2025-03-06T23:38:45.867Z"
   },
   {
    "duration": 4,
    "start_time": "2025-03-06T23:38:45.874Z"
   },
   {
    "duration": 4,
    "start_time": "2025-03-06T23:38:45.879Z"
   },
   {
    "duration": 2,
    "start_time": "2025-03-06T23:38:45.885Z"
   },
   {
    "duration": 3,
    "start_time": "2025-03-06T23:38:45.889Z"
   },
   {
    "duration": 2,
    "start_time": "2025-03-06T23:38:45.896Z"
   },
   {
    "duration": 4,
    "start_time": "2025-03-06T23:44:16.111Z"
   },
   {
    "duration": 207,
    "start_time": "2025-03-06T23:44:24.201Z"
   },
   {
    "duration": 13,
    "start_time": "2025-03-06T23:44:27.940Z"
   },
   {
    "duration": 13,
    "start_time": "2025-03-06T23:45:49.613Z"
   },
   {
    "duration": 3,
    "start_time": "2025-03-06T23:45:56.038Z"
   },
   {
    "duration": 12,
    "start_time": "2025-03-06T23:46:07.322Z"
   },
   {
    "duration": 10,
    "start_time": "2025-03-06T23:46:12.277Z"
   },
   {
    "duration": 8,
    "start_time": "2025-03-06T23:46:15.846Z"
   },
   {
    "duration": 4,
    "start_time": "2025-03-06T23:58:01.876Z"
   },
   {
    "duration": 10,
    "start_time": "2025-03-06T23:58:08.075Z"
   },
   {
    "duration": 13,
    "start_time": "2025-03-06T23:58:34.974Z"
   },
   {
    "duration": 16,
    "start_time": "2025-03-07T00:00:22.395Z"
   },
   {
    "duration": 8,
    "start_time": "2025-03-07T00:00:37.709Z"
   },
   {
    "duration": 22,
    "start_time": "2025-03-07T00:05:38.800Z"
   },
   {
    "duration": 12,
    "start_time": "2025-03-07T00:06:06.245Z"
   },
   {
    "duration": 8,
    "start_time": "2025-03-07T00:06:18.605Z"
   },
   {
    "duration": 19,
    "start_time": "2025-03-07T00:08:03.082Z"
   },
   {
    "duration": 15,
    "start_time": "2025-03-07T00:08:11.446Z"
   },
   {
    "duration": 7,
    "start_time": "2025-03-07T00:08:18.684Z"
   },
   {
    "duration": 19,
    "start_time": "2025-03-07T00:09:38.618Z"
   },
   {
    "duration": 11,
    "start_time": "2025-03-07T00:22:58.697Z"
   },
   {
    "duration": 9,
    "start_time": "2025-03-07T00:26:06.667Z"
   },
   {
    "duration": 261,
    "start_time": "2025-03-07T00:26:22.728Z"
   },
   {
    "duration": 32,
    "start_time": "2025-03-07T00:27:34.530Z"
   },
   {
    "duration": 31,
    "start_time": "2025-03-07T00:27:43.894Z"
   },
   {
    "duration": 18,
    "start_time": "2025-03-07T00:27:53.929Z"
   },
   {
    "duration": 15,
    "start_time": "2025-03-07T00:28:13.014Z"
   },
   {
    "duration": 12,
    "start_time": "2025-03-07T00:31:43.865Z"
   },
   {
    "duration": 50,
    "start_time": "2025-03-07T00:32:55.551Z"
   },
   {
    "duration": 64,
    "start_time": "2025-03-07T00:33:05.874Z"
   },
   {
    "duration": 353,
    "start_time": "2025-03-07T00:33:15.209Z"
   },
   {
    "duration": 69,
    "start_time": "2025-03-07T00:33:22.971Z"
   },
   {
    "duration": 54,
    "start_time": "2025-03-07T00:33:28.598Z"
   },
   {
    "duration": 54,
    "start_time": "2025-03-07T00:33:55.191Z"
   },
   {
    "duration": 57,
    "start_time": "2025-03-07T00:34:16.548Z"
   },
   {
    "duration": 23,
    "start_time": "2025-03-07T00:36:34.229Z"
   },
   {
    "duration": 56,
    "start_time": "2025-03-07T00:36:42.474Z"
   },
   {
    "duration": 2,
    "start_time": "2025-03-07T00:36:43.849Z"
   },
   {
    "duration": 56,
    "start_time": "2025-03-07T00:37:07.078Z"
   },
   {
    "duration": 58,
    "start_time": "2025-03-07T00:37:19.458Z"
   },
   {
    "duration": 4,
    "start_time": "2025-03-07T00:38:00.953Z"
   },
   {
    "duration": 4,
    "start_time": "2025-03-07T00:38:10.608Z"
   },
   {
    "duration": 49,
    "start_time": "2025-03-07T00:38:21.783Z"
   },
   {
    "duration": 48,
    "start_time": "2025-03-07T00:38:32.519Z"
   },
   {
    "duration": 67,
    "start_time": "2025-03-07T00:38:42.065Z"
   },
   {
    "duration": 54,
    "start_time": "2025-03-07T00:38:45.037Z"
   },
   {
    "duration": 52,
    "start_time": "2025-03-07T00:39:19.389Z"
   },
   {
    "duration": 54,
    "start_time": "2025-03-07T00:39:30.008Z"
   },
   {
    "duration": 8,
    "start_time": "2025-03-07T00:39:46.643Z"
   },
   {
    "duration": 9,
    "start_time": "2025-03-07T00:49:14.693Z"
   },
   {
    "duration": 291,
    "start_time": "2025-03-07T00:49:37.666Z"
   },
   {
    "duration": 84,
    "start_time": "2025-03-07T00:49:45.583Z"
   },
   {
    "duration": 454,
    "start_time": "2025-03-07T00:49:55.343Z"
   },
   {
    "duration": 159,
    "start_time": "2025-03-07T00:49:55.799Z"
   },
   {
    "duration": 10,
    "start_time": "2025-03-07T00:49:55.960Z"
   },
   {
    "duration": 10,
    "start_time": "2025-03-07T00:49:55.972Z"
   },
   {
    "duration": 8,
    "start_time": "2025-03-07T00:49:55.984Z"
   },
   {
    "duration": 8,
    "start_time": "2025-03-07T00:49:55.993Z"
   },
   {
    "duration": 8,
    "start_time": "2025-03-07T00:49:56.002Z"
   },
   {
    "duration": 36,
    "start_time": "2025-03-07T00:49:56.012Z"
   },
   {
    "duration": 10,
    "start_time": "2025-03-07T00:49:56.050Z"
   },
   {
    "duration": 15,
    "start_time": "2025-03-07T00:49:56.063Z"
   },
   {
    "duration": 6,
    "start_time": "2025-03-07T00:49:56.079Z"
   },
   {
    "duration": 22,
    "start_time": "2025-03-07T00:49:56.087Z"
   },
   {
    "duration": 40,
    "start_time": "2025-03-07T00:49:56.110Z"
   },
   {
    "duration": 5,
    "start_time": "2025-03-07T00:49:56.152Z"
   },
   {
    "duration": 16,
    "start_time": "2025-03-07T00:49:56.159Z"
   },
   {
    "duration": 13,
    "start_time": "2025-03-07T00:49:56.176Z"
   },
   {
    "duration": 6,
    "start_time": "2025-03-07T00:49:56.191Z"
   },
   {
    "duration": 52,
    "start_time": "2025-03-07T00:49:56.198Z"
   },
   {
    "duration": 14,
    "start_time": "2025-03-07T00:49:56.252Z"
   },
   {
    "duration": 7,
    "start_time": "2025-03-07T00:49:56.267Z"
   },
   {
    "duration": 2,
    "start_time": "2025-03-07T00:49:56.276Z"
   },
   {
    "duration": 3,
    "start_time": "2025-03-07T00:49:56.280Z"
   },
   {
    "duration": 3,
    "start_time": "2025-03-07T00:49:56.284Z"
   },
   {
    "duration": 3,
    "start_time": "2025-03-07T00:49:56.289Z"
   },
   {
    "duration": 3,
    "start_time": "2025-03-07T00:49:56.293Z"
   },
   {
    "duration": 3,
    "start_time": "2025-03-07T00:49:56.298Z"
   },
   {
    "duration": 3,
    "start_time": "2025-03-07T00:49:56.302Z"
   },
   {
    "duration": 2,
    "start_time": "2025-03-07T00:49:56.346Z"
   },
   {
    "duration": 3,
    "start_time": "2025-03-07T00:49:56.350Z"
   },
   {
    "duration": 3,
    "start_time": "2025-03-07T00:49:56.355Z"
   },
   {
    "duration": 2,
    "start_time": "2025-03-07T00:49:56.360Z"
   },
   {
    "duration": 3,
    "start_time": "2025-03-07T00:49:56.364Z"
   },
   {
    "duration": 3,
    "start_time": "2025-03-07T00:49:56.369Z"
   },
   {
    "duration": 3,
    "start_time": "2025-03-07T00:49:56.374Z"
   },
   {
    "duration": 557,
    "start_time": "2025-03-07T00:52:36.107Z"
   },
   {
    "duration": 432,
    "start_time": "2025-03-07T00:52:48.218Z"
   },
   {
    "duration": 162,
    "start_time": "2025-03-07T00:52:48.652Z"
   },
   {
    "duration": 10,
    "start_time": "2025-03-07T00:52:48.816Z"
   },
   {
    "duration": 16,
    "start_time": "2025-03-07T00:52:48.828Z"
   },
   {
    "duration": 8,
    "start_time": "2025-03-07T00:52:48.845Z"
   },
   {
    "duration": 9,
    "start_time": "2025-03-07T00:52:48.855Z"
   },
   {
    "duration": 9,
    "start_time": "2025-03-07T00:52:48.865Z"
   },
   {
    "duration": 11,
    "start_time": "2025-03-07T00:52:48.875Z"
   },
   {
    "duration": 9,
    "start_time": "2025-03-07T00:52:48.888Z"
   },
   {
    "duration": 47,
    "start_time": "2025-03-07T00:52:48.900Z"
   },
   {
    "duration": 7,
    "start_time": "2025-03-07T00:52:48.949Z"
   },
   {
    "duration": 22,
    "start_time": "2025-03-07T00:52:48.958Z"
   },
   {
    "duration": 579,
    "start_time": "2025-03-07T00:52:48.981Z"
   },
   {
    "duration": 0,
    "start_time": "2025-03-07T00:52:49.562Z"
   },
   {
    "duration": 0,
    "start_time": "2025-03-07T00:52:49.563Z"
   },
   {
    "duration": 0,
    "start_time": "2025-03-07T00:52:49.565Z"
   },
   {
    "duration": 0,
    "start_time": "2025-03-07T00:52:49.566Z"
   },
   {
    "duration": 0,
    "start_time": "2025-03-07T00:52:49.567Z"
   },
   {
    "duration": 0,
    "start_time": "2025-03-07T00:52:49.569Z"
   },
   {
    "duration": 0,
    "start_time": "2025-03-07T00:52:49.570Z"
   },
   {
    "duration": 0,
    "start_time": "2025-03-07T00:52:49.571Z"
   },
   {
    "duration": 0,
    "start_time": "2025-03-07T00:52:49.573Z"
   },
   {
    "duration": 0,
    "start_time": "2025-03-07T00:52:49.575Z"
   },
   {
    "duration": 0,
    "start_time": "2025-03-07T00:52:49.576Z"
   },
   {
    "duration": 0,
    "start_time": "2025-03-07T00:52:49.577Z"
   },
   {
    "duration": 0,
    "start_time": "2025-03-07T00:52:49.579Z"
   },
   {
    "duration": 0,
    "start_time": "2025-03-07T00:52:49.580Z"
   },
   {
    "duration": 0,
    "start_time": "2025-03-07T00:52:49.581Z"
   },
   {
    "duration": 0,
    "start_time": "2025-03-07T00:52:49.582Z"
   },
   {
    "duration": 0,
    "start_time": "2025-03-07T00:52:49.583Z"
   },
   {
    "duration": 0,
    "start_time": "2025-03-07T00:52:49.584Z"
   },
   {
    "duration": 0,
    "start_time": "2025-03-07T00:52:49.586Z"
   },
   {
    "duration": 0,
    "start_time": "2025-03-07T00:52:49.587Z"
   },
   {
    "duration": 0,
    "start_time": "2025-03-07T00:52:49.589Z"
   },
   {
    "duration": 0,
    "start_time": "2025-03-07T00:52:49.590Z"
   },
   {
    "duration": 30,
    "start_time": "2025-03-07T00:53:12.681Z"
   },
   {
    "duration": 39,
    "start_time": "2025-03-07T00:56:03.247Z"
   },
   {
    "duration": 26,
    "start_time": "2025-03-07T00:56:28.529Z"
   },
   {
    "duration": 13,
    "start_time": "2025-03-07T00:57:00.440Z"
   },
   {
    "duration": 5,
    "start_time": "2025-03-07T01:00:35.237Z"
   },
   {
    "duration": 20,
    "start_time": "2025-03-07T01:00:56.688Z"
   },
   {
    "duration": 24,
    "start_time": "2025-03-07T01:01:07.319Z"
   },
   {
    "duration": 24,
    "start_time": "2025-03-07T01:02:49.013Z"
   },
   {
    "duration": 18,
    "start_time": "2025-03-07T01:02:51.501Z"
   },
   {
    "duration": 22,
    "start_time": "2025-03-07T01:08:45.996Z"
   },
   {
    "duration": 22,
    "start_time": "2025-03-07T01:09:10.752Z"
   },
   {
    "duration": 24,
    "start_time": "2025-03-07T01:09:28.880Z"
   },
   {
    "duration": 23,
    "start_time": "2025-03-07T01:10:04.549Z"
   },
   {
    "duration": 23,
    "start_time": "2025-03-07T01:10:21.260Z"
   },
   {
    "duration": 427,
    "start_time": "2025-03-07T01:10:51.193Z"
   },
   {
    "duration": 160,
    "start_time": "2025-03-07T01:10:51.622Z"
   },
   {
    "duration": 10,
    "start_time": "2025-03-07T01:10:51.784Z"
   },
   {
    "duration": 11,
    "start_time": "2025-03-07T01:10:51.796Z"
   },
   {
    "duration": 8,
    "start_time": "2025-03-07T01:10:51.808Z"
   },
   {
    "duration": 28,
    "start_time": "2025-03-07T01:10:51.818Z"
   },
   {
    "duration": 8,
    "start_time": "2025-03-07T01:10:51.847Z"
   },
   {
    "duration": 12,
    "start_time": "2025-03-07T01:10:51.857Z"
   },
   {
    "duration": 10,
    "start_time": "2025-03-07T01:10:51.871Z"
   },
   {
    "duration": 14,
    "start_time": "2025-03-07T01:10:51.884Z"
   },
   {
    "duration": 6,
    "start_time": "2025-03-07T01:10:51.901Z"
   },
   {
    "duration": 55,
    "start_time": "2025-03-07T01:10:51.909Z"
   },
   {
    "duration": 26,
    "start_time": "2025-03-07T01:10:51.966Z"
   },
   {
    "duration": 25,
    "start_time": "2025-03-07T01:10:51.994Z"
   },
   {
    "duration": 32,
    "start_time": "2025-03-07T01:10:52.020Z"
   },
   {
    "duration": 5,
    "start_time": "2025-03-07T01:10:52.054Z"
   },
   {
    "duration": 15,
    "start_time": "2025-03-07T01:10:52.061Z"
   },
   {
    "duration": 13,
    "start_time": "2025-03-07T01:10:52.078Z"
   },
   {
    "duration": 6,
    "start_time": "2025-03-07T01:10:52.092Z"
   },
   {
    "duration": 51,
    "start_time": "2025-03-07T01:10:52.100Z"
   },
   {
    "duration": 13,
    "start_time": "2025-03-07T01:10:52.152Z"
   },
   {
    "duration": 21,
    "start_time": "2025-03-07T01:10:52.166Z"
   },
   {
    "duration": 20,
    "start_time": "2025-03-07T01:10:52.189Z"
   },
   {
    "duration": 33,
    "start_time": "2025-03-07T01:10:52.211Z"
   },
   {
    "duration": 0,
    "start_time": "2025-03-07T01:10:52.246Z"
   },
   {
    "duration": 0,
    "start_time": "2025-03-07T01:10:52.248Z"
   },
   {
    "duration": 0,
    "start_time": "2025-03-07T01:10:52.249Z"
   },
   {
    "duration": 0,
    "start_time": "2025-03-07T01:10:52.251Z"
   },
   {
    "duration": 0,
    "start_time": "2025-03-07T01:10:52.252Z"
   },
   {
    "duration": 0,
    "start_time": "2025-03-07T01:10:52.254Z"
   },
   {
    "duration": 0,
    "start_time": "2025-03-07T01:10:52.255Z"
   },
   {
    "duration": 0,
    "start_time": "2025-03-07T01:10:52.257Z"
   },
   {
    "duration": 0,
    "start_time": "2025-03-07T01:10:52.258Z"
   },
   {
    "duration": 0,
    "start_time": "2025-03-07T01:10:52.260Z"
   },
   {
    "duration": 0,
    "start_time": "2025-03-07T01:10:52.262Z"
   },
   {
    "duration": 0,
    "start_time": "2025-03-07T01:10:52.263Z"
   },
   {
    "duration": 15,
    "start_time": "2025-03-07T01:11:50.425Z"
   },
   {
    "duration": 540,
    "start_time": "2025-03-07T01:13:37.888Z"
   },
   {
    "duration": 11,
    "start_time": "2025-03-07T01:14:19.830Z"
   },
   {
    "duration": 20,
    "start_time": "2025-03-07T01:14:30.997Z"
   },
   {
    "duration": 10,
    "start_time": "2025-03-07T01:15:31.000Z"
   },
   {
    "duration": 4,
    "start_time": "2025-03-07T01:16:37.982Z"
   },
   {
    "duration": 5,
    "start_time": "2025-03-07T01:19:28.554Z"
   },
   {
    "duration": 7,
    "start_time": "2025-03-07T01:20:21.703Z"
   },
   {
    "duration": 13,
    "start_time": "2025-03-07T01:20:26.031Z"
   },
   {
    "duration": 214,
    "start_time": "2025-03-07T01:21:41.436Z"
   },
   {
    "duration": 53,
    "start_time": "2025-03-07T01:21:53.805Z"
   },
   {
    "duration": 144,
    "start_time": "2025-03-07T01:22:14.190Z"
   },
   {
    "duration": 22,
    "start_time": "2025-03-07T01:23:10.794Z"
   },
   {
    "duration": 50,
    "start_time": "2025-03-07T01:23:26.386Z"
   },
   {
    "duration": 322,
    "start_time": "2025-03-07T01:23:40.136Z"
   },
   {
    "duration": 16,
    "start_time": "2025-03-07T01:28:38.535Z"
   },
   {
    "duration": 26,
    "start_time": "2025-03-07T01:32:00.837Z"
   },
   {
    "duration": 4,
    "start_time": "2025-03-07T01:32:28.518Z"
   },
   {
    "duration": 10,
    "start_time": "2025-03-07T01:32:39.183Z"
   },
   {
    "duration": 3,
    "start_time": "2025-03-07T01:32:55.437Z"
   },
   {
    "duration": 3,
    "start_time": "2025-03-07T01:32:57.924Z"
   },
   {
    "duration": 246,
    "start_time": "2025-03-07T01:33:03.116Z"
   },
   {
    "duration": 431,
    "start_time": "2025-03-07T01:33:12.514Z"
   },
   {
    "duration": 160,
    "start_time": "2025-03-07T01:33:12.948Z"
   },
   {
    "duration": 9,
    "start_time": "2025-03-07T01:33:13.110Z"
   },
   {
    "duration": 11,
    "start_time": "2025-03-07T01:33:13.121Z"
   },
   {
    "duration": 7,
    "start_time": "2025-03-07T01:33:13.144Z"
   },
   {
    "duration": 8,
    "start_time": "2025-03-07T01:33:13.153Z"
   },
   {
    "duration": 3,
    "start_time": "2025-03-07T01:33:13.164Z"
   },
   {
    "duration": 6,
    "start_time": "2025-03-07T01:33:13.169Z"
   },
   {
    "duration": 10,
    "start_time": "2025-03-07T01:33:13.176Z"
   },
   {
    "duration": 14,
    "start_time": "2025-03-07T01:33:13.189Z"
   },
   {
    "duration": 39,
    "start_time": "2025-03-07T01:33:13.205Z"
   },
   {
    "duration": 23,
    "start_time": "2025-03-07T01:33:13.246Z"
   },
   {
    "duration": 27,
    "start_time": "2025-03-07T01:33:13.271Z"
   },
   {
    "duration": 45,
    "start_time": "2025-03-07T01:33:13.299Z"
   },
   {
    "duration": 11,
    "start_time": "2025-03-07T01:33:13.346Z"
   },
   {
    "duration": 6,
    "start_time": "2025-03-07T01:33:13.359Z"
   },
   {
    "duration": 15,
    "start_time": "2025-03-07T01:33:13.367Z"
   },
   {
    "duration": 17,
    "start_time": "2025-03-07T01:33:13.384Z"
   },
   {
    "duration": 45,
    "start_time": "2025-03-07T01:33:13.404Z"
   },
   {
    "duration": 17,
    "start_time": "2025-03-07T01:33:13.451Z"
   },
   {
    "duration": 6,
    "start_time": "2025-03-07T01:33:13.470Z"
   },
   {
    "duration": 6,
    "start_time": "2025-03-07T01:33:13.479Z"
   },
   {
    "duration": 13,
    "start_time": "2025-03-07T01:33:13.487Z"
   },
   {
    "duration": 12,
    "start_time": "2025-03-07T01:33:13.502Z"
   },
   {
    "duration": 51,
    "start_time": "2025-03-07T01:33:13.515Z"
   },
   {
    "duration": 22,
    "start_time": "2025-03-07T01:33:13.567Z"
   },
   {
    "duration": 16,
    "start_time": "2025-03-07T01:33:13.590Z"
   },
   {
    "duration": 2,
    "start_time": "2025-03-07T01:33:13.610Z"
   },
   {
    "duration": 30,
    "start_time": "2025-03-07T01:33:13.614Z"
   },
   {
    "duration": 3,
    "start_time": "2025-03-07T01:33:13.645Z"
   },
   {
    "duration": 3,
    "start_time": "2025-03-07T01:33:13.650Z"
   },
   {
    "duration": 2,
    "start_time": "2025-03-07T01:33:13.656Z"
   },
   {
    "duration": 4,
    "start_time": "2025-03-07T01:33:13.660Z"
   },
   {
    "duration": 3,
    "start_time": "2025-03-07T01:33:13.665Z"
   },
   {
    "duration": 2,
    "start_time": "2025-03-07T01:33:13.670Z"
   },
   {
    "duration": 3,
    "start_time": "2025-03-07T01:33:13.674Z"
   },
   {
    "duration": 3,
    "start_time": "2025-03-07T01:33:13.679Z"
   },
   {
    "duration": 3,
    "start_time": "2025-03-07T01:33:13.683Z"
   },
   {
    "duration": 3,
    "start_time": "2025-03-07T01:33:13.688Z"
   },
   {
    "duration": 18,
    "start_time": "2025-03-07T01:34:55.983Z"
   },
   {
    "duration": 20,
    "start_time": "2025-03-07T01:36:31.069Z"
   },
   {
    "duration": 173,
    "start_time": "2025-03-07T01:43:34.679Z"
   },
   {
    "duration": 13,
    "start_time": "2025-03-07T01:44:07.219Z"
   },
   {
    "duration": 12,
    "start_time": "2025-03-07T01:44:13.384Z"
   },
   {
    "duration": 22,
    "start_time": "2025-03-07T01:48:39.187Z"
   },
   {
    "duration": 18,
    "start_time": "2025-03-07T01:48:52.087Z"
   },
   {
    "duration": 21,
    "start_time": "2025-03-07T01:49:11.245Z"
   },
   {
    "duration": 25,
    "start_time": "2025-03-07T01:49:50.318Z"
   },
   {
    "duration": 16,
    "start_time": "2025-03-07T01:56:38.638Z"
   },
   {
    "duration": 17,
    "start_time": "2025-03-07T01:57:39.490Z"
   },
   {
    "duration": 13,
    "start_time": "2025-03-07T01:58:15.726Z"
   },
   {
    "duration": 17,
    "start_time": "2025-03-07T01:58:32.236Z"
   },
   {
    "duration": 7,
    "start_time": "2025-03-07T01:58:52.742Z"
   },
   {
    "duration": 13,
    "start_time": "2025-03-07T02:03:56.443Z"
   },
   {
    "duration": 23,
    "start_time": "2025-03-07T02:06:02.202Z"
   },
   {
    "duration": 10,
    "start_time": "2025-03-07T02:07:13.505Z"
   },
   {
    "duration": 421,
    "start_time": "2025-03-07T02:07:25.219Z"
   },
   {
    "duration": 155,
    "start_time": "2025-03-07T02:07:25.643Z"
   },
   {
    "duration": 9,
    "start_time": "2025-03-07T02:07:25.800Z"
   },
   {
    "duration": 11,
    "start_time": "2025-03-07T02:07:25.811Z"
   },
   {
    "duration": 20,
    "start_time": "2025-03-07T02:07:25.823Z"
   },
   {
    "duration": 8,
    "start_time": "2025-03-07T02:07:25.844Z"
   },
   {
    "duration": 3,
    "start_time": "2025-03-07T02:07:25.853Z"
   },
   {
    "duration": 6,
    "start_time": "2025-03-07T02:07:25.858Z"
   },
   {
    "duration": 11,
    "start_time": "2025-03-07T02:07:25.865Z"
   },
   {
    "duration": 14,
    "start_time": "2025-03-07T02:07:25.879Z"
   },
   {
    "duration": 7,
    "start_time": "2025-03-07T02:07:25.894Z"
   },
   {
    "duration": 59,
    "start_time": "2025-03-07T02:07:25.903Z"
   },
   {
    "duration": 27,
    "start_time": "2025-03-07T02:07:25.964Z"
   },
   {
    "duration": 25,
    "start_time": "2025-03-07T02:07:25.993Z"
   },
   {
    "duration": 29,
    "start_time": "2025-03-07T02:07:26.019Z"
   },
   {
    "duration": 5,
    "start_time": "2025-03-07T02:07:26.050Z"
   },
   {
    "duration": 16,
    "start_time": "2025-03-07T02:07:26.057Z"
   },
   {
    "duration": 19,
    "start_time": "2025-03-07T02:07:26.074Z"
   },
   {
    "duration": 9,
    "start_time": "2025-03-07T02:07:26.094Z"
   },
   {
    "duration": 44,
    "start_time": "2025-03-07T02:07:26.105Z"
   },
   {
    "duration": 7,
    "start_time": "2025-03-07T02:07:26.151Z"
   },
   {
    "duration": 6,
    "start_time": "2025-03-07T02:07:26.160Z"
   },
   {
    "duration": 13,
    "start_time": "2025-03-07T02:07:26.168Z"
   },
   {
    "duration": 18,
    "start_time": "2025-03-07T02:07:26.183Z"
   },
   {
    "duration": 40,
    "start_time": "2025-03-07T02:07:26.203Z"
   },
   {
    "duration": 25,
    "start_time": "2025-03-07T02:07:26.245Z"
   },
   {
    "duration": 21,
    "start_time": "2025-03-07T02:07:26.272Z"
   },
   {
    "duration": 16,
    "start_time": "2025-03-07T02:07:26.297Z"
   },
   {
    "duration": 38,
    "start_time": "2025-03-07T02:07:26.315Z"
   },
   {
    "duration": 20,
    "start_time": "2025-03-07T02:07:26.355Z"
   },
   {
    "duration": 12,
    "start_time": "2025-03-07T02:07:26.377Z"
   },
   {
    "duration": 10,
    "start_time": "2025-03-07T02:07:26.390Z"
   },
   {
    "duration": 2,
    "start_time": "2025-03-07T02:07:26.401Z"
   },
   {
    "duration": 39,
    "start_time": "2025-03-07T02:07:26.405Z"
   },
   {
    "duration": 2,
    "start_time": "2025-03-07T02:07:26.446Z"
   },
   {
    "duration": 3,
    "start_time": "2025-03-07T02:07:26.450Z"
   },
   {
    "duration": 3,
    "start_time": "2025-03-07T02:07:26.454Z"
   },
   {
    "duration": 3,
    "start_time": "2025-03-07T02:07:26.459Z"
   },
   {
    "duration": 3,
    "start_time": "2025-03-07T02:07:26.464Z"
   },
   {
    "duration": 3,
    "start_time": "2025-03-07T02:07:26.469Z"
   },
   {
    "duration": 3,
    "start_time": "2025-03-07T02:07:26.473Z"
   },
   {
    "duration": 3,
    "start_time": "2025-03-07T02:07:26.478Z"
   },
   {
    "duration": 13,
    "start_time": "2025-03-07T02:13:26.741Z"
   },
   {
    "duration": 10,
    "start_time": "2025-03-07T02:13:39.549Z"
   },
   {
    "duration": 92,
    "start_time": "2025-03-07T02:24:24.445Z"
   },
   {
    "duration": 16,
    "start_time": "2025-03-07T02:26:48.618Z"
   },
   {
    "duration": 16,
    "start_time": "2025-03-07T02:27:41.285Z"
   },
   {
    "duration": 5,
    "start_time": "2025-03-07T02:28:14.835Z"
   },
   {
    "duration": 107,
    "start_time": "2025-03-07T02:28:22.448Z"
   },
   {
    "duration": 24,
    "start_time": "2025-03-07T02:28:32.978Z"
   },
   {
    "duration": 277,
    "start_time": "2025-03-07T02:30:55.197Z"
   },
   {
    "duration": 470,
    "start_time": "2025-03-07T02:31:21.470Z"
   },
   {
    "duration": 163,
    "start_time": "2025-03-07T02:31:21.942Z"
   },
   {
    "duration": 10,
    "start_time": "2025-03-07T02:31:22.106Z"
   },
   {
    "duration": 12,
    "start_time": "2025-03-07T02:31:22.117Z"
   },
   {
    "duration": 17,
    "start_time": "2025-03-07T02:31:22.131Z"
   },
   {
    "duration": 8,
    "start_time": "2025-03-07T02:31:22.150Z"
   },
   {
    "duration": 3,
    "start_time": "2025-03-07T02:31:22.160Z"
   },
   {
    "duration": 5,
    "start_time": "2025-03-07T02:31:22.166Z"
   },
   {
    "duration": 10,
    "start_time": "2025-03-07T02:31:22.173Z"
   },
   {
    "duration": 15,
    "start_time": "2025-03-07T02:31:22.184Z"
   },
   {
    "duration": 7,
    "start_time": "2025-03-07T02:31:22.200Z"
   },
   {
    "duration": 52,
    "start_time": "2025-03-07T02:31:22.208Z"
   },
   {
    "duration": 27,
    "start_time": "2025-03-07T02:31:22.262Z"
   },
   {
    "duration": 25,
    "start_time": "2025-03-07T02:31:22.294Z"
   },
   {
    "duration": 33,
    "start_time": "2025-03-07T02:31:22.320Z"
   },
   {
    "duration": 6,
    "start_time": "2025-03-07T02:31:22.354Z"
   },
   {
    "duration": 16,
    "start_time": "2025-03-07T02:31:22.361Z"
   },
   {
    "duration": 18,
    "start_time": "2025-03-07T02:31:22.379Z"
   },
   {
    "duration": 9,
    "start_time": "2025-03-07T02:31:22.398Z"
   },
   {
    "duration": 13,
    "start_time": "2025-03-07T02:31:22.443Z"
   },
   {
    "duration": 6,
    "start_time": "2025-03-07T02:31:22.458Z"
   },
   {
    "duration": 5,
    "start_time": "2025-03-07T02:31:22.466Z"
   },
   {
    "duration": 13,
    "start_time": "2025-03-07T02:31:22.473Z"
   },
   {
    "duration": 18,
    "start_time": "2025-03-07T02:31:22.487Z"
   },
   {
    "duration": 41,
    "start_time": "2025-03-07T02:31:22.506Z"
   },
   {
    "duration": 25,
    "start_time": "2025-03-07T02:31:22.549Z"
   },
   {
    "duration": 21,
    "start_time": "2025-03-07T02:31:22.576Z"
   },
   {
    "duration": 16,
    "start_time": "2025-03-07T02:31:22.599Z"
   },
   {
    "duration": 42,
    "start_time": "2025-03-07T02:31:22.616Z"
   },
   {
    "duration": 19,
    "start_time": "2025-03-07T02:31:22.660Z"
   },
   {
    "duration": 13,
    "start_time": "2025-03-07T02:31:22.681Z"
   },
   {
    "duration": 10,
    "start_time": "2025-03-07T02:31:22.695Z"
   },
   {
    "duration": 474,
    "start_time": "2025-03-07T02:31:22.706Z"
   },
   {
    "duration": 0,
    "start_time": "2025-03-07T02:31:23.181Z"
   },
   {
    "duration": 0,
    "start_time": "2025-03-07T02:31:23.183Z"
   },
   {
    "duration": 0,
    "start_time": "2025-03-07T02:31:23.184Z"
   },
   {
    "duration": 0,
    "start_time": "2025-03-07T02:31:23.185Z"
   },
   {
    "duration": 0,
    "start_time": "2025-03-07T02:31:23.186Z"
   },
   {
    "duration": 0,
    "start_time": "2025-03-07T02:31:23.187Z"
   },
   {
    "duration": 0,
    "start_time": "2025-03-07T02:31:23.188Z"
   },
   {
    "duration": 0,
    "start_time": "2025-03-07T02:31:23.189Z"
   },
   {
    "duration": 0,
    "start_time": "2025-03-07T02:31:23.190Z"
   },
   {
    "duration": 46,
    "start_time": "2025-03-07T02:33:11.902Z"
   },
   {
    "duration": 47,
    "start_time": "2025-03-07T02:34:22.577Z"
   },
   {
    "duration": 52,
    "start_time": "2025-03-07T02:34:44.190Z"
   },
   {
    "duration": 15,
    "start_time": "2025-03-07T02:37:56.269Z"
   },
   {
    "duration": 18,
    "start_time": "2025-03-07T02:40:43.328Z"
   },
   {
    "duration": 16,
    "start_time": "2025-03-07T02:41:36.917Z"
   },
   {
    "duration": 5,
    "start_time": "2025-03-07T02:42:11.386Z"
   },
   {
    "duration": 5,
    "start_time": "2025-03-07T02:42:17.685Z"
   },
   {
    "duration": 2026,
    "start_time": "2025-03-07T02:44:23.718Z"
   },
   {
    "duration": 5,
    "start_time": "2025-03-07T02:48:51.994Z"
   },
   {
    "duration": 88,
    "start_time": "2025-03-07T02:49:11.877Z"
   },
   {
    "duration": 18,
    "start_time": "2025-03-07T02:49:26.710Z"
   },
   {
    "duration": 685,
    "start_time": "2025-03-07T02:49:46.152Z"
   },
   {
    "duration": 4,
    "start_time": "2025-03-07T02:56:52.245Z"
   },
   {
    "duration": 3,
    "start_time": "2025-03-07T02:57:02.891Z"
   },
   {
    "duration": 5,
    "start_time": "2025-03-07T02:57:10.073Z"
   },
   {
    "duration": 4,
    "start_time": "2025-03-07T02:57:19.051Z"
   },
   {
    "duration": 201,
    "start_time": "2025-03-07T02:57:33.049Z"
   },
   {
    "duration": 4,
    "start_time": "2025-03-07T02:57:35.362Z"
   },
   {
    "duration": 4,
    "start_time": "2025-03-07T02:57:58.041Z"
   },
   {
    "duration": 4,
    "start_time": "2025-03-07T02:57:59.148Z"
   },
   {
    "duration": 4,
    "start_time": "2025-03-07T02:58:08.073Z"
   },
   {
    "duration": 461,
    "start_time": "2025-03-07T02:58:18.796Z"
   },
   {
    "duration": 159,
    "start_time": "2025-03-07T02:58:19.259Z"
   },
   {
    "duration": 8,
    "start_time": "2025-03-07T02:58:19.420Z"
   },
   {
    "duration": 12,
    "start_time": "2025-03-07T02:58:19.430Z"
   },
   {
    "duration": 7,
    "start_time": "2025-03-07T02:58:19.444Z"
   },
   {
    "duration": 7,
    "start_time": "2025-03-07T02:58:19.453Z"
   },
   {
    "duration": 3,
    "start_time": "2025-03-07T02:58:19.462Z"
   },
   {
    "duration": 5,
    "start_time": "2025-03-07T02:58:19.467Z"
   },
   {
    "duration": 10,
    "start_time": "2025-03-07T02:58:19.473Z"
   },
   {
    "duration": 14,
    "start_time": "2025-03-07T02:58:19.487Z"
   },
   {
    "duration": 6,
    "start_time": "2025-03-07T02:58:19.503Z"
   },
   {
    "duration": 22,
    "start_time": "2025-03-07T02:58:19.544Z"
   },
   {
    "duration": 27,
    "start_time": "2025-03-07T02:58:19.568Z"
   },
   {
    "duration": 47,
    "start_time": "2025-03-07T02:58:19.597Z"
   },
   {
    "duration": 12,
    "start_time": "2025-03-07T02:58:19.645Z"
   },
   {
    "duration": 7,
    "start_time": "2025-03-07T02:58:19.659Z"
   },
   {
    "duration": 16,
    "start_time": "2025-03-07T02:58:19.668Z"
   },
   {
    "duration": 18,
    "start_time": "2025-03-07T02:58:19.686Z"
   },
   {
    "duration": 37,
    "start_time": "2025-03-07T02:58:19.706Z"
   },
   {
    "duration": 13,
    "start_time": "2025-03-07T02:58:19.745Z"
   },
   {
    "duration": 7,
    "start_time": "2025-03-07T02:58:19.759Z"
   },
   {
    "duration": 6,
    "start_time": "2025-03-07T02:58:19.767Z"
   },
   {
    "duration": 14,
    "start_time": "2025-03-07T02:58:19.775Z"
   },
   {
    "duration": 51,
    "start_time": "2025-03-07T02:58:19.791Z"
   },
   {
    "duration": 13,
    "start_time": "2025-03-07T02:58:19.844Z"
   },
   {
    "duration": 26,
    "start_time": "2025-03-07T02:58:19.860Z"
   },
   {
    "duration": 21,
    "start_time": "2025-03-07T02:58:19.888Z"
   },
   {
    "duration": 37,
    "start_time": "2025-03-07T02:58:19.913Z"
   },
   {
    "duration": 19,
    "start_time": "2025-03-07T02:58:19.951Z"
   },
   {
    "duration": 19,
    "start_time": "2025-03-07T02:58:19.972Z"
   },
   {
    "duration": 11,
    "start_time": "2025-03-07T02:58:19.993Z"
   },
   {
    "duration": 38,
    "start_time": "2025-03-07T02:58:20.007Z"
   },
   {
    "duration": 50,
    "start_time": "2025-03-07T02:58:20.046Z"
   },
   {
    "duration": 13,
    "start_time": "2025-03-07T02:58:20.097Z"
   },
   {
    "duration": 752,
    "start_time": "2025-03-07T02:58:20.111Z"
   },
   {
    "duration": 4,
    "start_time": "2025-03-07T02:58:20.865Z"
   },
   {
    "duration": 0,
    "start_time": "2025-03-07T02:58:20.871Z"
   },
   {
    "duration": 0,
    "start_time": "2025-03-07T02:58:20.872Z"
   },
   {
    "duration": 0,
    "start_time": "2025-03-07T02:58:20.873Z"
   },
   {
    "duration": 0,
    "start_time": "2025-03-07T02:58:20.875Z"
   },
   {
    "duration": 0,
    "start_time": "2025-03-07T02:58:20.877Z"
   },
   {
    "duration": 0,
    "start_time": "2025-03-07T02:58:20.879Z"
   },
   {
    "duration": 179,
    "start_time": "2025-03-07T02:59:30.616Z"
   },
   {
    "duration": 428,
    "start_time": "2025-03-07T02:59:38.217Z"
   },
   {
    "duration": 174,
    "start_time": "2025-03-07T03:00:41.365Z"
   },
   {
    "duration": 154,
    "start_time": "2025-03-07T03:00:55.192Z"
   },
   {
    "duration": 4,
    "start_time": "2025-03-07T03:08:19.722Z"
   },
   {
    "duration": 4,
    "start_time": "2025-03-07T03:08:59.300Z"
   },
   {
    "duration": 4,
    "start_time": "2025-03-07T03:10:11.839Z"
   },
   {
    "duration": 4,
    "start_time": "2025-03-07T03:10:27.024Z"
   },
   {
    "duration": 933,
    "start_time": "2025-03-07T03:11:26.052Z"
   },
   {
    "duration": 14,
    "start_time": "2025-03-07T03:13:41.464Z"
   },
   {
    "duration": 14,
    "start_time": "2025-03-07T03:14:11.416Z"
   },
   {
    "duration": 170,
    "start_time": "2025-03-07T03:14:31.902Z"
   },
   {
    "duration": 465,
    "start_time": "2025-03-07T03:14:41.448Z"
   },
   {
    "duration": 172,
    "start_time": "2025-03-07T03:14:41.915Z"
   },
   {
    "duration": 10,
    "start_time": "2025-03-07T03:14:42.088Z"
   },
   {
    "duration": 11,
    "start_time": "2025-03-07T03:14:42.100Z"
   },
   {
    "duration": 7,
    "start_time": "2025-03-07T03:14:42.112Z"
   },
   {
    "duration": 25,
    "start_time": "2025-03-07T03:14:42.121Z"
   },
   {
    "duration": 4,
    "start_time": "2025-03-07T03:14:42.147Z"
   },
   {
    "duration": 6,
    "start_time": "2025-03-07T03:14:42.152Z"
   },
   {
    "duration": 11,
    "start_time": "2025-03-07T03:14:42.159Z"
   },
   {
    "duration": 14,
    "start_time": "2025-03-07T03:14:42.173Z"
   },
   {
    "duration": 6,
    "start_time": "2025-03-07T03:14:42.188Z"
   },
   {
    "duration": 51,
    "start_time": "2025-03-07T03:14:42.196Z"
   },
   {
    "duration": 30,
    "start_time": "2025-03-07T03:14:42.248Z"
   },
   {
    "duration": 25,
    "start_time": "2025-03-07T03:14:42.281Z"
   },
   {
    "duration": 12,
    "start_time": "2025-03-07T03:14:42.307Z"
   },
   {
    "duration": 25,
    "start_time": "2025-03-07T03:14:42.321Z"
   },
   {
    "duration": 16,
    "start_time": "2025-03-07T03:14:42.348Z"
   },
   {
    "duration": 19,
    "start_time": "2025-03-07T03:14:42.365Z"
   },
   {
    "duration": 10,
    "start_time": "2025-03-07T03:14:42.385Z"
   },
   {
    "duration": 13,
    "start_time": "2025-03-07T03:14:42.396Z"
   },
   {
    "duration": 35,
    "start_time": "2025-03-07T03:14:42.411Z"
   },
   {
    "duration": 5,
    "start_time": "2025-03-07T03:14:42.447Z"
   },
   {
    "duration": 14,
    "start_time": "2025-03-07T03:14:42.455Z"
   },
   {
    "duration": 17,
    "start_time": "2025-03-07T03:14:42.470Z"
   },
   {
    "duration": 12,
    "start_time": "2025-03-07T03:14:42.489Z"
   },
   {
    "duration": 58,
    "start_time": "2025-03-07T03:14:42.503Z"
   },
   {
    "duration": 22,
    "start_time": "2025-03-07T03:14:42.563Z"
   },
   {
    "duration": 16,
    "start_time": "2025-03-07T03:14:42.589Z"
   },
   {
    "duration": 36,
    "start_time": "2025-03-07T03:14:42.607Z"
   },
   {
    "duration": 20,
    "start_time": "2025-03-07T03:14:42.645Z"
   },
   {
    "duration": 13,
    "start_time": "2025-03-07T03:14:42.666Z"
   },
   {
    "duration": 10,
    "start_time": "2025-03-07T03:14:42.680Z"
   },
   {
    "duration": 73,
    "start_time": "2025-03-07T03:14:42.691Z"
   },
   {
    "duration": 13,
    "start_time": "2025-03-07T03:14:42.766Z"
   },
   {
    "duration": 757,
    "start_time": "2025-03-07T03:14:42.780Z"
   },
   {
    "duration": 168,
    "start_time": "2025-03-07T03:14:43.539Z"
   },
   {
    "duration": 4,
    "start_time": "2025-03-07T03:14:43.709Z"
   },
   {
    "duration": 928,
    "start_time": "2025-03-07T03:14:43.714Z"
   },
   {
    "duration": 0,
    "start_time": "2025-03-07T03:14:44.644Z"
   },
   {
    "duration": 0,
    "start_time": "2025-03-07T03:14:44.645Z"
   },
   {
    "duration": 0,
    "start_time": "2025-03-07T03:14:44.647Z"
   },
   {
    "duration": 0,
    "start_time": "2025-03-07T03:14:44.648Z"
   },
   {
    "duration": 16,
    "start_time": "2025-03-07T03:21:25.544Z"
   },
   {
    "duration": 21,
    "start_time": "2025-03-07T03:21:46.422Z"
   },
   {
    "duration": 16,
    "start_time": "2025-03-07T03:22:00.435Z"
   },
   {
    "duration": 442,
    "start_time": "2025-03-07T03:22:20.109Z"
   },
   {
    "duration": 128,
    "start_time": "2025-03-07T03:23:17.559Z"
   },
   {
    "duration": 13,
    "start_time": "2025-03-07T03:23:41.129Z"
   },
   {
    "duration": 7,
    "start_time": "2025-03-07T03:36:28.934Z"
   },
   {
    "duration": 7,
    "start_time": "2025-03-07T03:36:41.235Z"
   },
   {
    "duration": 7,
    "start_time": "2025-03-07T03:36:47.923Z"
   },
   {
    "duration": 2,
    "start_time": "2025-03-07T03:40:09.009Z"
   },
   {
    "duration": 454,
    "start_time": "2025-03-07T03:40:53.479Z"
   },
   {
    "duration": 155,
    "start_time": "2025-03-07T03:40:53.935Z"
   },
   {
    "duration": 10,
    "start_time": "2025-03-07T03:40:54.091Z"
   },
   {
    "duration": 10,
    "start_time": "2025-03-07T03:40:54.103Z"
   },
   {
    "duration": 7,
    "start_time": "2025-03-07T03:40:54.115Z"
   },
   {
    "duration": 7,
    "start_time": "2025-03-07T03:40:54.142Z"
   },
   {
    "duration": 3,
    "start_time": "2025-03-07T03:40:54.151Z"
   },
   {
    "duration": 5,
    "start_time": "2025-03-07T03:40:54.155Z"
   },
   {
    "duration": 10,
    "start_time": "2025-03-07T03:40:54.161Z"
   },
   {
    "duration": 14,
    "start_time": "2025-03-07T03:40:54.174Z"
   },
   {
    "duration": 6,
    "start_time": "2025-03-07T03:40:54.190Z"
   },
   {
    "duration": 55,
    "start_time": "2025-03-07T03:40:54.197Z"
   },
   {
    "duration": 28,
    "start_time": "2025-03-07T03:40:54.253Z"
   },
   {
    "duration": 25,
    "start_time": "2025-03-07T03:40:54.283Z"
   },
   {
    "duration": 11,
    "start_time": "2025-03-07T03:40:54.310Z"
   },
   {
    "duration": 6,
    "start_time": "2025-03-07T03:40:54.342Z"
   },
   {
    "duration": 16,
    "start_time": "2025-03-07T03:40:54.349Z"
   },
   {
    "duration": 18,
    "start_time": "2025-03-07T03:40:54.366Z"
   },
   {
    "duration": 9,
    "start_time": "2025-03-07T03:40:54.385Z"
   },
   {
    "duration": 13,
    "start_time": "2025-03-07T03:40:54.396Z"
   },
   {
    "duration": 37,
    "start_time": "2025-03-07T03:40:54.410Z"
   },
   {
    "duration": 6,
    "start_time": "2025-03-07T03:40:54.449Z"
   },
   {
    "duration": 14,
    "start_time": "2025-03-07T03:40:54.458Z"
   },
   {
    "duration": 17,
    "start_time": "2025-03-07T03:40:54.474Z"
   },
   {
    "duration": 14,
    "start_time": "2025-03-07T03:40:54.493Z"
   },
   {
    "duration": 55,
    "start_time": "2025-03-07T03:40:54.509Z"
   },
   {
    "duration": 22,
    "start_time": "2025-03-07T03:40:54.565Z"
   },
   {
    "duration": 15,
    "start_time": "2025-03-07T03:40:54.590Z"
   },
   {
    "duration": 37,
    "start_time": "2025-03-07T03:40:54.607Z"
   },
   {
    "duration": 19,
    "start_time": "2025-03-07T03:40:54.646Z"
   },
   {
    "duration": 13,
    "start_time": "2025-03-07T03:40:54.666Z"
   },
   {
    "duration": 11,
    "start_time": "2025-03-07T03:40:54.681Z"
   },
   {
    "duration": 77,
    "start_time": "2025-03-07T03:40:54.695Z"
   },
   {
    "duration": 13,
    "start_time": "2025-03-07T03:40:54.774Z"
   },
   {
    "duration": 746,
    "start_time": "2025-03-07T03:40:54.788Z"
   },
   {
    "duration": 186,
    "start_time": "2025-03-07T03:40:55.536Z"
   },
   {
    "duration": 7,
    "start_time": "2025-03-07T03:40:55.724Z"
   },
   {
    "duration": 2,
    "start_time": "2025-03-07T03:40:55.742Z"
   },
   {
    "duration": 3,
    "start_time": "2025-03-07T03:40:55.746Z"
   },
   {
    "duration": 3,
    "start_time": "2025-03-07T03:40:55.751Z"
   },
   {
    "duration": 3,
    "start_time": "2025-03-07T03:40:55.755Z"
   },
   {
    "duration": 4,
    "start_time": "2025-03-07T03:40:55.759Z"
   },
   {
    "duration": 13,
    "start_time": "2025-03-07T03:43:23.664Z"
   },
   {
    "duration": 130,
    "start_time": "2025-03-07T03:46:48.066Z"
   },
   {
    "duration": 96,
    "start_time": "2025-03-07T03:47:40.808Z"
   },
   {
    "duration": 316,
    "start_time": "2025-03-07T03:48:45.366Z"
   },
   {
    "duration": 99,
    "start_time": "2025-03-07T03:48:53.684Z"
   },
   {
    "duration": 103,
    "start_time": "2025-03-07T03:49:00.523Z"
   },
   {
    "duration": 97,
    "start_time": "2025-03-07T03:49:07.275Z"
   },
   {
    "duration": 103,
    "start_time": "2025-03-07T03:49:11.449Z"
   },
   {
    "duration": 163,
    "start_time": "2025-03-07T03:49:31.899Z"
   },
   {
    "duration": 119,
    "start_time": "2025-03-07T03:50:20.483Z"
   },
   {
    "duration": 109,
    "start_time": "2025-03-07T03:51:16.591Z"
   },
   {
    "duration": 106,
    "start_time": "2025-03-07T03:51:22.247Z"
   },
   {
    "duration": 104,
    "start_time": "2025-03-07T03:51:30.307Z"
   },
   {
    "duration": 110,
    "start_time": "2025-03-07T03:51:36.306Z"
   },
   {
    "duration": 103,
    "start_time": "2025-03-07T03:51:55.225Z"
   },
   {
    "duration": 107,
    "start_time": "2025-03-07T03:52:05.459Z"
   },
   {
    "duration": 108,
    "start_time": "2025-03-07T03:52:38.408Z"
   },
   {
    "duration": 206,
    "start_time": "2025-03-07T03:53:13.152Z"
   },
   {
    "duration": 216,
    "start_time": "2025-03-07T03:54:20.785Z"
   },
   {
    "duration": 207,
    "start_time": "2025-03-07T04:02:02.126Z"
   },
   {
    "duration": 200,
    "start_time": "2025-03-07T04:04:22.372Z"
   },
   {
    "duration": 334,
    "start_time": "2025-03-07T04:05:10.952Z"
   },
   {
    "duration": 270,
    "start_time": "2025-03-07T04:05:29.199Z"
   },
   {
    "duration": 14,
    "start_time": "2025-03-07T04:08:27.842Z"
   },
   {
    "duration": 14,
    "start_time": "2025-03-07T04:12:40.574Z"
   },
   {
    "duration": 5,
    "start_time": "2025-03-07T04:13:56.819Z"
   },
   {
    "duration": 6,
    "start_time": "2025-03-07T04:14:02.325Z"
   },
   {
    "duration": 451,
    "start_time": "2025-03-07T04:14:50.878Z"
   },
   {
    "duration": 16,
    "start_time": "2025-03-07T04:15:03.804Z"
   },
   {
    "duration": 8,
    "start_time": "2025-03-07T04:15:52.841Z"
   },
   {
    "duration": 21,
    "start_time": "2025-03-07T04:19:02.270Z"
   },
   {
    "duration": 167,
    "start_time": "2025-03-07T04:22:16.772Z"
   },
   {
    "duration": 426,
    "start_time": "2025-03-07T04:22:51.714Z"
   },
   {
    "duration": 160,
    "start_time": "2025-03-07T04:22:52.142Z"
   },
   {
    "duration": 10,
    "start_time": "2025-03-07T04:22:52.304Z"
   },
   {
    "duration": 11,
    "start_time": "2025-03-07T04:22:52.315Z"
   },
   {
    "duration": 17,
    "start_time": "2025-03-07T04:22:52.329Z"
   },
   {
    "duration": 8,
    "start_time": "2025-03-07T04:22:52.347Z"
   },
   {
    "duration": 3,
    "start_time": "2025-03-07T04:22:52.357Z"
   },
   {
    "duration": 5,
    "start_time": "2025-03-07T04:22:52.361Z"
   },
   {
    "duration": 10,
    "start_time": "2025-03-07T04:22:52.369Z"
   },
   {
    "duration": 15,
    "start_time": "2025-03-07T04:22:52.380Z"
   },
   {
    "duration": 6,
    "start_time": "2025-03-07T04:22:52.396Z"
   },
   {
    "duration": 54,
    "start_time": "2025-03-07T04:22:52.404Z"
   },
   {
    "duration": 29,
    "start_time": "2025-03-07T04:22:52.460Z"
   },
   {
    "duration": 28,
    "start_time": "2025-03-07T04:22:52.494Z"
   },
   {
    "duration": 11,
    "start_time": "2025-03-07T04:22:52.542Z"
   },
   {
    "duration": 5,
    "start_time": "2025-03-07T04:22:52.555Z"
   },
   {
    "duration": 18,
    "start_time": "2025-03-07T04:22:52.563Z"
   },
   {
    "duration": 19,
    "start_time": "2025-03-07T04:22:52.582Z"
   },
   {
    "duration": 9,
    "start_time": "2025-03-07T04:22:52.602Z"
   },
   {
    "duration": 42,
    "start_time": "2025-03-07T04:22:52.613Z"
   },
   {
    "duration": 7,
    "start_time": "2025-03-07T04:22:52.656Z"
   },
   {
    "duration": 6,
    "start_time": "2025-03-07T04:22:52.665Z"
   },
   {
    "duration": 13,
    "start_time": "2025-03-07T04:22:52.672Z"
   },
   {
    "duration": 17,
    "start_time": "2025-03-07T04:22:52.687Z"
   },
   {
    "duration": 43,
    "start_time": "2025-03-07T04:22:52.706Z"
   },
   {
    "duration": 23,
    "start_time": "2025-03-07T04:22:52.751Z"
   },
   {
    "duration": 21,
    "start_time": "2025-03-07T04:22:52.776Z"
   },
   {
    "duration": 17,
    "start_time": "2025-03-07T04:22:52.798Z"
   },
   {
    "duration": 41,
    "start_time": "2025-03-07T04:22:52.816Z"
   },
   {
    "duration": 19,
    "start_time": "2025-03-07T04:22:52.859Z"
   },
   {
    "duration": 13,
    "start_time": "2025-03-07T04:22:52.880Z"
   },
   {
    "duration": 9,
    "start_time": "2025-03-07T04:22:52.895Z"
   },
   {
    "duration": 94,
    "start_time": "2025-03-07T04:22:52.906Z"
   },
   {
    "duration": 740,
    "start_time": "2025-03-07T04:22:53.001Z"
   },
   {
    "duration": 164,
    "start_time": "2025-03-07T04:22:53.744Z"
   },
   {
    "duration": 7,
    "start_time": "2025-03-07T04:22:53.909Z"
   },
   {
    "duration": 286,
    "start_time": "2025-03-07T04:22:53.917Z"
   },
   {
    "duration": 210,
    "start_time": "2025-03-07T04:22:54.205Z"
   },
   {
    "duration": 250,
    "start_time": "2025-03-07T04:22:54.417Z"
   },
   {
    "duration": 14,
    "start_time": "2025-03-07T04:22:54.669Z"
   },
   {
    "duration": 456,
    "start_time": "2025-03-07T04:22:54.687Z"
   },
   {
    "duration": 0,
    "start_time": "2025-03-07T04:22:55.144Z"
   },
   {
    "duration": 0,
    "start_time": "2025-03-07T04:22:55.145Z"
   },
   {
    "duration": 567,
    "start_time": "2025-03-07T04:25:17.891Z"
   },
   {
    "duration": 552,
    "start_time": "2025-03-07T04:25:56.655Z"
   },
   {
    "duration": 9,
    "start_time": "2025-03-07T04:27:06.628Z"
   },
   {
    "duration": 15,
    "start_time": "2025-03-07T04:41:36.494Z"
   },
   {
    "duration": 442,
    "start_time": "2025-03-07T04:41:53.039Z"
   },
   {
    "duration": 166,
    "start_time": "2025-03-07T04:41:53.483Z"
   },
   {
    "duration": 10,
    "start_time": "2025-03-07T04:41:53.651Z"
   },
   {
    "duration": 11,
    "start_time": "2025-03-07T04:41:53.663Z"
   },
   {
    "duration": 8,
    "start_time": "2025-03-07T04:41:53.676Z"
   },
   {
    "duration": 7,
    "start_time": "2025-03-07T04:41:53.686Z"
   },
   {
    "duration": 3,
    "start_time": "2025-03-07T04:41:53.695Z"
   },
   {
    "duration": 6,
    "start_time": "2025-03-07T04:41:53.699Z"
   },
   {
    "duration": 42,
    "start_time": "2025-03-07T04:41:53.706Z"
   },
   {
    "duration": 14,
    "start_time": "2025-03-07T04:41:53.752Z"
   },
   {
    "duration": 7,
    "start_time": "2025-03-07T04:41:53.768Z"
   },
   {
    "duration": 22,
    "start_time": "2025-03-07T04:41:53.776Z"
   },
   {
    "duration": 51,
    "start_time": "2025-03-07T04:41:53.800Z"
   },
   {
    "duration": 24,
    "start_time": "2025-03-07T04:41:53.853Z"
   },
   {
    "duration": 12,
    "start_time": "2025-03-07T04:41:53.879Z"
   },
   {
    "duration": 7,
    "start_time": "2025-03-07T04:41:53.892Z"
   },
   {
    "duration": 42,
    "start_time": "2025-03-07T04:41:53.901Z"
   },
   {
    "duration": 18,
    "start_time": "2025-03-07T04:41:53.944Z"
   },
   {
    "duration": 9,
    "start_time": "2025-03-07T04:41:53.963Z"
   },
   {
    "duration": 12,
    "start_time": "2025-03-07T04:41:53.975Z"
   },
   {
    "duration": 6,
    "start_time": "2025-03-07T04:41:53.989Z"
   },
   {
    "duration": 6,
    "start_time": "2025-03-07T04:41:53.997Z"
   },
   {
    "duration": 41,
    "start_time": "2025-03-07T04:41:54.005Z"
   },
   {
    "duration": 19,
    "start_time": "2025-03-07T04:41:54.047Z"
   },
   {
    "duration": 12,
    "start_time": "2025-03-07T04:41:54.068Z"
   },
   {
    "duration": 23,
    "start_time": "2025-03-07T04:41:54.082Z"
   },
   {
    "duration": 45,
    "start_time": "2025-03-07T04:41:54.107Z"
   },
   {
    "duration": 15,
    "start_time": "2025-03-07T04:41:54.156Z"
   },
   {
    "duration": 16,
    "start_time": "2025-03-07T04:41:54.173Z"
   },
   {
    "duration": 18,
    "start_time": "2025-03-07T04:41:54.191Z"
   },
   {
    "duration": 38,
    "start_time": "2025-03-07T04:41:54.211Z"
   },
   {
    "duration": 10,
    "start_time": "2025-03-07T04:41:54.250Z"
   },
   {
    "duration": 49,
    "start_time": "2025-03-07T04:41:54.261Z"
   },
   {
    "duration": 723,
    "start_time": "2025-03-07T04:41:54.312Z"
   },
   {
    "duration": 178,
    "start_time": "2025-03-07T04:41:55.037Z"
   },
   {
    "duration": 6,
    "start_time": "2025-03-07T04:41:55.217Z"
   },
   {
    "duration": 270,
    "start_time": "2025-03-07T04:41:55.225Z"
   },
   {
    "duration": 223,
    "start_time": "2025-03-07T04:41:55.497Z"
   },
   {
    "duration": 250,
    "start_time": "2025-03-07T04:41:55.723Z"
   },
   {
    "duration": 14,
    "start_time": "2025-03-07T04:41:55.975Z"
   },
   {
    "duration": 236,
    "start_time": "2025-03-07T04:41:55.990Z"
   },
   {
    "duration": 0,
    "start_time": "2025-03-07T04:41:56.228Z"
   },
   {
    "duration": 0,
    "start_time": "2025-03-07T04:41:56.229Z"
   },
   {
    "duration": 14,
    "start_time": "2025-03-07T04:42:02.982Z"
   },
   {
    "duration": 16,
    "start_time": "2025-03-07T04:42:07.307Z"
   },
   {
    "duration": 16,
    "start_time": "2025-03-07T04:42:37.281Z"
   },
   {
    "duration": 312,
    "start_time": "2025-03-07T04:42:46.200Z"
   },
   {
    "duration": 214,
    "start_time": "2025-03-07T04:42:52.138Z"
   },
   {
    "duration": 472,
    "start_time": "2025-03-07T04:43:00.271Z"
   },
   {
    "duration": 170,
    "start_time": "2025-03-07T04:43:00.745Z"
   },
   {
    "duration": 9,
    "start_time": "2025-03-07T04:43:00.917Z"
   },
   {
    "duration": 16,
    "start_time": "2025-03-07T04:43:00.928Z"
   },
   {
    "duration": 9,
    "start_time": "2025-03-07T04:43:00.947Z"
   },
   {
    "duration": 7,
    "start_time": "2025-03-07T04:43:00.959Z"
   },
   {
    "duration": 3,
    "start_time": "2025-03-07T04:43:00.969Z"
   },
   {
    "duration": 6,
    "start_time": "2025-03-07T04:43:00.973Z"
   },
   {
    "duration": 9,
    "start_time": "2025-03-07T04:43:00.981Z"
   },
   {
    "duration": 14,
    "start_time": "2025-03-07T04:43:00.991Z"
   },
   {
    "duration": 8,
    "start_time": "2025-03-07T04:43:01.042Z"
   },
   {
    "duration": 23,
    "start_time": "2025-03-07T04:43:01.052Z"
   },
   {
    "duration": 27,
    "start_time": "2025-03-07T04:43:01.076Z"
   },
   {
    "duration": 46,
    "start_time": "2025-03-07T04:43:01.106Z"
   },
   {
    "duration": 12,
    "start_time": "2025-03-07T04:43:01.154Z"
   },
   {
    "duration": 6,
    "start_time": "2025-03-07T04:43:01.169Z"
   },
   {
    "duration": 15,
    "start_time": "2025-03-07T04:43:01.176Z"
   },
   {
    "duration": 17,
    "start_time": "2025-03-07T04:43:01.193Z"
   },
   {
    "duration": 36,
    "start_time": "2025-03-07T04:43:01.212Z"
   },
   {
    "duration": 15,
    "start_time": "2025-03-07T04:43:01.250Z"
   },
   {
    "duration": 6,
    "start_time": "2025-03-07T04:43:01.266Z"
   },
   {
    "duration": 5,
    "start_time": "2025-03-07T04:43:01.274Z"
   },
   {
    "duration": 12,
    "start_time": "2025-03-07T04:43:01.281Z"
   },
   {
    "duration": 17,
    "start_time": "2025-03-07T04:43:01.295Z"
   },
   {
    "duration": 12,
    "start_time": "2025-03-07T04:43:01.342Z"
   },
   {
    "duration": 24,
    "start_time": "2025-03-07T04:43:01.356Z"
   },
   {
    "duration": 21,
    "start_time": "2025-03-07T04:43:01.382Z"
   },
   {
    "duration": 40,
    "start_time": "2025-03-07T04:43:01.405Z"
   },
   {
    "duration": 17,
    "start_time": "2025-03-07T04:43:01.447Z"
   },
   {
    "duration": 18,
    "start_time": "2025-03-07T04:43:01.466Z"
   },
   {
    "duration": 11,
    "start_time": "2025-03-07T04:43:01.486Z"
   },
   {
    "duration": 9,
    "start_time": "2025-03-07T04:43:01.499Z"
   },
   {
    "duration": 78,
    "start_time": "2025-03-07T04:43:01.510Z"
   },
   {
    "duration": 760,
    "start_time": "2025-03-07T04:43:01.590Z"
   },
   {
    "duration": 169,
    "start_time": "2025-03-07T04:43:02.352Z"
   },
   {
    "duration": 8,
    "start_time": "2025-03-07T04:43:02.523Z"
   },
   {
    "duration": 286,
    "start_time": "2025-03-07T04:43:02.532Z"
   },
   {
    "duration": 229,
    "start_time": "2025-03-07T04:43:02.819Z"
   },
   {
    "duration": 253,
    "start_time": "2025-03-07T04:43:03.049Z"
   },
   {
    "duration": 14,
    "start_time": "2025-03-07T04:43:03.304Z"
   },
   {
    "duration": 231,
    "start_time": "2025-03-07T04:43:03.322Z"
   },
   {
    "duration": 0,
    "start_time": "2025-03-07T04:43:03.555Z"
   },
   {
    "duration": 0,
    "start_time": "2025-03-07T04:43:03.556Z"
   },
   {
    "duration": 16,
    "start_time": "2025-03-07T04:43:21.545Z"
   },
   {
    "duration": 14,
    "start_time": "2025-03-07T04:44:32.480Z"
   },
   {
    "duration": 234,
    "start_time": "2025-03-07T04:49:19.538Z"
   },
   {
    "duration": 48,
    "start_time": "2025-03-07T04:49:27.771Z"
   },
   {
    "duration": 46,
    "start_time": "2025-03-07T04:51:22.511Z"
   },
   {
    "duration": 43,
    "start_time": "2025-03-07T04:51:24.933Z"
   },
   {
    "duration": 48,
    "start_time": "2025-03-07T04:51:41.233Z"
   },
   {
    "duration": 521,
    "start_time": "2025-03-07T04:52:46.811Z"
   },
   {
    "duration": 353,
    "start_time": "2025-03-07T04:53:22.462Z"
   },
   {
    "duration": 15,
    "start_time": "2025-03-07T04:53:32.037Z"
   },
   {
    "duration": 48,
    "start_time": "2025-03-07T04:53:46.980Z"
   },
   {
    "duration": 15,
    "start_time": "2025-03-07T04:54:06.811Z"
   },
   {
    "duration": 9,
    "start_time": "2025-03-07T04:54:35.628Z"
   },
   {
    "duration": 544,
    "start_time": "2025-03-07T04:54:59.388Z"
   },
   {
    "duration": 3,
    "start_time": "2025-03-07T04:55:03.127Z"
   },
   {
    "duration": 9,
    "start_time": "2025-03-07T04:55:06.488Z"
   },
   {
    "duration": 13,
    "start_time": "2025-03-07T04:55:21.919Z"
   },
   {
    "duration": 52,
    "start_time": "2025-03-07T04:56:21.729Z"
   },
   {
    "duration": 593,
    "start_time": "2025-03-07T04:59:30.499Z"
   },
   {
    "duration": 53,
    "start_time": "2025-03-07T04:59:39.143Z"
   },
   {
    "duration": 14,
    "start_time": "2025-03-07T04:59:48.548Z"
   },
   {
    "duration": 14,
    "start_time": "2025-03-07T05:01:50.370Z"
   },
   {
    "duration": 54,
    "start_time": "2025-03-07T05:03:50.884Z"
   },
   {
    "duration": 52,
    "start_time": "2025-03-07T05:03:56.552Z"
   },
   {
    "duration": 56,
    "start_time": "2025-03-07T05:06:08.330Z"
   },
   {
    "duration": 5,
    "start_time": "2025-03-07T05:06:19.188Z"
   },
   {
    "duration": 4,
    "start_time": "2025-03-07T05:06:36.838Z"
   },
   {
    "duration": 24,
    "start_time": "2025-03-07T05:18:24.775Z"
   },
   {
    "duration": 10,
    "start_time": "2025-03-07T05:21:22.656Z"
   },
   {
    "duration": 11,
    "start_time": "2025-03-07T05:21:28.584Z"
   },
   {
    "duration": 9,
    "start_time": "2025-03-07T05:21:41.311Z"
   },
   {
    "duration": 8,
    "start_time": "2025-03-07T05:22:19.466Z"
   },
   {
    "duration": 11,
    "start_time": "2025-03-07T05:24:07.578Z"
   },
   {
    "duration": 5,
    "start_time": "2025-03-07T05:24:19.658Z"
   },
   {
    "duration": 4,
    "start_time": "2025-03-07T05:30:24.220Z"
   },
   {
    "duration": 4,
    "start_time": "2025-03-07T05:30:39.239Z"
   },
   {
    "duration": 4,
    "start_time": "2025-03-07T05:30:56.260Z"
   },
   {
    "duration": 553,
    "start_time": "2025-03-07T05:39:19.767Z"
   },
   {
    "duration": 201,
    "start_time": "2025-03-07T05:39:20.322Z"
   },
   {
    "duration": 16,
    "start_time": "2025-03-07T05:39:20.525Z"
   },
   {
    "duration": 19,
    "start_time": "2025-03-07T05:39:20.544Z"
   },
   {
    "duration": 9,
    "start_time": "2025-03-07T05:39:20.566Z"
   },
   {
    "duration": 9,
    "start_time": "2025-03-07T05:39:20.577Z"
   },
   {
    "duration": 3,
    "start_time": "2025-03-07T05:39:20.588Z"
   },
   {
    "duration": 7,
    "start_time": "2025-03-07T05:39:20.593Z"
   },
   {
    "duration": 10,
    "start_time": "2025-03-07T05:39:20.602Z"
   },
   {
    "duration": 17,
    "start_time": "2025-03-07T05:39:20.643Z"
   },
   {
    "duration": 6,
    "start_time": "2025-03-07T05:39:20.662Z"
   },
   {
    "duration": 23,
    "start_time": "2025-03-07T05:39:20.670Z"
   },
   {
    "duration": 49,
    "start_time": "2025-03-07T05:39:20.694Z"
   },
   {
    "duration": 26,
    "start_time": "2025-03-07T05:39:20.745Z"
   },
   {
    "duration": 11,
    "start_time": "2025-03-07T05:39:20.773Z"
   },
   {
    "duration": 8,
    "start_time": "2025-03-07T05:39:20.785Z"
   },
   {
    "duration": 16,
    "start_time": "2025-03-07T05:39:20.795Z"
   },
   {
    "duration": 46,
    "start_time": "2025-03-07T05:39:20.812Z"
   },
   {
    "duration": 10,
    "start_time": "2025-03-07T05:39:20.860Z"
   },
   {
    "duration": 13,
    "start_time": "2025-03-07T05:39:20.871Z"
   },
   {
    "duration": 6,
    "start_time": "2025-03-07T05:39:20.885Z"
   },
   {
    "duration": 6,
    "start_time": "2025-03-07T05:39:20.893Z"
   },
   {
    "duration": 47,
    "start_time": "2025-03-07T05:39:20.900Z"
   },
   {
    "duration": 18,
    "start_time": "2025-03-07T05:39:20.949Z"
   },
   {
    "duration": 13,
    "start_time": "2025-03-07T05:39:20.969Z"
   },
   {
    "duration": 24,
    "start_time": "2025-03-07T05:39:20.984Z"
   },
   {
    "duration": 48,
    "start_time": "2025-03-07T05:39:21.010Z"
   },
   {
    "duration": 16,
    "start_time": "2025-03-07T05:39:21.063Z"
   },
   {
    "duration": 17,
    "start_time": "2025-03-07T05:39:21.080Z"
   },
   {
    "duration": 18,
    "start_time": "2025-03-07T05:39:21.098Z"
   },
   {
    "duration": 15,
    "start_time": "2025-03-07T05:39:21.142Z"
   },
   {
    "duration": 10,
    "start_time": "2025-03-07T05:39:21.159Z"
   },
   {
    "duration": 48,
    "start_time": "2025-03-07T05:39:21.170Z"
   },
   {
    "duration": 725,
    "start_time": "2025-03-07T05:39:21.219Z"
   },
   {
    "duration": 167,
    "start_time": "2025-03-07T05:39:21.946Z"
   },
   {
    "duration": 6,
    "start_time": "2025-03-07T05:39:22.115Z"
   },
   {
    "duration": 270,
    "start_time": "2025-03-07T05:39:22.123Z"
   },
   {
    "duration": 215,
    "start_time": "2025-03-07T05:39:22.395Z"
   },
   {
    "duration": 260,
    "start_time": "2025-03-07T05:39:22.612Z"
   },
   {
    "duration": 540,
    "start_time": "2025-03-07T05:39:22.874Z"
   },
   {
    "duration": 282,
    "start_time": "2025-03-07T05:39:23.416Z"
   },
   {
    "duration": 0,
    "start_time": "2025-03-07T05:39:23.699Z"
   },
   {
    "duration": 0,
    "start_time": "2025-03-07T05:39:23.700Z"
   },
   {
    "duration": 466,
    "start_time": "2025-03-07T07:30:37.160Z"
   },
   {
    "duration": 173,
    "start_time": "2025-03-07T07:30:37.628Z"
   },
   {
    "duration": 9,
    "start_time": "2025-03-07T07:30:37.803Z"
   },
   {
    "duration": 10,
    "start_time": "2025-03-07T07:30:37.813Z"
   },
   {
    "duration": 8,
    "start_time": "2025-03-07T07:30:37.833Z"
   },
   {
    "duration": 8,
    "start_time": "2025-03-07T07:30:37.844Z"
   },
   {
    "duration": 3,
    "start_time": "2025-03-07T07:30:37.854Z"
   },
   {
    "duration": 6,
    "start_time": "2025-03-07T07:30:37.858Z"
   },
   {
    "duration": 10,
    "start_time": "2025-03-07T07:30:37.865Z"
   },
   {
    "duration": 15,
    "start_time": "2025-03-07T07:30:37.878Z"
   },
   {
    "duration": 38,
    "start_time": "2025-03-07T07:30:37.895Z"
   },
   {
    "duration": 26,
    "start_time": "2025-03-07T07:30:37.935Z"
   },
   {
    "duration": 33,
    "start_time": "2025-03-07T07:30:37.963Z"
   },
   {
    "duration": 48,
    "start_time": "2025-03-07T07:30:38.000Z"
   },
   {
    "duration": 12,
    "start_time": "2025-03-07T07:30:38.050Z"
   },
   {
    "duration": 6,
    "start_time": "2025-03-07T07:30:38.064Z"
   },
   {
    "duration": 15,
    "start_time": "2025-03-07T07:30:38.072Z"
   },
   {
    "duration": 42,
    "start_time": "2025-03-07T07:30:38.089Z"
   },
   {
    "duration": 11,
    "start_time": "2025-03-07T07:30:38.133Z"
   },
   {
    "duration": 14,
    "start_time": "2025-03-07T07:30:38.146Z"
   },
   {
    "duration": 6,
    "start_time": "2025-03-07T07:30:38.161Z"
   },
   {
    "duration": 5,
    "start_time": "2025-03-07T07:30:38.169Z"
   },
   {
    "duration": 13,
    "start_time": "2025-03-07T07:30:38.176Z"
   },
   {
    "duration": 51,
    "start_time": "2025-03-07T07:30:38.191Z"
   },
   {
    "duration": 13,
    "start_time": "2025-03-07T07:30:38.243Z"
   },
   {
    "duration": 25,
    "start_time": "2025-03-07T07:30:38.258Z"
   },
   {
    "duration": 21,
    "start_time": "2025-03-07T07:30:38.285Z"
   },
   {
    "duration": 18,
    "start_time": "2025-03-07T07:30:38.331Z"
   },
   {
    "duration": 17,
    "start_time": "2025-03-07T07:30:38.351Z"
   },
   {
    "duration": 19,
    "start_time": "2025-03-07T07:30:38.370Z"
   },
   {
    "duration": 13,
    "start_time": "2025-03-07T07:30:38.391Z"
   },
   {
    "duration": 36,
    "start_time": "2025-03-07T07:30:38.405Z"
   },
   {
    "duration": 50,
    "start_time": "2025-03-07T07:30:38.443Z"
   },
   {
    "duration": 744,
    "start_time": "2025-03-07T07:30:38.495Z"
   },
   {
    "duration": 169,
    "start_time": "2025-03-07T07:30:39.241Z"
   },
   {
    "duration": 20,
    "start_time": "2025-03-07T07:30:39.412Z"
   },
   {
    "duration": 273,
    "start_time": "2025-03-07T07:30:39.433Z"
   },
   {
    "duration": 210,
    "start_time": "2025-03-07T07:30:39.709Z"
   },
   {
    "duration": 254,
    "start_time": "2025-03-07T07:30:39.921Z"
   },
   {
    "duration": 567,
    "start_time": "2025-03-07T07:30:40.179Z"
   },
   {
    "duration": 290,
    "start_time": "2025-03-07T07:30:40.750Z"
   },
   {
    "duration": 0,
    "start_time": "2025-03-07T07:30:41.042Z"
   },
   {
    "duration": 0,
    "start_time": "2025-03-07T07:30:41.043Z"
   },
   {
    "duration": 2546,
    "start_time": "2025-03-07T21:05:39.891Z"
   },
   {
    "duration": 229,
    "start_time": "2025-03-07T21:05:42.440Z"
   },
   {
    "duration": 11,
    "start_time": "2025-03-07T21:05:42.670Z"
   },
   {
    "duration": 10,
    "start_time": "2025-03-07T21:05:42.683Z"
   },
   {
    "duration": 9,
    "start_time": "2025-03-07T21:05:42.694Z"
   },
   {
    "duration": 9,
    "start_time": "2025-03-07T21:05:42.704Z"
   },
   {
    "duration": 3,
    "start_time": "2025-03-07T21:05:42.714Z"
   },
   {
    "duration": 6,
    "start_time": "2025-03-07T21:05:42.718Z"
   },
   {
    "duration": 11,
    "start_time": "2025-03-07T21:05:42.725Z"
   },
   {
    "duration": 14,
    "start_time": "2025-03-07T21:05:42.739Z"
   },
   {
    "duration": 36,
    "start_time": "2025-03-07T21:05:42.754Z"
   },
   {
    "duration": 22,
    "start_time": "2025-03-07T21:05:42.791Z"
   },
   {
    "duration": 29,
    "start_time": "2025-03-07T21:05:42.815Z"
   },
   {
    "duration": 54,
    "start_time": "2025-03-07T21:05:42.846Z"
   },
   {
    "duration": 11,
    "start_time": "2025-03-07T21:05:42.902Z"
   },
   {
    "duration": 5,
    "start_time": "2025-03-07T21:05:42.915Z"
   },
   {
    "duration": 16,
    "start_time": "2025-03-07T21:05:42.922Z"
   },
   {
    "duration": 47,
    "start_time": "2025-03-07T21:05:42.940Z"
   },
   {
    "duration": 9,
    "start_time": "2025-03-07T21:05:42.989Z"
   },
   {
    "duration": 13,
    "start_time": "2025-03-07T21:05:43.000Z"
   },
   {
    "duration": 6,
    "start_time": "2025-03-07T21:05:43.015Z"
   },
   {
    "duration": 7,
    "start_time": "2025-03-07T21:05:43.023Z"
   },
   {
    "duration": 14,
    "start_time": "2025-03-07T21:05:43.031Z"
   },
   {
    "duration": 46,
    "start_time": "2025-03-07T21:05:43.046Z"
   },
   {
    "duration": 15,
    "start_time": "2025-03-07T21:05:43.094Z"
   },
   {
    "duration": 31,
    "start_time": "2025-03-07T21:05:43.110Z"
   },
   {
    "duration": 51,
    "start_time": "2025-03-07T21:05:43.143Z"
   },
   {
    "duration": 23,
    "start_time": "2025-03-07T21:05:43.199Z"
   },
   {
    "duration": 19,
    "start_time": "2025-03-07T21:05:43.224Z"
   },
   {
    "duration": 45,
    "start_time": "2025-03-07T21:05:43.245Z"
   },
   {
    "duration": 16,
    "start_time": "2025-03-07T21:05:43.293Z"
   },
   {
    "duration": 11,
    "start_time": "2025-03-07T21:05:43.311Z"
   },
   {
    "duration": 73,
    "start_time": "2025-03-07T21:05:43.323Z"
   },
   {
    "duration": 227,
    "start_time": "2025-03-07T21:05:43.398Z"
   },
   {
    "duration": 175,
    "start_time": "2025-03-07T21:05:43.627Z"
   },
   {
    "duration": 10,
    "start_time": "2025-03-07T21:05:43.804Z"
   },
   {
    "duration": 224,
    "start_time": "2025-03-07T21:05:43.816Z"
   },
   {
    "duration": 214,
    "start_time": "2025-03-07T21:05:44.042Z"
   },
   {
    "duration": 330,
    "start_time": "2025-03-07T21:05:44.258Z"
   },
   {
    "duration": 531,
    "start_time": "2025-03-07T21:05:44.589Z"
   },
   {
    "duration": 230,
    "start_time": "2025-03-07T21:05:45.123Z"
   },
   {
    "duration": 0,
    "start_time": "2025-03-07T21:05:45.355Z"
   },
   {
    "duration": 0,
    "start_time": "2025-03-07T21:05:45.357Z"
   },
   {
    "duration": 9,
    "start_time": "2025-03-07T21:14:27.137Z"
   },
   {
    "duration": 6,
    "start_time": "2025-03-07T21:18:23.365Z"
   },
   {
    "duration": 7,
    "start_time": "2025-03-07T21:20:01.928Z"
   },
   {
    "duration": 7,
    "start_time": "2025-03-07T21:20:07.620Z"
   },
   {
    "duration": 801,
    "start_time": "2025-03-07T21:24:19.076Z"
   },
   {
    "duration": 164,
    "start_time": "2025-03-07T21:24:19.879Z"
   },
   {
    "duration": 9,
    "start_time": "2025-03-07T21:24:20.045Z"
   },
   {
    "duration": 10,
    "start_time": "2025-03-07T21:24:20.057Z"
   },
   {
    "duration": 17,
    "start_time": "2025-03-07T21:24:20.069Z"
   },
   {
    "duration": 7,
    "start_time": "2025-03-07T21:24:20.088Z"
   },
   {
    "duration": 6,
    "start_time": "2025-03-07T21:24:20.097Z"
   },
   {
    "duration": 5,
    "start_time": "2025-03-07T21:24:20.104Z"
   },
   {
    "duration": 15,
    "start_time": "2025-03-07T21:24:20.111Z"
   },
   {
    "duration": 6,
    "start_time": "2025-03-07T21:24:20.128Z"
   },
   {
    "duration": 56,
    "start_time": "2025-03-07T21:24:20.136Z"
   },
   {
    "duration": 28,
    "start_time": "2025-03-07T21:24:20.194Z"
   },
   {
    "duration": 26,
    "start_time": "2025-03-07T21:24:20.224Z"
   },
   {
    "duration": 33,
    "start_time": "2025-03-07T21:24:20.252Z"
   },
   {
    "duration": 6,
    "start_time": "2025-03-07T21:24:20.288Z"
   },
   {
    "duration": 15,
    "start_time": "2025-03-07T21:24:20.296Z"
   },
   {
    "duration": 18,
    "start_time": "2025-03-07T21:24:20.313Z"
   },
   {
    "duration": 9,
    "start_time": "2025-03-07T21:24:20.333Z"
   },
   {
    "duration": 42,
    "start_time": "2025-03-07T21:24:20.345Z"
   },
   {
    "duration": 7,
    "start_time": "2025-03-07T21:24:20.389Z"
   },
   {
    "duration": 7,
    "start_time": "2025-03-07T21:24:20.398Z"
   },
   {
    "duration": 13,
    "start_time": "2025-03-07T21:24:20.406Z"
   },
   {
    "duration": 18,
    "start_time": "2025-03-07T21:24:20.420Z"
   },
   {
    "duration": 48,
    "start_time": "2025-03-07T21:24:20.440Z"
   },
   {
    "duration": 31,
    "start_time": "2025-03-07T21:24:20.490Z"
   },
   {
    "duration": 23,
    "start_time": "2025-03-07T21:24:20.523Z"
   },
   {
    "duration": 40,
    "start_time": "2025-03-07T21:24:20.548Z"
   },
   {
    "duration": 19,
    "start_time": "2025-03-07T21:24:20.592Z"
   },
   {
    "duration": 19,
    "start_time": "2025-03-07T21:24:20.613Z"
   },
   {
    "duration": 12,
    "start_time": "2025-03-07T21:24:20.634Z"
   },
   {
    "duration": 10,
    "start_time": "2025-03-07T21:24:20.647Z"
   },
   {
    "duration": 49,
    "start_time": "2025-03-07T21:24:20.687Z"
   },
   {
    "duration": 224,
    "start_time": "2025-03-07T21:24:20.738Z"
   },
   {
    "duration": 209,
    "start_time": "2025-03-07T21:24:20.964Z"
   },
   {
    "duration": 14,
    "start_time": "2025-03-07T21:24:21.175Z"
   },
   {
    "duration": 218,
    "start_time": "2025-03-07T21:24:21.190Z"
   },
   {
    "duration": 210,
    "start_time": "2025-03-07T21:24:21.410Z"
   },
   {
    "duration": 256,
    "start_time": "2025-03-07T21:24:21.623Z"
   },
   {
    "duration": 528,
    "start_time": "2025-03-07T21:24:21.882Z"
   },
   {
    "duration": 298,
    "start_time": "2025-03-07T21:24:22.412Z"
   },
   {
    "duration": 0,
    "start_time": "2025-03-07T21:24:22.712Z"
   },
   {
    "duration": 0,
    "start_time": "2025-03-07T21:24:22.714Z"
   },
   {
    "duration": 15,
    "start_time": "2025-03-07T21:25:16.975Z"
   },
   {
    "duration": 2,
    "start_time": "2025-03-07T21:29:00.143Z"
   },
   {
    "duration": 479,
    "start_time": "2025-03-07T21:30:46.628Z"
   },
   {
    "duration": 41,
    "start_time": "2025-03-07T21:33:37.182Z"
   },
   {
    "duration": 3,
    "start_time": "2025-03-07T21:34:37.185Z"
   },
   {
    "duration": 9,
    "start_time": "2025-03-07T21:35:00.516Z"
   },
   {
    "duration": 35,
    "start_time": "2025-03-07T21:37:57.045Z"
   },
   {
    "duration": 24,
    "start_time": "2025-03-07T21:39:08.748Z"
   },
   {
    "duration": 31,
    "start_time": "2025-03-07T21:41:00.303Z"
   },
   {
    "duration": 10,
    "start_time": "2025-03-07T21:44:06.613Z"
   },
   {
    "duration": 20,
    "start_time": "2025-03-07T21:45:26.786Z"
   },
   {
    "duration": 5,
    "start_time": "2025-03-07T21:46:25.600Z"
   },
   {
    "duration": 44,
    "start_time": "2025-03-07T21:46:30.592Z"
   },
   {
    "duration": 25,
    "start_time": "2025-03-07T21:48:37.359Z"
   },
   {
    "duration": 35,
    "start_time": "2025-03-07T21:49:11.571Z"
   },
   {
    "duration": 28,
    "start_time": "2025-03-07T21:52:29.465Z"
   },
   {
    "duration": 20,
    "start_time": "2025-03-07T21:54:31.261Z"
   },
   {
    "duration": 22,
    "start_time": "2025-03-07T21:56:10.387Z"
   },
   {
    "duration": 40,
    "start_time": "2025-03-07T21:56:23.215Z"
   },
   {
    "duration": 66,
    "start_time": "2025-03-07T21:58:08.149Z"
   },
   {
    "duration": 53,
    "start_time": "2025-03-07T22:00:59.056Z"
   },
   {
    "duration": 66,
    "start_time": "2025-03-07T22:02:52.082Z"
   },
   {
    "duration": 51,
    "start_time": "2025-03-07T22:03:38.456Z"
   },
   {
    "duration": 365,
    "start_time": "2025-03-07T22:11:51.960Z"
   },
   {
    "duration": 872,
    "start_time": "2025-03-07T22:12:21.991Z"
   },
   {
    "duration": 163,
    "start_time": "2025-03-07T22:12:22.866Z"
   },
   {
    "duration": 12,
    "start_time": "2025-03-07T22:12:23.031Z"
   },
   {
    "duration": 12,
    "start_time": "2025-03-07T22:12:23.045Z"
   },
   {
    "duration": 10,
    "start_time": "2025-03-07T22:12:23.062Z"
   },
   {
    "duration": 19,
    "start_time": "2025-03-07T22:12:23.074Z"
   },
   {
    "duration": 7,
    "start_time": "2025-03-07T22:12:23.095Z"
   },
   {
    "duration": 17,
    "start_time": "2025-03-07T22:12:23.104Z"
   },
   {
    "duration": 19,
    "start_time": "2025-03-07T22:12:23.124Z"
   },
   {
    "duration": 11,
    "start_time": "2025-03-07T22:12:23.146Z"
   },
   {
    "duration": 54,
    "start_time": "2025-03-07T22:12:23.187Z"
   },
   {
    "duration": 44,
    "start_time": "2025-03-07T22:12:23.243Z"
   },
   {
    "duration": 30,
    "start_time": "2025-03-07T22:12:23.290Z"
   },
   {
    "duration": 10,
    "start_time": "2025-03-07T22:12:23.325Z"
   },
   {
    "duration": 18,
    "start_time": "2025-03-07T22:12:23.337Z"
   },
   {
    "duration": 30,
    "start_time": "2025-03-07T22:12:23.357Z"
   },
   {
    "duration": 24,
    "start_time": "2025-03-07T22:12:23.390Z"
   },
   {
    "duration": 25,
    "start_time": "2025-03-07T22:12:23.416Z"
   },
   {
    "duration": 12,
    "start_time": "2025-03-07T22:12:23.443Z"
   },
   {
    "duration": 38,
    "start_time": "2025-03-07T22:12:23.457Z"
   },
   {
    "duration": 11,
    "start_time": "2025-03-07T22:12:23.502Z"
   },
   {
    "duration": 61,
    "start_time": "2025-03-07T22:12:23.517Z"
   },
   {
    "duration": 29,
    "start_time": "2025-03-07T22:12:23.582Z"
   },
   {
    "duration": 18,
    "start_time": "2025-03-07T22:12:23.613Z"
   },
   {
    "duration": 14,
    "start_time": "2025-03-07T22:12:23.633Z"
   },
   {
    "duration": 39,
    "start_time": "2025-03-07T22:12:23.650Z"
   },
   {
    "duration": 24,
    "start_time": "2025-03-07T22:12:23.693Z"
   },
   {
    "duration": 14,
    "start_time": "2025-03-07T22:12:23.719Z"
   },
   {
    "duration": 15,
    "start_time": "2025-03-07T22:12:23.735Z"
   },
   {
    "duration": 45,
    "start_time": "2025-03-07T22:12:23.751Z"
   },
   {
    "duration": 13,
    "start_time": "2025-03-07T22:12:23.798Z"
   },
   {
    "duration": 9,
    "start_time": "2025-03-07T22:12:23.813Z"
   },
   {
    "duration": 105,
    "start_time": "2025-03-07T22:12:23.824Z"
   },
   {
    "duration": 233,
    "start_time": "2025-03-07T22:12:23.931Z"
   },
   {
    "duration": 803,
    "start_time": "2025-03-07T22:12:24.166Z"
   },
   {
    "duration": 0,
    "start_time": "2025-03-07T22:12:24.971Z"
   },
   {
    "duration": 0,
    "start_time": "2025-03-07T22:12:24.972Z"
   },
   {
    "duration": 0,
    "start_time": "2025-03-07T22:12:24.973Z"
   },
   {
    "duration": 0,
    "start_time": "2025-03-07T22:12:24.974Z"
   },
   {
    "duration": 0,
    "start_time": "2025-03-07T22:12:24.975Z"
   },
   {
    "duration": 0,
    "start_time": "2025-03-07T22:12:24.987Z"
   },
   {
    "duration": 0,
    "start_time": "2025-03-07T22:12:24.987Z"
   },
   {
    "duration": 0,
    "start_time": "2025-03-07T22:12:24.988Z"
   },
   {
    "duration": 247,
    "start_time": "2025-03-07T22:14:41.586Z"
   },
   {
    "duration": 8,
    "start_time": "2025-03-07T22:19:38.971Z"
   },
   {
    "duration": 8,
    "start_time": "2025-03-07T22:19:51.236Z"
   },
   {
    "duration": 8,
    "start_time": "2025-03-07T22:20:44.375Z"
   },
   {
    "duration": 12,
    "start_time": "2025-03-07T22:20:56.910Z"
   },
   {
    "duration": 8,
    "start_time": "2025-03-07T22:21:04.677Z"
   },
   {
    "duration": 8,
    "start_time": "2025-03-07T22:24:05.517Z"
   },
   {
    "duration": 9,
    "start_time": "2025-03-07T22:24:44.603Z"
   },
   {
    "duration": 9,
    "start_time": "2025-03-07T22:25:05.119Z"
   },
   {
    "duration": 9,
    "start_time": "2025-03-07T22:25:35.303Z"
   },
   {
    "duration": 8,
    "start_time": "2025-03-07T22:25:47.696Z"
   },
   {
    "duration": 1068,
    "start_time": "2025-03-07T22:26:38.206Z"
   },
   {
    "duration": 235,
    "start_time": "2025-03-07T22:26:39.276Z"
   },
   {
    "duration": 14,
    "start_time": "2025-03-07T22:26:39.519Z"
   },
   {
    "duration": 14,
    "start_time": "2025-03-07T22:26:39.536Z"
   },
   {
    "duration": 13,
    "start_time": "2025-03-07T22:26:39.552Z"
   },
   {
    "duration": 22,
    "start_time": "2025-03-07T22:26:39.567Z"
   },
   {
    "duration": 6,
    "start_time": "2025-03-07T22:26:39.591Z"
   },
   {
    "duration": 13,
    "start_time": "2025-03-07T22:26:39.599Z"
   },
   {
    "duration": 22,
    "start_time": "2025-03-07T22:26:39.616Z"
   },
   {
    "duration": 13,
    "start_time": "2025-03-07T22:26:39.642Z"
   },
   {
    "duration": 70,
    "start_time": "2025-03-07T22:26:39.657Z"
   },
   {
    "duration": 38,
    "start_time": "2025-03-07T22:26:39.729Z"
   },
   {
    "duration": 45,
    "start_time": "2025-03-07T22:26:39.769Z"
   },
   {
    "duration": 11,
    "start_time": "2025-03-07T22:26:39.816Z"
   },
   {
    "duration": 15,
    "start_time": "2025-03-07T22:26:39.834Z"
   },
   {
    "duration": 7,
    "start_time": "2025-03-07T22:26:39.851Z"
   },
   {
    "duration": 47,
    "start_time": "2025-03-07T22:26:39.859Z"
   },
   {
    "duration": 24,
    "start_time": "2025-03-07T22:26:39.909Z"
   },
   {
    "duration": 16,
    "start_time": "2025-03-07T22:26:39.935Z"
   },
   {
    "duration": 39,
    "start_time": "2025-03-07T22:26:39.953Z"
   },
   {
    "duration": 7,
    "start_time": "2025-03-07T22:26:39.995Z"
   },
   {
    "duration": 53,
    "start_time": "2025-03-07T22:26:40.005Z"
   },
   {
    "duration": 35,
    "start_time": "2025-03-07T22:26:40.061Z"
   },
   {
    "duration": 20,
    "start_time": "2025-03-07T22:26:40.099Z"
   },
   {
    "duration": 16,
    "start_time": "2025-03-07T22:26:40.122Z"
   },
   {
    "duration": 49,
    "start_time": "2025-03-07T22:26:40.141Z"
   },
   {
    "duration": 35,
    "start_time": "2025-03-07T22:26:40.195Z"
   },
   {
    "duration": 19,
    "start_time": "2025-03-07T22:26:40.232Z"
   },
   {
    "duration": 19,
    "start_time": "2025-03-07T22:26:40.253Z"
   },
   {
    "duration": 24,
    "start_time": "2025-03-07T22:26:40.287Z"
   },
   {
    "duration": 15,
    "start_time": "2025-03-07T22:26:40.313Z"
   },
   {
    "duration": 11,
    "start_time": "2025-03-07T22:26:40.330Z"
   },
   {
    "duration": 101,
    "start_time": "2025-03-07T22:26:40.343Z"
   },
   {
    "duration": 316,
    "start_time": "2025-03-07T22:26:40.446Z"
   },
   {
    "duration": 300,
    "start_time": "2025-03-07T22:26:40.766Z"
   },
   {
    "duration": 10,
    "start_time": "2025-03-07T22:26:41.068Z"
   },
   {
    "duration": 310,
    "start_time": "2025-03-07T22:26:41.080Z"
   },
   {
    "duration": 331,
    "start_time": "2025-03-07T22:26:41.392Z"
   },
   {
    "duration": 399,
    "start_time": "2025-03-07T22:26:41.726Z"
   },
   {
    "duration": 898,
    "start_time": "2025-03-07T22:26:42.128Z"
   },
   {
    "duration": 434,
    "start_time": "2025-03-07T22:26:43.029Z"
   },
   {
    "duration": 1,
    "start_time": "2025-03-07T22:26:43.464Z"
   },
   {
    "duration": 0,
    "start_time": "2025-03-07T22:26:43.466Z"
   },
   {
    "duration": 22,
    "start_time": "2025-03-07T22:45:09.450Z"
   },
   {
    "duration": 4,
    "start_time": "2025-03-07T22:46:10.964Z"
   },
   {
    "duration": 5,
    "start_time": "2025-03-07T22:46:27.200Z"
   },
   {
    "duration": 5,
    "start_time": "2025-03-07T22:46:31.887Z"
   },
   {
    "duration": 3,
    "start_time": "2025-03-07T22:46:37.193Z"
   },
   {
    "duration": 888,
    "start_time": "2025-03-07T22:46:46.205Z"
   },
   {
    "duration": 170,
    "start_time": "2025-03-07T22:46:47.095Z"
   },
   {
    "duration": 14,
    "start_time": "2025-03-07T22:46:47.268Z"
   },
   {
    "duration": 11,
    "start_time": "2025-03-07T22:46:47.286Z"
   },
   {
    "duration": 12,
    "start_time": "2025-03-07T22:46:47.299Z"
   },
   {
    "duration": 11,
    "start_time": "2025-03-07T22:46:47.314Z"
   },
   {
    "duration": 8,
    "start_time": "2025-03-07T22:46:47.327Z"
   },
   {
    "duration": 13,
    "start_time": "2025-03-07T22:46:47.337Z"
   },
   {
    "duration": 45,
    "start_time": "2025-03-07T22:46:47.352Z"
   },
   {
    "duration": 8,
    "start_time": "2025-03-07T22:46:47.401Z"
   },
   {
    "duration": 34,
    "start_time": "2025-03-07T22:46:47.411Z"
   },
   {
    "duration": 52,
    "start_time": "2025-03-07T22:46:47.448Z"
   },
   {
    "duration": 22,
    "start_time": "2025-03-07T22:46:47.502Z"
   },
   {
    "duration": 10,
    "start_time": "2025-03-07T22:46:47.526Z"
   },
   {
    "duration": 16,
    "start_time": "2025-03-07T22:46:47.538Z"
   },
   {
    "duration": 32,
    "start_time": "2025-03-07T22:46:47.555Z"
   },
   {
    "duration": 17,
    "start_time": "2025-03-07T22:46:47.589Z"
   },
   {
    "duration": 17,
    "start_time": "2025-03-07T22:46:47.608Z"
   },
   {
    "duration": 10,
    "start_time": "2025-03-07T22:46:47.627Z"
   },
   {
    "duration": 13,
    "start_time": "2025-03-07T22:46:47.639Z"
   },
   {
    "duration": 36,
    "start_time": "2025-03-07T22:46:47.654Z"
   },
   {
    "duration": 40,
    "start_time": "2025-03-07T22:46:47.692Z"
   },
   {
    "duration": 13,
    "start_time": "2025-03-07T22:46:47.734Z"
   },
   {
    "duration": 46,
    "start_time": "2025-03-07T22:46:47.748Z"
   },
   {
    "duration": 14,
    "start_time": "2025-03-07T22:46:47.796Z"
   },
   {
    "duration": 28,
    "start_time": "2025-03-07T22:46:47.813Z"
   },
   {
    "duration": 45,
    "start_time": "2025-03-07T22:46:47.842Z"
   },
   {
    "duration": 15,
    "start_time": "2025-03-07T22:46:47.891Z"
   },
   {
    "duration": 20,
    "start_time": "2025-03-07T22:46:47.909Z"
   },
   {
    "duration": 26,
    "start_time": "2025-03-07T22:46:47.931Z"
   },
   {
    "duration": 13,
    "start_time": "2025-03-07T22:46:47.986Z"
   },
   {
    "duration": 11,
    "start_time": "2025-03-07T22:46:48.001Z"
   },
   {
    "duration": 95,
    "start_time": "2025-03-07T22:46:48.015Z"
   },
   {
    "duration": 237,
    "start_time": "2025-03-07T22:46:48.112Z"
   },
   {
    "duration": 242,
    "start_time": "2025-03-07T22:46:48.351Z"
   },
   {
    "duration": 8,
    "start_time": "2025-03-07T22:46:48.596Z"
   },
   {
    "duration": 236,
    "start_time": "2025-03-07T22:46:48.606Z"
   },
   {
    "duration": 213,
    "start_time": "2025-03-07T22:46:48.844Z"
   },
   {
    "duration": 262,
    "start_time": "2025-03-07T22:46:49.059Z"
   },
   {
    "duration": 556,
    "start_time": "2025-03-07T22:46:49.323Z"
   },
   {
    "duration": 4,
    "start_time": "2025-03-07T22:46:49.886Z"
   },
   {
    "duration": 10,
    "start_time": "2025-03-07T22:46:49.892Z"
   },
   {
    "duration": 4,
    "start_time": "2025-03-07T22:46:49.904Z"
   },
   {
    "duration": 2617,
    "start_time": "2025-03-08T06:27:08.663Z"
   },
   {
    "duration": 243,
    "start_time": "2025-03-08T06:27:11.282Z"
   },
   {
    "duration": 10,
    "start_time": "2025-03-08T06:27:11.527Z"
   },
   {
    "duration": 9,
    "start_time": "2025-03-08T06:27:11.540Z"
   },
   {
    "duration": 9,
    "start_time": "2025-03-08T06:27:11.551Z"
   },
   {
    "duration": 9,
    "start_time": "2025-03-08T06:27:11.561Z"
   },
   {
    "duration": 5,
    "start_time": "2025-03-08T06:27:11.572Z"
   },
   {
    "duration": 11,
    "start_time": "2025-03-08T06:27:11.579Z"
   },
   {
    "duration": 15,
    "start_time": "2025-03-08T06:27:11.592Z"
   },
   {
    "duration": 35,
    "start_time": "2025-03-08T06:27:11.610Z"
   },
   {
    "duration": 34,
    "start_time": "2025-03-08T06:27:11.646Z"
   },
   {
    "duration": 35,
    "start_time": "2025-03-08T06:27:11.682Z"
   },
   {
    "duration": 48,
    "start_time": "2025-03-08T06:27:11.718Z"
   },
   {
    "duration": 8,
    "start_time": "2025-03-08T06:27:11.768Z"
   },
   {
    "duration": 14,
    "start_time": "2025-03-08T06:27:11.778Z"
   },
   {
    "duration": 7,
    "start_time": "2025-03-08T06:27:11.793Z"
   },
   {
    "duration": 46,
    "start_time": "2025-03-08T06:27:11.801Z"
   },
   {
    "duration": 22,
    "start_time": "2025-03-08T06:27:11.849Z"
   },
   {
    "duration": 10,
    "start_time": "2025-03-08T06:27:11.873Z"
   },
   {
    "duration": 16,
    "start_time": "2025-03-08T06:27:11.885Z"
   },
   {
    "duration": 7,
    "start_time": "2025-03-08T06:27:11.902Z"
   },
   {
    "duration": 67,
    "start_time": "2025-03-08T06:27:11.910Z"
   },
   {
    "duration": 12,
    "start_time": "2025-03-08T06:27:11.979Z"
   },
   {
    "duration": 16,
    "start_time": "2025-03-08T06:27:11.993Z"
   },
   {
    "duration": 33,
    "start_time": "2025-03-08T06:27:12.011Z"
   },
   {
    "duration": 20,
    "start_time": "2025-03-08T06:27:12.047Z"
   },
   {
    "duration": 22,
    "start_time": "2025-03-08T06:27:12.068Z"
   },
   {
    "duration": 15,
    "start_time": "2025-03-08T06:27:12.093Z"
   },
   {
    "duration": 36,
    "start_time": "2025-03-08T06:27:12.110Z"
   },
   {
    "duration": 19,
    "start_time": "2025-03-08T06:27:12.149Z"
   },
   {
    "duration": 14,
    "start_time": "2025-03-08T06:27:12.170Z"
   },
   {
    "duration": 8,
    "start_time": "2025-03-08T06:27:12.186Z"
   },
   {
    "duration": 78,
    "start_time": "2025-03-08T06:27:12.195Z"
   },
   {
    "duration": 220,
    "start_time": "2025-03-08T06:27:12.274Z"
   },
   {
    "duration": 170,
    "start_time": "2025-03-08T06:27:12.496Z"
   },
   {
    "duration": 10,
    "start_time": "2025-03-08T06:27:12.667Z"
   },
   {
    "duration": 225,
    "start_time": "2025-03-08T06:27:12.678Z"
   },
   {
    "duration": 226,
    "start_time": "2025-03-08T06:27:12.905Z"
   },
   {
    "duration": 321,
    "start_time": "2025-03-08T06:27:13.133Z"
   },
   {
    "duration": 516,
    "start_time": "2025-03-08T06:27:13.456Z"
   },
   {
    "duration": 5,
    "start_time": "2025-03-08T06:27:13.975Z"
   },
   {
    "duration": 11,
    "start_time": "2025-03-08T06:27:13.981Z"
   },
   {
    "duration": 4,
    "start_time": "2025-03-08T06:27:13.993Z"
   },
   {
    "duration": 829,
    "start_time": "2025-03-08T06:48:12.292Z"
   },
   {
    "duration": 173,
    "start_time": "2025-03-08T06:48:13.123Z"
   },
   {
    "duration": 10,
    "start_time": "2025-03-08T06:48:13.298Z"
   },
   {
    "duration": 10,
    "start_time": "2025-03-08T06:48:13.311Z"
   },
   {
    "duration": 19,
    "start_time": "2025-03-08T06:48:13.323Z"
   },
   {
    "duration": 8,
    "start_time": "2025-03-08T06:48:13.344Z"
   },
   {
    "duration": 5,
    "start_time": "2025-03-08T06:48:13.354Z"
   },
   {
    "duration": 10,
    "start_time": "2025-03-08T06:48:13.361Z"
   },
   {
    "duration": 15,
    "start_time": "2025-03-08T06:48:13.373Z"
   },
   {
    "duration": 6,
    "start_time": "2025-03-08T06:48:13.391Z"
   },
   {
    "duration": 76,
    "start_time": "2025-03-08T06:48:13.399Z"
   },
   {
    "duration": 36,
    "start_time": "2025-03-08T06:48:13.477Z"
   },
   {
    "duration": 42,
    "start_time": "2025-03-08T06:48:13.516Z"
   },
   {
    "duration": 8,
    "start_time": "2025-03-08T06:48:13.560Z"
   },
   {
    "duration": 12,
    "start_time": "2025-03-08T06:48:13.571Z"
   },
   {
    "duration": 9,
    "start_time": "2025-03-08T06:48:13.585Z"
   },
   {
    "duration": 21,
    "start_time": "2025-03-08T06:48:13.595Z"
   },
   {
    "duration": 37,
    "start_time": "2025-03-08T06:48:13.618Z"
   },
   {
    "duration": 16,
    "start_time": "2025-03-08T06:48:13.657Z"
   },
   {
    "duration": 14,
    "start_time": "2025-03-08T06:48:13.675Z"
   },
   {
    "duration": 7,
    "start_time": "2025-03-08T06:48:13.691Z"
   },
   {
    "duration": 59,
    "start_time": "2025-03-08T06:48:13.700Z"
   },
   {
    "duration": 18,
    "start_time": "2025-03-08T06:48:13.761Z"
   },
   {
    "duration": 17,
    "start_time": "2025-03-08T06:48:13.781Z"
   },
   {
    "duration": 12,
    "start_time": "2025-03-08T06:48:13.800Z"
   },
   {
    "duration": 49,
    "start_time": "2025-03-08T06:48:13.814Z"
   },
   {
    "duration": 18,
    "start_time": "2025-03-08T06:48:13.865Z"
   },
   {
    "duration": 17,
    "start_time": "2025-03-08T06:48:13.887Z"
   },
   {
    "duration": 15,
    "start_time": "2025-03-08T06:48:13.906Z"
   },
   {
    "duration": 23,
    "start_time": "2025-03-08T06:48:13.943Z"
   },
   {
    "duration": 12,
    "start_time": "2025-03-08T06:48:13.967Z"
   },
   {
    "duration": 10,
    "start_time": "2025-03-08T06:48:13.980Z"
   },
   {
    "duration": 73,
    "start_time": "2025-03-08T06:48:13.992Z"
   },
   {
    "duration": 229,
    "start_time": "2025-03-08T06:48:14.067Z"
   },
   {
    "duration": 232,
    "start_time": "2025-03-08T06:48:14.298Z"
   },
   {
    "duration": 15,
    "start_time": "2025-03-08T06:48:14.531Z"
   },
   {
    "duration": 232,
    "start_time": "2025-03-08T06:48:14.547Z"
   },
   {
    "duration": 207,
    "start_time": "2025-03-08T06:48:14.780Z"
   },
   {
    "duration": 259,
    "start_time": "2025-03-08T06:48:14.989Z"
   },
   {
    "duration": 516,
    "start_time": "2025-03-08T06:48:15.250Z"
   },
   {
    "duration": 7,
    "start_time": "2025-03-08T06:48:15.767Z"
   },
   {
    "duration": 10,
    "start_time": "2025-03-08T06:48:15.776Z"
   },
   {
    "duration": 6,
    "start_time": "2025-03-08T06:48:15.788Z"
   },
   {
    "duration": 121,
    "start_time": "2025-03-08T07:02:32.046Z"
   },
   {
    "duration": 147,
    "start_time": "2025-03-08T07:02:43.107Z"
   },
   {
    "duration": 158,
    "start_time": "2025-03-08T17:11:47.671Z"
   },
   {
    "duration": 2562,
    "start_time": "2025-03-08T17:12:00.230Z"
   },
   {
    "duration": 212,
    "start_time": "2025-03-08T17:12:02.794Z"
   },
   {
    "duration": 9,
    "start_time": "2025-03-08T17:12:03.008Z"
   },
   {
    "duration": 10,
    "start_time": "2025-03-08T17:12:03.020Z"
   },
   {
    "duration": 7,
    "start_time": "2025-03-08T17:12:03.032Z"
   },
   {
    "duration": 8,
    "start_time": "2025-03-08T17:12:03.041Z"
   },
   {
    "duration": 6,
    "start_time": "2025-03-08T17:12:03.051Z"
   },
   {
    "duration": 31,
    "start_time": "2025-03-08T17:12:03.059Z"
   },
   {
    "duration": 16,
    "start_time": "2025-03-08T17:12:03.092Z"
   },
   {
    "duration": 7,
    "start_time": "2025-03-08T17:12:03.111Z"
   },
   {
    "duration": 42,
    "start_time": "2025-03-08T17:12:03.120Z"
   },
   {
    "duration": 51,
    "start_time": "2025-03-08T17:12:03.164Z"
   },
   {
    "duration": 22,
    "start_time": "2025-03-08T17:12:03.216Z"
   },
   {
    "duration": 8,
    "start_time": "2025-03-08T17:12:03.240Z"
   },
   {
    "duration": 46,
    "start_time": "2025-03-08T17:12:03.249Z"
   },
   {
    "duration": 7,
    "start_time": "2025-03-08T17:12:03.296Z"
   },
   {
    "duration": 16,
    "start_time": "2025-03-08T17:12:03.305Z"
   },
   {
    "duration": 16,
    "start_time": "2025-03-08T17:12:03.324Z"
   },
   {
    "duration": 10,
    "start_time": "2025-03-08T17:12:03.341Z"
   },
   {
    "duration": 43,
    "start_time": "2025-03-08T17:12:03.353Z"
   },
   {
    "duration": 6,
    "start_time": "2025-03-08T17:12:03.398Z"
   },
   {
    "duration": 33,
    "start_time": "2025-03-08T17:12:03.406Z"
   },
   {
    "duration": 13,
    "start_time": "2025-03-08T17:12:03.441Z"
   },
   {
    "duration": 39,
    "start_time": "2025-03-08T17:12:03.456Z"
   },
   {
    "duration": 12,
    "start_time": "2025-03-08T17:12:03.497Z"
   },
   {
    "duration": 20,
    "start_time": "2025-03-08T17:12:03.511Z"
   },
   {
    "duration": 17,
    "start_time": "2025-03-08T17:12:03.532Z"
   },
   {
    "duration": 43,
    "start_time": "2025-03-08T17:12:03.554Z"
   },
   {
    "duration": 14,
    "start_time": "2025-03-08T17:12:03.599Z"
   },
   {
    "duration": 18,
    "start_time": "2025-03-08T17:12:03.615Z"
   },
   {
    "duration": 12,
    "start_time": "2025-03-08T17:12:03.635Z"
   },
   {
    "duration": 9,
    "start_time": "2025-03-08T17:12:03.649Z"
   },
   {
    "duration": 52,
    "start_time": "2025-03-08T17:12:03.687Z"
   },
   {
    "duration": 233,
    "start_time": "2025-03-08T17:12:03.741Z"
   },
   {
    "duration": 176,
    "start_time": "2025-03-08T17:12:03.976Z"
   },
   {
    "duration": 7,
    "start_time": "2025-03-08T17:12:04.154Z"
   },
   {
    "duration": 233,
    "start_time": "2025-03-08T17:12:04.163Z"
   },
   {
    "duration": 208,
    "start_time": "2025-03-08T17:12:04.398Z"
   },
   {
    "duration": 310,
    "start_time": "2025-03-08T17:12:04.608Z"
   },
   {
    "duration": 532,
    "start_time": "2025-03-08T17:12:04.920Z"
   },
   {
    "duration": 6,
    "start_time": "2025-03-08T17:12:05.453Z"
   },
   {
    "duration": 9,
    "start_time": "2025-03-08T17:12:05.461Z"
   },
   {
    "duration": 16,
    "start_time": "2025-03-08T17:12:05.472Z"
   },
   {
    "duration": 172,
    "start_time": "2025-03-08T17:18:40.510Z"
   },
   {
    "duration": 129,
    "start_time": "2025-03-08T17:19:26.722Z"
   },
   {
    "duration": 132,
    "start_time": "2025-03-08T17:22:07.796Z"
   },
   {
    "duration": 143,
    "start_time": "2025-03-08T17:22:53.142Z"
   },
   {
    "duration": 91,
    "start_time": "2025-03-08T17:23:57.541Z"
   },
   {
    "duration": 89,
    "start_time": "2025-03-08T17:24:04.854Z"
   },
   {
    "duration": 208,
    "start_time": "2025-03-08T17:24:32.263Z"
   },
   {
    "duration": 127,
    "start_time": "2025-03-08T17:28:12.617Z"
   },
   {
    "duration": 226,
    "start_time": "2025-03-08T17:29:26.097Z"
   },
   {
    "duration": 803,
    "start_time": "2025-03-08T17:35:56.687Z"
   },
   {
    "duration": 157,
    "start_time": "2025-03-08T17:35:57.492Z"
   },
   {
    "duration": 9,
    "start_time": "2025-03-08T17:35:57.650Z"
   },
   {
    "duration": 9,
    "start_time": "2025-03-08T17:35:57.662Z"
   },
   {
    "duration": 19,
    "start_time": "2025-03-08T17:35:57.673Z"
   },
   {
    "duration": 8,
    "start_time": "2025-03-08T17:35:57.694Z"
   },
   {
    "duration": 6,
    "start_time": "2025-03-08T17:35:57.703Z"
   },
   {
    "duration": 11,
    "start_time": "2025-03-08T17:35:57.710Z"
   },
   {
    "duration": 15,
    "start_time": "2025-03-08T17:35:57.723Z"
   },
   {
    "duration": 7,
    "start_time": "2025-03-08T17:35:57.742Z"
   },
   {
    "duration": 64,
    "start_time": "2025-03-08T17:35:57.751Z"
   },
   {
    "duration": 25,
    "start_time": "2025-03-08T17:35:57.817Z"
   },
   {
    "duration": 44,
    "start_time": "2025-03-08T17:35:57.844Z"
   },
   {
    "duration": 8,
    "start_time": "2025-03-08T17:35:57.890Z"
   },
   {
    "duration": 12,
    "start_time": "2025-03-08T17:35:57.899Z"
   },
   {
    "duration": 6,
    "start_time": "2025-03-08T17:35:57.912Z"
   },
   {
    "duration": 15,
    "start_time": "2025-03-08T17:35:57.920Z"
   },
   {
    "duration": 16,
    "start_time": "2025-03-08T17:35:57.936Z"
   },
   {
    "duration": 9,
    "start_time": "2025-03-08T17:35:57.986Z"
   },
   {
    "duration": 14,
    "start_time": "2025-03-08T17:35:57.996Z"
   },
   {
    "duration": 7,
    "start_time": "2025-03-08T17:35:58.011Z"
   },
   {
    "duration": 34,
    "start_time": "2025-03-08T17:35:58.021Z"
   },
   {
    "duration": 34,
    "start_time": "2025-03-08T17:35:58.057Z"
   },
   {
    "duration": 14,
    "start_time": "2025-03-08T17:35:58.093Z"
   },
   {
    "duration": 14,
    "start_time": "2025-03-08T17:35:58.108Z"
   },
   {
    "duration": 23,
    "start_time": "2025-03-08T17:35:58.125Z"
   },
   {
    "duration": 47,
    "start_time": "2025-03-08T17:35:58.149Z"
   },
   {
    "duration": 14,
    "start_time": "2025-03-08T17:35:58.200Z"
   },
   {
    "duration": 13,
    "start_time": "2025-03-08T17:35:58.216Z"
   },
   {
    "duration": 19,
    "start_time": "2025-03-08T17:35:58.231Z"
   },
   {
    "duration": 36,
    "start_time": "2025-03-08T17:35:58.251Z"
   },
   {
    "duration": 11,
    "start_time": "2025-03-08T17:35:58.289Z"
   },
   {
    "duration": 49,
    "start_time": "2025-03-08T17:35:58.301Z"
   },
   {
    "duration": 231,
    "start_time": "2025-03-08T17:35:58.352Z"
   },
   {
    "duration": 7,
    "start_time": "2025-03-08T17:35:58.587Z"
   },
   {
    "duration": 184,
    "start_time": "2025-03-08T17:35:58.595Z"
   },
   {
    "duration": 224,
    "start_time": "2025-03-08T17:35:58.781Z"
   },
   {
    "duration": 218,
    "start_time": "2025-03-08T17:35:59.007Z"
   },
   {
    "duration": 261,
    "start_time": "2025-03-08T17:35:59.227Z"
   },
   {
    "duration": 501,
    "start_time": "2025-03-08T17:35:59.490Z"
   },
   {
    "duration": 6,
    "start_time": "2025-03-08T17:35:59.993Z"
   },
   {
    "duration": 10,
    "start_time": "2025-03-08T17:36:00.001Z"
   },
   {
    "duration": 4,
    "start_time": "2025-03-08T17:36:00.013Z"
   },
   {
    "duration": 8,
    "start_time": "2025-03-08T17:38:39.569Z"
   },
   {
    "duration": 7,
    "start_time": "2025-03-08T17:39:32.154Z"
   },
   {
    "duration": 8,
    "start_time": "2025-03-08T17:40:16.957Z"
   },
   {
    "duration": 8,
    "start_time": "2025-03-08T17:40:26.243Z"
   },
   {
    "duration": 13,
    "start_time": "2025-03-08T17:40:51.088Z"
   },
   {
    "duration": 7,
    "start_time": "2025-03-08T17:44:20.582Z"
   },
   {
    "duration": 116,
    "start_time": "2025-03-08T17:46:32.544Z"
   },
   {
    "duration": 126,
    "start_time": "2025-03-08T17:47:01.508Z"
   },
   {
    "duration": 173,
    "start_time": "2025-03-08T17:47:18.428Z"
   },
   {
    "duration": 150,
    "start_time": "2025-03-08T17:48:39.660Z"
   },
   {
    "duration": 123,
    "start_time": "2025-03-08T17:48:47.952Z"
   },
   {
    "duration": 123,
    "start_time": "2025-03-08T17:50:47.169Z"
   },
   {
    "duration": 141,
    "start_time": "2025-03-08T17:51:04.812Z"
   },
   {
    "duration": 140,
    "start_time": "2025-03-08T17:51:46.982Z"
   },
   {
    "duration": 226,
    "start_time": "2025-03-08T17:53:12.974Z"
   },
   {
    "duration": 160,
    "start_time": "2025-03-08T17:54:02.958Z"
   },
   {
    "duration": 159,
    "start_time": "2025-03-08T17:54:47.436Z"
   },
   {
    "duration": 149,
    "start_time": "2025-03-08T17:56:41.111Z"
   },
   {
    "duration": 216,
    "start_time": "2025-03-08T17:57:02.196Z"
   },
   {
    "duration": 203,
    "start_time": "2025-03-08T17:59:43.229Z"
   },
   {
    "duration": 203,
    "start_time": "2025-03-08T17:59:57.903Z"
   },
   {
    "duration": 213,
    "start_time": "2025-03-08T18:00:11.388Z"
   },
   {
    "duration": 13,
    "start_time": "2025-03-08T18:14:09.409Z"
   },
   {
    "duration": 7,
    "start_time": "2025-03-08T18:15:23.308Z"
   },
   {
    "duration": 8,
    "start_time": "2025-03-08T18:16:15.076Z"
   },
   {
    "duration": 161,
    "start_time": "2025-03-08T18:17:24.077Z"
   },
   {
    "duration": 167,
    "start_time": "2025-03-08T18:17:47.580Z"
   },
   {
    "duration": 157,
    "start_time": "2025-03-08T18:17:59.506Z"
   },
   {
    "duration": 215,
    "start_time": "2025-03-08T18:19:43.306Z"
   },
   {
    "duration": 197,
    "start_time": "2025-03-08T18:23:02.385Z"
   },
   {
    "duration": 271,
    "start_time": "2025-03-08T18:23:35.201Z"
   },
   {
    "duration": 186,
    "start_time": "2025-03-08T18:23:46.048Z"
   },
   {
    "duration": 195,
    "start_time": "2025-03-08T18:23:56.654Z"
   },
   {
    "duration": 192,
    "start_time": "2025-03-08T18:24:06.062Z"
   },
   {
    "duration": 195,
    "start_time": "2025-03-08T18:24:14.173Z"
   },
   {
    "duration": 195,
    "start_time": "2025-03-08T18:24:21.765Z"
   },
   {
    "duration": 7,
    "start_time": "2025-03-08T18:33:17.735Z"
   },
   {
    "duration": 13,
    "start_time": "2025-03-08T18:36:44.034Z"
   },
   {
    "duration": 146,
    "start_time": "2025-03-08T18:37:31.031Z"
   },
   {
    "duration": 197,
    "start_time": "2025-03-08T18:38:52.346Z"
   },
   {
    "duration": 189,
    "start_time": "2025-03-08T18:38:58.407Z"
   },
   {
    "duration": 283,
    "start_time": "2025-03-08T18:39:04.698Z"
   },
   {
    "duration": 212,
    "start_time": "2025-03-08T18:39:16.431Z"
   },
   {
    "duration": 206,
    "start_time": "2025-03-08T18:39:25.000Z"
   },
   {
    "duration": 201,
    "start_time": "2025-03-08T18:39:31.588Z"
   },
   {
    "duration": 4,
    "start_time": "2025-03-08T19:16:19.325Z"
   },
   {
    "duration": 4,
    "start_time": "2025-03-08T19:23:56.473Z"
   },
   {
    "duration": 5,
    "start_time": "2025-03-08T19:29:54.941Z"
   },
   {
    "duration": 883,
    "start_time": "2025-03-08T19:54:01.022Z"
   },
   {
    "duration": 165,
    "start_time": "2025-03-08T19:54:01.907Z"
   },
   {
    "duration": 8,
    "start_time": "2025-03-08T19:54:02.074Z"
   },
   {
    "duration": 10,
    "start_time": "2025-03-08T19:54:02.085Z"
   },
   {
    "duration": 8,
    "start_time": "2025-03-08T19:54:02.106Z"
   },
   {
    "duration": 8,
    "start_time": "2025-03-08T19:54:02.117Z"
   },
   {
    "duration": 5,
    "start_time": "2025-03-08T19:54:02.126Z"
   },
   {
    "duration": 11,
    "start_time": "2025-03-08T19:54:02.133Z"
   },
   {
    "duration": 16,
    "start_time": "2025-03-08T19:54:02.146Z"
   },
   {
    "duration": 42,
    "start_time": "2025-03-08T19:54:02.165Z"
   },
   {
    "duration": 35,
    "start_time": "2025-03-08T19:54:02.209Z"
   },
   {
    "duration": 25,
    "start_time": "2025-03-08T19:54:02.246Z"
   },
   {
    "duration": 44,
    "start_time": "2025-03-08T19:54:02.273Z"
   },
   {
    "duration": 8,
    "start_time": "2025-03-08T19:54:02.318Z"
   },
   {
    "duration": 13,
    "start_time": "2025-03-08T19:54:02.328Z"
   },
   {
    "duration": 7,
    "start_time": "2025-03-08T19:54:02.342Z"
   },
   {
    "duration": 17,
    "start_time": "2025-03-08T19:54:02.351Z"
   },
   {
    "duration": 21,
    "start_time": "2025-03-08T19:54:02.405Z"
   },
   {
    "duration": 17,
    "start_time": "2025-03-08T19:54:02.430Z"
   },
   {
    "duration": 14,
    "start_time": "2025-03-08T19:54:02.449Z"
   },
   {
    "duration": 6,
    "start_time": "2025-03-08T19:54:02.465Z"
   },
   {
    "duration": 61,
    "start_time": "2025-03-08T19:54:02.473Z"
   },
   {
    "duration": 13,
    "start_time": "2025-03-08T19:54:02.535Z"
   },
   {
    "duration": 14,
    "start_time": "2025-03-08T19:54:02.550Z"
   },
   {
    "duration": 13,
    "start_time": "2025-03-08T19:54:02.566Z"
   },
   {
    "duration": 45,
    "start_time": "2025-03-08T19:54:02.581Z"
   },
   {
    "duration": 20,
    "start_time": "2025-03-08T19:54:02.628Z"
   },
   {
    "duration": 15,
    "start_time": "2025-03-08T19:54:02.654Z"
   },
   {
    "duration": 46,
    "start_time": "2025-03-08T19:54:02.670Z"
   },
   {
    "duration": 20,
    "start_time": "2025-03-08T19:54:02.719Z"
   },
   {
    "duration": 12,
    "start_time": "2025-03-08T19:54:02.741Z"
   },
   {
    "duration": 9,
    "start_time": "2025-03-08T19:54:02.755Z"
   },
   {
    "duration": 81,
    "start_time": "2025-03-08T19:54:02.766Z"
   },
   {
    "duration": 236,
    "start_time": "2025-03-08T19:54:02.849Z"
   },
   {
    "duration": 9,
    "start_time": "2025-03-08T19:54:03.087Z"
   },
   {
    "duration": 222,
    "start_time": "2025-03-08T19:54:03.106Z"
   },
   {
    "duration": 228,
    "start_time": "2025-03-08T19:54:03.330Z"
   },
   {
    "duration": 214,
    "start_time": "2025-03-08T19:54:03.560Z"
   },
   {
    "duration": 8,
    "start_time": "2025-03-08T19:54:03.775Z"
   },
   {
    "duration": 168,
    "start_time": "2025-03-08T19:54:03.785Z"
   },
   {
    "duration": 241,
    "start_time": "2025-03-08T19:54:03.955Z"
   },
   {
    "duration": 260,
    "start_time": "2025-03-08T19:54:04.198Z"
   },
   {
    "duration": 8,
    "start_time": "2025-03-08T19:54:04.460Z"
   },
   {
    "duration": 169,
    "start_time": "2025-03-08T19:54:04.470Z"
   },
   {
    "duration": 293,
    "start_time": "2025-03-08T19:54:04.641Z"
   },
   {
    "duration": 571,
    "start_time": "2025-03-08T19:54:04.936Z"
   },
   {
    "duration": 8,
    "start_time": "2025-03-08T19:54:05.509Z"
   },
   {
    "duration": 163,
    "start_time": "2025-03-08T19:54:05.519Z"
   },
   {
    "duration": 216,
    "start_time": "2025-03-08T19:54:05.684Z"
   },
   {
    "duration": 5,
    "start_time": "2025-03-08T19:54:05.901Z"
   },
   {
    "duration": 12,
    "start_time": "2025-03-08T19:54:05.908Z"
   },
   {
    "duration": 4,
    "start_time": "2025-03-08T19:54:05.922Z"
   }
  ],
  "kernelspec": {
   "display_name": "Python [conda env:base] *",
   "language": "python",
   "name": "conda-base-py"
  },
  "language_info": {
   "codemirror_mode": {
    "name": "ipython",
    "version": 3
   },
   "file_extension": ".py",
   "mimetype": "text/x-python",
   "name": "python",
   "nbconvert_exporter": "python",
   "pygments_lexer": "ipython3",
   "version": "3.12.7"
  },
  "toc": {
   "base_numbering": 1,
   "nav_menu": {},
   "number_sections": true,
   "sideBar": true,
   "skip_h1_title": false,
   "title_cell": "Table of Contents",
   "title_sidebar": "Contents",
   "toc_cell": false,
   "toc_position": {
    "height": "calc(100% - 180px)",
    "left": "10px",
    "top": "150px",
    "width": "330.594px"
   },
   "toc_section_display": true,
   "toc_window_display": true
  }
 },
 "nbformat": 4,
 "nbformat_minor": 4
}
